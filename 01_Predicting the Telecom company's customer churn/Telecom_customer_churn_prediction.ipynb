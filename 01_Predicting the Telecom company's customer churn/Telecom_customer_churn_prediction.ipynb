{
 "cells": [
  {
   "cell_type": "markdown",
   "id": "59b9af35",
   "metadata": {
    "toc": true
   },
   "source": [
    "<h1>Contents<span class=\"tocSkip\"></span></h1>\n",
    "<div class=\"toc\"><ul class=\"toc-item\"><li><span><a href=\"#Loading-and-stadying-data\" data-toc-modified-id=\"Loading-and-stadying-data-1\"><span class=\"toc-item-num\">1&nbsp;&nbsp;</span>Loading and stadying data</a></span></li><li><span><a href=\"#Data-preprocessing\" data-toc-modified-id=\"Data-preprocessing-2\"><span class=\"toc-item-num\">2&nbsp;&nbsp;</span>Data preprocessing</a></span><ul class=\"toc-item\"><li><span><a href=\"#Merging-tables\" data-toc-modified-id=\"Merging-tables-2.1\"><span class=\"toc-item-num\">2.1&nbsp;&nbsp;</span>Merging tables</a></span></li><li><span><a href=\"#Correcting-the-style-of-the-column-names\" data-toc-modified-id=\"Correcting-the-style-of-the-column-names-2.2\"><span class=\"toc-item-num\">2.2&nbsp;&nbsp;</span>Correcting the style of the column names</a></span></li><li><span><a href=\"#Changing-data-types\" data-toc-modified-id=\"Changing-data-types-2.3\"><span class=\"toc-item-num\">2.3&nbsp;&nbsp;</span>Changing data types</a></span></li><li><span><a href=\"#Filling-in-the-missing-values\" data-toc-modified-id=\"Filling-in-the-missing-values-2.4\"><span class=\"toc-item-num\">2.4&nbsp;&nbsp;</span>Filling in the missing values</a></span></li><li><span><a href=\"#Adding-features\" data-toc-modified-id=\"Adding-features-2.5\"><span class=\"toc-item-num\">2.5&nbsp;&nbsp;</span>Adding features</a></span></li></ul></li><li><span><a href=\"#Exploratory-data-analysis\" data-toc-modified-id=\"Exploratory-data-analysis-3\"><span class=\"toc-item-num\">3&nbsp;&nbsp;</span>Exploratory data analysis</a></span><ul class=\"toc-item\"><li><span><a href=\"#Distribution-of-features-by-target-feature\" data-toc-modified-id=\"Distribution-of-features-by-target-feature-3.1\"><span class=\"toc-item-num\">3.1&nbsp;&nbsp;</span>Distribution of features by target feature</a></span></li><li><span><a href=\"#Analysis-of-the-duration-of-cooperation\" data-toc-modified-id=\"Analysis-of-the-duration-of-cooperation-3.2\"><span class=\"toc-item-num\">3.2&nbsp;&nbsp;</span>Analysis of the duration of cooperation</a></span></li><li><span><a href=\"#Analysis-of-the-amount-of-monthly-payments\" data-toc-modified-id=\"Analysis-of-the-amount-of-monthly-payments-3.3\"><span class=\"toc-item-num\">3.3&nbsp;&nbsp;</span>Analysis of the amount of monthly payments</a></span></li><li><span><a href=\"#Analysis-of-the-dynamics-of-attracting-new-customers\" data-toc-modified-id=\"Analysis-of-the-dynamics-of-attracting-new-customers-3.4\"><span class=\"toc-item-num\">3.4&nbsp;&nbsp;</span>Analysis of the dynamics of attracting new customers</a></span></li><li><span><a href=\"#Correlation-analysis-between-features\" data-toc-modified-id=\"Correlation-analysis-between-features-3.5\"><span class=\"toc-item-num\">3.5&nbsp;&nbsp;</span>Correlation analysis between features</a></span></li></ul></li><li><span><a href=\"#Data-preparation\" data-toc-modified-id=\"Data-preparation-4\"><span class=\"toc-item-num\">4&nbsp;&nbsp;</span>Data preparation</a></span></li><li><span><a href=\"#Models-training\" data-toc-modified-id=\"Models-training-5\"><span class=\"toc-item-num\">5&nbsp;&nbsp;</span>Models training</a></span><ul class=\"toc-item\"><li><span><a href=\"#Logistic-Regression\" data-toc-modified-id=\"Logistic-Regression-5.1\"><span class=\"toc-item-num\">5.1&nbsp;&nbsp;</span>Logistic Regression</a></span></li><li><span><a href=\"#Random-Forest-Classifier\" data-toc-modified-id=\"Random-Forest-Classifier-5.2\"><span class=\"toc-item-num\">5.2&nbsp;&nbsp;</span>Random Forest Classifier</a></span></li><li><span><a href=\"#Catboost\" data-toc-modified-id=\"Catboost-5.3\"><span class=\"toc-item-num\">5.3&nbsp;&nbsp;</span>Catboost</a></span></li><li><span><a href=\"#LightGBM\" data-toc-modified-id=\"LightGBM-5.4\"><span class=\"toc-item-num\">5.4&nbsp;&nbsp;</span>LightGBM</a></span></li></ul></li><li><span><a href=\"#Model-testing\" data-toc-modified-id=\"Model-testing-6\"><span class=\"toc-item-num\">6&nbsp;&nbsp;</span>Model testing</a></span></li><li><span><a href=\"#Overall-conclusion\" data-toc-modified-id=\"Overall-conclusion-7\"><span class=\"toc-item-num\">7&nbsp;&nbsp;</span>Overall conclusion</a></span></li><li><span><a href=\"#Project-Report\" data-toc-modified-id=\"Project-Report-8\"><span class=\"toc-item-num\">8&nbsp;&nbsp;</span>Project Report</a></span></li></ul></div>"
   ]
  },
  {
   "cell_type": "markdown",
   "id": "e51baaf9",
   "metadata": {},
   "source": [
    "# Predicting customer churn"
   ]
  },
  {
   "cell_type": "markdown",
   "id": "d17469d2",
   "metadata": {},
   "source": [
    "Telecom operator wants to learn how to predict customer churn. If it turns out that a user is planning to leave, they will be offered promo codes and special offers. The operator's team has collected personal data on some customers, information about their tariffs and contracts.\n",
    "\n",
    "**Service description**.\n",
    "\n",
    "The operator provides two main types of services: \n",
    "\n",
    "1. Fixed telephony. It is possible to connect the telephone set to several lines simultaneously.\n",
    "2. the Internet. There are two types of connection: via telephone line (*DSL, digital subscriber line*) or fiber optic cable (*Fiber optic*).  \n",
    "\n",
    "Other services are also available:\n",
    "\n",
    "- Internet security: anti-virus (*DeviceProtection*) and blocking of unsafe sites (*OnlineSecurity*);\n",
    "- Dedicated technical support line (*TechSupport*);\n",
    "- Cloud-based file storage for data backup (*OnlineBackup*);\n",
    "- Streaming TV (*StreamingTV*) and film catalogue (*StreamingMovies*).\n",
    "\n",
    "Customers can pay for the services every month or sign a 1-2 year contract. Various methods of payment and an electronic cheque facility are available.\n",
    "\n",
    "**Data description**.\n",
    "\n",
    "The data consists of files obtained from various sources:\n",
    "\n",
    "- `contract.csv` - information about the contract;\n",
    "- `personal.csv` - personal data of the customer;\n",
    "- `internet.csv` - information about Internet services;\n",
    "- `phone.csv` - information on telephony services.\n",
    "\n",
    "In all files `customerID` column contains customer code.\n",
    "\n",
    "The information about the contracts is up to date as of February 1, 2020."
   ]
  },
  {
   "cell_type": "code",
   "execution_count": 1,
   "id": "453ec693",
   "metadata": {},
   "outputs": [],
   "source": [
    "# importing required libraries and modules\n",
    "\n",
    "import pandas as pd\n",
    "import matplotlib.pyplot as plt \n",
    "import seaborn as sns\n",
    "import phik\n",
    "import re\n",
    "import warnings\n",
    "warnings.filterwarnings('ignore')\n",
    "\n",
    "from catboost import CatBoostClassifier\n",
    "from lightgbm import LGBMClassifier\n",
    "from sklearn.ensemble import RandomForestClassifier\n",
    "from sklearn.linear_model import LogisticRegression\n",
    "from sklearn.metrics import accuracy_score, f1_score, roc_auc_score, roc_curve\n",
    "from sklearn.metrics import confusion_matrix\n",
    "from sklearn.metrics import classification_report\n",
    "from sklearn.model_selection import GridSearchCV, train_test_split\n",
    "from sklearn.preprocessing import OneHotEncoder, OrdinalEncoder, StandardScaler"
   ]
  },
  {
   "cell_type": "markdown",
   "id": "518a4652",
   "metadata": {},
   "source": [
    "## Loading and stadying data"
   ]
  },
  {
   "cell_type": "markdown",
   "id": "9c3dd390",
   "metadata": {},
   "source": [
    "The data consists of files obtained from different sources:\n",
    "\n",
    "- `contract.csv` - contract information;\n",
    "- `personal.csv` - personal data of the customer;\n",
    "- `internet.csv` - information about Internet services;\n",
    "- `phone.csv` - information on telephony services.\n",
    "\n",
    "Let's read the data of the source files into the corresponding variables."
   ]
  },
  {
   "cell_type": "code",
   "execution_count": 2,
   "id": "97ea531e",
   "metadata": {},
   "outputs": [],
   "source": [
    "try:\n",
    "    contract = pd.read_csv('final_provider/contract.csv')\n",
    "    personal = pd.read_csv('final_provider/personal.csv')\n",
    "    internet = pd.read_csv('final_provider/internet.csv')\n",
    "    phone = pd.read_csv('final_provider/phone.csv')\n",
    "    \n",
    "except FileNotFoundError:\n",
    "    contract = pd.read_csv('/datasets/final_provider/contract.csv')\n",
    "    personal = pd.read_csv('/datasets/final_provider/personal.csv')\n",
    "    internet = pd.read_csv('/datasets/final_provider/internet.csv')\n",
    "    phone = pd.read_csv('/datasets/final_provider/phone.csv')"
   ]
  },
  {
   "cell_type": "markdown",
   "id": "d5273542",
   "metadata": {},
   "source": [
    "Get the functions ready for an overview of the data in the source dataframes."
   ]
  },
  {
   "cell_type": "code",
   "execution_count": 3,
   "id": "37668383",
   "metadata": {},
   "outputs": [],
   "source": [
    "# defining the function for overview the dataframe general info\n",
    "\n",
    "def overlook(df):\n",
    "    display(df.sample(10))\n",
    "    print('-----------------------------------')\n",
    "    df.info()\n",
    "    print('\\n-----------------------------------\\nКоличество и доля пропусков:')\n",
    "    display(df.isna().agg(['sum', 'mean']))\n",
    "    print('\\n-----------------------------------\\nКоличество явных дубликатов:', df.duplicated().sum())\n",
    "    \n",
    "# defining the function to overview descriptive statistics and values by dataframe columns\n",
    "\n",
    "def describe(df):\n",
    "    display(df.describe(include='all'))\n",
    "    \n",
    "    for column in df.columns:\n",
    "        print(f'-----------------------\\nСтолбец: {column}')\n",
    "        display(df[column].value_counts().sort_index())\n",
    "    "
   ]
  },
  {
   "cell_type": "markdown",
   "id": "86056934",
   "metadata": {},
   "source": [
    "**>> contract info**"
   ]
  },
  {
   "cell_type": "code",
   "execution_count": 4,
   "id": "88b54fd2",
   "metadata": {},
   "outputs": [
    {
     "data": {
      "text/html": [
       "<div>\n",
       "<style scoped>\n",
       "    .dataframe tbody tr th:only-of-type {\n",
       "        vertical-align: middle;\n",
       "    }\n",
       "\n",
       "    .dataframe tbody tr th {\n",
       "        vertical-align: top;\n",
       "    }\n",
       "\n",
       "    .dataframe thead th {\n",
       "        text-align: right;\n",
       "    }\n",
       "</style>\n",
       "<table border=\"1\" class=\"dataframe\">\n",
       "  <thead>\n",
       "    <tr style=\"text-align: right;\">\n",
       "      <th></th>\n",
       "      <th>customerID</th>\n",
       "      <th>BeginDate</th>\n",
       "      <th>EndDate</th>\n",
       "      <th>Type</th>\n",
       "      <th>PaperlessBilling</th>\n",
       "      <th>PaymentMethod</th>\n",
       "      <th>MonthlyCharges</th>\n",
       "      <th>TotalCharges</th>\n",
       "    </tr>\n",
       "  </thead>\n",
       "  <tbody>\n",
       "    <tr>\n",
       "      <th>3921</th>\n",
       "      <td>7964-YESJC</td>\n",
       "      <td>2018-02-01</td>\n",
       "      <td>No</td>\n",
       "      <td>Month-to-month</td>\n",
       "      <td>No</td>\n",
       "      <td>Mailed check</td>\n",
       "      <td>66.30</td>\n",
       "      <td>1559.45</td>\n",
       "    </tr>\n",
       "    <tr>\n",
       "      <th>4816</th>\n",
       "      <td>5906-DVAPM</td>\n",
       "      <td>2015-07-01</td>\n",
       "      <td>No</td>\n",
       "      <td>One year</td>\n",
       "      <td>Yes</td>\n",
       "      <td>Credit card (automatic)</td>\n",
       "      <td>75.00</td>\n",
       "      <td>4213.9</td>\n",
       "    </tr>\n",
       "    <tr>\n",
       "      <th>2114</th>\n",
       "      <td>7707-PYBBH</td>\n",
       "      <td>2016-10-01</td>\n",
       "      <td>No</td>\n",
       "      <td>Month-to-month</td>\n",
       "      <td>Yes</td>\n",
       "      <td>Mailed check</td>\n",
       "      <td>61.90</td>\n",
       "      <td>2647.1</td>\n",
       "    </tr>\n",
       "    <tr>\n",
       "      <th>455</th>\n",
       "      <td>8313-NDOIA</td>\n",
       "      <td>2018-02-01</td>\n",
       "      <td>No</td>\n",
       "      <td>Month-to-month</td>\n",
       "      <td>Yes</td>\n",
       "      <td>Electronic check</td>\n",
       "      <td>104.15</td>\n",
       "      <td>2494.65</td>\n",
       "    </tr>\n",
       "    <tr>\n",
       "      <th>3986</th>\n",
       "      <td>6242-FEGFD</td>\n",
       "      <td>2014-08-01</td>\n",
       "      <td>No</td>\n",
       "      <td>Two year</td>\n",
       "      <td>No</td>\n",
       "      <td>Mailed check</td>\n",
       "      <td>96.60</td>\n",
       "      <td>6424.25</td>\n",
       "    </tr>\n",
       "    <tr>\n",
       "      <th>7009</th>\n",
       "      <td>7703-ZEKEF</td>\n",
       "      <td>2017-11-01</td>\n",
       "      <td>2019-10-01 00:00:00</td>\n",
       "      <td>Month-to-month</td>\n",
       "      <td>Yes</td>\n",
       "      <td>Electronic check</td>\n",
       "      <td>81.00</td>\n",
       "      <td>1917.1</td>\n",
       "    </tr>\n",
       "    <tr>\n",
       "      <th>1202</th>\n",
       "      <td>3927-NLNRY</td>\n",
       "      <td>2015-07-01</td>\n",
       "      <td>2019-12-01 00:00:00</td>\n",
       "      <td>One year</td>\n",
       "      <td>Yes</td>\n",
       "      <td>Bank transfer (automatic)</td>\n",
       "      <td>94.25</td>\n",
       "      <td>4867.95</td>\n",
       "    </tr>\n",
       "    <tr>\n",
       "      <th>2848</th>\n",
       "      <td>7508-KBIMB</td>\n",
       "      <td>2018-02-01</td>\n",
       "      <td>No</td>\n",
       "      <td>One year</td>\n",
       "      <td>Yes</td>\n",
       "      <td>Credit card (automatic)</td>\n",
       "      <td>56.25</td>\n",
       "      <td>1454.25</td>\n",
       "    </tr>\n",
       "    <tr>\n",
       "      <th>3995</th>\n",
       "      <td>0618-XWMSS</td>\n",
       "      <td>2017-09-01</td>\n",
       "      <td>2020-01-01 00:00:00</td>\n",
       "      <td>Month-to-month</td>\n",
       "      <td>Yes</td>\n",
       "      <td>Bank transfer (automatic)</td>\n",
       "      <td>74.90</td>\n",
       "      <td>2068.55</td>\n",
       "    </tr>\n",
       "    <tr>\n",
       "      <th>6051</th>\n",
       "      <td>4079-ULGFR</td>\n",
       "      <td>2018-10-01</td>\n",
       "      <td>No</td>\n",
       "      <td>Month-to-month</td>\n",
       "      <td>No</td>\n",
       "      <td>Mailed check</td>\n",
       "      <td>20.00</td>\n",
       "      <td>275.7</td>\n",
       "    </tr>\n",
       "  </tbody>\n",
       "</table>\n",
       "</div>"
      ],
      "text/plain": [
       "      customerID   BeginDate              EndDate            Type  \\\n",
       "3921  7964-YESJC  2018-02-01                   No  Month-to-month   \n",
       "4816  5906-DVAPM  2015-07-01                   No        One year   \n",
       "2114  7707-PYBBH  2016-10-01                   No  Month-to-month   \n",
       "455   8313-NDOIA  2018-02-01                   No  Month-to-month   \n",
       "3986  6242-FEGFD  2014-08-01                   No        Two year   \n",
       "7009  7703-ZEKEF  2017-11-01  2019-10-01 00:00:00  Month-to-month   \n",
       "1202  3927-NLNRY  2015-07-01  2019-12-01 00:00:00        One year   \n",
       "2848  7508-KBIMB  2018-02-01                   No        One year   \n",
       "3995  0618-XWMSS  2017-09-01  2020-01-01 00:00:00  Month-to-month   \n",
       "6051  4079-ULGFR  2018-10-01                   No  Month-to-month   \n",
       "\n",
       "     PaperlessBilling              PaymentMethod  MonthlyCharges TotalCharges  \n",
       "3921               No               Mailed check           66.30      1559.45  \n",
       "4816              Yes    Credit card (automatic)           75.00       4213.9  \n",
       "2114              Yes               Mailed check           61.90       2647.1  \n",
       "455               Yes           Electronic check          104.15      2494.65  \n",
       "3986               No               Mailed check           96.60      6424.25  \n",
       "7009              Yes           Electronic check           81.00       1917.1  \n",
       "1202              Yes  Bank transfer (automatic)           94.25      4867.95  \n",
       "2848              Yes    Credit card (automatic)           56.25      1454.25  \n",
       "3995              Yes  Bank transfer (automatic)           74.90      2068.55  \n",
       "6051               No               Mailed check           20.00        275.7  "
      ]
     },
     "metadata": {},
     "output_type": "display_data"
    },
    {
     "name": "stdout",
     "output_type": "stream",
     "text": [
      "-----------------------------------\n",
      "<class 'pandas.core.frame.DataFrame'>\n",
      "RangeIndex: 7043 entries, 0 to 7042\n",
      "Data columns (total 8 columns):\n",
      " #   Column            Non-Null Count  Dtype  \n",
      "---  ------            --------------  -----  \n",
      " 0   customerID        7043 non-null   object \n",
      " 1   BeginDate         7043 non-null   object \n",
      " 2   EndDate           7043 non-null   object \n",
      " 3   Type              7043 non-null   object \n",
      " 4   PaperlessBilling  7043 non-null   object \n",
      " 5   PaymentMethod     7043 non-null   object \n",
      " 6   MonthlyCharges    7043 non-null   float64\n",
      " 7   TotalCharges      7043 non-null   object \n",
      "dtypes: float64(1), object(7)\n",
      "memory usage: 440.3+ KB\n",
      "\n",
      "-----------------------------------\n",
      "Количество и доля пропусков:\n"
     ]
    },
    {
     "data": {
      "text/html": [
       "<div>\n",
       "<style scoped>\n",
       "    .dataframe tbody tr th:only-of-type {\n",
       "        vertical-align: middle;\n",
       "    }\n",
       "\n",
       "    .dataframe tbody tr th {\n",
       "        vertical-align: top;\n",
       "    }\n",
       "\n",
       "    .dataframe thead th {\n",
       "        text-align: right;\n",
       "    }\n",
       "</style>\n",
       "<table border=\"1\" class=\"dataframe\">\n",
       "  <thead>\n",
       "    <tr style=\"text-align: right;\">\n",
       "      <th></th>\n",
       "      <th>customerID</th>\n",
       "      <th>BeginDate</th>\n",
       "      <th>EndDate</th>\n",
       "      <th>Type</th>\n",
       "      <th>PaperlessBilling</th>\n",
       "      <th>PaymentMethod</th>\n",
       "      <th>MonthlyCharges</th>\n",
       "      <th>TotalCharges</th>\n",
       "    </tr>\n",
       "  </thead>\n",
       "  <tbody>\n",
       "    <tr>\n",
       "      <th>sum</th>\n",
       "      <td>0.0</td>\n",
       "      <td>0.0</td>\n",
       "      <td>0.0</td>\n",
       "      <td>0.0</td>\n",
       "      <td>0.0</td>\n",
       "      <td>0.0</td>\n",
       "      <td>0.0</td>\n",
       "      <td>0.0</td>\n",
       "    </tr>\n",
       "    <tr>\n",
       "      <th>mean</th>\n",
       "      <td>0.0</td>\n",
       "      <td>0.0</td>\n",
       "      <td>0.0</td>\n",
       "      <td>0.0</td>\n",
       "      <td>0.0</td>\n",
       "      <td>0.0</td>\n",
       "      <td>0.0</td>\n",
       "      <td>0.0</td>\n",
       "    </tr>\n",
       "  </tbody>\n",
       "</table>\n",
       "</div>"
      ],
      "text/plain": [
       "      customerID  BeginDate  EndDate  Type  PaperlessBilling  PaymentMethod  \\\n",
       "sum          0.0        0.0      0.0   0.0               0.0            0.0   \n",
       "mean         0.0        0.0      0.0   0.0               0.0            0.0   \n",
       "\n",
       "      MonthlyCharges  TotalCharges  \n",
       "sum              0.0           0.0  \n",
       "mean             0.0           0.0  "
      ]
     },
     "metadata": {},
     "output_type": "display_data"
    },
    {
     "name": "stdout",
     "output_type": "stream",
     "text": [
      "\n",
      "-----------------------------------\n",
      "Количество явных дубликатов: 0\n"
     ]
    }
   ],
   "source": [
    "overlook(contract)"
   ]
  },
  {
   "cell_type": "markdown",
   "id": "737819e1",
   "metadata": {},
   "source": [
    "The table contains information on the parameters of customer contracts and contains 7,043 records. \n",
    "\n",
    "The contract parameters provided are: start and end date, contract type, attribute of paperless (electronic) billing, payment method, monthly and total amount of payment for the services consumed.\n",
    "\n",
    "The data type in the `BeginDate`, `EndDate` and `TotalCharges` columns will need to be changed to a data type that corresponds to the logic of the data presented in them, i.e. `datetime` for dates and `float` for total charges respectively.\n",
    "\n",
    "No missing values or explicit duplicates have been detected in the data."
   ]
  },
  {
   "cell_type": "code",
   "execution_count": 5,
   "id": "a59e6649",
   "metadata": {},
   "outputs": [
    {
     "data": {
      "text/html": [
       "<div>\n",
       "<style scoped>\n",
       "    .dataframe tbody tr th:only-of-type {\n",
       "        vertical-align: middle;\n",
       "    }\n",
       "\n",
       "    .dataframe tbody tr th {\n",
       "        vertical-align: top;\n",
       "    }\n",
       "\n",
       "    .dataframe thead th {\n",
       "        text-align: right;\n",
       "    }\n",
       "</style>\n",
       "<table border=\"1\" class=\"dataframe\">\n",
       "  <thead>\n",
       "    <tr style=\"text-align: right;\">\n",
       "      <th></th>\n",
       "      <th>customerID</th>\n",
       "      <th>BeginDate</th>\n",
       "      <th>EndDate</th>\n",
       "      <th>Type</th>\n",
       "      <th>PaperlessBilling</th>\n",
       "      <th>PaymentMethod</th>\n",
       "      <th>MonthlyCharges</th>\n",
       "      <th>TotalCharges</th>\n",
       "    </tr>\n",
       "  </thead>\n",
       "  <tbody>\n",
       "    <tr>\n",
       "      <th>count</th>\n",
       "      <td>7043</td>\n",
       "      <td>7043</td>\n",
       "      <td>7043</td>\n",
       "      <td>7043</td>\n",
       "      <td>7043</td>\n",
       "      <td>7043</td>\n",
       "      <td>7043.000000</td>\n",
       "      <td>7043</td>\n",
       "    </tr>\n",
       "    <tr>\n",
       "      <th>unique</th>\n",
       "      <td>7043</td>\n",
       "      <td>77</td>\n",
       "      <td>5</td>\n",
       "      <td>3</td>\n",
       "      <td>2</td>\n",
       "      <td>4</td>\n",
       "      <td>NaN</td>\n",
       "      <td>6531</td>\n",
       "    </tr>\n",
       "    <tr>\n",
       "      <th>top</th>\n",
       "      <td>7590-VHVEG</td>\n",
       "      <td>2014-02-01</td>\n",
       "      <td>No</td>\n",
       "      <td>Month-to-month</td>\n",
       "      <td>Yes</td>\n",
       "      <td>Electronic check</td>\n",
       "      <td>NaN</td>\n",
       "      <td></td>\n",
       "    </tr>\n",
       "    <tr>\n",
       "      <th>freq</th>\n",
       "      <td>1</td>\n",
       "      <td>366</td>\n",
       "      <td>5174</td>\n",
       "      <td>3875</td>\n",
       "      <td>4171</td>\n",
       "      <td>2365</td>\n",
       "      <td>NaN</td>\n",
       "      <td>11</td>\n",
       "    </tr>\n",
       "    <tr>\n",
       "      <th>mean</th>\n",
       "      <td>NaN</td>\n",
       "      <td>NaN</td>\n",
       "      <td>NaN</td>\n",
       "      <td>NaN</td>\n",
       "      <td>NaN</td>\n",
       "      <td>NaN</td>\n",
       "      <td>64.761692</td>\n",
       "      <td>NaN</td>\n",
       "    </tr>\n",
       "    <tr>\n",
       "      <th>std</th>\n",
       "      <td>NaN</td>\n",
       "      <td>NaN</td>\n",
       "      <td>NaN</td>\n",
       "      <td>NaN</td>\n",
       "      <td>NaN</td>\n",
       "      <td>NaN</td>\n",
       "      <td>30.090047</td>\n",
       "      <td>NaN</td>\n",
       "    </tr>\n",
       "    <tr>\n",
       "      <th>min</th>\n",
       "      <td>NaN</td>\n",
       "      <td>NaN</td>\n",
       "      <td>NaN</td>\n",
       "      <td>NaN</td>\n",
       "      <td>NaN</td>\n",
       "      <td>NaN</td>\n",
       "      <td>18.250000</td>\n",
       "      <td>NaN</td>\n",
       "    </tr>\n",
       "    <tr>\n",
       "      <th>25%</th>\n",
       "      <td>NaN</td>\n",
       "      <td>NaN</td>\n",
       "      <td>NaN</td>\n",
       "      <td>NaN</td>\n",
       "      <td>NaN</td>\n",
       "      <td>NaN</td>\n",
       "      <td>35.500000</td>\n",
       "      <td>NaN</td>\n",
       "    </tr>\n",
       "    <tr>\n",
       "      <th>50%</th>\n",
       "      <td>NaN</td>\n",
       "      <td>NaN</td>\n",
       "      <td>NaN</td>\n",
       "      <td>NaN</td>\n",
       "      <td>NaN</td>\n",
       "      <td>NaN</td>\n",
       "      <td>70.350000</td>\n",
       "      <td>NaN</td>\n",
       "    </tr>\n",
       "    <tr>\n",
       "      <th>75%</th>\n",
       "      <td>NaN</td>\n",
       "      <td>NaN</td>\n",
       "      <td>NaN</td>\n",
       "      <td>NaN</td>\n",
       "      <td>NaN</td>\n",
       "      <td>NaN</td>\n",
       "      <td>89.850000</td>\n",
       "      <td>NaN</td>\n",
       "    </tr>\n",
       "    <tr>\n",
       "      <th>max</th>\n",
       "      <td>NaN</td>\n",
       "      <td>NaN</td>\n",
       "      <td>NaN</td>\n",
       "      <td>NaN</td>\n",
       "      <td>NaN</td>\n",
       "      <td>NaN</td>\n",
       "      <td>118.750000</td>\n",
       "      <td>NaN</td>\n",
       "    </tr>\n",
       "  </tbody>\n",
       "</table>\n",
       "</div>"
      ],
      "text/plain": [
       "        customerID   BeginDate EndDate            Type PaperlessBilling  \\\n",
       "count         7043        7043    7043            7043             7043   \n",
       "unique        7043          77       5               3                2   \n",
       "top     7590-VHVEG  2014-02-01      No  Month-to-month              Yes   \n",
       "freq             1         366    5174            3875             4171   \n",
       "mean           NaN         NaN     NaN             NaN              NaN   \n",
       "std            NaN         NaN     NaN             NaN              NaN   \n",
       "min            NaN         NaN     NaN             NaN              NaN   \n",
       "25%            NaN         NaN     NaN             NaN              NaN   \n",
       "50%            NaN         NaN     NaN             NaN              NaN   \n",
       "75%            NaN         NaN     NaN             NaN              NaN   \n",
       "max            NaN         NaN     NaN             NaN              NaN   \n",
       "\n",
       "           PaymentMethod  MonthlyCharges TotalCharges  \n",
       "count               7043     7043.000000         7043  \n",
       "unique                 4             NaN         6531  \n",
       "top     Electronic check             NaN               \n",
       "freq                2365             NaN           11  \n",
       "mean                 NaN       64.761692          NaN  \n",
       "std                  NaN       30.090047          NaN  \n",
       "min                  NaN       18.250000          NaN  \n",
       "25%                  NaN       35.500000          NaN  \n",
       "50%                  NaN       70.350000          NaN  \n",
       "75%                  NaN       89.850000          NaN  \n",
       "max                  NaN      118.750000          NaN  "
      ]
     },
     "metadata": {},
     "output_type": "display_data"
    },
    {
     "name": "stdout",
     "output_type": "stream",
     "text": [
      "-----------------------\n",
      "Столбец: customerID\n"
     ]
    },
    {
     "data": {
      "text/plain": [
       "0002-ORFBO    1\n",
       "0003-MKNFE    1\n",
       "0004-TLHLJ    1\n",
       "0011-IGKFF    1\n",
       "0013-EXCHZ    1\n",
       "             ..\n",
       "9987-LUTYD    1\n",
       "9992-RRAMN    1\n",
       "9992-UJOEL    1\n",
       "9993-LHIEB    1\n",
       "9995-HOTOH    1\n",
       "Name: customerID, Length: 7043, dtype: int64"
      ]
     },
     "metadata": {},
     "output_type": "display_data"
    },
    {
     "name": "stdout",
     "output_type": "stream",
     "text": [
      "-----------------------\n",
      "Столбец: BeginDate\n"
     ]
    },
    {
     "data": {
      "text/plain": [
       "2013-10-01      3\n",
       "2013-11-01      2\n",
       "2013-12-01      3\n",
       "2014-01-01      7\n",
       "2014-02-01    366\n",
       "             ... \n",
       "2019-10-01    237\n",
       "2019-11-01    237\n",
       "2019-12-01    220\n",
       "2020-01-01    233\n",
       "2020-02-01     11\n",
       "Name: BeginDate, Length: 77, dtype: int64"
      ]
     },
     "metadata": {},
     "output_type": "display_data"
    },
    {
     "name": "stdout",
     "output_type": "stream",
     "text": [
      "-----------------------\n",
      "Столбец: EndDate\n"
     ]
    },
    {
     "data": {
      "text/plain": [
       "2019-10-01 00:00:00     458\n",
       "2019-11-01 00:00:00     485\n",
       "2019-12-01 00:00:00     466\n",
       "2020-01-01 00:00:00     460\n",
       "No                     5174\n",
       "Name: EndDate, dtype: int64"
      ]
     },
     "metadata": {},
     "output_type": "display_data"
    },
    {
     "name": "stdout",
     "output_type": "stream",
     "text": [
      "-----------------------\n",
      "Столбец: Type\n"
     ]
    },
    {
     "data": {
      "text/plain": [
       "Month-to-month    3875\n",
       "One year          1473\n",
       "Two year          1695\n",
       "Name: Type, dtype: int64"
      ]
     },
     "metadata": {},
     "output_type": "display_data"
    },
    {
     "name": "stdout",
     "output_type": "stream",
     "text": [
      "-----------------------\n",
      "Столбец: PaperlessBilling\n"
     ]
    },
    {
     "data": {
      "text/plain": [
       "No     2872\n",
       "Yes    4171\n",
       "Name: PaperlessBilling, dtype: int64"
      ]
     },
     "metadata": {},
     "output_type": "display_data"
    },
    {
     "name": "stdout",
     "output_type": "stream",
     "text": [
      "-----------------------\n",
      "Столбец: PaymentMethod\n"
     ]
    },
    {
     "data": {
      "text/plain": [
       "Bank transfer (automatic)    1544\n",
       "Credit card (automatic)      1522\n",
       "Electronic check             2365\n",
       "Mailed check                 1612\n",
       "Name: PaymentMethod, dtype: int64"
      ]
     },
     "metadata": {},
     "output_type": "display_data"
    },
    {
     "name": "stdout",
     "output_type": "stream",
     "text": [
      "-----------------------\n",
      "Столбец: MonthlyCharges\n"
     ]
    },
    {
     "data": {
      "text/plain": [
       "18.25     1\n",
       "18.40     1\n",
       "18.55     1\n",
       "18.70     2\n",
       "18.75     1\n",
       "         ..\n",
       "118.20    1\n",
       "118.35    1\n",
       "118.60    2\n",
       "118.65    1\n",
       "118.75    1\n",
       "Name: MonthlyCharges, Length: 1585, dtype: int64"
      ]
     },
     "metadata": {},
     "output_type": "display_data"
    },
    {
     "name": "stdout",
     "output_type": "stream",
     "text": [
      "-----------------------\n",
      "Столбец: TotalCharges\n"
     ]
    },
    {
     "data": {
      "text/plain": [
       "          11\n",
       "100.2      1\n",
       "100.25     1\n",
       "100.35     1\n",
       "100.4      1\n",
       "          ..\n",
       "997.75     1\n",
       "998.1      1\n",
       "999.45     1\n",
       "999.8      1\n",
       "999.9      1\n",
       "Name: TotalCharges, Length: 6531, dtype: int64"
      ]
     },
     "metadata": {},
     "output_type": "display_data"
    }
   ],
   "source": [
    "describe(contract)"
   ]
  },
  {
   "cell_type": "markdown",
   "id": "b77b2d23",
   "metadata": {},
   "source": [
    "- The dataset shows contracts concluded from October 2013 to February 2020.\n",
    "- Customer churn is observed only in the last 4 months of observations, i.e. from October 2019 to January 2020. There may be a data error, or a technical failure during uploading. We can of course check with the customer. But, in our opinion, it is most likely in this situation that the data is correct and given the task of predicting customer churn, the most correct approach is to focus on the most relevant left customers, in conditions as close to the current market conditions as possible, both in terms of the current market conditions and the current business model and marketing activities of the Telecom operator. \n",
    "- Among the three possible contract types, the one with monthly payment is the most popular.\n",
    "- Most customers prefer electronic billing, as well as payment by electronic cheque.\n",
    "- Monthly client payments range from EUR 18.25 to EUR 118.75.\n",
    "- The total amount of customer payments varies between EUR 100.2 and 999.9. In addition, there are 11 entries with missing values (apparently a blank space instead of a value). "
   ]
  },
  {
   "cell_type": "markdown",
   "id": "6bcd7535",
   "metadata": {},
   "source": [
    "**>> customers' personal data**"
   ]
  },
  {
   "cell_type": "code",
   "execution_count": 6,
   "id": "a81fa956",
   "metadata": {},
   "outputs": [
    {
     "data": {
      "text/html": [
       "<div>\n",
       "<style scoped>\n",
       "    .dataframe tbody tr th:only-of-type {\n",
       "        vertical-align: middle;\n",
       "    }\n",
       "\n",
       "    .dataframe tbody tr th {\n",
       "        vertical-align: top;\n",
       "    }\n",
       "\n",
       "    .dataframe thead th {\n",
       "        text-align: right;\n",
       "    }\n",
       "</style>\n",
       "<table border=\"1\" class=\"dataframe\">\n",
       "  <thead>\n",
       "    <tr style=\"text-align: right;\">\n",
       "      <th></th>\n",
       "      <th>customerID</th>\n",
       "      <th>gender</th>\n",
       "      <th>SeniorCitizen</th>\n",
       "      <th>Partner</th>\n",
       "      <th>Dependents</th>\n",
       "    </tr>\n",
       "  </thead>\n",
       "  <tbody>\n",
       "    <tr>\n",
       "      <th>621</th>\n",
       "      <td>0516-UXRMT</td>\n",
       "      <td>Female</td>\n",
       "      <td>0</td>\n",
       "      <td>No</td>\n",
       "      <td>No</td>\n",
       "    </tr>\n",
       "    <tr>\n",
       "      <th>2563</th>\n",
       "      <td>5130-IEKQT</td>\n",
       "      <td>Male</td>\n",
       "      <td>1</td>\n",
       "      <td>No</td>\n",
       "      <td>No</td>\n",
       "    </tr>\n",
       "    <tr>\n",
       "      <th>5499</th>\n",
       "      <td>4631-OACRM</td>\n",
       "      <td>Male</td>\n",
       "      <td>1</td>\n",
       "      <td>No</td>\n",
       "      <td>No</td>\n",
       "    </tr>\n",
       "    <tr>\n",
       "      <th>4701</th>\n",
       "      <td>5956-YHHRX</td>\n",
       "      <td>Male</td>\n",
       "      <td>1</td>\n",
       "      <td>No</td>\n",
       "      <td>No</td>\n",
       "    </tr>\n",
       "    <tr>\n",
       "      <th>3174</th>\n",
       "      <td>6968-MHOMU</td>\n",
       "      <td>Male</td>\n",
       "      <td>0</td>\n",
       "      <td>Yes</td>\n",
       "      <td>No</td>\n",
       "    </tr>\n",
       "    <tr>\n",
       "      <th>4531</th>\n",
       "      <td>4910-AQFFX</td>\n",
       "      <td>Male</td>\n",
       "      <td>0</td>\n",
       "      <td>Yes</td>\n",
       "      <td>Yes</td>\n",
       "    </tr>\n",
       "    <tr>\n",
       "      <th>473</th>\n",
       "      <td>4104-PVRPS</td>\n",
       "      <td>Male</td>\n",
       "      <td>0</td>\n",
       "      <td>Yes</td>\n",
       "      <td>No</td>\n",
       "    </tr>\n",
       "    <tr>\n",
       "      <th>3002</th>\n",
       "      <td>9513-DXHDA</td>\n",
       "      <td>Male</td>\n",
       "      <td>0</td>\n",
       "      <td>No</td>\n",
       "      <td>No</td>\n",
       "    </tr>\n",
       "    <tr>\n",
       "      <th>2122</th>\n",
       "      <td>4123-FCVCB</td>\n",
       "      <td>Female</td>\n",
       "      <td>0</td>\n",
       "      <td>No</td>\n",
       "      <td>No</td>\n",
       "    </tr>\n",
       "    <tr>\n",
       "      <th>5144</th>\n",
       "      <td>1078-TDCRN</td>\n",
       "      <td>Female</td>\n",
       "      <td>1</td>\n",
       "      <td>Yes</td>\n",
       "      <td>No</td>\n",
       "    </tr>\n",
       "  </tbody>\n",
       "</table>\n",
       "</div>"
      ],
      "text/plain": [
       "      customerID  gender  SeniorCitizen Partner Dependents\n",
       "621   0516-UXRMT  Female              0      No         No\n",
       "2563  5130-IEKQT    Male              1      No         No\n",
       "5499  4631-OACRM    Male              1      No         No\n",
       "4701  5956-YHHRX    Male              1      No         No\n",
       "3174  6968-MHOMU    Male              0     Yes         No\n",
       "4531  4910-AQFFX    Male              0     Yes        Yes\n",
       "473   4104-PVRPS    Male              0     Yes         No\n",
       "3002  9513-DXHDA    Male              0      No         No\n",
       "2122  4123-FCVCB  Female              0      No         No\n",
       "5144  1078-TDCRN  Female              1     Yes         No"
      ]
     },
     "metadata": {},
     "output_type": "display_data"
    },
    {
     "name": "stdout",
     "output_type": "stream",
     "text": [
      "-----------------------------------\n",
      "<class 'pandas.core.frame.DataFrame'>\n",
      "RangeIndex: 7043 entries, 0 to 7042\n",
      "Data columns (total 5 columns):\n",
      " #   Column         Non-Null Count  Dtype \n",
      "---  ------         --------------  ----- \n",
      " 0   customerID     7043 non-null   object\n",
      " 1   gender         7043 non-null   object\n",
      " 2   SeniorCitizen  7043 non-null   int64 \n",
      " 3   Partner        7043 non-null   object\n",
      " 4   Dependents     7043 non-null   object\n",
      "dtypes: int64(1), object(4)\n",
      "memory usage: 275.2+ KB\n",
      "\n",
      "-----------------------------------\n",
      "Количество и доля пропусков:\n"
     ]
    },
    {
     "data": {
      "text/html": [
       "<div>\n",
       "<style scoped>\n",
       "    .dataframe tbody tr th:only-of-type {\n",
       "        vertical-align: middle;\n",
       "    }\n",
       "\n",
       "    .dataframe tbody tr th {\n",
       "        vertical-align: top;\n",
       "    }\n",
       "\n",
       "    .dataframe thead th {\n",
       "        text-align: right;\n",
       "    }\n",
       "</style>\n",
       "<table border=\"1\" class=\"dataframe\">\n",
       "  <thead>\n",
       "    <tr style=\"text-align: right;\">\n",
       "      <th></th>\n",
       "      <th>customerID</th>\n",
       "      <th>gender</th>\n",
       "      <th>SeniorCitizen</th>\n",
       "      <th>Partner</th>\n",
       "      <th>Dependents</th>\n",
       "    </tr>\n",
       "  </thead>\n",
       "  <tbody>\n",
       "    <tr>\n",
       "      <th>sum</th>\n",
       "      <td>0.0</td>\n",
       "      <td>0.0</td>\n",
       "      <td>0.0</td>\n",
       "      <td>0.0</td>\n",
       "      <td>0.0</td>\n",
       "    </tr>\n",
       "    <tr>\n",
       "      <th>mean</th>\n",
       "      <td>0.0</td>\n",
       "      <td>0.0</td>\n",
       "      <td>0.0</td>\n",
       "      <td>0.0</td>\n",
       "      <td>0.0</td>\n",
       "    </tr>\n",
       "  </tbody>\n",
       "</table>\n",
       "</div>"
      ],
      "text/plain": [
       "      customerID  gender  SeniorCitizen  Partner  Dependents\n",
       "sum          0.0     0.0            0.0      0.0         0.0\n",
       "mean         0.0     0.0            0.0      0.0         0.0"
      ]
     },
     "metadata": {},
     "output_type": "display_data"
    },
    {
     "name": "stdout",
     "output_type": "stream",
     "text": [
      "\n",
      "-----------------------------------\n",
      "Количество явных дубликатов: 0\n"
     ]
    }
   ],
   "source": [
    "overlook(personal)"
   ]
  },
  {
   "cell_type": "markdown",
   "id": "7a0d882a",
   "metadata": {},
   "source": [
    "The table contains information on the personal data of clients and also contains 7,043 entries.\n",
    "\n",
    "The personal data provided includes gender, retirement age, spouse and dependants.\n",
    "\n",
    "No missing values or explicit duplicates were found in the data."
   ]
  },
  {
   "cell_type": "code",
   "execution_count": 7,
   "id": "cf48c145",
   "metadata": {
    "scrolled": true
   },
   "outputs": [
    {
     "data": {
      "text/html": [
       "<div>\n",
       "<style scoped>\n",
       "    .dataframe tbody tr th:only-of-type {\n",
       "        vertical-align: middle;\n",
       "    }\n",
       "\n",
       "    .dataframe tbody tr th {\n",
       "        vertical-align: top;\n",
       "    }\n",
       "\n",
       "    .dataframe thead th {\n",
       "        text-align: right;\n",
       "    }\n",
       "</style>\n",
       "<table border=\"1\" class=\"dataframe\">\n",
       "  <thead>\n",
       "    <tr style=\"text-align: right;\">\n",
       "      <th></th>\n",
       "      <th>customerID</th>\n",
       "      <th>gender</th>\n",
       "      <th>SeniorCitizen</th>\n",
       "      <th>Partner</th>\n",
       "      <th>Dependents</th>\n",
       "    </tr>\n",
       "  </thead>\n",
       "  <tbody>\n",
       "    <tr>\n",
       "      <th>count</th>\n",
       "      <td>7043</td>\n",
       "      <td>7043</td>\n",
       "      <td>7043.000000</td>\n",
       "      <td>7043</td>\n",
       "      <td>7043</td>\n",
       "    </tr>\n",
       "    <tr>\n",
       "      <th>unique</th>\n",
       "      <td>7043</td>\n",
       "      <td>2</td>\n",
       "      <td>NaN</td>\n",
       "      <td>2</td>\n",
       "      <td>2</td>\n",
       "    </tr>\n",
       "    <tr>\n",
       "      <th>top</th>\n",
       "      <td>7590-VHVEG</td>\n",
       "      <td>Male</td>\n",
       "      <td>NaN</td>\n",
       "      <td>No</td>\n",
       "      <td>No</td>\n",
       "    </tr>\n",
       "    <tr>\n",
       "      <th>freq</th>\n",
       "      <td>1</td>\n",
       "      <td>3555</td>\n",
       "      <td>NaN</td>\n",
       "      <td>3641</td>\n",
       "      <td>4933</td>\n",
       "    </tr>\n",
       "    <tr>\n",
       "      <th>mean</th>\n",
       "      <td>NaN</td>\n",
       "      <td>NaN</td>\n",
       "      <td>0.162147</td>\n",
       "      <td>NaN</td>\n",
       "      <td>NaN</td>\n",
       "    </tr>\n",
       "    <tr>\n",
       "      <th>std</th>\n",
       "      <td>NaN</td>\n",
       "      <td>NaN</td>\n",
       "      <td>0.368612</td>\n",
       "      <td>NaN</td>\n",
       "      <td>NaN</td>\n",
       "    </tr>\n",
       "    <tr>\n",
       "      <th>min</th>\n",
       "      <td>NaN</td>\n",
       "      <td>NaN</td>\n",
       "      <td>0.000000</td>\n",
       "      <td>NaN</td>\n",
       "      <td>NaN</td>\n",
       "    </tr>\n",
       "    <tr>\n",
       "      <th>25%</th>\n",
       "      <td>NaN</td>\n",
       "      <td>NaN</td>\n",
       "      <td>0.000000</td>\n",
       "      <td>NaN</td>\n",
       "      <td>NaN</td>\n",
       "    </tr>\n",
       "    <tr>\n",
       "      <th>50%</th>\n",
       "      <td>NaN</td>\n",
       "      <td>NaN</td>\n",
       "      <td>0.000000</td>\n",
       "      <td>NaN</td>\n",
       "      <td>NaN</td>\n",
       "    </tr>\n",
       "    <tr>\n",
       "      <th>75%</th>\n",
       "      <td>NaN</td>\n",
       "      <td>NaN</td>\n",
       "      <td>0.000000</td>\n",
       "      <td>NaN</td>\n",
       "      <td>NaN</td>\n",
       "    </tr>\n",
       "    <tr>\n",
       "      <th>max</th>\n",
       "      <td>NaN</td>\n",
       "      <td>NaN</td>\n",
       "      <td>1.000000</td>\n",
       "      <td>NaN</td>\n",
       "      <td>NaN</td>\n",
       "    </tr>\n",
       "  </tbody>\n",
       "</table>\n",
       "</div>"
      ],
      "text/plain": [
       "        customerID gender  SeniorCitizen Partner Dependents\n",
       "count         7043   7043    7043.000000    7043       7043\n",
       "unique        7043      2            NaN       2          2\n",
       "top     7590-VHVEG   Male            NaN      No         No\n",
       "freq             1   3555            NaN    3641       4933\n",
       "mean           NaN    NaN       0.162147     NaN        NaN\n",
       "std            NaN    NaN       0.368612     NaN        NaN\n",
       "min            NaN    NaN       0.000000     NaN        NaN\n",
       "25%            NaN    NaN       0.000000     NaN        NaN\n",
       "50%            NaN    NaN       0.000000     NaN        NaN\n",
       "75%            NaN    NaN       0.000000     NaN        NaN\n",
       "max            NaN    NaN       1.000000     NaN        NaN"
      ]
     },
     "metadata": {},
     "output_type": "display_data"
    },
    {
     "name": "stdout",
     "output_type": "stream",
     "text": [
      "-----------------------\n",
      "Столбец: customerID\n"
     ]
    },
    {
     "data": {
      "text/plain": [
       "0002-ORFBO    1\n",
       "0003-MKNFE    1\n",
       "0004-TLHLJ    1\n",
       "0011-IGKFF    1\n",
       "0013-EXCHZ    1\n",
       "             ..\n",
       "9987-LUTYD    1\n",
       "9992-RRAMN    1\n",
       "9992-UJOEL    1\n",
       "9993-LHIEB    1\n",
       "9995-HOTOH    1\n",
       "Name: customerID, Length: 7043, dtype: int64"
      ]
     },
     "metadata": {},
     "output_type": "display_data"
    },
    {
     "name": "stdout",
     "output_type": "stream",
     "text": [
      "-----------------------\n",
      "Столбец: gender\n"
     ]
    },
    {
     "data": {
      "text/plain": [
       "Female    3488\n",
       "Male      3555\n",
       "Name: gender, dtype: int64"
      ]
     },
     "metadata": {},
     "output_type": "display_data"
    },
    {
     "name": "stdout",
     "output_type": "stream",
     "text": [
      "-----------------------\n",
      "Столбец: SeniorCitizen\n"
     ]
    },
    {
     "data": {
      "text/plain": [
       "0    5901\n",
       "1    1142\n",
       "Name: SeniorCitizen, dtype: int64"
      ]
     },
     "metadata": {},
     "output_type": "display_data"
    },
    {
     "name": "stdout",
     "output_type": "stream",
     "text": [
      "-----------------------\n",
      "Столбец: Partner\n"
     ]
    },
    {
     "data": {
      "text/plain": [
       "No     3641\n",
       "Yes    3402\n",
       "Name: Partner, dtype: int64"
      ]
     },
     "metadata": {},
     "output_type": "display_data"
    },
    {
     "name": "stdout",
     "output_type": "stream",
     "text": [
      "-----------------------\n",
      "Столбец: Dependents\n"
     ]
    },
    {
     "data": {
      "text/plain": [
       "No     4933\n",
       "Yes    2110\n",
       "Name: Dependents, dtype: int64"
      ]
     },
     "metadata": {},
     "output_type": "display_data"
    }
   ],
   "source": [
    "describe(personal)"
   ]
  },
  {
   "cell_type": "markdown",
   "id": "ab596c8d",
   "metadata": {},
   "source": [
    "All of the data in this table are categorical features that take on only one of two values. Although the data type in the `SeniorCitizen` column is represented as numeric, the nature of the data in it is also categorical, so the data type in this column will need to be converted to the `object` type."
   ]
  },
  {
   "cell_type": "markdown",
   "id": "ecb0407a",
   "metadata": {},
   "source": [
    "**>> information on internet-services**"
   ]
  },
  {
   "cell_type": "code",
   "execution_count": 8,
   "id": "28a652b5",
   "metadata": {},
   "outputs": [
    {
     "data": {
      "text/html": [
       "<div>\n",
       "<style scoped>\n",
       "    .dataframe tbody tr th:only-of-type {\n",
       "        vertical-align: middle;\n",
       "    }\n",
       "\n",
       "    .dataframe tbody tr th {\n",
       "        vertical-align: top;\n",
       "    }\n",
       "\n",
       "    .dataframe thead th {\n",
       "        text-align: right;\n",
       "    }\n",
       "</style>\n",
       "<table border=\"1\" class=\"dataframe\">\n",
       "  <thead>\n",
       "    <tr style=\"text-align: right;\">\n",
       "      <th></th>\n",
       "      <th>customerID</th>\n",
       "      <th>InternetService</th>\n",
       "      <th>OnlineSecurity</th>\n",
       "      <th>OnlineBackup</th>\n",
       "      <th>DeviceProtection</th>\n",
       "      <th>TechSupport</th>\n",
       "      <th>StreamingTV</th>\n",
       "      <th>StreamingMovies</th>\n",
       "    </tr>\n",
       "  </thead>\n",
       "  <tbody>\n",
       "    <tr>\n",
       "      <th>361</th>\n",
       "      <td>5168-MSWXT</td>\n",
       "      <td>Fiber optic</td>\n",
       "      <td>No</td>\n",
       "      <td>No</td>\n",
       "      <td>Yes</td>\n",
       "      <td>No</td>\n",
       "      <td>Yes</td>\n",
       "      <td>Yes</td>\n",
       "    </tr>\n",
       "    <tr>\n",
       "      <th>4632</th>\n",
       "      <td>5383-MMTWC</td>\n",
       "      <td>Fiber optic</td>\n",
       "      <td>No</td>\n",
       "      <td>No</td>\n",
       "      <td>No</td>\n",
       "      <td>No</td>\n",
       "      <td>No</td>\n",
       "      <td>Yes</td>\n",
       "    </tr>\n",
       "    <tr>\n",
       "      <th>3859</th>\n",
       "      <td>2626-URJFX</td>\n",
       "      <td>DSL</td>\n",
       "      <td>No</td>\n",
       "      <td>No</td>\n",
       "      <td>No</td>\n",
       "      <td>No</td>\n",
       "      <td>No</td>\n",
       "      <td>No</td>\n",
       "    </tr>\n",
       "    <tr>\n",
       "      <th>673</th>\n",
       "      <td>0727-BMPLR</td>\n",
       "      <td>Fiber optic</td>\n",
       "      <td>No</td>\n",
       "      <td>No</td>\n",
       "      <td>Yes</td>\n",
       "      <td>No</td>\n",
       "      <td>Yes</td>\n",
       "      <td>Yes</td>\n",
       "    </tr>\n",
       "    <tr>\n",
       "      <th>4748</th>\n",
       "      <td>3063-QFSZL</td>\n",
       "      <td>DSL</td>\n",
       "      <td>No</td>\n",
       "      <td>No</td>\n",
       "      <td>No</td>\n",
       "      <td>No</td>\n",
       "      <td>No</td>\n",
       "      <td>Yes</td>\n",
       "    </tr>\n",
       "    <tr>\n",
       "      <th>629</th>\n",
       "      <td>4992-LTJNE</td>\n",
       "      <td>DSL</td>\n",
       "      <td>Yes</td>\n",
       "      <td>No</td>\n",
       "      <td>No</td>\n",
       "      <td>No</td>\n",
       "      <td>No</td>\n",
       "      <td>No</td>\n",
       "    </tr>\n",
       "    <tr>\n",
       "      <th>450</th>\n",
       "      <td>5791-KAJFD</td>\n",
       "      <td>DSL</td>\n",
       "      <td>Yes</td>\n",
       "      <td>No</td>\n",
       "      <td>Yes</td>\n",
       "      <td>No</td>\n",
       "      <td>No</td>\n",
       "      <td>Yes</td>\n",
       "    </tr>\n",
       "    <tr>\n",
       "      <th>1809</th>\n",
       "      <td>4706-DGAHW</td>\n",
       "      <td>DSL</td>\n",
       "      <td>No</td>\n",
       "      <td>No</td>\n",
       "      <td>No</td>\n",
       "      <td>No</td>\n",
       "      <td>No</td>\n",
       "      <td>No</td>\n",
       "    </tr>\n",
       "    <tr>\n",
       "      <th>3351</th>\n",
       "      <td>7734-DBOAI</td>\n",
       "      <td>DSL</td>\n",
       "      <td>No</td>\n",
       "      <td>No</td>\n",
       "      <td>No</td>\n",
       "      <td>Yes</td>\n",
       "      <td>Yes</td>\n",
       "      <td>No</td>\n",
       "    </tr>\n",
       "    <tr>\n",
       "      <th>2209</th>\n",
       "      <td>0536-ACXIP</td>\n",
       "      <td>Fiber optic</td>\n",
       "      <td>Yes</td>\n",
       "      <td>Yes</td>\n",
       "      <td>Yes</td>\n",
       "      <td>No</td>\n",
       "      <td>Yes</td>\n",
       "      <td>Yes</td>\n",
       "    </tr>\n",
       "  </tbody>\n",
       "</table>\n",
       "</div>"
      ],
      "text/plain": [
       "      customerID InternetService OnlineSecurity OnlineBackup DeviceProtection  \\\n",
       "361   5168-MSWXT     Fiber optic             No           No              Yes   \n",
       "4632  5383-MMTWC     Fiber optic             No           No               No   \n",
       "3859  2626-URJFX             DSL             No           No               No   \n",
       "673   0727-BMPLR     Fiber optic             No           No              Yes   \n",
       "4748  3063-QFSZL             DSL             No           No               No   \n",
       "629   4992-LTJNE             DSL            Yes           No               No   \n",
       "450   5791-KAJFD             DSL            Yes           No              Yes   \n",
       "1809  4706-DGAHW             DSL             No           No               No   \n",
       "3351  7734-DBOAI             DSL             No           No               No   \n",
       "2209  0536-ACXIP     Fiber optic            Yes          Yes              Yes   \n",
       "\n",
       "     TechSupport StreamingTV StreamingMovies  \n",
       "361           No         Yes             Yes  \n",
       "4632          No          No             Yes  \n",
       "3859          No          No              No  \n",
       "673           No         Yes             Yes  \n",
       "4748          No          No             Yes  \n",
       "629           No          No              No  \n",
       "450           No          No             Yes  \n",
       "1809          No          No              No  \n",
       "3351         Yes         Yes              No  \n",
       "2209          No         Yes             Yes  "
      ]
     },
     "metadata": {},
     "output_type": "display_data"
    },
    {
     "name": "stdout",
     "output_type": "stream",
     "text": [
      "-----------------------------------\n",
      "<class 'pandas.core.frame.DataFrame'>\n",
      "RangeIndex: 5517 entries, 0 to 5516\n",
      "Data columns (total 8 columns):\n",
      " #   Column            Non-Null Count  Dtype \n",
      "---  ------            --------------  ----- \n",
      " 0   customerID        5517 non-null   object\n",
      " 1   InternetService   5517 non-null   object\n",
      " 2   OnlineSecurity    5517 non-null   object\n",
      " 3   OnlineBackup      5517 non-null   object\n",
      " 4   DeviceProtection  5517 non-null   object\n",
      " 5   TechSupport       5517 non-null   object\n",
      " 6   StreamingTV       5517 non-null   object\n",
      " 7   StreamingMovies   5517 non-null   object\n",
      "dtypes: object(8)\n",
      "memory usage: 344.9+ KB\n",
      "\n",
      "-----------------------------------\n",
      "Количество и доля пропусков:\n"
     ]
    },
    {
     "data": {
      "text/html": [
       "<div>\n",
       "<style scoped>\n",
       "    .dataframe tbody tr th:only-of-type {\n",
       "        vertical-align: middle;\n",
       "    }\n",
       "\n",
       "    .dataframe tbody tr th {\n",
       "        vertical-align: top;\n",
       "    }\n",
       "\n",
       "    .dataframe thead th {\n",
       "        text-align: right;\n",
       "    }\n",
       "</style>\n",
       "<table border=\"1\" class=\"dataframe\">\n",
       "  <thead>\n",
       "    <tr style=\"text-align: right;\">\n",
       "      <th></th>\n",
       "      <th>customerID</th>\n",
       "      <th>InternetService</th>\n",
       "      <th>OnlineSecurity</th>\n",
       "      <th>OnlineBackup</th>\n",
       "      <th>DeviceProtection</th>\n",
       "      <th>TechSupport</th>\n",
       "      <th>StreamingTV</th>\n",
       "      <th>StreamingMovies</th>\n",
       "    </tr>\n",
       "  </thead>\n",
       "  <tbody>\n",
       "    <tr>\n",
       "      <th>sum</th>\n",
       "      <td>0.0</td>\n",
       "      <td>0.0</td>\n",
       "      <td>0.0</td>\n",
       "      <td>0.0</td>\n",
       "      <td>0.0</td>\n",
       "      <td>0.0</td>\n",
       "      <td>0.0</td>\n",
       "      <td>0.0</td>\n",
       "    </tr>\n",
       "    <tr>\n",
       "      <th>mean</th>\n",
       "      <td>0.0</td>\n",
       "      <td>0.0</td>\n",
       "      <td>0.0</td>\n",
       "      <td>0.0</td>\n",
       "      <td>0.0</td>\n",
       "      <td>0.0</td>\n",
       "      <td>0.0</td>\n",
       "      <td>0.0</td>\n",
       "    </tr>\n",
       "  </tbody>\n",
       "</table>\n",
       "</div>"
      ],
      "text/plain": [
       "      customerID  InternetService  OnlineSecurity  OnlineBackup  \\\n",
       "sum          0.0              0.0             0.0           0.0   \n",
       "mean         0.0              0.0             0.0           0.0   \n",
       "\n",
       "      DeviceProtection  TechSupport  StreamingTV  StreamingMovies  \n",
       "sum                0.0          0.0          0.0              0.0  \n",
       "mean               0.0          0.0          0.0              0.0  "
      ]
     },
     "metadata": {},
     "output_type": "display_data"
    },
    {
     "name": "stdout",
     "output_type": "stream",
     "text": [
      "\n",
      "-----------------------------------\n",
      "Количество явных дубликатов: 0\n"
     ]
    }
   ],
   "source": [
    "overlook(internet)"
   ]
  },
  {
   "cell_type": "markdown",
   "id": "95321f5a",
   "metadata": {},
   "source": [
    "The table contains information about customers' connected Internet services and contains 5,517 entries, which is less than the total number of users presented in the previous tables. Apparently not all of the telecom operator's customers connect themselves to internet services.\n",
    "\n",
    "The connected Internet services presented in the table include: connection type (DSL, Fiber optic), blocking of unsafe sites (OnlineSecurity), cloud storage, antivirus, dedicated tech support line, streaming TV and movie catalogue.\n",
    "\n",
    "No missing values or explicit duplicates were found in the data."
   ]
  },
  {
   "cell_type": "code",
   "execution_count": 9,
   "id": "a8d6af48",
   "metadata": {
    "scrolled": true
   },
   "outputs": [
    {
     "data": {
      "text/html": [
       "<div>\n",
       "<style scoped>\n",
       "    .dataframe tbody tr th:only-of-type {\n",
       "        vertical-align: middle;\n",
       "    }\n",
       "\n",
       "    .dataframe tbody tr th {\n",
       "        vertical-align: top;\n",
       "    }\n",
       "\n",
       "    .dataframe thead th {\n",
       "        text-align: right;\n",
       "    }\n",
       "</style>\n",
       "<table border=\"1\" class=\"dataframe\">\n",
       "  <thead>\n",
       "    <tr style=\"text-align: right;\">\n",
       "      <th></th>\n",
       "      <th>customerID</th>\n",
       "      <th>InternetService</th>\n",
       "      <th>OnlineSecurity</th>\n",
       "      <th>OnlineBackup</th>\n",
       "      <th>DeviceProtection</th>\n",
       "      <th>TechSupport</th>\n",
       "      <th>StreamingTV</th>\n",
       "      <th>StreamingMovies</th>\n",
       "    </tr>\n",
       "  </thead>\n",
       "  <tbody>\n",
       "    <tr>\n",
       "      <th>count</th>\n",
       "      <td>5517</td>\n",
       "      <td>5517</td>\n",
       "      <td>5517</td>\n",
       "      <td>5517</td>\n",
       "      <td>5517</td>\n",
       "      <td>5517</td>\n",
       "      <td>5517</td>\n",
       "      <td>5517</td>\n",
       "    </tr>\n",
       "    <tr>\n",
       "      <th>unique</th>\n",
       "      <td>5517</td>\n",
       "      <td>2</td>\n",
       "      <td>2</td>\n",
       "      <td>2</td>\n",
       "      <td>2</td>\n",
       "      <td>2</td>\n",
       "      <td>2</td>\n",
       "      <td>2</td>\n",
       "    </tr>\n",
       "    <tr>\n",
       "      <th>top</th>\n",
       "      <td>7590-VHVEG</td>\n",
       "      <td>Fiber optic</td>\n",
       "      <td>No</td>\n",
       "      <td>No</td>\n",
       "      <td>No</td>\n",
       "      <td>No</td>\n",
       "      <td>No</td>\n",
       "      <td>No</td>\n",
       "    </tr>\n",
       "    <tr>\n",
       "      <th>freq</th>\n",
       "      <td>1</td>\n",
       "      <td>3096</td>\n",
       "      <td>3498</td>\n",
       "      <td>3088</td>\n",
       "      <td>3095</td>\n",
       "      <td>3473</td>\n",
       "      <td>2810</td>\n",
       "      <td>2785</td>\n",
       "    </tr>\n",
       "  </tbody>\n",
       "</table>\n",
       "</div>"
      ],
      "text/plain": [
       "        customerID InternetService OnlineSecurity OnlineBackup  \\\n",
       "count         5517            5517           5517         5517   \n",
       "unique        5517               2              2            2   \n",
       "top     7590-VHVEG     Fiber optic             No           No   \n",
       "freq             1            3096           3498         3088   \n",
       "\n",
       "       DeviceProtection TechSupport StreamingTV StreamingMovies  \n",
       "count              5517        5517        5517            5517  \n",
       "unique                2           2           2               2  \n",
       "top                  No          No          No              No  \n",
       "freq               3095        3473        2810            2785  "
      ]
     },
     "metadata": {},
     "output_type": "display_data"
    },
    {
     "name": "stdout",
     "output_type": "stream",
     "text": [
      "-----------------------\n",
      "Столбец: customerID\n"
     ]
    },
    {
     "data": {
      "text/plain": [
       "0002-ORFBO    1\n",
       "0003-MKNFE    1\n",
       "0004-TLHLJ    1\n",
       "0011-IGKFF    1\n",
       "0013-EXCHZ    1\n",
       "             ..\n",
       "9987-LUTYD    1\n",
       "9992-RRAMN    1\n",
       "9992-UJOEL    1\n",
       "9993-LHIEB    1\n",
       "9995-HOTOH    1\n",
       "Name: customerID, Length: 5517, dtype: int64"
      ]
     },
     "metadata": {},
     "output_type": "display_data"
    },
    {
     "name": "stdout",
     "output_type": "stream",
     "text": [
      "-----------------------\n",
      "Столбец: InternetService\n"
     ]
    },
    {
     "data": {
      "text/plain": [
       "DSL            2421\n",
       "Fiber optic    3096\n",
       "Name: InternetService, dtype: int64"
      ]
     },
     "metadata": {},
     "output_type": "display_data"
    },
    {
     "name": "stdout",
     "output_type": "stream",
     "text": [
      "-----------------------\n",
      "Столбец: OnlineSecurity\n"
     ]
    },
    {
     "data": {
      "text/plain": [
       "No     3498\n",
       "Yes    2019\n",
       "Name: OnlineSecurity, dtype: int64"
      ]
     },
     "metadata": {},
     "output_type": "display_data"
    },
    {
     "name": "stdout",
     "output_type": "stream",
     "text": [
      "-----------------------\n",
      "Столбец: OnlineBackup\n"
     ]
    },
    {
     "data": {
      "text/plain": [
       "No     3088\n",
       "Yes    2429\n",
       "Name: OnlineBackup, dtype: int64"
      ]
     },
     "metadata": {},
     "output_type": "display_data"
    },
    {
     "name": "stdout",
     "output_type": "stream",
     "text": [
      "-----------------------\n",
      "Столбец: DeviceProtection\n"
     ]
    },
    {
     "data": {
      "text/plain": [
       "No     3095\n",
       "Yes    2422\n",
       "Name: DeviceProtection, dtype: int64"
      ]
     },
     "metadata": {},
     "output_type": "display_data"
    },
    {
     "name": "stdout",
     "output_type": "stream",
     "text": [
      "-----------------------\n",
      "Столбец: TechSupport\n"
     ]
    },
    {
     "data": {
      "text/plain": [
       "No     3473\n",
       "Yes    2044\n",
       "Name: TechSupport, dtype: int64"
      ]
     },
     "metadata": {},
     "output_type": "display_data"
    },
    {
     "name": "stdout",
     "output_type": "stream",
     "text": [
      "-----------------------\n",
      "Столбец: StreamingTV\n"
     ]
    },
    {
     "data": {
      "text/plain": [
       "No     2810\n",
       "Yes    2707\n",
       "Name: StreamingTV, dtype: int64"
      ]
     },
     "metadata": {},
     "output_type": "display_data"
    },
    {
     "name": "stdout",
     "output_type": "stream",
     "text": [
      "-----------------------\n",
      "Столбец: StreamingMovies\n"
     ]
    },
    {
     "data": {
      "text/plain": [
       "No     2785\n",
       "Yes    2732\n",
       "Name: StreamingMovies, dtype: int64"
      ]
     },
     "metadata": {},
     "output_type": "display_data"
    }
   ],
   "source": [
    "describe(internet)"
   ]
  },
  {
   "cell_type": "markdown",
   "id": "62b3aabe",
   "metadata": {},
   "source": [
    "All data presented in this table are categorical attributes that take only one of two values. \n",
    "\n",
    "The most popular Internet connection is via Fiber optic. Regarding the other additional services - most users prefer not to connect additional services."
   ]
  },
  {
   "cell_type": "markdown",
   "id": "a948d39c",
   "metadata": {},
   "source": [
    "**>> information on telephone services**"
   ]
  },
  {
   "cell_type": "code",
   "execution_count": 10,
   "id": "401e0bff",
   "metadata": {},
   "outputs": [
    {
     "data": {
      "text/html": [
       "<div>\n",
       "<style scoped>\n",
       "    .dataframe tbody tr th:only-of-type {\n",
       "        vertical-align: middle;\n",
       "    }\n",
       "\n",
       "    .dataframe tbody tr th {\n",
       "        vertical-align: top;\n",
       "    }\n",
       "\n",
       "    .dataframe thead th {\n",
       "        text-align: right;\n",
       "    }\n",
       "</style>\n",
       "<table border=\"1\" class=\"dataframe\">\n",
       "  <thead>\n",
       "    <tr style=\"text-align: right;\">\n",
       "      <th></th>\n",
       "      <th>customerID</th>\n",
       "      <th>MultipleLines</th>\n",
       "    </tr>\n",
       "  </thead>\n",
       "  <tbody>\n",
       "    <tr>\n",
       "      <th>4680</th>\n",
       "      <td>8092-NLTGF</td>\n",
       "      <td>Yes</td>\n",
       "    </tr>\n",
       "    <tr>\n",
       "      <th>5981</th>\n",
       "      <td>1062-LHZOD</td>\n",
       "      <td>No</td>\n",
       "    </tr>\n",
       "    <tr>\n",
       "      <th>1420</th>\n",
       "      <td>9818-XQCUV</td>\n",
       "      <td>No</td>\n",
       "    </tr>\n",
       "    <tr>\n",
       "      <th>1083</th>\n",
       "      <td>1579-KLYDT</td>\n",
       "      <td>Yes</td>\n",
       "    </tr>\n",
       "    <tr>\n",
       "      <th>91</th>\n",
       "      <td>4598-XLKNJ</td>\n",
       "      <td>No</td>\n",
       "    </tr>\n",
       "    <tr>\n",
       "      <th>3581</th>\n",
       "      <td>1304-NECVQ</td>\n",
       "      <td>Yes</td>\n",
       "    </tr>\n",
       "    <tr>\n",
       "      <th>728</th>\n",
       "      <td>3138-BKYAV</td>\n",
       "      <td>No</td>\n",
       "    </tr>\n",
       "    <tr>\n",
       "      <th>5136</th>\n",
       "      <td>0674-GCDXG</td>\n",
       "      <td>Yes</td>\n",
       "    </tr>\n",
       "    <tr>\n",
       "      <th>2347</th>\n",
       "      <td>9600-UDOPK</td>\n",
       "      <td>Yes</td>\n",
       "    </tr>\n",
       "    <tr>\n",
       "      <th>819</th>\n",
       "      <td>5543-QDCRY</td>\n",
       "      <td>No</td>\n",
       "    </tr>\n",
       "  </tbody>\n",
       "</table>\n",
       "</div>"
      ],
      "text/plain": [
       "      customerID MultipleLines\n",
       "4680  8092-NLTGF           Yes\n",
       "5981  1062-LHZOD            No\n",
       "1420  9818-XQCUV            No\n",
       "1083  1579-KLYDT           Yes\n",
       "91    4598-XLKNJ            No\n",
       "3581  1304-NECVQ           Yes\n",
       "728   3138-BKYAV            No\n",
       "5136  0674-GCDXG           Yes\n",
       "2347  9600-UDOPK           Yes\n",
       "819   5543-QDCRY            No"
      ]
     },
     "metadata": {},
     "output_type": "display_data"
    },
    {
     "name": "stdout",
     "output_type": "stream",
     "text": [
      "-----------------------------------\n",
      "<class 'pandas.core.frame.DataFrame'>\n",
      "RangeIndex: 6361 entries, 0 to 6360\n",
      "Data columns (total 2 columns):\n",
      " #   Column         Non-Null Count  Dtype \n",
      "---  ------         --------------  ----- \n",
      " 0   customerID     6361 non-null   object\n",
      " 1   MultipleLines  6361 non-null   object\n",
      "dtypes: object(2)\n",
      "memory usage: 99.5+ KB\n",
      "\n",
      "-----------------------------------\n",
      "Количество и доля пропусков:\n"
     ]
    },
    {
     "data": {
      "text/html": [
       "<div>\n",
       "<style scoped>\n",
       "    .dataframe tbody tr th:only-of-type {\n",
       "        vertical-align: middle;\n",
       "    }\n",
       "\n",
       "    .dataframe tbody tr th {\n",
       "        vertical-align: top;\n",
       "    }\n",
       "\n",
       "    .dataframe thead th {\n",
       "        text-align: right;\n",
       "    }\n",
       "</style>\n",
       "<table border=\"1\" class=\"dataframe\">\n",
       "  <thead>\n",
       "    <tr style=\"text-align: right;\">\n",
       "      <th></th>\n",
       "      <th>customerID</th>\n",
       "      <th>MultipleLines</th>\n",
       "    </tr>\n",
       "  </thead>\n",
       "  <tbody>\n",
       "    <tr>\n",
       "      <th>sum</th>\n",
       "      <td>0.0</td>\n",
       "      <td>0.0</td>\n",
       "    </tr>\n",
       "    <tr>\n",
       "      <th>mean</th>\n",
       "      <td>0.0</td>\n",
       "      <td>0.0</td>\n",
       "    </tr>\n",
       "  </tbody>\n",
       "</table>\n",
       "</div>"
      ],
      "text/plain": [
       "      customerID  MultipleLines\n",
       "sum          0.0            0.0\n",
       "mean         0.0            0.0"
      ]
     },
     "metadata": {},
     "output_type": "display_data"
    },
    {
     "name": "stdout",
     "output_type": "stream",
     "text": [
      "\n",
      "-----------------------------------\n",
      "Количество явных дубликатов: 0\n"
     ]
    }
   ],
   "source": [
    "overlook(phone)"
   ]
  },
  {
   "cell_type": "markdown",
   "id": "8193c1fd",
   "metadata": {},
   "source": [
    "The table contains information about customer landline phone service and contains 6361 entries, which is less than the total number of users presented in the tables about contracts and customers. Apparently not all of the telecom operator's customers connect themselves to the fixed line service.\n",
    "\n",
    "It is possible to connect the phone set to more than one line at the same time, which is reflected in the `MultipleLines` column.\n",
    "\n",
    "No missing values or explicit duplicates have been detected in the data."
   ]
  },
  {
   "cell_type": "code",
   "execution_count": 11,
   "id": "4d6efca8",
   "metadata": {
    "scrolled": true
   },
   "outputs": [
    {
     "data": {
      "text/html": [
       "<div>\n",
       "<style scoped>\n",
       "    .dataframe tbody tr th:only-of-type {\n",
       "        vertical-align: middle;\n",
       "    }\n",
       "\n",
       "    .dataframe tbody tr th {\n",
       "        vertical-align: top;\n",
       "    }\n",
       "\n",
       "    .dataframe thead th {\n",
       "        text-align: right;\n",
       "    }\n",
       "</style>\n",
       "<table border=\"1\" class=\"dataframe\">\n",
       "  <thead>\n",
       "    <tr style=\"text-align: right;\">\n",
       "      <th></th>\n",
       "      <th>customerID</th>\n",
       "      <th>MultipleLines</th>\n",
       "    </tr>\n",
       "  </thead>\n",
       "  <tbody>\n",
       "    <tr>\n",
       "      <th>count</th>\n",
       "      <td>6361</td>\n",
       "      <td>6361</td>\n",
       "    </tr>\n",
       "    <tr>\n",
       "      <th>unique</th>\n",
       "      <td>6361</td>\n",
       "      <td>2</td>\n",
       "    </tr>\n",
       "    <tr>\n",
       "      <th>top</th>\n",
       "      <td>5575-GNVDE</td>\n",
       "      <td>No</td>\n",
       "    </tr>\n",
       "    <tr>\n",
       "      <th>freq</th>\n",
       "      <td>1</td>\n",
       "      <td>3390</td>\n",
       "    </tr>\n",
       "  </tbody>\n",
       "</table>\n",
       "</div>"
      ],
      "text/plain": [
       "        customerID MultipleLines\n",
       "count         6361          6361\n",
       "unique        6361             2\n",
       "top     5575-GNVDE            No\n",
       "freq             1          3390"
      ]
     },
     "metadata": {},
     "output_type": "display_data"
    },
    {
     "name": "stdout",
     "output_type": "stream",
     "text": [
      "-----------------------\n",
      "Столбец: customerID\n"
     ]
    },
    {
     "data": {
      "text/plain": [
       "0002-ORFBO    1\n",
       "0003-MKNFE    1\n",
       "0004-TLHLJ    1\n",
       "0011-IGKFF    1\n",
       "0013-EXCHZ    1\n",
       "             ..\n",
       "9986-BONCE    1\n",
       "9987-LUTYD    1\n",
       "9992-RRAMN    1\n",
       "9992-UJOEL    1\n",
       "9993-LHIEB    1\n",
       "Name: customerID, Length: 6361, dtype: int64"
      ]
     },
     "metadata": {},
     "output_type": "display_data"
    },
    {
     "name": "stdout",
     "output_type": "stream",
     "text": [
      "-----------------------\n",
      "Столбец: MultipleLines\n"
     ]
    },
    {
     "data": {
      "text/plain": [
       "No     3390\n",
       "Yes    2971\n",
       "Name: MultipleLines, dtype: int64"
      ]
     },
     "metadata": {},
     "output_type": "display_data"
    }
   ],
   "source": [
    "describe(phone)"
   ]
  },
  {
   "cell_type": "markdown",
   "id": "9230614b",
   "metadata": {},
   "source": [
    "Approximately equal distribution of users connecting a telephone to one or more telephone lines."
   ]
  },
  {
   "cell_type": "markdown",
   "id": "a6b38032",
   "metadata": {},
   "source": [
    "**Conclusion:**.\n",
    "\n",
    "The data are presented in four different tables, aggregating information about\n",
    "- client contracts, \n",
    "- personal customer data,\n",
    "- connected internet services,\n",
    "- connected fixed telephony services.\n",
    "\n",
    "Data is presented on 7,043 unique customers and their contracts (`customerID` in all tables is unique). However, the number of entries in the tables for internet and telephony services is lower, indicating that some customers do not use the internet and some customers do not use fixed telephony.\n",
    "\n",
    "In preprocessing the data it will be necessary to:\n",
    "- bring the style of the column names to a good style - \"snake_register\",\n",
    "- change the type of data in the following columns, thus bringing them into line with the nature of the data presented in them: `BeginDate` and `EndDate` change the data type to `datetime`, in the `TotalCharges` column to `float` and in the `SeniorCitizen` column to `object`,\n",
    "- handle missing values in the `TotalCharges` column.\n",
    "\n",
    "Since it's not convenient to work with data in separate tables, at the preprocessing stage we'll merge all four tables into one by the common for all tables field `customerID`. \n",
    "\n",
    "Given that we need to predict customer churn, the task of the project comes down to building a model that predicts the possible churn of a customer. In other words, we have to solve the problem of binary classification (client leaving / client staying).\n",
    "\n",
    "The target feature, which indicates the fact that the client leaves, is not presented in our data. So we have to create a target feature from the `EndDate` column - the date when the client left (date presented - client left, no date presented - client stays with us)."
   ]
  },
  {
   "cell_type": "markdown",
   "id": "6846de7c",
   "metadata": {},
   "source": [
    "## Data preprocessing"
   ]
  },
  {
   "cell_type": "markdown",
   "id": "219dd019",
   "metadata": {},
   "source": [
    "### Merging tables"
   ]
  },
  {
   "cell_type": "markdown",
   "id": "c21b22e4",
   "metadata": {},
   "source": [
    "As indicated in the previous step, in order to prepare the dataset for training the ML model, we will merge all separated tables into one by the common for all tables field `customerID`. We also established earlier that this field is unique in all tables, i.e. no duplicates were found in it. \n",
    "\n",
    "When merging the first two tables with data about contracts and customers, there should be no missing values, because these tables have the same number of records."
   ]
  },
  {
   "cell_type": "code",
   "execution_count": 12,
   "id": "967d1741",
   "metadata": {},
   "outputs": [
    {
     "name": "stdout",
     "output_type": "stream",
     "text": [
      "<class 'pandas.core.frame.DataFrame'>\n",
      "Int64Index: 7043 entries, 0 to 7042\n",
      "Data columns (total 12 columns):\n",
      " #   Column            Non-Null Count  Dtype  \n",
      "---  ------            --------------  -----  \n",
      " 0   customerID        7043 non-null   object \n",
      " 1   BeginDate         7043 non-null   object \n",
      " 2   EndDate           7043 non-null   object \n",
      " 3   Type              7043 non-null   object \n",
      " 4   PaperlessBilling  7043 non-null   object \n",
      " 5   PaymentMethod     7043 non-null   object \n",
      " 6   MonthlyCharges    7043 non-null   float64\n",
      " 7   TotalCharges      7043 non-null   object \n",
      " 8   gender            7043 non-null   object \n",
      " 9   SeniorCitizen     7043 non-null   int64  \n",
      " 10  Partner           7043 non-null   object \n",
      " 11  Dependents        7043 non-null   object \n",
      "dtypes: float64(1), int64(1), object(10)\n",
      "memory usage: 715.3+ KB\n"
     ]
    }
   ],
   "source": [
    "df = contract.merge(personal, on='customerID', how='left')\n",
    "df.info()"
   ]
  },
  {
   "cell_type": "markdown",
   "id": "310e2669",
   "metadata": {},
   "source": [
    "In the next two tables with data on the services connected to the customers, the number of entries is smaller, indicating that not all customers use both Internet and telephony at the same time. Since it is important for us to have data on all contracts and clients in the overall table, we can merge the tables further either by `left` or `outer` method. In this case it should be noted that the resulting missing values will indicate that the client does not have either internet or telephony connected respectively."
   ]
  },
  {
   "cell_type": "code",
   "execution_count": 13,
   "id": "a550b2e8",
   "metadata": {},
   "outputs": [],
   "source": [
    "df = df.merge(internet, on='customerID', how='left')\n",
    "df = df.merge(phone, on='customerID', how='left')"
   ]
  },
  {
   "cell_type": "markdown",
   "id": "bedfa496",
   "metadata": {},
   "source": [
    "Let's take a look at the overall table after the merger."
   ]
  },
  {
   "cell_type": "code",
   "execution_count": 14,
   "id": "47414b29",
   "metadata": {},
   "outputs": [
    {
     "data": {
      "text/html": [
       "<div>\n",
       "<style scoped>\n",
       "    .dataframe tbody tr th:only-of-type {\n",
       "        vertical-align: middle;\n",
       "    }\n",
       "\n",
       "    .dataframe tbody tr th {\n",
       "        vertical-align: top;\n",
       "    }\n",
       "\n",
       "    .dataframe thead th {\n",
       "        text-align: right;\n",
       "    }\n",
       "</style>\n",
       "<table border=\"1\" class=\"dataframe\">\n",
       "  <thead>\n",
       "    <tr style=\"text-align: right;\">\n",
       "      <th></th>\n",
       "      <th>customerID</th>\n",
       "      <th>BeginDate</th>\n",
       "      <th>EndDate</th>\n",
       "      <th>Type</th>\n",
       "      <th>PaperlessBilling</th>\n",
       "      <th>PaymentMethod</th>\n",
       "      <th>MonthlyCharges</th>\n",
       "      <th>TotalCharges</th>\n",
       "      <th>gender</th>\n",
       "      <th>SeniorCitizen</th>\n",
       "      <th>Partner</th>\n",
       "      <th>Dependents</th>\n",
       "      <th>InternetService</th>\n",
       "      <th>OnlineSecurity</th>\n",
       "      <th>OnlineBackup</th>\n",
       "      <th>DeviceProtection</th>\n",
       "      <th>TechSupport</th>\n",
       "      <th>StreamingTV</th>\n",
       "      <th>StreamingMovies</th>\n",
       "      <th>MultipleLines</th>\n",
       "    </tr>\n",
       "  </thead>\n",
       "  <tbody>\n",
       "    <tr>\n",
       "      <th>2266</th>\n",
       "      <td>5732-IKGQH</td>\n",
       "      <td>2015-10-01</td>\n",
       "      <td>No</td>\n",
       "      <td>One year</td>\n",
       "      <td>Yes</td>\n",
       "      <td>Bank transfer (automatic)</td>\n",
       "      <td>104.45</td>\n",
       "      <td>5481.25</td>\n",
       "      <td>Male</td>\n",
       "      <td>1</td>\n",
       "      <td>Yes</td>\n",
       "      <td>No</td>\n",
       "      <td>Fiber optic</td>\n",
       "      <td>Yes</td>\n",
       "      <td>No</td>\n",
       "      <td>Yes</td>\n",
       "      <td>Yes</td>\n",
       "      <td>Yes</td>\n",
       "      <td>Yes</td>\n",
       "      <td>No</td>\n",
       "    </tr>\n",
       "    <tr>\n",
       "      <th>3740</th>\n",
       "      <td>0508-OOLTO</td>\n",
       "      <td>2019-12-01</td>\n",
       "      <td>No</td>\n",
       "      <td>Month-to-month</td>\n",
       "      <td>Yes</td>\n",
       "      <td>Electronic check</td>\n",
       "      <td>71.65</td>\n",
       "      <td>135.75</td>\n",
       "      <td>Female</td>\n",
       "      <td>0</td>\n",
       "      <td>Yes</td>\n",
       "      <td>Yes</td>\n",
       "      <td>Fiber optic</td>\n",
       "      <td>No</td>\n",
       "      <td>No</td>\n",
       "      <td>No</td>\n",
       "      <td>No</td>\n",
       "      <td>No</td>\n",
       "      <td>No</td>\n",
       "      <td>No</td>\n",
       "    </tr>\n",
       "    <tr>\n",
       "      <th>1428</th>\n",
       "      <td>7767-UXAGJ</td>\n",
       "      <td>2019-11-01</td>\n",
       "      <td>2019-12-01 00:00:00</td>\n",
       "      <td>Month-to-month</td>\n",
       "      <td>Yes</td>\n",
       "      <td>Electronic check</td>\n",
       "      <td>50.45</td>\n",
       "      <td>50.45</td>\n",
       "      <td>Male</td>\n",
       "      <td>0</td>\n",
       "      <td>No</td>\n",
       "      <td>No</td>\n",
       "      <td>DSL</td>\n",
       "      <td>No</td>\n",
       "      <td>No</td>\n",
       "      <td>No</td>\n",
       "      <td>No</td>\n",
       "      <td>No</td>\n",
       "      <td>No</td>\n",
       "      <td>Yes</td>\n",
       "    </tr>\n",
       "    <tr>\n",
       "      <th>6002</th>\n",
       "      <td>3727-RJMEO</td>\n",
       "      <td>2019-05-01</td>\n",
       "      <td>2019-11-01 00:00:00</td>\n",
       "      <td>Month-to-month</td>\n",
       "      <td>Yes</td>\n",
       "      <td>Electronic check</td>\n",
       "      <td>82.85</td>\n",
       "      <td>460.25</td>\n",
       "      <td>Male</td>\n",
       "      <td>0</td>\n",
       "      <td>Yes</td>\n",
       "      <td>No</td>\n",
       "      <td>Fiber optic</td>\n",
       "      <td>No</td>\n",
       "      <td>No</td>\n",
       "      <td>No</td>\n",
       "      <td>No</td>\n",
       "      <td>Yes</td>\n",
       "      <td>No</td>\n",
       "      <td>Yes</td>\n",
       "    </tr>\n",
       "    <tr>\n",
       "      <th>6056</th>\n",
       "      <td>8331-ZXFOE</td>\n",
       "      <td>2015-04-01</td>\n",
       "      <td>No</td>\n",
       "      <td>One year</td>\n",
       "      <td>Yes</td>\n",
       "      <td>Credit card (automatic)</td>\n",
       "      <td>71.10</td>\n",
       "      <td>4299.2</td>\n",
       "      <td>Female</td>\n",
       "      <td>0</td>\n",
       "      <td>No</td>\n",
       "      <td>No</td>\n",
       "      <td>DSL</td>\n",
       "      <td>Yes</td>\n",
       "      <td>Yes</td>\n",
       "      <td>Yes</td>\n",
       "      <td>Yes</td>\n",
       "      <td>No</td>\n",
       "      <td>No</td>\n",
       "      <td>Yes</td>\n",
       "    </tr>\n",
       "    <tr>\n",
       "      <th>2589</th>\n",
       "      <td>7576-OYWBN</td>\n",
       "      <td>2019-07-01</td>\n",
       "      <td>2019-10-01 00:00:00</td>\n",
       "      <td>Month-to-month</td>\n",
       "      <td>Yes</td>\n",
       "      <td>Electronic check</td>\n",
       "      <td>76.05</td>\n",
       "      <td>231.8</td>\n",
       "      <td>Male</td>\n",
       "      <td>1</td>\n",
       "      <td>No</td>\n",
       "      <td>No</td>\n",
       "      <td>Fiber optic</td>\n",
       "      <td>No</td>\n",
       "      <td>No</td>\n",
       "      <td>No</td>\n",
       "      <td>No</td>\n",
       "      <td>No</td>\n",
       "      <td>No</td>\n",
       "      <td>Yes</td>\n",
       "    </tr>\n",
       "    <tr>\n",
       "      <th>1110</th>\n",
       "      <td>0343-QLUZP</td>\n",
       "      <td>2015-02-01</td>\n",
       "      <td>No</td>\n",
       "      <td>Two year</td>\n",
       "      <td>No</td>\n",
       "      <td>Bank transfer (automatic)</td>\n",
       "      <td>39.60</td>\n",
       "      <td>2424.5</td>\n",
       "      <td>Male</td>\n",
       "      <td>0</td>\n",
       "      <td>No</td>\n",
       "      <td>No</td>\n",
       "      <td>DSL</td>\n",
       "      <td>Yes</td>\n",
       "      <td>Yes</td>\n",
       "      <td>Yes</td>\n",
       "      <td>No</td>\n",
       "      <td>No</td>\n",
       "      <td>No</td>\n",
       "      <td>NaN</td>\n",
       "    </tr>\n",
       "    <tr>\n",
       "      <th>7024</th>\n",
       "      <td>7398-LXGYX</td>\n",
       "      <td>2016-06-01</td>\n",
       "      <td>No</td>\n",
       "      <td>Month-to-month</td>\n",
       "      <td>Yes</td>\n",
       "      <td>Credit card (automatic)</td>\n",
       "      <td>84.80</td>\n",
       "      <td>3626.35</td>\n",
       "      <td>Male</td>\n",
       "      <td>0</td>\n",
       "      <td>Yes</td>\n",
       "      <td>No</td>\n",
       "      <td>Fiber optic</td>\n",
       "      <td>Yes</td>\n",
       "      <td>No</td>\n",
       "      <td>Yes</td>\n",
       "      <td>No</td>\n",
       "      <td>No</td>\n",
       "      <td>No</td>\n",
       "      <td>Yes</td>\n",
       "    </tr>\n",
       "    <tr>\n",
       "      <th>5496</th>\n",
       "      <td>2208-NKVVH</td>\n",
       "      <td>2016-07-01</td>\n",
       "      <td>No</td>\n",
       "      <td>Two year</td>\n",
       "      <td>No</td>\n",
       "      <td>Mailed check</td>\n",
       "      <td>24.25</td>\n",
       "      <td>1077.95</td>\n",
       "      <td>Male</td>\n",
       "      <td>0</td>\n",
       "      <td>Yes</td>\n",
       "      <td>Yes</td>\n",
       "      <td>NaN</td>\n",
       "      <td>NaN</td>\n",
       "      <td>NaN</td>\n",
       "      <td>NaN</td>\n",
       "      <td>NaN</td>\n",
       "      <td>NaN</td>\n",
       "      <td>NaN</td>\n",
       "      <td>Yes</td>\n",
       "    </tr>\n",
       "    <tr>\n",
       "      <th>3232</th>\n",
       "      <td>2703-AMTUL</td>\n",
       "      <td>2017-02-01</td>\n",
       "      <td>No</td>\n",
       "      <td>One year</td>\n",
       "      <td>No</td>\n",
       "      <td>Mailed check</td>\n",
       "      <td>53.65</td>\n",
       "      <td>1939.35</td>\n",
       "      <td>Male</td>\n",
       "      <td>0</td>\n",
       "      <td>Yes</td>\n",
       "      <td>Yes</td>\n",
       "      <td>DSL</td>\n",
       "      <td>Yes</td>\n",
       "      <td>Yes</td>\n",
       "      <td>No</td>\n",
       "      <td>No</td>\n",
       "      <td>No</td>\n",
       "      <td>No</td>\n",
       "      <td>No</td>\n",
       "    </tr>\n",
       "  </tbody>\n",
       "</table>\n",
       "</div>"
      ],
      "text/plain": [
       "      customerID   BeginDate              EndDate            Type  \\\n",
       "2266  5732-IKGQH  2015-10-01                   No        One year   \n",
       "3740  0508-OOLTO  2019-12-01                   No  Month-to-month   \n",
       "1428  7767-UXAGJ  2019-11-01  2019-12-01 00:00:00  Month-to-month   \n",
       "6002  3727-RJMEO  2019-05-01  2019-11-01 00:00:00  Month-to-month   \n",
       "6056  8331-ZXFOE  2015-04-01                   No        One year   \n",
       "2589  7576-OYWBN  2019-07-01  2019-10-01 00:00:00  Month-to-month   \n",
       "1110  0343-QLUZP  2015-02-01                   No        Two year   \n",
       "7024  7398-LXGYX  2016-06-01                   No  Month-to-month   \n",
       "5496  2208-NKVVH  2016-07-01                   No        Two year   \n",
       "3232  2703-AMTUL  2017-02-01                   No        One year   \n",
       "\n",
       "     PaperlessBilling              PaymentMethod  MonthlyCharges TotalCharges  \\\n",
       "2266              Yes  Bank transfer (automatic)          104.45      5481.25   \n",
       "3740              Yes           Electronic check           71.65       135.75   \n",
       "1428              Yes           Electronic check           50.45        50.45   \n",
       "6002              Yes           Electronic check           82.85       460.25   \n",
       "6056              Yes    Credit card (automatic)           71.10       4299.2   \n",
       "2589              Yes           Electronic check           76.05        231.8   \n",
       "1110               No  Bank transfer (automatic)           39.60       2424.5   \n",
       "7024              Yes    Credit card (automatic)           84.80      3626.35   \n",
       "5496               No               Mailed check           24.25      1077.95   \n",
       "3232               No               Mailed check           53.65      1939.35   \n",
       "\n",
       "      gender  SeniorCitizen Partner Dependents InternetService OnlineSecurity  \\\n",
       "2266    Male              1     Yes         No     Fiber optic            Yes   \n",
       "3740  Female              0     Yes        Yes     Fiber optic             No   \n",
       "1428    Male              0      No         No             DSL             No   \n",
       "6002    Male              0     Yes         No     Fiber optic             No   \n",
       "6056  Female              0      No         No             DSL            Yes   \n",
       "2589    Male              1      No         No     Fiber optic             No   \n",
       "1110    Male              0      No         No             DSL            Yes   \n",
       "7024    Male              0     Yes         No     Fiber optic            Yes   \n",
       "5496    Male              0     Yes        Yes             NaN            NaN   \n",
       "3232    Male              0     Yes        Yes             DSL            Yes   \n",
       "\n",
       "     OnlineBackup DeviceProtection TechSupport StreamingTV StreamingMovies  \\\n",
       "2266           No              Yes         Yes         Yes             Yes   \n",
       "3740           No               No          No          No              No   \n",
       "1428           No               No          No          No              No   \n",
       "6002           No               No          No         Yes              No   \n",
       "6056          Yes              Yes         Yes          No              No   \n",
       "2589           No               No          No          No              No   \n",
       "1110          Yes              Yes          No          No              No   \n",
       "7024           No              Yes          No          No              No   \n",
       "5496          NaN              NaN         NaN         NaN             NaN   \n",
       "3232          Yes               No          No          No              No   \n",
       "\n",
       "     MultipleLines  \n",
       "2266            No  \n",
       "3740            No  \n",
       "1428           Yes  \n",
       "6002           Yes  \n",
       "6056           Yes  \n",
       "2589           Yes  \n",
       "1110           NaN  \n",
       "7024           Yes  \n",
       "5496           Yes  \n",
       "3232            No  "
      ]
     },
     "metadata": {},
     "output_type": "display_data"
    },
    {
     "name": "stdout",
     "output_type": "stream",
     "text": [
      "-----------------------------------\n",
      "<class 'pandas.core.frame.DataFrame'>\n",
      "Int64Index: 7043 entries, 0 to 7042\n",
      "Data columns (total 20 columns):\n",
      " #   Column            Non-Null Count  Dtype  \n",
      "---  ------            --------------  -----  \n",
      " 0   customerID        7043 non-null   object \n",
      " 1   BeginDate         7043 non-null   object \n",
      " 2   EndDate           7043 non-null   object \n",
      " 3   Type              7043 non-null   object \n",
      " 4   PaperlessBilling  7043 non-null   object \n",
      " 5   PaymentMethod     7043 non-null   object \n",
      " 6   MonthlyCharges    7043 non-null   float64\n",
      " 7   TotalCharges      7043 non-null   object \n",
      " 8   gender            7043 non-null   object \n",
      " 9   SeniorCitizen     7043 non-null   int64  \n",
      " 10  Partner           7043 non-null   object \n",
      " 11  Dependents        7043 non-null   object \n",
      " 12  InternetService   5517 non-null   object \n",
      " 13  OnlineSecurity    5517 non-null   object \n",
      " 14  OnlineBackup      5517 non-null   object \n",
      " 15  DeviceProtection  5517 non-null   object \n",
      " 16  TechSupport       5517 non-null   object \n",
      " 17  StreamingTV       5517 non-null   object \n",
      " 18  StreamingMovies   5517 non-null   object \n",
      " 19  MultipleLines     6361 non-null   object \n",
      "dtypes: float64(1), int64(1), object(18)\n",
      "memory usage: 1.1+ MB\n",
      "\n",
      "-----------------------------------\n",
      "Количество и доля пропусков:\n"
     ]
    },
    {
     "data": {
      "text/html": [
       "<div>\n",
       "<style scoped>\n",
       "    .dataframe tbody tr th:only-of-type {\n",
       "        vertical-align: middle;\n",
       "    }\n",
       "\n",
       "    .dataframe tbody tr th {\n",
       "        vertical-align: top;\n",
       "    }\n",
       "\n",
       "    .dataframe thead th {\n",
       "        text-align: right;\n",
       "    }\n",
       "</style>\n",
       "<table border=\"1\" class=\"dataframe\">\n",
       "  <thead>\n",
       "    <tr style=\"text-align: right;\">\n",
       "      <th></th>\n",
       "      <th>customerID</th>\n",
       "      <th>BeginDate</th>\n",
       "      <th>EndDate</th>\n",
       "      <th>Type</th>\n",
       "      <th>PaperlessBilling</th>\n",
       "      <th>PaymentMethod</th>\n",
       "      <th>MonthlyCharges</th>\n",
       "      <th>TotalCharges</th>\n",
       "      <th>gender</th>\n",
       "      <th>SeniorCitizen</th>\n",
       "      <th>Partner</th>\n",
       "      <th>Dependents</th>\n",
       "      <th>InternetService</th>\n",
       "      <th>OnlineSecurity</th>\n",
       "      <th>OnlineBackup</th>\n",
       "      <th>DeviceProtection</th>\n",
       "      <th>TechSupport</th>\n",
       "      <th>StreamingTV</th>\n",
       "      <th>StreamingMovies</th>\n",
       "      <th>MultipleLines</th>\n",
       "    </tr>\n",
       "  </thead>\n",
       "  <tbody>\n",
       "    <tr>\n",
       "      <th>sum</th>\n",
       "      <td>0.0</td>\n",
       "      <td>0.0</td>\n",
       "      <td>0.0</td>\n",
       "      <td>0.0</td>\n",
       "      <td>0.0</td>\n",
       "      <td>0.0</td>\n",
       "      <td>0.0</td>\n",
       "      <td>0.0</td>\n",
       "      <td>0.0</td>\n",
       "      <td>0.0</td>\n",
       "      <td>0.0</td>\n",
       "      <td>0.0</td>\n",
       "      <td>1526.000000</td>\n",
       "      <td>1526.000000</td>\n",
       "      <td>1526.000000</td>\n",
       "      <td>1526.000000</td>\n",
       "      <td>1526.000000</td>\n",
       "      <td>1526.000000</td>\n",
       "      <td>1526.000000</td>\n",
       "      <td>682.000000</td>\n",
       "    </tr>\n",
       "    <tr>\n",
       "      <th>mean</th>\n",
       "      <td>0.0</td>\n",
       "      <td>0.0</td>\n",
       "      <td>0.0</td>\n",
       "      <td>0.0</td>\n",
       "      <td>0.0</td>\n",
       "      <td>0.0</td>\n",
       "      <td>0.0</td>\n",
       "      <td>0.0</td>\n",
       "      <td>0.0</td>\n",
       "      <td>0.0</td>\n",
       "      <td>0.0</td>\n",
       "      <td>0.0</td>\n",
       "      <td>0.216669</td>\n",
       "      <td>0.216669</td>\n",
       "      <td>0.216669</td>\n",
       "      <td>0.216669</td>\n",
       "      <td>0.216669</td>\n",
       "      <td>0.216669</td>\n",
       "      <td>0.216669</td>\n",
       "      <td>0.096834</td>\n",
       "    </tr>\n",
       "  </tbody>\n",
       "</table>\n",
       "</div>"
      ],
      "text/plain": [
       "      customerID  BeginDate  EndDate  Type  PaperlessBilling  PaymentMethod  \\\n",
       "sum          0.0        0.0      0.0   0.0               0.0            0.0   \n",
       "mean         0.0        0.0      0.0   0.0               0.0            0.0   \n",
       "\n",
       "      MonthlyCharges  TotalCharges  gender  SeniorCitizen  Partner  \\\n",
       "sum              0.0           0.0     0.0            0.0      0.0   \n",
       "mean             0.0           0.0     0.0            0.0      0.0   \n",
       "\n",
       "      Dependents  InternetService  OnlineSecurity  OnlineBackup  \\\n",
       "sum          0.0      1526.000000     1526.000000   1526.000000   \n",
       "mean         0.0         0.216669        0.216669      0.216669   \n",
       "\n",
       "      DeviceProtection  TechSupport  StreamingTV  StreamingMovies  \\\n",
       "sum        1526.000000  1526.000000  1526.000000      1526.000000   \n",
       "mean          0.216669     0.216669     0.216669         0.216669   \n",
       "\n",
       "      MultipleLines  \n",
       "sum      682.000000  \n",
       "mean       0.096834  "
      ]
     },
     "metadata": {},
     "output_type": "display_data"
    },
    {
     "name": "stdout",
     "output_type": "stream",
     "text": [
      "\n",
      "-----------------------------------\n",
      "Количество явных дубликатов: 0\n"
     ]
    }
   ],
   "source": [
    "overlook(df)"
   ]
  },
  {
   "cell_type": "markdown",
   "id": "c6209d10",
   "metadata": {},
   "source": [
    "As we anticipated, there were missing values following the merger, as 1,526 customers do not use internet services and 682 customers do not use telephony."
   ]
  },
  {
   "cell_type": "markdown",
   "id": "9c3e0ade",
   "metadata": {},
   "source": [
    "### Correcting the style of the column names"
   ]
  },
  {
   "cell_type": "markdown",
   "id": "ec6342e4",
   "metadata": {},
   "source": [
    "Let's bring the column names in line with good style: \"snake_register\"."
   ]
  },
  {
   "cell_type": "code",
   "execution_count": 15,
   "id": "086d44b6",
   "metadata": {},
   "outputs": [],
   "source": [
    "snake_case_col = []\n",
    "\n",
    "for column in df.columns:\n",
    "    column = re.sub(r'(?<!^)(?=[A-Z])', '_', column).lower()\n",
    "    snake_case_col.append(column)"
   ]
  },
  {
   "cell_type": "code",
   "execution_count": 16,
   "id": "60ebdc75",
   "metadata": {},
   "outputs": [
    {
     "data": {
      "text/plain": [
       "Index(['customer_i_d', 'begin_date', 'end_date', 'type', 'paperless_billing',\n",
       "       'payment_method', 'monthly_charges', 'total_charges', 'gender',\n",
       "       'senior_citizen', 'partner', 'dependents', 'internet_service',\n",
       "       'online_security', 'online_backup', 'device_protection', 'tech_support',\n",
       "       'streaming_t_v', 'streaming_movies', 'multiple_lines'],\n",
       "      dtype='object')"
      ]
     },
     "execution_count": 16,
     "metadata": {},
     "output_type": "execute_result"
    }
   ],
   "source": [
    "df.columns = snake_case_col\n",
    "df.columns"
   ]
  },
  {
   "cell_type": "markdown",
   "id": "03e119bb",
   "metadata": {},
   "source": [
    "The `customer_i_d` and `streaming_t_v` columns could not be overcome elegantly on the fly. Therefore, we will have to change it manually."
   ]
  },
  {
   "cell_type": "code",
   "execution_count": 17,
   "id": "cba40819",
   "metadata": {},
   "outputs": [],
   "source": [
    "df = df.rename(columns={'customer_i_d':'customer_id', 'streaming_t_v':'streaming_tv'})"
   ]
  },
  {
   "cell_type": "code",
   "execution_count": 18,
   "id": "ed2c7f6d",
   "metadata": {},
   "outputs": [
    {
     "data": {
      "text/html": [
       "<div>\n",
       "<style scoped>\n",
       "    .dataframe tbody tr th:only-of-type {\n",
       "        vertical-align: middle;\n",
       "    }\n",
       "\n",
       "    .dataframe tbody tr th {\n",
       "        vertical-align: top;\n",
       "    }\n",
       "\n",
       "    .dataframe thead th {\n",
       "        text-align: right;\n",
       "    }\n",
       "</style>\n",
       "<table border=\"1\" class=\"dataframe\">\n",
       "  <thead>\n",
       "    <tr style=\"text-align: right;\">\n",
       "      <th></th>\n",
       "      <th>customer_id</th>\n",
       "      <th>begin_date</th>\n",
       "      <th>end_date</th>\n",
       "      <th>type</th>\n",
       "      <th>paperless_billing</th>\n",
       "      <th>payment_method</th>\n",
       "      <th>monthly_charges</th>\n",
       "      <th>total_charges</th>\n",
       "      <th>gender</th>\n",
       "      <th>senior_citizen</th>\n",
       "      <th>partner</th>\n",
       "      <th>dependents</th>\n",
       "      <th>internet_service</th>\n",
       "      <th>online_security</th>\n",
       "      <th>online_backup</th>\n",
       "      <th>device_protection</th>\n",
       "      <th>tech_support</th>\n",
       "      <th>streaming_tv</th>\n",
       "      <th>streaming_movies</th>\n",
       "      <th>multiple_lines</th>\n",
       "    </tr>\n",
       "  </thead>\n",
       "  <tbody>\n",
       "    <tr>\n",
       "      <th>0</th>\n",
       "      <td>7590-VHVEG</td>\n",
       "      <td>2020-01-01</td>\n",
       "      <td>No</td>\n",
       "      <td>Month-to-month</td>\n",
       "      <td>Yes</td>\n",
       "      <td>Electronic check</td>\n",
       "      <td>29.85</td>\n",
       "      <td>29.85</td>\n",
       "      <td>Female</td>\n",
       "      <td>0</td>\n",
       "      <td>Yes</td>\n",
       "      <td>No</td>\n",
       "      <td>DSL</td>\n",
       "      <td>No</td>\n",
       "      <td>Yes</td>\n",
       "      <td>No</td>\n",
       "      <td>No</td>\n",
       "      <td>No</td>\n",
       "      <td>No</td>\n",
       "      <td>NaN</td>\n",
       "    </tr>\n",
       "    <tr>\n",
       "      <th>1</th>\n",
       "      <td>5575-GNVDE</td>\n",
       "      <td>2017-04-01</td>\n",
       "      <td>No</td>\n",
       "      <td>One year</td>\n",
       "      <td>No</td>\n",
       "      <td>Mailed check</td>\n",
       "      <td>56.95</td>\n",
       "      <td>1889.5</td>\n",
       "      <td>Male</td>\n",
       "      <td>0</td>\n",
       "      <td>No</td>\n",
       "      <td>No</td>\n",
       "      <td>DSL</td>\n",
       "      <td>Yes</td>\n",
       "      <td>No</td>\n",
       "      <td>Yes</td>\n",
       "      <td>No</td>\n",
       "      <td>No</td>\n",
       "      <td>No</td>\n",
       "      <td>No</td>\n",
       "    </tr>\n",
       "    <tr>\n",
       "      <th>2</th>\n",
       "      <td>3668-QPYBK</td>\n",
       "      <td>2019-10-01</td>\n",
       "      <td>2019-12-01 00:00:00</td>\n",
       "      <td>Month-to-month</td>\n",
       "      <td>Yes</td>\n",
       "      <td>Mailed check</td>\n",
       "      <td>53.85</td>\n",
       "      <td>108.15</td>\n",
       "      <td>Male</td>\n",
       "      <td>0</td>\n",
       "      <td>No</td>\n",
       "      <td>No</td>\n",
       "      <td>DSL</td>\n",
       "      <td>Yes</td>\n",
       "      <td>Yes</td>\n",
       "      <td>No</td>\n",
       "      <td>No</td>\n",
       "      <td>No</td>\n",
       "      <td>No</td>\n",
       "      <td>No</td>\n",
       "    </tr>\n",
       "    <tr>\n",
       "      <th>3</th>\n",
       "      <td>7795-CFOCW</td>\n",
       "      <td>2016-05-01</td>\n",
       "      <td>No</td>\n",
       "      <td>One year</td>\n",
       "      <td>No</td>\n",
       "      <td>Bank transfer (automatic)</td>\n",
       "      <td>42.30</td>\n",
       "      <td>1840.75</td>\n",
       "      <td>Male</td>\n",
       "      <td>0</td>\n",
       "      <td>No</td>\n",
       "      <td>No</td>\n",
       "      <td>DSL</td>\n",
       "      <td>Yes</td>\n",
       "      <td>No</td>\n",
       "      <td>Yes</td>\n",
       "      <td>Yes</td>\n",
       "      <td>No</td>\n",
       "      <td>No</td>\n",
       "      <td>NaN</td>\n",
       "    </tr>\n",
       "    <tr>\n",
       "      <th>4</th>\n",
       "      <td>9237-HQITU</td>\n",
       "      <td>2019-09-01</td>\n",
       "      <td>2019-11-01 00:00:00</td>\n",
       "      <td>Month-to-month</td>\n",
       "      <td>Yes</td>\n",
       "      <td>Electronic check</td>\n",
       "      <td>70.70</td>\n",
       "      <td>151.65</td>\n",
       "      <td>Female</td>\n",
       "      <td>0</td>\n",
       "      <td>No</td>\n",
       "      <td>No</td>\n",
       "      <td>Fiber optic</td>\n",
       "      <td>No</td>\n",
       "      <td>No</td>\n",
       "      <td>No</td>\n",
       "      <td>No</td>\n",
       "      <td>No</td>\n",
       "      <td>No</td>\n",
       "      <td>No</td>\n",
       "    </tr>\n",
       "  </tbody>\n",
       "</table>\n",
       "</div>"
      ],
      "text/plain": [
       "  customer_id  begin_date             end_date            type  \\\n",
       "0  7590-VHVEG  2020-01-01                   No  Month-to-month   \n",
       "1  5575-GNVDE  2017-04-01                   No        One year   \n",
       "2  3668-QPYBK  2019-10-01  2019-12-01 00:00:00  Month-to-month   \n",
       "3  7795-CFOCW  2016-05-01                   No        One year   \n",
       "4  9237-HQITU  2019-09-01  2019-11-01 00:00:00  Month-to-month   \n",
       "\n",
       "  paperless_billing             payment_method  monthly_charges total_charges  \\\n",
       "0               Yes           Electronic check            29.85         29.85   \n",
       "1                No               Mailed check            56.95        1889.5   \n",
       "2               Yes               Mailed check            53.85        108.15   \n",
       "3                No  Bank transfer (automatic)            42.30       1840.75   \n",
       "4               Yes           Electronic check            70.70        151.65   \n",
       "\n",
       "   gender  senior_citizen partner dependents internet_service online_security  \\\n",
       "0  Female               0     Yes         No              DSL              No   \n",
       "1    Male               0      No         No              DSL             Yes   \n",
       "2    Male               0      No         No              DSL             Yes   \n",
       "3    Male               0      No         No              DSL             Yes   \n",
       "4  Female               0      No         No      Fiber optic              No   \n",
       "\n",
       "  online_backup device_protection tech_support streaming_tv streaming_movies  \\\n",
       "0           Yes                No           No           No               No   \n",
       "1            No               Yes           No           No               No   \n",
       "2           Yes                No           No           No               No   \n",
       "3            No               Yes          Yes           No               No   \n",
       "4            No                No           No           No               No   \n",
       "\n",
       "  multiple_lines  \n",
       "0            NaN  \n",
       "1             No  \n",
       "2             No  \n",
       "3            NaN  \n",
       "4             No  "
      ]
     },
     "execution_count": 18,
     "metadata": {},
     "output_type": "execute_result"
    }
   ],
   "source": [
    "df.head(5)"
   ]
  },
  {
   "cell_type": "markdown",
   "id": "0311f6f6",
   "metadata": {},
   "source": [
    "### Changing data types"
   ]
  },
  {
   "cell_type": "markdown",
   "id": "4b4d09d3",
   "metadata": {},
   "source": [
    "As indicated during the data exploration, we need to change the data type in the `begin_date` and `end_date` columns to `datetime`, in the `total_charges` column to `float`, and in the `senior_citizen` column to `object`.\n",
    "\n",
    "We will take into account that the `end_date` column has a string value of `No` and the `total_charges` column has missing values as whitespace. Therefore, when changing the data type, in order to avoid type conversion error, will turn these values into NaNs. "
   ]
  },
  {
   "cell_type": "code",
   "execution_count": 19,
   "id": "a0e7b1ca",
   "metadata": {},
   "outputs": [],
   "source": [
    "df['begin_date'] = pd.to_datetime(df['begin_date'], format='%Y-%m-%d')\n",
    "df['end_date'] = pd.to_datetime(df['end_date'], format='%Y-%m-%d', errors='coerce')\n",
    "df['total_charges'] = pd.to_numeric(df['total_charges'], errors='coerce')\n",
    "df['senior_citizen'] = df['senior_citizen'].astype('object')"
   ]
  },
  {
   "cell_type": "code",
   "execution_count": 20,
   "id": "c99e711f",
   "metadata": {},
   "outputs": [
    {
     "name": "stdout",
     "output_type": "stream",
     "text": [
      "<class 'pandas.core.frame.DataFrame'>\n",
      "Int64Index: 7043 entries, 0 to 7042\n",
      "Data columns (total 20 columns):\n",
      " #   Column             Non-Null Count  Dtype         \n",
      "---  ------             --------------  -----         \n",
      " 0   customer_id        7043 non-null   object        \n",
      " 1   begin_date         7043 non-null   datetime64[ns]\n",
      " 2   end_date           1869 non-null   datetime64[ns]\n",
      " 3   type               7043 non-null   object        \n",
      " 4   paperless_billing  7043 non-null   object        \n",
      " 5   payment_method     7043 non-null   object        \n",
      " 6   monthly_charges    7043 non-null   float64       \n",
      " 7   total_charges      7032 non-null   float64       \n",
      " 8   gender             7043 non-null   object        \n",
      " 9   senior_citizen     7043 non-null   object        \n",
      " 10  partner            7043 non-null   object        \n",
      " 11  dependents         7043 non-null   object        \n",
      " 12  internet_service   5517 non-null   object        \n",
      " 13  online_security    5517 non-null   object        \n",
      " 14  online_backup      5517 non-null   object        \n",
      " 15  device_protection  5517 non-null   object        \n",
      " 16  tech_support       5517 non-null   object        \n",
      " 17  streaming_tv       5517 non-null   object        \n",
      " 18  streaming_movies   5517 non-null   object        \n",
      " 19  multiple_lines     6361 non-null   object        \n",
      "dtypes: datetime64[ns](2), float64(2), object(16)\n",
      "memory usage: 1.1+ MB\n"
     ]
    },
    {
     "data": {
      "text/plain": [
       "(5174, 11)"
      ]
     },
     "execution_count": 20,
     "metadata": {},
     "output_type": "execute_result"
    }
   ],
   "source": [
    "df.info()\n",
    "df.end_date.isna().sum(), df.total_charges.isna().sum()"
   ]
  },
  {
   "cell_type": "markdown",
   "id": "6e258de2",
   "metadata": {},
   "source": [
    "Converted the data type, replacing implicit missing values in these columns with explicit ones."
   ]
  },
  {
   "cell_type": "markdown",
   "id": "e0dcdc97",
   "metadata": {},
   "source": [
    "### Filling in the missing values"
   ]
  },
  {
   "cell_type": "markdown",
   "id": "98b66f24",
   "metadata": {},
   "source": [
    "Will have one more look at missing values."
   ]
  },
  {
   "cell_type": "code",
   "execution_count": 21,
   "id": "a4f12fc1",
   "metadata": {},
   "outputs": [
    {
     "data": {
      "text/plain": [
       "customer_id             0\n",
       "begin_date              0\n",
       "end_date             5174\n",
       "type                    0\n",
       "paperless_billing       0\n",
       "payment_method          0\n",
       "monthly_charges         0\n",
       "total_charges          11\n",
       "gender                  0\n",
       "senior_citizen          0\n",
       "partner                 0\n",
       "dependents              0\n",
       "internet_service     1526\n",
       "online_security      1526\n",
       "online_backup        1526\n",
       "device_protection    1526\n",
       "tech_support         1526\n",
       "streaming_tv         1526\n",
       "streaming_movies     1526\n",
       "multiple_lines        682\n",
       "dtype: int64"
      ]
     },
     "execution_count": 21,
     "metadata": {},
     "output_type": "execute_result"
    }
   ],
   "source": [
    "df.isna().sum()"
   ]
  },
  {
   "cell_type": "markdown",
   "id": "f59af0a5",
   "metadata": {},
   "source": [
    "**Missing values in `end_date`**\n",
    "\n",
    "Missing values in the `end_date` column are not missing values, but the fact that they are existing clients, i.e. they have not terminated the contract before the date of data uploading. In the further preparation of data for ML model we may calculate additional feature - customer lifetime - this feature is often used in ML tasks, aimed at predicting customer churn. Therefore, to calculate it, it would be logical to fill in the missing values in the `end_date` column with the date of data unloading."
   ]
  },
  {
   "cell_type": "code",
   "execution_count": 22,
   "id": "a24312dd",
   "metadata": {},
   "outputs": [],
   "source": [
    "df['end_date'] = df['end_date'].fillna('2020-02-01')"
   ]
  },
  {
   "cell_type": "markdown",
   "id": "fd75b63b",
   "metadata": {},
   "source": [
    "**Missing values in internet-services and telephony**\n",
    "\n",
    "After merging the tables, there are missing values in the columns with information about Internet services, indicating that the user has not subscribed to the corresponding service. Therefore it is logical to fill these missing values with the line `No`. In the `multiple_lines` column to fill in the missing values with `No` will not be quite correct, as in this column row \"No\" indicates that the client has no connection to multiple phone lines, but not the absence of telephony service as such. So here let's fill in the missing values with a placeholder, e.g. `na` (not applicable). "
   ]
  },
  {
   "cell_type": "code",
   "execution_count": 23,
   "id": "68440ecd",
   "metadata": {},
   "outputs": [],
   "source": [
    "fillna_col = ['internet_service', 'online_security', 'online_backup', 'device_protection', \n",
    "              'tech_support', 'streaming_tv', 'streaming_movies']\n",
    "\n",
    "df[fillna_col] = df[fillna_col].fillna('No')\n",
    "df['multiple_lines'] = df['multiple_lines'].fillna('na')"
   ]
  },
  {
   "cell_type": "code",
   "execution_count": 24,
   "id": "08a82ecc",
   "metadata": {},
   "outputs": [
    {
     "data": {
      "text/plain": [
       "customer_id           0\n",
       "begin_date            0\n",
       "end_date              0\n",
       "type                  0\n",
       "paperless_billing     0\n",
       "payment_method        0\n",
       "monthly_charges       0\n",
       "total_charges        11\n",
       "gender                0\n",
       "senior_citizen        0\n",
       "partner               0\n",
       "dependents            0\n",
       "internet_service      0\n",
       "online_security       0\n",
       "online_backup         0\n",
       "device_protection     0\n",
       "tech_support          0\n",
       "streaming_tv          0\n",
       "streaming_movies      0\n",
       "multiple_lines        0\n",
       "dtype: int64"
      ]
     },
     "execution_count": 24,
     "metadata": {},
     "output_type": "execute_result"
    }
   ],
   "source": [
    "df.isna().sum()"
   ]
  },
  {
   "cell_type": "markdown",
   "id": "2eb5b2c5",
   "metadata": {},
   "source": [
    "**Missing values in `total_charges`**\n",
    "\n",
    "We have 11 missing values in column `total_charges`. Let's have a look at these entries."
   ]
  },
  {
   "cell_type": "code",
   "execution_count": 25,
   "id": "eb562f13",
   "metadata": {},
   "outputs": [
    {
     "data": {
      "text/html": [
       "<div>\n",
       "<style scoped>\n",
       "    .dataframe tbody tr th:only-of-type {\n",
       "        vertical-align: middle;\n",
       "    }\n",
       "\n",
       "    .dataframe tbody tr th {\n",
       "        vertical-align: top;\n",
       "    }\n",
       "\n",
       "    .dataframe thead th {\n",
       "        text-align: right;\n",
       "    }\n",
       "</style>\n",
       "<table border=\"1\" class=\"dataframe\">\n",
       "  <thead>\n",
       "    <tr style=\"text-align: right;\">\n",
       "      <th></th>\n",
       "      <th>customer_id</th>\n",
       "      <th>begin_date</th>\n",
       "      <th>end_date</th>\n",
       "      <th>type</th>\n",
       "      <th>paperless_billing</th>\n",
       "      <th>payment_method</th>\n",
       "      <th>monthly_charges</th>\n",
       "      <th>total_charges</th>\n",
       "      <th>gender</th>\n",
       "      <th>senior_citizen</th>\n",
       "      <th>partner</th>\n",
       "      <th>dependents</th>\n",
       "      <th>internet_service</th>\n",
       "      <th>online_security</th>\n",
       "      <th>online_backup</th>\n",
       "      <th>device_protection</th>\n",
       "      <th>tech_support</th>\n",
       "      <th>streaming_tv</th>\n",
       "      <th>streaming_movies</th>\n",
       "      <th>multiple_lines</th>\n",
       "    </tr>\n",
       "  </thead>\n",
       "  <tbody>\n",
       "    <tr>\n",
       "      <th>488</th>\n",
       "      <td>4472-LVYGI</td>\n",
       "      <td>2020-02-01</td>\n",
       "      <td>2020-02-01</td>\n",
       "      <td>Two year</td>\n",
       "      <td>Yes</td>\n",
       "      <td>Bank transfer (automatic)</td>\n",
       "      <td>52.55</td>\n",
       "      <td>NaN</td>\n",
       "      <td>Female</td>\n",
       "      <td>0</td>\n",
       "      <td>Yes</td>\n",
       "      <td>Yes</td>\n",
       "      <td>DSL</td>\n",
       "      <td>Yes</td>\n",
       "      <td>No</td>\n",
       "      <td>Yes</td>\n",
       "      <td>Yes</td>\n",
       "      <td>Yes</td>\n",
       "      <td>No</td>\n",
       "      <td>na</td>\n",
       "    </tr>\n",
       "    <tr>\n",
       "      <th>753</th>\n",
       "      <td>3115-CZMZD</td>\n",
       "      <td>2020-02-01</td>\n",
       "      <td>2020-02-01</td>\n",
       "      <td>Two year</td>\n",
       "      <td>No</td>\n",
       "      <td>Mailed check</td>\n",
       "      <td>20.25</td>\n",
       "      <td>NaN</td>\n",
       "      <td>Male</td>\n",
       "      <td>0</td>\n",
       "      <td>No</td>\n",
       "      <td>Yes</td>\n",
       "      <td>No</td>\n",
       "      <td>No</td>\n",
       "      <td>No</td>\n",
       "      <td>No</td>\n",
       "      <td>No</td>\n",
       "      <td>No</td>\n",
       "      <td>No</td>\n",
       "      <td>No</td>\n",
       "    </tr>\n",
       "    <tr>\n",
       "      <th>936</th>\n",
       "      <td>5709-LVOEQ</td>\n",
       "      <td>2020-02-01</td>\n",
       "      <td>2020-02-01</td>\n",
       "      <td>Two year</td>\n",
       "      <td>No</td>\n",
       "      <td>Mailed check</td>\n",
       "      <td>80.85</td>\n",
       "      <td>NaN</td>\n",
       "      <td>Female</td>\n",
       "      <td>0</td>\n",
       "      <td>Yes</td>\n",
       "      <td>Yes</td>\n",
       "      <td>DSL</td>\n",
       "      <td>Yes</td>\n",
       "      <td>Yes</td>\n",
       "      <td>Yes</td>\n",
       "      <td>No</td>\n",
       "      <td>Yes</td>\n",
       "      <td>Yes</td>\n",
       "      <td>No</td>\n",
       "    </tr>\n",
       "    <tr>\n",
       "      <th>1082</th>\n",
       "      <td>4367-NUYAO</td>\n",
       "      <td>2020-02-01</td>\n",
       "      <td>2020-02-01</td>\n",
       "      <td>Two year</td>\n",
       "      <td>No</td>\n",
       "      <td>Mailed check</td>\n",
       "      <td>25.75</td>\n",
       "      <td>NaN</td>\n",
       "      <td>Male</td>\n",
       "      <td>0</td>\n",
       "      <td>Yes</td>\n",
       "      <td>Yes</td>\n",
       "      <td>No</td>\n",
       "      <td>No</td>\n",
       "      <td>No</td>\n",
       "      <td>No</td>\n",
       "      <td>No</td>\n",
       "      <td>No</td>\n",
       "      <td>No</td>\n",
       "      <td>Yes</td>\n",
       "    </tr>\n",
       "    <tr>\n",
       "      <th>1340</th>\n",
       "      <td>1371-DWPAZ</td>\n",
       "      <td>2020-02-01</td>\n",
       "      <td>2020-02-01</td>\n",
       "      <td>Two year</td>\n",
       "      <td>No</td>\n",
       "      <td>Credit card (automatic)</td>\n",
       "      <td>56.05</td>\n",
       "      <td>NaN</td>\n",
       "      <td>Female</td>\n",
       "      <td>0</td>\n",
       "      <td>Yes</td>\n",
       "      <td>Yes</td>\n",
       "      <td>DSL</td>\n",
       "      <td>Yes</td>\n",
       "      <td>Yes</td>\n",
       "      <td>Yes</td>\n",
       "      <td>Yes</td>\n",
       "      <td>Yes</td>\n",
       "      <td>No</td>\n",
       "      <td>na</td>\n",
       "    </tr>\n",
       "    <tr>\n",
       "      <th>3331</th>\n",
       "      <td>7644-OMVMY</td>\n",
       "      <td>2020-02-01</td>\n",
       "      <td>2020-02-01</td>\n",
       "      <td>Two year</td>\n",
       "      <td>No</td>\n",
       "      <td>Mailed check</td>\n",
       "      <td>19.85</td>\n",
       "      <td>NaN</td>\n",
       "      <td>Male</td>\n",
       "      <td>0</td>\n",
       "      <td>Yes</td>\n",
       "      <td>Yes</td>\n",
       "      <td>No</td>\n",
       "      <td>No</td>\n",
       "      <td>No</td>\n",
       "      <td>No</td>\n",
       "      <td>No</td>\n",
       "      <td>No</td>\n",
       "      <td>No</td>\n",
       "      <td>No</td>\n",
       "    </tr>\n",
       "    <tr>\n",
       "      <th>3826</th>\n",
       "      <td>3213-VVOLG</td>\n",
       "      <td>2020-02-01</td>\n",
       "      <td>2020-02-01</td>\n",
       "      <td>Two year</td>\n",
       "      <td>No</td>\n",
       "      <td>Mailed check</td>\n",
       "      <td>25.35</td>\n",
       "      <td>NaN</td>\n",
       "      <td>Male</td>\n",
       "      <td>0</td>\n",
       "      <td>Yes</td>\n",
       "      <td>Yes</td>\n",
       "      <td>No</td>\n",
       "      <td>No</td>\n",
       "      <td>No</td>\n",
       "      <td>No</td>\n",
       "      <td>No</td>\n",
       "      <td>No</td>\n",
       "      <td>No</td>\n",
       "      <td>Yes</td>\n",
       "    </tr>\n",
       "    <tr>\n",
       "      <th>4380</th>\n",
       "      <td>2520-SGTTA</td>\n",
       "      <td>2020-02-01</td>\n",
       "      <td>2020-02-01</td>\n",
       "      <td>Two year</td>\n",
       "      <td>No</td>\n",
       "      <td>Mailed check</td>\n",
       "      <td>20.00</td>\n",
       "      <td>NaN</td>\n",
       "      <td>Female</td>\n",
       "      <td>0</td>\n",
       "      <td>Yes</td>\n",
       "      <td>Yes</td>\n",
       "      <td>No</td>\n",
       "      <td>No</td>\n",
       "      <td>No</td>\n",
       "      <td>No</td>\n",
       "      <td>No</td>\n",
       "      <td>No</td>\n",
       "      <td>No</td>\n",
       "      <td>No</td>\n",
       "    </tr>\n",
       "    <tr>\n",
       "      <th>5218</th>\n",
       "      <td>2923-ARZLG</td>\n",
       "      <td>2020-02-01</td>\n",
       "      <td>2020-02-01</td>\n",
       "      <td>One year</td>\n",
       "      <td>Yes</td>\n",
       "      <td>Mailed check</td>\n",
       "      <td>19.70</td>\n",
       "      <td>NaN</td>\n",
       "      <td>Male</td>\n",
       "      <td>0</td>\n",
       "      <td>Yes</td>\n",
       "      <td>Yes</td>\n",
       "      <td>No</td>\n",
       "      <td>No</td>\n",
       "      <td>No</td>\n",
       "      <td>No</td>\n",
       "      <td>No</td>\n",
       "      <td>No</td>\n",
       "      <td>No</td>\n",
       "      <td>No</td>\n",
       "    </tr>\n",
       "    <tr>\n",
       "      <th>6670</th>\n",
       "      <td>4075-WKNIU</td>\n",
       "      <td>2020-02-01</td>\n",
       "      <td>2020-02-01</td>\n",
       "      <td>Two year</td>\n",
       "      <td>No</td>\n",
       "      <td>Mailed check</td>\n",
       "      <td>73.35</td>\n",
       "      <td>NaN</td>\n",
       "      <td>Female</td>\n",
       "      <td>0</td>\n",
       "      <td>Yes</td>\n",
       "      <td>Yes</td>\n",
       "      <td>DSL</td>\n",
       "      <td>No</td>\n",
       "      <td>Yes</td>\n",
       "      <td>Yes</td>\n",
       "      <td>Yes</td>\n",
       "      <td>Yes</td>\n",
       "      <td>No</td>\n",
       "      <td>Yes</td>\n",
       "    </tr>\n",
       "    <tr>\n",
       "      <th>6754</th>\n",
       "      <td>2775-SEFEE</td>\n",
       "      <td>2020-02-01</td>\n",
       "      <td>2020-02-01</td>\n",
       "      <td>Two year</td>\n",
       "      <td>Yes</td>\n",
       "      <td>Bank transfer (automatic)</td>\n",
       "      <td>61.90</td>\n",
       "      <td>NaN</td>\n",
       "      <td>Male</td>\n",
       "      <td>0</td>\n",
       "      <td>No</td>\n",
       "      <td>Yes</td>\n",
       "      <td>DSL</td>\n",
       "      <td>Yes</td>\n",
       "      <td>Yes</td>\n",
       "      <td>No</td>\n",
       "      <td>Yes</td>\n",
       "      <td>No</td>\n",
       "      <td>No</td>\n",
       "      <td>Yes</td>\n",
       "    </tr>\n",
       "  </tbody>\n",
       "</table>\n",
       "</div>"
      ],
      "text/plain": [
       "     customer_id begin_date   end_date      type paperless_billing  \\\n",
       "488   4472-LVYGI 2020-02-01 2020-02-01  Two year               Yes   \n",
       "753   3115-CZMZD 2020-02-01 2020-02-01  Two year                No   \n",
       "936   5709-LVOEQ 2020-02-01 2020-02-01  Two year                No   \n",
       "1082  4367-NUYAO 2020-02-01 2020-02-01  Two year                No   \n",
       "1340  1371-DWPAZ 2020-02-01 2020-02-01  Two year                No   \n",
       "3331  7644-OMVMY 2020-02-01 2020-02-01  Two year                No   \n",
       "3826  3213-VVOLG 2020-02-01 2020-02-01  Two year                No   \n",
       "4380  2520-SGTTA 2020-02-01 2020-02-01  Two year                No   \n",
       "5218  2923-ARZLG 2020-02-01 2020-02-01  One year               Yes   \n",
       "6670  4075-WKNIU 2020-02-01 2020-02-01  Two year                No   \n",
       "6754  2775-SEFEE 2020-02-01 2020-02-01  Two year               Yes   \n",
       "\n",
       "                 payment_method  monthly_charges  total_charges  gender  \\\n",
       "488   Bank transfer (automatic)            52.55            NaN  Female   \n",
       "753                Mailed check            20.25            NaN    Male   \n",
       "936                Mailed check            80.85            NaN  Female   \n",
       "1082               Mailed check            25.75            NaN    Male   \n",
       "1340    Credit card (automatic)            56.05            NaN  Female   \n",
       "3331               Mailed check            19.85            NaN    Male   \n",
       "3826               Mailed check            25.35            NaN    Male   \n",
       "4380               Mailed check            20.00            NaN  Female   \n",
       "5218               Mailed check            19.70            NaN    Male   \n",
       "6670               Mailed check            73.35            NaN  Female   \n",
       "6754  Bank transfer (automatic)            61.90            NaN    Male   \n",
       "\n",
       "     senior_citizen partner dependents internet_service online_security  \\\n",
       "488               0     Yes        Yes              DSL             Yes   \n",
       "753               0      No        Yes               No              No   \n",
       "936               0     Yes        Yes              DSL             Yes   \n",
       "1082              0     Yes        Yes               No              No   \n",
       "1340              0     Yes        Yes              DSL             Yes   \n",
       "3331              0     Yes        Yes               No              No   \n",
       "3826              0     Yes        Yes               No              No   \n",
       "4380              0     Yes        Yes               No              No   \n",
       "5218              0     Yes        Yes               No              No   \n",
       "6670              0     Yes        Yes              DSL              No   \n",
       "6754              0      No        Yes              DSL             Yes   \n",
       "\n",
       "     online_backup device_protection tech_support streaming_tv  \\\n",
       "488             No               Yes          Yes          Yes   \n",
       "753             No                No           No           No   \n",
       "936            Yes               Yes           No          Yes   \n",
       "1082            No                No           No           No   \n",
       "1340           Yes               Yes          Yes          Yes   \n",
       "3331            No                No           No           No   \n",
       "3826            No                No           No           No   \n",
       "4380            No                No           No           No   \n",
       "5218            No                No           No           No   \n",
       "6670           Yes               Yes          Yes          Yes   \n",
       "6754           Yes                No          Yes           No   \n",
       "\n",
       "     streaming_movies multiple_lines  \n",
       "488                No             na  \n",
       "753                No             No  \n",
       "936               Yes             No  \n",
       "1082               No            Yes  \n",
       "1340               No             na  \n",
       "3331               No             No  \n",
       "3826               No            Yes  \n",
       "4380               No             No  \n",
       "5218               No             No  \n",
       "6670               No            Yes  \n",
       "6754               No            Yes  "
      ]
     },
     "execution_count": 25,
     "metadata": {},
     "output_type": "execute_result"
    }
   ],
   "source": [
    "df[df['total_charges'].isna()]"
   ]
  },
  {
   "cell_type": "markdown",
   "id": "bfbfb0ce",
   "metadata": {},
   "source": [
    "We have found that all 11 missing values in the total payments correspond to the date the data was uploaded, i.e. February 2020. Having the monthly expenses for February 2020, and assuming that the total expenses have not had time to be updated and reflected in the final balance, we can fill these missing amounts with the values from the `monthly_charges` column."
   ]
  },
  {
   "cell_type": "code",
   "execution_count": 26,
   "id": "dcf7efd9",
   "metadata": {},
   "outputs": [],
   "source": [
    "df.loc[df['total_charges'].isna(), 'total_charges'] = df['monthly_charges']"
   ]
  },
  {
   "cell_type": "code",
   "execution_count": 27,
   "id": "5f17ebf6",
   "metadata": {},
   "outputs": [
    {
     "data": {
      "text/plain": [
       "customer_id          0\n",
       "begin_date           0\n",
       "end_date             0\n",
       "type                 0\n",
       "paperless_billing    0\n",
       "payment_method       0\n",
       "monthly_charges      0\n",
       "total_charges        0\n",
       "gender               0\n",
       "senior_citizen       0\n",
       "partner              0\n",
       "dependents           0\n",
       "internet_service     0\n",
       "online_security      0\n",
       "online_backup        0\n",
       "device_protection    0\n",
       "tech_support         0\n",
       "streaming_tv         0\n",
       "streaming_movies     0\n",
       "multiple_lines       0\n",
       "dtype: int64"
      ]
     },
     "execution_count": 27,
     "metadata": {},
     "output_type": "execute_result"
    }
   ],
   "source": [
    "df.isna().sum()"
   ]
  },
  {
   "cell_type": "markdown",
   "id": "0d6504a6",
   "metadata": {},
   "source": [
    "### Adding features"
   ]
  },
  {
   "cell_type": "markdown",
   "id": "619d19d3",
   "metadata": {},
   "source": [
    "We will add to our dataset a target feature - `exited`, which will take two values: 1 - \"client left\" / 0 - \"client remained\". \n",
    "\n",
    "As previously specified, we will prepare the target feature based on the client's contract end date `end_date`: the clients who left will have a date lower than the upload date (2020-02-01), which we purposely set for all of the remaining clients."
   ]
  },
  {
   "cell_type": "code",
   "execution_count": 28,
   "id": "bddbe9eb",
   "metadata": {},
   "outputs": [],
   "source": [
    "df['exited'] = 0\n",
    "df.loc[df['end_date'] < '2020-02-01', 'exited'] = 1"
   ]
  },
  {
   "cell_type": "code",
   "execution_count": 29,
   "id": "0aa2d848",
   "metadata": {},
   "outputs": [
    {
     "data": {
      "text/plain": [
       "0    5174\n",
       "1    1869\n",
       "Name: exited, dtype: int64"
      ]
     },
     "execution_count": 29,
     "metadata": {},
     "output_type": "execute_result"
    }
   ],
   "source": [
    "df.exited.value_counts()"
   ]
  },
  {
   "cell_type": "code",
   "execution_count": 30,
   "id": "0e5789d7",
   "metadata": {},
   "outputs": [
    {
     "data": {
      "text/plain": [
       "0    0.73463\n",
       "1    0.26537\n",
       "Name: exited, dtype: float64"
      ]
     },
     "execution_count": 30,
     "metadata": {},
     "output_type": "execute_result"
    }
   ],
   "source": [
    "df.exited.value_counts(normalize=True)"
   ]
  },
  {
   "cell_type": "markdown",
   "id": "4c701d9d",
   "metadata": {},
   "source": [
    "During the entire cooperation period, 1,869 clients have terminated the contract. There is an imbalance of classes in the target feature, about 3:1 in favour of the negative class. We will take this observation into account when training the models.\n",
    "\n",
    "Let us add another feature to the dataset - `tenure` - how long the client has been a client of the Telecom operator. Since the dates in our table are monthly, we will calculate the duration of cooperation in months. We will divide the days into months by the average number of days in a month, which is 30.44 (365/12). "
   ]
  },
  {
   "cell_type": "code",
   "execution_count": 31,
   "id": "4a0ed697",
   "metadata": {},
   "outputs": [],
   "source": [
    "df['tenure'] = round(((df['end_date'] - df['begin_date']).dt.days / 30.44))"
   ]
  },
  {
   "cell_type": "code",
   "execution_count": 32,
   "id": "38326c83",
   "metadata": {},
   "outputs": [
    {
     "data": {
      "text/plain": [
       "0.0      11\n",
       "1.0     613\n",
       "2.0     238\n",
       "3.0     200\n",
       "4.0     176\n",
       "       ... \n",
       "68.0    100\n",
       "69.0     95\n",
       "70.0    119\n",
       "71.0    170\n",
       "72.0    362\n",
       "Name: tenure, Length: 73, dtype: int64"
      ]
     },
     "execution_count": 32,
     "metadata": {},
     "output_type": "execute_result"
    }
   ],
   "source": [
    "df.tenure.value_counts().sort_index()"
   ]
  },
  {
   "cell_type": "markdown",
   "id": "01e8f171",
   "metadata": {},
   "source": [
    "We see that 11 people have signed a contract in the current month, so their duration is less than a month. The most loyal customers have been with us for 6 years (72 months) - as many as 362."
   ]
  },
  {
   "cell_type": "markdown",
   "id": "bdeec27f",
   "metadata": {},
   "source": [
    "**Conclusion:**.\n",
    "\n",
    "In preprocessing the data, we:\n",
    "\n",
    "- merged all tables into a single dataframe by `cusotmer_id` column,\n",
    "- corrected the style of column names according to the \"snake_register\",\n",
    "- converted the data type of the columns with dates (to `datetime`) and total payments (to `float`),\n",
    "- filled in the missing values resulting from the table merger, as well as implicit missing values in the `end_date` and `total_charges` columns,\n",
    "- added the target feature `exited`, which shows the status of the client (left/stayed), as well as additional features `tenure` - the duration of cooperation in months."
   ]
  },
  {
   "cell_type": "markdown",
   "id": "230de5b7",
   "metadata": {},
   "source": [
    "## Exploratory data analysis"
   ]
  },
  {
   "cell_type": "markdown",
   "id": "e1680dcd",
   "metadata": {},
   "source": [
    "### Distribution of features by target feature"
   ]
  },
  {
   "cell_type": "markdown",
   "id": "5514c87d",
   "metadata": {},
   "source": [
    "We will analyse how the features are distributed between clients who have terminated the contract and those who remain with the company. Also, for numerical features we will calculate the median and mean values, and for categorical features we will calculate the most frequent value (mode)."
   ]
  },
  {
   "cell_type": "code",
   "execution_count": 33,
   "id": "f3f28918",
   "metadata": {
    "scrolled": true
   },
   "outputs": [
    {
     "name": "stdout",
     "output_type": "stream",
     "text": [
      "------------------------------------\n",
      "Столбец: begin_date\n",
      "exited\n",
      "0   2014-02-01\n",
      "1   2019-09-01\n",
      "Name: begin_date, dtype: datetime64[ns]\n"
     ]
    },
    {
     "data": {
      "image/png": "[encoded data removed]",
      "text/plain": [
       "<Figure size 864x360 with 1 Axes>"
      ]
     },
     "metadata": {
      "needs_background": "light"
     },
     "output_type": "display_data"
    },
    {
     "name": "stdout",
     "output_type": "stream",
     "text": [
      "------------------------------------\n",
      "Столбец: type\n",
      "exited\n",
      "0    Month-to-month\n",
      "1    Month-to-month\n",
      "Name: type, dtype: object\n"
     ]
    },
    {
     "data": {
      "image/png": "[encoded data removed]",
      "text/plain": [
       "<Figure size 864x360 with 1 Axes>"
      ]
     },
     "metadata": {
      "needs_background": "light"
     },
     "output_type": "display_data"
    },
    {
     "name": "stdout",
     "output_type": "stream",
     "text": [
      "------------------------------------\n",
      "Столбец: paperless_billing\n",
      "exited\n",
      "0    Yes\n",
      "1    Yes\n",
      "Name: paperless_billing, dtype: object\n"
     ]
    },
    {
     "data": {
      "image/png": "[encoded data removed]",
      "text/plain": [
       "<Figure size 864x360 with 1 Axes>"
      ]
     },
     "metadata": {
      "needs_background": "light"
     },
     "output_type": "display_data"
    },
    {
     "name": "stdout",
     "output_type": "stream",
     "text": [
      "------------------------------------\n",
      "Столбец: payment_method\n",
      "exited\n",
      "0        Mailed check\n",
      "1    Electronic check\n",
      "Name: payment_method, dtype: object\n"
     ]
    },
    {
     "data": {
      "image/png": "[encoded data removed]",
      "text/plain": [
       "<Figure size 864x360 with 1 Axes>"
      ]
     },
     "metadata": {
      "needs_background": "light"
     },
     "output_type": "display_data"
    },
    {
     "name": "stdout",
     "output_type": "stream",
     "text": [
      "------------------------------------\n",
      "Столбец: monthly_charges\n",
      "        median       mean\n",
      "exited                   \n",
      "0       64.425  61.265124\n",
      "1       79.650  74.441332\n"
     ]
    },
    {
     "data": {
      "image/png": "[encoded data removed]",
      "text/plain": [
       "<Figure size 864x360 with 1 Axes>"
      ]
     },
     "metadata": {
      "needs_background": "light"
     },
     "output_type": "display_data"
    },
    {
     "name": "stdout",
     "output_type": "stream",
     "text": [
      "------------------------------------\n",
      "Столбец: total_charges\n",
      "          median         mean\n",
      "exited                       \n",
      "0       1679.525  2549.999497\n",
      "1        703.550  1531.796094\n"
     ]
    },
    {
     "data": {
      "image/png": "[encoded data removed]",
      "text/plain": [
       "<Figure size 864x360 with 1 Axes>"
      ]
     },
     "metadata": {
      "needs_background": "light"
     },
     "output_type": "display_data"
    },
    {
     "name": "stdout",
     "output_type": "stream",
     "text": [
      "------------------------------------\n",
      "Столбец: gender\n",
      "exited\n",
      "0      Male\n",
      "1    Female\n",
      "Name: gender, dtype: object\n"
     ]
    },
    {
     "data": {
      "image/png": "[encoded data removed]",
      "text/plain": [
       "<Figure size 864x360 with 1 Axes>"
      ]
     },
     "metadata": {
      "needs_background": "light"
     },
     "output_type": "display_data"
    },
    {
     "name": "stdout",
     "output_type": "stream",
     "text": [
      "------------------------------------\n",
      "Столбец: senior_citizen\n",
      "exited\n",
      "0    0\n",
      "1    0\n",
      "Name: senior_citizen, dtype: int64\n"
     ]
    },
    {
     "data": {
      "image/png": "[encoded data removed]",
      "text/plain": [
       "<Figure size 864x360 with 1 Axes>"
      ]
     },
     "metadata": {
      "needs_background": "light"
     },
     "output_type": "display_data"
    },
    {
     "name": "stdout",
     "output_type": "stream",
     "text": [
      "------------------------------------\n",
      "Столбец: partner\n",
      "exited\n",
      "0    Yes\n",
      "1     No\n",
      "Name: partner, dtype: object\n"
     ]
    },
    {
     "data": {
      "image/png": "[encoded data removed]",
      "text/plain": [
       "<Figure size 864x360 with 1 Axes>"
      ]
     },
     "metadata": {
      "needs_background": "light"
     },
     "output_type": "display_data"
    },
    {
     "name": "stdout",
     "output_type": "stream",
     "text": [
      "------------------------------------\n",
      "Столбец: dependents\n",
      "exited\n",
      "0    No\n",
      "1    No\n",
      "Name: dependents, dtype: object\n"
     ]
    },
    {
     "data": {
      "image/png": "[encoded data removed]",
      "text/plain": [
       "<Figure size 864x360 with 1 Axes>"
      ]
     },
     "metadata": {
      "needs_background": "light"
     },
     "output_type": "display_data"
    },
    {
     "name": "stdout",
     "output_type": "stream",
     "text": [
      "------------------------------------\n",
      "Столбец: internet_service\n",
      "exited\n",
      "0            DSL\n",
      "1    Fiber optic\n",
      "Name: internet_service, dtype: object\n"
     ]
    },
    {
     "data": {
      "image/png": "[encoded data removed]",
      "text/plain": [
       "<Figure size 864x360 with 1 Axes>"
      ]
     },
     "metadata": {
      "needs_background": "light"
     },
     "output_type": "display_data"
    },
    {
     "name": "stdout",
     "output_type": "stream",
     "text": [
      "------------------------------------\n",
      "Столбец: online_security\n",
      "exited\n",
      "0    No\n",
      "1    No\n",
      "Name: online_security, dtype: object\n"
     ]
    },
    {
     "data": {
      "image/png": "[encoded data removed]",
      "text/plain": [
       "<Figure size 864x360 with 1 Axes>"
      ]
     },
     "metadata": {
      "needs_background": "light"
     },
     "output_type": "display_data"
    },
    {
     "name": "stdout",
     "output_type": "stream",
     "text": [
      "------------------------------------\n",
      "Столбец: online_backup\n",
      "exited\n",
      "0    No\n",
      "1    No\n",
      "Name: online_backup, dtype: object\n"
     ]
    },
    {
     "data": {
      "image/png": "[encoded data removed]",
      "text/plain": [
       "<Figure size 864x360 with 1 Axes>"
      ]
     },
     "metadata": {
      "needs_background": "light"
     },
     "output_type": "display_data"
    },
    {
     "name": "stdout",
     "output_type": "stream",
     "text": [
      "------------------------------------\n",
      "Столбец: device_protection\n",
      "exited\n",
      "0    No\n",
      "1    No\n",
      "Name: device_protection, dtype: object\n"
     ]
    },
    {
     "data": {
      "image/png": "[encoded data removed]",
      "text/plain": [
       "<Figure size 864x360 with 1 Axes>"
      ]
     },
     "metadata": {
      "needs_background": "light"
     },
     "output_type": "display_data"
    },
    {
     "name": "stdout",
     "output_type": "stream",
     "text": [
      "------------------------------------\n",
      "Столбец: tech_support\n",
      "exited\n",
      "0    No\n",
      "1    No\n",
      "Name: tech_support, dtype: object\n"
     ]
    },
    {
     "data": {
      "image/png": "[encoded data removed]",
      "text/plain": [
       "<Figure size 864x360 with 1 Axes>"
      ]
     },
     "metadata": {
      "needs_background": "light"
     },
     "output_type": "display_data"
    },
    {
     "name": "stdout",
     "output_type": "stream",
     "text": [
      "------------------------------------\n",
      "Столбец: streaming_tv\n",
      "exited\n",
      "0    No\n",
      "1    No\n",
      "Name: streaming_tv, dtype: object\n"
     ]
    },
    {
     "data": {
      "image/png": "[encoded data removed]",
      "text/plain": [
       "<Figure size 864x360 with 1 Axes>"
      ]
     },
     "metadata": {
      "needs_background": "light"
     },
     "output_type": "display_data"
    },
    {
     "name": "stdout",
     "output_type": "stream",
     "text": [
      "------------------------------------\n",
      "Столбец: streaming_movies\n",
      "exited\n",
      "0    No\n",
      "1    No\n",
      "Name: streaming_movies, dtype: object\n"
     ]
    },
    {
     "data": {
      "image/png": "[encoded data removed]",
      "text/plain": [
       "<Figure size 864x360 with 1 Axes>"
      ]
     },
     "metadata": {
      "needs_background": "light"
     },
     "output_type": "display_data"
    },
    {
     "name": "stdout",
     "output_type": "stream",
     "text": [
      "------------------------------------\n",
      "Столбец: multiple_lines\n",
      "exited\n",
      "0     No\n",
      "1    Yes\n",
      "Name: multiple_lines, dtype: object\n"
     ]
    },
    {
     "data": {
      "image/png": "[encoded data removed]",
      "text/plain": [
       "<Figure size 864x360 with 1 Axes>"
      ]
     },
     "metadata": {
      "needs_background": "light"
     },
     "output_type": "display_data"
    },
    {
     "name": "stdout",
     "output_type": "stream",
     "text": [
      "------------------------------------\n",
      "Столбец: tenure\n",
      "        median       mean\n",
      "exited                   \n",
      "0         38.0  37.569965\n",
      "1         10.0  17.979133\n"
     ]
    },
    {
     "data": {
      "image/png": "[encoded data removed]",
      "text/plain": [
       "<Figure size 864x360 with 1 Axes>"
      ]
     },
     "metadata": {
      "needs_background": "light"
     },
     "output_type": "display_data"
    }
   ],
   "source": [
    "# list of numerical features\n",
    "num_columns = ['monthly_charges', \n",
    "               'total_charges', \n",
    "               'tenure']\n",
    "\n",
    "# list of categorical features\n",
    "cat_columns = ['type', \n",
    "               'paperless_billing',\n",
    "               'payment_method', \n",
    "               'gender',\n",
    "               'senior_citizen', \n",
    "               'partner', \n",
    "               'dependents', \n",
    "               'internet_service',\n",
    "               'online_security', \n",
    "               'online_backup', \n",
    "               'device_protection', \n",
    "               'tech_support',\n",
    "               'streaming_tv', \n",
    "               'streaming_movies', \n",
    "               'multiple_lines']\n",
    "\n",
    "# building histogramms and drawing the statistics for each feature\n",
    "\n",
    "columns = df.columns.drop(['exited', 'customer_id', 'end_date'])\n",
    "for column in columns:\n",
    "    plt.figure(figsize=(12,5))\n",
    "    print('------------------------------------\\nСтолбец:', column)\n",
    "    if column in num_columns:\n",
    "        print(df.groupby('exited')[column].agg(['median', 'mean']))\n",
    "    else:\n",
    "        print(df.groupby('exited')[column].agg(pd.Series.mode))\n",
    "    sns.histplot(data=df, x=column, hue='exited', multiple='dodge')\n",
    "    plt.show()"
   ]
  },
  {
   "cell_type": "markdown",
   "id": "9229d65d",
   "metadata": {},
   "source": [
    "**Chart observations:**\n",
    "\n",
    "1. The \"oldest\" customers are the most loyal. The proportion of remaining customers among them far exceeds that of those who have left. This has been the trend for quite some time, until 2019, when the trend reversed sharply. Since 2019, we have seen a significant increase in clients who left, with the share of clients who left exceeding the share of those who stayed at the end of 2019. There was a clear breakdown in business processes: either pricing or tariff policy, or quality of service, or all combined led to a massive churn in the last year.\n",
    "2. Customers with a monthly payment type are much more likely to leave. While clients with one- and two-year contracts are as loyal as possible and hardly ever leave the company.\n",
    "3. The remaining clients are indifferent to the method of payment, while those who have left clearly prefer paying by e-cheque.\n",
    "4. The higher the monthly payment amount, the higher the proportion of clients who leave. Starting from about 70 EUR per month the proportion of clients who leave increases dramatically. The vast majority of the remaining clients have a monthly payment of 20-30 euros.\n",
    "5. The distribution of the total costs is similar. It should be noted that most of the clients who left are concentrated in the range up to EUR 1,800, as most clients have left the company recently without having accumulated a high amount of total costs.\n",
    "6. The distribution of those who left and those who stayed is absolutely identical by gender.\n",
    "7. But among pensioners the proportion of those who leave and those who stay is almost the same, which cannot be said about non-pensioners - the proportion of those who stay is much higher there.\n",
    "8. Absence of a spouse also has a negative impact on customer loyalty. Singles more easily terminate the contract.\n",
    "9. The same is true for the presence of dependants. Among those who do not have them, the proportion of clients who quit is significantly higher.\n",
    "10. A very interesting finding is related to the type of Internet connection. For those connected via fibre, the proportion of customers who leave is almost identical to the proportion of those who stay, which is not the case for those connected via DSL, or those who do not use the internet at all. Perhaps this is the reason for the mass exodus seen in the last six months to a year: either very expensive, or the quality does not meet expectations.\n",
    "11. As for additional Internet services: the majority of clients do not subscribe to them, both among those who left and those who stayed. However, for those who have Internet security connected, the percentage of those who leave is much lower than for those who do not have this service. The same applies to the availability of tech support. If it is available, customers are less likely to terminate the contract. Among those who have streaming services, the share of abandoned clients is significantly higher than among those who don't have such services. The reasons may lie in the high cost of the service, low download speeds or a narrow catalogue of films.\n",
    "12. More than half of the clients have left the company within the first 10 months of cooperation. The average period of cooperation for clients who left the company is 18 months, and for clients who stayed - 38 months. And among \"young\" clients, whose period of cooperation with the company is less than 5 months, the share of those who left the company is greater than the share of those who stayed. We will look at this feature in more detail in the next section of the study. "
   ]
  },
  {
   "cell_type": "markdown",
   "id": "5f948750",
   "metadata": {},
   "source": [
    "### Analysis of the duration of cooperation"
   ]
  },
  {
   "cell_type": "markdown",
   "id": "ec05a3eb",
   "metadata": {},
   "source": [
    "In the previous steps, we found that the duration of the cooperation has a strong influence on the fact that the client leaves. Therefore, we will explore this feature in more detail on a boxplot. "
   ]
  },
  {
   "cell_type": "code",
   "execution_count": 34,
   "id": "ab577ba0",
   "metadata": {},
   "outputs": [
    {
     "data": {
      "image/png": "[encoded data removed]",
      "text/plain": [
       "<Figure size 864x432 with 1 Axes>"
      ]
     },
     "metadata": {
      "needs_background": "light"
     },
     "output_type": "display_data"
    }
   ],
   "source": [
    "plt.figure(figsize=(12,6))\n",
    "plt.grid()\n",
    "sns.boxplot(x=df['exited'], y=df['tenure'])\n",
    "plt.title('Продолжительность сотрудничества в разрезе ушедших и оставшихся клиентов')\n",
    "plt.xlabel('Оставшиеся клиенты (0) / Ушедшие клиенты (1)')\n",
    "plt.ylabel('Длительность сотрудничества, месяцев');"
   ]
  },
  {
   "cell_type": "markdown",
   "id": "a9a5b74d",
   "metadata": {},
   "source": [
    "As noted in the previous stage of the study, the median values are very different between leaving and remaining clients - 10 months and 38 months respectively. 75% of all left clients had been with the company for only 29 months, in contrast to the remaining clients, where 75% of clients have been with the company for just over 5 years (approximately 61 months). Among those who left, there is a small tail outside the top \"whisker\", with more than 70 months of cooperation. Apparently, something serious has happened in the company's business model that even the most loyal are leaving the company."
   ]
  },
  {
   "cell_type": "markdown",
   "id": "3ffadb8a",
   "metadata": {},
   "source": [
    "### Analysis of the amount of monthly payments"
   ]
  },
  {
   "cell_type": "markdown",
   "id": "eceac692",
   "metadata": {},
   "source": [
    "The amount of monthly payments also affects the fact that the client is leaving. Will visualise this with a boxplot."
   ]
  },
  {
   "cell_type": "code",
   "execution_count": 35,
   "id": "f4a60d2a",
   "metadata": {},
   "outputs": [
    {
     "data": {
      "image/png": "[encoded data removed]",
      "text/plain": [
       "<Figure size 864x432 with 1 Axes>"
      ]
     },
     "metadata": {
      "needs_background": "light"
     },
     "output_type": "display_data"
    }
   ],
   "source": [
    "plt.figure(figsize=(12,6))\n",
    "plt.grid()\n",
    "sns.boxplot(x=df['exited'], y=df['monthly_charges'])\n",
    "plt.title('Сумма ежемесячных платежей в разрезе ушедших и оставшихся клиентов')\n",
    "plt.xlabel('Оставшиеся клиенты (0) / Ушедшие клиенты (1)')\n",
    "plt.ylabel('Сумма ежемесячного платежа, евро');"
   ]
  },
  {
   "cell_type": "markdown",
   "id": "49599af0",
   "metadata": {},
   "source": [
    "The monthly payment of half of the clients who have left is more than 80 euros, while the remaining clients pay 64 euros. Moreover, 25% of the clients remaining in the company pay only less than 24 EUR per month. And in total 50% of the remaining clients (between the 1st and 3rd quartile) pay a monthly fee of about 24 to 88 euros. For those who leave, the same range is much more expensive, between 58 and 95 euros approximately."
   ]
  },
  {
   "cell_type": "markdown",
   "id": "983393e6",
   "metadata": {},
   "source": [
    "### Analysis of the dynamics of attracting new customers"
   ]
  },
  {
   "cell_type": "markdown",
   "id": "cc4564c0",
   "metadata": {},
   "source": [
    "Let's analyse the dynamics of attracting new customers over time."
   ]
  },
  {
   "cell_type": "code",
   "execution_count": 36,
   "id": "1c881012",
   "metadata": {},
   "outputs": [
    {
     "data": {
      "image/png": "[encoded data removed]",
      "text/plain": [
       "<Figure size 864x432 with 1 Axes>"
      ]
     },
     "metadata": {
      "needs_background": "light"
     },
     "output_type": "display_data"
    }
   ],
   "source": [
    "plt.figure(figsize=(12,6))\n",
    "plt.grid()\n",
    "sns.lineplot(data=df['begin_date'].value_counts())\n",
    "plt.title('Динамика привлечения новых клиентов')\n",
    "plt.xlabel('Дата привлечения нового клиента')\n",
    "plt.ylabel('Количество новых клиентов за месяц');"
   ]
  },
  {
   "cell_type": "markdown",
   "id": "39fb2b9c",
   "metadata": {},
   "source": [
    "As the graph shows, in 2014 the Telecom operator appears to have launched its business activities and may have timed the opening with a number of marketing activities, as evidenced by the maximum peak in customer attraction in February 2014. Then for 5 years, up to 2019, the dynamics of attracting new customers stabilised in the range of 50 to 100 new customers each month. In 2019, the company has apparently decided to be active again in marketing to attract new customers, as there has been a steady growth until October 2019, then the dynamics stabilised again in the range of 230 new customers per month. We do not analyse the data for February 2020, as there are only 11 records for February 01 - the date of data upload."
   ]
  },
  {
   "cell_type": "markdown",
   "id": "49ed4545",
   "metadata": {},
   "source": [
    "### Correlation analysis between features"
   ]
  },
  {
   "cell_type": "markdown",
   "id": "0828b5cb",
   "metadata": {},
   "source": [
    "We will analyse the correlation between the features. First, we remove the features that we will not use in further work on the model building. Since we have added the target feature `exited` directly from `end_date`, we will not use this feature; we will also not use the feature `begin_date` since it, in combination with our added feature of duration of cooperation `tenure`, may lead us again to `end_date`. We will also remove the feature `customer_id`. "
   ]
  },
  {
   "cell_type": "code",
   "execution_count": 37,
   "id": "55df094d",
   "metadata": {},
   "outputs": [],
   "source": [
    "df = df.drop(['customer_id', 'begin_date', 'end_date'], axis=1)"
   ]
  },
  {
   "cell_type": "markdown",
   "id": "8c289412",
   "metadata": {},
   "source": [
    "Our table contains many categorical features in addition to numerical ones, so the Pearson linear correlation calculation, used for numerical features, is not applicable in this situation. \n",
    "\n",
    "In order to carry out correlation analysis for all the features simultaneously, including categorical features, we build a heat map with the calculation of correlation coefficients *фk* using the library *phik*."
   ]
  },
  {
   "cell_type": "code",
   "execution_count": 38,
   "id": "d1f2d59d",
   "metadata": {},
   "outputs": [
    {
     "data": {
      "image/png": "[encoded data removed]",
      "text/plain": [
       "<Figure size 1152x576 with 2 Axes>"
      ]
     },
     "metadata": {
      "needs_background": "light"
     },
     "output_type": "display_data"
    }
   ],
   "source": [
    "# building the features' correlation matrix\n",
    "interval_cols = ['monthly_charges',\n",
    "                 'total_charges',\n",
    "                 'tenure']\n",
    "\n",
    "plt.figure(figsize=(16,8))\n",
    "sns.heatmap(df.phik_matrix(interval_cols=interval_cols).round(2), \n",
    "            annot=True,\n",
    "            cmap='Greens')\n",
    "plt.title('Корреляции между признаками', fontsize=13);"
   ]
  },
  {
   "cell_type": "markdown",
   "id": "c98a8928",
   "metadata": {},
   "source": [
    "**Correlation matrix observations:**\n",
    "\n",
    "1. The target feature has a medium level of correlation with the features of payment method (0.45) and duration of cooperation (0.47). There is also zero correlation with features `gender` (0) and `multiple_lines` (0.02).\n",
    "2. The feature `monthly_charges` has a very high correlation with the feature type of internet connection (0.92), with the feature `total_charges` (0.76), which is logical - the higher the monthly payment, the higher the total amount. Also, the feature `monthly_charges` has a rather close correlation with all the features of additional Internet services. Obviously, every additional service is directly reflected in the monthly payment.\n",
    "3. The feature `total_charges` is strongly correlated with the duration of cooperation `tenure` (0.84).\n",
    "4. `streaming_movies` and `streaming_tv` are strongly correlated (0.74), obviously users connect the streaming services in a bundle.\n",
    "5. The feature `gender` is not correlated with any of the features at all.\n",
    "\n",
    "Since it is desirable to remove features that are weakly related to the target, in further work with the model, we will remove the features `gender` and `multiple_lines`. In addition to those that are weakly related to the target, it is also useful to remove those features that are strongly related to each other. In fact, such features have a coherent effect on the model's training (as if they were one combined factor), but the model, when determining the importance of the factors, splits the importance between them. Therefore, we also suggest removing the feature `total_charges`, as it has a relatively high correlation with many features, as well as a high correlation with `tenure` and `monthly_charges`."
   ]
  },
  {
   "cell_type": "code",
   "execution_count": 39,
   "id": "7bccff1d",
   "metadata": {},
   "outputs": [],
   "source": [
    "df = df.drop(['gender', 'multiple_lines', 'total_charges'], axis=1)"
   ]
  },
  {
   "cell_type": "markdown",
   "id": "685da037",
   "metadata": {},
   "source": [
    "## Data preparation"
   ]
  },
  {
   "cell_type": "markdown",
   "id": "7cee0fee",
   "metadata": {},
   "source": [
    "Let us define the features and the target that we will use in the gradient boosting models (Catboost/LightGBM). Since these models have a built-in categorical data processing mechanism, there is no need to encode categorical features for these models.\n",
    "\n",
    "We also split the dataset into training and test subsets at a ratio 3:1. When splitting into subsets, we take into account the imbalance of the target feature, so we use the parameter `stratify` to distribute the classes in the target feature proportionally among the subsets. \n",
    "\n",
    "**Forming subsets for Gradient Boosting models**"
   ]
  },
  {
   "cell_type": "code",
   "execution_count": 41,
   "id": "1079caf6",
   "metadata": {},
   "outputs": [],
   "source": [
    "# defining features and target\n",
    "\n",
    "X = df.drop(['exited'], axis=1)\n",
    "y = df['exited']\n",
    "\n",
    "# splitting dataset into train and test subsets at a ration 3:1\n",
    "\n",
    "X_train, X_test, y_train, y_test = train_test_split(X, y, test_size=0.25, stratify=y, random_state=141122)"
   ]
  },
  {
   "cell_type": "code",
   "execution_count": 42,
   "id": "d552de9c",
   "metadata": {},
   "outputs": [
    {
     "name": "stdout",
     "output_type": "stream",
     "text": [
      "Размер обучающей выборки: (5282, 15)\n",
      "Размер тестовой выборки: (1761, 15)\n"
     ]
    }
   ],
   "source": [
    "# checing subsets shape\n",
    "print('Размер обучающей выборки:', X_train.shape)\n",
    "print('Размер тестовой выборки:', X_test.shape)"
   ]
  },
  {
   "cell_type": "markdown",
   "id": "e425f799",
   "metadata": {},
   "source": [
    "When working with the Boosting model (LightGBM/Catboost), which has an internal mechanism for processing categorical features, we did not have to conduct categorical feature coding. However, to work with Logistic Regression and Random Forest it is necessary to carry out preliminary data transformations, namely categorical feature encoding as well as numerical feature scaling for Logistic Regression. Since decision tree algorithms (Random Forest and Boosting models) have a hard time finding dependencies in scaled data, we will not scale numerical features for the Random Forest model.\n",
    "\n",
    "In order to avoid data leakage into the test sample, both encoding and scaling will be performed after splitting the dataset into training and test samples."
   ]
  },
  {
   "cell_type": "markdown",
   "id": "71a10c1a",
   "metadata": {},
   "source": [
    "**Forming subsets for Logistic Regression**"
   ]
  },
  {
   "cell_type": "markdown",
   "id": "2585844e",
   "metadata": {},
   "source": [
    "For Logistic Regression, we will do categorical features encoding using the One Hot Encoding method."
   ]
  },
  {
   "cell_type": "code",
   "execution_count": 43,
   "id": "d1fcadc0",
   "metadata": {},
   "outputs": [],
   "source": [
    "cat_columns = list(X_train.select_dtypes('object').columns)\n",
    "\n",
    "enc = OneHotEncoder(sparse=False, drop='first', handle_unknown='ignore')\n",
    "\n",
    "X_train_ohe = X_train.copy()\n",
    "X_test_ohe = X_test.copy()\n",
    "\n",
    "X_train_ohe = enc.fit_transform(X_train[cat_columns])\n",
    "X_train_ohe = pd.DataFrame(X_train_ohe, index=X_train.index, columns=enc.get_feature_names_out())\n",
    "X_train_ohe = pd.concat([X_train, X_train_ohe], axis=1).drop(cat_columns, axis=1)\n",
    "\n",
    "X_test_ohe = enc.transform(X_test[cat_columns])\n",
    "X_test_ohe = pd.DataFrame(X_test_ohe, index=X_test.index, columns=enc.get_feature_names_out())\n",
    "X_test_ohe = pd.concat([X_test, X_test_ohe], axis=1).drop(cat_columns, axis=1)"
   ]
  },
  {
   "cell_type": "code",
   "execution_count": 44,
   "id": "922b5a6e",
   "metadata": {},
   "outputs": [
    {
     "data": {
      "text/html": [
       "<div>\n",
       "<style scoped>\n",
       "    .dataframe tbody tr th:only-of-type {\n",
       "        vertical-align: middle;\n",
       "    }\n",
       "\n",
       "    .dataframe tbody tr th {\n",
       "        vertical-align: top;\n",
       "    }\n",
       "\n",
       "    .dataframe thead th {\n",
       "        text-align: right;\n",
       "    }\n",
       "</style>\n",
       "<table border=\"1\" class=\"dataframe\">\n",
       "  <thead>\n",
       "    <tr style=\"text-align: right;\">\n",
       "      <th></th>\n",
       "      <th>monthly_charges</th>\n",
       "      <th>tenure</th>\n",
       "      <th>type_One year</th>\n",
       "      <th>type_Two year</th>\n",
       "      <th>paperless_billing_Yes</th>\n",
       "      <th>payment_method_Credit card (automatic)</th>\n",
       "      <th>payment_method_Electronic check</th>\n",
       "      <th>payment_method_Mailed check</th>\n",
       "      <th>senior_citizen_1</th>\n",
       "      <th>partner_Yes</th>\n",
       "      <th>dependents_Yes</th>\n",
       "      <th>internet_service_Fiber optic</th>\n",
       "      <th>internet_service_No</th>\n",
       "      <th>online_security_Yes</th>\n",
       "      <th>online_backup_Yes</th>\n",
       "      <th>device_protection_Yes</th>\n",
       "      <th>tech_support_Yes</th>\n",
       "      <th>streaming_tv_Yes</th>\n",
       "      <th>streaming_movies_Yes</th>\n",
       "    </tr>\n",
       "  </thead>\n",
       "  <tbody>\n",
       "    <tr>\n",
       "      <th>5685</th>\n",
       "      <td>19.20</td>\n",
       "      <td>45.0</td>\n",
       "      <td>0.0</td>\n",
       "      <td>1.0</td>\n",
       "      <td>0.0</td>\n",
       "      <td>0.0</td>\n",
       "      <td>1.0</td>\n",
       "      <td>0.0</td>\n",
       "      <td>0.0</td>\n",
       "      <td>1.0</td>\n",
       "      <td>1.0</td>\n",
       "      <td>0.0</td>\n",
       "      <td>1.0</td>\n",
       "      <td>0.0</td>\n",
       "      <td>0.0</td>\n",
       "      <td>0.0</td>\n",
       "      <td>0.0</td>\n",
       "      <td>0.0</td>\n",
       "      <td>0.0</td>\n",
       "    </tr>\n",
       "    <tr>\n",
       "      <th>1641</th>\n",
       "      <td>87.10</td>\n",
       "      <td>72.0</td>\n",
       "      <td>0.0</td>\n",
       "      <td>1.0</td>\n",
       "      <td>1.0</td>\n",
       "      <td>0.0</td>\n",
       "      <td>0.0</td>\n",
       "      <td>0.0</td>\n",
       "      <td>0.0</td>\n",
       "      <td>1.0</td>\n",
       "      <td>0.0</td>\n",
       "      <td>0.0</td>\n",
       "      <td>0.0</td>\n",
       "      <td>1.0</td>\n",
       "      <td>1.0</td>\n",
       "      <td>1.0</td>\n",
       "      <td>1.0</td>\n",
       "      <td>1.0</td>\n",
       "      <td>1.0</td>\n",
       "    </tr>\n",
       "    <tr>\n",
       "      <th>968</th>\n",
       "      <td>77.35</td>\n",
       "      <td>71.0</td>\n",
       "      <td>0.0</td>\n",
       "      <td>1.0</td>\n",
       "      <td>0.0</td>\n",
       "      <td>1.0</td>\n",
       "      <td>0.0</td>\n",
       "      <td>0.0</td>\n",
       "      <td>0.0</td>\n",
       "      <td>0.0</td>\n",
       "      <td>0.0</td>\n",
       "      <td>0.0</td>\n",
       "      <td>0.0</td>\n",
       "      <td>1.0</td>\n",
       "      <td>1.0</td>\n",
       "      <td>1.0</td>\n",
       "      <td>1.0</td>\n",
       "      <td>1.0</td>\n",
       "      <td>0.0</td>\n",
       "    </tr>\n",
       "    <tr>\n",
       "      <th>2666</th>\n",
       "      <td>79.50</td>\n",
       "      <td>66.0</td>\n",
       "      <td>0.0</td>\n",
       "      <td>1.0</td>\n",
       "      <td>1.0</td>\n",
       "      <td>1.0</td>\n",
       "      <td>0.0</td>\n",
       "      <td>0.0</td>\n",
       "      <td>0.0</td>\n",
       "      <td>0.0</td>\n",
       "      <td>1.0</td>\n",
       "      <td>0.0</td>\n",
       "      <td>0.0</td>\n",
       "      <td>0.0</td>\n",
       "      <td>1.0</td>\n",
       "      <td>1.0</td>\n",
       "      <td>1.0</td>\n",
       "      <td>1.0</td>\n",
       "      <td>1.0</td>\n",
       "    </tr>\n",
       "    <tr>\n",
       "      <th>252</th>\n",
       "      <td>40.20</td>\n",
       "      <td>1.0</td>\n",
       "      <td>0.0</td>\n",
       "      <td>0.0</td>\n",
       "      <td>0.0</td>\n",
       "      <td>0.0</td>\n",
       "      <td>1.0</td>\n",
       "      <td>0.0</td>\n",
       "      <td>1.0</td>\n",
       "      <td>1.0</td>\n",
       "      <td>0.0</td>\n",
       "      <td>0.0</td>\n",
       "      <td>0.0</td>\n",
       "      <td>0.0</td>\n",
       "      <td>1.0</td>\n",
       "      <td>0.0</td>\n",
       "      <td>0.0</td>\n",
       "      <td>1.0</td>\n",
       "      <td>0.0</td>\n",
       "    </tr>\n",
       "  </tbody>\n",
       "</table>\n",
       "</div>"
      ],
      "text/plain": [
       "      monthly_charges  tenure  type_One year  type_Two year  \\\n",
       "5685            19.20    45.0            0.0            1.0   \n",
       "1641            87.10    72.0            0.0            1.0   \n",
       "968             77.35    71.0            0.0            1.0   \n",
       "2666            79.50    66.0            0.0            1.0   \n",
       "252             40.20     1.0            0.0            0.0   \n",
       "\n",
       "      paperless_billing_Yes  payment_method_Credit card (automatic)  \\\n",
       "5685                    0.0                                     0.0   \n",
       "1641                    1.0                                     0.0   \n",
       "968                     0.0                                     1.0   \n",
       "2666                    1.0                                     1.0   \n",
       "252                     0.0                                     0.0   \n",
       "\n",
       "      payment_method_Electronic check  payment_method_Mailed check  \\\n",
       "5685                              1.0                          0.0   \n",
       "1641                              0.0                          0.0   \n",
       "968                               0.0                          0.0   \n",
       "2666                              0.0                          0.0   \n",
       "252                               1.0                          0.0   \n",
       "\n",
       "      senior_citizen_1  partner_Yes  dependents_Yes  \\\n",
       "5685               0.0          1.0             1.0   \n",
       "1641               0.0          1.0             0.0   \n",
       "968                0.0          0.0             0.0   \n",
       "2666               0.0          0.0             1.0   \n",
       "252                1.0          1.0             0.0   \n",
       "\n",
       "      internet_service_Fiber optic  internet_service_No  online_security_Yes  \\\n",
       "5685                           0.0                  1.0                  0.0   \n",
       "1641                           0.0                  0.0                  1.0   \n",
       "968                            0.0                  0.0                  1.0   \n",
       "2666                           0.0                  0.0                  0.0   \n",
       "252                            0.0                  0.0                  0.0   \n",
       "\n",
       "      online_backup_Yes  device_protection_Yes  tech_support_Yes  \\\n",
       "5685                0.0                    0.0               0.0   \n",
       "1641                1.0                    1.0               1.0   \n",
       "968                 1.0                    1.0               1.0   \n",
       "2666                1.0                    1.0               1.0   \n",
       "252                 1.0                    0.0               0.0   \n",
       "\n",
       "      streaming_tv_Yes  streaming_movies_Yes  \n",
       "5685               0.0                   0.0  \n",
       "1641               1.0                   1.0  \n",
       "968                1.0                   0.0  \n",
       "2666               1.0                   1.0  \n",
       "252                1.0                   0.0  "
      ]
     },
     "execution_count": 44,
     "metadata": {},
     "output_type": "execute_result"
    }
   ],
   "source": [
    "X_train_ohe.head()"
   ]
  },
  {
   "cell_type": "code",
   "execution_count": 45,
   "id": "0a8fff32",
   "metadata": {},
   "outputs": [
    {
     "name": "stdout",
     "output_type": "stream",
     "text": [
      "Размер обучающей выборки: (5282, 19)\n",
      "Размер тестовой выборки: (1761, 19)\n"
     ]
    }
   ],
   "source": [
    "# checking subsets shape\n",
    "print('Размер обучающей выборки:', X_train_ohe.shape)\n",
    "print('Размер тестовой выборки:', X_test_ohe.shape)"
   ]
  },
  {
   "cell_type": "markdown",
   "id": "4e06f59d",
   "metadata": {},
   "source": [
    "*Numerical features scaling*.\n",
    "\n",
    "The numerical attributes in the dataset differ in value, unit and range. Since the linear model algorithm can assume differences in values as an element of importance and priority of one feature over another, it is necessary to scale numerical features for Logistic Regression."
   ]
  },
  {
   "cell_type": "code",
   "execution_count": 46,
   "id": "be26203d",
   "metadata": {},
   "outputs": [],
   "source": [
    "# defining a list of numeric features\n",
    "\n",
    "numeric = ['monthly_charges', 'tenure']\n",
    "\n",
    "# scaling subsets\n",
    "\n",
    "scaler = StandardScaler()\n",
    "scaler.fit(X_train_ohe[numeric])\n",
    "X_train_ohe[numeric] = scaler.transform(X_train_ohe[numeric])\n",
    "X_test_ohe[numeric] = scaler.transform(X_test_ohe[numeric])"
   ]
  },
  {
   "cell_type": "code",
   "execution_count": 47,
   "id": "a24863df",
   "metadata": {},
   "outputs": [
    {
     "data": {
      "text/html": [
       "<div>\n",
       "<style scoped>\n",
       "    .dataframe tbody tr th:only-of-type {\n",
       "        vertical-align: middle;\n",
       "    }\n",
       "\n",
       "    .dataframe tbody tr th {\n",
       "        vertical-align: top;\n",
       "    }\n",
       "\n",
       "    .dataframe thead th {\n",
       "        text-align: right;\n",
       "    }\n",
       "</style>\n",
       "<table border=\"1\" class=\"dataframe\">\n",
       "  <thead>\n",
       "    <tr style=\"text-align: right;\">\n",
       "      <th></th>\n",
       "      <th>monthly_charges</th>\n",
       "      <th>tenure</th>\n",
       "      <th>type_One year</th>\n",
       "      <th>type_Two year</th>\n",
       "      <th>paperless_billing_Yes</th>\n",
       "      <th>payment_method_Credit card (automatic)</th>\n",
       "      <th>payment_method_Electronic check</th>\n",
       "      <th>payment_method_Mailed check</th>\n",
       "      <th>senior_citizen_1</th>\n",
       "      <th>partner_Yes</th>\n",
       "      <th>dependents_Yes</th>\n",
       "      <th>internet_service_Fiber optic</th>\n",
       "      <th>internet_service_No</th>\n",
       "      <th>online_security_Yes</th>\n",
       "      <th>online_backup_Yes</th>\n",
       "      <th>device_protection_Yes</th>\n",
       "      <th>tech_support_Yes</th>\n",
       "      <th>streaming_tv_Yes</th>\n",
       "      <th>streaming_movies_Yes</th>\n",
       "    </tr>\n",
       "  </thead>\n",
       "  <tbody>\n",
       "    <tr>\n",
       "      <th>5685</th>\n",
       "      <td>-1.515856</td>\n",
       "      <td>0.519778</td>\n",
       "      <td>0.0</td>\n",
       "      <td>1.0</td>\n",
       "      <td>0.0</td>\n",
       "      <td>0.0</td>\n",
       "      <td>1.0</td>\n",
       "      <td>0.0</td>\n",
       "      <td>0.0</td>\n",
       "      <td>1.0</td>\n",
       "      <td>1.0</td>\n",
       "      <td>0.0</td>\n",
       "      <td>1.0</td>\n",
       "      <td>0.0</td>\n",
       "      <td>0.0</td>\n",
       "      <td>0.0</td>\n",
       "      <td>0.0</td>\n",
       "      <td>0.0</td>\n",
       "      <td>0.0</td>\n",
       "    </tr>\n",
       "    <tr>\n",
       "      <th>1641</th>\n",
       "      <td>0.743901</td>\n",
       "      <td>1.620132</td>\n",
       "      <td>0.0</td>\n",
       "      <td>1.0</td>\n",
       "      <td>1.0</td>\n",
       "      <td>0.0</td>\n",
       "      <td>0.0</td>\n",
       "      <td>0.0</td>\n",
       "      <td>0.0</td>\n",
       "      <td>1.0</td>\n",
       "      <td>0.0</td>\n",
       "      <td>0.0</td>\n",
       "      <td>0.0</td>\n",
       "      <td>1.0</td>\n",
       "      <td>1.0</td>\n",
       "      <td>1.0</td>\n",
       "      <td>1.0</td>\n",
       "      <td>1.0</td>\n",
       "      <td>1.0</td>\n",
       "    </tr>\n",
       "    <tr>\n",
       "      <th>968</th>\n",
       "      <td>0.419415</td>\n",
       "      <td>1.579378</td>\n",
       "      <td>0.0</td>\n",
       "      <td>1.0</td>\n",
       "      <td>0.0</td>\n",
       "      <td>1.0</td>\n",
       "      <td>0.0</td>\n",
       "      <td>0.0</td>\n",
       "      <td>0.0</td>\n",
       "      <td>0.0</td>\n",
       "      <td>0.0</td>\n",
       "      <td>0.0</td>\n",
       "      <td>0.0</td>\n",
       "      <td>1.0</td>\n",
       "      <td>1.0</td>\n",
       "      <td>1.0</td>\n",
       "      <td>1.0</td>\n",
       "      <td>1.0</td>\n",
       "      <td>0.0</td>\n",
       "    </tr>\n",
       "    <tr>\n",
       "      <th>2666</th>\n",
       "      <td>0.490968</td>\n",
       "      <td>1.375609</td>\n",
       "      <td>0.0</td>\n",
       "      <td>1.0</td>\n",
       "      <td>1.0</td>\n",
       "      <td>1.0</td>\n",
       "      <td>0.0</td>\n",
       "      <td>0.0</td>\n",
       "      <td>0.0</td>\n",
       "      <td>0.0</td>\n",
       "      <td>1.0</td>\n",
       "      <td>0.0</td>\n",
       "      <td>0.0</td>\n",
       "      <td>0.0</td>\n",
       "      <td>1.0</td>\n",
       "      <td>1.0</td>\n",
       "      <td>1.0</td>\n",
       "      <td>1.0</td>\n",
       "      <td>1.0</td>\n",
       "    </tr>\n",
       "    <tr>\n",
       "      <th>252</th>\n",
       "      <td>-0.816962</td>\n",
       "      <td>-1.273392</td>\n",
       "      <td>0.0</td>\n",
       "      <td>0.0</td>\n",
       "      <td>0.0</td>\n",
       "      <td>0.0</td>\n",
       "      <td>1.0</td>\n",
       "      <td>0.0</td>\n",
       "      <td>1.0</td>\n",
       "      <td>1.0</td>\n",
       "      <td>0.0</td>\n",
       "      <td>0.0</td>\n",
       "      <td>0.0</td>\n",
       "      <td>0.0</td>\n",
       "      <td>1.0</td>\n",
       "      <td>0.0</td>\n",
       "      <td>0.0</td>\n",
       "      <td>1.0</td>\n",
       "      <td>0.0</td>\n",
       "    </tr>\n",
       "  </tbody>\n",
       "</table>\n",
       "</div>"
      ],
      "text/plain": [
       "      monthly_charges    tenure  type_One year  type_Two year  \\\n",
       "5685        -1.515856  0.519778            0.0            1.0   \n",
       "1641         0.743901  1.620132            0.0            1.0   \n",
       "968          0.419415  1.579378            0.0            1.0   \n",
       "2666         0.490968  1.375609            0.0            1.0   \n",
       "252         -0.816962 -1.273392            0.0            0.0   \n",
       "\n",
       "      paperless_billing_Yes  payment_method_Credit card (automatic)  \\\n",
       "5685                    0.0                                     0.0   \n",
       "1641                    1.0                                     0.0   \n",
       "968                     0.0                                     1.0   \n",
       "2666                    1.0                                     1.0   \n",
       "252                     0.0                                     0.0   \n",
       "\n",
       "      payment_method_Electronic check  payment_method_Mailed check  \\\n",
       "5685                              1.0                          0.0   \n",
       "1641                              0.0                          0.0   \n",
       "968                               0.0                          0.0   \n",
       "2666                              0.0                          0.0   \n",
       "252                               1.0                          0.0   \n",
       "\n",
       "      senior_citizen_1  partner_Yes  dependents_Yes  \\\n",
       "5685               0.0          1.0             1.0   \n",
       "1641               0.0          1.0             0.0   \n",
       "968                0.0          0.0             0.0   \n",
       "2666               0.0          0.0             1.0   \n",
       "252                1.0          1.0             0.0   \n",
       "\n",
       "      internet_service_Fiber optic  internet_service_No  online_security_Yes  \\\n",
       "5685                           0.0                  1.0                  0.0   \n",
       "1641                           0.0                  0.0                  1.0   \n",
       "968                            0.0                  0.0                  1.0   \n",
       "2666                           0.0                  0.0                  0.0   \n",
       "252                            0.0                  0.0                  0.0   \n",
       "\n",
       "      online_backup_Yes  device_protection_Yes  tech_support_Yes  \\\n",
       "5685                0.0                    0.0               0.0   \n",
       "1641                1.0                    1.0               1.0   \n",
       "968                 1.0                    1.0               1.0   \n",
       "2666                1.0                    1.0               1.0   \n",
       "252                 1.0                    0.0               0.0   \n",
       "\n",
       "      streaming_tv_Yes  streaming_movies_Yes  \n",
       "5685               0.0                   0.0  \n",
       "1641               1.0                   1.0  \n",
       "968                1.0                   0.0  \n",
       "2666               1.0                   1.0  \n",
       "252                1.0                   0.0  "
      ]
     },
     "execution_count": 47,
     "metadata": {},
     "output_type": "execute_result"
    }
   ],
   "source": [
    "X_train_ohe.head()"
   ]
  },
  {
   "cell_type": "markdown",
   "id": "f1dd302d",
   "metadata": {},
   "source": [
    "**Forming subsets for Random Forest**"
   ]
  },
  {
   "cell_type": "markdown",
   "id": "ac22a51b",
   "metadata": {},
   "source": [
    "OHE is not suitable for the Random Forest model, it does not work well with it. Let's perform categorical features encoding with OE - OrdinalEncoder method."
   ]
  },
  {
   "cell_type": "code",
   "execution_count": 48,
   "id": "b7a00a99",
   "metadata": {},
   "outputs": [],
   "source": [
    "# encoding categorical features using OrdinalEncoder method\n",
    "\n",
    "encoder = OrdinalEncoder()\n",
    "\n",
    "X_train_oe = X_train.copy()\n",
    "X_test_oe = X_test.copy()\n",
    "\n",
    "X_train_oe[cat_columns] = encoder.fit_transform(X_train_oe[cat_columns])\n",
    "X_test_oe[cat_columns] = encoder.transform(X_test_oe[cat_columns])"
   ]
  },
  {
   "cell_type": "code",
   "execution_count": 49,
   "id": "9b3ab025",
   "metadata": {},
   "outputs": [
    {
     "data": {
      "text/html": [
       "<div>\n",
       "<style scoped>\n",
       "    .dataframe tbody tr th:only-of-type {\n",
       "        vertical-align: middle;\n",
       "    }\n",
       "\n",
       "    .dataframe tbody tr th {\n",
       "        vertical-align: top;\n",
       "    }\n",
       "\n",
       "    .dataframe thead th {\n",
       "        text-align: right;\n",
       "    }\n",
       "</style>\n",
       "<table border=\"1\" class=\"dataframe\">\n",
       "  <thead>\n",
       "    <tr style=\"text-align: right;\">\n",
       "      <th></th>\n",
       "      <th>type</th>\n",
       "      <th>paperless_billing</th>\n",
       "      <th>payment_method</th>\n",
       "      <th>monthly_charges</th>\n",
       "      <th>senior_citizen</th>\n",
       "      <th>partner</th>\n",
       "      <th>dependents</th>\n",
       "      <th>internet_service</th>\n",
       "      <th>online_security</th>\n",
       "      <th>online_backup</th>\n",
       "      <th>device_protection</th>\n",
       "      <th>tech_support</th>\n",
       "      <th>streaming_tv</th>\n",
       "      <th>streaming_movies</th>\n",
       "      <th>tenure</th>\n",
       "    </tr>\n",
       "  </thead>\n",
       "  <tbody>\n",
       "    <tr>\n",
       "      <th>5685</th>\n",
       "      <td>2.0</td>\n",
       "      <td>0.0</td>\n",
       "      <td>2.0</td>\n",
       "      <td>19.20</td>\n",
       "      <td>0.0</td>\n",
       "      <td>1.0</td>\n",
       "      <td>1.0</td>\n",
       "      <td>2.0</td>\n",
       "      <td>0.0</td>\n",
       "      <td>0.0</td>\n",
       "      <td>0.0</td>\n",
       "      <td>0.0</td>\n",
       "      <td>0.0</td>\n",
       "      <td>0.0</td>\n",
       "      <td>45.0</td>\n",
       "    </tr>\n",
       "    <tr>\n",
       "      <th>1641</th>\n",
       "      <td>2.0</td>\n",
       "      <td>1.0</td>\n",
       "      <td>0.0</td>\n",
       "      <td>87.10</td>\n",
       "      <td>0.0</td>\n",
       "      <td>1.0</td>\n",
       "      <td>0.0</td>\n",
       "      <td>0.0</td>\n",
       "      <td>1.0</td>\n",
       "      <td>1.0</td>\n",
       "      <td>1.0</td>\n",
       "      <td>1.0</td>\n",
       "      <td>1.0</td>\n",
       "      <td>1.0</td>\n",
       "      <td>72.0</td>\n",
       "    </tr>\n",
       "    <tr>\n",
       "      <th>968</th>\n",
       "      <td>2.0</td>\n",
       "      <td>0.0</td>\n",
       "      <td>1.0</td>\n",
       "      <td>77.35</td>\n",
       "      <td>0.0</td>\n",
       "      <td>0.0</td>\n",
       "      <td>0.0</td>\n",
       "      <td>0.0</td>\n",
       "      <td>1.0</td>\n",
       "      <td>1.0</td>\n",
       "      <td>1.0</td>\n",
       "      <td>1.0</td>\n",
       "      <td>1.0</td>\n",
       "      <td>0.0</td>\n",
       "      <td>71.0</td>\n",
       "    </tr>\n",
       "    <tr>\n",
       "      <th>2666</th>\n",
       "      <td>2.0</td>\n",
       "      <td>1.0</td>\n",
       "      <td>1.0</td>\n",
       "      <td>79.50</td>\n",
       "      <td>0.0</td>\n",
       "      <td>0.0</td>\n",
       "      <td>1.0</td>\n",
       "      <td>0.0</td>\n",
       "      <td>0.0</td>\n",
       "      <td>1.0</td>\n",
       "      <td>1.0</td>\n",
       "      <td>1.0</td>\n",
       "      <td>1.0</td>\n",
       "      <td>1.0</td>\n",
       "      <td>66.0</td>\n",
       "    </tr>\n",
       "    <tr>\n",
       "      <th>252</th>\n",
       "      <td>0.0</td>\n",
       "      <td>0.0</td>\n",
       "      <td>2.0</td>\n",
       "      <td>40.20</td>\n",
       "      <td>1.0</td>\n",
       "      <td>1.0</td>\n",
       "      <td>0.0</td>\n",
       "      <td>0.0</td>\n",
       "      <td>0.0</td>\n",
       "      <td>1.0</td>\n",
       "      <td>0.0</td>\n",
       "      <td>0.0</td>\n",
       "      <td>1.0</td>\n",
       "      <td>0.0</td>\n",
       "      <td>1.0</td>\n",
       "    </tr>\n",
       "  </tbody>\n",
       "</table>\n",
       "</div>"
      ],
      "text/plain": [
       "      type  paperless_billing  payment_method  monthly_charges  \\\n",
       "5685   2.0                0.0             2.0            19.20   \n",
       "1641   2.0                1.0             0.0            87.10   \n",
       "968    2.0                0.0             1.0            77.35   \n",
       "2666   2.0                1.0             1.0            79.50   \n",
       "252    0.0                0.0             2.0            40.20   \n",
       "\n",
       "      senior_citizen  partner  dependents  internet_service  online_security  \\\n",
       "5685             0.0      1.0         1.0               2.0              0.0   \n",
       "1641             0.0      1.0         0.0               0.0              1.0   \n",
       "968              0.0      0.0         0.0               0.0              1.0   \n",
       "2666             0.0      0.0         1.0               0.0              0.0   \n",
       "252              1.0      1.0         0.0               0.0              0.0   \n",
       "\n",
       "      online_backup  device_protection  tech_support  streaming_tv  \\\n",
       "5685            0.0                0.0           0.0           0.0   \n",
       "1641            1.0                1.0           1.0           1.0   \n",
       "968             1.0                1.0           1.0           1.0   \n",
       "2666            1.0                1.0           1.0           1.0   \n",
       "252             1.0                0.0           0.0           1.0   \n",
       "\n",
       "      streaming_movies  tenure  \n",
       "5685               0.0    45.0  \n",
       "1641               1.0    72.0  \n",
       "968                0.0    71.0  \n",
       "2666               1.0    66.0  \n",
       "252                0.0     1.0  "
      ]
     },
     "execution_count": 49,
     "metadata": {},
     "output_type": "execute_result"
    }
   ],
   "source": [
    "X_train_oe.head()"
   ]
  },
  {
   "cell_type": "code",
   "execution_count": 50,
   "id": "d67312fb",
   "metadata": {},
   "outputs": [
    {
     "name": "stdout",
     "output_type": "stream",
     "text": [
      "Размер обучающей выборки: (5282, 15)\n",
      "Размер тестовой выборки: (1761, 15)\n"
     ]
    }
   ],
   "source": [
    "# checing subsets shape\n",
    "print('Размер обучающей выборки:', X_train_oe.shape)\n",
    "print('Размер тестовой выборки:', X_test_oe.shape)"
   ]
  },
  {
   "cell_type": "markdown",
   "id": "9c217e01",
   "metadata": {},
   "source": [
    "**Conclusions**.\n",
    "\n",
    "The following steps were carried out in preparation of the data for model building:\n",
    "\n",
    "- Samples for the boosting models were generated; the original data was split into training and test samples in the proportion of 75:25. The training and test samples for the boosting models are as follows: `X_train` and `X_test`;\n",
    "- for Logistic Regression, categorical variables were encoded using the OHE method, and numerical features were scaled. The training and test samples for Logistic Regression are as follows: `X_train_ohe` and `X_test_ohe`;\n",
    "- for the Random Forest model, categorical variables were encoded using the OrdinalEncoder method. The training and test samples for the Random Forest model are as follows: `X_train_oe` and `X_test_oe`."
   ]
  },
  {
   "cell_type": "markdown",
   "id": "b0e7e28f",
   "metadata": {},
   "source": [
    "## Models training"
   ]
  },
  {
   "cell_type": "markdown",
   "id": "0ec7238e",
   "metadata": {},
   "source": [
    "We will train several models with the following algorithms: Logistic Regression, Random Forest, Catboost Gradient Boosting and LightGBM Gradient Boosting.\n",
    "\n",
    "For each of the models, we will select the optimal hyperparameters using the GridSearchCV tool, which implements cross-validation. Also, at the preprocessing stage, we have found that our target feature is not balanced - the ratio of negative to positive class was 0.73:0.27. So, let's apply the hyperparameter `class_weight='balanced'`. We will evaluate the quality of the models using the metric `ROC-AUC`. The model with the highest metric will be tested on the test sample."
   ]
  },
  {
   "cell_type": "markdown",
   "id": "5b7de417",
   "metadata": {},
   "source": [
    "### Logistic Regression"
   ]
  },
  {
   "cell_type": "code",
   "execution_count": 51,
   "id": "0902da06",
   "metadata": {},
   "outputs": [
    {
     "name": "stdout",
     "output_type": "stream",
     "text": [
      "Fitting 5 folds for each of 54 candidates, totalling 270 fits\n",
      "Wall time: 2.71 s\n"
     ]
    },
    {
     "data": {
      "text/html": [
       "<style>#sk-container-id-1 {color: black;background-color: white;}#sk-container-id-1 pre{padding: 0;}#sk-container-id-1 div.sk-toggleable {background-color: white;}#sk-container-id-1 label.sk-toggleable__label {cursor: pointer;display: block;width: 100%;margin-bottom: 0;padding: 0.3em;box-sizing: border-box;text-align: center;}#sk-container-id-1 label.sk-toggleable__label-arrow:before {content: \"▸\";float: left;margin-right: 0.25em;color: #696969;}#sk-container-id-1 label.sk-toggleable__label-arrow:hover:before {color: black;}#sk-container-id-1 div.sk-estimator:hover label.sk-toggleable__label-arrow:before {color: black;}#sk-container-id-1 div.sk-toggleable__content {max-height: 0;max-width: 0;overflow: hidden;text-align: left;background-color: #f0f8ff;}#sk-container-id-1 div.sk-toggleable__content pre {margin: 0.2em;color: black;border-radius: 0.25em;background-color: #f0f8ff;}#sk-container-id-1 input.sk-toggleable__control:checked~div.sk-toggleable__content {max-height: 200px;max-width: 100%;overflow: auto;}#sk-container-id-1 input.sk-toggleable__control:checked~label.sk-toggleable__label-arrow:before {content: \"▾\";}#sk-container-id-1 div.sk-estimator input.sk-toggleable__control:checked~label.sk-toggleable__label {background-color: #d4ebff;}#sk-container-id-1 div.sk-label input.sk-toggleable__control:checked~label.sk-toggleable__label {background-color: #d4ebff;}#sk-container-id-1 input.sk-hidden--visually {border: 0;clip: rect(1px 1px 1px 1px);clip: rect(1px, 1px, 1px, 1px);height: 1px;margin: -1px;overflow: hidden;padding: 0;position: absolute;width: 1px;}#sk-container-id-1 div.sk-estimator {font-family: monospace;background-color: #f0f8ff;border: 1px dotted black;border-radius: 0.25em;box-sizing: border-box;margin-bottom: 0.5em;}#sk-container-id-1 div.sk-estimator:hover {background-color: #d4ebff;}#sk-container-id-1 div.sk-parallel-item::after {content: \"\";width: 100%;border-bottom: 1px solid gray;flex-grow: 1;}#sk-container-id-1 div.sk-label:hover label.sk-toggleable__label {background-color: #d4ebff;}#sk-container-id-1 div.sk-serial::before {content: \"\";position: absolute;border-left: 1px solid gray;box-sizing: border-box;top: 0;bottom: 0;left: 50%;z-index: 0;}#sk-container-id-1 div.sk-serial {display: flex;flex-direction: column;align-items: center;background-color: white;padding-right: 0.2em;padding-left: 0.2em;position: relative;}#sk-container-id-1 div.sk-item {position: relative;z-index: 1;}#sk-container-id-1 div.sk-parallel {display: flex;align-items: stretch;justify-content: center;background-color: white;position: relative;}#sk-container-id-1 div.sk-item::before, #sk-container-id-1 div.sk-parallel-item::before {content: \"\";position: absolute;border-left: 1px solid gray;box-sizing: border-box;top: 0;bottom: 0;left: 50%;z-index: -1;}#sk-container-id-1 div.sk-parallel-item {display: flex;flex-direction: column;z-index: 1;position: relative;background-color: white;}#sk-container-id-1 div.sk-parallel-item:first-child::after {align-self: flex-end;width: 50%;}#sk-container-id-1 div.sk-parallel-item:last-child::after {align-self: flex-start;width: 50%;}#sk-container-id-1 div.sk-parallel-item:only-child::after {width: 0;}#sk-container-id-1 div.sk-dashed-wrapped {border: 1px dashed gray;margin: 0 0.4em 0.5em 0.4em;box-sizing: border-box;padding-bottom: 0.4em;background-color: white;}#sk-container-id-1 div.sk-label label {font-family: monospace;font-weight: bold;display: inline-block;line-height: 1.2em;}#sk-container-id-1 div.sk-label-container {text-align: center;}#sk-container-id-1 div.sk-container {/* jupyter's `normalize.less` sets `[hidden] { display: none; }` but bootstrap.min.css set `[hidden] { display: none !important; }` so we also need the `!important` here to be able to override the default hidden behavior on the sphinx rendered scikit-learn.org. See: https://github.com/scikit-learn/scikit-learn/issues/21755 */display: inline-block !important;position: relative;}#sk-container-id-1 div.sk-text-repr-fallback {display: none;}</style><div id=\"sk-container-id-1\" class=\"sk-top-container\"><div class=\"sk-text-repr-fallback\"><pre>GridSearchCV(cv=5,\n",
       "             estimator=LogisticRegression(class_weight=&#x27;balanced&#x27;,\n",
       "                                          random_state=141122),\n",
       "             n_jobs=-1,\n",
       "             param_grid=[{&#x27;C&#x27;: [0.01, 0.1, 0.5, 1, 3, 5, 7, 10, 100],\n",
       "                          &#x27;penalty&#x27;: [&#x27;l1&#x27;, &#x27;l2&#x27;],\n",
       "                          &#x27;solver&#x27;: [&#x27;newton-cg&#x27;, &#x27;lbfgs&#x27;, &#x27;liblinear&#x27;]}],\n",
       "             scoring=&#x27;roc_auc&#x27;, verbose=1)</pre><b>In a Jupyter environment, please rerun this cell to show the HTML representation or trust the notebook. <br />On GitHub, the HTML representation is unable to render, please try loading this page with nbviewer.org.</b></div><div class=\"sk-container\" hidden><div class=\"sk-item sk-dashed-wrapped\"><div class=\"sk-label-container\"><div class=\"sk-label sk-toggleable\"><input class=\"sk-toggleable__control sk-hidden--visually\" id=\"sk-estimator-id-1\" type=\"checkbox\" ><label for=\"sk-estimator-id-1\" class=\"sk-toggleable__label sk-toggleable__label-arrow\">GridSearchCV</label><div class=\"sk-toggleable__content\"><pre>GridSearchCV(cv=5,\n",
       "             estimator=LogisticRegression(class_weight=&#x27;balanced&#x27;,\n",
       "                                          random_state=141122),\n",
       "             n_jobs=-1,\n",
       "             param_grid=[{&#x27;C&#x27;: [0.01, 0.1, 0.5, 1, 3, 5, 7, 10, 100],\n",
       "                          &#x27;penalty&#x27;: [&#x27;l1&#x27;, &#x27;l2&#x27;],\n",
       "                          &#x27;solver&#x27;: [&#x27;newton-cg&#x27;, &#x27;lbfgs&#x27;, &#x27;liblinear&#x27;]}],\n",
       "             scoring=&#x27;roc_auc&#x27;, verbose=1)</pre></div></div></div><div class=\"sk-parallel\"><div class=\"sk-parallel-item\"><div class=\"sk-item\"><div class=\"sk-label-container\"><div class=\"sk-label sk-toggleable\"><input class=\"sk-toggleable__control sk-hidden--visually\" id=\"sk-estimator-id-2\" type=\"checkbox\" ><label for=\"sk-estimator-id-2\" class=\"sk-toggleable__label sk-toggleable__label-arrow\">estimator: LogisticRegression</label><div class=\"sk-toggleable__content\"><pre>LogisticRegression(class_weight=&#x27;balanced&#x27;, random_state=141122)</pre></div></div></div><div class=\"sk-serial\"><div class=\"sk-item\"><div class=\"sk-estimator sk-toggleable\"><input class=\"sk-toggleable__control sk-hidden--visually\" id=\"sk-estimator-id-3\" type=\"checkbox\" ><label for=\"sk-estimator-id-3\" class=\"sk-toggleable__label sk-toggleable__label-arrow\">LogisticRegression</label><div class=\"sk-toggleable__content\"><pre>LogisticRegression(class_weight=&#x27;balanced&#x27;, random_state=141122)</pre></div></div></div></div></div></div></div></div></div></div>"
      ],
      "text/plain": [
       "GridSearchCV(cv=5,\n",
       "             estimator=LogisticRegression(class_weight='balanced',\n",
       "                                          random_state=141122),\n",
       "             n_jobs=-1,\n",
       "             param_grid=[{'C': [0.01, 0.1, 0.5, 1, 3, 5, 7, 10, 100],\n",
       "                          'penalty': ['l1', 'l2'],\n",
       "                          'solver': ['newton-cg', 'lbfgs', 'liblinear']}],\n",
       "             scoring='roc_auc', verbose=1)"
      ]
     },
     "execution_count": 51,
     "metadata": {},
     "output_type": "execute_result"
    }
   ],
   "source": [
    "%%time\n",
    "\n",
    "# dictionary with hyperparameters to select\n",
    "\n",
    "param_grid = [\n",
    "    {'penalty': ['l1', 'l2'], 'solver': ['newton-cg', 'lbfgs', 'liblinear'], 'C': [0.01, 0.1, 0.5, 1, 3, 5, 7, 10, 100]},\n",
    " ]\n",
    "\n",
    "\n",
    "# hyperparameters selection and model training \n",
    "\n",
    "lr = GridSearchCV(estimator=LogisticRegression(random_state=141122, class_weight='balanced'), \n",
    "                  param_grid=param_grid, \n",
    "                  cv=5,\n",
    "                  scoring='roc_auc',\n",
    "                  verbose=1,\n",
    "                  n_jobs = -1)\n",
    "\n",
    "lr.fit(X_train_ohe, y_train)"
   ]
  },
  {
   "cell_type": "code",
   "execution_count": 52,
   "id": "3b826931",
   "metadata": {},
   "outputs": [
    {
     "name": "stdout",
     "output_type": "stream",
     "text": [
      "Значение ROC-AUC: Логистическая Регрессия = 0.841\n"
     ]
    }
   ],
   "source": [
    "print('Значение ROC-AUC: Логистическая Регрессия =', lr.best_score_.round(3))"
   ]
  },
  {
   "cell_type": "code",
   "execution_count": 53,
   "id": "7cd03756",
   "metadata": {},
   "outputs": [
    {
     "data": {
      "text/plain": [
       "{'C': 0.5, 'penalty': 'l1', 'solver': 'liblinear'}"
      ]
     },
     "execution_count": 53,
     "metadata": {},
     "output_type": "execute_result"
    }
   ],
   "source": [
    "lr.best_params_"
   ]
  },
  {
   "cell_type": "markdown",
   "id": "756a3b8f",
   "metadata": {},
   "source": [
    "The best value of the `ROC-AUC` metric (0.841) was obtained by the model with regularisation parameter equal to 0.5, regularisation algorithm l1 and optimisation algorithm 'liblinear'."
   ]
  },
  {
   "cell_type": "markdown",
   "id": "a2b2a426",
   "metadata": {},
   "source": [
    "### Random Forest Classifier"
   ]
  },
  {
   "cell_type": "code",
   "execution_count": 54,
   "id": "f5d1069a",
   "metadata": {},
   "outputs": [
    {
     "name": "stdout",
     "output_type": "stream",
     "text": [
      "Fitting 5 folds for each of 315 candidates, totalling 1575 fits\n",
      "Wall time: 6min 49s\n"
     ]
    },
    {
     "data": {
      "text/html": [
       "<style>#sk-container-id-2 {color: black;background-color: white;}#sk-container-id-2 pre{padding: 0;}#sk-container-id-2 div.sk-toggleable {background-color: white;}#sk-container-id-2 label.sk-toggleable__label {cursor: pointer;display: block;width: 100%;margin-bottom: 0;padding: 0.3em;box-sizing: border-box;text-align: center;}#sk-container-id-2 label.sk-toggleable__label-arrow:before {content: \"▸\";float: left;margin-right: 0.25em;color: #696969;}#sk-container-id-2 label.sk-toggleable__label-arrow:hover:before {color: black;}#sk-container-id-2 div.sk-estimator:hover label.sk-toggleable__label-arrow:before {color: black;}#sk-container-id-2 div.sk-toggleable__content {max-height: 0;max-width: 0;overflow: hidden;text-align: left;background-color: #f0f8ff;}#sk-container-id-2 div.sk-toggleable__content pre {margin: 0.2em;color: black;border-radius: 0.25em;background-color: #f0f8ff;}#sk-container-id-2 input.sk-toggleable__control:checked~div.sk-toggleable__content {max-height: 200px;max-width: 100%;overflow: auto;}#sk-container-id-2 input.sk-toggleable__control:checked~label.sk-toggleable__label-arrow:before {content: \"▾\";}#sk-container-id-2 div.sk-estimator input.sk-toggleable__control:checked~label.sk-toggleable__label {background-color: #d4ebff;}#sk-container-id-2 div.sk-label input.sk-toggleable__control:checked~label.sk-toggleable__label {background-color: #d4ebff;}#sk-container-id-2 input.sk-hidden--visually {border: 0;clip: rect(1px 1px 1px 1px);clip: rect(1px, 1px, 1px, 1px);height: 1px;margin: -1px;overflow: hidden;padding: 0;position: absolute;width: 1px;}#sk-container-id-2 div.sk-estimator {font-family: monospace;background-color: #f0f8ff;border: 1px dotted black;border-radius: 0.25em;box-sizing: border-box;margin-bottom: 0.5em;}#sk-container-id-2 div.sk-estimator:hover {background-color: #d4ebff;}#sk-container-id-2 div.sk-parallel-item::after {content: \"\";width: 100%;border-bottom: 1px solid gray;flex-grow: 1;}#sk-container-id-2 div.sk-label:hover label.sk-toggleable__label {background-color: #d4ebff;}#sk-container-id-2 div.sk-serial::before {content: \"\";position: absolute;border-left: 1px solid gray;box-sizing: border-box;top: 0;bottom: 0;left: 50%;z-index: 0;}#sk-container-id-2 div.sk-serial {display: flex;flex-direction: column;align-items: center;background-color: white;padding-right: 0.2em;padding-left: 0.2em;position: relative;}#sk-container-id-2 div.sk-item {position: relative;z-index: 1;}#sk-container-id-2 div.sk-parallel {display: flex;align-items: stretch;justify-content: center;background-color: white;position: relative;}#sk-container-id-2 div.sk-item::before, #sk-container-id-2 div.sk-parallel-item::before {content: \"\";position: absolute;border-left: 1px solid gray;box-sizing: border-box;top: 0;bottom: 0;left: 50%;z-index: -1;}#sk-container-id-2 div.sk-parallel-item {display: flex;flex-direction: column;z-index: 1;position: relative;background-color: white;}#sk-container-id-2 div.sk-parallel-item:first-child::after {align-self: flex-end;width: 50%;}#sk-container-id-2 div.sk-parallel-item:last-child::after {align-self: flex-start;width: 50%;}#sk-container-id-2 div.sk-parallel-item:only-child::after {width: 0;}#sk-container-id-2 div.sk-dashed-wrapped {border: 1px dashed gray;margin: 0 0.4em 0.5em 0.4em;box-sizing: border-box;padding-bottom: 0.4em;background-color: white;}#sk-container-id-2 div.sk-label label {font-family: monospace;font-weight: bold;display: inline-block;line-height: 1.2em;}#sk-container-id-2 div.sk-label-container {text-align: center;}#sk-container-id-2 div.sk-container {/* jupyter's `normalize.less` sets `[hidden] { display: none; }` but bootstrap.min.css set `[hidden] { display: none !important; }` so we also need the `!important` here to be able to override the default hidden behavior on the sphinx rendered scikit-learn.org. See: https://github.com/scikit-learn/scikit-learn/issues/21755 */display: inline-block !important;position: relative;}#sk-container-id-2 div.sk-text-repr-fallback {display: none;}</style><div id=\"sk-container-id-2\" class=\"sk-top-container\"><div class=\"sk-text-repr-fallback\"><pre>GridSearchCV(cv=5,\n",
       "             estimator=RandomForestClassifier(class_weight=&#x27;balanced&#x27;,\n",
       "                                              random_state=141122),\n",
       "             n_jobs=-1,\n",
       "             param_grid={&#x27;max_depth&#x27;: range(2, 11),\n",
       "                         &#x27;min_samples_leaf&#x27;: range(1, 8),\n",
       "                         &#x27;n_estimators&#x27;: [50, 100, 200, 300, 500]},\n",
       "             scoring=&#x27;roc_auc&#x27;, verbose=1)</pre><b>In a Jupyter environment, please rerun this cell to show the HTML representation or trust the notebook. <br />On GitHub, the HTML representation is unable to render, please try loading this page with nbviewer.org.</b></div><div class=\"sk-container\" hidden><div class=\"sk-item sk-dashed-wrapped\"><div class=\"sk-label-container\"><div class=\"sk-label sk-toggleable\"><input class=\"sk-toggleable__control sk-hidden--visually\" id=\"sk-estimator-id-4\" type=\"checkbox\" ><label for=\"sk-estimator-id-4\" class=\"sk-toggleable__label sk-toggleable__label-arrow\">GridSearchCV</label><div class=\"sk-toggleable__content\"><pre>GridSearchCV(cv=5,\n",
       "             estimator=RandomForestClassifier(class_weight=&#x27;balanced&#x27;,\n",
       "                                              random_state=141122),\n",
       "             n_jobs=-1,\n",
       "             param_grid={&#x27;max_depth&#x27;: range(2, 11),\n",
       "                         &#x27;min_samples_leaf&#x27;: range(1, 8),\n",
       "                         &#x27;n_estimators&#x27;: [50, 100, 200, 300, 500]},\n",
       "             scoring=&#x27;roc_auc&#x27;, verbose=1)</pre></div></div></div><div class=\"sk-parallel\"><div class=\"sk-parallel-item\"><div class=\"sk-item\"><div class=\"sk-label-container\"><div class=\"sk-label sk-toggleable\"><input class=\"sk-toggleable__control sk-hidden--visually\" id=\"sk-estimator-id-5\" type=\"checkbox\" ><label for=\"sk-estimator-id-5\" class=\"sk-toggleable__label sk-toggleable__label-arrow\">estimator: RandomForestClassifier</label><div class=\"sk-toggleable__content\"><pre>RandomForestClassifier(class_weight=&#x27;balanced&#x27;, random_state=141122)</pre></div></div></div><div class=\"sk-serial\"><div class=\"sk-item\"><div class=\"sk-estimator sk-toggleable\"><input class=\"sk-toggleable__control sk-hidden--visually\" id=\"sk-estimator-id-6\" type=\"checkbox\" ><label for=\"sk-estimator-id-6\" class=\"sk-toggleable__label sk-toggleable__label-arrow\">RandomForestClassifier</label><div class=\"sk-toggleable__content\"><pre>RandomForestClassifier(class_weight=&#x27;balanced&#x27;, random_state=141122)</pre></div></div></div></div></div></div></div></div></div></div>"
      ],
      "text/plain": [
       "GridSearchCV(cv=5,\n",
       "             estimator=RandomForestClassifier(class_weight='balanced',\n",
       "                                              random_state=141122),\n",
       "             n_jobs=-1,\n",
       "             param_grid={'max_depth': range(2, 11),\n",
       "                         'min_samples_leaf': range(1, 8),\n",
       "                         'n_estimators': [50, 100, 200, 300, 500]},\n",
       "             scoring='roc_auc', verbose=1)"
      ]
     },
     "execution_count": 54,
     "metadata": {},
     "output_type": "execute_result"
    }
   ],
   "source": [
    "%%time\n",
    "\n",
    "# dictionary with hyperparameters to select\n",
    "\n",
    "param_grid = { \n",
    "   'n_estimators': [50, 100, 200, 300, 500],\n",
    "   'max_depth': range(2, 11),\n",
    "   'min_samples_leaf': range (1,8)\n",
    "}\n",
    "\n",
    "# hyperparameters selection and model training \n",
    "\n",
    "rf = GridSearchCV(estimator=RandomForestClassifier(random_state=141122, class_weight='balanced'), \n",
    "                  param_grid=param_grid, \n",
    "                  cv=5,\n",
    "                  scoring='roc_auc', \n",
    "                  verbose=1,\n",
    "                  n_jobs=-1)\n",
    "\n",
    "rf.fit(X_train_oe, y_train)"
   ]
  },
  {
   "cell_type": "code",
   "execution_count": 55,
   "id": "ac2c1915",
   "metadata": {},
   "outputs": [
    {
     "name": "stdout",
     "output_type": "stream",
     "text": [
      "Значение ROC-AUC: Случайный Лес = 0.845\n"
     ]
    }
   ],
   "source": [
    "print('Значение ROC-AUC: Случайный Лес =', rf.best_score_.round(3))"
   ]
  },
  {
   "cell_type": "code",
   "execution_count": 56,
   "id": "7dae95ba",
   "metadata": {},
   "outputs": [
    {
     "data": {
      "text/plain": [
       "{'max_depth': 8, 'min_samples_leaf': 7, 'n_estimators': 100}"
      ]
     },
     "execution_count": 56,
     "metadata": {},
     "output_type": "execute_result"
    }
   ],
   "source": [
    "rf.best_params_"
   ]
  },
  {
   "cell_type": "markdown",
   "id": "7c4e8c5a",
   "metadata": {},
   "source": [
    "The value of ROC-AUC metric improved slightly compared to Logistic Regression (0.845). Optimal hyperparameters of the model: maximum depth 8, minimum number of objects in the leaf 7, number of trees in the forest 100."
   ]
  },
  {
   "cell_type": "markdown",
   "id": "a5b9a6dc",
   "metadata": {},
   "source": [
    "### Catboost"
   ]
  },
  {
   "cell_type": "markdown",
   "id": "f1bbecbd",
   "metadata": {},
   "source": [
    "Catboost, like LightGBM, has an internal mechanism for handling categorical variables. To work it out, just change the data type of columns with categorical variables to the corresponding one - `'category'`."
   ]
  },
  {
   "cell_type": "code",
   "execution_count": 57,
   "id": "d5d7361c",
   "metadata": {},
   "outputs": [],
   "source": [
    "X_train[cat_columns] = X_train[cat_columns].astype('category')\n",
    "X_test[cat_columns] = X_test[cat_columns].astype('category')"
   ]
  },
  {
   "cell_type": "code",
   "execution_count": 58,
   "id": "7c313d13",
   "metadata": {},
   "outputs": [
    {
     "name": "stdout",
     "output_type": "stream",
     "text": [
      "Wall time: 7min 32s\n"
     ]
    },
    {
     "data": {
      "text/html": [
       "<style>#sk-container-id-3 {color: black;background-color: white;}#sk-container-id-3 pre{padding: 0;}#sk-container-id-3 div.sk-toggleable {background-color: white;}#sk-container-id-3 label.sk-toggleable__label {cursor: pointer;display: block;width: 100%;margin-bottom: 0;padding: 0.3em;box-sizing: border-box;text-align: center;}#sk-container-id-3 label.sk-toggleable__label-arrow:before {content: \"▸\";float: left;margin-right: 0.25em;color: #696969;}#sk-container-id-3 label.sk-toggleable__label-arrow:hover:before {color: black;}#sk-container-id-3 div.sk-estimator:hover label.sk-toggleable__label-arrow:before {color: black;}#sk-container-id-3 div.sk-toggleable__content {max-height: 0;max-width: 0;overflow: hidden;text-align: left;background-color: #f0f8ff;}#sk-container-id-3 div.sk-toggleable__content pre {margin: 0.2em;color: black;border-radius: 0.25em;background-color: #f0f8ff;}#sk-container-id-3 input.sk-toggleable__control:checked~div.sk-toggleable__content {max-height: 200px;max-width: 100%;overflow: auto;}#sk-container-id-3 input.sk-toggleable__control:checked~label.sk-toggleable__label-arrow:before {content: \"▾\";}#sk-container-id-3 div.sk-estimator input.sk-toggleable__control:checked~label.sk-toggleable__label {background-color: #d4ebff;}#sk-container-id-3 div.sk-label input.sk-toggleable__control:checked~label.sk-toggleable__label {background-color: #d4ebff;}#sk-container-id-3 input.sk-hidden--visually {border: 0;clip: rect(1px 1px 1px 1px);clip: rect(1px, 1px, 1px, 1px);height: 1px;margin: -1px;overflow: hidden;padding: 0;position: absolute;width: 1px;}#sk-container-id-3 div.sk-estimator {font-family: monospace;background-color: #f0f8ff;border: 1px dotted black;border-radius: 0.25em;box-sizing: border-box;margin-bottom: 0.5em;}#sk-container-id-3 div.sk-estimator:hover {background-color: #d4ebff;}#sk-container-id-3 div.sk-parallel-item::after {content: \"\";width: 100%;border-bottom: 1px solid gray;flex-grow: 1;}#sk-container-id-3 div.sk-label:hover label.sk-toggleable__label {background-color: #d4ebff;}#sk-container-id-3 div.sk-serial::before {content: \"\";position: absolute;border-left: 1px solid gray;box-sizing: border-box;top: 0;bottom: 0;left: 50%;z-index: 0;}#sk-container-id-3 div.sk-serial {display: flex;flex-direction: column;align-items: center;background-color: white;padding-right: 0.2em;padding-left: 0.2em;position: relative;}#sk-container-id-3 div.sk-item {position: relative;z-index: 1;}#sk-container-id-3 div.sk-parallel {display: flex;align-items: stretch;justify-content: center;background-color: white;position: relative;}#sk-container-id-3 div.sk-item::before, #sk-container-id-3 div.sk-parallel-item::before {content: \"\";position: absolute;border-left: 1px solid gray;box-sizing: border-box;top: 0;bottom: 0;left: 50%;z-index: -1;}#sk-container-id-3 div.sk-parallel-item {display: flex;flex-direction: column;z-index: 1;position: relative;background-color: white;}#sk-container-id-3 div.sk-parallel-item:first-child::after {align-self: flex-end;width: 50%;}#sk-container-id-3 div.sk-parallel-item:last-child::after {align-self: flex-start;width: 50%;}#sk-container-id-3 div.sk-parallel-item:only-child::after {width: 0;}#sk-container-id-3 div.sk-dashed-wrapped {border: 1px dashed gray;margin: 0 0.4em 0.5em 0.4em;box-sizing: border-box;padding-bottom: 0.4em;background-color: white;}#sk-container-id-3 div.sk-label label {font-family: monospace;font-weight: bold;display: inline-block;line-height: 1.2em;}#sk-container-id-3 div.sk-label-container {text-align: center;}#sk-container-id-3 div.sk-container {/* jupyter's `normalize.less` sets `[hidden] { display: none; }` but bootstrap.min.css set `[hidden] { display: none !important; }` so we also need the `!important` here to be able to override the default hidden behavior on the sphinx rendered scikit-learn.org. See: https://github.com/scikit-learn/scikit-learn/issues/21755 */display: inline-block !important;position: relative;}#sk-container-id-3 div.sk-text-repr-fallback {display: none;}</style><div id=\"sk-container-id-3\" class=\"sk-top-container\"><div class=\"sk-text-repr-fallback\"><pre>GridSearchCV(cv=5,\n",
       "             estimator=&lt;catboost.core.CatBoostClassifier object at 0x0000017384B4ACA0&gt;,\n",
       "             n_jobs=-1,\n",
       "             param_grid={&#x27;depth&#x27;: range(2, 6), &#x27;iterations&#x27;: [100, 200, 300],\n",
       "                         &#x27;learning_rate&#x27;: [0.025, 0.05, 0.1, 0.3]},\n",
       "             refit=&#x27;AUC&#x27;, scoring=&#x27;roc_auc&#x27;)</pre><b>In a Jupyter environment, please rerun this cell to show the HTML representation or trust the notebook. <br />On GitHub, the HTML representation is unable to render, please try loading this page with nbviewer.org.</b></div><div class=\"sk-container\" hidden><div class=\"sk-item sk-dashed-wrapped\"><div class=\"sk-label-container\"><div class=\"sk-label sk-toggleable\"><input class=\"sk-toggleable__control sk-hidden--visually\" id=\"sk-estimator-id-7\" type=\"checkbox\" ><label for=\"sk-estimator-id-7\" class=\"sk-toggleable__label sk-toggleable__label-arrow\">GridSearchCV</label><div class=\"sk-toggleable__content\"><pre>GridSearchCV(cv=5,\n",
       "             estimator=&lt;catboost.core.CatBoostClassifier object at 0x0000017384B4ACA0&gt;,\n",
       "             n_jobs=-1,\n",
       "             param_grid={&#x27;depth&#x27;: range(2, 6), &#x27;iterations&#x27;: [100, 200, 300],\n",
       "                         &#x27;learning_rate&#x27;: [0.025, 0.05, 0.1, 0.3]},\n",
       "             refit=&#x27;AUC&#x27;, scoring=&#x27;roc_auc&#x27;)</pre></div></div></div><div class=\"sk-parallel\"><div class=\"sk-parallel-item\"><div class=\"sk-item\"><div class=\"sk-label-container\"><div class=\"sk-label sk-toggleable\"><input class=\"sk-toggleable__control sk-hidden--visually\" id=\"sk-estimator-id-8\" type=\"checkbox\" ><label for=\"sk-estimator-id-8\" class=\"sk-toggleable__label sk-toggleable__label-arrow\">estimator: CatBoostClassifier</label><div class=\"sk-toggleable__content\"><pre>&lt;catboost.core.CatBoostClassifier object at 0x0000017384B4ACA0&gt;</pre></div></div></div><div class=\"sk-serial\"><div class=\"sk-item\"><div class=\"sk-estimator sk-toggleable\"><input class=\"sk-toggleable__control sk-hidden--visually\" id=\"sk-estimator-id-9\" type=\"checkbox\" ><label for=\"sk-estimator-id-9\" class=\"sk-toggleable__label sk-toggleable__label-arrow\">CatBoostClassifier</label><div class=\"sk-toggleable__content\"><pre>&lt;catboost.core.CatBoostClassifier object at 0x0000017384B4ACA0&gt;</pre></div></div></div></div></div></div></div></div></div></div>"
      ],
      "text/plain": [
       "GridSearchCV(cv=5,\n",
       "             estimator=<catboost.core.CatBoostClassifier object at 0x0000017384B4ACA0>,\n",
       "             n_jobs=-1,\n",
       "             param_grid={'depth': range(2, 6), 'iterations': [100, 200, 300],\n",
       "                         'learning_rate': [0.025, 0.05, 0.1, 0.3]},\n",
       "             refit='AUC', scoring='roc_auc')"
      ]
     },
     "execution_count": 58,
     "metadata": {},
     "output_type": "execute_result"
    }
   ],
   "source": [
    "%%time\n",
    "\n",
    "# dictionary with hyperparameters to select\n",
    "\n",
    "param_grid = {\n",
    "    'iterations': [100, 200, 300],\n",
    "    'depth': range(2, 6),\n",
    "    'learning_rate': [0.025, 0.05, 0.1, 0.3]\n",
    "}\n",
    "\n",
    "# hyperparameters selection and model training \n",
    "\n",
    "cb = GridSearchCV(estimator=CatBoostClassifier(random_state=141122, \n",
    "                                               cat_features=cat_columns,\n",
    "                                               class_weights=[1, 2.77],\n",
    "                                               verbose=False), \n",
    "                  param_grid=param_grid, \n",
    "                  cv=5,\n",
    "                  scoring='roc_auc', \n",
    "                  refit='AUC',\n",
    "                  n_jobs=-1)\n",
    "\n",
    "cb.fit(X_train, y_train)"
   ]
  },
  {
   "cell_type": "code",
   "execution_count": 59,
   "id": "303fac67",
   "metadata": {},
   "outputs": [
    {
     "name": "stdout",
     "output_type": "stream",
     "text": [
      "Значение ROC-AUC: Catboost = 0.848\n"
     ]
    }
   ],
   "source": [
    "print('Значение ROC-AUC: Catboost =', cb.best_score_.round(3))"
   ]
  },
  {
   "cell_type": "code",
   "execution_count": 60,
   "id": "102f1066",
   "metadata": {},
   "outputs": [
    {
     "data": {
      "text/plain": [
       "{'depth': 4, 'iterations': 200, 'learning_rate': 0.05}"
      ]
     },
     "execution_count": 60,
     "metadata": {},
     "output_type": "execute_result"
    }
   ],
   "source": [
    "cb.best_params_"
   ]
  },
  {
   "cell_type": "markdown",
   "id": "8773925f",
   "metadata": {},
   "source": [
    "The value of the ROC-AUC metric improved slightly = 0.848. Optimal model hyperparameters: maximum depth - 4, number of iterations - 200, learning rate - 0.05."
   ]
  },
  {
   "cell_type": "markdown",
   "id": "82366a07",
   "metadata": {},
   "source": [
    "### LightGBM"
   ]
  },
  {
   "cell_type": "code",
   "execution_count": 61,
   "id": "5dcc8a83",
   "metadata": {},
   "outputs": [
    {
     "name": "stdout",
     "output_type": "stream",
     "text": [
      "Wall time: 52.7 s\n"
     ]
    },
    {
     "data": {
      "text/html": [
       "<style>#sk-container-id-4 {color: black;background-color: white;}#sk-container-id-4 pre{padding: 0;}#sk-container-id-4 div.sk-toggleable {background-color: white;}#sk-container-id-4 label.sk-toggleable__label {cursor: pointer;display: block;width: 100%;margin-bottom: 0;padding: 0.3em;box-sizing: border-box;text-align: center;}#sk-container-id-4 label.sk-toggleable__label-arrow:before {content: \"▸\";float: left;margin-right: 0.25em;color: #696969;}#sk-container-id-4 label.sk-toggleable__label-arrow:hover:before {color: black;}#sk-container-id-4 div.sk-estimator:hover label.sk-toggleable__label-arrow:before {color: black;}#sk-container-id-4 div.sk-toggleable__content {max-height: 0;max-width: 0;overflow: hidden;text-align: left;background-color: #f0f8ff;}#sk-container-id-4 div.sk-toggleable__content pre {margin: 0.2em;color: black;border-radius: 0.25em;background-color: #f0f8ff;}#sk-container-id-4 input.sk-toggleable__control:checked~div.sk-toggleable__content {max-height: 200px;max-width: 100%;overflow: auto;}#sk-container-id-4 input.sk-toggleable__control:checked~label.sk-toggleable__label-arrow:before {content: \"▾\";}#sk-container-id-4 div.sk-estimator input.sk-toggleable__control:checked~label.sk-toggleable__label {background-color: #d4ebff;}#sk-container-id-4 div.sk-label input.sk-toggleable__control:checked~label.sk-toggleable__label {background-color: #d4ebff;}#sk-container-id-4 input.sk-hidden--visually {border: 0;clip: rect(1px 1px 1px 1px);clip: rect(1px, 1px, 1px, 1px);height: 1px;margin: -1px;overflow: hidden;padding: 0;position: absolute;width: 1px;}#sk-container-id-4 div.sk-estimator {font-family: monospace;background-color: #f0f8ff;border: 1px dotted black;border-radius: 0.25em;box-sizing: border-box;margin-bottom: 0.5em;}#sk-container-id-4 div.sk-estimator:hover {background-color: #d4ebff;}#sk-container-id-4 div.sk-parallel-item::after {content: \"\";width: 100%;border-bottom: 1px solid gray;flex-grow: 1;}#sk-container-id-4 div.sk-label:hover label.sk-toggleable__label {background-color: #d4ebff;}#sk-container-id-4 div.sk-serial::before {content: \"\";position: absolute;border-left: 1px solid gray;box-sizing: border-box;top: 0;bottom: 0;left: 50%;z-index: 0;}#sk-container-id-4 div.sk-serial {display: flex;flex-direction: column;align-items: center;background-color: white;padding-right: 0.2em;padding-left: 0.2em;position: relative;}#sk-container-id-4 div.sk-item {position: relative;z-index: 1;}#sk-container-id-4 div.sk-parallel {display: flex;align-items: stretch;justify-content: center;background-color: white;position: relative;}#sk-container-id-4 div.sk-item::before, #sk-container-id-4 div.sk-parallel-item::before {content: \"\";position: absolute;border-left: 1px solid gray;box-sizing: border-box;top: 0;bottom: 0;left: 50%;z-index: -1;}#sk-container-id-4 div.sk-parallel-item {display: flex;flex-direction: column;z-index: 1;position: relative;background-color: white;}#sk-container-id-4 div.sk-parallel-item:first-child::after {align-self: flex-end;width: 50%;}#sk-container-id-4 div.sk-parallel-item:last-child::after {align-self: flex-start;width: 50%;}#sk-container-id-4 div.sk-parallel-item:only-child::after {width: 0;}#sk-container-id-4 div.sk-dashed-wrapped {border: 1px dashed gray;margin: 0 0.4em 0.5em 0.4em;box-sizing: border-box;padding-bottom: 0.4em;background-color: white;}#sk-container-id-4 div.sk-label label {font-family: monospace;font-weight: bold;display: inline-block;line-height: 1.2em;}#sk-container-id-4 div.sk-label-container {text-align: center;}#sk-container-id-4 div.sk-container {/* jupyter's `normalize.less` sets `[hidden] { display: none; }` but bootstrap.min.css set `[hidden] { display: none !important; }` so we also need the `!important` here to be able to override the default hidden behavior on the sphinx rendered scikit-learn.org. See: https://github.com/scikit-learn/scikit-learn/issues/21755 */display: inline-block !important;position: relative;}#sk-container-id-4 div.sk-text-repr-fallback {display: none;}</style><div id=\"sk-container-id-4\" class=\"sk-top-container\"><div class=\"sk-text-repr-fallback\"><pre>GridSearchCV(cv=5,\n",
       "             estimator=LGBMClassifier(class_weight=&#x27;balanced&#x27;,\n",
       "                                      random_state=141122),\n",
       "             n_jobs=-1,\n",
       "             param_grid={&#x27;learning_rate&#x27;: [0.05, 0.1, 0.3],\n",
       "                         &#x27;max_depth&#x27;: range(1, 4),\n",
       "                         &#x27;n_estimators&#x27;: [200, 400, 600],\n",
       "                         &#x27;num_leaves&#x27;: [10, 50, 100, 200]},\n",
       "             scoring=&#x27;roc_auc&#x27;)</pre><b>In a Jupyter environment, please rerun this cell to show the HTML representation or trust the notebook. <br />On GitHub, the HTML representation is unable to render, please try loading this page with nbviewer.org.</b></div><div class=\"sk-container\" hidden><div class=\"sk-item sk-dashed-wrapped\"><div class=\"sk-label-container\"><div class=\"sk-label sk-toggleable\"><input class=\"sk-toggleable__control sk-hidden--visually\" id=\"sk-estimator-id-10\" type=\"checkbox\" ><label for=\"sk-estimator-id-10\" class=\"sk-toggleable__label sk-toggleable__label-arrow\">GridSearchCV</label><div class=\"sk-toggleable__content\"><pre>GridSearchCV(cv=5,\n",
       "             estimator=LGBMClassifier(class_weight=&#x27;balanced&#x27;,\n",
       "                                      random_state=141122),\n",
       "             n_jobs=-1,\n",
       "             param_grid={&#x27;learning_rate&#x27;: [0.05, 0.1, 0.3],\n",
       "                         &#x27;max_depth&#x27;: range(1, 4),\n",
       "                         &#x27;n_estimators&#x27;: [200, 400, 600],\n",
       "                         &#x27;num_leaves&#x27;: [10, 50, 100, 200]},\n",
       "             scoring=&#x27;roc_auc&#x27;)</pre></div></div></div><div class=\"sk-parallel\"><div class=\"sk-parallel-item\"><div class=\"sk-item\"><div class=\"sk-label-container\"><div class=\"sk-label sk-toggleable\"><input class=\"sk-toggleable__control sk-hidden--visually\" id=\"sk-estimator-id-11\" type=\"checkbox\" ><label for=\"sk-estimator-id-11\" class=\"sk-toggleable__label sk-toggleable__label-arrow\">estimator: LGBMClassifier</label><div class=\"sk-toggleable__content\"><pre>LGBMClassifier(class_weight=&#x27;balanced&#x27;, random_state=141122)</pre></div></div></div><div class=\"sk-serial\"><div class=\"sk-item\"><div class=\"sk-estimator sk-toggleable\"><input class=\"sk-toggleable__control sk-hidden--visually\" id=\"sk-estimator-id-12\" type=\"checkbox\" ><label for=\"sk-estimator-id-12\" class=\"sk-toggleable__label sk-toggleable__label-arrow\">LGBMClassifier</label><div class=\"sk-toggleable__content\"><pre>LGBMClassifier(class_weight=&#x27;balanced&#x27;, random_state=141122)</pre></div></div></div></div></div></div></div></div></div></div>"
      ],
      "text/plain": [
       "GridSearchCV(cv=5,\n",
       "             estimator=LGBMClassifier(class_weight='balanced',\n",
       "                                      random_state=141122),\n",
       "             n_jobs=-1,\n",
       "             param_grid={'learning_rate': [0.05, 0.1, 0.3],\n",
       "                         'max_depth': range(1, 4),\n",
       "                         'n_estimators': [200, 400, 600],\n",
       "                         'num_leaves': [10, 50, 100, 200]},\n",
       "             scoring='roc_auc')"
      ]
     },
     "execution_count": 61,
     "metadata": {},
     "output_type": "execute_result"
    }
   ],
   "source": [
    "%%time\n",
    "\n",
    "# dictionary with hyperparameters to select\n",
    "\n",
    "param_grid = {\n",
    "    'n_estimators': [200, 400, 600],\n",
    "    'max_depth': range(1, 4),\n",
    "    'num_leaves' : [10, 50, 100, 200],\n",
    "    'learning_rate': [0.05, 0.1, 0.3]\n",
    "}\n",
    "\n",
    "# hyperparameters selection and model training \n",
    "\n",
    "lgb = GridSearchCV(estimator=LGBMClassifier(random_state=141122, class_weight='balanced'), \n",
    "                  param_grid=param_grid, \n",
    "                  cv=5,\n",
    "                  scoring='roc_auc',\n",
    "                  refit=True,\n",
    "                  n_jobs=-1)\n",
    "\n",
    "lgb.fit(X_train, y_train, categorical_feature=cat_columns)"
   ]
  },
  {
   "cell_type": "code",
   "execution_count": 62,
   "id": "11b9a2cb",
   "metadata": {},
   "outputs": [
    {
     "name": "stdout",
     "output_type": "stream",
     "text": [
      "Значение ROC-AUC: LightGBM = 0.847\n"
     ]
    }
   ],
   "source": [
    "print('Значение ROC-AUC: LightGBM =', lgb.best_score_.round(3))"
   ]
  },
  {
   "cell_type": "code",
   "execution_count": 63,
   "id": "eb9ef4fc",
   "metadata": {},
   "outputs": [
    {
     "data": {
      "text/plain": [
       "{'learning_rate': 0.05, 'max_depth': 1, 'n_estimators': 600, 'num_leaves': 10}"
      ]
     },
     "execution_count": 63,
     "metadata": {},
     "output_type": "execute_result"
    }
   ],
   "source": [
    "lgb.best_params_"
   ]
  },
  {
   "cell_type": "markdown",
   "id": "b31cecdd",
   "metadata": {},
   "source": [
    "ROC-AUC metric value = 0.847. Optimal model hyperparameters: maximum depth - 1, number of estimators - 600, learning rate - 0.05, number of leaves - 10."
   ]
  },
  {
   "cell_type": "markdown",
   "id": "ae8fe69e",
   "metadata": {},
   "source": [
    "**Conclusion:**\n",
    "\n",
    "Four different models were trained: logistic regression, random forest, Catboost and gradient boosting LightGBM.\n",
    "\n",
    "For each model optimal hyperparameters were selected and ROC-AUC metrics were estimated.\n",
    "\n",
    "The Catboost model showed the best results. The ROC-AUC metric for it was 0.848. Next, we test this model with its optimal hyperparameters on the test sample."
   ]
  },
  {
   "cell_type": "markdown",
   "id": "62a94e7f",
   "metadata": {},
   "source": [
    "## Model testing"
   ]
  },
  {
   "cell_type": "markdown",
   "id": "31845b89",
   "metadata": {},
   "source": [
    "Let's test the quality of the chosen model on a test sample."
   ]
  },
  {
   "cell_type": "code",
   "execution_count": 64,
   "id": "2abf0674",
   "metadata": {},
   "outputs": [
    {
     "name": "stdout",
     "output_type": "stream",
     "text": [
      "Wall time: 8.04 s\n"
     ]
    },
    {
     "data": {
      "text/plain": [
       "<catboost.core.CatBoostClassifier at 0x1738478afd0>"
      ]
     },
     "execution_count": 64,
     "metadata": {},
     "output_type": "execute_result"
    }
   ],
   "source": [
    "%%time\n",
    "\n",
    "# training model with best hyperparameters\n",
    "\n",
    "cb_test = CatBoostClassifier(random_state=141122, \n",
    "                              cat_features=cat_columns,\n",
    "                              class_weights=[1, 2.77],\n",
    "                              depth=4,\n",
    "                              learning_rate=0.05,                        \n",
    "                              iterations=200,\n",
    "                              verbose=False)\n",
    "\n",
    "cb_test.fit(X_train, y_train) "
   ]
  },
  {
   "cell_type": "markdown",
   "id": "013c86fd",
   "metadata": {},
   "source": [
    "We will calculate the ROC-AUC for it and plot the ROC curve."
   ]
  },
  {
   "cell_type": "code",
   "execution_count": 65,
   "id": "ed4b641c",
   "metadata": {},
   "outputs": [
    {
     "name": "stdout",
     "output_type": "stream",
     "text": [
      "Значение ROC-AUC на тестовой выборке: 0.8515\n"
     ]
    },
    {
     "data": {
      "image/png": "[encoded data removed]",
      "text/plain": [
       "<Figure size 504x504 with 1 Axes>"
      ]
     },
     "metadata": {
      "needs_background": "light"
     },
     "output_type": "display_data"
    }
   ],
   "source": [
    "# calculating probabilities\n",
    "probabilities_test = cb_test.predict_proba(X_test)\n",
    "probabilities_one_test = probabilities_test[:,1]\n",
    "\n",
    "# ROC-curve of our model \n",
    "plt.figure(figsize=(7,7))\n",
    "fpr, tpr, thresholds = roc_curve(y_test, probabilities_one_test) \n",
    "plt.plot(fpr, tpr)\n",
    "\n",
    "# ROC-curve of random model \n",
    "plt.plot([0, 1], [0, 1], linestyle='--')\n",
    "\n",
    "# axes and captions\n",
    "plt.ylim([0.0, 1.0])\n",
    "plt.xlim([0.0, 1.0])\n",
    "plt.xlabel('False Positive Rate')\n",
    "plt.ylabel('True Positive Rate')\n",
    "plt.title('ROC-кривая');\n",
    "\n",
    "# printing the AUC-ROC value\n",
    "print('Значение ROC-AUC на тестовой выборке:', roc_auc_score(y_test, probabilities_one_test).round(4))"
   ]
  },
  {
   "cell_type": "markdown",
   "id": "ff86d89f",
   "metadata": {},
   "source": [
    "The test sample was able to obtain a ROC-AUC value slightly higher than the cross-validation during training. ROC-AUC = 0.8515.\n",
    "\n",
    "**The final value of the ROC-AUC metric on the test sample corresponds to the target metric value to be achieved to solve the problem (>=0.85). Our model is adequate, showing a metric value clearly above the ROC-AUC=0.5 value of the random constant model**. \n",
    "\n",
    "Will calculate the accuracy, F1 and plot the heat map of the confusion matrix."
   ]
  },
  {
   "cell_type": "code",
   "execution_count": 66,
   "id": "186d5b11",
   "metadata": {},
   "outputs": [
    {
     "name": "stdout",
     "output_type": "stream",
     "text": [
      "              precision    recall  f1-score   support\n",
      "\n",
      "           0       0.91      0.74      0.82      1294\n",
      "           1       0.53      0.80      0.64       467\n",
      "\n",
      "    accuracy                           0.76      1761\n",
      "   macro avg       0.72      0.77      0.73      1761\n",
      "weighted avg       0.81      0.76      0.77      1761\n",
      "\n"
     ]
    },
    {
     "data": {
      "image/png": "[encoded data removed]",
      "text/plain": [
       "<Figure size 432x288 with 2 Axes>"
      ]
     },
     "metadata": {
      "needs_background": "light"
     },
     "output_type": "display_data"
    }
   ],
   "source": [
    "print(classification_report(y_test, cb_test.predict(X_test)))\n",
    "sns.heatmap(confusion_matrix(y_test, cb_test.predict(X_test)).round(), annot=True, fmt='.0f', cmap = 'coolwarm')\n",
    "plt.title('Тепловая матрица ошибок')\n",
    "plt.xlabel('предсказания')\n",
    "plt.ylabel('правильные ответы');"
   ]
  },
  {
   "cell_type": "markdown",
   "id": "1f441be0",
   "metadata": {},
   "source": [
    "The percentage of correct answers (Accuracy) was 76%. F1-score value = 0.64.\n",
    "\n",
    "The model correctly predicts customer leaving in 375 out of 467 cases (recall=0.80), 92 times it is wrong. The model correctly predicts that the client will stay with the company in 955 cases out of 1294, it was wrong 339 times. \n",
    "\n",
    "Let's visualise the most important features from the point of view of the model algorithm that have the greatest impact on the predictive decision."
   ]
  },
  {
   "cell_type": "code",
   "execution_count": 67,
   "id": "a540af3b",
   "metadata": {},
   "outputs": [
    {
     "data": {
      "image/png": "[encoded data removed]",
      "text/plain": [
       "<Figure size 1080x864 with 1 Axes>"
      ]
     },
     "metadata": {
      "needs_background": "light"
     },
     "output_type": "display_data"
    }
   ],
   "source": [
    "# creating the table with features importances\n",
    "feature_importance = (\n",
    "    pd.Series(cb_test.feature_importances_.round(3), X_test.columns)\n",
    "    .sort_values(ascending=False)\n",
    ")\n",
    "\n",
    "# plotting a graph\n",
    "plt.figure(figsize=(15,12))\n",
    "ax = sns.barplot(y=feature_importance.index, x=feature_importance)\n",
    "for i in ax.containers:\n",
    "    ax.bar_label(i,)\n",
    "plt.title('Важность признаков')\n",
    "plt.xlabel('значение уровня важности признака')\n",
    "plt.ylabel('наименование признака');"
   ]
  },
  {
   "cell_type": "markdown",
   "id": "d0611319",
   "metadata": {},
   "source": [
    "As the graph shows, the most important features from the point of view of the model algorithm that influence the predictive decision are the type of contract (monthly payment, annual or two-year contract), the duration of the customer's relationship with the company, and the type of internet connection (fibre optic cable or DSL).\n",
    "\n",
    "The least important features are the availability of cloud file storage, family status, the availability of antivirus, and the presence of dependents."
   ]
  },
  {
   "cell_type": "markdown",
   "id": "45328dd9",
   "metadata": {},
   "source": [
    "## Overall conclusion"
   ]
  },
  {
   "cell_type": "markdown",
   "id": "22550535",
   "metadata": {},
   "source": [
    "The following key steps were carried out during the project:\n",
    "\n",
    "1. Research and preprocessing of data:\n",
    "    - downloaded and reviewed the data,\n",
    "    - merged all the tables into a single data frame on the `cusotmer_id` column,\n",
    "    - corrected the style of the column names according to the \"snake_register\",\n",
    "    - converted the data type to match the logic and nature of the data represented therein,\n",
    "    - filled in the missing values created after merging the tables, as well as the implicit missing values in the `end_date` and `total_charges` columns,\n",
    "    - we added the target attribute `exited`, which reflects the status of the client (left/stayed), as well as an additional feature `tenure` - the duration of the client's cooperation with the company, measured in months.\n",
    "    \n",
    "\n",
    "2. Exploratory analysis of the data revealed the following key discoveries, important from the point of view of possible changes in the business model and management decision-making:\n",
    "    - The \"oldest\" customers are the most loyal. The share of remaining customers among them far exceeds the share of those who have left. Since 2019, we have seen a significant increase in quitting customers, and at the end of 2019, the share of quitting customers exceeded the share of remaining customers. There has been a clear breakdown in business processes: either pricing or tariff policy, or quality of service, or all combined to cause massive churn in the last year.\n",
    "    - clients with a monthly payment type are much more likely to leave. While clients with one- and two-year contracts are as loyal as possible and hardly ever leave the company.\n",
    "    - The higher the monthly payment amount, the higher the share of clients who leave the company. And, starting from about 70 euros a month, the percentage of quitting clients increases sharply. The vast majority of the remaining clients have a monthly payment of 20-30 euros.\n",
    "    - A very interesting finding has to do with the type of Internet connection. For those connected via fibre, the proportion of customers who leave is almost comparable to the proportion of remaining customers, which cannot be said about customers connected via DSL or those who do not use the internet at all. This may be the reason for the mass exodus seen in the last six months to a year: either very expensive, or the quality does not meet expectations.\n",
    "    - More than half of the clients left the company within the first 10 months of cooperation. The average term of cooperation for clients who have left the company is 18 months, and 38 months for clients who stayed. Moreover, the share of \"young\" clients whose term of cooperation with the company is less than 5 months exceeds the share of those who stayed.\n",
    "    - The correlation analysis of the features showed an average level of correlation of the target feature with the features of the payment method (0,45) and the duration of cooperation (0,47).\n",
    "\n",
    "\n",
    "3. Preparing the data for the machine learning model. In this step, the following steps were performed:\n",
    "    - Samples for the boosting models (LightGBM/Catboost) were generated, the original data were split into training and test samples in the proportion of 75:25,\n",
    "    - For Logistic Regression, categorical variables were encoded by OHE, and numerical features were scaled,\n",
    "    - For the Random Forest model, categorical variables were encoded using the OrdinalEncoder method.\n",
    "    \n",
    "\n",
    "4. Model training:\n",
    "    - 4 different models were trained: logistic regression, Random Forest, gradient boosting from Catboost library and LightGBM gradient boosting,\n",
    "    - For each model, optimal hyperparameters were chosen and ROC-AUC metrics were estimated.\n",
    "    - The Catboost model showed the best results. The ROC-AUC metric for it was 0.848. It was tested at the stage of model testing.\n",
    "    \n",
    "\n",
    "5. Testing of the selected model:\n",
    "    - We tested the gradient boosting model from Catboost library, which showed the best quality metric in the training phase,\n",
    "    - The final value of ROC-AUC metric on the test sample is 0.8515, which satisfies the target metric value (>=0.85) for our problem,\n",
    "    - We calculated a share of correct answers Accuracy=76% and F1-score=0.64,\n",
    "    - We built an confusion matrix. The model correctly predicts customer leaving in 375 cases out of 467 (recall=0.80), 92 times it is wrong.\n",
    "    - Visualized a plot of the importance of the features. The most important features from the point of view of the model algorithm that influence the predictive decision are the type of contract (monthly payment, one-year or two-year contract) and the duration of the client's cooperation with the company."
   ]
  },
  {
   "cell_type": "markdown",
   "id": "13b94990",
   "metadata": {},
   "source": [
    "## Project Report"
   ]
  },
  {
   "cell_type": "markdown",
   "id": "fce03a76",
   "metadata": {},
   "source": [
    "In the course of the project, we stuck almost entirely to the original project plan. The only deviations from the plan were in the selection of better tools for certain tasks. In particular:\n",
    "- The calculation of correlations from the *phik* library was used for the correlation analysis, which allowed the calculation of correlations of both numerical and categorical features at the same time. The original plan was to calculate Pearson correlations, which are not relevant for categorical features,\n",
    "\n",
    "\n",
    "- The One Hot Encoding (OHE) mechanism was used to encode categorical features for Logistic Regression and the OrdinalEncoder (OE) mechanism was used to encode categorical features for Random Forest. The original plan was to use `pd.get_dummies` for both models.  \n",
    "\n",
    "<u>**Accordingly, following the plan developed, the following key steps were implemented during the project:**</u>\n",
    "\n",
    "1. Study and preprocessing of data:\n",
    "\n",
    "    - downloaded and reviewed the data,\n",
    "    - merged all the tables into a single data frame using the `cusotmer_id` column,\n",
    "    - corrected the style of the column names according to the \"snake_register\",\n",
    "    - converted the data type according to the logic and nature of the data represented therein, namely the `begin_date`, `end_date` columns converted to `datetime` data type and the `total_charges` column to `float`,\n",
    "    - processed the missing values: \n",
    "    - the missing values generated after merging the tables indicated that the client did not have the service in question. Accordingly, these missing values were filled with 'No',\n",
    "    - missing values in the `end_date` column were not missing values, but the fact that they are actual clients, i.e., that the contract was not terminated before the date of data uploading. Subsequently, when preparing the data for the ML model, we calculated an additional feature - duration of cooperation. Accordingly, to calculate it, it was logical to fill in the missing values in the `end_date` column with the date of data uploading,\n",
    "    - also, the implicit missing entries in the `total_charges` column, when examined in detail, turned out to be only in the observations for the month of upload (2020-02-01). It was assumed that, for these clients, the monthly expenditure data for January had not been updated in the total expenditure. Consequently, it was decided to fill these missing data with the monthly expenditures of these clients in January,\n",
    "    - we added the target attribute `exited` to show the client's status (left/stayed) and also added an additional feature `tenure` - the duration of the client's cooperation with the company, measured in months.\n",
    "    \n",
    "\n",
    "2. Exploratory data analysis has revealed the following key discoveries that are important from the perspective of factor analysis of activity, in order to make managerial decisions to optimise the business model and business processes:\n",
    "\n",
    "    - The \"oldest\" customers are the most loyal. The share of remaining customers among them far exceeds the share of those who have left. Since 2019, we have seen a significant increase in clients who left, with the share of clients who left exceeding the share of those who stayed at the end of 2019. There was a clear breakdown in business processes: either pricing or tariff policy, or quality of service, or all combined, led to a mass exodus of clients in the last year,\n",
    "    - clients with a monthly payment type are far more likely to leave, while clients with one- and two-year contracts are the most loyal and almost never leave the company,\n",
    "    - the higher the monthly payment, the higher the share of quitting clients. And, starting from about 70 euros a month, the proportion of clients leaving the company increases sharply. The vast majority of clients who stay with the company pay a monthly fee of 20-30 euros,\n",
    "    - a very interesting finding has to do with the type of internet connection. For those connected via fibre optic cable the proportion of customers who leave is almost comparable to the proportion of those who stay, which cannot be said about customers connected via DSL, or customers who do not use the internet at all. This may be the reason for the mass exodus seen in the last six months to a year: either fibre optic connections are very expensive, or the quality of the connection does not meet expectations,\n",
    "    - more than half of the clients left the company within the first 10 months of cooperation. The average duration of cooperation for those who left the company is 18 months, while for the remaining clients it is 38 months. Moreover, the proportion of \"young\" clients who have been with the company for less than 5 months is higher than the proportion of those who stayed,\n",
    "    - The correlation analysis of the features showed an average level of correlation of the target feature with the features of the payment method (0.45) and the duration of cooperation (0.47).\n",
    "\n",
    "\n",
    "3. Preparing the data for the machine learning model. In this step, the following steps were carried out:\n",
    "\n",
    "    - Conducted a correlation analysis of the features:\n",
    "    - We preliminarily removed the features that we did not plan to use in further work on the model development. Since we had added the target attribute `exited` directly from `end_date`, we couldn't use this feature; we also couldn't use the feature `begin_date` because it, in combination with our added feature of cooperation duration `tenure`, could lead us back to `end_date`. Well, we also removed the feature `customer_id`,\n",
    "    - Since it is desirable to remove attributes weakly related to the target, we removed attributes `gender` and `multiple_lines` (they have zero correlation with the target). In addition to those that are weakly related to the target, it is useful to remove features that are strongly related to each other. Therefore, we decided to also remove the feature `total_charges`, as it has a relatively high correlation with many features, and a high correlation with `tenure` and `monthly_charges`.\n",
    "    - Formed samples for the Boosting models (LightGBM/Catboost), split the source data into training and test samples in the proportion 75:25,\n",
    "    - generated samples for Logistic Regression. We encoded categorical variables for them using the `OHE` method, and scaled numerical features using the `StandardScaler` method,\n",
    "    - generated samples for the Random Forest model. Categorical variables were encoded by `OrdinalEncoder` method for them,\n",
    "    - The imbalance of target feature classes was investigated (negative to positive class ratio = 0.73:0.27). This aspect was taken into account as a hyperparameter in model development.\n",
    "    \n",
    "\n",
    "4. Model training:\n",
    "\n",
    "    - 4 different models were trained: logistic regression, random forest, Catboost gradient boosting and LightGBM gradient boosting,\n",
    "    - For each model, optimal hyperparameters were chosen and ROC-AUC metrics were estimated.\n",
    "    - The Catboost model showed the best results. The ROC-AUC metric for it was 0.848. We used it for the next stage of testing.\n",
    "    \n",
    "\n",
    "5. Testing of the selected model:\n",
    "\n",
    "    - We tested the gradient boosting model from the Catboost library, which showed the best quality metric in the training phase,\n",
    "    > The hyperparameters of the best model we took in testing are as follows: \n",
    "        >- `random_state=141122, depth=4, iterations=200, learning_rate=0.05, class_weights=[1, 2.77]`\n",
    "        \n",
    "    - The final value of ROC-AUC metric on the test sample is 0.8515, which satisfies the target metric threshold (>=0.85) to solve our problem,\n",
    "    - We calculated a share of correct answers Accuracy=76% and F1-score=0.64,\n",
    "    - We built a confusion matrix. The model correctly predicts customer leaving in 375 cases out of 467 (recall=0.80), in 92 cases the model is wrong,\n",
    "    - We visualized a graph of the importance of the features. The most important attributes from the point of view of the model algorithm that influence the predictive decision are the type of contract (monthly payment, one year or two years contract), the duration of the client's cooperation with the company, and the type of internet connection (fiber optic cable or DSL). The least important features are the availability of cloud file storage, family status, the availability of anti-virus and the presence of dependents.\n",
    "    \n",
    "---\n",
    "**Key factor in achieving the target metric**\n",
    "\n",
    "In our view, the key factor in achieving the target metric value, in addition to the right preprocessing of the data and use of the right categorical encoding tool, was the addition of a new feature `tenure' - the duration of the customer relationship with the company, which increased the value of the target metric.\n",
    "\n",
    "\n",
    "---\n",
    "**Difficulties encountered during project implementation**.\n",
    "1. During the course of the project it was difficult to identify the set of additional features that would be desirable to introduce in order to improve the quality of the model. We were considering three additional features: 1. Lifespan of the customer, 2. Type of contracted service (Internet, telephony or both), and 3. Number of additionally connected services.** As a result we decided to add only the first feature - the duration of customer's co-operation with the company. \n",
    "\n",
    "\n",
    "2. In addition to introducing new features, the question was about the optimization of the set of features used for training models - which features to retain, and which can be safely excluded when working with models. A correlation analysis was conducted to determine the multicollinearity of the features. Based on the results of the analysis, we excluded from further work on the training of models the features weakly related to the target (`gender` and `multiple_lines`), as well as the features strongly related to each other (we excluded `total_charges`, as it has a relatively high correlation with many features, as well as a high correlation with `tenure` and `monthly_charges`).\n",
    "\n",
    "\n",
    "3. It was difficult to decide on optimal hyperparameters for the models, especially the resource-intensive ones (Catboost). Knowing that in order to demonstrate good metric results this model prefers large number of iterations and large tree depths, the initial approach in GridSearchCV included high values for these hyperparameters, due to which we had to wait a long time for the model training result. Accordingly, in order to optimise and balance both the quality of the model and its training time, the values of the `depth` and `iterations` hyperparameters were experimentally reduced to acceptable values, both in terms of the resulting metric and the training time."
   ]
  }
 ],
 "metadata": {
  "ExecuteTimeLog": [
   {
    "duration": 1820,
    "start_time": "2022-11-17T23:59:13.203Z"
   },
   {
    "duration": 398,
    "start_time": "2022-11-17T23:59:16.744Z"
   },
   {
    "duration": 4,
    "start_time": "2022-11-17T23:59:18.726Z"
   },
   {
    "duration": 48,
    "start_time": "2022-11-17T23:59:19.910Z"
   },
   {
    "duration": 77,
    "start_time": "2022-11-17T23:59:20.734Z"
   },
   {
    "duration": 32,
    "start_time": "2022-11-17T23:59:22.264Z"
   },
   {
    "duration": 57,
    "start_time": "2022-11-17T23:59:23.498Z"
   },
   {
    "duration": 42,
    "start_time": "2022-11-17T23:59:24.903Z"
   },
   {
    "duration": 61,
    "start_time": "2022-11-17T23:59:25.857Z"
   },
   {
    "duration": 26,
    "start_time": "2022-11-17T23:59:27.189Z"
   },
   {
    "duration": 27,
    "start_time": "2022-11-17T23:59:27.982Z"
   },
   {
    "duration": 22,
    "start_time": "2022-11-17T23:59:30.320Z"
   },
   {
    "duration": 17,
    "start_time": "2022-11-17T23:59:36.832Z"
   },
   {
    "duration": 84,
    "start_time": "2022-11-17T23:59:38.554Z"
   },
   {
    "duration": 3,
    "start_time": "2022-11-17T23:59:40.885Z"
   },
   {
    "duration": 5,
    "start_time": "2022-11-17T23:59:41.791Z"
   },
   {
    "duration": 4,
    "start_time": "2022-11-17T23:59:42.591Z"
   },
   {
    "duration": 18,
    "start_time": "2022-11-17T23:59:42.871Z"
   },
   {
    "duration": 13,
    "start_time": "2022-11-17T23:59:43.888Z"
   },
   {
    "duration": 19,
    "start_time": "2022-11-17T23:59:44.282Z"
   },
   {
    "duration": 11,
    "start_time": "2022-11-17T23:59:45.848Z"
   },
   {
    "duration": 15,
    "start_time": "2022-11-17T23:59:47.251Z"
   },
   {
    "duration": 6,
    "start_time": "2022-11-18T00:01:32.623Z"
   },
   {
    "duration": 11,
    "start_time": "2022-11-18T00:02:28.004Z"
   },
   {
    "duration": 11,
    "start_time": "2022-11-18T00:02:30.664Z"
   },
   {
    "duration": 20,
    "start_time": "2022-11-18T00:02:43.175Z"
   },
   {
    "duration": 12,
    "start_time": "2022-11-18T00:03:02.657Z"
   },
   {
    "duration": 3,
    "start_time": "2022-11-18T00:03:22.275Z"
   }
  ],
  "kernelspec": {
   "display_name": "Python 3 (ipykernel)",
   "language": "python",
   "name": "python3"
  },
  "language_info": {
   "codemirror_mode": {
    "name": "ipython",
    "version": 3
   },
   "file_extension": ".py",
   "mimetype": "text/x-python",
   "name": "python",
   "nbconvert_exporter": "python",
   "pygments_lexer": "ipython3",
   "version": "3.9.7"
  },
  "toc": {
   "base_numbering": 1,
   "nav_menu": {},
   "number_sections": true,
   "sideBar": true,
   "skip_h1_title": true,
   "title_cell": "Contents",
   "title_sidebar": "Contents",
   "toc_cell": true,
   "toc_position": {
    "height": "calc(100% - 180px)",
    "left": "10px",
    "top": "150px",
    "width": "303.825px"
   },
   "toc_section_display": true,
   "toc_window_display": true
  }
 },
 "nbformat": 4,
 "nbformat_minor": 5
}
