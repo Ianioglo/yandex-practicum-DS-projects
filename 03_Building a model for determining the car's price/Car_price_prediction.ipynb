{
 "cells": [
  {
   "cell_type": "markdown",
   "id": "ad7e83cc",
   "metadata": {
    "toc": true
   },
   "source": [
    "<h1>Contents<span class=\"tocSkip\"></span></h1>\n",
    "<div class=\"toc\"><ul class=\"toc-item\"><li><span><a href=\"#Data-preparation\" data-toc-modified-id=\"Data-preparation-1\"><span class=\"toc-item-num\">1&nbsp;&nbsp;</span>Data preparation</a></span></li><li><span><a href=\"#Models-training\" data-toc-modified-id=\"Models-training-2\"><span class=\"toc-item-num\">2&nbsp;&nbsp;</span>Models training</a></span></li><li><span><a href=\"#Models-analysis\" data-toc-modified-id=\"Models-analysis-3\"><span class=\"toc-item-num\">3&nbsp;&nbsp;</span>Models analysis</a></span></li></ul></div>"
   ]
  },
  {
   "cell_type": "markdown",
   "id": "7119a251",
   "metadata": {},
   "source": [
    "# Project description: Car price prediction"
   ]
  },
  {
   "cell_type": "markdown",
   "id": "c78c422a",
   "metadata": {},
   "source": [
    "The used car sales service is developing an app to attract new customers. You can quickly find out the market value of your car. We have historical data at our disposal: technical specifications, specifications and prices of cars. We need to build a model to determine the value. \n",
    "\n",
    "To the customer is important:\n",
    "\n",
    "- the quality of the prediction;\n",
    "- speed of prediction;\n",
    "- training time.\n",
    "\n",
    "**Instruction on how to do the project**.\n",
    "\n",
    "To strengthen the study, let's go beyond gradient boosting. Let's try simpler models - sometimes they work better.\n",
    "\n",
    "1. Load and prepare the data.\n",
    "2. Train different models.\n",
    "3. Analyse the speed and quality of the models.\n",
    "\n",
    "**Notes:**\n",
    "\n",
    "1. To estimate the quality of models, will apply RMSE metric. The value of RMSE metric should be less than 2500.\n",
    "2. Will master the LightGBM library and use it to build gradient boosting models.\n",
    "3. Will get the time of execution of a Jupyter Notebook code cell with a special command. As the gradient boosting model can be trained for a long time, let's change only two-three parameters in it.\n",
    "\n",
    "**Data description**.\n",
    "\n",
    "*Features*\n",
    "\n",
    "- `DateCrawled` - date when questionnaire was downloaded from the database\n",
    "- `VehicleType` - type of vehicle bodywork\n",
    "- `RegistrationYear` - vehicle registration year\n",
    "- `Gearbox` - type of gearbox\n",
    "- `Power` - power (hp)\n",
    "- `Model` - vehicle model\n",
    "- `Kilometer` - mileage (km)\n",
    "- `RegistrationMonth` - vehicle registration month\n",
    "- `FuelType` - fuel type\n",
    "- `Brand` - make of car\n",
    "- `NotRepaired` - if the car has been repaired or not\n",
    "- `DateCreated` - date of questionnaire creation\n",
    "- `NumberOfPictures` - number of pictures of the car\n",
    "- `PostalCode` - postal code of the questionnaire owner (user)\n",
    "- `LastSeen` - date of the user's last activity\n",
    "\n",
    "*Target attribute*\n",
    "- `Price` - price (euros)"
   ]
  },
  {
   "cell_type": "code",
   "execution_count": 1,
   "id": "b519cf5e",
   "metadata": {},
   "outputs": [],
   "source": [
    "# importing required libraries \n",
    "\n",
    "import warnings\n",
    "warnings.filterwarnings('ignore')\n",
    "\n",
    "import pandas as pd\n",
    "import numpy as np\n",
    "import seaborn as sns\n",
    "from matplotlib import pyplot as plt\n",
    "\n",
    "import time\n",
    "from sklearn.ensemble import RandomForestRegressor\n",
    "from sklearn.linear_model import LinearRegression\n",
    "from sklearn.preprocessing import StandardScaler, LabelEncoder, OrdinalEncoder\n",
    "\n",
    "from sklearn.model_selection import train_test_split, GridSearchCV\n",
    "\n",
    "import lightgbm as lgb\n",
    "from lightgbm import LGBMRegressor\n",
    "\n",
    "from sklearn.metrics import mean_squared_error"
   ]
  },
  {
   "cell_type": "markdown",
   "id": "07fcfa06",
   "metadata": {},
   "source": [
    "## Data preparation"
   ]
  },
  {
   "cell_type": "code",
   "execution_count": 2,
   "id": "8dd2463e",
   "metadata": {},
   "outputs": [],
   "source": [
    "# data loading and reading\n",
    "\n",
    "try:\n",
    "    df = pd.read_csv('autos.csv')\n",
    "    \n",
    "except FileNotFoundError:\n",
    "    df = pd.read_csv('/datasets/autos.csv')"
   ]
  },
  {
   "cell_type": "markdown",
   "id": "a5605d42",
   "metadata": {},
   "source": [
    "**Data overview**"
   ]
  },
  {
   "cell_type": "code",
   "execution_count": 3,
   "id": "c69a1aa9",
   "metadata": {},
   "outputs": [
    {
     "name": "stdout",
     "output_type": "stream",
     "text": [
      "<class 'pandas.core.frame.DataFrame'>\n",
      "RangeIndex: 354369 entries, 0 to 354368\n",
      "Data columns (total 16 columns):\n",
      " #   Column             Non-Null Count   Dtype \n",
      "---  ------             --------------   ----- \n",
      " 0   DateCrawled        354369 non-null  object\n",
      " 1   Price              354369 non-null  int64 \n",
      " 2   VehicleType        316879 non-null  object\n",
      " 3   RegistrationYear   354369 non-null  int64 \n",
      " 4   Gearbox            334536 non-null  object\n",
      " 5   Power              354369 non-null  int64 \n",
      " 6   Model              334664 non-null  object\n",
      " 7   Kilometer          354369 non-null  int64 \n",
      " 8   RegistrationMonth  354369 non-null  int64 \n",
      " 9   FuelType           321474 non-null  object\n",
      " 10  Brand              354369 non-null  object\n",
      " 11  NotRepaired        283215 non-null  object\n",
      " 12  DateCreated        354369 non-null  object\n",
      " 13  NumberOfPictures   354369 non-null  int64 \n",
      " 14  PostalCode         354369 non-null  int64 \n",
      " 15  LastSeen           354369 non-null  object\n",
      "dtypes: int64(7), object(9)\n",
      "memory usage: 43.3+ MB\n"
     ]
    },
    {
     "data": {
      "text/html": [
       "<div>\n",
       "<style scoped>\n",
       "    .dataframe tbody tr th:only-of-type {\n",
       "        vertical-align: middle;\n",
       "    }\n",
       "\n",
       "    .dataframe tbody tr th {\n",
       "        vertical-align: top;\n",
       "    }\n",
       "\n",
       "    .dataframe thead th {\n",
       "        text-align: right;\n",
       "    }\n",
       "</style>\n",
       "<table border=\"1\" class=\"dataframe\">\n",
       "  <thead>\n",
       "    <tr style=\"text-align: right;\">\n",
       "      <th></th>\n",
       "      <th>DateCrawled</th>\n",
       "      <th>Price</th>\n",
       "      <th>VehicleType</th>\n",
       "      <th>RegistrationYear</th>\n",
       "      <th>Gearbox</th>\n",
       "      <th>Power</th>\n",
       "      <th>Model</th>\n",
       "      <th>Kilometer</th>\n",
       "      <th>RegistrationMonth</th>\n",
       "      <th>FuelType</th>\n",
       "      <th>Brand</th>\n",
       "      <th>NotRepaired</th>\n",
       "      <th>DateCreated</th>\n",
       "      <th>NumberOfPictures</th>\n",
       "      <th>PostalCode</th>\n",
       "      <th>LastSeen</th>\n",
       "    </tr>\n",
       "  </thead>\n",
       "  <tbody>\n",
       "    <tr>\n",
       "      <th>36462</th>\n",
       "      <td>2016-03-31 12:47:37</td>\n",
       "      <td>450</td>\n",
       "      <td>NaN</td>\n",
       "      <td>2016</td>\n",
       "      <td>manual</td>\n",
       "      <td>55</td>\n",
       "      <td>golf</td>\n",
       "      <td>150000</td>\n",
       "      <td>4</td>\n",
       "      <td>NaN</td>\n",
       "      <td>volkswagen</td>\n",
       "      <td>NaN</td>\n",
       "      <td>2016-03-31 00:00:00</td>\n",
       "      <td>0</td>\n",
       "      <td>57462</td>\n",
       "      <td>2016-04-06 05:17:40</td>\n",
       "    </tr>\n",
       "    <tr>\n",
       "      <th>28412</th>\n",
       "      <td>2016-04-05 19:36:19</td>\n",
       "      <td>250</td>\n",
       "      <td>small</td>\n",
       "      <td>1999</td>\n",
       "      <td>manual</td>\n",
       "      <td>0</td>\n",
       "      <td>corsa</td>\n",
       "      <td>150000</td>\n",
       "      <td>9</td>\n",
       "      <td>petrol</td>\n",
       "      <td>opel</td>\n",
       "      <td>NaN</td>\n",
       "      <td>2016-04-05 00:00:00</td>\n",
       "      <td>0</td>\n",
       "      <td>48477</td>\n",
       "      <td>2016-04-05 19:36:19</td>\n",
       "    </tr>\n",
       "    <tr>\n",
       "      <th>281390</th>\n",
       "      <td>2016-04-04 23:37:11</td>\n",
       "      <td>1700</td>\n",
       "      <td>wagon</td>\n",
       "      <td>1999</td>\n",
       "      <td>auto</td>\n",
       "      <td>170</td>\n",
       "      <td>e_klasse</td>\n",
       "      <td>100000</td>\n",
       "      <td>7</td>\n",
       "      <td>gasoline</td>\n",
       "      <td>mercedes_benz</td>\n",
       "      <td>no</td>\n",
       "      <td>2016-04-04 00:00:00</td>\n",
       "      <td>0</td>\n",
       "      <td>82166</td>\n",
       "      <td>2016-04-05 07:42:14</td>\n",
       "    </tr>\n",
       "    <tr>\n",
       "      <th>123457</th>\n",
       "      <td>2016-04-03 22:49:49</td>\n",
       "      <td>1050</td>\n",
       "      <td>small</td>\n",
       "      <td>2001</td>\n",
       "      <td>manual</td>\n",
       "      <td>58</td>\n",
       "      <td>corsa</td>\n",
       "      <td>5000</td>\n",
       "      <td>6</td>\n",
       "      <td>petrol</td>\n",
       "      <td>opel</td>\n",
       "      <td>no</td>\n",
       "      <td>2016-04-03 00:00:00</td>\n",
       "      <td>0</td>\n",
       "      <td>51145</td>\n",
       "      <td>2016-04-06 00:45:13</td>\n",
       "    </tr>\n",
       "    <tr>\n",
       "      <th>158334</th>\n",
       "      <td>2016-03-06 01:58:47</td>\n",
       "      <td>1690</td>\n",
       "      <td>small</td>\n",
       "      <td>2000</td>\n",
       "      <td>manual</td>\n",
       "      <td>75</td>\n",
       "      <td>2_reihe</td>\n",
       "      <td>150000</td>\n",
       "      <td>12</td>\n",
       "      <td>petrol</td>\n",
       "      <td>peugeot</td>\n",
       "      <td>no</td>\n",
       "      <td>2016-03-06 00:00:00</td>\n",
       "      <td>0</td>\n",
       "      <td>66128</td>\n",
       "      <td>2016-03-10 08:45:40</td>\n",
       "    </tr>\n",
       "  </tbody>\n",
       "</table>\n",
       "</div>"
      ],
      "text/plain": [
       "                DateCrawled  Price VehicleType  RegistrationYear Gearbox  \\\n",
       "36462   2016-03-31 12:47:37    450         NaN              2016  manual   \n",
       "28412   2016-04-05 19:36:19    250       small              1999  manual   \n",
       "281390  2016-04-04 23:37:11   1700       wagon              1999    auto   \n",
       "123457  2016-04-03 22:49:49   1050       small              2001  manual   \n",
       "158334  2016-03-06 01:58:47   1690       small              2000  manual   \n",
       "\n",
       "        Power     Model  Kilometer  RegistrationMonth  FuelType  \\\n",
       "36462      55      golf     150000                  4       NaN   \n",
       "28412       0     corsa     150000                  9    petrol   \n",
       "281390    170  e_klasse     100000                  7  gasoline   \n",
       "123457     58     corsa       5000                  6    petrol   \n",
       "158334     75   2_reihe     150000                 12    petrol   \n",
       "\n",
       "                Brand NotRepaired          DateCreated  NumberOfPictures  \\\n",
       "36462      volkswagen         NaN  2016-03-31 00:00:00                 0   \n",
       "28412            opel         NaN  2016-04-05 00:00:00                 0   \n",
       "281390  mercedes_benz          no  2016-04-04 00:00:00                 0   \n",
       "123457           opel          no  2016-04-03 00:00:00                 0   \n",
       "158334        peugeot          no  2016-03-06 00:00:00                 0   \n",
       "\n",
       "        PostalCode             LastSeen  \n",
       "36462        57462  2016-04-06 05:17:40  \n",
       "28412        48477  2016-04-05 19:36:19  \n",
       "281390       82166  2016-04-05 07:42:14  \n",
       "123457       51145  2016-04-06 00:45:13  \n",
       "158334       66128  2016-03-10 08:45:40  "
      ]
     },
     "metadata": {},
     "output_type": "display_data"
    },
    {
     "data": {
      "text/plain": [
       "None"
      ]
     },
     "metadata": {},
     "output_type": "display_data"
    }
   ],
   "source": [
    "display(df.sample(5), df.info())"
   ]
  },
  {
   "cell_type": "markdown",
   "id": "2dee0c62",
   "metadata": {},
   "source": [
    "**- Missing values study**"
   ]
  },
  {
   "cell_type": "code",
   "execution_count": 4,
   "id": "7c53917a",
   "metadata": {
    "scrolled": false
   },
   "outputs": [
    {
     "data": {
      "text/html": [
       "<style type=\"text/css\">\n",
       "</style>\n",
       "<table id=\"T_55e45_\">\n",
       "  <thead>\n",
       "    <tr>\n",
       "      <th class=\"blank level0\" >&nbsp;</th>\n",
       "      <th class=\"col_heading level0 col0\" >sum</th>\n",
       "      <th class=\"col_heading level0 col1\" >mean</th>\n",
       "    </tr>\n",
       "  </thead>\n",
       "  <tbody>\n",
       "    <tr>\n",
       "      <th id=\"T_55e45_level0_row0\" class=\"row_heading level0 row0\" >NotRepaired</th>\n",
       "      <td id=\"T_55e45_row0_col0\" class=\"data row0 col0\" >71154.000000</td>\n",
       "      <td id=\"T_55e45_row0_col1\" class=\"data row0 col1\" >20.08%</td>\n",
       "    </tr>\n",
       "    <tr>\n",
       "      <th id=\"T_55e45_level0_row1\" class=\"row_heading level0 row1\" >VehicleType</th>\n",
       "      <td id=\"T_55e45_row1_col0\" class=\"data row1 col0\" >37490.000000</td>\n",
       "      <td id=\"T_55e45_row1_col1\" class=\"data row1 col1\" >10.58%</td>\n",
       "    </tr>\n",
       "    <tr>\n",
       "      <th id=\"T_55e45_level0_row2\" class=\"row_heading level0 row2\" >FuelType</th>\n",
       "      <td id=\"T_55e45_row2_col0\" class=\"data row2 col0\" >32895.000000</td>\n",
       "      <td id=\"T_55e45_row2_col1\" class=\"data row2 col1\" >9.28%</td>\n",
       "    </tr>\n",
       "    <tr>\n",
       "      <th id=\"T_55e45_level0_row3\" class=\"row_heading level0 row3\" >Gearbox</th>\n",
       "      <td id=\"T_55e45_row3_col0\" class=\"data row3 col0\" >19833.000000</td>\n",
       "      <td id=\"T_55e45_row3_col1\" class=\"data row3 col1\" >5.60%</td>\n",
       "    </tr>\n",
       "    <tr>\n",
       "      <th id=\"T_55e45_level0_row4\" class=\"row_heading level0 row4\" >Model</th>\n",
       "      <td id=\"T_55e45_row4_col0\" class=\"data row4 col0\" >19705.000000</td>\n",
       "      <td id=\"T_55e45_row4_col1\" class=\"data row4 col1\" >5.56%</td>\n",
       "    </tr>\n",
       "    <tr>\n",
       "      <th id=\"T_55e45_level0_row5\" class=\"row_heading level0 row5\" >DateCrawled</th>\n",
       "      <td id=\"T_55e45_row5_col0\" class=\"data row5 col0\" >0.000000</td>\n",
       "      <td id=\"T_55e45_row5_col1\" class=\"data row5 col1\" >0.00%</td>\n",
       "    </tr>\n",
       "    <tr>\n",
       "      <th id=\"T_55e45_level0_row6\" class=\"row_heading level0 row6\" >Price</th>\n",
       "      <td id=\"T_55e45_row6_col0\" class=\"data row6 col0\" >0.000000</td>\n",
       "      <td id=\"T_55e45_row6_col1\" class=\"data row6 col1\" >0.00%</td>\n",
       "    </tr>\n",
       "    <tr>\n",
       "      <th id=\"T_55e45_level0_row7\" class=\"row_heading level0 row7\" >RegistrationYear</th>\n",
       "      <td id=\"T_55e45_row7_col0\" class=\"data row7 col0\" >0.000000</td>\n",
       "      <td id=\"T_55e45_row7_col1\" class=\"data row7 col1\" >0.00%</td>\n",
       "    </tr>\n",
       "    <tr>\n",
       "      <th id=\"T_55e45_level0_row8\" class=\"row_heading level0 row8\" >Power</th>\n",
       "      <td id=\"T_55e45_row8_col0\" class=\"data row8 col0\" >0.000000</td>\n",
       "      <td id=\"T_55e45_row8_col1\" class=\"data row8 col1\" >0.00%</td>\n",
       "    </tr>\n",
       "    <tr>\n",
       "      <th id=\"T_55e45_level0_row9\" class=\"row_heading level0 row9\" >Kilometer</th>\n",
       "      <td id=\"T_55e45_row9_col0\" class=\"data row9 col0\" >0.000000</td>\n",
       "      <td id=\"T_55e45_row9_col1\" class=\"data row9 col1\" >0.00%</td>\n",
       "    </tr>\n",
       "    <tr>\n",
       "      <th id=\"T_55e45_level0_row10\" class=\"row_heading level0 row10\" >RegistrationMonth</th>\n",
       "      <td id=\"T_55e45_row10_col0\" class=\"data row10 col0\" >0.000000</td>\n",
       "      <td id=\"T_55e45_row10_col1\" class=\"data row10 col1\" >0.00%</td>\n",
       "    </tr>\n",
       "    <tr>\n",
       "      <th id=\"T_55e45_level0_row11\" class=\"row_heading level0 row11\" >Brand</th>\n",
       "      <td id=\"T_55e45_row11_col0\" class=\"data row11 col0\" >0.000000</td>\n",
       "      <td id=\"T_55e45_row11_col1\" class=\"data row11 col1\" >0.00%</td>\n",
       "    </tr>\n",
       "    <tr>\n",
       "      <th id=\"T_55e45_level0_row12\" class=\"row_heading level0 row12\" >DateCreated</th>\n",
       "      <td id=\"T_55e45_row12_col0\" class=\"data row12 col0\" >0.000000</td>\n",
       "      <td id=\"T_55e45_row12_col1\" class=\"data row12 col1\" >0.00%</td>\n",
       "    </tr>\n",
       "    <tr>\n",
       "      <th id=\"T_55e45_level0_row13\" class=\"row_heading level0 row13\" >NumberOfPictures</th>\n",
       "      <td id=\"T_55e45_row13_col0\" class=\"data row13 col0\" >0.000000</td>\n",
       "      <td id=\"T_55e45_row13_col1\" class=\"data row13 col1\" >0.00%</td>\n",
       "    </tr>\n",
       "    <tr>\n",
       "      <th id=\"T_55e45_level0_row14\" class=\"row_heading level0 row14\" >PostalCode</th>\n",
       "      <td id=\"T_55e45_row14_col0\" class=\"data row14 col0\" >0.000000</td>\n",
       "      <td id=\"T_55e45_row14_col1\" class=\"data row14 col1\" >0.00%</td>\n",
       "    </tr>\n",
       "    <tr>\n",
       "      <th id=\"T_55e45_level0_row15\" class=\"row_heading level0 row15\" >LastSeen</th>\n",
       "      <td id=\"T_55e45_row15_col0\" class=\"data row15 col0\" >0.000000</td>\n",
       "      <td id=\"T_55e45_row15_col1\" class=\"data row15 col1\" >0.00%</td>\n",
       "    </tr>\n",
       "  </tbody>\n",
       "</table>\n"
      ],
      "text/plain": [
       "<pandas.io.formats.style.Styler at 0x1e924ea6970>"
      ]
     },
     "execution_count": 4,
     "metadata": {},
     "output_type": "execute_result"
    }
   ],
   "source": [
    "df.isna().agg(['sum','mean']).T.sort_values('mean', ascending=False).style.format({'mean':'{:.2%}'})"
   ]
  },
  {
   "cell_type": "markdown",
   "id": "12dcf7b0",
   "metadata": {},
   "source": [
    "**Conclusion:**\n",
    "\n",
    "There are 354,369 records and 16 columns in the dataset. Multiple missing entries are observed:\n",
    "\n",
    "- `NotRepaired`: 71154 out of 354369 (20%)\n",
    "- `VehicleType`: 37490 out of 354369 (11%)\n",
    "- `FuelType`: 32895 out of 354369 (9%)\n",
    "- `Gearbox`: 19833 out of 354369 (6%)\n",
    "- `Model`: 19705 out of 354369 (6%)\n",
    "\n",
    "A large number of missing data is ground for checking with the data provider as to the cause and nature of the missing data. In the absence of this possibility, we will try to fill in some of them during the project."
   ]
  },
  {
   "cell_type": "markdown",
   "id": "6b4fd61b",
   "metadata": {},
   "source": [
    "**- Dataset descriptive statistics evaluation**"
   ]
  },
  {
   "cell_type": "code",
   "execution_count": 5,
   "id": "89a3558d",
   "metadata": {},
   "outputs": [
    {
     "data": {
      "text/html": [
       "<div>\n",
       "<style scoped>\n",
       "    .dataframe tbody tr th:only-of-type {\n",
       "        vertical-align: middle;\n",
       "    }\n",
       "\n",
       "    .dataframe tbody tr th {\n",
       "        vertical-align: top;\n",
       "    }\n",
       "\n",
       "    .dataframe thead th {\n",
       "        text-align: right;\n",
       "    }\n",
       "</style>\n",
       "<table border=\"1\" class=\"dataframe\">\n",
       "  <thead>\n",
       "    <tr style=\"text-align: right;\">\n",
       "      <th></th>\n",
       "      <th>Price</th>\n",
       "      <th>RegistrationYear</th>\n",
       "      <th>Power</th>\n",
       "      <th>Kilometer</th>\n",
       "      <th>RegistrationMonth</th>\n",
       "      <th>NumberOfPictures</th>\n",
       "      <th>PostalCode</th>\n",
       "    </tr>\n",
       "  </thead>\n",
       "  <tbody>\n",
       "    <tr>\n",
       "      <th>count</th>\n",
       "      <td>354369.000000</td>\n",
       "      <td>354369.000000</td>\n",
       "      <td>354369.000000</td>\n",
       "      <td>354369.000000</td>\n",
       "      <td>354369.000000</td>\n",
       "      <td>354369.0</td>\n",
       "      <td>354369.000000</td>\n",
       "    </tr>\n",
       "    <tr>\n",
       "      <th>mean</th>\n",
       "      <td>4416.656776</td>\n",
       "      <td>2004.234448</td>\n",
       "      <td>110.094337</td>\n",
       "      <td>128211.172535</td>\n",
       "      <td>5.714645</td>\n",
       "      <td>0.0</td>\n",
       "      <td>50508.689087</td>\n",
       "    </tr>\n",
       "    <tr>\n",
       "      <th>std</th>\n",
       "      <td>4514.158514</td>\n",
       "      <td>90.227958</td>\n",
       "      <td>189.850405</td>\n",
       "      <td>37905.341530</td>\n",
       "      <td>3.726421</td>\n",
       "      <td>0.0</td>\n",
       "      <td>25783.096248</td>\n",
       "    </tr>\n",
       "    <tr>\n",
       "      <th>min</th>\n",
       "      <td>0.000000</td>\n",
       "      <td>1000.000000</td>\n",
       "      <td>0.000000</td>\n",
       "      <td>5000.000000</td>\n",
       "      <td>0.000000</td>\n",
       "      <td>0.0</td>\n",
       "      <td>1067.000000</td>\n",
       "    </tr>\n",
       "    <tr>\n",
       "      <th>25%</th>\n",
       "      <td>1050.000000</td>\n",
       "      <td>1999.000000</td>\n",
       "      <td>69.000000</td>\n",
       "      <td>125000.000000</td>\n",
       "      <td>3.000000</td>\n",
       "      <td>0.0</td>\n",
       "      <td>30165.000000</td>\n",
       "    </tr>\n",
       "    <tr>\n",
       "      <th>50%</th>\n",
       "      <td>2700.000000</td>\n",
       "      <td>2003.000000</td>\n",
       "      <td>105.000000</td>\n",
       "      <td>150000.000000</td>\n",
       "      <td>6.000000</td>\n",
       "      <td>0.0</td>\n",
       "      <td>49413.000000</td>\n",
       "    </tr>\n",
       "    <tr>\n",
       "      <th>75%</th>\n",
       "      <td>6400.000000</td>\n",
       "      <td>2008.000000</td>\n",
       "      <td>143.000000</td>\n",
       "      <td>150000.000000</td>\n",
       "      <td>9.000000</td>\n",
       "      <td>0.0</td>\n",
       "      <td>71083.000000</td>\n",
       "    </tr>\n",
       "    <tr>\n",
       "      <th>max</th>\n",
       "      <td>20000.000000</td>\n",
       "      <td>9999.000000</td>\n",
       "      <td>20000.000000</td>\n",
       "      <td>150000.000000</td>\n",
       "      <td>12.000000</td>\n",
       "      <td>0.0</td>\n",
       "      <td>99998.000000</td>\n",
       "    </tr>\n",
       "  </tbody>\n",
       "</table>\n",
       "</div>"
      ],
      "text/plain": [
       "               Price  RegistrationYear          Power      Kilometer  \\\n",
       "count  354369.000000     354369.000000  354369.000000  354369.000000   \n",
       "mean     4416.656776       2004.234448     110.094337  128211.172535   \n",
       "std      4514.158514         90.227958     189.850405   37905.341530   \n",
       "min         0.000000       1000.000000       0.000000    5000.000000   \n",
       "25%      1050.000000       1999.000000      69.000000  125000.000000   \n",
       "50%      2700.000000       2003.000000     105.000000  150000.000000   \n",
       "75%      6400.000000       2008.000000     143.000000  150000.000000   \n",
       "max     20000.000000       9999.000000   20000.000000  150000.000000   \n",
       "\n",
       "       RegistrationMonth  NumberOfPictures     PostalCode  \n",
       "count      354369.000000          354369.0  354369.000000  \n",
       "mean            5.714645               0.0   50508.689087  \n",
       "std             3.726421               0.0   25783.096248  \n",
       "min             0.000000               0.0    1067.000000  \n",
       "25%             3.000000               0.0   30165.000000  \n",
       "50%             6.000000               0.0   49413.000000  \n",
       "75%             9.000000               0.0   71083.000000  \n",
       "max            12.000000               0.0   99998.000000  "
      ]
     },
     "execution_count": 5,
     "metadata": {},
     "output_type": "execute_result"
    }
   ],
   "source": [
    "df.describe()"
   ]
  },
  {
   "cell_type": "markdown",
   "id": "ebe435c2",
   "metadata": {},
   "source": [
    "**Conclusion:**\n",
    "\n",
    "Many anomalous and strange values are observed:\n",
    "- `Price`: zero values are present. This is probably not an anomaly, but a reluctance on the part of the client to quote a price.\n",
    "- `Registration year`: minimum value is 1000 and maximum value 9999\n",
    "- `Power`: minimum value 0, maximum value 20 000\n",
    "- `Kilometer`: the values are distributed discretely, more than 50 per cent of the entries have a value of 150,000 km. This column is probably categorical rather than numerical\n",
    "- `Month of registration`: minimum value is 0\n",
    "- `No. of pictures`: only null values are present.\n",
    "\n",
    "Let's analyse the columns with categorical data. "
   ]
  },
  {
   "cell_type": "code",
   "execution_count": 6,
   "id": "c4746288",
   "metadata": {},
   "outputs": [
    {
     "data": {
      "text/html": [
       "<div>\n",
       "<style scoped>\n",
       "    .dataframe tbody tr th:only-of-type {\n",
       "        vertical-align: middle;\n",
       "    }\n",
       "\n",
       "    .dataframe tbody tr th {\n",
       "        vertical-align: top;\n",
       "    }\n",
       "\n",
       "    .dataframe thead th {\n",
       "        text-align: right;\n",
       "    }\n",
       "</style>\n",
       "<table border=\"1\" class=\"dataframe\">\n",
       "  <thead>\n",
       "    <tr style=\"text-align: right;\">\n",
       "      <th></th>\n",
       "      <th>DateCrawled</th>\n",
       "      <th>VehicleType</th>\n",
       "      <th>Gearbox</th>\n",
       "      <th>Model</th>\n",
       "      <th>FuelType</th>\n",
       "      <th>Brand</th>\n",
       "      <th>NotRepaired</th>\n",
       "      <th>DateCreated</th>\n",
       "      <th>LastSeen</th>\n",
       "    </tr>\n",
       "  </thead>\n",
       "  <tbody>\n",
       "    <tr>\n",
       "      <th>count</th>\n",
       "      <td>354369</td>\n",
       "      <td>316879</td>\n",
       "      <td>334536</td>\n",
       "      <td>334664</td>\n",
       "      <td>321474</td>\n",
       "      <td>354369</td>\n",
       "      <td>283215</td>\n",
       "      <td>354369</td>\n",
       "      <td>354369</td>\n",
       "    </tr>\n",
       "    <tr>\n",
       "      <th>unique</th>\n",
       "      <td>271174</td>\n",
       "      <td>8</td>\n",
       "      <td>2</td>\n",
       "      <td>250</td>\n",
       "      <td>7</td>\n",
       "      <td>40</td>\n",
       "      <td>2</td>\n",
       "      <td>109</td>\n",
       "      <td>179150</td>\n",
       "    </tr>\n",
       "    <tr>\n",
       "      <th>top</th>\n",
       "      <td>2016-03-24 14:49:47</td>\n",
       "      <td>sedan</td>\n",
       "      <td>manual</td>\n",
       "      <td>golf</td>\n",
       "      <td>petrol</td>\n",
       "      <td>volkswagen</td>\n",
       "      <td>no</td>\n",
       "      <td>2016-04-03 00:00:00</td>\n",
       "      <td>2016-04-06 13:45:54</td>\n",
       "    </tr>\n",
       "    <tr>\n",
       "      <th>freq</th>\n",
       "      <td>7</td>\n",
       "      <td>91457</td>\n",
       "      <td>268251</td>\n",
       "      <td>29232</td>\n",
       "      <td>216352</td>\n",
       "      <td>77013</td>\n",
       "      <td>247161</td>\n",
       "      <td>13719</td>\n",
       "      <td>17</td>\n",
       "    </tr>\n",
       "  </tbody>\n",
       "</table>\n",
       "</div>"
      ],
      "text/plain": [
       "                DateCrawled VehicleType Gearbox   Model FuelType       Brand  \\\n",
       "count                354369      316879  334536  334664   321474      354369   \n",
       "unique               271174           8       2     250        7          40   \n",
       "top     2016-03-24 14:49:47       sedan  manual    golf   petrol  volkswagen   \n",
       "freq                      7       91457  268251   29232   216352       77013   \n",
       "\n",
       "       NotRepaired          DateCreated             LastSeen  \n",
       "count       283215               354369               354369  \n",
       "unique           2                  109               179150  \n",
       "top             no  2016-04-03 00:00:00  2016-04-06 13:45:54  \n",
       "freq        247161                13719                   17  "
      ]
     },
     "execution_count": 6,
     "metadata": {},
     "output_type": "execute_result"
    }
   ],
   "source": [
    "df.describe(include='object')"
   ]
  },
  {
   "cell_type": "markdown",
   "id": "991bfedd",
   "metadata": {},
   "source": [
    "The most popular make and model of car is - expectedly - the Volkswagen Golf. The most frequently represented cars are those with manual transmission (80%), petrol engine (67%). "
   ]
  },
  {
   "cell_type": "markdown",
   "id": "aa72e7ba",
   "metadata": {},
   "source": [
    "**- checing explicit duplicates**"
   ]
  },
  {
   "cell_type": "code",
   "execution_count": 7,
   "id": "b0c5e3b2",
   "metadata": {},
   "outputs": [
    {
     "data": {
      "text/plain": [
       "4"
      ]
     },
     "execution_count": 7,
     "metadata": {},
     "output_type": "execute_result"
    }
   ],
   "source": [
    "df.duplicated().sum()"
   ]
  },
  {
   "cell_type": "markdown",
   "id": "e8d9f0c0",
   "metadata": {},
   "source": [
    "There are four full duplicates found in the dataset. Will get rid of them."
   ]
  },
  {
   "cell_type": "code",
   "execution_count": 8,
   "id": "a028d185",
   "metadata": {},
   "outputs": [
    {
     "data": {
      "text/plain": [
       "(354365, 16)"
      ]
     },
     "execution_count": 8,
     "metadata": {},
     "output_type": "execute_result"
    }
   ],
   "source": [
    "df = df.drop_duplicates()\n",
    "df.shape"
   ]
  },
  {
   "cell_type": "code",
   "execution_count": 9,
   "id": "1bf2fa52",
   "metadata": {},
   "outputs": [
    {
     "data": {
      "text/html": [
       "<div>\n",
       "<style scoped>\n",
       "    .dataframe tbody tr th:only-of-type {\n",
       "        vertical-align: middle;\n",
       "    }\n",
       "\n",
       "    .dataframe tbody tr th {\n",
       "        vertical-align: top;\n",
       "    }\n",
       "\n",
       "    .dataframe thead th {\n",
       "        text-align: right;\n",
       "    }\n",
       "</style>\n",
       "<table border=\"1\" class=\"dataframe\">\n",
       "  <thead>\n",
       "    <tr style=\"text-align: right;\">\n",
       "      <th></th>\n",
       "      <th>DateCrawled</th>\n",
       "      <th>Price</th>\n",
       "      <th>VehicleType</th>\n",
       "      <th>RegistrationYear</th>\n",
       "      <th>Gearbox</th>\n",
       "      <th>Power</th>\n",
       "      <th>Model</th>\n",
       "      <th>Kilometer</th>\n",
       "      <th>RegistrationMonth</th>\n",
       "      <th>FuelType</th>\n",
       "      <th>Brand</th>\n",
       "      <th>NotRepaired</th>\n",
       "      <th>DateCreated</th>\n",
       "      <th>NumberOfPictures</th>\n",
       "      <th>PostalCode</th>\n",
       "      <th>LastSeen</th>\n",
       "    </tr>\n",
       "  </thead>\n",
       "  <tbody>\n",
       "    <tr>\n",
       "      <th>90713</th>\n",
       "      <td>2016-04-07 14:36:58</td>\n",
       "      <td>3500</td>\n",
       "      <td>sedan</td>\n",
       "      <td>1999</td>\n",
       "      <td>manual</td>\n",
       "      <td>143</td>\n",
       "      <td>e_klasse</td>\n",
       "      <td>150000</td>\n",
       "      <td>8</td>\n",
       "      <td>gasoline</td>\n",
       "      <td>mercedes_benz</td>\n",
       "      <td>no</td>\n",
       "      <td>2016-04-07 00:00:00</td>\n",
       "      <td>0</td>\n",
       "      <td>64846</td>\n",
       "      <td>2016-04-07 14:36:58</td>\n",
       "    </tr>\n",
       "    <tr>\n",
       "      <th>339649</th>\n",
       "      <td>2016-04-07 14:36:56</td>\n",
       "      <td>8650</td>\n",
       "      <td>suv</td>\n",
       "      <td>1992</td>\n",
       "      <td>manual</td>\n",
       "      <td>121</td>\n",
       "      <td>wrangler</td>\n",
       "      <td>125000</td>\n",
       "      <td>5</td>\n",
       "      <td>petrol</td>\n",
       "      <td>jeep</td>\n",
       "      <td>no</td>\n",
       "      <td>2016-04-07 00:00:00</td>\n",
       "      <td>0</td>\n",
       "      <td>20357</td>\n",
       "      <td>2016-04-07 14:36:56</td>\n",
       "    </tr>\n",
       "    <tr>\n",
       "      <th>301030</th>\n",
       "      <td>2016-04-07 14:36:55</td>\n",
       "      <td>15200</td>\n",
       "      <td>wagon</td>\n",
       "      <td>2008</td>\n",
       "      <td>manual</td>\n",
       "      <td>190</td>\n",
       "      <td>a6</td>\n",
       "      <td>150000</td>\n",
       "      <td>9</td>\n",
       "      <td>gasoline</td>\n",
       "      <td>audi</td>\n",
       "      <td>no</td>\n",
       "      <td>2016-04-07 00:00:00</td>\n",
       "      <td>0</td>\n",
       "      <td>81476</td>\n",
       "      <td>2016-04-07 14:36:55</td>\n",
       "    </tr>\n",
       "    <tr>\n",
       "      <th>53739</th>\n",
       "      <td>2016-04-07 14:36:54</td>\n",
       "      <td>400</td>\n",
       "      <td>small</td>\n",
       "      <td>1996</td>\n",
       "      <td>manual</td>\n",
       "      <td>60</td>\n",
       "      <td>ibiza</td>\n",
       "      <td>150000</td>\n",
       "      <td>0</td>\n",
       "      <td>NaN</td>\n",
       "      <td>seat</td>\n",
       "      <td>NaN</td>\n",
       "      <td>2016-04-07 00:00:00</td>\n",
       "      <td>0</td>\n",
       "      <td>66299</td>\n",
       "      <td>2016-04-07 14:36:54</td>\n",
       "    </tr>\n",
       "    <tr>\n",
       "      <th>204218</th>\n",
       "      <td>2016-04-07 14:36:53</td>\n",
       "      <td>6990</td>\n",
       "      <td>coupe</td>\n",
       "      <td>1979</td>\n",
       "      <td>auto</td>\n",
       "      <td>143</td>\n",
       "      <td>3er</td>\n",
       "      <td>150000</td>\n",
       "      <td>6</td>\n",
       "      <td>petrol</td>\n",
       "      <td>bmw</td>\n",
       "      <td>no</td>\n",
       "      <td>2016-04-07 00:00:00</td>\n",
       "      <td>0</td>\n",
       "      <td>71336</td>\n",
       "      <td>2016-04-07 14:36:53</td>\n",
       "    </tr>\n",
       "    <tr>\n",
       "      <th>...</th>\n",
       "      <td>...</td>\n",
       "      <td>...</td>\n",
       "      <td>...</td>\n",
       "      <td>...</td>\n",
       "      <td>...</td>\n",
       "      <td>...</td>\n",
       "      <td>...</td>\n",
       "      <td>...</td>\n",
       "      <td>...</td>\n",
       "      <td>...</td>\n",
       "      <td>...</td>\n",
       "      <td>...</td>\n",
       "      <td>...</td>\n",
       "      <td>...</td>\n",
       "      <td>...</td>\n",
       "      <td>...</td>\n",
       "    </tr>\n",
       "    <tr>\n",
       "      <th>324763</th>\n",
       "      <td>2016-03-05 14:06:24</td>\n",
       "      <td>799</td>\n",
       "      <td>small</td>\n",
       "      <td>1997</td>\n",
       "      <td>manual</td>\n",
       "      <td>60</td>\n",
       "      <td>polo</td>\n",
       "      <td>150000</td>\n",
       "      <td>11</td>\n",
       "      <td>petrol</td>\n",
       "      <td>volkswagen</td>\n",
       "      <td>no</td>\n",
       "      <td>2016-03-05 00:00:00</td>\n",
       "      <td>0</td>\n",
       "      <td>35708</td>\n",
       "      <td>2016-03-09 15:19:01</td>\n",
       "    </tr>\n",
       "    <tr>\n",
       "      <th>176823</th>\n",
       "      <td>2016-03-05 14:06:24</td>\n",
       "      <td>6200</td>\n",
       "      <td>convertible</td>\n",
       "      <td>2006</td>\n",
       "      <td>manual</td>\n",
       "      <td>135</td>\n",
       "      <td>megane</td>\n",
       "      <td>90000</td>\n",
       "      <td>9</td>\n",
       "      <td>petrol</td>\n",
       "      <td>renault</td>\n",
       "      <td>no</td>\n",
       "      <td>2016-03-05 00:00:00</td>\n",
       "      <td>0</td>\n",
       "      <td>35764</td>\n",
       "      <td>2016-03-24 09:16:44</td>\n",
       "    </tr>\n",
       "    <tr>\n",
       "      <th>99885</th>\n",
       "      <td>2016-03-05 14:06:24</td>\n",
       "      <td>10900</td>\n",
       "      <td>suv</td>\n",
       "      <td>2003</td>\n",
       "      <td>auto</td>\n",
       "      <td>245</td>\n",
       "      <td>NaN</td>\n",
       "      <td>150000</td>\n",
       "      <td>11</td>\n",
       "      <td>petrol</td>\n",
       "      <td>sonstige_autos</td>\n",
       "      <td>no</td>\n",
       "      <td>2016-03-05 00:00:00</td>\n",
       "      <td>0</td>\n",
       "      <td>56072</td>\n",
       "      <td>2016-04-06 22:15:33</td>\n",
       "    </tr>\n",
       "    <tr>\n",
       "      <th>220583</th>\n",
       "      <td>2016-03-05 14:06:23</td>\n",
       "      <td>3999</td>\n",
       "      <td>wagon</td>\n",
       "      <td>2003</td>\n",
       "      <td>manual</td>\n",
       "      <td>220</td>\n",
       "      <td>a6</td>\n",
       "      <td>150000</td>\n",
       "      <td>7</td>\n",
       "      <td>petrol</td>\n",
       "      <td>audi</td>\n",
       "      <td>no</td>\n",
       "      <td>2016-03-05 00:00:00</td>\n",
       "      <td>0</td>\n",
       "      <td>57080</td>\n",
       "      <td>2016-03-06 18:29:35</td>\n",
       "    </tr>\n",
       "    <tr>\n",
       "      <th>329497</th>\n",
       "      <td>2016-03-05 14:06:22</td>\n",
       "      <td>150</td>\n",
       "      <td>small</td>\n",
       "      <td>1997</td>\n",
       "      <td>manual</td>\n",
       "      <td>75</td>\n",
       "      <td>polo</td>\n",
       "      <td>150000</td>\n",
       "      <td>4</td>\n",
       "      <td>petrol</td>\n",
       "      <td>volkswagen</td>\n",
       "      <td>no</td>\n",
       "      <td>2016-03-05 00:00:00</td>\n",
       "      <td>0</td>\n",
       "      <td>35789</td>\n",
       "      <td>2016-03-27 17:16:15</td>\n",
       "    </tr>\n",
       "  </tbody>\n",
       "</table>\n",
       "<p>354365 rows × 16 columns</p>\n",
       "</div>"
      ],
      "text/plain": [
       "                DateCrawled  Price  VehicleType  RegistrationYear Gearbox  \\\n",
       "90713   2016-04-07 14:36:58   3500        sedan              1999  manual   \n",
       "339649  2016-04-07 14:36:56   8650          suv              1992  manual   \n",
       "301030  2016-04-07 14:36:55  15200        wagon              2008  manual   \n",
       "53739   2016-04-07 14:36:54    400        small              1996  manual   \n",
       "204218  2016-04-07 14:36:53   6990        coupe              1979    auto   \n",
       "...                     ...    ...          ...               ...     ...   \n",
       "324763  2016-03-05 14:06:24    799        small              1997  manual   \n",
       "176823  2016-03-05 14:06:24   6200  convertible              2006  manual   \n",
       "99885   2016-03-05 14:06:24  10900          suv              2003    auto   \n",
       "220583  2016-03-05 14:06:23   3999        wagon              2003  manual   \n",
       "329497  2016-03-05 14:06:22    150        small              1997  manual   \n",
       "\n",
       "        Power     Model  Kilometer  RegistrationMonth  FuelType  \\\n",
       "90713     143  e_klasse     150000                  8  gasoline   \n",
       "339649    121  wrangler     125000                  5    petrol   \n",
       "301030    190        a6     150000                  9  gasoline   \n",
       "53739      60     ibiza     150000                  0       NaN   \n",
       "204218    143       3er     150000                  6    petrol   \n",
       "...       ...       ...        ...                ...       ...   \n",
       "324763     60      polo     150000                 11    petrol   \n",
       "176823    135    megane      90000                  9    petrol   \n",
       "99885     245       NaN     150000                 11    petrol   \n",
       "220583    220        a6     150000                  7    petrol   \n",
       "329497     75      polo     150000                  4    petrol   \n",
       "\n",
       "                 Brand NotRepaired          DateCreated  NumberOfPictures  \\\n",
       "90713    mercedes_benz          no  2016-04-07 00:00:00                 0   \n",
       "339649            jeep          no  2016-04-07 00:00:00                 0   \n",
       "301030            audi          no  2016-04-07 00:00:00                 0   \n",
       "53739             seat         NaN  2016-04-07 00:00:00                 0   \n",
       "204218             bmw          no  2016-04-07 00:00:00                 0   \n",
       "...                ...         ...                  ...               ...   \n",
       "324763      volkswagen          no  2016-03-05 00:00:00                 0   \n",
       "176823         renault          no  2016-03-05 00:00:00                 0   \n",
       "99885   sonstige_autos          no  2016-03-05 00:00:00                 0   \n",
       "220583            audi          no  2016-03-05 00:00:00                 0   \n",
       "329497      volkswagen          no  2016-03-05 00:00:00                 0   \n",
       "\n",
       "        PostalCode             LastSeen  \n",
       "90713        64846  2016-04-07 14:36:58  \n",
       "339649       20357  2016-04-07 14:36:56  \n",
       "301030       81476  2016-04-07 14:36:55  \n",
       "53739        66299  2016-04-07 14:36:54  \n",
       "204218       71336  2016-04-07 14:36:53  \n",
       "...            ...                  ...  \n",
       "324763       35708  2016-03-09 15:19:01  \n",
       "176823       35764  2016-03-24 09:16:44  \n",
       "99885        56072  2016-04-06 22:15:33  \n",
       "220583       57080  2016-03-06 18:29:35  \n",
       "329497       35789  2016-03-27 17:16:15  \n",
       "\n",
       "[354365 rows x 16 columns]"
      ]
     },
     "execution_count": 9,
     "metadata": {},
     "output_type": "execute_result"
    }
   ],
   "source": [
    "df.sort_values(by='DateCrawled', ascending=False)"
   ]
  },
  {
   "cell_type": "markdown",
   "id": "34369283",
   "metadata": {},
   "source": [
    "The year of the data upload is 2016. Therefore, later on in the project, this fact will be taken into account when processing outliers for the \"RegistrationYear\" column."
   ]
  },
  {
   "cell_type": "markdown",
   "id": "85ab0fea",
   "metadata": {},
   "source": [
    "**- excluding features that are irrelevant and of little value for model learning**"
   ]
  },
  {
   "cell_type": "markdown",
   "id": "4c2fe195",
   "metadata": {},
   "source": [
    "Delete the columns `DateCrawled`, `DateCreated`, `NumberOfPictures`, `LastSeen`, `RegistrationMonth`, `PostalCode` as these attributes are uninformative."
   ]
  },
  {
   "cell_type": "code",
   "execution_count": 10,
   "id": "f80ed65e",
   "metadata": {},
   "outputs": [],
   "source": [
    "df = df.drop(['DateCrawled', 'DateCreated', 'NumberOfPictures', 'LastSeen', 'RegistrationMonth', 'PostalCode'], axis=1)"
   ]
  },
  {
   "cell_type": "code",
   "execution_count": 11,
   "id": "a777ee2a",
   "metadata": {},
   "outputs": [
    {
     "data": {
      "text/html": [
       "<div>\n",
       "<style scoped>\n",
       "    .dataframe tbody tr th:only-of-type {\n",
       "        vertical-align: middle;\n",
       "    }\n",
       "\n",
       "    .dataframe tbody tr th {\n",
       "        vertical-align: top;\n",
       "    }\n",
       "\n",
       "    .dataframe thead th {\n",
       "        text-align: right;\n",
       "    }\n",
       "</style>\n",
       "<table border=\"1\" class=\"dataframe\">\n",
       "  <thead>\n",
       "    <tr style=\"text-align: right;\">\n",
       "      <th></th>\n",
       "      <th>Price</th>\n",
       "      <th>VehicleType</th>\n",
       "      <th>RegistrationYear</th>\n",
       "      <th>Gearbox</th>\n",
       "      <th>Power</th>\n",
       "      <th>Model</th>\n",
       "      <th>Kilometer</th>\n",
       "      <th>FuelType</th>\n",
       "      <th>Brand</th>\n",
       "      <th>NotRepaired</th>\n",
       "    </tr>\n",
       "  </thead>\n",
       "  <tbody>\n",
       "    <tr>\n",
       "      <th>73776</th>\n",
       "      <td>1000</td>\n",
       "      <td>bus</td>\n",
       "      <td>2001</td>\n",
       "      <td>manual</td>\n",
       "      <td>125</td>\n",
       "      <td>zafira</td>\n",
       "      <td>150000</td>\n",
       "      <td>petrol</td>\n",
       "      <td>opel</td>\n",
       "      <td>yes</td>\n",
       "    </tr>\n",
       "  </tbody>\n",
       "</table>\n",
       "</div>"
      ],
      "text/plain": [
       "       Price VehicleType  RegistrationYear Gearbox  Power   Model  Kilometer  \\\n",
       "73776   1000         bus              2001  manual    125  zafira     150000   \n",
       "\n",
       "      FuelType Brand NotRepaired  \n",
       "73776   petrol  opel         yes  "
      ]
     },
     "metadata": {},
     "output_type": "display_data"
    },
    {
     "data": {
      "text/plain": [
       "(354365, 10)"
      ]
     },
     "metadata": {},
     "output_type": "display_data"
    }
   ],
   "source": [
    "display(df.sample(), df.shape)"
   ]
  },
  {
   "cell_type": "markdown",
   "id": "89debbbc",
   "metadata": {},
   "source": [
    "**- filling in the missing values**"
   ]
  },
  {
   "cell_type": "code",
   "execution_count": 12,
   "id": "e64046fe",
   "metadata": {},
   "outputs": [
    {
     "data": {
      "text/html": [
       "<style type=\"text/css\">\n",
       "</style>\n",
       "<table id=\"T_48fd0_\">\n",
       "  <thead>\n",
       "    <tr>\n",
       "      <th class=\"blank level0\" >&nbsp;</th>\n",
       "      <th class=\"col_heading level0 col0\" >sum</th>\n",
       "      <th class=\"col_heading level0 col1\" >mean</th>\n",
       "    </tr>\n",
       "  </thead>\n",
       "  <tbody>\n",
       "    <tr>\n",
       "      <th id=\"T_48fd0_level0_row0\" class=\"row_heading level0 row0\" >NotRepaired</th>\n",
       "      <td id=\"T_48fd0_row0_col0\" class=\"data row0 col0\" >71154.000000</td>\n",
       "      <td id=\"T_48fd0_row0_col1\" class=\"data row0 col1\" >20.08%</td>\n",
       "    </tr>\n",
       "    <tr>\n",
       "      <th id=\"T_48fd0_level0_row1\" class=\"row_heading level0 row1\" >VehicleType</th>\n",
       "      <td id=\"T_48fd0_row1_col0\" class=\"data row1 col0\" >37490.000000</td>\n",
       "      <td id=\"T_48fd0_row1_col1\" class=\"data row1 col1\" >10.58%</td>\n",
       "    </tr>\n",
       "    <tr>\n",
       "      <th id=\"T_48fd0_level0_row2\" class=\"row_heading level0 row2\" >FuelType</th>\n",
       "      <td id=\"T_48fd0_row2_col0\" class=\"data row2 col0\" >32895.000000</td>\n",
       "      <td id=\"T_48fd0_row2_col1\" class=\"data row2 col1\" >9.28%</td>\n",
       "    </tr>\n",
       "    <tr>\n",
       "      <th id=\"T_48fd0_level0_row3\" class=\"row_heading level0 row3\" >Gearbox</th>\n",
       "      <td id=\"T_48fd0_row3_col0\" class=\"data row3 col0\" >19833.000000</td>\n",
       "      <td id=\"T_48fd0_row3_col1\" class=\"data row3 col1\" >5.60%</td>\n",
       "    </tr>\n",
       "    <tr>\n",
       "      <th id=\"T_48fd0_level0_row4\" class=\"row_heading level0 row4\" >Model</th>\n",
       "      <td id=\"T_48fd0_row4_col0\" class=\"data row4 col0\" >19705.000000</td>\n",
       "      <td id=\"T_48fd0_row4_col1\" class=\"data row4 col1\" >5.56%</td>\n",
       "    </tr>\n",
       "  </tbody>\n",
       "</table>\n"
      ],
      "text/plain": [
       "<pandas.io.formats.style.Styler at 0x1e91d6900d0>"
      ]
     },
     "execution_count": 12,
     "metadata": {},
     "output_type": "execute_result"
    }
   ],
   "source": [
    "# overview of columns with missing values\n",
    "\n",
    "df.isna().agg(['sum','mean']).T.sort_values('mean', ascending=False).head(5).style.format({'mean':'{:.2%}'})"
   ]
  },
  {
   "cell_type": "markdown",
   "id": "514e7a75",
   "metadata": {},
   "source": [
    "We will fill in the missing values in the `Model` column with the most frequent value in terms of car make and year of registration of the car. Then will fill in the missing values in the column `VehicleType` with the highest-frequency value in terms of the car make and model of the car. Also, fill in the missing values in the column `FuelType` with the highest frequency value by vehicle make and model."
   ]
  },
  {
   "cell_type": "code",
   "execution_count": 13,
   "id": "5a245287",
   "metadata": {},
   "outputs": [],
   "source": [
    "def fillna_with_mode(column, column1, column2):\n",
    "    '''\n",
    "    The function takes the names of three columns as arguments:\n",
    "    1st column in which we fill in the missing values\n",
    "    2nd and 3rd columns for dataset grouping, on the basis of which we define a mode and fill in\n",
    "    the missing values with it (if the mode is not a NaN, otherwise fill in the 'Empty' placeholder)\n",
    "    '''\n",
    "    \n",
    "    df[column] = df.groupby([column1, column2])[column]\\\n",
    "    .transform(lambda x: x.fillna((x.mode()[0] if not x.mode().empty else \"Empty\")))"
   ]
  },
  {
   "cell_type": "code",
   "execution_count": 14,
   "id": "4842f742",
   "metadata": {},
   "outputs": [],
   "source": [
    "fillna_with_mode('Model','Brand','RegistrationYear')\n",
    "fillna_with_mode('VehicleType','Brand','Model')\n",
    "fillna_with_mode('FuelType','Brand','Model')"
   ]
  },
  {
   "cell_type": "code",
   "execution_count": 15,
   "id": "33544fe2",
   "metadata": {},
   "outputs": [],
   "source": [
    "# repalcing placeholder 'Empty' with NaN\n",
    "\n",
    "df = df.replace('Empty', np.nan)"
   ]
  },
  {
   "cell_type": "code",
   "execution_count": 16,
   "id": "55633fa5",
   "metadata": {},
   "outputs": [
    {
     "data": {
      "text/html": [
       "<style type=\"text/css\">\n",
       "</style>\n",
       "<table id=\"T_5389a_\">\n",
       "  <thead>\n",
       "    <tr>\n",
       "      <th class=\"blank level0\" >&nbsp;</th>\n",
       "      <th class=\"col_heading level0 col0\" >sum</th>\n",
       "      <th class=\"col_heading level0 col1\" >mean</th>\n",
       "    </tr>\n",
       "  </thead>\n",
       "  <tbody>\n",
       "    <tr>\n",
       "      <th id=\"T_5389a_level0_row0\" class=\"row_heading level0 row0\" >NotRepaired</th>\n",
       "      <td id=\"T_5389a_row0_col0\" class=\"data row0 col0\" >71154.000000</td>\n",
       "      <td id=\"T_5389a_row0_col1\" class=\"data row0 col1\" >20.08%</td>\n",
       "    </tr>\n",
       "    <tr>\n",
       "      <th id=\"T_5389a_level0_row1\" class=\"row_heading level0 row1\" >Gearbox</th>\n",
       "      <td id=\"T_5389a_row1_col0\" class=\"data row1 col0\" >19833.000000</td>\n",
       "      <td id=\"T_5389a_row1_col1\" class=\"data row1 col1\" >5.60%</td>\n",
       "    </tr>\n",
       "    <tr>\n",
       "      <th id=\"T_5389a_level0_row2\" class=\"row_heading level0 row2\" >Model</th>\n",
       "      <td id=\"T_5389a_row2_col0\" class=\"data row2 col0\" >3442.000000</td>\n",
       "      <td id=\"T_5389a_row2_col1\" class=\"data row2 col1\" >0.97%</td>\n",
       "    </tr>\n",
       "    <tr>\n",
       "      <th id=\"T_5389a_level0_row3\" class=\"row_heading level0 row3\" >VehicleType</th>\n",
       "      <td id=\"T_5389a_row3_col0\" class=\"data row3 col0\" >25.000000</td>\n",
       "      <td id=\"T_5389a_row3_col1\" class=\"data row3 col1\" >0.01%</td>\n",
       "    </tr>\n",
       "    <tr>\n",
       "      <th id=\"T_5389a_level0_row4\" class=\"row_heading level0 row4\" >FuelType</th>\n",
       "      <td id=\"T_5389a_row4_col0\" class=\"data row4 col0\" >14.000000</td>\n",
       "      <td id=\"T_5389a_row4_col1\" class=\"data row4 col1\" >0.00%</td>\n",
       "    </tr>\n",
       "  </tbody>\n",
       "</table>\n"
      ],
      "text/plain": [
       "<pandas.io.formats.style.Styler at 0x1e924ea6940>"
      ]
     },
     "execution_count": 16,
     "metadata": {},
     "output_type": "execute_result"
    }
   ],
   "source": [
    "df.isna().agg(['sum','mean']).T.sort_values('mean', ascending=False).head(5).style.format({'mean':'{:.2%}'})"
   ]
  },
  {
   "cell_type": "markdown",
   "id": "69b7adcc",
   "metadata": {},
   "source": [
    "In a similar way, it does not seem fair to fill in the missing data in the `Gearbox` column, since for the same brand, make and year of registration of the car, the manufacturer may fit both manual and automatic transmissions. The missing values in the `NotRepaired` column also cannot be plausibly filled in based on the available data. Their presence may indicate both that the seller is reluctant to disclose the fact of repair, and that the missing data may indicate the opposite situation - the seller ignores this field, as his car has not been repaired and thus considers this attribute irrelevant for his situation.\n",
    "\n",
    "For all the remaining missing values, given that they cannot be filled in in the fairest way possible, let's fill them in with the placeholder `'unknown'`."
   ]
  },
  {
   "cell_type": "code",
   "execution_count": 17,
   "id": "2dd12b08",
   "metadata": {},
   "outputs": [],
   "source": [
    "df = df.fillna('unknown')"
   ]
  },
  {
   "cell_type": "code",
   "execution_count": 18,
   "id": "953734e9",
   "metadata": {},
   "outputs": [
    {
     "data": {
      "text/plain": [
       "Price               0\n",
       "VehicleType         0\n",
       "RegistrationYear    0\n",
       "Gearbox             0\n",
       "Power               0\n",
       "Model               0\n",
       "Kilometer           0\n",
       "FuelType            0\n",
       "Brand               0\n",
       "NotRepaired         0\n",
       "dtype: int64"
      ]
     },
     "execution_count": 18,
     "metadata": {},
     "output_type": "execute_result"
    }
   ],
   "source": [
    "df.isna().sum()"
   ]
  },
  {
   "cell_type": "code",
   "execution_count": 19,
   "id": "bce75630",
   "metadata": {},
   "outputs": [
    {
     "name": "stdout",
     "output_type": "stream",
     "text": [
      "<class 'pandas.core.frame.DataFrame'>\n",
      "Int64Index: 354365 entries, 0 to 354368\n",
      "Data columns (total 10 columns):\n",
      " #   Column            Non-Null Count   Dtype \n",
      "---  ------            --------------   ----- \n",
      " 0   Price             354365 non-null  int64 \n",
      " 1   VehicleType       354365 non-null  object\n",
      " 2   RegistrationYear  354365 non-null  int64 \n",
      " 3   Gearbox           354365 non-null  object\n",
      " 4   Power             354365 non-null  int64 \n",
      " 5   Model             354365 non-null  object\n",
      " 6   Kilometer         354365 non-null  int64 \n",
      " 7   FuelType          354365 non-null  object\n",
      " 8   Brand             354365 non-null  object\n",
      " 9   NotRepaired       354365 non-null  object\n",
      "dtypes: int64(4), object(6)\n",
      "memory usage: 29.7+ MB\n"
     ]
    }
   ],
   "source": [
    "df.info()"
   ]
  },
  {
   "cell_type": "markdown",
   "id": "bccad4f1",
   "metadata": {},
   "source": [
    "**- changing data type for categorical features**"
   ]
  },
  {
   "cell_type": "markdown",
   "id": "cba0e8d6",
   "metadata": {},
   "source": [
    "Since we will be training the model with LightGBM in the course of the project, it has an internal mechanism for processing categorical features, as does Catboost. To work it out, it is enough to change the data type of columns with categorical variables to the corresponding data type - `'category'`. \n",
    "\n",
    "In our dataset, the columns with data type `'object'` are categorical data. However, in the course of our study, we determined that the `Kilometer` column with mileage (which has only 13 unique values), should also be attributed to categorical data. The `PostalCode' column is also logically more categorical than numerical."
   ]
  },
  {
   "cell_type": "code",
   "execution_count": 20,
   "id": "83c85bc8",
   "metadata": {},
   "outputs": [],
   "source": [
    "categorical = df.select_dtypes(include='object').columns"
   ]
  },
  {
   "cell_type": "code",
   "execution_count": 21,
   "id": "92f6802e",
   "metadata": {},
   "outputs": [],
   "source": [
    "df[categorical] = df[categorical].astype('category')\n",
    "df['Kilometer'] = df['Kilometer'].astype('category')"
   ]
  },
  {
   "cell_type": "code",
   "execution_count": 22,
   "id": "d9a1d900",
   "metadata": {},
   "outputs": [
    {
     "name": "stdout",
     "output_type": "stream",
     "text": [
      "<class 'pandas.core.frame.DataFrame'>\n",
      "Int64Index: 354365 entries, 0 to 354368\n",
      "Data columns (total 10 columns):\n",
      " #   Column            Non-Null Count   Dtype   \n",
      "---  ------            --------------   -----   \n",
      " 0   Price             354365 non-null  int64   \n",
      " 1   VehicleType       354365 non-null  category\n",
      " 2   RegistrationYear  354365 non-null  int64   \n",
      " 3   Gearbox           354365 non-null  category\n",
      " 4   Power             354365 non-null  int64   \n",
      " 5   Model             354365 non-null  category\n",
      " 6   Kilometer         354365 non-null  category\n",
      " 7   FuelType          354365 non-null  category\n",
      " 8   Brand             354365 non-null  category\n",
      " 9   NotRepaired       354365 non-null  category\n",
      "dtypes: category(7), int64(3)\n",
      "memory usage: 13.5 MB\n"
     ]
    }
   ],
   "source": [
    "df.info()"
   ]
  },
  {
   "cell_type": "markdown",
   "id": "72ca1bf7",
   "metadata": {},
   "source": [
    "***Note***: Noting that converting the data type to categorical significantly reduced the memory consumption from 29.7 MB to 13.5 MB. "
   ]
  },
  {
   "cell_type": "markdown",
   "id": "920e0a45",
   "metadata": {},
   "source": [
    "**Analysing columns with anomalous values**"
   ]
  },
  {
   "cell_type": "markdown",
   "id": "9f78ffbb",
   "metadata": {},
   "source": [
    "**- Column `Price `**"
   ]
  },
  {
   "cell_type": "code",
   "execution_count": 23,
   "id": "d7906b8c",
   "metadata": {},
   "outputs": [
    {
     "data": {
      "image/png": "[encoded data removed]",
      "text/plain": [
       "<Figure size 432x288 with 1 Axes>"
      ]
     },
     "metadata": {
      "needs_background": "light"
     },
     "output_type": "display_data"
    }
   ],
   "source": [
    "sns.histplot(df['Price']);"
   ]
  },
  {
   "cell_type": "code",
   "execution_count": 24,
   "id": "77b96a73",
   "metadata": {},
   "outputs": [
    {
     "data": {
      "image/png": "[encoded data removed]",
      "text/plain": [
       "<Figure size 432x288 with 1 Axes>"
      ]
     },
     "metadata": {
      "needs_background": "light"
     },
     "output_type": "display_data"
    }
   ],
   "source": [
    "sns.boxplot(df['Price']);"
   ]
  },
  {
   "cell_type": "markdown",
   "id": "d48e4c32",
   "metadata": {},
   "source": [
    "The distribution in the histogram is strongly skewed to the right, with a strong tail. In addition, a clear peak at zero is evident. The boxplot shows the presence of a large number of values outside the right whisker limit. It is difficult to call them anomalies, however, since the maximum value =20000, which fits the logic of the data. The left whisker is zero. It is likely that customers did not specify a value for the car. In order to build the model, price values below 100 euros will be excluded."
   ]
  },
  {
   "cell_type": "markdown",
   "id": "fab4ef56",
   "metadata": {},
   "source": [
    "**- Column `Power`**"
   ]
  },
  {
   "cell_type": "code",
   "execution_count": 25,
   "id": "365c156b",
   "metadata": {},
   "outputs": [
    {
     "data": {
      "image/png": "[encoded data removed]",
      "text/plain": [
       "<Figure size 432x288 with 1 Axes>"
      ]
     },
     "metadata": {
      "needs_background": "light"
     },
     "output_type": "display_data"
    }
   ],
   "source": [
    "sns.distplot(df['Power']);"
   ]
  },
  {
   "cell_type": "code",
   "execution_count": 26,
   "id": "f58eb8ff",
   "metadata": {},
   "outputs": [
    {
     "data": {
      "image/png": "[encoded data removed]",
      "text/plain": [
       "<Figure size 432x288 with 1 Axes>"
      ]
     },
     "metadata": {
      "needs_background": "light"
     },
     "output_type": "display_data"
    }
   ],
   "source": [
    "sns.boxplot(df['Power'])\n",
    "plt.xlim(0, 1000);"
   ]
  },
  {
   "cell_type": "markdown",
   "id": "85d02ae5",
   "metadata": {},
   "source": [
    "The distribution in the histogram is very strongly skewed to the right, with a strong tail. In addition, a clear peak at zero is evident. The boxplot diagram demonstrates the presence of a large number of outliers, which distorts the data very strongly. It should be kept in mind that cars with more than 1,000 hp are very rare and rather belong to the tractor class. It is likely that these values represent an input error. Consequently, unrealistically high values as well as zero values will be processed by changing them to the mean value by the vehicle model."
   ]
  },
  {
   "cell_type": "markdown",
   "id": "e698aa32",
   "metadata": {},
   "source": [
    "**- Column `RegistrationYear`**"
   ]
  },
  {
   "cell_type": "code",
   "execution_count": 27,
   "id": "ab35565d",
   "metadata": {},
   "outputs": [
    {
     "data": {
      "image/png": "[encoded data removed]",
      "text/plain": [
       "<Figure size 432x288 with 1 Axes>"
      ]
     },
     "metadata": {
      "needs_background": "light"
     },
     "output_type": "display_data"
    }
   ],
   "source": [
    "sns.histplot(df['RegistrationYear'])\n",
    "plt.xlim(1900, 2022);"
   ]
  },
  {
   "cell_type": "code",
   "execution_count": 28,
   "id": "d533f766",
   "metadata": {},
   "outputs": [
    {
     "data": {
      "image/png": "[encoded data removed]",
      "text/plain": [
       "<Figure size 432x288 with 1 Axes>"
      ]
     },
     "metadata": {
      "needs_background": "light"
     },
     "output_type": "display_data"
    }
   ],
   "source": [
    "sns.boxplot(df['RegistrationYear'])\n",
    "plt.xlim(1900, 2030);"
   ]
  },
  {
   "cell_type": "code",
   "execution_count": 29,
   "id": "77352f5c",
   "metadata": {},
   "outputs": [
    {
     "data": {
      "text/plain": [
       "count    354365.000000\n",
       "mean       2004.234481\n",
       "std          90.228466\n",
       "min        1000.000000\n",
       "25%        1999.000000\n",
       "50%        2003.000000\n",
       "75%        2008.000000\n",
       "max        9999.000000\n",
       "Name: RegistrationYear, dtype: float64"
      ]
     },
     "execution_count": 29,
     "metadata": {},
     "output_type": "execute_result"
    }
   ],
   "source": [
    "df.RegistrationYear.describe()"
   ]
  },
  {
   "cell_type": "markdown",
   "id": "d06039d3",
   "metadata": {},
   "source": [
    "The data is skewed to the left. Lots of odd anomalous values outside the boxplot whiskers, with a year of registration in the future or in the distant past (minimum value is 1000, maximum is 9999). \n",
    "\n",
    "Values earlier than 1930 will be deleted. After 1930 it can be assumed that these are retro cars. Therefore, we will keep this data.\n",
    "\n",
    "The dataset contains cars with a year of registration from the future. The upper range of outliers by Car Registration Year will be the year of the dataset upload. Earlier in the project, we defined the year of data upload as 2016. Consequently, values with the Year of Registration later than 2016 will be excluded from the dataset."
   ]
  },
  {
   "cell_type": "markdown",
   "id": "662207e9",
   "metadata": {},
   "source": [
    "**Handling the anomalous values**"
   ]
  },
  {
   "cell_type": "markdown",
   "id": "90988499",
   "metadata": {},
   "source": [
    "Will exclude observations with a price below EUR 100 from the dataset, which is 3.76% of the total dataset."
   ]
  },
  {
   "cell_type": "code",
   "execution_count": 30,
   "id": "012c1f90",
   "metadata": {},
   "outputs": [
    {
     "data": {
      "text/plain": [
       "0.03757143058710651"
      ]
     },
     "execution_count": 30,
     "metadata": {},
     "output_type": "execute_result"
    }
   ],
   "source": [
    "len(df.query('Price < 100'))/len(df)"
   ]
  },
  {
   "cell_type": "code",
   "execution_count": 31,
   "id": "096fbee6",
   "metadata": {},
   "outputs": [],
   "source": [
    "df = df.query('Price > 100')"
   ]
  },
  {
   "cell_type": "markdown",
   "id": "a062a4f6",
   "metadata": {},
   "source": [
    "Will check the number of entries with zero and unrealistic power values."
   ]
  },
  {
   "cell_type": "code",
   "execution_count": 32,
   "id": "66ce9944",
   "metadata": {},
   "outputs": [
    {
     "data": {
      "text/plain": [
       "34933"
      ]
     },
     "execution_count": 32,
     "metadata": {},
     "output_type": "execute_result"
    }
   ],
   "source": [
    "len(df.query('Power == 0 or Power > 1000'))"
   ]
  },
  {
   "cell_type": "markdown",
   "id": "e3e32740",
   "metadata": {},
   "source": [
    "Will handle zero values and power values greater than 1,000 hp by replacing them with the mean value by car model:"
   ]
  },
  {
   "cell_type": "code",
   "execution_count": 33,
   "id": "021bd53c",
   "metadata": {
    "scrolled": true
   },
   "outputs": [],
   "source": [
    "df.loc[df['Power'] == 0, 'Power'] = df.groupby('Model')['Power'].transform(np.mean)\n",
    "df.loc[df['Power'] > 1000, 'Power'] = df.groupby('Model')['Power'].transform(np.mean)"
   ]
  },
  {
   "cell_type": "markdown",
   "id": "35170b75",
   "metadata": {},
   "source": [
    "Will process the strange values of the Year of Registration of the car. Checking the number of entries with registration year earlier than 1930 and later than 2016 and excluding them from the dataset."
   ]
  },
  {
   "cell_type": "code",
   "execution_count": 34,
   "id": "0b18883e",
   "metadata": {},
   "outputs": [
    {
     "data": {
      "text/plain": [
       "13759"
      ]
     },
     "execution_count": 34,
     "metadata": {},
     "output_type": "execute_result"
    }
   ],
   "source": [
    "len(df.query('RegistrationYear < 1930 or RegistrationYear > 2016'))"
   ]
  },
  {
   "cell_type": "code",
   "execution_count": 35,
   "id": "dce63467",
   "metadata": {},
   "outputs": [],
   "source": [
    "df = df.query('1930 < RegistrationYear < 2017')"
   ]
  },
  {
   "cell_type": "code",
   "execution_count": 36,
   "id": "be052593",
   "metadata": {},
   "outputs": [
    {
     "name": "stdout",
     "output_type": "stream",
     "text": [
      "<class 'pandas.core.frame.DataFrame'>\n",
      "Int64Index: 326259 entries, 0 to 354368\n",
      "Data columns (total 10 columns):\n",
      " #   Column            Non-Null Count   Dtype   \n",
      "---  ------            --------------   -----   \n",
      " 0   Price             326259 non-null  int64   \n",
      " 1   VehicleType       326259 non-null  category\n",
      " 2   RegistrationYear  326259 non-null  int64   \n",
      " 3   Gearbox           326259 non-null  category\n",
      " 4   Power             326259 non-null  float64 \n",
      " 5   Model             326259 non-null  category\n",
      " 6   Kilometer         326259 non-null  category\n",
      " 7   FuelType          326259 non-null  category\n",
      " 8   Brand             326259 non-null  category\n",
      " 9   NotRepaired       326259 non-null  category\n",
      "dtypes: category(7), float64(1), int64(2)\n",
      "memory usage: 12.5 MB\n"
     ]
    }
   ],
   "source": [
    "df.info()"
   ]
  },
  {
   "cell_type": "code",
   "execution_count": 37,
   "id": "94350866",
   "metadata": {},
   "outputs": [],
   "source": [
    "df.Power = df.Power.astype('int64')"
   ]
  },
  {
   "cell_type": "markdown",
   "id": "ac9a795b",
   "metadata": {},
   "source": [
    "**Conclusion:**.\n",
    "\n",
    "1. Numerous missing data have been detected in the original dataset:\n",
    "\n",
    "    - `NotRepaired` - 71154 (20.08%)\n",
    "    - `VehicleType` - 37490 (10.58%)\n",
    "    - `FuelType` - 32895 (9.28%)\n",
    "    - `Gearbox` - 19833 (5.60%)\n",
    "    - `Model` - 19705 (5.56%)\n",
    "\n",
    "\n",
    "2. Strange and anomalous values were detected:\n",
    "\n",
    "    - `Price`: zero values are present. This is probably not an anomaly but a reluctance on the part of the client to indicate a price\n",
    "    - `Registration year`: minimum value is 1000 and maximum value is 9999\n",
    "    - `Power`: minimum value - 0, maximum value - 20 000\n",
    "    - `Kilometreag`': the values are distributed discretely, more than 50 per cent of the entries have a value of 150,000 km. This column is probably categorical rather than numerical\n",
    "    - `Month of registration`: minimum value is 0\n",
    "    - `No. of photos`: only zero values are present.\n",
    "\n",
    "\n",
    "3. Columns `DateCrawled`, `DateCreated`, `NumberOfPictures`, `LastSeen`, `RegistrationMonth`, `PostalCode` are deleted as these features are uninformative.\n",
    "\n",
    "\n",
    "4. Filled in the missing values:\n",
    "\n",
    "- The missing values in the `Model` column have been filled in with the highest frequency value in terms of car make and year of registration of the car. \n",
    "- The missing values in the `VehicleType` and `FuelType` columns were filled in with the highest-frequency value in terms of car make and car model. \n",
    "- The remaining missing values, given that they cannot be filled most reasonably, were filled with the placeholder `'unknown'`.\n",
    "\n",
    "\n",
    "5. After filling in the missing values, strange values (zeros, outliers and unrealistic observations) in the `Price` and `RegistrationYear` columns were discarded.\n",
    "\n",
    "\n",
    "6. Unrealistic values in the `Power` column have been replaced by model mean values.\n"
   ]
  },
  {
   "cell_type": "markdown",
   "id": "34dea7cc",
   "metadata": {},
   "source": [
    "## Models training"
   ]
  },
  {
   "cell_type": "markdown",
   "id": "c7237bac",
   "metadata": {},
   "source": [
    "**- LightGBM Regressor**"
   ]
  },
  {
   "cell_type": "markdown",
   "id": "a245502c",
   "metadata": {},
   "source": [
    "We split the sample into training and test samples at a ratio of 3:1, define the target and non-target features, and define a list with categorical features"
   ]
  },
  {
   "cell_type": "code",
   "execution_count": 38,
   "id": "7cc29a9a",
   "metadata": {},
   "outputs": [],
   "source": [
    "# defining features and target feature \n",
    "\n",
    "X = df.drop(['Price'], axis=1)\n",
    "y = df['Price']\n",
    "\n",
    "# splitting dataset into train and test subsets at a proportion 3:1\n",
    "\n",
    "X_train, X_test, y_train, y_test = train_test_split(X, y, test_size=0.25, random_state=12345)"
   ]
  },
  {
   "cell_type": "code",
   "execution_count": 39,
   "id": "14bdcc50",
   "metadata": {},
   "outputs": [],
   "source": [
    "# defining the list of categoric features\n",
    "\n",
    "categorical_features = ['VehicleType', 'Gearbox', 'Model', 'Kilometer', 'FuelType', 'Brand', 'NotRepaired']"
   ]
  },
  {
   "cell_type": "code",
   "execution_count": 40,
   "id": "ca0c8e20",
   "metadata": {},
   "outputs": [],
   "source": [
    "# initializing the model\n",
    "\n",
    "lg = lgb.LGBMRegressor(random_state=12345)"
   ]
  },
  {
   "cell_type": "markdown",
   "id": "1a0b7f1a",
   "metadata": {},
   "source": [
    "**Selecting optimal parameters using GridSearchCV**"
   ]
  },
  {
   "cell_type": "code",
   "execution_count": 41,
   "id": "8bd05c11",
   "metadata": {},
   "outputs": [
    {
     "name": "stdout",
     "output_type": "stream",
     "text": [
      "Fitting 3 folds for each of 12 candidates, totalling 36 fits\n"
     ]
    }
   ],
   "source": [
    "lg_param = {'num_leaves' : [200, 300], \n",
    "            'n_estimators' : [100, 150], \n",
    "            'learning_rate' : [0.01, 0.05, 0.1]}\n",
    "\n",
    "lg_grid = GridSearchCV(estimator=lg,\n",
    "                       param_grid=lg_param,\n",
    "                       scoring='neg_mean_squared_error', cv=3,\n",
    "                       verbose=10, n_jobs=-1)\n",
    "\n",
    "lg_grid.fit(X_train, y_train, categorical_feature=categorical_features)\n",
    "\n",
    "best_estimator_lg = lg_grid.best_estimator_"
   ]
  },
  {
   "cell_type": "code",
   "execution_count": 42,
   "id": "fcc441fe",
   "metadata": {},
   "outputs": [
    {
     "data": {
      "text/html": [
       "<style>#sk-container-id-1 {color: black;background-color: white;}#sk-container-id-1 pre{padding: 0;}#sk-container-id-1 div.sk-toggleable {background-color: white;}#sk-container-id-1 label.sk-toggleable__label {cursor: pointer;display: block;width: 100%;margin-bottom: 0;padding: 0.3em;box-sizing: border-box;text-align: center;}#sk-container-id-1 label.sk-toggleable__label-arrow:before {content: \"▸\";float: left;margin-right: 0.25em;color: #696969;}#sk-container-id-1 label.sk-toggleable__label-arrow:hover:before {color: black;}#sk-container-id-1 div.sk-estimator:hover label.sk-toggleable__label-arrow:before {color: black;}#sk-container-id-1 div.sk-toggleable__content {max-height: 0;max-width: 0;overflow: hidden;text-align: left;background-color: #f0f8ff;}#sk-container-id-1 div.sk-toggleable__content pre {margin: 0.2em;color: black;border-radius: 0.25em;background-color: #f0f8ff;}#sk-container-id-1 input.sk-toggleable__control:checked~div.sk-toggleable__content {max-height: 200px;max-width: 100%;overflow: auto;}#sk-container-id-1 input.sk-toggleable__control:checked~label.sk-toggleable__label-arrow:before {content: \"▾\";}#sk-container-id-1 div.sk-estimator input.sk-toggleable__control:checked~label.sk-toggleable__label {background-color: #d4ebff;}#sk-container-id-1 div.sk-label input.sk-toggleable__control:checked~label.sk-toggleable__label {background-color: #d4ebff;}#sk-container-id-1 input.sk-hidden--visually {border: 0;clip: rect(1px 1px 1px 1px);clip: rect(1px, 1px, 1px, 1px);height: 1px;margin: -1px;overflow: hidden;padding: 0;position: absolute;width: 1px;}#sk-container-id-1 div.sk-estimator {font-family: monospace;background-color: #f0f8ff;border: 1px dotted black;border-radius: 0.25em;box-sizing: border-box;margin-bottom: 0.5em;}#sk-container-id-1 div.sk-estimator:hover {background-color: #d4ebff;}#sk-container-id-1 div.sk-parallel-item::after {content: \"\";width: 100%;border-bottom: 1px solid gray;flex-grow: 1;}#sk-container-id-1 div.sk-label:hover label.sk-toggleable__label {background-color: #d4ebff;}#sk-container-id-1 div.sk-serial::before {content: \"\";position: absolute;border-left: 1px solid gray;box-sizing: border-box;top: 0;bottom: 0;left: 50%;z-index: 0;}#sk-container-id-1 div.sk-serial {display: flex;flex-direction: column;align-items: center;background-color: white;padding-right: 0.2em;padding-left: 0.2em;position: relative;}#sk-container-id-1 div.sk-item {position: relative;z-index: 1;}#sk-container-id-1 div.sk-parallel {display: flex;align-items: stretch;justify-content: center;background-color: white;position: relative;}#sk-container-id-1 div.sk-item::before, #sk-container-id-1 div.sk-parallel-item::before {content: \"\";position: absolute;border-left: 1px solid gray;box-sizing: border-box;top: 0;bottom: 0;left: 50%;z-index: -1;}#sk-container-id-1 div.sk-parallel-item {display: flex;flex-direction: column;z-index: 1;position: relative;background-color: white;}#sk-container-id-1 div.sk-parallel-item:first-child::after {align-self: flex-end;width: 50%;}#sk-container-id-1 div.sk-parallel-item:last-child::after {align-self: flex-start;width: 50%;}#sk-container-id-1 div.sk-parallel-item:only-child::after {width: 0;}#sk-container-id-1 div.sk-dashed-wrapped {border: 1px dashed gray;margin: 0 0.4em 0.5em 0.4em;box-sizing: border-box;padding-bottom: 0.4em;background-color: white;}#sk-container-id-1 div.sk-label label {font-family: monospace;font-weight: bold;display: inline-block;line-height: 1.2em;}#sk-container-id-1 div.sk-label-container {text-align: center;}#sk-container-id-1 div.sk-container {/* jupyter's `normalize.less` sets `[hidden] { display: none; }` but bootstrap.min.css set `[hidden] { display: none !important; }` so we also need the `!important` here to be able to override the default hidden behavior on the sphinx rendered scikit-learn.org. See: https://github.com/scikit-learn/scikit-learn/issues/21755 */display: inline-block !important;position: relative;}#sk-container-id-1 div.sk-text-repr-fallback {display: none;}</style><div id=\"sk-container-id-1\" class=\"sk-top-container\"><div class=\"sk-text-repr-fallback\"><pre>LGBMRegressor(n_estimators=150, num_leaves=300, random_state=12345)</pre><b>In a Jupyter environment, please rerun this cell to show the HTML representation or trust the notebook. <br />On GitHub, the HTML representation is unable to render, please try loading this page with nbviewer.org.</b></div><div class=\"sk-container\" hidden><div class=\"sk-item\"><div class=\"sk-estimator sk-toggleable\"><input class=\"sk-toggleable__control sk-hidden--visually\" id=\"sk-estimator-id-1\" type=\"checkbox\" checked><label for=\"sk-estimator-id-1\" class=\"sk-toggleable__label sk-toggleable__label-arrow\">LGBMRegressor</label><div class=\"sk-toggleable__content\"><pre>LGBMRegressor(n_estimators=150, num_leaves=300, random_state=12345)</pre></div></div></div></div></div>"
      ],
      "text/plain": [
       "LGBMRegressor(n_estimators=150, num_leaves=300, random_state=12345)"
      ]
     },
     "execution_count": 42,
     "metadata": {},
     "output_type": "execute_result"
    }
   ],
   "source": [
    "best_estimator_lg"
   ]
  },
  {
   "cell_type": "markdown",
   "id": "0dfa8e10",
   "metadata": {},
   "source": [
    "**Training the model, getting predictions, calculating RMSE, training & prediction time**"
   ]
  },
  {
   "cell_type": "code",
   "execution_count": 43,
   "id": "ef1332da",
   "metadata": {},
   "outputs": [
    {
     "name": "stdout",
     "output_type": "stream",
     "text": [
      "Время обучения_LightGBM, сек. = 6.518653392791748\n",
      "Wall time: 6.52 s\n"
     ]
    }
   ],
   "source": [
    "%%time\n",
    "\n",
    "# training model\n",
    "\n",
    "start = time.time()\n",
    "best_estimator_lg.fit(X_train, y_train, categorical_feature=categorical_features, verbose=1)\n",
    "end = time.time()\n",
    "lg_fit_time = end - start\n",
    "\n",
    "print('Время обучения_LightGBM, сек. =', lg_fit_time)"
   ]
  },
  {
   "cell_type": "code",
   "execution_count": 44,
   "id": "a40b1270",
   "metadata": {},
   "outputs": [
    {
     "name": "stdout",
     "output_type": "stream",
     "text": [
      "RMSE_LightGBM = 1523.893948083748\n",
      "Время предсказания_LightGBM, сек. = 0.9864909648895264\n",
      "Wall time: 991 ms\n"
     ]
    }
   ],
   "source": [
    "%%time\n",
    "\n",
    "# getting model predictions\n",
    "\n",
    "start = time.time()\n",
    "predictions_lg = best_estimator_lg.predict(X_test)\n",
    "end = time.time()\n",
    "lg_predict_time = end - start\n",
    "\n",
    "print('RMSE_LightGBM =', mean_squared_error(y_test, predictions_lg)**0.5)\n",
    "print('Время предсказания_LightGBM, сек. =', lg_predict_time)"
   ]
  },
  {
   "cell_type": "markdown",
   "id": "7b764345",
   "metadata": {},
   "source": [
    "We got a rather good result for the quality of the model.\n",
    "\n",
    "However, to strengthen the study, we will not limit ourselves to just gradient boosting. Let's try simpler models - sometimes they work better. These are rare cases that are easy to miss if we always apply just the boosting."
   ]
  },
  {
   "cell_type": "code",
   "execution_count": 45,
   "id": "55c99561",
   "metadata": {},
   "outputs": [],
   "source": [
    "# creating the list to consolidate RMSE, training and prediction time\n",
    "\n",
    "results = []\n",
    "\n",
    "# supplementing the list with the results of LightGBM Regressor\n",
    "\n",
    "results.append(('LightGBM', lg_fit_time, mean_squared_error(y_test, predictions_lg)**0.5, lg_predict_time))"
   ]
  },
  {
   "cell_type": "code",
   "execution_count": 46,
   "id": "abf2b4b9",
   "metadata": {},
   "outputs": [
    {
     "data": {
      "text/plain": [
       "[('LightGBM', 6.518653392791748, 1523.893948083748, 0.9864909648895264)]"
      ]
     },
     "execution_count": 46,
     "metadata": {},
     "output_type": "execute_result"
    }
   ],
   "source": [
    "results"
   ]
  },
  {
   "cell_type": "markdown",
   "id": "f4ca254b",
   "metadata": {},
   "source": [
    "Let us investigate the models Linear Regression and Random Forest."
   ]
  },
  {
   "cell_type": "markdown",
   "id": "b38142f6",
   "metadata": {},
   "source": [
    "**- Linear Regression**"
   ]
  },
  {
   "cell_type": "markdown",
   "id": "e85b42a5",
   "metadata": {},
   "source": [
    "When working with the LightGBM model, which has an internal mechanism for processing categorical features, we did not have to conduct categorical data encoding. However, for Linear Regression and Random Forest, we need to conduct preliminary transformations of the data, namely categorical features encoding and numerical features scaling.\n",
    "\n",
    "We will perform categorical features encoding using the One Hot Encoding method."
   ]
  },
  {
   "cell_type": "code",
   "execution_count": 47,
   "id": "f26ee107",
   "metadata": {},
   "outputs": [],
   "source": [
    "X = pd.get_dummies(data = X, columns = categorical_features, drop_first=True)"
   ]
  },
  {
   "cell_type": "code",
   "execution_count": 48,
   "id": "c0caed11",
   "metadata": {},
   "outputs": [
    {
     "data": {
      "text/html": [
       "<div>\n",
       "<style scoped>\n",
       "    .dataframe tbody tr th:only-of-type {\n",
       "        vertical-align: middle;\n",
       "    }\n",
       "\n",
       "    .dataframe tbody tr th {\n",
       "        vertical-align: top;\n",
       "    }\n",
       "\n",
       "    .dataframe thead th {\n",
       "        text-align: right;\n",
       "    }\n",
       "</style>\n",
       "<table border=\"1\" class=\"dataframe\">\n",
       "  <thead>\n",
       "    <tr style=\"text-align: right;\">\n",
       "      <th></th>\n",
       "      <th>RegistrationYear</th>\n",
       "      <th>Power</th>\n",
       "      <th>VehicleType_convertible</th>\n",
       "      <th>VehicleType_coupe</th>\n",
       "      <th>VehicleType_other</th>\n",
       "      <th>VehicleType_sedan</th>\n",
       "      <th>VehicleType_small</th>\n",
       "      <th>VehicleType_suv</th>\n",
       "      <th>VehicleType_unknown</th>\n",
       "      <th>VehicleType_wagon</th>\n",
       "      <th>...</th>\n",
       "      <th>Brand_smart</th>\n",
       "      <th>Brand_sonstige_autos</th>\n",
       "      <th>Brand_subaru</th>\n",
       "      <th>Brand_suzuki</th>\n",
       "      <th>Brand_toyota</th>\n",
       "      <th>Brand_trabant</th>\n",
       "      <th>Brand_volkswagen</th>\n",
       "      <th>Brand_volvo</th>\n",
       "      <th>NotRepaired_unknown</th>\n",
       "      <th>NotRepaired_yes</th>\n",
       "    </tr>\n",
       "  </thead>\n",
       "  <tbody>\n",
       "    <tr>\n",
       "      <th>0</th>\n",
       "      <td>1993</td>\n",
       "      <td>96</td>\n",
       "      <td>0</td>\n",
       "      <td>0</td>\n",
       "      <td>0</td>\n",
       "      <td>1</td>\n",
       "      <td>0</td>\n",
       "      <td>0</td>\n",
       "      <td>0</td>\n",
       "      <td>0</td>\n",
       "      <td>...</td>\n",
       "      <td>0</td>\n",
       "      <td>0</td>\n",
       "      <td>0</td>\n",
       "      <td>0</td>\n",
       "      <td>0</td>\n",
       "      <td>0</td>\n",
       "      <td>1</td>\n",
       "      <td>0</td>\n",
       "      <td>1</td>\n",
       "      <td>0</td>\n",
       "    </tr>\n",
       "    <tr>\n",
       "      <th>1</th>\n",
       "      <td>2011</td>\n",
       "      <td>190</td>\n",
       "      <td>0</td>\n",
       "      <td>1</td>\n",
       "      <td>0</td>\n",
       "      <td>0</td>\n",
       "      <td>0</td>\n",
       "      <td>0</td>\n",
       "      <td>0</td>\n",
       "      <td>0</td>\n",
       "      <td>...</td>\n",
       "      <td>0</td>\n",
       "      <td>0</td>\n",
       "      <td>0</td>\n",
       "      <td>0</td>\n",
       "      <td>0</td>\n",
       "      <td>0</td>\n",
       "      <td>0</td>\n",
       "      <td>0</td>\n",
       "      <td>0</td>\n",
       "      <td>1</td>\n",
       "    </tr>\n",
       "    <tr>\n",
       "      <th>2</th>\n",
       "      <td>2004</td>\n",
       "      <td>163</td>\n",
       "      <td>0</td>\n",
       "      <td>0</td>\n",
       "      <td>0</td>\n",
       "      <td>0</td>\n",
       "      <td>0</td>\n",
       "      <td>1</td>\n",
       "      <td>0</td>\n",
       "      <td>0</td>\n",
       "      <td>...</td>\n",
       "      <td>0</td>\n",
       "      <td>0</td>\n",
       "      <td>0</td>\n",
       "      <td>0</td>\n",
       "      <td>0</td>\n",
       "      <td>0</td>\n",
       "      <td>0</td>\n",
       "      <td>0</td>\n",
       "      <td>1</td>\n",
       "      <td>0</td>\n",
       "    </tr>\n",
       "    <tr>\n",
       "      <th>3</th>\n",
       "      <td>2001</td>\n",
       "      <td>75</td>\n",
       "      <td>0</td>\n",
       "      <td>0</td>\n",
       "      <td>0</td>\n",
       "      <td>0</td>\n",
       "      <td>1</td>\n",
       "      <td>0</td>\n",
       "      <td>0</td>\n",
       "      <td>0</td>\n",
       "      <td>...</td>\n",
       "      <td>0</td>\n",
       "      <td>0</td>\n",
       "      <td>0</td>\n",
       "      <td>0</td>\n",
       "      <td>0</td>\n",
       "      <td>0</td>\n",
       "      <td>1</td>\n",
       "      <td>0</td>\n",
       "      <td>0</td>\n",
       "      <td>0</td>\n",
       "    </tr>\n",
       "    <tr>\n",
       "      <th>4</th>\n",
       "      <td>2008</td>\n",
       "      <td>69</td>\n",
       "      <td>0</td>\n",
       "      <td>0</td>\n",
       "      <td>0</td>\n",
       "      <td>0</td>\n",
       "      <td>1</td>\n",
       "      <td>0</td>\n",
       "      <td>0</td>\n",
       "      <td>0</td>\n",
       "      <td>...</td>\n",
       "      <td>0</td>\n",
       "      <td>0</td>\n",
       "      <td>0</td>\n",
       "      <td>0</td>\n",
       "      <td>0</td>\n",
       "      <td>0</td>\n",
       "      <td>0</td>\n",
       "      <td>0</td>\n",
       "      <td>0</td>\n",
       "      <td>0</td>\n",
       "    </tr>\n",
       "  </tbody>\n",
       "</table>\n",
       "<p>5 rows × 322 columns</p>\n",
       "</div>"
      ],
      "text/plain": [
       "   RegistrationYear  Power  VehicleType_convertible  VehicleType_coupe  \\\n",
       "0              1993     96                        0                  0   \n",
       "1              2011    190                        0                  1   \n",
       "2              2004    163                        0                  0   \n",
       "3              2001     75                        0                  0   \n",
       "4              2008     69                        0                  0   \n",
       "\n",
       "   VehicleType_other  VehicleType_sedan  VehicleType_small  VehicleType_suv  \\\n",
       "0                  0                  1                  0                0   \n",
       "1                  0                  0                  0                0   \n",
       "2                  0                  0                  0                1   \n",
       "3                  0                  0                  1                0   \n",
       "4                  0                  0                  1                0   \n",
       "\n",
       "   VehicleType_unknown  VehicleType_wagon  ...  Brand_smart  \\\n",
       "0                    0                  0  ...            0   \n",
       "1                    0                  0  ...            0   \n",
       "2                    0                  0  ...            0   \n",
       "3                    0                  0  ...            0   \n",
       "4                    0                  0  ...            0   \n",
       "\n",
       "   Brand_sonstige_autos  Brand_subaru  Brand_suzuki  Brand_toyota  \\\n",
       "0                     0             0             0             0   \n",
       "1                     0             0             0             0   \n",
       "2                     0             0             0             0   \n",
       "3                     0             0             0             0   \n",
       "4                     0             0             0             0   \n",
       "\n",
       "   Brand_trabant  Brand_volkswagen  Brand_volvo  NotRepaired_unknown  \\\n",
       "0              0                 1            0                    1   \n",
       "1              0                 0            0                    0   \n",
       "2              0                 0            0                    1   \n",
       "3              0                 1            0                    0   \n",
       "4              0                 0            0                    0   \n",
       "\n",
       "   NotRepaired_yes  \n",
       "0                0  \n",
       "1                1  \n",
       "2                0  \n",
       "3                0  \n",
       "4                0  \n",
       "\n",
       "[5 rows x 322 columns]"
      ]
     },
     "execution_count": 48,
     "metadata": {},
     "output_type": "execute_result"
    }
   ],
   "source": [
    "X.head()"
   ]
  },
  {
   "cell_type": "markdown",
   "id": "c0012a1e",
   "metadata": {},
   "source": [
    "The numerical features in the dataset differ in magnitude, units and range. Since the model algorithm may take the differences in values as an element of importance and priority of one feature over another, it is necessary to scale the numerical features.\n",
    "\n",
    "In order to avoid leakage of the target feature into the test sample, we will set up the object `StandardScaler' and will train it on the training sample. Accordingly, we first split our dataset into training and test samples. "
   ]
  },
  {
   "cell_type": "code",
   "execution_count": 49,
   "id": "cf3632b4",
   "metadata": {},
   "outputs": [],
   "source": [
    "# splitting dataset into train and test sets at the ratio 3:1\n",
    "\n",
    "X_train, X_test, y_train, y_test = train_test_split(X, y, test_size=0.25, random_state=12345)"
   ]
  },
  {
   "cell_type": "code",
   "execution_count": 50,
   "id": "3818ec26",
   "metadata": {},
   "outputs": [],
   "source": [
    "# performing scaling of numeric features using StandardScaler\n",
    "\n",
    "scaler = StandardScaler()\n",
    "\n",
    "numeric = ['RegistrationYear','Power']\n",
    "\n",
    "scaler.fit(X_train[numeric])\n",
    "\n",
    "# transforming train and test sets using transform() function\n",
    "\n",
    "X_train[numeric] = scaler.transform(X_train[numeric])\n",
    "X_test[numeric] = scaler.transform(X_test[numeric])"
   ]
  },
  {
   "cell_type": "code",
   "execution_count": 51,
   "id": "49e52afa",
   "metadata": {},
   "outputs": [
    {
     "data": {
      "text/html": [
       "<div>\n",
       "<style scoped>\n",
       "    .dataframe tbody tr th:only-of-type {\n",
       "        vertical-align: middle;\n",
       "    }\n",
       "\n",
       "    .dataframe tbody tr th {\n",
       "        vertical-align: top;\n",
       "    }\n",
       "\n",
       "    .dataframe thead th {\n",
       "        text-align: right;\n",
       "    }\n",
       "</style>\n",
       "<table border=\"1\" class=\"dataframe\">\n",
       "  <thead>\n",
       "    <tr style=\"text-align: right;\">\n",
       "      <th></th>\n",
       "      <th>RegistrationYear</th>\n",
       "      <th>Power</th>\n",
       "      <th>VehicleType_convertible</th>\n",
       "      <th>VehicleType_coupe</th>\n",
       "      <th>VehicleType_other</th>\n",
       "      <th>VehicleType_sedan</th>\n",
       "      <th>VehicleType_small</th>\n",
       "      <th>VehicleType_suv</th>\n",
       "      <th>VehicleType_unknown</th>\n",
       "      <th>VehicleType_wagon</th>\n",
       "      <th>...</th>\n",
       "      <th>Brand_smart</th>\n",
       "      <th>Brand_sonstige_autos</th>\n",
       "      <th>Brand_subaru</th>\n",
       "      <th>Brand_suzuki</th>\n",
       "      <th>Brand_toyota</th>\n",
       "      <th>Brand_trabant</th>\n",
       "      <th>Brand_volkswagen</th>\n",
       "      <th>Brand_volvo</th>\n",
       "      <th>NotRepaired_unknown</th>\n",
       "      <th>NotRepaired_yes</th>\n",
       "    </tr>\n",
       "  </thead>\n",
       "  <tbody>\n",
       "    <tr>\n",
       "      <th>64974</th>\n",
       "      <td>0.199615</td>\n",
       "      <td>0.052134</td>\n",
       "      <td>0</td>\n",
       "      <td>0</td>\n",
       "      <td>0</td>\n",
       "      <td>0</td>\n",
       "      <td>0</td>\n",
       "      <td>0</td>\n",
       "      <td>0</td>\n",
       "      <td>1</td>\n",
       "      <td>...</td>\n",
       "      <td>0</td>\n",
       "      <td>0</td>\n",
       "      <td>0</td>\n",
       "      <td>0</td>\n",
       "      <td>0</td>\n",
       "      <td>0</td>\n",
       "      <td>0</td>\n",
       "      <td>0</td>\n",
       "      <td>0</td>\n",
       "      <td>0</td>\n",
       "    </tr>\n",
       "    <tr>\n",
       "      <th>287849</th>\n",
       "      <td>-0.243492</td>\n",
       "      <td>-0.377401</td>\n",
       "      <td>1</td>\n",
       "      <td>0</td>\n",
       "      <td>0</td>\n",
       "      <td>0</td>\n",
       "      <td>0</td>\n",
       "      <td>0</td>\n",
       "      <td>0</td>\n",
       "      <td>0</td>\n",
       "      <td>...</td>\n",
       "      <td>0</td>\n",
       "      <td>0</td>\n",
       "      <td>0</td>\n",
       "      <td>0</td>\n",
       "      <td>0</td>\n",
       "      <td>0</td>\n",
       "      <td>0</td>\n",
       "      <td>0</td>\n",
       "      <td>1</td>\n",
       "      <td>0</td>\n",
       "    </tr>\n",
       "    <tr>\n",
       "      <th>327139</th>\n",
       "      <td>0.199615</td>\n",
       "      <td>-0.171972</td>\n",
       "      <td>0</td>\n",
       "      <td>0</td>\n",
       "      <td>0</td>\n",
       "      <td>0</td>\n",
       "      <td>0</td>\n",
       "      <td>0</td>\n",
       "      <td>0</td>\n",
       "      <td>1</td>\n",
       "      <td>...</td>\n",
       "      <td>0</td>\n",
       "      <td>0</td>\n",
       "      <td>0</td>\n",
       "      <td>0</td>\n",
       "      <td>0</td>\n",
       "      <td>0</td>\n",
       "      <td>1</td>\n",
       "      <td>0</td>\n",
       "      <td>1</td>\n",
       "      <td>0</td>\n",
       "    </tr>\n",
       "    <tr>\n",
       "      <th>114458</th>\n",
       "      <td>0.938128</td>\n",
       "      <td>-0.190647</td>\n",
       "      <td>0</td>\n",
       "      <td>0</td>\n",
       "      <td>0</td>\n",
       "      <td>1</td>\n",
       "      <td>0</td>\n",
       "      <td>0</td>\n",
       "      <td>0</td>\n",
       "      <td>0</td>\n",
       "      <td>...</td>\n",
       "      <td>0</td>\n",
       "      <td>0</td>\n",
       "      <td>0</td>\n",
       "      <td>0</td>\n",
       "      <td>0</td>\n",
       "      <td>0</td>\n",
       "      <td>0</td>\n",
       "      <td>0</td>\n",
       "      <td>0</td>\n",
       "      <td>0</td>\n",
       "    </tr>\n",
       "    <tr>\n",
       "      <th>45374</th>\n",
       "      <td>-0.095790</td>\n",
       "      <td>0.817826</td>\n",
       "      <td>1</td>\n",
       "      <td>0</td>\n",
       "      <td>0</td>\n",
       "      <td>0</td>\n",
       "      <td>0</td>\n",
       "      <td>0</td>\n",
       "      <td>0</td>\n",
       "      <td>0</td>\n",
       "      <td>...</td>\n",
       "      <td>0</td>\n",
       "      <td>0</td>\n",
       "      <td>0</td>\n",
       "      <td>0</td>\n",
       "      <td>0</td>\n",
       "      <td>0</td>\n",
       "      <td>0</td>\n",
       "      <td>0</td>\n",
       "      <td>0</td>\n",
       "      <td>0</td>\n",
       "    </tr>\n",
       "  </tbody>\n",
       "</table>\n",
       "<p>5 rows × 322 columns</p>\n",
       "</div>"
      ],
      "text/plain": [
       "        RegistrationYear     Power  VehicleType_convertible  \\\n",
       "64974           0.199615  0.052134                        0   \n",
       "287849         -0.243492 -0.377401                        1   \n",
       "327139          0.199615 -0.171972                        0   \n",
       "114458          0.938128 -0.190647                        0   \n",
       "45374          -0.095790  0.817826                        1   \n",
       "\n",
       "        VehicleType_coupe  VehicleType_other  VehicleType_sedan  \\\n",
       "64974                   0                  0                  0   \n",
       "287849                  0                  0                  0   \n",
       "327139                  0                  0                  0   \n",
       "114458                  0                  0                  1   \n",
       "45374                   0                  0                  0   \n",
       "\n",
       "        VehicleType_small  VehicleType_suv  VehicleType_unknown  \\\n",
       "64974                   0                0                    0   \n",
       "287849                  0                0                    0   \n",
       "327139                  0                0                    0   \n",
       "114458                  0                0                    0   \n",
       "45374                   0                0                    0   \n",
       "\n",
       "        VehicleType_wagon  ...  Brand_smart  Brand_sonstige_autos  \\\n",
       "64974                   1  ...            0                     0   \n",
       "287849                  0  ...            0                     0   \n",
       "327139                  1  ...            0                     0   \n",
       "114458                  0  ...            0                     0   \n",
       "45374                   0  ...            0                     0   \n",
       "\n",
       "        Brand_subaru  Brand_suzuki  Brand_toyota  Brand_trabant  \\\n",
       "64974              0             0             0              0   \n",
       "287849             0             0             0              0   \n",
       "327139             0             0             0              0   \n",
       "114458             0             0             0              0   \n",
       "45374              0             0             0              0   \n",
       "\n",
       "        Brand_volkswagen  Brand_volvo  NotRepaired_unknown  NotRepaired_yes  \n",
       "64974                  0            0                    0                0  \n",
       "287849                 0            0                    1                0  \n",
       "327139                 1            0                    1                0  \n",
       "114458                 0            0                    0                0  \n",
       "45374                  0            0                    0                0  \n",
       "\n",
       "[5 rows x 322 columns]"
      ]
     },
     "execution_count": 51,
     "metadata": {},
     "output_type": "execute_result"
    }
   ],
   "source": [
    "X_train.head()"
   ]
  },
  {
   "cell_type": "code",
   "execution_count": 52,
   "id": "a2bafc28",
   "metadata": {},
   "outputs": [],
   "source": [
    "# initializing the model\n",
    "\n",
    "lr = LinearRegression()"
   ]
  },
  {
   "cell_type": "markdown",
   "id": "81fc3b26",
   "metadata": {},
   "source": [
    "**Training the model, getting predictions, calculating RMSE, training & prediction time**"
   ]
  },
  {
   "cell_type": "code",
   "execution_count": 53,
   "id": "9d670d28",
   "metadata": {},
   "outputs": [
    {
     "name": "stdout",
     "output_type": "stream",
     "text": [
      "Время обучения_Linear Regression, сек. = 11.219396591186523\n",
      "Wall time: 11.2 s\n"
     ]
    }
   ],
   "source": [
    "%%time\n",
    "\n",
    "# training the model\n",
    "\n",
    "start = time.time()\n",
    "lr.fit(X_train, y_train)\n",
    "end = time.time()\n",
    "lr_fit_time = end - start\n",
    "\n",
    "print('Время обучения_Linear Regression, сек. =', lr_fit_time)"
   ]
  },
  {
   "cell_type": "code",
   "execution_count": 54,
   "id": "f5ff7c42",
   "metadata": {},
   "outputs": [
    {
     "name": "stdout",
     "output_type": "stream",
     "text": [
      "RMSE_Linear Regression = 2621.9659831715876\n",
      "Время предсказания_Linear Regression, сек. = 0.24549078941345215\n",
      "Wall time: 247 ms\n"
     ]
    }
   ],
   "source": [
    "%%time\n",
    "\n",
    "# obtaining model predictions\n",
    "\n",
    "start = time.time()\n",
    "predictions_lr = lr.predict(X_test)\n",
    "end = time.time()\n",
    "lr_predict_time = end - start\n",
    "\n",
    "print('RMSE_Linear Regression =', mean_squared_error(y_test, predictions_lr)**0.5)\n",
    "print('Время предсказания_Linear Regression, сек. =', lr_predict_time)"
   ]
  },
  {
   "cell_type": "code",
   "execution_count": 55,
   "id": "c6dc01e6",
   "metadata": {},
   "outputs": [],
   "source": [
    "# supplementing the list with Linear Regression model results\n",
    "\n",
    "results.append(('Linear Regression', lr_fit_time, mean_squared_error(y_test, predictions_lr)**0.5, lr_predict_time))"
   ]
  },
  {
   "cell_type": "code",
   "execution_count": 56,
   "id": "da7c18e3",
   "metadata": {},
   "outputs": [
    {
     "data": {
      "text/plain": [
       "[('LightGBM', 6.518653392791748, 1523.893948083748, 0.9864909648895264),\n",
       " ('Linear Regression',\n",
       "  11.219396591186523,\n",
       "  2621.9659831715876,\n",
       "  0.24549078941345215)]"
      ]
     },
     "execution_count": 56,
     "metadata": {},
     "output_type": "execute_result"
    }
   ],
   "source": [
    "results"
   ]
  },
  {
   "cell_type": "markdown",
   "id": "2ad42e57",
   "metadata": {},
   "source": [
    "**- Random Forest Regressor**"
   ]
  },
  {
   "cell_type": "markdown",
   "id": "3065211e",
   "metadata": {},
   "source": [
    "To work with Random Forest, we need to perform a preliminary transformation of the data, namely categorical features encoding and numerical features scaling.\n",
    "\n",
    "Since the categorical features encoding method One Hot Encoding generates a very large number of additional feature columns in the dataset, this method is not suitable for this model. \n",
    "\n",
    "Let us perform categorical features coding using the OrdinalEncoder method."
   ]
  },
  {
   "cell_type": "code",
   "execution_count": 57,
   "id": "1ec149fb",
   "metadata": {},
   "outputs": [
    {
     "data": {
      "text/html": [
       "<div>\n",
       "<style scoped>\n",
       "    .dataframe tbody tr th:only-of-type {\n",
       "        vertical-align: middle;\n",
       "    }\n",
       "\n",
       "    .dataframe tbody tr th {\n",
       "        vertical-align: top;\n",
       "    }\n",
       "\n",
       "    .dataframe thead th {\n",
       "        text-align: right;\n",
       "    }\n",
       "</style>\n",
       "<table border=\"1\" class=\"dataframe\">\n",
       "  <thead>\n",
       "    <tr style=\"text-align: right;\">\n",
       "      <th></th>\n",
       "      <th>VehicleType</th>\n",
       "      <th>Gearbox</th>\n",
       "      <th>Model</th>\n",
       "      <th>Kilometer</th>\n",
       "      <th>FuelType</th>\n",
       "      <th>Brand</th>\n",
       "      <th>NotRepaired</th>\n",
       "    </tr>\n",
       "  </thead>\n",
       "  <tbody>\n",
       "    <tr>\n",
       "      <th>0</th>\n",
       "      <td>sedan</td>\n",
       "      <td>manual</td>\n",
       "      <td>golf</td>\n",
       "      <td>150000</td>\n",
       "      <td>petrol</td>\n",
       "      <td>volkswagen</td>\n",
       "      <td>unknown</td>\n",
       "    </tr>\n",
       "    <tr>\n",
       "      <th>1</th>\n",
       "      <td>coupe</td>\n",
       "      <td>manual</td>\n",
       "      <td>a4</td>\n",
       "      <td>125000</td>\n",
       "      <td>gasoline</td>\n",
       "      <td>audi</td>\n",
       "      <td>yes</td>\n",
       "    </tr>\n",
       "    <tr>\n",
       "      <th>2</th>\n",
       "      <td>suv</td>\n",
       "      <td>auto</td>\n",
       "      <td>grand</td>\n",
       "      <td>125000</td>\n",
       "      <td>gasoline</td>\n",
       "      <td>jeep</td>\n",
       "      <td>unknown</td>\n",
       "    </tr>\n",
       "    <tr>\n",
       "      <th>3</th>\n",
       "      <td>small</td>\n",
       "      <td>manual</td>\n",
       "      <td>golf</td>\n",
       "      <td>150000</td>\n",
       "      <td>petrol</td>\n",
       "      <td>volkswagen</td>\n",
       "      <td>no</td>\n",
       "    </tr>\n",
       "    <tr>\n",
       "      <th>4</th>\n",
       "      <td>small</td>\n",
       "      <td>manual</td>\n",
       "      <td>fabia</td>\n",
       "      <td>90000</td>\n",
       "      <td>gasoline</td>\n",
       "      <td>skoda</td>\n",
       "      <td>no</td>\n",
       "    </tr>\n",
       "  </tbody>\n",
       "</table>\n",
       "</div>"
      ],
      "text/plain": [
       "  VehicleType Gearbox  Model Kilometer  FuelType       Brand NotRepaired\n",
       "0       sedan  manual   golf    150000    petrol  volkswagen     unknown\n",
       "1       coupe  manual     a4    125000  gasoline        audi         yes\n",
       "2         suv    auto  grand    125000  gasoline        jeep     unknown\n",
       "3       small  manual   golf    150000    petrol  volkswagen          no\n",
       "4       small  manual  fabia     90000  gasoline       skoda          no"
      ]
     },
     "execution_count": 57,
     "metadata": {},
     "output_type": "execute_result"
    }
   ],
   "source": [
    "df[categorical_features].head()"
   ]
  },
  {
   "cell_type": "code",
   "execution_count": 58,
   "id": "2f143aab",
   "metadata": {},
   "outputs": [],
   "source": [
    "# categorical features encoding by OrdinalEncoding method\n",
    "\n",
    "encoder = OrdinalEncoder()\n",
    "df[categorical_features] = encoder.fit_transform(df[categorical_features])"
   ]
  },
  {
   "cell_type": "code",
   "execution_count": 59,
   "id": "c6f03e96",
   "metadata": {},
   "outputs": [
    {
     "data": {
      "text/html": [
       "<div>\n",
       "<style scoped>\n",
       "    .dataframe tbody tr th:only-of-type {\n",
       "        vertical-align: middle;\n",
       "    }\n",
       "\n",
       "    .dataframe tbody tr th {\n",
       "        vertical-align: top;\n",
       "    }\n",
       "\n",
       "    .dataframe thead th {\n",
       "        text-align: right;\n",
       "    }\n",
       "</style>\n",
       "<table border=\"1\" class=\"dataframe\">\n",
       "  <thead>\n",
       "    <tr style=\"text-align: right;\">\n",
       "      <th></th>\n",
       "      <th>Price</th>\n",
       "      <th>VehicleType</th>\n",
       "      <th>RegistrationYear</th>\n",
       "      <th>Gearbox</th>\n",
       "      <th>Power</th>\n",
       "      <th>Model</th>\n",
       "      <th>Kilometer</th>\n",
       "      <th>FuelType</th>\n",
       "      <th>Brand</th>\n",
       "      <th>NotRepaired</th>\n",
       "    </tr>\n",
       "  </thead>\n",
       "  <tbody>\n",
       "    <tr>\n",
       "      <th>0</th>\n",
       "      <td>480</td>\n",
       "      <td>4.0</td>\n",
       "      <td>1993</td>\n",
       "      <td>1.0</td>\n",
       "      <td>96</td>\n",
       "      <td>116.0</td>\n",
       "      <td>12.0</td>\n",
       "      <td>6.0</td>\n",
       "      <td>38.0</td>\n",
       "      <td>1.0</td>\n",
       "    </tr>\n",
       "    <tr>\n",
       "      <th>1</th>\n",
       "      <td>18300</td>\n",
       "      <td>2.0</td>\n",
       "      <td>2011</td>\n",
       "      <td>1.0</td>\n",
       "      <td>190</td>\n",
       "      <td>29.0</td>\n",
       "      <td>11.0</td>\n",
       "      <td>2.0</td>\n",
       "      <td>1.0</td>\n",
       "      <td>2.0</td>\n",
       "    </tr>\n",
       "    <tr>\n",
       "      <th>2</th>\n",
       "      <td>9800</td>\n",
       "      <td>6.0</td>\n",
       "      <td>2004</td>\n",
       "      <td>0.0</td>\n",
       "      <td>163</td>\n",
       "      <td>117.0</td>\n",
       "      <td>11.0</td>\n",
       "      <td>2.0</td>\n",
       "      <td>14.0</td>\n",
       "      <td>1.0</td>\n",
       "    </tr>\n",
       "    <tr>\n",
       "      <th>3</th>\n",
       "      <td>1500</td>\n",
       "      <td>5.0</td>\n",
       "      <td>2001</td>\n",
       "      <td>1.0</td>\n",
       "      <td>75</td>\n",
       "      <td>116.0</td>\n",
       "      <td>12.0</td>\n",
       "      <td>6.0</td>\n",
       "      <td>38.0</td>\n",
       "      <td>0.0</td>\n",
       "    </tr>\n",
       "    <tr>\n",
       "      <th>4</th>\n",
       "      <td>3600</td>\n",
       "      <td>5.0</td>\n",
       "      <td>2008</td>\n",
       "      <td>1.0</td>\n",
       "      <td>69</td>\n",
       "      <td>101.0</td>\n",
       "      <td>9.0</td>\n",
       "      <td>2.0</td>\n",
       "      <td>31.0</td>\n",
       "      <td>0.0</td>\n",
       "    </tr>\n",
       "  </tbody>\n",
       "</table>\n",
       "</div>"
      ],
      "text/plain": [
       "   Price  VehicleType  RegistrationYear  Gearbox  Power  Model  Kilometer  \\\n",
       "0    480          4.0              1993      1.0     96  116.0       12.0   \n",
       "1  18300          2.0              2011      1.0    190   29.0       11.0   \n",
       "2   9800          6.0              2004      0.0    163  117.0       11.0   \n",
       "3   1500          5.0              2001      1.0     75  116.0       12.0   \n",
       "4   3600          5.0              2008      1.0     69  101.0        9.0   \n",
       "\n",
       "   FuelType  Brand  NotRepaired  \n",
       "0       6.0   38.0          1.0  \n",
       "1       2.0    1.0          2.0  \n",
       "2       2.0   14.0          1.0  \n",
       "3       6.0   38.0          0.0  \n",
       "4       2.0   31.0          0.0  "
      ]
     },
     "execution_count": 59,
     "metadata": {},
     "output_type": "execute_result"
    }
   ],
   "source": [
    "df.head()"
   ]
  },
  {
   "cell_type": "markdown",
   "id": "67d5b732",
   "metadata": {},
   "source": [
    "Scaling numerical features. In order to avoid leakage of the target feature into the test sample, we set up the StandardScaler structure object and train it on the training sample. Accordingly, first we split our dataset into training and test samples."
   ]
  },
  {
   "cell_type": "code",
   "execution_count": 60,
   "id": "6d027054",
   "metadata": {},
   "outputs": [],
   "source": [
    "# defining features and target\n",
    "\n",
    "X_oe = df.drop(['Price'], axis=1)\n",
    "y_oe = df['Price']"
   ]
  },
  {
   "cell_type": "code",
   "execution_count": 61,
   "id": "12f812ff",
   "metadata": {},
   "outputs": [],
   "source": [
    "# splitting dataset into train and test samples at a ratio 3:1\n",
    "\n",
    "X_oe_train, X_oe_test, y_oe_train, y_oe_test = train_test_split(X_oe, y_oe, test_size=0.25, random_state=12345)"
   ]
  },
  {
   "cell_type": "code",
   "execution_count": 62,
   "id": "30097864",
   "metadata": {},
   "outputs": [],
   "source": [
    "# performing scaling of numeric features using StandardScaler\n",
    "\n",
    "scaler = StandardScaler()\n",
    "\n",
    "scaler.fit(X_oe_train[numeric])\n",
    "\n",
    "# transforming train and test sets using transform() function\n",
    "\n",
    "X_oe_train[numeric] = scaler.transform(X_oe_train[numeric])\n",
    "X_oe_test[numeric] = scaler.transform(X_oe_test[numeric])"
   ]
  },
  {
   "cell_type": "code",
   "execution_count": 63,
   "id": "d199ee0b",
   "metadata": {},
   "outputs": [],
   "source": [
    "# initializing the model\n",
    "\n",
    "rfr = RandomForestRegressor(random_state=12345, n_estimators=100)"
   ]
  },
  {
   "cell_type": "markdown",
   "id": "a9d19dd1",
   "metadata": {},
   "source": [
    "**Selecting optimal parameters using GridSearchCV**"
   ]
  },
  {
   "cell_type": "code",
   "execution_count": 64,
   "id": "5172c039",
   "metadata": {},
   "outputs": [
    {
     "name": "stdout",
     "output_type": "stream",
     "text": [
      "Fitting 3 folds for each of 4 candidates, totalling 12 fits\n"
     ]
    }
   ],
   "source": [
    "rfr_param = {'max_depth': [10, 15], 'min_samples_split': [10, 15]}\n",
    "    \n",
    "rfr_grid = GridSearchCV(estimator=rfr,\n",
    "                            param_grid=rfr_param,\n",
    "                            scoring='neg_mean_squared_error', cv=3,\n",
    "                            verbose=10, n_jobs=-1)\n",
    "\n",
    "rfr_grid.fit(X_oe_train, y_oe_train)\n",
    "\n",
    "best_estimator_rfr = rfr_grid.best_estimator_"
   ]
  },
  {
   "cell_type": "code",
   "execution_count": 65,
   "id": "64d08f85",
   "metadata": {},
   "outputs": [
    {
     "data": {
      "text/html": [
       "<style>#sk-container-id-2 {color: black;background-color: white;}#sk-container-id-2 pre{padding: 0;}#sk-container-id-2 div.sk-toggleable {background-color: white;}#sk-container-id-2 label.sk-toggleable__label {cursor: pointer;display: block;width: 100%;margin-bottom: 0;padding: 0.3em;box-sizing: border-box;text-align: center;}#sk-container-id-2 label.sk-toggleable__label-arrow:before {content: \"▸\";float: left;margin-right: 0.25em;color: #696969;}#sk-container-id-2 label.sk-toggleable__label-arrow:hover:before {color: black;}#sk-container-id-2 div.sk-estimator:hover label.sk-toggleable__label-arrow:before {color: black;}#sk-container-id-2 div.sk-toggleable__content {max-height: 0;max-width: 0;overflow: hidden;text-align: left;background-color: #f0f8ff;}#sk-container-id-2 div.sk-toggleable__content pre {margin: 0.2em;color: black;border-radius: 0.25em;background-color: #f0f8ff;}#sk-container-id-2 input.sk-toggleable__control:checked~div.sk-toggleable__content {max-height: 200px;max-width: 100%;overflow: auto;}#sk-container-id-2 input.sk-toggleable__control:checked~label.sk-toggleable__label-arrow:before {content: \"▾\";}#sk-container-id-2 div.sk-estimator input.sk-toggleable__control:checked~label.sk-toggleable__label {background-color: #d4ebff;}#sk-container-id-2 div.sk-label input.sk-toggleable__control:checked~label.sk-toggleable__label {background-color: #d4ebff;}#sk-container-id-2 input.sk-hidden--visually {border: 0;clip: rect(1px 1px 1px 1px);clip: rect(1px, 1px, 1px, 1px);height: 1px;margin: -1px;overflow: hidden;padding: 0;position: absolute;width: 1px;}#sk-container-id-2 div.sk-estimator {font-family: monospace;background-color: #f0f8ff;border: 1px dotted black;border-radius: 0.25em;box-sizing: border-box;margin-bottom: 0.5em;}#sk-container-id-2 div.sk-estimator:hover {background-color: #d4ebff;}#sk-container-id-2 div.sk-parallel-item::after {content: \"\";width: 100%;border-bottom: 1px solid gray;flex-grow: 1;}#sk-container-id-2 div.sk-label:hover label.sk-toggleable__label {background-color: #d4ebff;}#sk-container-id-2 div.sk-serial::before {content: \"\";position: absolute;border-left: 1px solid gray;box-sizing: border-box;top: 0;bottom: 0;left: 50%;z-index: 0;}#sk-container-id-2 div.sk-serial {display: flex;flex-direction: column;align-items: center;background-color: white;padding-right: 0.2em;padding-left: 0.2em;position: relative;}#sk-container-id-2 div.sk-item {position: relative;z-index: 1;}#sk-container-id-2 div.sk-parallel {display: flex;align-items: stretch;justify-content: center;background-color: white;position: relative;}#sk-container-id-2 div.sk-item::before, #sk-container-id-2 div.sk-parallel-item::before {content: \"\";position: absolute;border-left: 1px solid gray;box-sizing: border-box;top: 0;bottom: 0;left: 50%;z-index: -1;}#sk-container-id-2 div.sk-parallel-item {display: flex;flex-direction: column;z-index: 1;position: relative;background-color: white;}#sk-container-id-2 div.sk-parallel-item:first-child::after {align-self: flex-end;width: 50%;}#sk-container-id-2 div.sk-parallel-item:last-child::after {align-self: flex-start;width: 50%;}#sk-container-id-2 div.sk-parallel-item:only-child::after {width: 0;}#sk-container-id-2 div.sk-dashed-wrapped {border: 1px dashed gray;margin: 0 0.4em 0.5em 0.4em;box-sizing: border-box;padding-bottom: 0.4em;background-color: white;}#sk-container-id-2 div.sk-label label {font-family: monospace;font-weight: bold;display: inline-block;line-height: 1.2em;}#sk-container-id-2 div.sk-label-container {text-align: center;}#sk-container-id-2 div.sk-container {/* jupyter's `normalize.less` sets `[hidden] { display: none; }` but bootstrap.min.css set `[hidden] { display: none !important; }` so we also need the `!important` here to be able to override the default hidden behavior on the sphinx rendered scikit-learn.org. See: https://github.com/scikit-learn/scikit-learn/issues/21755 */display: inline-block !important;position: relative;}#sk-container-id-2 div.sk-text-repr-fallback {display: none;}</style><div id=\"sk-container-id-2\" class=\"sk-top-container\"><div class=\"sk-text-repr-fallback\"><pre>RandomForestRegressor(max_depth=15, min_samples_split=10, random_state=12345)</pre><b>In a Jupyter environment, please rerun this cell to show the HTML representation or trust the notebook. <br />On GitHub, the HTML representation is unable to render, please try loading this page with nbviewer.org.</b></div><div class=\"sk-container\" hidden><div class=\"sk-item\"><div class=\"sk-estimator sk-toggleable\"><input class=\"sk-toggleable__control sk-hidden--visually\" id=\"sk-estimator-id-2\" type=\"checkbox\" checked><label for=\"sk-estimator-id-2\" class=\"sk-toggleable__label sk-toggleable__label-arrow\">RandomForestRegressor</label><div class=\"sk-toggleable__content\"><pre>RandomForestRegressor(max_depth=15, min_samples_split=10, random_state=12345)</pre></div></div></div></div></div>"
      ],
      "text/plain": [
       "RandomForestRegressor(max_depth=15, min_samples_split=10, random_state=12345)"
      ]
     },
     "execution_count": 65,
     "metadata": {},
     "output_type": "execute_result"
    }
   ],
   "source": [
    "best_estimator_rfr"
   ]
  },
  {
   "cell_type": "markdown",
   "id": "9085e3eb",
   "metadata": {},
   "source": [
    "**Training the model, getting predictions, calculating RMSE, training & prediction time**"
   ]
  },
  {
   "cell_type": "code",
   "execution_count": 66,
   "id": "aa34c5c5",
   "metadata": {},
   "outputs": [
    {
     "name": "stdout",
     "output_type": "stream",
     "text": [
      "Время обучения_RFR, сек. = 55.82750463485718\n",
      "Wall time: 55.8 s\n"
     ]
    }
   ],
   "source": [
    "%%time\n",
    "\n",
    "# training model\n",
    "\n",
    "start = time.time()\n",
    "best_estimator_rfr.fit(X_oe_train, y_oe_train)\n",
    "end = time.time()\n",
    "rfr_fit_time = end - start\n",
    "\n",
    "print('Время обучения_RFR, сек. =', rfr_fit_time)"
   ]
  },
  {
   "cell_type": "code",
   "execution_count": 67,
   "id": "2d43c0c8",
   "metadata": {},
   "outputs": [
    {
     "name": "stdout",
     "output_type": "stream",
     "text": [
      "RMSE_RFR = 1634.4054325629322\n",
      "Время предсказания_RFR, сек. = 1.5485765933990479\n",
      "Wall time: 1.55 s\n"
     ]
    }
   ],
   "source": [
    "%%time\n",
    "\n",
    "# obtaining model predictions\n",
    "\n",
    "start = time.time()\n",
    "predictions_rfr = best_estimator_rfr.predict(X_oe_test)\n",
    "end = time.time()\n",
    "rfr_predict_time = end - start\n",
    "\n",
    "print('RMSE_RFR =', mean_squared_error(y_oe_test, predictions_rfr)**0.5)\n",
    "print('Время предсказания_RFR, сек. =', rfr_predict_time)"
   ]
  },
  {
   "cell_type": "code",
   "execution_count": 68,
   "id": "b5b7febe",
   "metadata": {},
   "outputs": [],
   "source": [
    "# supplementing the list with Random Forest Regressor model results\n",
    "\n",
    "results.append(('Random Forest', rfr_fit_time, mean_squared_error(y_test, predictions_rfr)**0.5, rfr_predict_time))"
   ]
  },
  {
   "cell_type": "code",
   "execution_count": 69,
   "id": "9bd48d5a",
   "metadata": {},
   "outputs": [
    {
     "data": {
      "text/plain": [
       "[('LightGBM', 6.518653392791748, 1523.893948083748, 0.9864909648895264),\n",
       " ('Linear Regression',\n",
       "  11.219396591186523,\n",
       "  2621.9659831715876,\n",
       "  0.24549078941345215),\n",
       " ('Random Forest', 55.82750463485718, 1634.4054325629322, 1.5485765933990479)]"
      ]
     },
     "execution_count": 69,
     "metadata": {},
     "output_type": "execute_result"
    }
   ],
   "source": [
    "results"
   ]
  },
  {
   "cell_type": "markdown",
   "id": "2e5270cc",
   "metadata": {},
   "source": [
    "**Feature importance plot**"
   ]
  },
  {
   "cell_type": "markdown",
   "id": "6a59cc3a",
   "metadata": {},
   "source": [
    "Will plot the feature importance for the Random Forest model."
   ]
  },
  {
   "cell_type": "code",
   "execution_count": 70,
   "id": "98fc699c",
   "metadata": {},
   "outputs": [
    {
     "data": {
      "image/png": "[encoded data removed]",
      "text/plain": [
       "<Figure size 720x504 with 1 Axes>"
      ]
     },
     "metadata": {
      "needs_background": "light"
     },
     "output_type": "display_data"
    }
   ],
   "source": [
    "feature_names = X_oe_train.columns \n",
    "model = RandomForestRegressor(n_estimators=10, random_state=12345)\n",
    "model.fit(X_oe_train, y_oe_train)\n",
    "pred = model.predict(X_oe_test)\n",
    "importances = model.feature_importances_\n",
    "model_importances = pd.Series(importances, index=feature_names)\n",
    "\n",
    "std = np.std([model.feature_importances_ for tree in str(1000)], axis=0)\n",
    "\n",
    "fig, ax = plt.subplots(figsize=(10,7))\n",
    "model_importances.plot.bar(yerr=std, ax=ax)\n",
    "ax.set_title(\"Feature importances\")\n",
    "ax.set_ylabel(\"Mean decrease in impurity\")\n",
    "fig.tight_layout()"
   ]
  },
  {
   "cell_type": "markdown",
   "id": "1c21e701",
   "metadata": {},
   "source": [
    "As can be seen from the graph, the most important features that the Random Forest model identified when predicting target are `RegistrationYear` and `Power`. "
   ]
  },
  {
   "cell_type": "markdown",
   "id": "da10fbf1",
   "metadata": {},
   "source": [
    "## Models analysis"
   ]
  },
  {
   "cell_type": "markdown",
   "id": "f8acc6d0",
   "metadata": {},
   "source": [
    "Let's summarise the final results of the models in tabular form, namely the learning time, quality and prediction speed."
   ]
  },
  {
   "cell_type": "code",
   "execution_count": 71,
   "id": "37c3b2bc",
   "metadata": {},
   "outputs": [
    {
     "data": {
      "text/html": [
       "<div>\n",
       "<style scoped>\n",
       "    .dataframe tbody tr th:only-of-type {\n",
       "        vertical-align: middle;\n",
       "    }\n",
       "\n",
       "    .dataframe tbody tr th {\n",
       "        vertical-align: top;\n",
       "    }\n",
       "\n",
       "    .dataframe thead th {\n",
       "        text-align: right;\n",
       "    }\n",
       "</style>\n",
       "<table border=\"1\" class=\"dataframe\">\n",
       "  <thead>\n",
       "    <tr style=\"text-align: right;\">\n",
       "      <th></th>\n",
       "      <th>model</th>\n",
       "      <th>fit_time</th>\n",
       "      <th>rmse</th>\n",
       "      <th>predict_time</th>\n",
       "    </tr>\n",
       "  </thead>\n",
       "  <tbody>\n",
       "    <tr>\n",
       "      <th>0</th>\n",
       "      <td>LightGBM</td>\n",
       "      <td>6.518653</td>\n",
       "      <td>1523.893948</td>\n",
       "      <td>0.986491</td>\n",
       "    </tr>\n",
       "    <tr>\n",
       "      <th>1</th>\n",
       "      <td>Linear Regression</td>\n",
       "      <td>11.219397</td>\n",
       "      <td>2621.965983</td>\n",
       "      <td>0.245491</td>\n",
       "    </tr>\n",
       "    <tr>\n",
       "      <th>2</th>\n",
       "      <td>Random Forest</td>\n",
       "      <td>55.827505</td>\n",
       "      <td>1634.405433</td>\n",
       "      <td>1.548577</td>\n",
       "    </tr>\n",
       "  </tbody>\n",
       "</table>\n",
       "</div>"
      ],
      "text/plain": [
       "               model   fit_time         rmse  predict_time\n",
       "0           LightGBM   6.518653  1523.893948      0.986491\n",
       "1  Linear Regression  11.219397  2621.965983      0.245491\n",
       "2      Random Forest  55.827505  1634.405433      1.548577"
      ]
     },
     "execution_count": 71,
     "metadata": {},
     "output_type": "execute_result"
    }
   ],
   "source": [
    "pd.DataFrame(results, columns=['model', 'fit_time', 'rmse', 'predict_time'])"
   ]
  },
  {
   "cell_type": "markdown",
   "id": "40669753",
   "metadata": {},
   "source": [
    "**Conclusion:**.\n",
    "\n",
    "1. The LightGBM model showed the best RMSE metric = 1523.89, with a learning time of about 3.5 seconds and a prediction speed within less than a second.\n",
    "\n",
    "\n",
    "2. The Random Forest Regressor model also showed a decent quality result, with RMSE = 1634.41, but with a longer learning time, unlike LightGBM. The learning time is around 52 seconds. The prediction speed is also the slowest, at around 1.5 seconds.\n",
    "\n",
    "\n",
    "3. The Linear Regression model is the fastest in prediction, at 0.17 seconds, but the learning time is longer than LightGBM. However, the quality metric is the worst of all three models: RMSE = 2621.97."
   ]
  }
 ],
 "metadata": {
  "kernelspec": {
   "display_name": "Python 3 (ipykernel)",
   "language": "python",
   "name": "python3"
  },
  "language_info": {
   "codemirror_mode": {
    "name": "ipython",
    "version": 3
   },
   "file_extension": ".py",
   "mimetype": "text/x-python",
   "name": "python",
   "nbconvert_exporter": "python",
   "pygments_lexer": "ipython3",
   "version": "3.9.7"
  },
  "toc": {
   "base_numbering": 1,
   "nav_menu": {},
   "number_sections": true,
   "sideBar": true,
   "skip_h1_title": true,
   "title_cell": "Contents",
   "title_sidebar": "Contents",
   "toc_cell": true,
   "toc_position": {
    "height": "calc(100% - 180px)",
    "left": "10px",
    "top": "150px",
    "width": "303.8px"
   },
   "toc_section_display": true,
   "toc_window_display": true
  }
 },
 "nbformat": 4,
 "nbformat_minor": 5
}
