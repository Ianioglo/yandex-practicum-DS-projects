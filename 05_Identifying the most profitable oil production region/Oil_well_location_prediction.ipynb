{
 "cells": [
  {
   "cell_type": "markdown",
   "id": "a97ca1d5",
   "metadata": {
    "toc": true
   },
   "source": [
    "<h1>Contents<span class=\"tocSkip\"></span></h1>\n",
    "<div class=\"toc\"><ul class=\"toc-item\"><li><span><a href=\"#Data-preparation\" data-toc-modified-id=\"Data-preparation-1\"><span class=\"toc-item-num\">1&nbsp;&nbsp;</span>Data preparation</a></span></li><li><span><a href=\"#Model-training-and-validation-for-each-region\" data-toc-modified-id=\"Model-training-and-validation-for-each-region-2\"><span class=\"toc-item-num\">2&nbsp;&nbsp;</span>Model training and validation for each region</a></span></li><li><span><a href=\"#Preparation-for-profit-calculation\" data-toc-modified-id=\"Preparation-for-profit-calculation-3\"><span class=\"toc-item-num\">3&nbsp;&nbsp;</span>Preparation for profit calculation</a></span></li><li><span><a href=\"#Function-for-profit-calculation\" data-toc-modified-id=\"Function-for-profit-calculation-4\"><span class=\"toc-item-num\">4&nbsp;&nbsp;</span>Function for profit calculation</a></span></li><li><span><a href=\"#Calculation-of-risks-and-profits-for-each-region\" data-toc-modified-id=\"Calculation-of-risks-and-profits-for-each-region-5\"><span class=\"toc-item-num\">5&nbsp;&nbsp;</span>Calculation of risks and profits for each region</a></span></li></ul></div>"
   ]
  },
  {
   "cell_type": "markdown",
   "id": "fde70247",
   "metadata": {},
   "source": [
    "# Project description: Choosing a location for the well"
   ]
  },
  {
   "cell_type": "markdown",
   "id": "d0ec8f9a",
   "metadata": {},
   "source": [
    "We work for an oil extraction company. We need to decide where to drill a new well.\n",
    "\n",
    "The steps for choosing a location are usually as follows:\n",
    "- In the chosen region, they collect characteristics for the wells: the quality of oil and the volume of its reserves;\n",
    "- They build a model to predict the amount of reserves in new wells;\n",
    "- Select the wells with the highest value estimates;\n",
    "- Identify the region with the maximum total revenue of the selected wells.\n",
    "\n",
    "We are provided with oil samples from three regions. The characteristics for each well in the region are already known. We need to build a model to determine the region where production will bring the highest profit. We will analyze the possible profits and risks using the Bootstrap technique.\n",
    "\n",
    "**Data description**.\n",
    "\n",
    "- id - unique identifier of the well;\n",
    "- f0, f1, f2 - three features of the well ( it doesn't matter what they mean, but the features themselves are meaningful)\n",
    "- product - volume of reserves in the well (thousand barrels).\n",
    "\n",
    "**Task conditions:**.\n",
    "- Only linear regression is suitable for model training (the others are not sufficiently predictable).\n",
    "- When exploring the region 500 points are examined, from which 200 best locations are selected for development using machine learning.\n",
    "- The budget for well development in the region is 10 billion roubles.\n",
    "- At current prices, one barrel of raw materials yields 450 roubles in revenue. The income from each unit is RUB 450 thousand, as the volume is given in thousands of barrels.\n",
    "- After assessing the risks, it is necessary to leave only those regions where the probability of loss is less than 2.5%. Among them, the region with the highest average profit is chosen."
   ]
  },
  {
   "cell_type": "markdown",
   "id": "fa325c18",
   "metadata": {},
   "source": [
    "## Data preparation"
   ]
  },
  {
   "cell_type": "code",
   "execution_count": 1,
   "id": "71de4101",
   "metadata": {},
   "outputs": [],
   "source": [
    "# Import the required libraries \n",
    "\n",
    "import pandas as pd\n",
    "import numpy as np\n",
    "\n",
    "import matplotlib.pyplot as plt\n",
    "import seaborn as sns\n",
    "\n",
    "from sklearn.model_selection import train_test_split\n",
    "from sklearn.preprocessing import StandardScaler\n",
    "from numpy.random import RandomState\n",
    "\n",
    "from sklearn.linear_model import LinearRegression\n",
    "\n",
    "from sklearn.metrics import mean_squared_error\n",
    "\n",
    "import warnings\n",
    "warnings.filterwarnings('ignore')"
   ]
  },
  {
   "cell_type": "code",
   "execution_count": 2,
   "id": "abc04e12",
   "metadata": {},
   "outputs": [],
   "source": [
    "try:\n",
    "    df_1 = pd.read_csv('geo_data_0.csv')\n",
    "    df_2 = pd.read_csv('geo_data_1.csv')\n",
    "    df_3 = pd.read_csv('geo_data_2.csv')\n",
    "    \n",
    "except FileNotFoundError:\n",
    "    df_1 = pd.read_csv('/datasets/geo_data_0.csv')\n",
    "    df_2 = pd.read_csv('/datasets/geo_data_1.csv')\n",
    "    df_3 = pd.read_csv('/datasets/geo_data_2.csv')\n",
    "    "
   ]
  },
  {
   "cell_type": "markdown",
   "id": "d29bfff7",
   "metadata": {},
   "source": [
    "**Overview the data for Region 1**"
   ]
  },
  {
   "cell_type": "code",
   "execution_count": 3,
   "id": "4b386a2e",
   "metadata": {
    "scrolled": false
   },
   "outputs": [
    {
     "name": "stdout",
     "output_type": "stream",
     "text": [
      "<class 'pandas.core.frame.DataFrame'>\n",
      "RangeIndex: 100000 entries, 0 to 99999\n",
      "Data columns (total 5 columns):\n",
      " #   Column   Non-Null Count   Dtype  \n",
      "---  ------   --------------   -----  \n",
      " 0   id       100000 non-null  object \n",
      " 1   f0       100000 non-null  float64\n",
      " 2   f1       100000 non-null  float64\n",
      " 3   f2       100000 non-null  float64\n",
      " 4   product  100000 non-null  float64\n",
      "dtypes: float64(4), object(1)\n",
      "memory usage: 3.8+ MB\n"
     ]
    },
    {
     "data": {
      "text/plain": [
       "None"
      ]
     },
     "metadata": {},
     "output_type": "display_data"
    },
    {
     "data": {
      "text/html": [
       "<div>\n",
       "<style scoped>\n",
       "    .dataframe tbody tr th:only-of-type {\n",
       "        vertical-align: middle;\n",
       "    }\n",
       "\n",
       "    .dataframe tbody tr th {\n",
       "        vertical-align: top;\n",
       "    }\n",
       "\n",
       "    .dataframe thead th {\n",
       "        text-align: right;\n",
       "    }\n",
       "</style>\n",
       "<table border=\"1\" class=\"dataframe\">\n",
       "  <thead>\n",
       "    <tr style=\"text-align: right;\">\n",
       "      <th></th>\n",
       "      <th>id</th>\n",
       "      <th>f0</th>\n",
       "      <th>f1</th>\n",
       "      <th>f2</th>\n",
       "      <th>product</th>\n",
       "    </tr>\n",
       "  </thead>\n",
       "  <tbody>\n",
       "    <tr>\n",
       "      <th>13513</th>\n",
       "      <td>Kz67F</td>\n",
       "      <td>0.797503</td>\n",
       "      <td>0.770247</td>\n",
       "      <td>0.982367</td>\n",
       "      <td>70.190560</td>\n",
       "    </tr>\n",
       "    <tr>\n",
       "      <th>88617</th>\n",
       "      <td>pqLTf</td>\n",
       "      <td>-1.061050</td>\n",
       "      <td>0.193819</td>\n",
       "      <td>3.160022</td>\n",
       "      <td>3.484813</td>\n",
       "    </tr>\n",
       "    <tr>\n",
       "      <th>64986</th>\n",
       "      <td>6Jn7c</td>\n",
       "      <td>2.006508</td>\n",
       "      <td>0.060402</td>\n",
       "      <td>11.190830</td>\n",
       "      <td>166.701080</td>\n",
       "    </tr>\n",
       "    <tr>\n",
       "      <th>38543</th>\n",
       "      <td>uLYmz</td>\n",
       "      <td>1.954147</td>\n",
       "      <td>0.049373</td>\n",
       "      <td>-3.193165</td>\n",
       "      <td>107.126523</td>\n",
       "    </tr>\n",
       "    <tr>\n",
       "      <th>14571</th>\n",
       "      <td>8NEUC</td>\n",
       "      <td>0.680485</td>\n",
       "      <td>0.801410</td>\n",
       "      <td>-2.447211</td>\n",
       "      <td>11.996170</td>\n",
       "    </tr>\n",
       "  </tbody>\n",
       "</table>\n",
       "</div>"
      ],
      "text/plain": [
       "          id        f0        f1         f2     product\n",
       "13513  Kz67F  0.797503  0.770247   0.982367   70.190560\n",
       "88617  pqLTf -1.061050  0.193819   3.160022    3.484813\n",
       "64986  6Jn7c  2.006508  0.060402  11.190830  166.701080\n",
       "38543  uLYmz  1.954147  0.049373  -3.193165  107.126523\n",
       "14571  8NEUC  0.680485  0.801410  -2.447211   11.996170"
      ]
     },
     "metadata": {},
     "output_type": "display_data"
    },
    {
     "data": {
      "text/html": [
       "<div>\n",
       "<style scoped>\n",
       "    .dataframe tbody tr th:only-of-type {\n",
       "        vertical-align: middle;\n",
       "    }\n",
       "\n",
       "    .dataframe tbody tr th {\n",
       "        vertical-align: top;\n",
       "    }\n",
       "\n",
       "    .dataframe thead th {\n",
       "        text-align: right;\n",
       "    }\n",
       "</style>\n",
       "<table border=\"1\" class=\"dataframe\">\n",
       "  <thead>\n",
       "    <tr style=\"text-align: right;\">\n",
       "      <th></th>\n",
       "      <th>id</th>\n",
       "      <th>f0</th>\n",
       "      <th>f1</th>\n",
       "      <th>f2</th>\n",
       "      <th>product</th>\n",
       "    </tr>\n",
       "  </thead>\n",
       "  <tbody>\n",
       "    <tr>\n",
       "      <th>count</th>\n",
       "      <td>100000</td>\n",
       "      <td>100000.000000</td>\n",
       "      <td>100000.000000</td>\n",
       "      <td>100000.000000</td>\n",
       "      <td>100000.000000</td>\n",
       "    </tr>\n",
       "    <tr>\n",
       "      <th>unique</th>\n",
       "      <td>99990</td>\n",
       "      <td>NaN</td>\n",
       "      <td>NaN</td>\n",
       "      <td>NaN</td>\n",
       "      <td>NaN</td>\n",
       "    </tr>\n",
       "    <tr>\n",
       "      <th>top</th>\n",
       "      <td>fiKDv</td>\n",
       "      <td>NaN</td>\n",
       "      <td>NaN</td>\n",
       "      <td>NaN</td>\n",
       "      <td>NaN</td>\n",
       "    </tr>\n",
       "    <tr>\n",
       "      <th>freq</th>\n",
       "      <td>2</td>\n",
       "      <td>NaN</td>\n",
       "      <td>NaN</td>\n",
       "      <td>NaN</td>\n",
       "      <td>NaN</td>\n",
       "    </tr>\n",
       "    <tr>\n",
       "      <th>mean</th>\n",
       "      <td>NaN</td>\n",
       "      <td>0.500419</td>\n",
       "      <td>0.250143</td>\n",
       "      <td>2.502647</td>\n",
       "      <td>92.500000</td>\n",
       "    </tr>\n",
       "    <tr>\n",
       "      <th>std</th>\n",
       "      <td>NaN</td>\n",
       "      <td>0.871832</td>\n",
       "      <td>0.504433</td>\n",
       "      <td>3.248248</td>\n",
       "      <td>44.288691</td>\n",
       "    </tr>\n",
       "    <tr>\n",
       "      <th>min</th>\n",
       "      <td>NaN</td>\n",
       "      <td>-1.408605</td>\n",
       "      <td>-0.848218</td>\n",
       "      <td>-12.088328</td>\n",
       "      <td>0.000000</td>\n",
       "    </tr>\n",
       "    <tr>\n",
       "      <th>25%</th>\n",
       "      <td>NaN</td>\n",
       "      <td>-0.072580</td>\n",
       "      <td>-0.200881</td>\n",
       "      <td>0.287748</td>\n",
       "      <td>56.497507</td>\n",
       "    </tr>\n",
       "    <tr>\n",
       "      <th>50%</th>\n",
       "      <td>NaN</td>\n",
       "      <td>0.502360</td>\n",
       "      <td>0.250252</td>\n",
       "      <td>2.515969</td>\n",
       "      <td>91.849972</td>\n",
       "    </tr>\n",
       "    <tr>\n",
       "      <th>75%</th>\n",
       "      <td>NaN</td>\n",
       "      <td>1.073581</td>\n",
       "      <td>0.700646</td>\n",
       "      <td>4.715088</td>\n",
       "      <td>128.564089</td>\n",
       "    </tr>\n",
       "    <tr>\n",
       "      <th>max</th>\n",
       "      <td>NaN</td>\n",
       "      <td>2.362331</td>\n",
       "      <td>1.343769</td>\n",
       "      <td>16.003790</td>\n",
       "      <td>185.364347</td>\n",
       "    </tr>\n",
       "  </tbody>\n",
       "</table>\n",
       "</div>"
      ],
      "text/plain": [
       "            id             f0             f1             f2        product\n",
       "count   100000  100000.000000  100000.000000  100000.000000  100000.000000\n",
       "unique   99990            NaN            NaN            NaN            NaN\n",
       "top      fiKDv            NaN            NaN            NaN            NaN\n",
       "freq         2            NaN            NaN            NaN            NaN\n",
       "mean       NaN       0.500419       0.250143       2.502647      92.500000\n",
       "std        NaN       0.871832       0.504433       3.248248      44.288691\n",
       "min        NaN      -1.408605      -0.848218     -12.088328       0.000000\n",
       "25%        NaN      -0.072580      -0.200881       0.287748      56.497507\n",
       "50%        NaN       0.502360       0.250252       2.515969      91.849972\n",
       "75%        NaN       1.073581       0.700646       4.715088     128.564089\n",
       "max        NaN       2.362331       1.343769      16.003790     185.364347"
      ]
     },
     "metadata": {},
     "output_type": "display_data"
    }
   ],
   "source": [
    "display(df_1.info(), df_1.sample(5), df_1.describe(include='all'))"
   ]
  },
  {
   "cell_type": "code",
   "execution_count": 4,
   "id": "e4d57a76",
   "metadata": {},
   "outputs": [
    {
     "data": {
      "text/plain": [
       "0"
      ]
     },
     "execution_count": 4,
     "metadata": {},
     "output_type": "execute_result"
    }
   ],
   "source": [
    "# checking the explicit duplicates\n",
    "\n",
    "df_1.duplicated().sum()"
   ]
  },
  {
   "cell_type": "markdown",
   "id": "b4b57b7e",
   "metadata": {},
   "source": [
    "**Overview the data for Region 2**"
   ]
  },
  {
   "cell_type": "code",
   "execution_count": 5,
   "id": "e765b75f",
   "metadata": {
    "scrolled": false
   },
   "outputs": [
    {
     "name": "stdout",
     "output_type": "stream",
     "text": [
      "<class 'pandas.core.frame.DataFrame'>\n",
      "RangeIndex: 100000 entries, 0 to 99999\n",
      "Data columns (total 5 columns):\n",
      " #   Column   Non-Null Count   Dtype  \n",
      "---  ------   --------------   -----  \n",
      " 0   id       100000 non-null  object \n",
      " 1   f0       100000 non-null  float64\n",
      " 2   f1       100000 non-null  float64\n",
      " 3   f2       100000 non-null  float64\n",
      " 4   product  100000 non-null  float64\n",
      "dtypes: float64(4), object(1)\n",
      "memory usage: 3.8+ MB\n"
     ]
    },
    {
     "data": {
      "text/plain": [
       "None"
      ]
     },
     "metadata": {},
     "output_type": "display_data"
    },
    {
     "data": {
      "text/html": [
       "<div>\n",
       "<style scoped>\n",
       "    .dataframe tbody tr th:only-of-type {\n",
       "        vertical-align: middle;\n",
       "    }\n",
       "\n",
       "    .dataframe tbody tr th {\n",
       "        vertical-align: top;\n",
       "    }\n",
       "\n",
       "    .dataframe thead th {\n",
       "        text-align: right;\n",
       "    }\n",
       "</style>\n",
       "<table border=\"1\" class=\"dataframe\">\n",
       "  <thead>\n",
       "    <tr style=\"text-align: right;\">\n",
       "      <th></th>\n",
       "      <th>id</th>\n",
       "      <th>f0</th>\n",
       "      <th>f1</th>\n",
       "      <th>f2</th>\n",
       "      <th>product</th>\n",
       "    </tr>\n",
       "  </thead>\n",
       "  <tbody>\n",
       "    <tr>\n",
       "      <th>33735</th>\n",
       "      <td>Ea8Nq</td>\n",
       "      <td>6.415251</td>\n",
       "      <td>-13.261488</td>\n",
       "      <td>4.999507</td>\n",
       "      <td>134.766305</td>\n",
       "    </tr>\n",
       "    <tr>\n",
       "      <th>63366</th>\n",
       "      <td>EgIYZ</td>\n",
       "      <td>7.244431</td>\n",
       "      <td>-10.096017</td>\n",
       "      <td>4.989528</td>\n",
       "      <td>134.766305</td>\n",
       "    </tr>\n",
       "    <tr>\n",
       "      <th>74068</th>\n",
       "      <td>yIHvx</td>\n",
       "      <td>10.826572</td>\n",
       "      <td>2.420038</td>\n",
       "      <td>-0.005032</td>\n",
       "      <td>0.000000</td>\n",
       "    </tr>\n",
       "    <tr>\n",
       "      <th>81976</th>\n",
       "      <td>8iiKX</td>\n",
       "      <td>17.040045</td>\n",
       "      <td>-6.108416</td>\n",
       "      <td>4.003120</td>\n",
       "      <td>107.813044</td>\n",
       "    </tr>\n",
       "    <tr>\n",
       "      <th>80773</th>\n",
       "      <td>YeLM2</td>\n",
       "      <td>12.953036</td>\n",
       "      <td>0.542463</td>\n",
       "      <td>3.002770</td>\n",
       "      <td>80.859783</td>\n",
       "    </tr>\n",
       "  </tbody>\n",
       "</table>\n",
       "</div>"
      ],
      "text/plain": [
       "          id         f0         f1        f2     product\n",
       "33735  Ea8Nq   6.415251 -13.261488  4.999507  134.766305\n",
       "63366  EgIYZ   7.244431 -10.096017  4.989528  134.766305\n",
       "74068  yIHvx  10.826572   2.420038 -0.005032    0.000000\n",
       "81976  8iiKX  17.040045  -6.108416  4.003120  107.813044\n",
       "80773  YeLM2  12.953036   0.542463  3.002770   80.859783"
      ]
     },
     "metadata": {},
     "output_type": "display_data"
    },
    {
     "data": {
      "text/html": [
       "<div>\n",
       "<style scoped>\n",
       "    .dataframe tbody tr th:only-of-type {\n",
       "        vertical-align: middle;\n",
       "    }\n",
       "\n",
       "    .dataframe tbody tr th {\n",
       "        vertical-align: top;\n",
       "    }\n",
       "\n",
       "    .dataframe thead th {\n",
       "        text-align: right;\n",
       "    }\n",
       "</style>\n",
       "<table border=\"1\" class=\"dataframe\">\n",
       "  <thead>\n",
       "    <tr style=\"text-align: right;\">\n",
       "      <th></th>\n",
       "      <th>id</th>\n",
       "      <th>f0</th>\n",
       "      <th>f1</th>\n",
       "      <th>f2</th>\n",
       "      <th>product</th>\n",
       "    </tr>\n",
       "  </thead>\n",
       "  <tbody>\n",
       "    <tr>\n",
       "      <th>count</th>\n",
       "      <td>100000</td>\n",
       "      <td>100000.000000</td>\n",
       "      <td>100000.000000</td>\n",
       "      <td>100000.000000</td>\n",
       "      <td>100000.000000</td>\n",
       "    </tr>\n",
       "    <tr>\n",
       "      <th>unique</th>\n",
       "      <td>99996</td>\n",
       "      <td>NaN</td>\n",
       "      <td>NaN</td>\n",
       "      <td>NaN</td>\n",
       "      <td>NaN</td>\n",
       "    </tr>\n",
       "    <tr>\n",
       "      <th>top</th>\n",
       "      <td>wt4Uk</td>\n",
       "      <td>NaN</td>\n",
       "      <td>NaN</td>\n",
       "      <td>NaN</td>\n",
       "      <td>NaN</td>\n",
       "    </tr>\n",
       "    <tr>\n",
       "      <th>freq</th>\n",
       "      <td>2</td>\n",
       "      <td>NaN</td>\n",
       "      <td>NaN</td>\n",
       "      <td>NaN</td>\n",
       "      <td>NaN</td>\n",
       "    </tr>\n",
       "    <tr>\n",
       "      <th>mean</th>\n",
       "      <td>NaN</td>\n",
       "      <td>1.141296</td>\n",
       "      <td>-4.796579</td>\n",
       "      <td>2.494541</td>\n",
       "      <td>68.825000</td>\n",
       "    </tr>\n",
       "    <tr>\n",
       "      <th>std</th>\n",
       "      <td>NaN</td>\n",
       "      <td>8.965932</td>\n",
       "      <td>5.119872</td>\n",
       "      <td>1.703572</td>\n",
       "      <td>45.944423</td>\n",
       "    </tr>\n",
       "    <tr>\n",
       "      <th>min</th>\n",
       "      <td>NaN</td>\n",
       "      <td>-31.609576</td>\n",
       "      <td>-26.358598</td>\n",
       "      <td>-0.018144</td>\n",
       "      <td>0.000000</td>\n",
       "    </tr>\n",
       "    <tr>\n",
       "      <th>25%</th>\n",
       "      <td>NaN</td>\n",
       "      <td>-6.298551</td>\n",
       "      <td>-8.267985</td>\n",
       "      <td>1.000021</td>\n",
       "      <td>26.953261</td>\n",
       "    </tr>\n",
       "    <tr>\n",
       "      <th>50%</th>\n",
       "      <td>NaN</td>\n",
       "      <td>1.153055</td>\n",
       "      <td>-4.813172</td>\n",
       "      <td>2.011479</td>\n",
       "      <td>57.085625</td>\n",
       "    </tr>\n",
       "    <tr>\n",
       "      <th>75%</th>\n",
       "      <td>NaN</td>\n",
       "      <td>8.621015</td>\n",
       "      <td>-1.332816</td>\n",
       "      <td>3.999904</td>\n",
       "      <td>107.813044</td>\n",
       "    </tr>\n",
       "    <tr>\n",
       "      <th>max</th>\n",
       "      <td>NaN</td>\n",
       "      <td>29.421755</td>\n",
       "      <td>18.734063</td>\n",
       "      <td>5.019721</td>\n",
       "      <td>137.945408</td>\n",
       "    </tr>\n",
       "  </tbody>\n",
       "</table>\n",
       "</div>"
      ],
      "text/plain": [
       "            id             f0             f1             f2        product\n",
       "count   100000  100000.000000  100000.000000  100000.000000  100000.000000\n",
       "unique   99996            NaN            NaN            NaN            NaN\n",
       "top      wt4Uk            NaN            NaN            NaN            NaN\n",
       "freq         2            NaN            NaN            NaN            NaN\n",
       "mean       NaN       1.141296      -4.796579       2.494541      68.825000\n",
       "std        NaN       8.965932       5.119872       1.703572      45.944423\n",
       "min        NaN     -31.609576     -26.358598      -0.018144       0.000000\n",
       "25%        NaN      -6.298551      -8.267985       1.000021      26.953261\n",
       "50%        NaN       1.153055      -4.813172       2.011479      57.085625\n",
       "75%        NaN       8.621015      -1.332816       3.999904     107.813044\n",
       "max        NaN      29.421755      18.734063       5.019721     137.945408"
      ]
     },
     "metadata": {},
     "output_type": "display_data"
    }
   ],
   "source": [
    "display(df_2.info(), df_2.sample(5), df_2.describe(include='all'))"
   ]
  },
  {
   "cell_type": "code",
   "execution_count": 6,
   "id": "3a95b8da",
   "metadata": {},
   "outputs": [
    {
     "data": {
      "text/plain": [
       "0"
      ]
     },
     "execution_count": 6,
     "metadata": {},
     "output_type": "execute_result"
    }
   ],
   "source": [
    "# checking the explicit duplicates\n",
    "\n",
    "df_2.duplicated().sum()"
   ]
  },
  {
   "cell_type": "markdown",
   "id": "5d33085f",
   "metadata": {},
   "source": [
    "**Overview the data for Region 3**"
   ]
  },
  {
   "cell_type": "code",
   "execution_count": 7,
   "id": "3c20e665",
   "metadata": {
    "scrolled": false
   },
   "outputs": [
    {
     "name": "stdout",
     "output_type": "stream",
     "text": [
      "<class 'pandas.core.frame.DataFrame'>\n",
      "RangeIndex: 100000 entries, 0 to 99999\n",
      "Data columns (total 5 columns):\n",
      " #   Column   Non-Null Count   Dtype  \n",
      "---  ------   --------------   -----  \n",
      " 0   id       100000 non-null  object \n",
      " 1   f0       100000 non-null  float64\n",
      " 2   f1       100000 non-null  float64\n",
      " 3   f2       100000 non-null  float64\n",
      " 4   product  100000 non-null  float64\n",
      "dtypes: float64(4), object(1)\n",
      "memory usage: 3.8+ MB\n"
     ]
    },
    {
     "data": {
      "text/plain": [
       "None"
      ]
     },
     "metadata": {},
     "output_type": "display_data"
    },
    {
     "data": {
      "text/html": [
       "<div>\n",
       "<style scoped>\n",
       "    .dataframe tbody tr th:only-of-type {\n",
       "        vertical-align: middle;\n",
       "    }\n",
       "\n",
       "    .dataframe tbody tr th {\n",
       "        vertical-align: top;\n",
       "    }\n",
       "\n",
       "    .dataframe thead th {\n",
       "        text-align: right;\n",
       "    }\n",
       "</style>\n",
       "<table border=\"1\" class=\"dataframe\">\n",
       "  <thead>\n",
       "    <tr style=\"text-align: right;\">\n",
       "      <th></th>\n",
       "      <th>id</th>\n",
       "      <th>f0</th>\n",
       "      <th>f1</th>\n",
       "      <th>f2</th>\n",
       "      <th>product</th>\n",
       "    </tr>\n",
       "  </thead>\n",
       "  <tbody>\n",
       "    <tr>\n",
       "      <th>3806</th>\n",
       "      <td>D8vPp</td>\n",
       "      <td>-1.512211</td>\n",
       "      <td>-0.774684</td>\n",
       "      <td>-1.045065</td>\n",
       "      <td>40.115669</td>\n",
       "    </tr>\n",
       "    <tr>\n",
       "      <th>19050</th>\n",
       "      <td>7ZAda</td>\n",
       "      <td>0.800544</td>\n",
       "      <td>-0.775542</td>\n",
       "      <td>4.107835</td>\n",
       "      <td>101.637456</td>\n",
       "    </tr>\n",
       "    <tr>\n",
       "      <th>66295</th>\n",
       "      <td>5IszV</td>\n",
       "      <td>-0.724906</td>\n",
       "      <td>1.752046</td>\n",
       "      <td>-3.139625</td>\n",
       "      <td>55.276411</td>\n",
       "    </tr>\n",
       "    <tr>\n",
       "      <th>70099</th>\n",
       "      <td>63TKU</td>\n",
       "      <td>3.825073</td>\n",
       "      <td>3.715895</td>\n",
       "      <td>-0.862341</td>\n",
       "      <td>96.688915</td>\n",
       "    </tr>\n",
       "    <tr>\n",
       "      <th>63506</th>\n",
       "      <td>0qUAG</td>\n",
       "      <td>-0.339259</td>\n",
       "      <td>-2.249991</td>\n",
       "      <td>2.018782</td>\n",
       "      <td>79.585288</td>\n",
       "    </tr>\n",
       "  </tbody>\n",
       "</table>\n",
       "</div>"
      ],
      "text/plain": [
       "          id        f0        f1        f2     product\n",
       "3806   D8vPp -1.512211 -0.774684 -1.045065   40.115669\n",
       "19050  7ZAda  0.800544 -0.775542  4.107835  101.637456\n",
       "66295  5IszV -0.724906  1.752046 -3.139625   55.276411\n",
       "70099  63TKU  3.825073  3.715895 -0.862341   96.688915\n",
       "63506  0qUAG -0.339259 -2.249991  2.018782   79.585288"
      ]
     },
     "metadata": {},
     "output_type": "display_data"
    },
    {
     "data": {
      "text/html": [
       "<div>\n",
       "<style scoped>\n",
       "    .dataframe tbody tr th:only-of-type {\n",
       "        vertical-align: middle;\n",
       "    }\n",
       "\n",
       "    .dataframe tbody tr th {\n",
       "        vertical-align: top;\n",
       "    }\n",
       "\n",
       "    .dataframe thead th {\n",
       "        text-align: right;\n",
       "    }\n",
       "</style>\n",
       "<table border=\"1\" class=\"dataframe\">\n",
       "  <thead>\n",
       "    <tr style=\"text-align: right;\">\n",
       "      <th></th>\n",
       "      <th>id</th>\n",
       "      <th>f0</th>\n",
       "      <th>f1</th>\n",
       "      <th>f2</th>\n",
       "      <th>product</th>\n",
       "    </tr>\n",
       "  </thead>\n",
       "  <tbody>\n",
       "    <tr>\n",
       "      <th>count</th>\n",
       "      <td>100000</td>\n",
       "      <td>100000.000000</td>\n",
       "      <td>100000.000000</td>\n",
       "      <td>100000.000000</td>\n",
       "      <td>100000.000000</td>\n",
       "    </tr>\n",
       "    <tr>\n",
       "      <th>unique</th>\n",
       "      <td>99996</td>\n",
       "      <td>NaN</td>\n",
       "      <td>NaN</td>\n",
       "      <td>NaN</td>\n",
       "      <td>NaN</td>\n",
       "    </tr>\n",
       "    <tr>\n",
       "      <th>top</th>\n",
       "      <td>VF7Jo</td>\n",
       "      <td>NaN</td>\n",
       "      <td>NaN</td>\n",
       "      <td>NaN</td>\n",
       "      <td>NaN</td>\n",
       "    </tr>\n",
       "    <tr>\n",
       "      <th>freq</th>\n",
       "      <td>2</td>\n",
       "      <td>NaN</td>\n",
       "      <td>NaN</td>\n",
       "      <td>NaN</td>\n",
       "      <td>NaN</td>\n",
       "    </tr>\n",
       "    <tr>\n",
       "      <th>mean</th>\n",
       "      <td>NaN</td>\n",
       "      <td>0.002023</td>\n",
       "      <td>-0.002081</td>\n",
       "      <td>2.495128</td>\n",
       "      <td>95.000000</td>\n",
       "    </tr>\n",
       "    <tr>\n",
       "      <th>std</th>\n",
       "      <td>NaN</td>\n",
       "      <td>1.732045</td>\n",
       "      <td>1.730417</td>\n",
       "      <td>3.473445</td>\n",
       "      <td>44.749921</td>\n",
       "    </tr>\n",
       "    <tr>\n",
       "      <th>min</th>\n",
       "      <td>NaN</td>\n",
       "      <td>-8.760004</td>\n",
       "      <td>-7.084020</td>\n",
       "      <td>-11.970335</td>\n",
       "      <td>0.000000</td>\n",
       "    </tr>\n",
       "    <tr>\n",
       "      <th>25%</th>\n",
       "      <td>NaN</td>\n",
       "      <td>-1.162288</td>\n",
       "      <td>-1.174820</td>\n",
       "      <td>0.130359</td>\n",
       "      <td>59.450441</td>\n",
       "    </tr>\n",
       "    <tr>\n",
       "      <th>50%</th>\n",
       "      <td>NaN</td>\n",
       "      <td>0.009424</td>\n",
       "      <td>-0.009482</td>\n",
       "      <td>2.484236</td>\n",
       "      <td>94.925613</td>\n",
       "    </tr>\n",
       "    <tr>\n",
       "      <th>75%</th>\n",
       "      <td>NaN</td>\n",
       "      <td>1.158535</td>\n",
       "      <td>1.163678</td>\n",
       "      <td>4.858794</td>\n",
       "      <td>130.595027</td>\n",
       "    </tr>\n",
       "    <tr>\n",
       "      <th>max</th>\n",
       "      <td>NaN</td>\n",
       "      <td>7.238262</td>\n",
       "      <td>7.844801</td>\n",
       "      <td>16.739402</td>\n",
       "      <td>190.029838</td>\n",
       "    </tr>\n",
       "  </tbody>\n",
       "</table>\n",
       "</div>"
      ],
      "text/plain": [
       "            id             f0             f1             f2        product\n",
       "count   100000  100000.000000  100000.000000  100000.000000  100000.000000\n",
       "unique   99996            NaN            NaN            NaN            NaN\n",
       "top      VF7Jo            NaN            NaN            NaN            NaN\n",
       "freq         2            NaN            NaN            NaN            NaN\n",
       "mean       NaN       0.002023      -0.002081       2.495128      95.000000\n",
       "std        NaN       1.732045       1.730417       3.473445      44.749921\n",
       "min        NaN      -8.760004      -7.084020     -11.970335       0.000000\n",
       "25%        NaN      -1.162288      -1.174820       0.130359      59.450441\n",
       "50%        NaN       0.009424      -0.009482       2.484236      94.925613\n",
       "75%        NaN       1.158535       1.163678       4.858794     130.595027\n",
       "max        NaN       7.238262       7.844801      16.739402     190.029838"
      ]
     },
     "metadata": {},
     "output_type": "display_data"
    }
   ],
   "source": [
    "display(df_3.info(), df_3.sample(5), df_3.describe(include='all'))"
   ]
  },
  {
   "cell_type": "code",
   "execution_count": 8,
   "id": "0849bbee",
   "metadata": {},
   "outputs": [
    {
     "data": {
      "text/plain": [
       "0"
      ]
     },
     "execution_count": 8,
     "metadata": {},
     "output_type": "execute_result"
    }
   ],
   "source": [
    "# checking the explicit duplicates\n",
    "\n",
    "df_3.duplicated().sum()"
   ]
  },
  {
   "cell_type": "markdown",
   "id": "49a1f2ed",
   "metadata": {},
   "source": [
    "**Conclusion:**\n",
    "\n",
    "- there are 100,000 objects in the datasets for each of the three regions. There are no missing values and there are no problems with the data types either.\n",
    "- the overall statistics for the three well attributes (`f0`, `f1`, `f2`) are uninformative, as there is no exact understanding of which object parameters are contained in these columns.\n",
    "- no explicit duplicates were found in any dataset. \n",
    "- In each dataset, there is a meager number of duplicate values in the `id` column: 10 duplicates in Region 1 and 4 duplicates in Regions 2 and 3 each. This may be an indication that some of the wells had multiple parameter measurements.\n",
    "- For the purpose of building machine learning models, the `id' column is irrelevant and will be removed from each dataset when the model is built."
   ]
  },
  {
   "cell_type": "markdown",
   "id": "b91acee3",
   "metadata": {},
   "source": [
    "Let's analyse the correlation between the features in each dataset."
   ]
  },
  {
   "cell_type": "code",
   "execution_count": 9,
   "id": "e99e5d90",
   "metadata": {},
   "outputs": [
    {
     "data": {
      "image/png": "[encoded data removed]",
      "text/plain": [
       "<Figure size 432x288 with 2 Axes>"
      ]
     },
     "metadata": {
      "needs_background": "light"
     },
     "output_type": "display_data"
    },
    {
     "data": {
      "image/png": "[encoded data removed]",
      "text/plain": [
       "<Figure size 432x288 with 2 Axes>"
      ]
     },
     "metadata": {
      "needs_background": "light"
     },
     "output_type": "display_data"
    },
    {
     "data": {
      "image/png": "[encoded data removed]",
      "text/plain": [
       "<Figure size 432x288 with 2 Axes>"
      ]
     },
     "metadata": {
      "needs_background": "light"
     },
     "output_type": "display_data"
    }
   ],
   "source": [
    "plt.figure()\n",
    "sns.heatmap(df_1.corr(), xticklabels=df_1.corr().columns, yticklabels=df_1.corr().columns, cmap='coolwarm', center=0, annot=True)\n",
    "plt.title('Корреляции между признаками: Регион 1', fontsize=12)\n",
    "plt.xticks(fontsize=12)\n",
    "plt.yticks(fontsize=12)\n",
    "plt.show()\n",
    "\n",
    "plt.figure()\n",
    "sns.heatmap(df_2.corr(), xticklabels=df_2.corr().columns, yticklabels=df_2.corr().columns, cmap='coolwarm', center=0, annot=True)\n",
    "plt.title('Корреляции между признаками: Регион 2', fontsize=12)\n",
    "plt.xticks(fontsize=12)\n",
    "plt.yticks(fontsize=12)\n",
    "plt.show()\n",
    "\n",
    "plt.figure()\n",
    "sns.heatmap(df_3.corr(), xticklabels=df_3.corr().columns, yticklabels=df_3.corr().columns, cmap='coolwarm', center=0, annot=True)\n",
    "plt.title('Корреляции между признаками: Регион 3', fontsize=12)\n",
    "plt.xticks(fontsize=12)\n",
    "plt.yticks(fontsize=12)\n",
    "plt.show()"
   ]
  },
  {
   "cell_type": "markdown",
   "id": "299c5ea4",
   "metadata": {},
   "source": [
    "In the dataset for Region 1, there is an average negative correlation (-0.44) between features `f0` and `f1`, and an average positive correlation (0.48) between feature `f2` and the target feature.\n",
    "\n",
    "In the dataset for Region 2, there is an absolute positive correlation (1) between the feature `f2` and the target feature. We can assume that the ML model will detect this correlation and will easily predict the target feature, demonstrating high quality.\n",
    "\n",
    "In the dataset for Region 3, there is a medium positive correlation (0.45) between the feature `f2` and the target feature."
   ]
  },
  {
   "cell_type": "markdown",
   "id": "323cdd88",
   "metadata": {},
   "source": [
    "## Model training and validation for each region"
   ]
  },
  {
   "cell_type": "markdown",
   "id": "0f4ba765",
   "metadata": {},
   "source": [
    "Given that the process of preparing data for training and model validation is the same for all three datasets, it makes sense to automate the process by writing a function. "
   ]
  },
  {
   "cell_type": "code",
   "execution_count": 10,
   "id": "2d32ff57",
   "metadata": {},
   "outputs": [],
   "source": [
    "def modelling(df):\n",
    "    \n",
    "    # defining features and target \n",
    "    features = df.drop(['id', 'product'], axis=1)\n",
    "    target = df['product']\n",
    "    \n",
    "    # splitting the data into training and validation sets in proportion of 75:25 \n",
    "    features_train, features_valid, target_train, target_valid = train_test_split(features, target, random_state=12345, test_size=0.25)\n",
    "    \n",
    "    # scaling numeric features by defining the scaler object and fitting it on train data\n",
    "    numeric = ['f0', 'f1', 'f2']\n",
    "    scaler = StandardScaler()\n",
    "    scaler.fit(features_train[numeric])\n",
    "    \n",
    "    # transforming training & validation datasets by means of transform() function\n",
    "    features_train[numeric] = scaler.transform(features_train[numeric])\n",
    "    features_valid[numeric] = scaler.transform(features_valid[numeric])\n",
    "    \n",
    "    # initializing, fitting and getting predictions of Linear Regression model\n",
    "    lg = LinearRegression(n_jobs=-1)\n",
    "    lg.fit(features_train, target_train)\n",
    "    predictions_valid = pd.Series(lg.predict(features_valid), index=target_valid.index)\n",
    "    \n",
    "    return predictions_valid, target_valid\n",
    "    "
   ]
  },
  {
   "cell_type": "markdown",
   "id": "07ec0df4",
   "metadata": {},
   "source": [
    "Will save the model predictions and the true values on the validation sample for each region in the appropriate variables."
   ]
  },
  {
   "cell_type": "code",
   "execution_count": 11,
   "id": "14a26c01",
   "metadata": {},
   "outputs": [],
   "source": [
    "df_1_pred, df_1_target_valid = modelling(df_1)\n",
    "df_2_pred, df_2_target_valid = modelling(df_2)\n",
    "df_3_pred, df_3_target_valid = modelling(df_3)"
   ]
  },
  {
   "cell_type": "markdown",
   "id": "eb0119f7",
   "metadata": {},
   "source": [
    "Let's calculate for each region the mean value of raw material stock predicted by the model, as well as the quality metric of the model - Root Mean Square Error (RMSE) metric. We will present the results of the calculations in the table."
   ]
  },
  {
   "cell_type": "code",
   "execution_count": 12,
   "id": "885b3e2b",
   "metadata": {},
   "outputs": [
    {
     "data": {
      "text/html": [
       "<div>\n",
       "<style scoped>\n",
       "    .dataframe tbody tr th:only-of-type {\n",
       "        vertical-align: middle;\n",
       "    }\n",
       "\n",
       "    .dataframe tbody tr th {\n",
       "        vertical-align: top;\n",
       "    }\n",
       "\n",
       "    .dataframe thead th {\n",
       "        text-align: right;\n",
       "    }\n",
       "</style>\n",
       "<table border=\"1\" class=\"dataframe\">\n",
       "  <thead>\n",
       "    <tr style=\"text-align: right;\">\n",
       "      <th></th>\n",
       "      <th>Регион 1</th>\n",
       "      <th>Регион 2</th>\n",
       "      <th>Регион 3</th>\n",
       "    </tr>\n",
       "  </thead>\n",
       "  <tbody>\n",
       "    <tr>\n",
       "      <th>Средний запас предсказанного сырья, тыс. баррелей</th>\n",
       "      <td>92.592568</td>\n",
       "      <td>68.728547</td>\n",
       "      <td>94.965046</td>\n",
       "    </tr>\n",
       "    <tr>\n",
       "      <th>RMSE модели</th>\n",
       "      <td>37.579422</td>\n",
       "      <td>0.893099</td>\n",
       "      <td>40.029709</td>\n",
       "    </tr>\n",
       "  </tbody>\n",
       "</table>\n",
       "</div>"
      ],
      "text/plain": [
       "                                                    Регион 1   Регион 2  \\\n",
       "Средний запас предсказанного сырья, тыс. баррелей  92.592568  68.728547   \n",
       "RMSE модели                                        37.579422   0.893099   \n",
       "\n",
       "                                                    Регион 3  \n",
       "Средний запас предсказанного сырья, тыс. баррелей  94.965046  \n",
       "RMSE модели                                        40.029709  "
      ]
     },
     "execution_count": 12,
     "metadata": {},
     "output_type": "execute_result"
    }
   ],
   "source": [
    "pd.DataFrame({'Регион 1':[df_1_pred.mean(),mean_squared_error(df_1_target_valid, df_1_pred)**0.5], \n",
    "              'Регион 2': [df_2_pred.mean(),mean_squared_error(df_2_target_valid, df_2_pred)**0.5], \n",
    "              'Регион 3':[df_3_pred.mean(), mean_squared_error(df_3_target_valid, df_3_pred)**0.5]}, \n",
    "              index=['Средний запас предсказанного сырья, тыс. баррелей','RMSE модели'])"
   ]
  },
  {
   "cell_type": "markdown",
   "id": "9ce8807d",
   "metadata": {},
   "source": [
    "The calculation results show a roughly comparable picture for regions 1 and 3, in terms of average predicted crude stock (92.6t and 95t barrels, respectively). However, the error value for both models is also extremely high, indicating that the risk of profit shortfalls due to erroneous predictions is very high.\n",
    "\n",
    "Region 2 has a lower average stock of predicted production, but the error is very low, which is also a very questionable fact (the model predicts with almost 100% accuracy). Let us look at the distribution of the target feature for Region 2. "
   ]
  },
  {
   "cell_type": "code",
   "execution_count": 13,
   "id": "8437db06",
   "metadata": {},
   "outputs": [
    {
     "data": {
      "text/plain": [
       "53.906522     8472\n",
       "26.953261     8468\n",
       "84.038886     8431\n",
       "57.085625     8390\n",
       "3.179103      8337\n",
       "80.859783     8320\n",
       "30.132364     8306\n",
       "134.766305    8304\n",
       "110.992147    8303\n",
       "0.000000      8235\n",
       "137.945408    8233\n",
       "107.813044    8201\n",
       "Name: product, dtype: int64"
      ]
     },
     "execution_count": 13,
     "metadata": {},
     "output_type": "execute_result"
    }
   ],
   "source": [
    "df_2['product'].value_counts()"
   ]
  },
  {
   "cell_type": "code",
   "execution_count": 14,
   "id": "80c940f4",
   "metadata": {},
   "outputs": [
    {
     "data": {
      "text/plain": [
       "100000"
      ]
     },
     "metadata": {},
     "output_type": "display_data"
    },
    {
     "data": {
      "text/plain": [
       "12"
      ]
     },
     "metadata": {},
     "output_type": "display_data"
    },
    {
     "data": {
      "text/plain": [
       "100000"
      ]
     },
     "metadata": {},
     "output_type": "display_data"
    }
   ],
   "source": [
    "display(df_1['product'].nunique(), df_2['product'].nunique(), df_3['product'].nunique())"
   ]
  },
  {
   "cell_type": "markdown",
   "id": "cb9e4f50",
   "metadata": {},
   "source": [
    "This low RMSE value is now more understandable. After all, there are only 12 unique values out of 100000 in the target feature, which gives the model almost 100% predictive accuracy. "
   ]
  },
  {
   "cell_type": "markdown",
   "id": "855bf44e",
   "metadata": {},
   "source": [
    "## Preparation for profit calculation"
   ]
  },
  {
   "cell_type": "markdown",
   "id": "f2b155b2",
   "metadata": {},
   "source": [
    "According to the condition of the task, the best 200 wells are selected for development out of 500 wells under study, based on the model's prediction. \n",
    "\n",
    "The total budget for the development of 200 wells is 10 billion roubles.\n",
    "\n",
    "The price per barrel = RUB 450. Since the volume of wells' reserves is given in thousands of barrels, the unit cost (i.e., thousands of barrels) is 450000 roubles.\n",
    "\n",
    "Thus, the calculation of the break-even point consists in determining the minimum required volume of raw materials in the well, at which the income from its development will cover the costs of its development. "
   ]
  },
  {
   "cell_type": "code",
   "execution_count": 15,
   "id": "e0e329c8",
   "metadata": {},
   "outputs": [],
   "source": [
    "# Input parameters\n",
    "\n",
    "total_well = 500 # total number of wells explored in the region\n",
    "well_num = 200 # the number of potentially most profitable wells selected by the ML model for development  \n",
    "total_budget = 10000000000 # total budget for developing 200 wells in the region\n",
    "price_per_product = 450000 # cost of a thousand of barrels (stocks are also shown in thousands of barrels)"
   ]
  },
  {
   "cell_type": "code",
   "execution_count": 16,
   "id": "2f1983f0",
   "metadata": {},
   "outputs": [
    {
     "name": "stdout",
     "output_type": "stream",
     "text": [
      "Стоимость разработки одной скважины, руб.: 50000000.0\n"
     ]
    }
   ],
   "source": [
    "# Calculating the budget for developing one well\n",
    "\n",
    "budget_per_well = total_budget / well_num\n",
    "print('Стоимость разработки одной скважины, руб.:', budget_per_well)"
   ]
  },
  {
   "cell_type": "code",
   "execution_count": 17,
   "id": "2d18dc0c",
   "metadata": {},
   "outputs": [
    {
     "name": "stdout",
     "output_type": "stream",
     "text": [
      "Минимальный объём сырья для безубыточной разработки новой скважины, тыч. баррелей: 111.11111111111111\n"
     ]
    }
   ],
   "source": [
    "# Calculate the break-even point = the minimum amount of raw material in the well required to cover its development costs\n",
    "\n",
    "min_product_volume = budget_per_well / price_per_product\n",
    "print('Минимальный объём сырья для безубыточной разработки новой скважины, тыч. баррелей:', min_product_volume)"
   ]
  },
  {
   "cell_type": "markdown",
   "id": "c985c155",
   "metadata": {},
   "source": [
    "**Conclusion:**\n",
    "\n",
    "For a well to break even, it must have a reserve of at least 111,000 barrels. Otherwise, the investment in well development will not pay off.\n",
    "\n",
    "The average model predictions for each of the three regions indicate a lower average feedstock in the well than is needed to break-even. In this case, the average stock in the well does not allow a definitive conclusion about the selection of the most profitable region. \n",
    "\n",
    "**It is necessary to select the potentially most profitable wells where the predicted feedstock will be higher than the break-even point."
   ]
  },
  {
   "cell_type": "markdown",
   "id": "b1929c54",
   "metadata": {},
   "source": [
    "## Function for profit calculation"
   ]
  },
  {
   "cell_type": "markdown",
   "id": "6f82bcef",
   "metadata": {},
   "source": [
    "Let's write a function to calculate the profit from the selected wells and model predictions. To do this:\n",
    "1. let's select the wells with maximum values of model predictions. According to the conditions of the task, 200 wells with the highest predicted feedstock are selected.\n",
    "2. Let's sum up the target value of raw material volume corresponding to these predictions.\n",
    "3. Let's calculate the profit for the obtained volume of raw materials. We calculate the profit as the difference between revenue and investment in well development."
   ]
  },
  {
   "cell_type": "code",
   "execution_count": 18,
   "id": "739baa36",
   "metadata": {},
   "outputs": [],
   "source": [
    "# function to calculate profits from selected wells and model predictions.\n",
    "\n",
    "def revenue(target, probabilities, count):\n",
    "    probs_sorted = probabilities.sort_values(ascending=False)\n",
    "    selected = target[probs_sorted.index][:count]\n",
    "    return round((price_per_product * selected.sum() - total_budget)/1000000000,2)"
   ]
  },
  {
   "cell_type": "code",
   "execution_count": 19,
   "id": "84ef3f21",
   "metadata": {},
   "outputs": [
    {
     "name": "stdout",
     "output_type": "stream",
     "text": [
      "Общая прибыль по Региону 1: 3.32 млрд. рублей\n",
      "Общая прибыль по Региону 2: 2.42 млрд. рублей\n",
      "Общая прибыль по Региону 3: 2.71 млрд. рублей\n"
     ]
    }
   ],
   "source": [
    "print(f'Общая прибыль по Региону 1: {revenue(df_1_target_valid, df_1_pred, well_num)} млрд. рублей')\n",
    "print(f'Общая прибыль по Региону 2: {revenue(df_2_target_valid, df_2_pred, well_num)} млрд. рублей')\n",
    "print(f'Общая прибыль по Региону 3: {revenue(df_3_target_valid, df_3_pred, well_num)} млрд. рублей')"
   ]
  },
  {
   "cell_type": "markdown",
   "id": "786438f2",
   "metadata": {},
   "source": [
    "The calculations show that the highest profit from the calculation of the top 200 wells in terms of raw material reserves predicted by the model is observed in Region 1 = 3.32 billion roubles. Based on these calculations, we can assume that Region 1 is our choice for well development."
   ]
  },
  {
   "cell_type": "markdown",
   "id": "f262e89e",
   "metadata": {},
   "source": [
    "## Calculation of risks and profits for each region"
   ]
  },
  {
   "cell_type": "markdown",
   "id": "e4f854dc",
   "metadata": {},
   "source": [
    "Let's calculate the risks and profits for each region. To do this:\n",
    "1. Will apply the Bootstrap technique with 1000 samples to find the profit distribution.\n",
    "2. Will find the average profit, the 95% confidence interval and the risk of loss. We will consider a negative profit to be a loss."
   ]
  },
  {
   "cell_type": "code",
   "execution_count": 20,
   "id": "bce31c4f",
   "metadata": {},
   "outputs": [],
   "source": [
    "# function to calculate profits and risks using Bootstrap technique with 1000 samples\n",
    "\n",
    "state = np.random.RandomState(12345)\n",
    "\n",
    "def revenue_risk_calc(target, probabilities):\n",
    "    \n",
    "    profit = [] # creating a list to consolidate the profit values calculated for each of the 1000 samples\n",
    "    \n",
    "    for i in range(1000):\n",
    "        target_subsample = target.sample(n=total_well, random_state=state, replace=True)\n",
    "        probs_subsample = probabilities[target_subsample.index]\n",
    "        \n",
    "        profit.append(revenue(target_subsample, probs_subsample, well_num))\n",
    "        \n",
    "    profit = pd.Series(profit)\n",
    "    mean_profit = profit.mean() # calculating average profit\n",
    "    confidence_interval = (profit.quantile(0.025), profit.quantile(0.975)) # Calculating a 95% confidence interval, eliminating 2.5% from the bottom and top \n",
    "    risk = (profit<0).mean() # calculating the risk of loss (profit value less than 0)\n",
    "    \n",
    "    print(f'\\tСредняя прибыль: {mean_profit:.3f} млрд. рублей')\n",
    "    print(f'\\t95%-й доверительный интервал: {confidence_interval} млрд. рублей')\n",
    "    print(f'\\tРиск убытков: {risk:.2%}')\n",
    "    "
   ]
  },
  {
   "cell_type": "markdown",
   "id": "80e96aea",
   "metadata": {},
   "source": [
    "Let us calculate the average profit, the 95% confidence interval and the risk of loss separately for each of the regions."
   ]
  },
  {
   "cell_type": "code",
   "execution_count": 21,
   "id": "265402c7",
   "metadata": {},
   "outputs": [
    {
     "name": "stdout",
     "output_type": "stream",
     "text": [
      "Регион 1:\n",
      "\tСредняя прибыль: 0.426 млрд. рублей\n",
      "\t95%-й доверительный интервал: (-0.1, 0.95) млрд. рублей\n",
      "\tРиск убытков: 5.90%\n",
      "\n",
      "Регион 2:\n",
      "\tСредняя прибыль: 0.518 млрд. рублей\n",
      "\t95%-й доверительный интервал: (0.13, 0.9502499999999997) млрд. рублей\n",
      "\tРиск убытков: 0.20%\n",
      "\n",
      "Регион 3:\n",
      "\tСредняя прибыль: 0.420 млрд. рублей\n",
      "\t95%-й доверительный интервал: (-0.12, 0.99) млрд. рублей\n",
      "\tРиск убытков: 5.80%\n"
     ]
    }
   ],
   "source": [
    "print('Регион 1:')\n",
    "revenue_risk_calc(df_1_target_valid, df_1_pred)\n",
    "\n",
    "print('\\nРегион 2:')\n",
    "revenue_risk_calc(df_2_target_valid, df_2_pred)\n",
    "\n",
    "print('\\nРегион 3:')\n",
    "revenue_risk_calc(df_3_target_valid, df_3_pred)"
   ]
  },
  {
   "cell_type": "markdown",
   "id": "d07c7a14",
   "metadata": {},
   "source": [
    "**Conclusion:**\n",
    "\n",
    "As a result of applying Bootstrap technique (extracting from a total sample the 1000 subsamples of 500 wells per region), our calculations show that the only eligible region (probability of loss less than 2.5%) is Region 2, where all KPIs performed the best.\n",
    "\n",
    "In this region, we observe the following indicators:\n",
    "\n",
    "- The risk of loss is only 0.2%, which is a very low figure, indicating that investment in the development of this region is practically risk-free;\n",
    "- The average profit is 518 million roubles;\n",
    "- 95% confidence interval (RUB 130 - 950 million) is the narrowest among all regions and does not contain negative values."
   ]
  }
 ],
 "metadata": {
  "kernelspec": {
   "display_name": "Python 3 (ipykernel)",
   "language": "python",
   "name": "python3"
  },
  "language_info": {
   "codemirror_mode": {
    "name": "ipython",
    "version": 3
   },
   "file_extension": ".py",
   "mimetype": "text/x-python",
   "name": "python",
   "nbconvert_exporter": "python",
   "pygments_lexer": "ipython3",
   "version": "3.9.7"
  },
  "toc": {
   "base_numbering": 1,
   "nav_menu": {},
   "number_sections": true,
   "sideBar": true,
   "skip_h1_title": true,
   "title_cell": "Contents",
   "title_sidebar": "Contents",
   "toc_cell": true,
   "toc_position": {
    "height": "calc(100% - 180px)",
    "left": "10px",
    "top": "150px",
    "width": "303.825px"
   },
   "toc_section_display": true,
   "toc_window_display": true
  }
 },
 "nbformat": 4,
 "nbformat_minor": 5
}
