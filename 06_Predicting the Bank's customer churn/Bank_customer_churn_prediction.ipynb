{
 "cells": [
  {
   "cell_type": "markdown",
   "id": "8206364d",
   "metadata": {
    "toc": true
   },
   "source": [
    "<h1>Contents<span class=\"tocSkip\"></span></h1>\n",
    "<div class=\"toc\"><ul class=\"toc-item\"><li><span><a href=\"#Data-preparation\" data-toc-modified-id=\"Data-preparation-1\"><span class=\"toc-item-num\">1&nbsp;&nbsp;</span>Data preparation</a></span><ul class=\"toc-item\"><li><span><a href=\"#Examining-the-data\" data-toc-modified-id=\"Examining-the-data-1.1\"><span class=\"toc-item-num\">1.1&nbsp;&nbsp;</span>Examining the data</a></span></li><li><span><a href=\"#Defining-variables-with-features-and-target-feature\" data-toc-modified-id=\"Defining-variables-with-features-and-target-feature-1.2\"><span class=\"toc-item-num\">1.2&nbsp;&nbsp;</span>Defining variables with features and target feature</a></span></li><li><span><a href=\"#Splitting-the-dataset-into-training,-validation-and-testing-samples\" data-toc-modified-id=\"Splitting-the-dataset-into-training,-validation-and-testing-samples-1.3\"><span class=\"toc-item-num\">1.3&nbsp;&nbsp;</span>Splitting the dataset into training, validation and testing samples</a></span></li><li><span><a href=\"#Features-scaling\" data-toc-modified-id=\"Features-scaling-1.4\"><span class=\"toc-item-num\">1.4&nbsp;&nbsp;</span>Features scaling</a></span></li></ul></li><li><span><a href=\"#Class-balance-examination\" data-toc-modified-id=\"Class-balance-examination-2\"><span class=\"toc-item-num\">2&nbsp;&nbsp;</span>Class balance examination</a></span><ul class=\"toc-item\"><li><span><a href=\"#Class-balance-examination\" data-toc-modified-id=\"Class-balance-examination-2.1\"><span class=\"toc-item-num\">2.1&nbsp;&nbsp;</span>Class balance examination</a></span></li><li><span><a href=\"#Model-building-without-class-imbalances\" data-toc-modified-id=\"Model-building-without-class-imbalances-2.2\"><span class=\"toc-item-num\">2.2&nbsp;&nbsp;</span>Model building without class imbalances</a></span><ul class=\"toc-item\"><li><span><a href=\"#Decision-Tree-Classifier\" data-toc-modified-id=\"Decision-Tree-Classifier-2.2.1\"><span class=\"toc-item-num\">2.2.1&nbsp;&nbsp;</span>Decision Tree Classifier</a></span></li><li><span><a href=\"#Random-Forest-Classifier\" data-toc-modified-id=\"Random-Forest-Classifier-2.2.2\"><span class=\"toc-item-num\">2.2.2&nbsp;&nbsp;</span>Random Forest Classifier</a></span></li><li><span><a href=\"#Logistic-Regression\" data-toc-modified-id=\"Logistic-Regression-2.2.3\"><span class=\"toc-item-num\">2.2.3&nbsp;&nbsp;</span>Logistic Regression</a></span></li></ul></li></ul></li><li><span><a href=\"#Improving-the-quality-of-the-model,-given-the-imbalance-of-classes\" data-toc-modified-id=\"Improving-the-quality-of-the-model,-given-the-imbalance-of-classes-3\"><span class=\"toc-item-num\">3&nbsp;&nbsp;</span>Improving the quality of the model, given the imbalance of classes</a></span><ul class=\"toc-item\"><li><span><a href=\"#Weighing-classes\" data-toc-modified-id=\"Weighing-classes-3.1\"><span class=\"toc-item-num\">3.1&nbsp;&nbsp;</span>Weighing classes</a></span><ul class=\"toc-item\"><li><span><a href=\"#Decision-Tree-Classifier\" data-toc-modified-id=\"Decision-Tree-Classifier-3.1.1\"><span class=\"toc-item-num\">3.1.1&nbsp;&nbsp;</span>Decision Tree Classifier</a></span></li><li><span><a href=\"#Random-Forest-Classifier\" data-toc-modified-id=\"Random-Forest-Classifier-3.1.2\"><span class=\"toc-item-num\">3.1.2&nbsp;&nbsp;</span>Random Forest Classifier</a></span></li></ul></li><li><span><a href=\"#Upsampling\" data-toc-modified-id=\"Upsampling-3.2\"><span class=\"toc-item-num\">3.2&nbsp;&nbsp;</span>Upsampling</a></span><ul class=\"toc-item\"><li><span><a href=\"#Decision-Tree-Classifier\" data-toc-modified-id=\"Decision-Tree-Classifier-3.2.1\"><span class=\"toc-item-num\">3.2.1&nbsp;&nbsp;</span>Decision Tree Classifier</a></span></li><li><span><a href=\"#Random-Forest-Classifier\" data-toc-modified-id=\"Random-Forest-Classifier-3.2.2\"><span class=\"toc-item-num\">3.2.2&nbsp;&nbsp;</span>Random Forest Classifier</a></span></li></ul></li><li><span><a href=\"#Downsampling\" data-toc-modified-id=\"Downsampling-3.3\"><span class=\"toc-item-num\">3.3&nbsp;&nbsp;</span>Downsampling</a></span><ul class=\"toc-item\"><li><span><a href=\"#Decision-Tree-Classifier\" data-toc-modified-id=\"Decision-Tree-Classifier-3.3.1\"><span class=\"toc-item-num\">3.3.1&nbsp;&nbsp;</span>Decision Tree Classifier</a></span></li><li><span><a href=\"#Random-Forest-Classifier\" data-toc-modified-id=\"Random-Forest-Classifier-3.3.2\"><span class=\"toc-item-num\">3.3.2&nbsp;&nbsp;</span>Random Forest Classifier</a></span></li></ul></li><li><span><a href=\"#Aggrigated-table-of-models-with-the-best-F1-Score-metrics\" data-toc-modified-id=\"Aggrigated-table-of-models-with-the-best-F1-Score-metrics-3.4\"><span class=\"toc-item-num\">3.4&nbsp;&nbsp;</span>Aggrigated table of models with the best F1-Score metrics</a></span></li></ul></li><li><span><a href=\"#Model-testing\" data-toc-modified-id=\"Model-testing-4\"><span class=\"toc-item-num\">4&nbsp;&nbsp;</span>Model testing</a></span><ul class=\"toc-item\"><li><span><a href=\"#Struggle-for-model-quality\" data-toc-modified-id=\"Struggle-for-model-quality-4.1\"><span class=\"toc-item-num\">4.1&nbsp;&nbsp;</span>Struggle for model quality</a></span></li><li><span><a href=\"#Conclusion\" data-toc-modified-id=\"Conclusion-4.2\"><span class=\"toc-item-num\">4.2&nbsp;&nbsp;</span>Conclusion</a></span></li></ul></li></ul></div>"
   ]
  },
  {
   "cell_type": "markdown",
   "id": "300a0621",
   "metadata": {},
   "source": [
    "# Project description: Customer churn at Beta Bank"
   ]
  },
  {
   "cell_type": "markdown",
   "id": "51e3a657",
   "metadata": {},
   "source": [
    "Clients have started leaving Beta Bank. Every month. Not many, but noticeable. The bank's marketing experts have calculated that it is cheaper to retain current clients than to attract new ones.\n",
    "\n",
    "We need to predict whether a client will leave the bank in the near future or not. We have been given historical data on customer behaviour and termination of contracts with the bank.\n",
    "\n",
    "We need to build a model with an extremely high value of F1-measure. We need to increase the metric to 0.59. Will verify the F1-value on the test sample by ourselves.\n",
    "\n",
    "Additionally will measure AUC-ROC by comparing its value with F1-measure.\n",
    "\n",
    "**Data description**.\n",
    "\n",
    "<u>Features</u>.\n",
    "\n",
    "- RowNumber - index of the row in the data\n",
    "- CustomerId - unique identifier of the client\n",
    "- Surname - last name\n",
    "- CreditScore - credit rating\n",
    "- Geography - country of residence\n",
    "- Gender - gender\n",
    "- Age - age\n",
    "- Tenure - how many years the person has been the client of the bank\n",
    "- Balance - account balance\n",
    "- NumOfProducts - number of products used by the client\n",
    "- HasCrCard - availability of credit card\n",
    "- IsActiveMember - activity of the client\n",
    "- EstimatedSalary - estimated salary\n",
    "\n",
    "<u>Target feature</u>\n",
    "\n",
    "- Exited - fact that the client has left"
   ]
  },
  {
   "cell_type": "markdown",
   "id": "8a8e8295",
   "metadata": {},
   "source": [
    "## Data preparation"
   ]
  },
  {
   "cell_type": "code",
   "execution_count": 1,
   "id": "24c21e08",
   "metadata": {},
   "outputs": [],
   "source": [
    "# Import the required libraries \n",
    "\n",
    "import pandas as pd\n",
    "import numpy as np\n",
    "\n",
    "import matplotlib.pyplot as plt\n",
    "import seaborn as sns\n",
    "\n",
    "from sklearn.model_selection import train_test_split\n",
    "from sklearn.model_selection import GridSearchCV\n",
    "from sklearn.preprocessing import StandardScaler\n",
    "from sklearn.preprocessing import OrdinalEncoder\n",
    "from sklearn.utils import shuffle\n",
    "\n",
    "from sklearn.tree import DecisionTreeClassifier\n",
    "from sklearn.ensemble import RandomForestClassifier\n",
    "from sklearn.linear_model import LogisticRegression\n",
    "\n",
    "from sklearn.metrics import roc_curve\n",
    "from sklearn.metrics import roc_auc_score\n",
    "from sklearn.metrics import precision_recall_curve\n",
    "from sklearn.metrics import confusion_matrix\n",
    "from sklearn.metrics import classification_report\n",
    "from sklearn.metrics import f1_score\n",
    "\n",
    "import warnings\n",
    "warnings.filterwarnings('ignore')"
   ]
  },
  {
   "cell_type": "markdown",
   "id": "0cd059df",
   "metadata": {},
   "source": [
    "### Examining the data"
   ]
  },
  {
   "cell_type": "code",
   "execution_count": 2,
   "id": "d34c770c",
   "metadata": {},
   "outputs": [],
   "source": [
    "# reading data\n",
    "\n",
    "try:\n",
    "    df = pd.read_csv('Churn.csv')\n",
    "    \n",
    "except:\n",
    "    df = pd.read_csv('/datasets/Churn.csv')"
   ]
  },
  {
   "cell_type": "code",
   "execution_count": 3,
   "id": "bc4a1452",
   "metadata": {},
   "outputs": [
    {
     "name": "stdout",
     "output_type": "stream",
     "text": [
      "<class 'pandas.core.frame.DataFrame'>\n",
      "RangeIndex: 10000 entries, 0 to 9999\n",
      "Data columns (total 14 columns):\n",
      " #   Column           Non-Null Count  Dtype  \n",
      "---  ------           --------------  -----  \n",
      " 0   RowNumber        10000 non-null  int64  \n",
      " 1   CustomerId       10000 non-null  int64  \n",
      " 2   Surname          10000 non-null  object \n",
      " 3   CreditScore      10000 non-null  int64  \n",
      " 4   Geography        10000 non-null  object \n",
      " 5   Gender           10000 non-null  object \n",
      " 6   Age              10000 non-null  int64  \n",
      " 7   Tenure           9091 non-null   float64\n",
      " 8   Balance          10000 non-null  float64\n",
      " 9   NumOfProducts    10000 non-null  int64  \n",
      " 10  HasCrCard        10000 non-null  int64  \n",
      " 11  IsActiveMember   10000 non-null  int64  \n",
      " 12  EstimatedSalary  10000 non-null  float64\n",
      " 13  Exited           10000 non-null  int64  \n",
      "dtypes: float64(3), int64(8), object(3)\n",
      "memory usage: 1.1+ MB\n"
     ]
    },
    {
     "data": {
      "text/plain": [
       "None"
      ]
     },
     "metadata": {},
     "output_type": "display_data"
    },
    {
     "data": {
      "text/html": [
       "<div>\n",
       "<style scoped>\n",
       "    .dataframe tbody tr th:only-of-type {\n",
       "        vertical-align: middle;\n",
       "    }\n",
       "\n",
       "    .dataframe tbody tr th {\n",
       "        vertical-align: top;\n",
       "    }\n",
       "\n",
       "    .dataframe thead th {\n",
       "        text-align: right;\n",
       "    }\n",
       "</style>\n",
       "<table border=\"1\" class=\"dataframe\">\n",
       "  <thead>\n",
       "    <tr style=\"text-align: right;\">\n",
       "      <th></th>\n",
       "      <th>RowNumber</th>\n",
       "      <th>CustomerId</th>\n",
       "      <th>Surname</th>\n",
       "      <th>CreditScore</th>\n",
       "      <th>Geography</th>\n",
       "      <th>Gender</th>\n",
       "      <th>Age</th>\n",
       "      <th>Tenure</th>\n",
       "      <th>Balance</th>\n",
       "      <th>NumOfProducts</th>\n",
       "      <th>HasCrCard</th>\n",
       "      <th>IsActiveMember</th>\n",
       "      <th>EstimatedSalary</th>\n",
       "      <th>Exited</th>\n",
       "    </tr>\n",
       "  </thead>\n",
       "  <tbody>\n",
       "    <tr>\n",
       "      <th>6668</th>\n",
       "      <td>6669</td>\n",
       "      <td>15793671</td>\n",
       "      <td>Watt</td>\n",
       "      <td>606</td>\n",
       "      <td>France</td>\n",
       "      <td>Male</td>\n",
       "      <td>34</td>\n",
       "      <td>5.0</td>\n",
       "      <td>0.00</td>\n",
       "      <td>1</td>\n",
       "      <td>1</td>\n",
       "      <td>0</td>\n",
       "      <td>161971.42</td>\n",
       "      <td>0</td>\n",
       "    </tr>\n",
       "    <tr>\n",
       "      <th>2082</th>\n",
       "      <td>2083</td>\n",
       "      <td>15617617</td>\n",
       "      <td>Stewart</td>\n",
       "      <td>811</td>\n",
       "      <td>Spain</td>\n",
       "      <td>Male</td>\n",
       "      <td>39</td>\n",
       "      <td>7.0</td>\n",
       "      <td>0.00</td>\n",
       "      <td>2</td>\n",
       "      <td>1</td>\n",
       "      <td>1</td>\n",
       "      <td>177519.39</td>\n",
       "      <td>0</td>\n",
       "    </tr>\n",
       "    <tr>\n",
       "      <th>1731</th>\n",
       "      <td>1732</td>\n",
       "      <td>15721730</td>\n",
       "      <td>Amechi</td>\n",
       "      <td>601</td>\n",
       "      <td>Spain</td>\n",
       "      <td>Female</td>\n",
       "      <td>44</td>\n",
       "      <td>4.0</td>\n",
       "      <td>0.00</td>\n",
       "      <td>2</td>\n",
       "      <td>1</td>\n",
       "      <td>0</td>\n",
       "      <td>58561.31</td>\n",
       "      <td>0</td>\n",
       "    </tr>\n",
       "    <tr>\n",
       "      <th>7215</th>\n",
       "      <td>7216</td>\n",
       "      <td>15684440</td>\n",
       "      <td>Monaldo</td>\n",
       "      <td>548</td>\n",
       "      <td>Germany</td>\n",
       "      <td>Male</td>\n",
       "      <td>32</td>\n",
       "      <td>2.0</td>\n",
       "      <td>98986.28</td>\n",
       "      <td>1</td>\n",
       "      <td>1</td>\n",
       "      <td>1</td>\n",
       "      <td>55867.38</td>\n",
       "      <td>0</td>\n",
       "    </tr>\n",
       "    <tr>\n",
       "      <th>8829</th>\n",
       "      <td>8830</td>\n",
       "      <td>15769955</td>\n",
       "      <td>Onuora</td>\n",
       "      <td>683</td>\n",
       "      <td>France</td>\n",
       "      <td>Female</td>\n",
       "      <td>40</td>\n",
       "      <td>1.0</td>\n",
       "      <td>0.00</td>\n",
       "      <td>2</td>\n",
       "      <td>0</td>\n",
       "      <td>0</td>\n",
       "      <td>75762.00</td>\n",
       "      <td>0</td>\n",
       "    </tr>\n",
       "  </tbody>\n",
       "</table>\n",
       "</div>"
      ],
      "text/plain": [
       "      RowNumber  CustomerId  Surname  CreditScore Geography  Gender  Age  \\\n",
       "6668       6669    15793671     Watt          606    France    Male   34   \n",
       "2082       2083    15617617  Stewart          811     Spain    Male   39   \n",
       "1731       1732    15721730   Amechi          601     Spain  Female   44   \n",
       "7215       7216    15684440  Monaldo          548   Germany    Male   32   \n",
       "8829       8830    15769955   Onuora          683    France  Female   40   \n",
       "\n",
       "      Tenure   Balance  NumOfProducts  HasCrCard  IsActiveMember  \\\n",
       "6668     5.0      0.00              1          1               0   \n",
       "2082     7.0      0.00              2          1               1   \n",
       "1731     4.0      0.00              2          1               0   \n",
       "7215     2.0  98986.28              1          1               1   \n",
       "8829     1.0      0.00              2          0               0   \n",
       "\n",
       "      EstimatedSalary  Exited  \n",
       "6668        161971.42       0  \n",
       "2082        177519.39       0  \n",
       "1731         58561.31       0  \n",
       "7215         55867.38       0  \n",
       "8829         75762.00       0  "
      ]
     },
     "metadata": {},
     "output_type": "display_data"
    },
    {
     "data": {
      "text/html": [
       "<div>\n",
       "<style scoped>\n",
       "    .dataframe tbody tr th:only-of-type {\n",
       "        vertical-align: middle;\n",
       "    }\n",
       "\n",
       "    .dataframe tbody tr th {\n",
       "        vertical-align: top;\n",
       "    }\n",
       "\n",
       "    .dataframe thead th {\n",
       "        text-align: right;\n",
       "    }\n",
       "</style>\n",
       "<table border=\"1\" class=\"dataframe\">\n",
       "  <thead>\n",
       "    <tr style=\"text-align: right;\">\n",
       "      <th></th>\n",
       "      <th>RowNumber</th>\n",
       "      <th>CustomerId</th>\n",
       "      <th>Surname</th>\n",
       "      <th>CreditScore</th>\n",
       "      <th>Geography</th>\n",
       "      <th>Gender</th>\n",
       "      <th>Age</th>\n",
       "      <th>Tenure</th>\n",
       "      <th>Balance</th>\n",
       "      <th>NumOfProducts</th>\n",
       "      <th>HasCrCard</th>\n",
       "      <th>IsActiveMember</th>\n",
       "      <th>EstimatedSalary</th>\n",
       "      <th>Exited</th>\n",
       "    </tr>\n",
       "  </thead>\n",
       "  <tbody>\n",
       "    <tr>\n",
       "      <th>count</th>\n",
       "      <td>10000.00000</td>\n",
       "      <td>1.000000e+04</td>\n",
       "      <td>10000</td>\n",
       "      <td>10000.000000</td>\n",
       "      <td>10000</td>\n",
       "      <td>10000</td>\n",
       "      <td>10000.000000</td>\n",
       "      <td>9091.000000</td>\n",
       "      <td>10000.000000</td>\n",
       "      <td>10000.000000</td>\n",
       "      <td>10000.00000</td>\n",
       "      <td>10000.000000</td>\n",
       "      <td>10000.000000</td>\n",
       "      <td>10000.000000</td>\n",
       "    </tr>\n",
       "    <tr>\n",
       "      <th>unique</th>\n",
       "      <td>NaN</td>\n",
       "      <td>NaN</td>\n",
       "      <td>2932</td>\n",
       "      <td>NaN</td>\n",
       "      <td>3</td>\n",
       "      <td>2</td>\n",
       "      <td>NaN</td>\n",
       "      <td>NaN</td>\n",
       "      <td>NaN</td>\n",
       "      <td>NaN</td>\n",
       "      <td>NaN</td>\n",
       "      <td>NaN</td>\n",
       "      <td>NaN</td>\n",
       "      <td>NaN</td>\n",
       "    </tr>\n",
       "    <tr>\n",
       "      <th>top</th>\n",
       "      <td>NaN</td>\n",
       "      <td>NaN</td>\n",
       "      <td>Smith</td>\n",
       "      <td>NaN</td>\n",
       "      <td>France</td>\n",
       "      <td>Male</td>\n",
       "      <td>NaN</td>\n",
       "      <td>NaN</td>\n",
       "      <td>NaN</td>\n",
       "      <td>NaN</td>\n",
       "      <td>NaN</td>\n",
       "      <td>NaN</td>\n",
       "      <td>NaN</td>\n",
       "      <td>NaN</td>\n",
       "    </tr>\n",
       "    <tr>\n",
       "      <th>freq</th>\n",
       "      <td>NaN</td>\n",
       "      <td>NaN</td>\n",
       "      <td>32</td>\n",
       "      <td>NaN</td>\n",
       "      <td>5014</td>\n",
       "      <td>5457</td>\n",
       "      <td>NaN</td>\n",
       "      <td>NaN</td>\n",
       "      <td>NaN</td>\n",
       "      <td>NaN</td>\n",
       "      <td>NaN</td>\n",
       "      <td>NaN</td>\n",
       "      <td>NaN</td>\n",
       "      <td>NaN</td>\n",
       "    </tr>\n",
       "    <tr>\n",
       "      <th>mean</th>\n",
       "      <td>5000.50000</td>\n",
       "      <td>1.569094e+07</td>\n",
       "      <td>NaN</td>\n",
       "      <td>650.528800</td>\n",
       "      <td>NaN</td>\n",
       "      <td>NaN</td>\n",
       "      <td>38.921800</td>\n",
       "      <td>4.997690</td>\n",
       "      <td>76485.889288</td>\n",
       "      <td>1.530200</td>\n",
       "      <td>0.70550</td>\n",
       "      <td>0.515100</td>\n",
       "      <td>100090.239881</td>\n",
       "      <td>0.203700</td>\n",
       "    </tr>\n",
       "    <tr>\n",
       "      <th>std</th>\n",
       "      <td>2886.89568</td>\n",
       "      <td>7.193619e+04</td>\n",
       "      <td>NaN</td>\n",
       "      <td>96.653299</td>\n",
       "      <td>NaN</td>\n",
       "      <td>NaN</td>\n",
       "      <td>10.487806</td>\n",
       "      <td>2.894723</td>\n",
       "      <td>62397.405202</td>\n",
       "      <td>0.581654</td>\n",
       "      <td>0.45584</td>\n",
       "      <td>0.499797</td>\n",
       "      <td>57510.492818</td>\n",
       "      <td>0.402769</td>\n",
       "    </tr>\n",
       "    <tr>\n",
       "      <th>min</th>\n",
       "      <td>1.00000</td>\n",
       "      <td>1.556570e+07</td>\n",
       "      <td>NaN</td>\n",
       "      <td>350.000000</td>\n",
       "      <td>NaN</td>\n",
       "      <td>NaN</td>\n",
       "      <td>18.000000</td>\n",
       "      <td>0.000000</td>\n",
       "      <td>0.000000</td>\n",
       "      <td>1.000000</td>\n",
       "      <td>0.00000</td>\n",
       "      <td>0.000000</td>\n",
       "      <td>11.580000</td>\n",
       "      <td>0.000000</td>\n",
       "    </tr>\n",
       "    <tr>\n",
       "      <th>25%</th>\n",
       "      <td>2500.75000</td>\n",
       "      <td>1.562853e+07</td>\n",
       "      <td>NaN</td>\n",
       "      <td>584.000000</td>\n",
       "      <td>NaN</td>\n",
       "      <td>NaN</td>\n",
       "      <td>32.000000</td>\n",
       "      <td>2.000000</td>\n",
       "      <td>0.000000</td>\n",
       "      <td>1.000000</td>\n",
       "      <td>0.00000</td>\n",
       "      <td>0.000000</td>\n",
       "      <td>51002.110000</td>\n",
       "      <td>0.000000</td>\n",
       "    </tr>\n",
       "    <tr>\n",
       "      <th>50%</th>\n",
       "      <td>5000.50000</td>\n",
       "      <td>1.569074e+07</td>\n",
       "      <td>NaN</td>\n",
       "      <td>652.000000</td>\n",
       "      <td>NaN</td>\n",
       "      <td>NaN</td>\n",
       "      <td>37.000000</td>\n",
       "      <td>5.000000</td>\n",
       "      <td>97198.540000</td>\n",
       "      <td>1.000000</td>\n",
       "      <td>1.00000</td>\n",
       "      <td>1.000000</td>\n",
       "      <td>100193.915000</td>\n",
       "      <td>0.000000</td>\n",
       "    </tr>\n",
       "    <tr>\n",
       "      <th>75%</th>\n",
       "      <td>7500.25000</td>\n",
       "      <td>1.575323e+07</td>\n",
       "      <td>NaN</td>\n",
       "      <td>718.000000</td>\n",
       "      <td>NaN</td>\n",
       "      <td>NaN</td>\n",
       "      <td>44.000000</td>\n",
       "      <td>7.000000</td>\n",
       "      <td>127644.240000</td>\n",
       "      <td>2.000000</td>\n",
       "      <td>1.00000</td>\n",
       "      <td>1.000000</td>\n",
       "      <td>149388.247500</td>\n",
       "      <td>0.000000</td>\n",
       "    </tr>\n",
       "    <tr>\n",
       "      <th>max</th>\n",
       "      <td>10000.00000</td>\n",
       "      <td>1.581569e+07</td>\n",
       "      <td>NaN</td>\n",
       "      <td>850.000000</td>\n",
       "      <td>NaN</td>\n",
       "      <td>NaN</td>\n",
       "      <td>92.000000</td>\n",
       "      <td>10.000000</td>\n",
       "      <td>250898.090000</td>\n",
       "      <td>4.000000</td>\n",
       "      <td>1.00000</td>\n",
       "      <td>1.000000</td>\n",
       "      <td>199992.480000</td>\n",
       "      <td>1.000000</td>\n",
       "    </tr>\n",
       "  </tbody>\n",
       "</table>\n",
       "</div>"
      ],
      "text/plain": [
       "          RowNumber    CustomerId Surname   CreditScore Geography Gender  \\\n",
       "count   10000.00000  1.000000e+04   10000  10000.000000     10000  10000   \n",
       "unique          NaN           NaN    2932           NaN         3      2   \n",
       "top             NaN           NaN   Smith           NaN    France   Male   \n",
       "freq            NaN           NaN      32           NaN      5014   5457   \n",
       "mean     5000.50000  1.569094e+07     NaN    650.528800       NaN    NaN   \n",
       "std      2886.89568  7.193619e+04     NaN     96.653299       NaN    NaN   \n",
       "min         1.00000  1.556570e+07     NaN    350.000000       NaN    NaN   \n",
       "25%      2500.75000  1.562853e+07     NaN    584.000000       NaN    NaN   \n",
       "50%      5000.50000  1.569074e+07     NaN    652.000000       NaN    NaN   \n",
       "75%      7500.25000  1.575323e+07     NaN    718.000000       NaN    NaN   \n",
       "max     10000.00000  1.581569e+07     NaN    850.000000       NaN    NaN   \n",
       "\n",
       "                 Age       Tenure        Balance  NumOfProducts    HasCrCard  \\\n",
       "count   10000.000000  9091.000000   10000.000000   10000.000000  10000.00000   \n",
       "unique           NaN          NaN            NaN            NaN          NaN   \n",
       "top              NaN          NaN            NaN            NaN          NaN   \n",
       "freq             NaN          NaN            NaN            NaN          NaN   \n",
       "mean       38.921800     4.997690   76485.889288       1.530200      0.70550   \n",
       "std        10.487806     2.894723   62397.405202       0.581654      0.45584   \n",
       "min        18.000000     0.000000       0.000000       1.000000      0.00000   \n",
       "25%        32.000000     2.000000       0.000000       1.000000      0.00000   \n",
       "50%        37.000000     5.000000   97198.540000       1.000000      1.00000   \n",
       "75%        44.000000     7.000000  127644.240000       2.000000      1.00000   \n",
       "max        92.000000    10.000000  250898.090000       4.000000      1.00000   \n",
       "\n",
       "        IsActiveMember  EstimatedSalary        Exited  \n",
       "count     10000.000000     10000.000000  10000.000000  \n",
       "unique             NaN              NaN           NaN  \n",
       "top                NaN              NaN           NaN  \n",
       "freq               NaN              NaN           NaN  \n",
       "mean          0.515100    100090.239881      0.203700  \n",
       "std           0.499797     57510.492818      0.402769  \n",
       "min           0.000000        11.580000      0.000000  \n",
       "25%           0.000000     51002.110000      0.000000  \n",
       "50%           1.000000    100193.915000      0.000000  \n",
       "75%           1.000000    149388.247500      0.000000  \n",
       "max           1.000000    199992.480000      1.000000  "
      ]
     },
     "metadata": {},
     "output_type": "display_data"
    }
   ],
   "source": [
    "display(df.info(), df.sample(5), df.describe(include='all'))"
   ]
  },
  {
   "cell_type": "code",
   "execution_count": 4,
   "id": "f3ac2e2b",
   "metadata": {},
   "outputs": [
    {
     "data": {
      "text/plain": [
       "0"
      ]
     },
     "execution_count": 4,
     "metadata": {},
     "output_type": "execute_result"
    }
   ],
   "source": [
    "# checking for explicit duplicates\n",
    "\n",
    "df.duplicated().sum()"
   ]
  },
  {
   "cell_type": "markdown",
   "id": "d1b6bb9d",
   "metadata": {},
   "source": [
    "**Conclusion:**\n",
    "\n",
    "- there are 10000 records in the table\n",
    "- the column names are not properly represented, as \"CamelCase\" rather than \"snake_case\". Lowercasing the column names will make long names like \"IsActiveMember\" unreadable. Therefore let's leave the names as they are\n",
    "- there are missing values in the Tenure column (909 out of 10,000 - 9%). Since the mean and median value of this column are practically identical, indicating the absence of outliers, we will fill the missing values with the mean value\n",
    "- there is nothing wrong with the data types, no problems observed\n",
    "- just over half (5014 out of 10000) are from the France region\n",
    "- just over half of the customers are men (5457 out of 10 000 - 55 %)\n",
    "- the account balance column shows more than 25% of records with zero balance, but there is no reason to think that the data is inadequate, since having a zero account balance is a normal practice and fits into the logic of data distribution\n",
    "- based on the objectives of building a machine-learning model to predict customer churn, columns `RowNumber`, `CustomerId` and `Surname` are irrelevant and will be removed when building the model\n",
    "- no obvious duplicates were found.\n"
   ]
  },
  {
   "cell_type": "markdown",
   "id": "fa59f15d",
   "metadata": {},
   "source": [
    "Let's analyse the average values of the features in terms of the bank's clients who left and those who stayed."
   ]
  },
  {
   "cell_type": "code",
   "execution_count": 5,
   "id": "fa76e662",
   "metadata": {},
   "outputs": [
    {
     "data": {
      "text/html": [
       "<div>\n",
       "<style scoped>\n",
       "    .dataframe tbody tr th:only-of-type {\n",
       "        vertical-align: middle;\n",
       "    }\n",
       "\n",
       "    .dataframe tbody tr th {\n",
       "        vertical-align: top;\n",
       "    }\n",
       "\n",
       "    .dataframe thead th {\n",
       "        text-align: right;\n",
       "    }\n",
       "</style>\n",
       "<table border=\"1\" class=\"dataframe\">\n",
       "  <thead>\n",
       "    <tr style=\"text-align: right;\">\n",
       "      <th></th>\n",
       "      <th>Age</th>\n",
       "      <th>Tenure</th>\n",
       "      <th>Balance</th>\n",
       "      <th>NumOfProducts</th>\n",
       "      <th>HasCrCard</th>\n",
       "      <th>IsActiveMember</th>\n",
       "      <th>EstimatedSalary</th>\n",
       "      <th>CreditScore</th>\n",
       "    </tr>\n",
       "    <tr>\n",
       "      <th>Exited</th>\n",
       "      <th></th>\n",
       "      <th></th>\n",
       "      <th></th>\n",
       "      <th></th>\n",
       "      <th></th>\n",
       "      <th></th>\n",
       "      <th></th>\n",
       "      <th></th>\n",
       "    </tr>\n",
       "  </thead>\n",
       "  <tbody>\n",
       "    <tr>\n",
       "      <th>0</th>\n",
       "      <td>37.408389</td>\n",
       "      <td>5.022247</td>\n",
       "      <td>72745.296779</td>\n",
       "      <td>1.544267</td>\n",
       "      <td>0.707146</td>\n",
       "      <td>0.554565</td>\n",
       "      <td>99738.391772</td>\n",
       "      <td>651.853196</td>\n",
       "    </tr>\n",
       "    <tr>\n",
       "      <th>1</th>\n",
       "      <td>44.837997</td>\n",
       "      <td>4.901834</td>\n",
       "      <td>91108.539337</td>\n",
       "      <td>1.475209</td>\n",
       "      <td>0.699067</td>\n",
       "      <td>0.360825</td>\n",
       "      <td>101465.677531</td>\n",
       "      <td>645.351497</td>\n",
       "    </tr>\n",
       "  </tbody>\n",
       "</table>\n",
       "</div>"
      ],
      "text/plain": [
       "              Age    Tenure       Balance  NumOfProducts  HasCrCard  \\\n",
       "Exited                                                                \n",
       "0       37.408389  5.022247  72745.296779       1.544267   0.707146   \n",
       "1       44.837997  4.901834  91108.539337       1.475209   0.699067   \n",
       "\n",
       "        IsActiveMember  EstimatedSalary  CreditScore  \n",
       "Exited                                                \n",
       "0             0.554565     99738.391772   651.853196  \n",
       "1             0.360825    101465.677531   645.351497  "
      ]
     },
     "execution_count": 5,
     "metadata": {},
     "output_type": "execute_result"
    }
   ],
   "source": [
    "df.groupby('Exited')\\\n",
    "['Age', 'Tenure', 'Balance', 'NumOfProducts', 'HasCrCard', 'IsActiveMember', 'EstimatedSalary', 'CreditScore']\\\n",
    ".mean()"
   ]
  },
  {
   "cell_type": "markdown",
   "id": "7492fe84",
   "metadata": {},
   "source": [
    "An analysis of the mean values of the non-target features in the data presented shows that:\n",
    "\n",
    "- The average values of the non-target features in breakdown of the target feature are very close to each other, which will make it difficult for the model to detect patterns and consequently its predictive ability.\n",
    "- Average age, Account balance, Client activity are the most differentiated features: the exiting clients are older, have a higher average account balance and are less active."
   ]
  },
  {
   "cell_type": "markdown",
   "id": "57f144b1",
   "metadata": {},
   "source": [
    "Will analyze the features' correlation."
   ]
  },
  {
   "cell_type": "code",
   "execution_count": 6,
   "id": "a7a6182b",
   "metadata": {},
   "outputs": [
    {
     "data": {
      "text/html": [
       "<div>\n",
       "<style scoped>\n",
       "    .dataframe tbody tr th:only-of-type {\n",
       "        vertical-align: middle;\n",
       "    }\n",
       "\n",
       "    .dataframe tbody tr th {\n",
       "        vertical-align: top;\n",
       "    }\n",
       "\n",
       "    .dataframe thead th {\n",
       "        text-align: right;\n",
       "    }\n",
       "</style>\n",
       "<table border=\"1\" class=\"dataframe\">\n",
       "  <thead>\n",
       "    <tr style=\"text-align: right;\">\n",
       "      <th></th>\n",
       "      <th>RowNumber</th>\n",
       "      <th>CustomerId</th>\n",
       "      <th>CreditScore</th>\n",
       "      <th>Age</th>\n",
       "      <th>Tenure</th>\n",
       "      <th>Balance</th>\n",
       "      <th>NumOfProducts</th>\n",
       "      <th>HasCrCard</th>\n",
       "      <th>IsActiveMember</th>\n",
       "      <th>EstimatedSalary</th>\n",
       "      <th>Exited</th>\n",
       "    </tr>\n",
       "  </thead>\n",
       "  <tbody>\n",
       "    <tr>\n",
       "      <th>RowNumber</th>\n",
       "      <td>1.000000</td>\n",
       "      <td>0.004202</td>\n",
       "      <td>0.005840</td>\n",
       "      <td>0.000783</td>\n",
       "      <td>-0.007322</td>\n",
       "      <td>-0.009067</td>\n",
       "      <td>0.007246</td>\n",
       "      <td>0.000599</td>\n",
       "      <td>0.012044</td>\n",
       "      <td>-0.005988</td>\n",
       "      <td>-0.016571</td>\n",
       "    </tr>\n",
       "    <tr>\n",
       "      <th>CustomerId</th>\n",
       "      <td>0.004202</td>\n",
       "      <td>1.000000</td>\n",
       "      <td>0.005308</td>\n",
       "      <td>0.009497</td>\n",
       "      <td>-0.021418</td>\n",
       "      <td>-0.012419</td>\n",
       "      <td>0.016972</td>\n",
       "      <td>-0.014025</td>\n",
       "      <td>0.001665</td>\n",
       "      <td>0.015271</td>\n",
       "      <td>-0.006248</td>\n",
       "    </tr>\n",
       "    <tr>\n",
       "      <th>CreditScore</th>\n",
       "      <td>0.005840</td>\n",
       "      <td>0.005308</td>\n",
       "      <td>1.000000</td>\n",
       "      <td>-0.003965</td>\n",
       "      <td>-0.000062</td>\n",
       "      <td>0.006268</td>\n",
       "      <td>0.012238</td>\n",
       "      <td>-0.005458</td>\n",
       "      <td>0.025651</td>\n",
       "      <td>-0.001384</td>\n",
       "      <td>-0.027094</td>\n",
       "    </tr>\n",
       "    <tr>\n",
       "      <th>Age</th>\n",
       "      <td>0.000783</td>\n",
       "      <td>0.009497</td>\n",
       "      <td>-0.003965</td>\n",
       "      <td>1.000000</td>\n",
       "      <td>-0.013134</td>\n",
       "      <td>0.028308</td>\n",
       "      <td>-0.030680</td>\n",
       "      <td>-0.011721</td>\n",
       "      <td>0.085472</td>\n",
       "      <td>-0.007201</td>\n",
       "      <td>0.285323</td>\n",
       "    </tr>\n",
       "    <tr>\n",
       "      <th>Tenure</th>\n",
       "      <td>-0.007322</td>\n",
       "      <td>-0.021418</td>\n",
       "      <td>-0.000062</td>\n",
       "      <td>-0.013134</td>\n",
       "      <td>1.000000</td>\n",
       "      <td>-0.007911</td>\n",
       "      <td>0.011979</td>\n",
       "      <td>0.027232</td>\n",
       "      <td>-0.032178</td>\n",
       "      <td>0.010520</td>\n",
       "      <td>-0.016761</td>\n",
       "    </tr>\n",
       "    <tr>\n",
       "      <th>Balance</th>\n",
       "      <td>-0.009067</td>\n",
       "      <td>-0.012419</td>\n",
       "      <td>0.006268</td>\n",
       "      <td>0.028308</td>\n",
       "      <td>-0.007911</td>\n",
       "      <td>1.000000</td>\n",
       "      <td>-0.304180</td>\n",
       "      <td>-0.014858</td>\n",
       "      <td>-0.010084</td>\n",
       "      <td>0.012797</td>\n",
       "      <td>0.118533</td>\n",
       "    </tr>\n",
       "    <tr>\n",
       "      <th>NumOfProducts</th>\n",
       "      <td>0.007246</td>\n",
       "      <td>0.016972</td>\n",
       "      <td>0.012238</td>\n",
       "      <td>-0.030680</td>\n",
       "      <td>0.011979</td>\n",
       "      <td>-0.304180</td>\n",
       "      <td>1.000000</td>\n",
       "      <td>0.003183</td>\n",
       "      <td>0.009612</td>\n",
       "      <td>0.014204</td>\n",
       "      <td>-0.047820</td>\n",
       "    </tr>\n",
       "    <tr>\n",
       "      <th>HasCrCard</th>\n",
       "      <td>0.000599</td>\n",
       "      <td>-0.014025</td>\n",
       "      <td>-0.005458</td>\n",
       "      <td>-0.011721</td>\n",
       "      <td>0.027232</td>\n",
       "      <td>-0.014858</td>\n",
       "      <td>0.003183</td>\n",
       "      <td>1.000000</td>\n",
       "      <td>-0.011866</td>\n",
       "      <td>-0.009933</td>\n",
       "      <td>-0.007138</td>\n",
       "    </tr>\n",
       "    <tr>\n",
       "      <th>IsActiveMember</th>\n",
       "      <td>0.012044</td>\n",
       "      <td>0.001665</td>\n",
       "      <td>0.025651</td>\n",
       "      <td>0.085472</td>\n",
       "      <td>-0.032178</td>\n",
       "      <td>-0.010084</td>\n",
       "      <td>0.009612</td>\n",
       "      <td>-0.011866</td>\n",
       "      <td>1.000000</td>\n",
       "      <td>-0.011421</td>\n",
       "      <td>-0.156128</td>\n",
       "    </tr>\n",
       "    <tr>\n",
       "      <th>EstimatedSalary</th>\n",
       "      <td>-0.005988</td>\n",
       "      <td>0.015271</td>\n",
       "      <td>-0.001384</td>\n",
       "      <td>-0.007201</td>\n",
       "      <td>0.010520</td>\n",
       "      <td>0.012797</td>\n",
       "      <td>0.014204</td>\n",
       "      <td>-0.009933</td>\n",
       "      <td>-0.011421</td>\n",
       "      <td>1.000000</td>\n",
       "      <td>0.012097</td>\n",
       "    </tr>\n",
       "    <tr>\n",
       "      <th>Exited</th>\n",
       "      <td>-0.016571</td>\n",
       "      <td>-0.006248</td>\n",
       "      <td>-0.027094</td>\n",
       "      <td>0.285323</td>\n",
       "      <td>-0.016761</td>\n",
       "      <td>0.118533</td>\n",
       "      <td>-0.047820</td>\n",
       "      <td>-0.007138</td>\n",
       "      <td>-0.156128</td>\n",
       "      <td>0.012097</td>\n",
       "      <td>1.000000</td>\n",
       "    </tr>\n",
       "  </tbody>\n",
       "</table>\n",
       "</div>"
      ],
      "text/plain": [
       "                 RowNumber  CustomerId  CreditScore       Age    Tenure  \\\n",
       "RowNumber         1.000000    0.004202     0.005840  0.000783 -0.007322   \n",
       "CustomerId        0.004202    1.000000     0.005308  0.009497 -0.021418   \n",
       "CreditScore       0.005840    0.005308     1.000000 -0.003965 -0.000062   \n",
       "Age               0.000783    0.009497    -0.003965  1.000000 -0.013134   \n",
       "Tenure           -0.007322   -0.021418    -0.000062 -0.013134  1.000000   \n",
       "Balance          -0.009067   -0.012419     0.006268  0.028308 -0.007911   \n",
       "NumOfProducts     0.007246    0.016972     0.012238 -0.030680  0.011979   \n",
       "HasCrCard         0.000599   -0.014025    -0.005458 -0.011721  0.027232   \n",
       "IsActiveMember    0.012044    0.001665     0.025651  0.085472 -0.032178   \n",
       "EstimatedSalary  -0.005988    0.015271    -0.001384 -0.007201  0.010520   \n",
       "Exited           -0.016571   -0.006248    -0.027094  0.285323 -0.016761   \n",
       "\n",
       "                  Balance  NumOfProducts  HasCrCard  IsActiveMember  \\\n",
       "RowNumber       -0.009067       0.007246   0.000599        0.012044   \n",
       "CustomerId      -0.012419       0.016972  -0.014025        0.001665   \n",
       "CreditScore      0.006268       0.012238  -0.005458        0.025651   \n",
       "Age              0.028308      -0.030680  -0.011721        0.085472   \n",
       "Tenure          -0.007911       0.011979   0.027232       -0.032178   \n",
       "Balance          1.000000      -0.304180  -0.014858       -0.010084   \n",
       "NumOfProducts   -0.304180       1.000000   0.003183        0.009612   \n",
       "HasCrCard       -0.014858       0.003183   1.000000       -0.011866   \n",
       "IsActiveMember  -0.010084       0.009612  -0.011866        1.000000   \n",
       "EstimatedSalary  0.012797       0.014204  -0.009933       -0.011421   \n",
       "Exited           0.118533      -0.047820  -0.007138       -0.156128   \n",
       "\n",
       "                 EstimatedSalary    Exited  \n",
       "RowNumber              -0.005988 -0.016571  \n",
       "CustomerId              0.015271 -0.006248  \n",
       "CreditScore            -0.001384 -0.027094  \n",
       "Age                    -0.007201  0.285323  \n",
       "Tenure                  0.010520 -0.016761  \n",
       "Balance                 0.012797  0.118533  \n",
       "NumOfProducts           0.014204 -0.047820  \n",
       "HasCrCard              -0.009933 -0.007138  \n",
       "IsActiveMember         -0.011421 -0.156128  \n",
       "EstimatedSalary         1.000000  0.012097  \n",
       "Exited                  0.012097  1.000000  "
      ]
     },
     "execution_count": 6,
     "metadata": {},
     "output_type": "execute_result"
    }
   ],
   "source": [
    "df.corr()"
   ]
  },
  {
   "cell_type": "code",
   "execution_count": 7,
   "id": "373ee3be",
   "metadata": {},
   "outputs": [
    {
     "data": {
      "image/png": "[encoded data removed]",
      "text/plain": [
       "<Figure size 864x432 with 2 Axes>"
      ]
     },
     "metadata": {
      "needs_background": "light"
     },
     "output_type": "display_data"
    }
   ],
   "source": [
    "plt.figure(figsize=(12,6))\n",
    "sns.heatmap(df.corr(), xticklabels=df.corr().columns, yticklabels=df.corr().columns, cmap='coolwarm', center=0, annot=True)\n",
    "plt.title('Корреляции между признаками', fontsize=13)\n",
    "plt.xticks(fontsize=12)\n",
    "plt.yticks(fontsize=12)\n",
    "plt.show()"
   ]
  },
  {
   "cell_type": "markdown",
   "id": "f3169ada",
   "metadata": {},
   "source": [
    "In the data, there is a relative linear positive correlation between customer churn and age (0.29), also less strong with account balance (0.12), and a negative correlation with activity scores (-0.16).\n",
    "There is no strong correlation with the rest of the attributes."
   ]
  },
  {
   "cell_type": "markdown",
   "id": "bcfaba96",
   "metadata": {},
   "source": [
    "**Filling in the missing values in column `Tenure`**"
   ]
  },
  {
   "cell_type": "code",
   "execution_count": 8,
   "id": "c5f99128",
   "metadata": {},
   "outputs": [],
   "source": [
    "# Filling in the missing values in column Tenure with column mean value\n",
    "\n",
    "df.Tenure.fillna(df.Tenure.mean(), inplace=True)"
   ]
  },
  {
   "cell_type": "code",
   "execution_count": 9,
   "id": "c747c381",
   "metadata": {},
   "outputs": [
    {
     "data": {
      "text/plain": [
       "0"
      ]
     },
     "execution_count": 9,
     "metadata": {},
     "output_type": "execute_result"
    }
   ],
   "source": [
    "# checing missing values in column\n",
    "\n",
    "df.Tenure.isna().sum()"
   ]
  },
  {
   "cell_type": "markdown",
   "id": "b3fb367a",
   "metadata": {},
   "source": [
    "### Defining variables with features and target feature "
   ]
  },
  {
   "cell_type": "markdown",
   "id": "6f041704",
   "metadata": {},
   "source": [
    "Declare two variables: features and target, in which we store features and target attribute respectively. The column `Exited` acts as the target feature. All other columns except columns `RowNumber`, `CustomerId`, `Surname`, which are of no value to the algorithm, will be the features."
   ]
  },
  {
   "cell_type": "code",
   "execution_count": 10,
   "id": "b5054791",
   "metadata": {},
   "outputs": [],
   "source": [
    "features = df.drop(['RowNumber', 'CustomerId', 'Surname', 'Exited'], axis=1)"
   ]
  },
  {
   "cell_type": "markdown",
   "id": "5947ff0e",
   "metadata": {},
   "source": [
    "Let's encode the categorical features in the `Geography' and `Gender' columns into numerical values. We have two classes in the gender column and three classes in the country column. This is not much, so we will use the One Hot Encoding method to encode it. "
   ]
  },
  {
   "cell_type": "code",
   "execution_count": 11,
   "id": "cef728e7",
   "metadata": {},
   "outputs": [
    {
     "data": {
      "text/html": [
       "<div>\n",
       "<style scoped>\n",
       "    .dataframe tbody tr th:only-of-type {\n",
       "        vertical-align: middle;\n",
       "    }\n",
       "\n",
       "    .dataframe tbody tr th {\n",
       "        vertical-align: top;\n",
       "    }\n",
       "\n",
       "    .dataframe thead th {\n",
       "        text-align: right;\n",
       "    }\n",
       "</style>\n",
       "<table border=\"1\" class=\"dataframe\">\n",
       "  <thead>\n",
       "    <tr style=\"text-align: right;\">\n",
       "      <th></th>\n",
       "      <th>CreditScore</th>\n",
       "      <th>Age</th>\n",
       "      <th>Tenure</th>\n",
       "      <th>Balance</th>\n",
       "      <th>NumOfProducts</th>\n",
       "      <th>HasCrCard</th>\n",
       "      <th>IsActiveMember</th>\n",
       "      <th>EstimatedSalary</th>\n",
       "      <th>Geography_Germany</th>\n",
       "      <th>Geography_Spain</th>\n",
       "      <th>Gender_Male</th>\n",
       "    </tr>\n",
       "  </thead>\n",
       "  <tbody>\n",
       "    <tr>\n",
       "      <th>0</th>\n",
       "      <td>619</td>\n",
       "      <td>42</td>\n",
       "      <td>2.0</td>\n",
       "      <td>0.00</td>\n",
       "      <td>1</td>\n",
       "      <td>1</td>\n",
       "      <td>1</td>\n",
       "      <td>101348.88</td>\n",
       "      <td>0</td>\n",
       "      <td>0</td>\n",
       "      <td>0</td>\n",
       "    </tr>\n",
       "    <tr>\n",
       "      <th>1</th>\n",
       "      <td>608</td>\n",
       "      <td>41</td>\n",
       "      <td>1.0</td>\n",
       "      <td>83807.86</td>\n",
       "      <td>1</td>\n",
       "      <td>0</td>\n",
       "      <td>1</td>\n",
       "      <td>112542.58</td>\n",
       "      <td>0</td>\n",
       "      <td>1</td>\n",
       "      <td>0</td>\n",
       "    </tr>\n",
       "    <tr>\n",
       "      <th>2</th>\n",
       "      <td>502</td>\n",
       "      <td>42</td>\n",
       "      <td>8.0</td>\n",
       "      <td>159660.80</td>\n",
       "      <td>3</td>\n",
       "      <td>1</td>\n",
       "      <td>0</td>\n",
       "      <td>113931.57</td>\n",
       "      <td>0</td>\n",
       "      <td>0</td>\n",
       "      <td>0</td>\n",
       "    </tr>\n",
       "    <tr>\n",
       "      <th>3</th>\n",
       "      <td>699</td>\n",
       "      <td>39</td>\n",
       "      <td>1.0</td>\n",
       "      <td>0.00</td>\n",
       "      <td>2</td>\n",
       "      <td>0</td>\n",
       "      <td>0</td>\n",
       "      <td>93826.63</td>\n",
       "      <td>0</td>\n",
       "      <td>0</td>\n",
       "      <td>0</td>\n",
       "    </tr>\n",
       "    <tr>\n",
       "      <th>4</th>\n",
       "      <td>850</td>\n",
       "      <td>43</td>\n",
       "      <td>2.0</td>\n",
       "      <td>125510.82</td>\n",
       "      <td>1</td>\n",
       "      <td>1</td>\n",
       "      <td>1</td>\n",
       "      <td>79084.10</td>\n",
       "      <td>0</td>\n",
       "      <td>1</td>\n",
       "      <td>0</td>\n",
       "    </tr>\n",
       "  </tbody>\n",
       "</table>\n",
       "</div>"
      ],
      "text/plain": [
       "   CreditScore  Age  Tenure    Balance  NumOfProducts  HasCrCard  \\\n",
       "0          619   42     2.0       0.00              1          1   \n",
       "1          608   41     1.0   83807.86              1          0   \n",
       "2          502   42     8.0  159660.80              3          1   \n",
       "3          699   39     1.0       0.00              2          0   \n",
       "4          850   43     2.0  125510.82              1          1   \n",
       "\n",
       "   IsActiveMember  EstimatedSalary  Geography_Germany  Geography_Spain  \\\n",
       "0               1        101348.88                  0                0   \n",
       "1               1        112542.58                  0                1   \n",
       "2               0        113931.57                  0                0   \n",
       "3               0         93826.63                  0                0   \n",
       "4               1         79084.10                  0                1   \n",
       "\n",
       "   Gender_Male  \n",
       "0            0  \n",
       "1            0  \n",
       "2            0  \n",
       "3            0  \n",
       "4            0  "
      ]
     },
     "execution_count": 11,
     "metadata": {},
     "output_type": "execute_result"
    }
   ],
   "source": [
    "features = pd.get_dummies(features, drop_first=True)\n",
    "features.head()"
   ]
  },
  {
   "cell_type": "code",
   "execution_count": 12,
   "id": "ced8781d",
   "metadata": {},
   "outputs": [
    {
     "data": {
      "text/plain": [
       "(10000, 11)"
      ]
     },
     "execution_count": 12,
     "metadata": {},
     "output_type": "execute_result"
    }
   ],
   "source": [
    "features.shape"
   ]
  },
  {
   "cell_type": "code",
   "execution_count": 13,
   "id": "daabe360",
   "metadata": {},
   "outputs": [],
   "source": [
    "# defining the variable with target feature\n",
    "\n",
    "target = df.Exited"
   ]
  },
  {
   "cell_type": "markdown",
   "id": "1572d98c",
   "metadata": {},
   "source": [
    "### Splitting the dataset into training, validation and testing samples"
   ]
  },
  {
   "cell_type": "markdown",
   "id": "fb83e64e",
   "metadata": {},
   "source": [
    "Since we do not have a test dataset at our disposal, we will split the available original dataset into three samples: training, validation and test samples in the proportion 3:1:1, i.e. 60% : 20% : 20% respectively."
   ]
  },
  {
   "cell_type": "code",
   "execution_count": 14,
   "id": "c40222aa",
   "metadata": {},
   "outputs": [],
   "source": [
    "# Using train_test_split to split our dataset into appropriate samples \n",
    "\n",
    "features_train_valid, features_test, target_train_valid, target_test = train_test_split(features, target, random_state=12345, test_size=0.2, stratify=target)\n",
    "features_train, features_valid, target_train, target_valid = train_test_split(features_train_valid, target_train_valid, random_state=12345, test_size=0.25, stratify=target_train_valid)\n"
   ]
  },
  {
   "cell_type": "markdown",
   "id": "3fac2834",
   "metadata": {},
   "source": [
    "Checking the shape of the samples."
   ]
  },
  {
   "cell_type": "code",
   "execution_count": 15,
   "id": "0214ff13",
   "metadata": {},
   "outputs": [
    {
     "name": "stdout",
     "output_type": "stream",
     "text": [
      "Размер обучающей выборки:  (6000, 11) (6000,)\n",
      "Размер валидационной выборки:  (2000, 11) (2000,)\n",
      "Размер тестовой  выборки:  (2000, 11) (2000,)\n"
     ]
    }
   ],
   "source": [
    "print('Размер обучающей выборки: ', features_train.shape, target_train.shape)\n",
    "print('Размер валидационной выборки: ', features_valid.shape, target_valid.shape)\n",
    "print('Размер тестовой  выборки: ', features_test.shape, target_test.shape)"
   ]
  },
  {
   "cell_type": "markdown",
   "id": "83de8927",
   "metadata": {},
   "source": [
    "### Features scaling"
   ]
  },
  {
   "cell_type": "markdown",
   "id": "35252498",
   "metadata": {},
   "source": [
    "The numerical features in the dataset differ in value, unit and range. Since the model algorithm may take the differences in values as an element of importance and priority of one feature over another, it is necessary to scale the numerical features to avoid this trap.\n",
    "\n",
    "Let us perform the scaling by data standardization."
   ]
  },
  {
   "cell_type": "code",
   "execution_count": 16,
   "id": "dc152221",
   "metadata": {},
   "outputs": [],
   "source": [
    "# For scaling purposes, initially select numerical non-binary features\n",
    "\n",
    "numeric = ['CreditScore', 'Age', 'Tenure', 'Balance', 'NumOfProducts', 'EstimatedSalary']"
   ]
  },
  {
   "cell_type": "code",
   "execution_count": 17,
   "id": "271939fd",
   "metadata": {},
   "outputs": [
    {
     "data": {
      "text/plain": [
       "StandardScaler()"
      ]
     },
     "execution_count": 17,
     "metadata": {},
     "output_type": "execute_result"
    }
   ],
   "source": [
    "# Creating an object of this structure and set it up on the training data.\n",
    "\n",
    "scaler = StandardScaler()\n",
    "scaler.fit(features_train[numeric])"
   ]
  },
  {
   "cell_type": "code",
   "execution_count": 18,
   "id": "c577fe15",
   "metadata": {},
   "outputs": [],
   "source": [
    "# using transform() to transform the training, validation and test samples\n",
    "\n",
    "features_train[numeric] = scaler.transform(features_train[numeric])\n",
    "features_valid[numeric] = scaler.transform(features_valid[numeric])\n",
    "features_test[numeric] = scaler.transform(features_test[numeric])"
   ]
  },
  {
   "cell_type": "code",
   "execution_count": 19,
   "id": "a14da2eb",
   "metadata": {},
   "outputs": [
    {
     "data": {
      "text/html": [
       "<div>\n",
       "<style scoped>\n",
       "    .dataframe tbody tr th:only-of-type {\n",
       "        vertical-align: middle;\n",
       "    }\n",
       "\n",
       "    .dataframe tbody tr th {\n",
       "        vertical-align: top;\n",
       "    }\n",
       "\n",
       "    .dataframe thead th {\n",
       "        text-align: right;\n",
       "    }\n",
       "</style>\n",
       "<table border=\"1\" class=\"dataframe\">\n",
       "  <thead>\n",
       "    <tr style=\"text-align: right;\">\n",
       "      <th></th>\n",
       "      <th>CreditScore</th>\n",
       "      <th>Age</th>\n",
       "      <th>Tenure</th>\n",
       "      <th>Balance</th>\n",
       "      <th>NumOfProducts</th>\n",
       "      <th>HasCrCard</th>\n",
       "      <th>IsActiveMember</th>\n",
       "      <th>EstimatedSalary</th>\n",
       "      <th>Geography_Germany</th>\n",
       "      <th>Geography_Spain</th>\n",
       "      <th>Gender_Male</th>\n",
       "    </tr>\n",
       "  </thead>\n",
       "  <tbody>\n",
       "    <tr>\n",
       "      <th>5536</th>\n",
       "      <td>-0.143332</td>\n",
       "      <td>0.577533</td>\n",
       "      <td>-0.002035</td>\n",
       "      <td>-1.220573</td>\n",
       "      <td>0.797767</td>\n",
       "      <td>1</td>\n",
       "      <td>1</td>\n",
       "      <td>1.029613</td>\n",
       "      <td>0</td>\n",
       "      <td>1</td>\n",
       "      <td>1</td>\n",
       "    </tr>\n",
       "    <tr>\n",
       "      <th>8530</th>\n",
       "      <td>1.632702</td>\n",
       "      <td>-0.564119</td>\n",
       "      <td>-1.092874</td>\n",
       "      <td>0.435807</td>\n",
       "      <td>-0.916018</td>\n",
       "      <td>1</td>\n",
       "      <td>0</td>\n",
       "      <td>0.237986</td>\n",
       "      <td>0</td>\n",
       "      <td>0</td>\n",
       "      <td>0</td>\n",
       "    </tr>\n",
       "    <tr>\n",
       "      <th>1762</th>\n",
       "      <td>1.116413</td>\n",
       "      <td>-0.468981</td>\n",
       "      <td>-1.456768</td>\n",
       "      <td>1.245822</td>\n",
       "      <td>-0.916018</td>\n",
       "      <td>1</td>\n",
       "      <td>1</td>\n",
       "      <td>-0.686104</td>\n",
       "      <td>0</td>\n",
       "      <td>0</td>\n",
       "      <td>0</td>\n",
       "    </tr>\n",
       "    <tr>\n",
       "      <th>9090</th>\n",
       "      <td>1.643028</td>\n",
       "      <td>0.006707</td>\n",
       "      <td>-0.001194</td>\n",
       "      <td>-1.220573</td>\n",
       "      <td>-0.916018</td>\n",
       "      <td>1</td>\n",
       "      <td>0</td>\n",
       "      <td>-0.391097</td>\n",
       "      <td>0</td>\n",
       "      <td>0</td>\n",
       "      <td>0</td>\n",
       "    </tr>\n",
       "    <tr>\n",
       "      <th>8777</th>\n",
       "      <td>-0.484083</td>\n",
       "      <td>-1.420358</td>\n",
       "      <td>-1.456768</td>\n",
       "      <td>1.421989</td>\n",
       "      <td>0.797767</td>\n",
       "      <td>1</td>\n",
       "      <td>0</td>\n",
       "      <td>-1.361559</td>\n",
       "      <td>0</td>\n",
       "      <td>1</td>\n",
       "      <td>1</td>\n",
       "    </tr>\n",
       "  </tbody>\n",
       "</table>\n",
       "</div>"
      ],
      "text/plain": [
       "      CreditScore       Age    Tenure   Balance  NumOfProducts  HasCrCard  \\\n",
       "5536    -0.143332  0.577533 -0.002035 -1.220573       0.797767          1   \n",
       "8530     1.632702 -0.564119 -1.092874  0.435807      -0.916018          1   \n",
       "1762     1.116413 -0.468981 -1.456768  1.245822      -0.916018          1   \n",
       "9090     1.643028  0.006707 -0.001194 -1.220573      -0.916018          1   \n",
       "8777    -0.484083 -1.420358 -1.456768  1.421989       0.797767          1   \n",
       "\n",
       "      IsActiveMember  EstimatedSalary  Geography_Germany  Geography_Spain  \\\n",
       "5536               1         1.029613                  0                1   \n",
       "8530               0         0.237986                  0                0   \n",
       "1762               1        -0.686104                  0                0   \n",
       "9090               0        -0.391097                  0                0   \n",
       "8777               0        -1.361559                  0                1   \n",
       "\n",
       "      Gender_Male  \n",
       "5536            1  \n",
       "8530            0  \n",
       "1762            0  \n",
       "9090            0  \n",
       "8777            1  "
      ]
     },
     "execution_count": 19,
     "metadata": {},
     "output_type": "execute_result"
    }
   ],
   "source": [
    "features_train.head()"
   ]
  },
  {
   "cell_type": "markdown",
   "id": "6dc7b29d",
   "metadata": {},
   "source": [
    "**Conclusion:**\n",
    "\n",
    "In the data preparation phase we:\n",
    "\n",
    "- Replaced empty values in the Tenure column with an mean value.\n",
    "- Removed the columns `RowNumber`, `CustomerId` and `Surname` as irrelevant to the project objectives.\n",
    "- The mean values of the features by target feature are very close to each other, which will make it difficult for the model to detect patterns and hence its predictive ability.\n",
    "- Reviewed the correlation matrix. We found a relative linear positive correlation between customer churn and age (0.29), less strong with account balances (0.12) and a negative correlation with activity scores (-0.16). No strong correlation was observed with the other attributes.\n",
    "- We encoded the categorical features using One Hot Encoding method and standardised the numerical non-binary features using StandardScaler.\n",
    "- We split the original dataset into a training set, a validation set and a test set"
   ]
  },
  {
   "cell_type": "markdown",
   "id": "93bea80f",
   "metadata": {},
   "source": [
    "## Class balance examination"
   ]
  },
  {
   "cell_type": "markdown",
   "id": "a0fc1a32",
   "metadata": {},
   "source": [
    "### Class balance examination"
   ]
  },
  {
   "cell_type": "markdown",
   "id": "be7f2ed0",
   "metadata": {},
   "source": [
    "Let's examine the target feature for class imbalance."
   ]
  },
  {
   "cell_type": "code",
   "execution_count": 20,
   "id": "7e1c2f5e",
   "metadata": {},
   "outputs": [
    {
     "data": {
      "text/plain": [
       "0    7963\n",
       "1    2037\n",
       "Name: Exited, dtype: int64"
      ]
     },
     "execution_count": 20,
     "metadata": {},
     "output_type": "execute_result"
    }
   ],
   "source": [
    "target.value_counts()"
   ]
  },
  {
   "cell_type": "code",
   "execution_count": 21,
   "id": "2c0ac3cf",
   "metadata": {},
   "outputs": [
    {
     "data": {
      "text/plain": [
       "<AxesSubplot:>"
      ]
     },
     "execution_count": 21,
     "metadata": {},
     "output_type": "execute_result"
    },
    {
     "data": {
      "image/png": "[encoded data removed]",
      "text/plain": [
       "<Figure size 432x288 with 1 Axes>"
      ]
     },
     "metadata": {
      "needs_background": "light"
     },
     "output_type": "display_data"
    }
   ],
   "source": [
    "target.value_counts(normalize=True).plot(kind='bar', grid=True)"
   ]
  },
  {
   "cell_type": "markdown",
   "id": "c8e3c733",
   "metadata": {},
   "source": [
    "The dataset has a strong class imbalance, which should be bad for model learning.\n",
    "The ratio of positive classes to negative classes is 1 to 4."
   ]
  },
  {
   "cell_type": "markdown",
   "id": "5412b4df",
   "metadata": {},
   "source": [
    "### Model building without class imbalances"
   ]
  },
  {
   "cell_type": "markdown",
   "id": "7fda34ed",
   "metadata": {},
   "source": [
    "#### Decision Tree Classifier"
   ]
  },
  {
   "cell_type": "markdown",
   "id": "77a998f6",
   "metadata": {},
   "source": [
    "We first investigate the Decision Tree Classifier model by enumerating the hyper-parameters of the model using GridSearch Cross-validation"
   ]
  },
  {
   "cell_type": "code",
   "execution_count": 22,
   "id": "ab2fdb89",
   "metadata": {},
   "outputs": [],
   "source": [
    "dtc = DecisionTreeClassifier(random_state=12345, max_features='auto')"
   ]
  },
  {
   "cell_type": "code",
   "execution_count": 23,
   "id": "a8da2a9c",
   "metadata": {},
   "outputs": [
    {
     "name": "stdout",
     "output_type": "stream",
     "text": [
      "Fitting 3 folds for each of 900 candidates, totalling 2700 fits\n"
     ]
    }
   ],
   "source": [
    "# creating a hyperparameter grid for cross validation\n",
    "\n",
    "param_grid = {'max_depth': range(5, 15), 'min_samples_leaf': range(1, 20, 2), 'min_samples_split': range(2, 20, 2)}\n",
    "    \n",
    "dtc_imbalanced = GridSearchCV(estimator=dtc,\n",
    "                            param_grid=param_grid,\n",
    "                            scoring='f1', cv=3,\n",
    "                            verbose=1, n_jobs=-1)\n",
    "\n",
    "dtc_imbalanced.fit(features_train, target_train)\n",
    "\n",
    "best_estimator_dtc_imbalanced = dtc_imbalanced.best_estimator_"
   ]
  },
  {
   "cell_type": "code",
   "execution_count": 24,
   "id": "3b912d40",
   "metadata": {},
   "outputs": [
    {
     "data": {
      "text/plain": [
       "DecisionTreeClassifier(max_depth=9, max_features='auto', min_samples_leaf=3,\n",
       "                       min_samples_split=12, random_state=12345)"
      ]
     },
     "execution_count": 24,
     "metadata": {},
     "output_type": "execute_result"
    }
   ],
   "source": [
    "best_estimator_dtc_imbalanced"
   ]
  },
  {
   "cell_type": "code",
   "execution_count": 25,
   "id": "5717ff61",
   "metadata": {},
   "outputs": [
    {
     "data": {
      "text/plain": [
       "0.5368050087055926"
      ]
     },
     "execution_count": 25,
     "metadata": {},
     "output_type": "execute_result"
    }
   ],
   "source": [
    "dtc_imbalanced.best_score_"
   ]
  },
  {
   "cell_type": "markdown",
   "id": "42512793",
   "metadata": {},
   "source": [
    "**- Will calculate the quality metric F1_score on the validation sample**"
   ]
  },
  {
   "cell_type": "code",
   "execution_count": 26,
   "id": "7c72c3cc",
   "metadata": {},
   "outputs": [
    {
     "data": {
      "text/plain": [
       "0.5093167701863354"
      ]
     },
     "execution_count": 26,
     "metadata": {},
     "output_type": "execute_result"
    }
   ],
   "source": [
    "dtc_imbalanced.score(features_valid, target_valid)"
   ]
  },
  {
   "cell_type": "markdown",
   "id": "2533abbd",
   "metadata": {},
   "source": [
    "**- Will calculate the quality metric AUC_ROC on the validation sample**"
   ]
  },
  {
   "cell_type": "code",
   "execution_count": 27,
   "id": "3f96b8b3",
   "metadata": {},
   "outputs": [
    {
     "data": {
      "text/plain": [
       "0.8127079313519993"
      ]
     },
     "execution_count": 27,
     "metadata": {},
     "output_type": "execute_result"
    }
   ],
   "source": [
    "probabilities_valid = dtc_imbalanced.predict_proba(features_valid)\n",
    "probabilities_one_valid = probabilities_valid[:, 1]\n",
    "auc_roc = roc_auc_score(target_valid, probabilities_one_valid)\n",
    "auc_roc"
   ]
  },
  {
   "cell_type": "markdown",
   "id": "33d23770",
   "metadata": {},
   "source": [
    "**- Will display the main metrics report and confusion matrix**"
   ]
  },
  {
   "cell_type": "code",
   "execution_count": 28,
   "id": "0f436194",
   "metadata": {},
   "outputs": [
    {
     "name": "stdout",
     "output_type": "stream",
     "text": [
      "              precision    recall  f1-score   support\n",
      "\n",
      "           0       0.86      0.95      0.91      1593\n",
      "           1       0.69      0.40      0.51       407\n",
      "\n",
      "    accuracy                           0.84      2000\n",
      "   macro avg       0.78      0.68      0.71      2000\n",
      "weighted avg       0.83      0.84      0.83      2000\n",
      "\n"
     ]
    },
    {
     "data": {
      "text/html": [
       "<div>\n",
       "<style scoped>\n",
       "    .dataframe tbody tr th:only-of-type {\n",
       "        vertical-align: middle;\n",
       "    }\n",
       "\n",
       "    .dataframe tbody tr th {\n",
       "        vertical-align: top;\n",
       "    }\n",
       "\n",
       "    .dataframe thead th {\n",
       "        text-align: right;\n",
       "    }\n",
       "</style>\n",
       "<table border=\"1\" class=\"dataframe\">\n",
       "  <thead>\n",
       "    <tr style=\"text-align: right;\">\n",
       "      <th></th>\n",
       "      <th>0</th>\n",
       "      <th>1</th>\n",
       "    </tr>\n",
       "  </thead>\n",
       "  <tbody>\n",
       "    <tr>\n",
       "      <th>0</th>\n",
       "      <td>1520</td>\n",
       "      <td>73</td>\n",
       "    </tr>\n",
       "    <tr>\n",
       "      <th>1</th>\n",
       "      <td>243</td>\n",
       "      <td>164</td>\n",
       "    </tr>\n",
       "  </tbody>\n",
       "</table>\n",
       "</div>"
      ],
      "text/plain": [
       "      0    1\n",
       "0  1520   73\n",
       "1   243  164"
      ]
     },
     "execution_count": 28,
     "metadata": {},
     "output_type": "execute_result"
    }
   ],
   "source": [
    "print(classification_report(target_valid, dtc_imbalanced.predict(features_valid)))\n",
    "pd.DataFrame(confusion_matrix(target_valid, dtc_imbalanced.predict(features_valid)))"
   ]
  },
  {
   "cell_type": "markdown",
   "id": "1b2f3543",
   "metadata": {},
   "source": [
    "**Conclusion:**.\n",
    "\n",
    "1. The model performed poorly - the quality is poor: F1-Score - 0.51.\n",
    "2. The model is bad at finding a positive class (recall) - 0.40.\n",
    "3. The model's precision is also low - 0.69.\n",
    "4. Area under the curve (AUC-ROC) is 0.81, more than the random model (0.5), but still we'll try to improve."
   ]
  },
  {
   "cell_type": "markdown",
   "id": "89fba1e8",
   "metadata": {},
   "source": [
    "**- Let's create a list to consolidate the best models, their F1_score metrics values and the hyperparameters of the corresponding models**.\n",
    "\n",
    "Supplementing this list with the quality metric and hyperparameters of the Decision Tree model on imbalanced data."
   ]
  },
  {
   "cell_type": "code",
   "execution_count": 29,
   "id": "e4032488",
   "metadata": {},
   "outputs": [],
   "source": [
    "# creating list\n",
    "models_list = [] \n",
    "\n",
    "# supplementing the list with Decision Tree Classifier on imbalanced data\n",
    "models_list.append(('dtc_imbalanced', dtc_imbalanced.score(features_valid, target_valid), best_estimator_dtc_imbalanced))"
   ]
  },
  {
   "cell_type": "code",
   "execution_count": 30,
   "id": "216c8cab",
   "metadata": {},
   "outputs": [
    {
     "data": {
      "text/plain": [
       "[('dtc_imbalanced',\n",
       "  0.5093167701863354,\n",
       "  DecisionTreeClassifier(max_depth=9, max_features='auto', min_samples_leaf=3,\n",
       "                         min_samples_split=12, random_state=12345))]"
      ]
     },
     "execution_count": 30,
     "metadata": {},
     "output_type": "execute_result"
    }
   ],
   "source": [
    "models_list"
   ]
  },
  {
   "cell_type": "markdown",
   "id": "49fd98ff",
   "metadata": {},
   "source": [
    "#### Random Forest Classifier"
   ]
  },
  {
   "cell_type": "markdown",
   "id": "ae984dec",
   "metadata": {},
   "source": [
    "We'll investigate the Random Forest Classifier model by enumerating the hyperparameters of the model using GridSearch Cross-validation."
   ]
  },
  {
   "cell_type": "code",
   "execution_count": 31,
   "id": "5950b07f",
   "metadata": {},
   "outputs": [],
   "source": [
    "rfc = RandomForestClassifier(random_state=12345, n_estimators=100, max_features='auto')"
   ]
  },
  {
   "cell_type": "code",
   "execution_count": 32,
   "id": "60d9252e",
   "metadata": {},
   "outputs": [
    {
     "name": "stdout",
     "output_type": "stream",
     "text": [
      "Fitting 3 folds for each of 900 candidates, totalling 2700 fits\n"
     ]
    }
   ],
   "source": [
    "# creating a hyperparameter grid for cross validation\n",
    "\n",
    "param_grid = {'max_depth': range(5, 15), 'min_samples_leaf': range(1, 20, 2), 'min_samples_split': range(2, 20, 2)}\n",
    "    \n",
    "rfc_imbalanced = GridSearchCV(estimator=rfc,\n",
    "                            param_grid=param_grid,\n",
    "                            scoring='f1', cv=3,\n",
    "                            verbose=1, n_jobs=-1)\n",
    "\n",
    "rfc_imbalanced.fit(features_train, target_train)\n",
    "\n",
    "best_estimator_rfc_imbalanced = rfc_imbalanced.best_estimator_"
   ]
  },
  {
   "cell_type": "code",
   "execution_count": 33,
   "id": "56cc37a5",
   "metadata": {},
   "outputs": [
    {
     "data": {
      "text/plain": [
       "RandomForestClassifier(max_depth=13, min_samples_split=10, random_state=12345)"
      ]
     },
     "execution_count": 33,
     "metadata": {},
     "output_type": "execute_result"
    }
   ],
   "source": [
    "best_estimator_rfc_imbalanced"
   ]
  },
  {
   "cell_type": "markdown",
   "id": "14b83df0",
   "metadata": {},
   "source": [
    "**- Will calculate the quality metric F1_score on the validation sample**"
   ]
  },
  {
   "cell_type": "code",
   "execution_count": 34,
   "id": "2258bc5b",
   "metadata": {},
   "outputs": [
    {
     "data": {
      "text/plain": [
       "0.5736677115987461"
      ]
     },
     "execution_count": 34,
     "metadata": {},
     "output_type": "execute_result"
    }
   ],
   "source": [
    "rfc_imbalanced.score(features_valid, target_valid)"
   ]
  },
  {
   "cell_type": "markdown",
   "id": "1ce052e3",
   "metadata": {},
   "source": [
    "**- Will calculate the quality metric AUC_ROC on the validation sample**"
   ]
  },
  {
   "cell_type": "code",
   "execution_count": 35,
   "id": "61ae372d",
   "metadata": {},
   "outputs": [
    {
     "data": {
      "text/plain": [
       "0.8617554380266246"
      ]
     },
     "execution_count": 35,
     "metadata": {},
     "output_type": "execute_result"
    }
   ],
   "source": [
    "probabilities_valid = rfc_imbalanced.predict_proba(features_valid)\n",
    "probabilities_one_valid = probabilities_valid[:, 1]\n",
    "auc_roc = roc_auc_score(target_valid, probabilities_one_valid)\n",
    "auc_roc"
   ]
  },
  {
   "cell_type": "markdown",
   "id": "b9d3dd08",
   "metadata": {},
   "source": [
    "**- Will display the main metrics report and confusion matrix**"
   ]
  },
  {
   "cell_type": "code",
   "execution_count": 36,
   "id": "d62490a8",
   "metadata": {},
   "outputs": [
    {
     "name": "stdout",
     "output_type": "stream",
     "text": [
      "              precision    recall  f1-score   support\n",
      "\n",
      "           0       0.87      0.97      0.92      1593\n",
      "           1       0.79      0.45      0.57       407\n",
      "\n",
      "    accuracy                           0.86      2000\n",
      "   macro avg       0.83      0.71      0.75      2000\n",
      "weighted avg       0.86      0.86      0.85      2000\n",
      "\n"
     ]
    },
    {
     "data": {
      "text/html": [
       "<div>\n",
       "<style scoped>\n",
       "    .dataframe tbody tr th:only-of-type {\n",
       "        vertical-align: middle;\n",
       "    }\n",
       "\n",
       "    .dataframe tbody tr th {\n",
       "        vertical-align: top;\n",
       "    }\n",
       "\n",
       "    .dataframe thead th {\n",
       "        text-align: right;\n",
       "    }\n",
       "</style>\n",
       "<table border=\"1\" class=\"dataframe\">\n",
       "  <thead>\n",
       "    <tr style=\"text-align: right;\">\n",
       "      <th></th>\n",
       "      <th>0</th>\n",
       "      <th>1</th>\n",
       "    </tr>\n",
       "  </thead>\n",
       "  <tbody>\n",
       "    <tr>\n",
       "      <th>0</th>\n",
       "      <td>1545</td>\n",
       "      <td>48</td>\n",
       "    </tr>\n",
       "    <tr>\n",
       "      <th>1</th>\n",
       "      <td>224</td>\n",
       "      <td>183</td>\n",
       "    </tr>\n",
       "  </tbody>\n",
       "</table>\n",
       "</div>"
      ],
      "text/plain": [
       "      0    1\n",
       "0  1545   48\n",
       "1   224  183"
      ]
     },
     "execution_count": 36,
     "metadata": {},
     "output_type": "execute_result"
    }
   ],
   "source": [
    "print(classification_report(target_valid, rfc_imbalanced.predict(features_valid)))\n",
    "pd.DataFrame(confusion_matrix(target_valid, rfc_imbalanced.predict(features_valid)))"
   ]
  },
  {
   "cell_type": "markdown",
   "id": "2d9009c7",
   "metadata": {},
   "source": [
    "**Conclusion:**.\n",
    "\n",
    "1. The model performed poorly - the quality is low: F1-Score is 0.57. But the score is higher than Decision Tree.\n",
    "2. The model also performs poorly in finding a positive class (recall) - 0.45.\n",
    "3. The model's precision improved markedly at 0.79.\n",
    "4. Area under the curve (AUC-ROC) is 0.86, much higher than the random walk model (0.5)."
   ]
  },
  {
   "cell_type": "markdown",
   "id": "b8749d7a",
   "metadata": {},
   "source": [
    "Let's supplement the cumulative list of models with quality metric and hyperparameters of the Random Forest model on imbalanced data."
   ]
  },
  {
   "cell_type": "code",
   "execution_count": 37,
   "id": "30d65fb3",
   "metadata": {},
   "outputs": [],
   "source": [
    "# supplementing the list of models with Random Forest Classifier on imbalanced data\n",
    "\n",
    "models_list.append(('rfc_imbalanced', rfc_imbalanced.score(features_valid, target_valid), best_estimator_rfc_imbalanced))"
   ]
  },
  {
   "cell_type": "markdown",
   "id": "9003fb3e",
   "metadata": {},
   "source": [
    "#### Logistic Regression"
   ]
  },
  {
   "cell_type": "markdown",
   "id": "5e448481",
   "metadata": {},
   "source": [
    "Let's investigate the LogisticRegression model."
   ]
  },
  {
   "cell_type": "code",
   "execution_count": 38,
   "id": "1ca67db0",
   "metadata": {},
   "outputs": [],
   "source": [
    "lg_imbalanced = LogisticRegression(random_state=12345, solver='liblinear')\n",
    "lg_imbalanced.fit(features_train, target_train)\n",
    "predicted_valid = lg_imbalanced.predict(features_valid)"
   ]
  },
  {
   "cell_type": "markdown",
   "id": "076581d9",
   "metadata": {},
   "source": [
    "**- Will calculate the quality metric F1_score on the validation sample**"
   ]
  },
  {
   "cell_type": "code",
   "execution_count": 39,
   "id": "c6224d5b",
   "metadata": {},
   "outputs": [
    {
     "data": {
      "text/plain": [
       "0.3214953271028037"
      ]
     },
     "execution_count": 39,
     "metadata": {},
     "output_type": "execute_result"
    }
   ],
   "source": [
    "f1_score(target_valid, predicted_valid)"
   ]
  },
  {
   "cell_type": "markdown",
   "id": "ac3ca782",
   "metadata": {},
   "source": [
    "**- Will calculate the quality metric AUC_ROC on the validation sample**"
   ]
  },
  {
   "cell_type": "code",
   "execution_count": 40,
   "id": "4add72d1",
   "metadata": {},
   "outputs": [
    {
     "data": {
      "text/plain": [
       "0.7875656858707707"
      ]
     },
     "execution_count": 40,
     "metadata": {},
     "output_type": "execute_result"
    }
   ],
   "source": [
    "probabilities_valid = lg_imbalanced.predict_proba(features_valid)\n",
    "probabilities_one_valid = probabilities_valid[:, 1]\n",
    "auc_roc = roc_auc_score(target_valid, probabilities_one_valid)\n",
    "auc_roc"
   ]
  },
  {
   "cell_type": "markdown",
   "id": "65732d56",
   "metadata": {},
   "source": [
    "**- Will display the main metrics report and confusion matrix**"
   ]
  },
  {
   "cell_type": "code",
   "execution_count": 41,
   "id": "0d9b2aa7",
   "metadata": {},
   "outputs": [
    {
     "name": "stdout",
     "output_type": "stream",
     "text": [
      "              precision    recall  f1-score   support\n",
      "\n",
      "           0       0.83      0.97      0.90      1593\n",
      "           1       0.67      0.21      0.32       407\n",
      "\n",
      "    accuracy                           0.82      2000\n",
      "   macro avg       0.75      0.59      0.61      2000\n",
      "weighted avg       0.80      0.82      0.78      2000\n",
      "\n"
     ]
    },
    {
     "data": {
      "text/html": [
       "<div>\n",
       "<style scoped>\n",
       "    .dataframe tbody tr th:only-of-type {\n",
       "        vertical-align: middle;\n",
       "    }\n",
       "\n",
       "    .dataframe tbody tr th {\n",
       "        vertical-align: top;\n",
       "    }\n",
       "\n",
       "    .dataframe thead th {\n",
       "        text-align: right;\n",
       "    }\n",
       "</style>\n",
       "<table border=\"1\" class=\"dataframe\">\n",
       "  <thead>\n",
       "    <tr style=\"text-align: right;\">\n",
       "      <th></th>\n",
       "      <th>0</th>\n",
       "      <th>1</th>\n",
       "    </tr>\n",
       "  </thead>\n",
       "  <tbody>\n",
       "    <tr>\n",
       "      <th>0</th>\n",
       "      <td>1551</td>\n",
       "      <td>42</td>\n",
       "    </tr>\n",
       "    <tr>\n",
       "      <th>1</th>\n",
       "      <td>321</td>\n",
       "      <td>86</td>\n",
       "    </tr>\n",
       "  </tbody>\n",
       "</table>\n",
       "</div>"
      ],
      "text/plain": [
       "      0   1\n",
       "0  1551  42\n",
       "1   321  86"
      ]
     },
     "execution_count": 41,
     "metadata": {},
     "output_type": "execute_result"
    }
   ],
   "source": [
    "print(classification_report(target_valid, lg_imbalanced.predict(features_valid)))\n",
    "pd.DataFrame(confusion_matrix(target_valid, lg_imbalanced.predict(features_valid)))"
   ]
  },
  {
   "cell_type": "markdown",
   "id": "b0873978",
   "metadata": {},
   "source": [
    "**Conclusion:**.\n",
    "\n",
    "1. The model performed very poorly - the quality is very poor: F1-Score - 0.32.\n",
    "2. The model is also very bad at finding a positive class (recall) - 0.21.\n",
    "3. The precision of the model is not very high - 0.67.\n",
    "4. The area under the curve (AUC-ROC) is 0.79.\n",
    "\n",
    "The scope of our study is to find a model that maximizes the F1-score metric. Since we found no linear correlation between the attributes and the target attribute during the data correlation phase, a low estimate of this metric is quite expected. And the potential for its increase is also low. Accordingly, the Logistic Regression model will be excluded from consideration in further work on improving quality assessment.  "
   ]
  },
  {
   "cell_type": "markdown",
   "id": "628971c9",
   "metadata": {},
   "source": [
    "## Improving the quality of the model, given the imbalance of classes"
   ]
  },
  {
   "cell_type": "markdown",
   "id": "0c277f6e",
   "metadata": {},
   "source": [
    "### Weighing classes"
   ]
  },
  {
   "cell_type": "markdown",
   "id": "df0c634e",
   "metadata": {},
   "source": [
    "#### Decision Tree Classifier"
   ]
  },
  {
   "cell_type": "markdown",
   "id": "5be7fcba",
   "metadata": {},
   "source": [
    "While investigating the class balance, we have come to the understanding that our dataset is imbalanced in terms of classes. There are 4 times fewer rare objects in our dataset. Therefore, in order to eliminate the class imbalance, we will give more weight to the rare class. We will train and investigate the quality of the Decision Tree and Random Forest models on balanced data."
   ]
  },
  {
   "cell_type": "code",
   "execution_count": 42,
   "id": "d8a4e154",
   "metadata": {},
   "outputs": [],
   "source": [
    "dtc = DecisionTreeClassifier(random_state=12345, class_weight='balanced', max_features='auto')"
   ]
  },
  {
   "cell_type": "code",
   "execution_count": 43,
   "id": "c898b5fe",
   "metadata": {},
   "outputs": [
    {
     "name": "stdout",
     "output_type": "stream",
     "text": [
      "Fitting 3 folds for each of 900 candidates, totalling 2700 fits\n"
     ]
    }
   ],
   "source": [
    "# creating a hyperparameter grid for cross validation\n",
    "\n",
    "param_grid = {'max_depth': range(5, 15), 'min_samples_leaf': range(1, 20, 2), 'min_samples_split': range(2, 20, 2)}\n",
    "    \n",
    "dtc_weighed = GridSearchCV(estimator=dtc,\n",
    "                            param_grid=param_grid,\n",
    "                            scoring='f1', cv=3,\n",
    "                            verbose=1, n_jobs=-1)\n",
    "\n",
    "dtc_weighed.fit(features_train, target_train)\n",
    "\n",
    "best_estimator_dtc_weighed = dtc_weighed.best_estimator_"
   ]
  },
  {
   "cell_type": "code",
   "execution_count": 44,
   "id": "8775a00c",
   "metadata": {},
   "outputs": [
    {
     "data": {
      "text/plain": [
       "DecisionTreeClassifier(class_weight='balanced', max_depth=8,\n",
       "                       max_features='auto', min_samples_leaf=3,\n",
       "                       min_samples_split=8, random_state=12345)"
      ]
     },
     "execution_count": 44,
     "metadata": {},
     "output_type": "execute_result"
    }
   ],
   "source": [
    "best_estimator_dtc_weighed"
   ]
  },
  {
   "cell_type": "markdown",
   "id": "1ee77e91",
   "metadata": {},
   "source": [
    "**- Will calculate the quality metric F1_score on the validation sample**"
   ]
  },
  {
   "cell_type": "code",
   "execution_count": 45,
   "id": "df242f8d",
   "metadata": {},
   "outputs": [
    {
     "data": {
      "text/plain": [
       "0.5373134328358209"
      ]
     },
     "execution_count": 45,
     "metadata": {},
     "output_type": "execute_result"
    }
   ],
   "source": [
    "dtc_weighed.score(features_valid, target_valid)"
   ]
  },
  {
   "cell_type": "markdown",
   "id": "c7d0b501",
   "metadata": {},
   "source": [
    "**- Will calculate the quality metric AUC_ROC on the validation sample**"
   ]
  },
  {
   "cell_type": "code",
   "execution_count": 46,
   "id": "d73cc1cc",
   "metadata": {},
   "outputs": [
    {
     "data": {
      "text/plain": [
       "0.791624444166817"
      ]
     },
     "execution_count": 46,
     "metadata": {},
     "output_type": "execute_result"
    }
   ],
   "source": [
    "probabilities_valid = dtc_weighed.predict_proba(features_valid)\n",
    "probabilities_one_valid = probabilities_valid[:, 1]\n",
    "auc_roc = roc_auc_score(target_valid, probabilities_one_valid)\n",
    "auc_roc"
   ]
  },
  {
   "cell_type": "markdown",
   "id": "a577fa36",
   "metadata": {},
   "source": [
    "**- Will display the main metrics report and confusion matrix**"
   ]
  },
  {
   "cell_type": "code",
   "execution_count": 47,
   "id": "3ee6e616",
   "metadata": {},
   "outputs": [
    {
     "name": "stdout",
     "output_type": "stream",
     "text": [
      "              precision    recall  f1-score   support\n",
      "\n",
      "           0       0.92      0.73      0.82      1593\n",
      "           1       0.42      0.75      0.54       407\n",
      "\n",
      "    accuracy                           0.74      2000\n",
      "   macro avg       0.67      0.74      0.68      2000\n",
      "weighted avg       0.82      0.74      0.76      2000\n",
      "\n"
     ]
    },
    {
     "data": {
      "text/html": [
       "<div>\n",
       "<style scoped>\n",
       "    .dataframe tbody tr th:only-of-type {\n",
       "        vertical-align: middle;\n",
       "    }\n",
       "\n",
       "    .dataframe tbody tr th {\n",
       "        vertical-align: top;\n",
       "    }\n",
       "\n",
       "    .dataframe thead th {\n",
       "        text-align: right;\n",
       "    }\n",
       "</style>\n",
       "<table border=\"1\" class=\"dataframe\">\n",
       "  <thead>\n",
       "    <tr style=\"text-align: right;\">\n",
       "      <th></th>\n",
       "      <th>0</th>\n",
       "      <th>1</th>\n",
       "    </tr>\n",
       "  </thead>\n",
       "  <tbody>\n",
       "    <tr>\n",
       "      <th>0</th>\n",
       "      <td>1167</td>\n",
       "      <td>426</td>\n",
       "    </tr>\n",
       "    <tr>\n",
       "      <th>1</th>\n",
       "      <td>101</td>\n",
       "      <td>306</td>\n",
       "    </tr>\n",
       "  </tbody>\n",
       "</table>\n",
       "</div>"
      ],
      "text/plain": [
       "      0    1\n",
       "0  1167  426\n",
       "1   101  306"
      ]
     },
     "execution_count": 47,
     "metadata": {},
     "output_type": "execute_result"
    }
   ],
   "source": [
    "print(classification_report(target_valid, dtc_weighed.predict(features_valid)))\n",
    "pd.DataFrame(confusion_matrix(target_valid, dtc_weighed.predict(features_valid)))"
   ]
  },
  {
   "cell_type": "markdown",
   "id": "0b62e48e",
   "metadata": {},
   "source": [
    "**Conclusion:**.\n",
    "\n",
    "1. The model also performed poorly with class balancing - the quality is poor: F1-Score is 0.54 (without balancing it was 0.51).\n",
    "2. The model is much better at finding the positive class (recall) - 0.75 (without balancing it was 0.40).\n",
    "3. The model's precision is very low, 0.42 (it was 0.69 without balancing).\n",
    "4. Area under the curve (AUC-ROC) slightly decreased - 0.79 (was 0.81)."
   ]
  },
  {
   "cell_type": "markdown",
   "id": "5fb582f2",
   "metadata": {},
   "source": [
    "Let's supplement the cumulative list of models with quality metric and hyperparameters of the Decision Tree model on balanced data."
   ]
  },
  {
   "cell_type": "code",
   "execution_count": 48,
   "id": "93f74ab8",
   "metadata": {},
   "outputs": [],
   "source": [
    "# supplementing models list with Decision Tree Classifier on balanced data\n",
    "\n",
    "models_list.append(('dtc_weighed', dtc_weighed.score(features_valid, target_valid), best_estimator_dtc_weighed))"
   ]
  },
  {
   "cell_type": "markdown",
   "id": "b280f818",
   "metadata": {},
   "source": [
    "#### Random Forest Classifier"
   ]
  },
  {
   "cell_type": "code",
   "execution_count": 49,
   "id": "a4ce06de",
   "metadata": {},
   "outputs": [],
   "source": [
    "rfc = RandomForestClassifier(random_state=12345, n_estimators=100, class_weight='balanced', max_features='auto')"
   ]
  },
  {
   "cell_type": "code",
   "execution_count": 50,
   "id": "1c29ae19",
   "metadata": {},
   "outputs": [
    {
     "name": "stdout",
     "output_type": "stream",
     "text": [
      "Fitting 3 folds for each of 900 candidates, totalling 2700 fits\n"
     ]
    }
   ],
   "source": [
    "# creating a hyperparameter grid for cross validation\n",
    "\n",
    "param_grid = {'max_depth': range(5, 15), 'min_samples_leaf': range(1, 20, 2), 'min_samples_split': range(2, 20, 2)}\n",
    "    \n",
    "rfc_weighed = GridSearchCV(estimator=rfc,\n",
    "                            param_grid=param_grid,\n",
    "                            scoring='f1', cv=3,\n",
    "                            verbose=1, n_jobs=-1)\n",
    "\n",
    "rfc_weighed.fit(features_train, target_train)\n",
    "\n",
    "best_estimator_rfc_weighed = rfc_weighed.best_estimator_"
   ]
  },
  {
   "cell_type": "code",
   "execution_count": 51,
   "id": "169433ae",
   "metadata": {},
   "outputs": [
    {
     "data": {
      "text/plain": [
       "RandomForestClassifier(class_weight='balanced', max_depth=13,\n",
       "                       min_samples_split=8, random_state=12345)"
      ]
     },
     "execution_count": 51,
     "metadata": {},
     "output_type": "execute_result"
    }
   ],
   "source": [
    "best_estimator_rfc_weighed"
   ]
  },
  {
   "cell_type": "markdown",
   "id": "5e8471f2",
   "metadata": {},
   "source": [
    "**- Will calculate the quality metric F1_score on the validation sample**"
   ]
  },
  {
   "cell_type": "code",
   "execution_count": 52,
   "id": "4923fefa",
   "metadata": {},
   "outputs": [
    {
     "data": {
      "text/plain": [
       "0.6404199475065617"
      ]
     },
     "execution_count": 52,
     "metadata": {},
     "output_type": "execute_result"
    }
   ],
   "source": [
    "rfc_weighed.score(features_valid, target_valid)"
   ]
  },
  {
   "cell_type": "markdown",
   "id": "6770a1e2",
   "metadata": {},
   "source": [
    "**- Will calculate the quality metric AUC_ROC on the validation sample**"
   ]
  },
  {
   "cell_type": "code",
   "execution_count": 53,
   "id": "70f07dcc",
   "metadata": {},
   "outputs": [
    {
     "data": {
      "text/plain": [
       "0.867986630698495"
      ]
     },
     "execution_count": 53,
     "metadata": {},
     "output_type": "execute_result"
    }
   ],
   "source": [
    "probabilities_valid = rfc_weighed.predict_proba(features_valid)\n",
    "probabilities_one_valid = probabilities_valid[:, 1]\n",
    "auc_roc = roc_auc_score(target_valid, probabilities_one_valid)\n",
    "auc_roc"
   ]
  },
  {
   "cell_type": "markdown",
   "id": "9bb6a214",
   "metadata": {},
   "source": [
    "**- Will display the main metrics report and confusion matrix**"
   ]
  },
  {
   "cell_type": "code",
   "execution_count": 54,
   "id": "29955c77",
   "metadata": {},
   "outputs": [
    {
     "name": "stdout",
     "output_type": "stream",
     "text": [
      "              precision    recall  f1-score   support\n",
      "\n",
      "           0       0.90      0.93      0.92      1593\n",
      "           1       0.69      0.60      0.64       407\n",
      "\n",
      "    accuracy                           0.86      2000\n",
      "   macro avg       0.79      0.76      0.78      2000\n",
      "weighted avg       0.86      0.86      0.86      2000\n",
      "\n"
     ]
    },
    {
     "data": {
      "text/html": [
       "<div>\n",
       "<style scoped>\n",
       "    .dataframe tbody tr th:only-of-type {\n",
       "        vertical-align: middle;\n",
       "    }\n",
       "\n",
       "    .dataframe tbody tr th {\n",
       "        vertical-align: top;\n",
       "    }\n",
       "\n",
       "    .dataframe thead th {\n",
       "        text-align: right;\n",
       "    }\n",
       "</style>\n",
       "<table border=\"1\" class=\"dataframe\">\n",
       "  <thead>\n",
       "    <tr style=\"text-align: right;\">\n",
       "      <th></th>\n",
       "      <th>0</th>\n",
       "      <th>1</th>\n",
       "    </tr>\n",
       "  </thead>\n",
       "  <tbody>\n",
       "    <tr>\n",
       "      <th>0</th>\n",
       "      <td>1482</td>\n",
       "      <td>111</td>\n",
       "    </tr>\n",
       "    <tr>\n",
       "      <th>1</th>\n",
       "      <td>163</td>\n",
       "      <td>244</td>\n",
       "    </tr>\n",
       "  </tbody>\n",
       "</table>\n",
       "</div>"
      ],
      "text/plain": [
       "      0    1\n",
       "0  1482  111\n",
       "1   163  244"
      ]
     },
     "execution_count": 54,
     "metadata": {},
     "output_type": "execute_result"
    }
   ],
   "source": [
    "print(classification_report(target_valid, rfc_weighed.predict(features_valid)))\n",
    "pd.DataFrame(confusion_matrix(target_valid, rfc_weighed.predict(features_valid)))"
   ]
  },
  {
   "cell_type": "markdown",
   "id": "f75251e7",
   "metadata": {},
   "source": [
    "**Conclusion:**.\n",
    "\n",
    "1. The model showed a significant increase in quality after class balancing: F1-Score - 0.64 (before balancing it was 0.57).\n",
    "2. The model is significantly better at finding the positive class (recall) - 0.60 (before balancing it was 0.45).\n",
    "3. At the same time, model's precision was noticeably decreased, it was 0.69 (0.79 before balancing).\n",
    "4. The area under the curve (AUC-ROC) remained virtually unchanged, 0.87 (was 0.86)."
   ]
  },
  {
   "cell_type": "markdown",
   "id": "69a41c42",
   "metadata": {},
   "source": [
    "Let's supplement the cumulative list of models with quality metric and hyperparameters of the Random Forest model on balanced data."
   ]
  },
  {
   "cell_type": "code",
   "execution_count": 55,
   "id": "89224378",
   "metadata": {},
   "outputs": [],
   "source": [
    "# supplementing the models list with Random Forest Classifier on balanced data\n",
    "\n",
    "models_list.append(('rfc_weighed', rfc_weighed.score(features_valid, target_valid), best_estimator_rfc_weighed))"
   ]
  },
  {
   "cell_type": "markdown",
   "id": "7c6e979a",
   "metadata": {},
   "source": [
    "### Upsampling"
   ]
  },
  {
   "cell_type": "markdown",
   "id": "62d7bcc2",
   "metadata": {},
   "source": [
    "Let's make the rare objects in our sample not so rare. To do this, we apply the **upsampling** technique, i.e. we copy the positive class objects several times on the training dataset and merge them with the negative class objects."
   ]
  },
  {
   "cell_type": "code",
   "execution_count": 56,
   "id": "870f9d47",
   "metadata": {},
   "outputs": [],
   "source": [
    "# duplicating 4 times the positive class objects (as there are four times fewer than negative class objects)\n",
    "\n",
    "def upsample(features, target, repeat):\n",
    "    features_zeros = features[target == 0]\n",
    "    features_ones = features[target == 1]\n",
    "    target_zeros = target[target == 0]\n",
    "    target_ones = target[target == 1]\n",
    "\n",
    "    features_upsampled = pd.concat([features_zeros] + [features_ones] * repeat)\n",
    "    target_upsampled = pd.concat([target_zeros] + [target_ones] * repeat)\n",
    "    \n",
    "    features_upsampled, target_upsampled = shuffle(\n",
    "        features_upsampled, target_upsampled, random_state=12345)\n",
    "    \n",
    "    return features_upsampled, target_upsampled\n",
    "\n",
    "features_upsampled, target_upsampled = upsample(features_train, target_train, 4)"
   ]
  },
  {
   "cell_type": "markdown",
   "id": "b4a68fa3",
   "metadata": {},
   "source": [
    "#### Decision Tree Classifier"
   ]
  },
  {
   "cell_type": "markdown",
   "id": "beec2255",
   "metadata": {},
   "source": [
    "Let's investigate the Decision Tree model on a upsampled data."
   ]
  },
  {
   "cell_type": "code",
   "execution_count": 57,
   "id": "faa482b4",
   "metadata": {},
   "outputs": [],
   "source": [
    "dtc = DecisionTreeClassifier(random_state=12345, max_features='auto')"
   ]
  },
  {
   "cell_type": "code",
   "execution_count": 58,
   "id": "f7403e54",
   "metadata": {},
   "outputs": [
    {
     "name": "stdout",
     "output_type": "stream",
     "text": [
      "Fitting 3 folds for each of 900 candidates, totalling 2700 fits\n"
     ]
    }
   ],
   "source": [
    "# creating a hyperparameter grid for cross validation\n",
    "\n",
    "param_grid = {'max_depth': range(5, 15), 'min_samples_leaf': range(1, 20, 2), 'min_samples_split': range(2, 20, 2)}\n",
    "    \n",
    "dtc_upsampled = GridSearchCV(estimator=dtc,\n",
    "                            param_grid=param_grid,\n",
    "                            scoring='f1', cv=3,\n",
    "                            verbose=1, n_jobs=-1)\n",
    "\n",
    "dtc_upsampled.fit(features_upsampled, target_upsampled)\n",
    "\n",
    "best_estimator_dtc_upsampled = dtc_upsampled.best_estimator_"
   ]
  },
  {
   "cell_type": "code",
   "execution_count": 59,
   "id": "8b1c6661",
   "metadata": {},
   "outputs": [
    {
     "data": {
      "text/plain": [
       "DecisionTreeClassifier(max_depth=14, max_features='auto', random_state=12345)"
      ]
     },
     "execution_count": 59,
     "metadata": {},
     "output_type": "execute_result"
    }
   ],
   "source": [
    "best_estimator_dtc_upsampled"
   ]
  },
  {
   "cell_type": "markdown",
   "id": "321c411a",
   "metadata": {},
   "source": [
    "**- Will calculate the quality metric F1_score on the validation sample**"
   ]
  },
  {
   "cell_type": "code",
   "execution_count": 60,
   "id": "140c7319",
   "metadata": {},
   "outputs": [
    {
     "data": {
      "text/plain": [
       "0.4954545454545454"
      ]
     },
     "execution_count": 60,
     "metadata": {},
     "output_type": "execute_result"
    }
   ],
   "source": [
    "dtc_upsampled.score(features_valid, target_valid)"
   ]
  },
  {
   "cell_type": "markdown",
   "id": "956a520f",
   "metadata": {},
   "source": [
    "**- Will calculate the quality metric AUC_ROC on the validation sample**"
   ]
  },
  {
   "cell_type": "code",
   "execution_count": 61,
   "id": "02ac3ade",
   "metadata": {},
   "outputs": [
    {
     "data": {
      "text/plain": [
       "0.6962964505337387"
      ]
     },
     "execution_count": 61,
     "metadata": {},
     "output_type": "execute_result"
    }
   ],
   "source": [
    "probabilities_valid = dtc_upsampled.predict_proba(features_valid)\n",
    "probabilities_one_valid = probabilities_valid[:, 1]\n",
    "auc_roc = roc_auc_score(target_valid, probabilities_one_valid)\n",
    "auc_roc"
   ]
  },
  {
   "cell_type": "markdown",
   "id": "373fbb4c",
   "metadata": {},
   "source": [
    "**- Will display the main metrics report and confusion matrix**"
   ]
  },
  {
   "cell_type": "code",
   "execution_count": 62,
   "id": "d0ee3da7",
   "metadata": {},
   "outputs": [
    {
     "name": "stdout",
     "output_type": "stream",
     "text": [
      "              precision    recall  f1-score   support\n",
      "\n",
      "           0       0.88      0.84      0.86      1593\n",
      "           1       0.46      0.54      0.50       407\n",
      "\n",
      "    accuracy                           0.78      2000\n",
      "   macro avg       0.67      0.69      0.68      2000\n",
      "weighted avg       0.79      0.78      0.78      2000\n",
      "\n"
     ]
    },
    {
     "data": {
      "text/html": [
       "<div>\n",
       "<style scoped>\n",
       "    .dataframe tbody tr th:only-of-type {\n",
       "        vertical-align: middle;\n",
       "    }\n",
       "\n",
       "    .dataframe tbody tr th {\n",
       "        vertical-align: top;\n",
       "    }\n",
       "\n",
       "    .dataframe thead th {\n",
       "        text-align: right;\n",
       "    }\n",
       "</style>\n",
       "<table border=\"1\" class=\"dataframe\">\n",
       "  <thead>\n",
       "    <tr style=\"text-align: right;\">\n",
       "      <th></th>\n",
       "      <th>0</th>\n",
       "      <th>1</th>\n",
       "    </tr>\n",
       "  </thead>\n",
       "  <tbody>\n",
       "    <tr>\n",
       "      <th>0</th>\n",
       "      <td>1338</td>\n",
       "      <td>255</td>\n",
       "    </tr>\n",
       "    <tr>\n",
       "      <th>1</th>\n",
       "      <td>189</td>\n",
       "      <td>218</td>\n",
       "    </tr>\n",
       "  </tbody>\n",
       "</table>\n",
       "</div>"
      ],
      "text/plain": [
       "      0    1\n",
       "0  1338  255\n",
       "1   189  218"
      ]
     },
     "execution_count": 62,
     "metadata": {},
     "output_type": "execute_result"
    }
   ],
   "source": [
    "print(classification_report(target_valid, dtc_upsampled.predict(features_valid)))\n",
    "pd.DataFrame(confusion_matrix(target_valid, dtc_upsampled.predict(features_valid)))"
   ]
  },
  {
   "cell_type": "markdown",
   "id": "8eb089af",
   "metadata": {},
   "source": [
    "**Conclusion:**.\n",
    "\n",
    "1. Increasing the positive class in the sample had a bad effect on the quality of the model: F1-Score - 0.50.\n",
    "2. The model has a rather poor positive class (recall) - 0.54. \n",
    "3. the precision of the model is also low - 0.46.\n",
    "4. Area under the curve (AUC-ROC) is 0.70.\n",
    "\n",
    "Increasing the sample did not have any effect. The value of the quality score decreased significantly."
   ]
  },
  {
   "cell_type": "markdown",
   "id": "6ebe6c2f",
   "metadata": {},
   "source": [
    "Let's supplement the cumulative list of models with quality metric and hyperparameters of the Decision Tree model on upsampled data."
   ]
  },
  {
   "cell_type": "code",
   "execution_count": 63,
   "id": "af4113ca",
   "metadata": {},
   "outputs": [],
   "source": [
    "# supplementing the list of models with Decision Tree Classifier on upsampled data\n",
    "\n",
    "models_list.append(('dtc_upsampled', dtc_upsampled.score(features_valid, target_valid), best_estimator_dtc_upsampled))"
   ]
  },
  {
   "cell_type": "markdown",
   "id": "b86cf1d8",
   "metadata": {},
   "source": [
    "#### Random Forest Classifier"
   ]
  },
  {
   "cell_type": "markdown",
   "id": "412acde3",
   "metadata": {},
   "source": [
    "Let's investigate the Random Forest model on a upsampled data."
   ]
  },
  {
   "cell_type": "code",
   "execution_count": 64,
   "id": "f36806c6",
   "metadata": {},
   "outputs": [],
   "source": [
    "rfc = RandomForestClassifier(random_state=12345, n_estimators=100, max_features='auto')"
   ]
  },
  {
   "cell_type": "code",
   "execution_count": 65,
   "id": "5dc53c92",
   "metadata": {},
   "outputs": [
    {
     "name": "stdout",
     "output_type": "stream",
     "text": [
      "Fitting 3 folds for each of 900 candidates, totalling 2700 fits\n"
     ]
    }
   ],
   "source": [
    "# creating a hyperparameter grid for cross validation\n",
    "\n",
    "param_grid = {'max_depth': range(5, 15), 'min_samples_leaf': range(1, 20, 2), 'min_samples_split': range(2, 20, 2)}\n",
    "    \n",
    "rfc_upsampled = GridSearchCV(estimator=rfc,\n",
    "                            param_grid=param_grid,\n",
    "                            scoring='f1', cv=3,\n",
    "                            verbose=1, n_jobs=-1)\n",
    "\n",
    "rfc_upsampled.fit(features_upsampled, target_upsampled)\n",
    "\n",
    "best_estimator_rfc_upsampled = rfc_upsampled.best_estimator_"
   ]
  },
  {
   "cell_type": "code",
   "execution_count": 66,
   "id": "c6a100df",
   "metadata": {},
   "outputs": [
    {
     "data": {
      "text/plain": [
       "RandomForestClassifier(max_depth=14, random_state=12345)"
      ]
     },
     "execution_count": 66,
     "metadata": {},
     "output_type": "execute_result"
    }
   ],
   "source": [
    "best_estimator_rfc_upsampled"
   ]
  },
  {
   "cell_type": "markdown",
   "id": "0f2d7a59",
   "metadata": {},
   "source": [
    "**- Will calculate the quality metric F1_score on the validation sample**"
   ]
  },
  {
   "cell_type": "code",
   "execution_count": 67,
   "id": "b6703f1d",
   "metadata": {},
   "outputs": [
    {
     "data": {
      "text/plain": [
       "0.6045340050377833"
      ]
     },
     "execution_count": 67,
     "metadata": {},
     "output_type": "execute_result"
    }
   ],
   "source": [
    "rfc_upsampled.score(features_valid, target_valid)"
   ]
  },
  {
   "cell_type": "markdown",
   "id": "5b8df849",
   "metadata": {},
   "source": [
    "**- Will calculate the quality metric AUC_ROC on the validation sample**"
   ]
  },
  {
   "cell_type": "code",
   "execution_count": 68,
   "id": "a9b19abc",
   "metadata": {},
   "outputs": [
    {
     "data": {
      "text/plain": [
       "0.8585735195904687"
      ]
     },
     "execution_count": 68,
     "metadata": {},
     "output_type": "execute_result"
    }
   ],
   "source": [
    "probabilities_valid = rfc_upsampled.predict_proba(features_valid)\n",
    "probabilities_one_valid = probabilities_valid[:, 1]\n",
    "auc_roc = roc_auc_score(target_valid, probabilities_one_valid)\n",
    "auc_roc"
   ]
  },
  {
   "cell_type": "markdown",
   "id": "85a94861",
   "metadata": {},
   "source": [
    "**- Will display the main metrics report and confusion matrix**"
   ]
  },
  {
   "cell_type": "code",
   "execution_count": 69,
   "id": "9e48705b",
   "metadata": {},
   "outputs": [
    {
     "name": "stdout",
     "output_type": "stream",
     "text": [
      "              precision    recall  f1-score   support\n",
      "\n",
      "           0       0.90      0.91      0.90      1593\n",
      "           1       0.62      0.59      0.60       407\n",
      "\n",
      "    accuracy                           0.84      2000\n",
      "   macro avg       0.76      0.75      0.75      2000\n",
      "weighted avg       0.84      0.84      0.84      2000\n",
      "\n"
     ]
    },
    {
     "data": {
      "text/html": [
       "<div>\n",
       "<style scoped>\n",
       "    .dataframe tbody tr th:only-of-type {\n",
       "        vertical-align: middle;\n",
       "    }\n",
       "\n",
       "    .dataframe tbody tr th {\n",
       "        vertical-align: top;\n",
       "    }\n",
       "\n",
       "    .dataframe thead th {\n",
       "        text-align: right;\n",
       "    }\n",
       "</style>\n",
       "<table border=\"1\" class=\"dataframe\">\n",
       "  <thead>\n",
       "    <tr style=\"text-align: right;\">\n",
       "      <th></th>\n",
       "      <th>0</th>\n",
       "      <th>1</th>\n",
       "    </tr>\n",
       "  </thead>\n",
       "  <tbody>\n",
       "    <tr>\n",
       "      <th>0</th>\n",
       "      <td>1446</td>\n",
       "      <td>147</td>\n",
       "    </tr>\n",
       "    <tr>\n",
       "      <th>1</th>\n",
       "      <td>167</td>\n",
       "      <td>240</td>\n",
       "    </tr>\n",
       "  </tbody>\n",
       "</table>\n",
       "</div>"
      ],
      "text/plain": [
       "      0    1\n",
       "0  1446  147\n",
       "1   167  240"
      ]
     },
     "execution_count": 69,
     "metadata": {},
     "output_type": "execute_result"
    }
   ],
   "source": [
    "print(classification_report(target_valid, rfc_upsampled.predict(features_valid)))\n",
    "pd.DataFrame(confusion_matrix(target_valid, rfc_upsampled.predict(features_valid)))"
   ]
  },
  {
   "cell_type": "markdown",
   "id": "57e6f0a5",
   "metadata": {},
   "source": [
    "**Conclusion:**.\n",
    "\n",
    "1. The model on the upsampled data performed worse than the balanced classes: F1-Score of 0.60 (with balanced classes it was 0.64).\n",
    "2. The model finds almost the same positive class (recall) - 0.59 (with balanced classes it was 0.60).\n",
    "3. the model's precision slightly decreased to 0.62 (with balanced classes it was 0.69).\n",
    "4. Area under the curve (AUC-ROC) remained almost unchanged - 0.86 (with balanced classes it was 0.87).\n",
    "\n",
    "Overall, the result decreased slightly with a upsampling compared to the weighted classes model."
   ]
  },
  {
   "cell_type": "markdown",
   "id": "a23a43d5",
   "metadata": {},
   "source": [
    "Let's supplement the cumulative list of models with quality metric and hyperparameters of the Random Forest model on upsampled data."
   ]
  },
  {
   "cell_type": "code",
   "execution_count": 70,
   "id": "0feb65a4",
   "metadata": {},
   "outputs": [],
   "source": [
    "# supplementing the list of models with Random Forest Classifier on upsampled data\n",
    "\n",
    "models_list.append(('rfc_upsampled', rfc_upsampled.score(features_valid, target_valid), best_estimator_rfc_upsampled))"
   ]
  },
  {
   "cell_type": "markdown",
   "id": "00f42001",
   "metadata": {},
   "source": [
    "### Downsampling"
   ]
  },
  {
   "cell_type": "markdown",
   "id": "d5eed96c",
   "metadata": {},
   "source": [
    "Let's make the frequent objects of our sample not so frequent. To do this, we apply the **downsampling** technique, i.e. we randomly discard some of the negative class objects on the training dataset and merge them with the positive class objects."
   ]
  },
  {
   "cell_type": "code",
   "execution_count": 71,
   "id": "9a09a553",
   "metadata": {},
   "outputs": [],
   "source": [
    "# excluding negative class objects and leave the proportion equal to 0.25 of negative objects from the original data\n",
    "\n",
    "def downsample(features, target, fraction):\n",
    "    features_zeros = features[target == 0]\n",
    "    features_ones = features[target == 1]\n",
    "    target_zeros = target[target == 0]\n",
    "    target_ones = target[target == 1]\n",
    "\n",
    "    features_downsampled = pd.concat(\n",
    "        [features_zeros.sample(frac=fraction, random_state=12345)] + [features_ones])\n",
    "    target_downsampled = pd.concat(\n",
    "        [target_zeros.sample(frac=fraction, random_state=12345)] + [target_ones])\n",
    "    \n",
    "    features_downsampled, target_downsampled = shuffle(\n",
    "        features_downsampled, target_downsampled, random_state=12345)\n",
    "    \n",
    "    return features_downsampled, target_downsampled\n",
    "\n",
    "features_downsampled, target_downsampled = downsample(features_train, target_train, 0.25)"
   ]
  },
  {
   "cell_type": "markdown",
   "id": "3166d6e3",
   "metadata": {},
   "source": [
    "#### Decision Tree Classifier"
   ]
  },
  {
   "cell_type": "markdown",
   "id": "69bd7673",
   "metadata": {},
   "source": [
    "Let's investigate the Decision Tree model on a downsampled data."
   ]
  },
  {
   "cell_type": "code",
   "execution_count": 72,
   "id": "9cb0cb1c",
   "metadata": {},
   "outputs": [],
   "source": [
    "dtc = DecisionTreeClassifier(random_state=12345, max_features='auto')"
   ]
  },
  {
   "cell_type": "code",
   "execution_count": 73,
   "id": "f982c8d8",
   "metadata": {},
   "outputs": [
    {
     "name": "stdout",
     "output_type": "stream",
     "text": [
      "Fitting 3 folds for each of 900 candidates, totalling 2700 fits\n"
     ]
    }
   ],
   "source": [
    "# creating a hyperparameter grid for cross validation\n",
    "\n",
    "param_grid = {'max_depth': range(5, 15), 'min_samples_leaf': range(1, 20, 2), 'min_samples_split': range(2, 20, 2)}\n",
    "    \n",
    "dtc_downsampled = GridSearchCV(estimator=dtc,\n",
    "                            param_grid=param_grid,\n",
    "                            scoring='f1', cv=3,\n",
    "                            verbose=1, n_jobs=-1)\n",
    "\n",
    "dtc_downsampled.fit(features_downsampled, target_downsampled)\n",
    "\n",
    "best_estimator_dtc_downsampled = dtc_downsampled.best_estimator_"
   ]
  },
  {
   "cell_type": "code",
   "execution_count": 74,
   "id": "ac89ab88",
   "metadata": {},
   "outputs": [
    {
     "data": {
      "text/plain": [
       "DecisionTreeClassifier(max_depth=14, max_features='auto', random_state=12345)"
      ]
     },
     "execution_count": 74,
     "metadata": {},
     "output_type": "execute_result"
    }
   ],
   "source": [
    "best_estimator_dtc_upsampled"
   ]
  },
  {
   "cell_type": "markdown",
   "id": "528c4bcf",
   "metadata": {},
   "source": [
    "**- Will calculate the quality metric F1_score on the validation sample**"
   ]
  },
  {
   "cell_type": "code",
   "execution_count": 75,
   "id": "3c423f87",
   "metadata": {},
   "outputs": [
    {
     "data": {
      "text/plain": [
       "0.5445736434108527"
      ]
     },
     "execution_count": 75,
     "metadata": {},
     "output_type": "execute_result"
    }
   ],
   "source": [
    "dtc_downsampled.score(features_valid, target_valid)"
   ]
  },
  {
   "cell_type": "markdown",
   "id": "14dd26c5",
   "metadata": {},
   "source": [
    "**- Will calculate the quality metric AUC_ROC on the validation sample**"
   ]
  },
  {
   "cell_type": "code",
   "execution_count": 76,
   "id": "51ed01f3",
   "metadata": {},
   "outputs": [
    {
     "data": {
      "text/plain": [
       "0.7920586225670971"
      ]
     },
     "execution_count": 76,
     "metadata": {},
     "output_type": "execute_result"
    }
   ],
   "source": [
    "probabilities_valid = dtc_downsampled.predict_proba(features_valid)\n",
    "probabilities_one_valid = probabilities_valid[:, 1]\n",
    "auc_roc = roc_auc_score(target_valid, probabilities_one_valid)\n",
    "auc_roc"
   ]
  },
  {
   "cell_type": "markdown",
   "id": "7653984f",
   "metadata": {},
   "source": [
    "**- Will display the main metrics report and confusion matrix**"
   ]
  },
  {
   "cell_type": "code",
   "execution_count": 77,
   "id": "f04355df",
   "metadata": {},
   "outputs": [
    {
     "name": "stdout",
     "output_type": "stream",
     "text": [
      "              precision    recall  f1-score   support\n",
      "\n",
      "           0       0.91      0.78      0.84      1593\n",
      "           1       0.45      0.69      0.54       407\n",
      "\n",
      "    accuracy                           0.77      2000\n",
      "   macro avg       0.68      0.74      0.69      2000\n",
      "weighted avg       0.82      0.77      0.78      2000\n",
      "\n"
     ]
    },
    {
     "data": {
      "text/html": [
       "<div>\n",
       "<style scoped>\n",
       "    .dataframe tbody tr th:only-of-type {\n",
       "        vertical-align: middle;\n",
       "    }\n",
       "\n",
       "    .dataframe tbody tr th {\n",
       "        vertical-align: top;\n",
       "    }\n",
       "\n",
       "    .dataframe thead th {\n",
       "        text-align: right;\n",
       "    }\n",
       "</style>\n",
       "<table border=\"1\" class=\"dataframe\">\n",
       "  <thead>\n",
       "    <tr style=\"text-align: right;\">\n",
       "      <th></th>\n",
       "      <th>0</th>\n",
       "      <th>1</th>\n",
       "    </tr>\n",
       "  </thead>\n",
       "  <tbody>\n",
       "    <tr>\n",
       "      <th>0</th>\n",
       "      <td>1249</td>\n",
       "      <td>344</td>\n",
       "    </tr>\n",
       "    <tr>\n",
       "      <th>1</th>\n",
       "      <td>126</td>\n",
       "      <td>281</td>\n",
       "    </tr>\n",
       "  </tbody>\n",
       "</table>\n",
       "</div>"
      ],
      "text/plain": [
       "      0    1\n",
       "0  1249  344\n",
       "1   126  281"
      ]
     },
     "execution_count": 77,
     "metadata": {},
     "output_type": "execute_result"
    }
   ],
   "source": [
    "print(classification_report(target_valid, dtc_downsampled.predict(features_valid)))\n",
    "pd.DataFrame(confusion_matrix(target_valid, dtc_downsampled.predict(features_valid)))"
   ]
  },
  {
   "cell_type": "markdown",
   "id": "f3cd8928",
   "metadata": {},
   "source": [
    "**Conclusion:**.\n",
    "\n",
    "1. With a reduced negative class, the result improved slightly over the enlarged sample: F1-Score is 0.54 (with the upsampling\n",
    "2. The model is slightly better at identifying the positive class (recall) - 0.69 (it was 0.54 with the upsampling). \n",
    "3. the model's precision is also low at 0.45 (it was 0.46 in the upsampling).\n",
    "4. Area under the curve (AUC-ROC) is 0.79 (it was 0.70 for upsampling).\n",
    "\n",
    "The result is close to the Decision Tree model with weighted classes."
   ]
  },
  {
   "cell_type": "markdown",
   "id": "7b1f37ea",
   "metadata": {},
   "source": [
    "Let's supplement the cumulative list of models with quality metric and hyperparameters of the Decision Tree model on downsampled data."
   ]
  },
  {
   "cell_type": "code",
   "execution_count": 78,
   "id": "369e8b00",
   "metadata": {},
   "outputs": [],
   "source": [
    "# supplementing the list of models with Decision Tree Classifier on downsampled data\n",
    "\n",
    "models_list.append(('dtc_downsampled', dtc_downsampled.score(features_valid, target_valid), best_estimator_dtc_downsampled))"
   ]
  },
  {
   "cell_type": "markdown",
   "id": "c0b58213",
   "metadata": {},
   "source": [
    "#### Random Forest Classifier"
   ]
  },
  {
   "cell_type": "markdown",
   "id": "c32ddbf3",
   "metadata": {},
   "source": [
    "Let's investigate the Random Forest model on a downsampled data."
   ]
  },
  {
   "cell_type": "code",
   "execution_count": 79,
   "id": "f4521f3d",
   "metadata": {},
   "outputs": [],
   "source": [
    "rfc = RandomForestClassifier(random_state=12345, n_estimators=100, max_features='auto')"
   ]
  },
  {
   "cell_type": "code",
   "execution_count": 80,
   "id": "0da16fa7",
   "metadata": {},
   "outputs": [
    {
     "name": "stdout",
     "output_type": "stream",
     "text": [
      "Fitting 3 folds for each of 900 candidates, totalling 2700 fits\n"
     ]
    }
   ],
   "source": [
    "# creating a hyperparameter grid for cross validation\n",
    "\n",
    "param_grid = {'max_depth': range(5, 15), 'min_samples_leaf': range(1, 20, 2), 'min_samples_split': range(2, 20, 2)}\n",
    "    \n",
    "rfc_downsampled = GridSearchCV(estimator=rfc,\n",
    "                            param_grid=param_grid,\n",
    "                            scoring='f1', cv=3,\n",
    "                            verbose=1, n_jobs=-1)\n",
    "\n",
    "rfc_downsampled.fit(features_downsampled, target_downsampled)\n",
    "\n",
    "best_estimator_rfc_downsampled = rfc_downsampled.best_estimator_"
   ]
  },
  {
   "cell_type": "code",
   "execution_count": 81,
   "id": "c030b741",
   "metadata": {},
   "outputs": [
    {
     "data": {
      "text/plain": [
       "RandomForestClassifier(max_depth=13, min_samples_leaf=3, min_samples_split=10,\n",
       "                       random_state=12345)"
      ]
     },
     "execution_count": 81,
     "metadata": {},
     "output_type": "execute_result"
    }
   ],
   "source": [
    "best_estimator_rfc_downsampled"
   ]
  },
  {
   "cell_type": "markdown",
   "id": "4f8d9a14",
   "metadata": {},
   "source": [
    "**- Will calculate the quality metric F1_score on the validation sample**"
   ]
  },
  {
   "cell_type": "code",
   "execution_count": 82,
   "id": "fd66e26b",
   "metadata": {},
   "outputs": [
    {
     "data": {
      "text/plain": [
       "0.606001936108422"
      ]
     },
     "execution_count": 82,
     "metadata": {},
     "output_type": "execute_result"
    }
   ],
   "source": [
    "rfc_downsampled.score(features_valid, target_valid)"
   ]
  },
  {
   "cell_type": "markdown",
   "id": "321ca4d5",
   "metadata": {},
   "source": [
    "**- Will calculate the quality metric AUC_ROC on the validation sample**"
   ]
  },
  {
   "cell_type": "code",
   "execution_count": 83,
   "id": "0f76c19a",
   "metadata": {},
   "outputs": [
    {
     "data": {
      "text/plain": [
       "0.8694565135243101"
      ]
     },
     "execution_count": 83,
     "metadata": {},
     "output_type": "execute_result"
    }
   ],
   "source": [
    "probabilities_valid = rfc_downsampled.predict_proba(features_valid)\n",
    "probabilities_one_valid = probabilities_valid[:, 1]\n",
    "auc_roc = roc_auc_score(target_valid, probabilities_one_valid)\n",
    "auc_roc"
   ]
  },
  {
   "cell_type": "markdown",
   "id": "06c028bf",
   "metadata": {},
   "source": [
    "**- Will display the main metrics report and confusion matrix**"
   ]
  },
  {
   "cell_type": "code",
   "execution_count": 84,
   "id": "6a7f648b",
   "metadata": {},
   "outputs": [
    {
     "name": "stdout",
     "output_type": "stream",
     "text": [
      "              precision    recall  f1-score   support\n",
      "\n",
      "           0       0.93      0.80      0.86      1593\n",
      "           1       0.50      0.77      0.61       407\n",
      "\n",
      "    accuracy                           0.80      2000\n",
      "   macro avg       0.72      0.79      0.73      2000\n",
      "weighted avg       0.84      0.80      0.81      2000\n",
      "\n"
     ]
    },
    {
     "data": {
      "text/html": [
       "<div>\n",
       "<style scoped>\n",
       "    .dataframe tbody tr th:only-of-type {\n",
       "        vertical-align: middle;\n",
       "    }\n",
       "\n",
       "    .dataframe tbody tr th {\n",
       "        vertical-align: top;\n",
       "    }\n",
       "\n",
       "    .dataframe thead th {\n",
       "        text-align: right;\n",
       "    }\n",
       "</style>\n",
       "<table border=\"1\" class=\"dataframe\">\n",
       "  <thead>\n",
       "    <tr style=\"text-align: right;\">\n",
       "      <th></th>\n",
       "      <th>0</th>\n",
       "      <th>1</th>\n",
       "    </tr>\n",
       "  </thead>\n",
       "  <tbody>\n",
       "    <tr>\n",
       "      <th>0</th>\n",
       "      <td>1280</td>\n",
       "      <td>313</td>\n",
       "    </tr>\n",
       "    <tr>\n",
       "      <th>1</th>\n",
       "      <td>94</td>\n",
       "      <td>313</td>\n",
       "    </tr>\n",
       "  </tbody>\n",
       "</table>\n",
       "</div>"
      ],
      "text/plain": [
       "      0    1\n",
       "0  1280  313\n",
       "1    94  313"
      ]
     },
     "execution_count": 84,
     "metadata": {},
     "output_type": "execute_result"
    }
   ],
   "source": [
    "print(classification_report(target_valid, rfc_downsampled.predict(features_valid)))\n",
    "pd.DataFrame(confusion_matrix(target_valid, rfc_downsampled.predict(features_valid)))"
   ]
  },
  {
   "cell_type": "markdown",
   "id": "0e01da65",
   "metadata": {},
   "source": [
    "**Conclusion:**.\n",
    "\n",
    "1. The model on downsampled data showed almost the same result as on the upsampled: F1-Score - 0.61 (on the upsampled data it was 0.60).\n",
    "2. The model is better at finding a positive class (recall) - 0.77 (it was 0.59 on the upsampled data).\n",
    "3. the model's precision decreased significantly to 0.50 (it was 0.62 in the upsampled data).\n",
    "4. The area under the curve (AUC-ROC) remained almost unchanged - 0.87 (it was 0.86 in the upsampled data)."
   ]
  },
  {
   "cell_type": "markdown",
   "id": "d712203a",
   "metadata": {},
   "source": [
    "Let's supplement the cumulative list of models with quality metric and hyperparameters of the Random Forest model on downsampled data."
   ]
  },
  {
   "cell_type": "code",
   "execution_count": 85,
   "id": "fe37c418",
   "metadata": {},
   "outputs": [],
   "source": [
    "# supplementing the list of models with Random Forest Classifier on downsampled data\n",
    "\n",
    "models_list.append(('rfc_downsampled', rfc_downsampled.score(features_valid, target_valid), best_estimator_rfc_downsampled))"
   ]
  },
  {
   "cell_type": "code",
   "execution_count": 86,
   "id": "c0c32720",
   "metadata": {},
   "outputs": [
    {
     "data": {
      "text/plain": [
       "[('dtc_imbalanced',\n",
       "  0.5093167701863354,\n",
       "  DecisionTreeClassifier(max_depth=9, max_features='auto', min_samples_leaf=3,\n",
       "                         min_samples_split=12, random_state=12345)),\n",
       " ('rfc_imbalanced',\n",
       "  0.5736677115987461,\n",
       "  RandomForestClassifier(max_depth=13, min_samples_split=10, random_state=12345)),\n",
       " ('dtc_weighed',\n",
       "  0.5373134328358209,\n",
       "  DecisionTreeClassifier(class_weight='balanced', max_depth=8,\n",
       "                         max_features='auto', min_samples_leaf=3,\n",
       "                         min_samples_split=8, random_state=12345)),\n",
       " ('rfc_weighed',\n",
       "  0.6404199475065617,\n",
       "  RandomForestClassifier(class_weight='balanced', max_depth=13,\n",
       "                         min_samples_split=8, random_state=12345)),\n",
       " ('dtc_upsampled',\n",
       "  0.4954545454545454,\n",
       "  DecisionTreeClassifier(max_depth=14, max_features='auto', random_state=12345)),\n",
       " ('rfc_upsampled',\n",
       "  0.6045340050377833,\n",
       "  RandomForestClassifier(max_depth=14, random_state=12345)),\n",
       " ('dtc_downsampled',\n",
       "  0.5445736434108527,\n",
       "  DecisionTreeClassifier(max_depth=8, max_features='auto', min_samples_leaf=3,\n",
       "                         min_samples_split=14, random_state=12345)),\n",
       " ('rfc_downsampled',\n",
       "  0.606001936108422,\n",
       "  RandomForestClassifier(max_depth=13, min_samples_leaf=3, min_samples_split=10,\n",
       "                         random_state=12345))]"
      ]
     },
     "execution_count": 86,
     "metadata": {},
     "output_type": "execute_result"
    }
   ],
   "source": [
    "models_list"
   ]
  },
  {
   "cell_type": "markdown",
   "id": "1a8faceb",
   "metadata": {},
   "source": [
    "### Aggrigated table of models with the best F1-Score metrics"
   ]
  },
  {
   "cell_type": "code",
   "execution_count": 87,
   "id": "1b0616d8",
   "metadata": {},
   "outputs": [
    {
     "data": {
      "text/html": [
       "<div>\n",
       "<style scoped>\n",
       "    .dataframe tbody tr th:only-of-type {\n",
       "        vertical-align: middle;\n",
       "    }\n",
       "\n",
       "    .dataframe tbody tr th {\n",
       "        vertical-align: top;\n",
       "    }\n",
       "\n",
       "    .dataframe thead th {\n",
       "        text-align: right;\n",
       "    }\n",
       "</style>\n",
       "<table border=\"1\" class=\"dataframe\">\n",
       "  <thead>\n",
       "    <tr style=\"text-align: right;\">\n",
       "      <th></th>\n",
       "      <th>model</th>\n",
       "      <th>f1_score_valid</th>\n",
       "      <th>best_parameters</th>\n",
       "    </tr>\n",
       "  </thead>\n",
       "  <tbody>\n",
       "    <tr>\n",
       "      <th>3</th>\n",
       "      <td>rfc_weighed</td>\n",
       "      <td>0.640420</td>\n",
       "      <td>(DecisionTreeClassifier(max_depth=13, max_feat...</td>\n",
       "    </tr>\n",
       "    <tr>\n",
       "      <th>7</th>\n",
       "      <td>rfc_downsampled</td>\n",
       "      <td>0.606002</td>\n",
       "      <td>(DecisionTreeClassifier(max_depth=13, max_feat...</td>\n",
       "    </tr>\n",
       "    <tr>\n",
       "      <th>5</th>\n",
       "      <td>rfc_upsampled</td>\n",
       "      <td>0.604534</td>\n",
       "      <td>(DecisionTreeClassifier(max_depth=14, max_feat...</td>\n",
       "    </tr>\n",
       "    <tr>\n",
       "      <th>1</th>\n",
       "      <td>rfc_imbalanced</td>\n",
       "      <td>0.573668</td>\n",
       "      <td>(DecisionTreeClassifier(max_depth=13, max_feat...</td>\n",
       "    </tr>\n",
       "    <tr>\n",
       "      <th>6</th>\n",
       "      <td>dtc_downsampled</td>\n",
       "      <td>0.544574</td>\n",
       "      <td>DecisionTreeClassifier(max_depth=8, max_featur...</td>\n",
       "    </tr>\n",
       "    <tr>\n",
       "      <th>2</th>\n",
       "      <td>dtc_weighed</td>\n",
       "      <td>0.537313</td>\n",
       "      <td>DecisionTreeClassifier(class_weight='balanced'...</td>\n",
       "    </tr>\n",
       "    <tr>\n",
       "      <th>0</th>\n",
       "      <td>dtc_imbalanced</td>\n",
       "      <td>0.509317</td>\n",
       "      <td>DecisionTreeClassifier(max_depth=9, max_featur...</td>\n",
       "    </tr>\n",
       "    <tr>\n",
       "      <th>4</th>\n",
       "      <td>dtc_upsampled</td>\n",
       "      <td>0.495455</td>\n",
       "      <td>DecisionTreeClassifier(max_depth=14, max_featu...</td>\n",
       "    </tr>\n",
       "  </tbody>\n",
       "</table>\n",
       "</div>"
      ],
      "text/plain": [
       "             model  f1_score_valid  \\\n",
       "3      rfc_weighed        0.640420   \n",
       "7  rfc_downsampled        0.606002   \n",
       "5    rfc_upsampled        0.604534   \n",
       "1   rfc_imbalanced        0.573668   \n",
       "6  dtc_downsampled        0.544574   \n",
       "2      dtc_weighed        0.537313   \n",
       "0   dtc_imbalanced        0.509317   \n",
       "4    dtc_upsampled        0.495455   \n",
       "\n",
       "                                     best_parameters  \n",
       "3  (DecisionTreeClassifier(max_depth=13, max_feat...  \n",
       "7  (DecisionTreeClassifier(max_depth=13, max_feat...  \n",
       "5  (DecisionTreeClassifier(max_depth=14, max_feat...  \n",
       "1  (DecisionTreeClassifier(max_depth=13, max_feat...  \n",
       "6  DecisionTreeClassifier(max_depth=8, max_featur...  \n",
       "2  DecisionTreeClassifier(class_weight='balanced'...  \n",
       "0  DecisionTreeClassifier(max_depth=9, max_featur...  \n",
       "4  DecisionTreeClassifier(max_depth=14, max_featu...  "
      ]
     },
     "execution_count": 87,
     "metadata": {},
     "output_type": "execute_result"
    }
   ],
   "source": [
    "models_list_df = pd.DataFrame(models_list, columns=['model', 'f1_score_valid', 'best_parameters'])\n",
    "models_list_df.sort_values('f1_score_valid', ascending=False)"
   ]
  },
  {
   "cell_type": "markdown",
   "id": "76bb3257",
   "metadata": {},
   "source": [
    "**Conclusion:**\n",
    "\n",
    "Imbalance correction had an overall positive effect on model performance. All three models with an F1-Score greater than 0.59 showed models fitted with class imbalance correction using different imbalance correction techniques such as class weighting, upsampling and downsampling.\n",
    "\n",
    "Best F1-Score on validation data showed Random Forest Classifier (rfc_weighed) model fitted to a balanced/weighted class sample.  F1-Score = 0.64.\n",
    "2. Two more Random Forest Classifier models showed an F1-Score result above 0.59:\n",
    "    - trained on downsampled data model rfc_downsampled: F1-Score = 0.606.\n",
    "    - trained on upsampled data model rfc_upsampled: F1-Score = 0.605.\n"
   ]
  },
  {
   "cell_type": "markdown",
   "id": "7257ad3e",
   "metadata": {},
   "source": [
    "## Model testing"
   ]
  },
  {
   "cell_type": "markdown",
   "id": "4206f729",
   "metadata": {},
   "source": [
    "Let's supplement the table with the results of the best models with column `f1_score_test`, which we fill with the result of the metric F1-Score for the corresponding model calculated on the test set."
   ]
  },
  {
   "cell_type": "code",
   "execution_count": 88,
   "id": "83074d5f",
   "metadata": {},
   "outputs": [],
   "source": [
    "models_list_df['f1_score_test'] = models_list_df.best_parameters.apply(lambda model: f1_score(target_test, model.predict(features_test)))"
   ]
  },
  {
   "cell_type": "code",
   "execution_count": 89,
   "id": "73d5dd04",
   "metadata": {},
   "outputs": [
    {
     "data": {
      "text/html": [
       "<div>\n",
       "<style scoped>\n",
       "    .dataframe tbody tr th:only-of-type {\n",
       "        vertical-align: middle;\n",
       "    }\n",
       "\n",
       "    .dataframe tbody tr th {\n",
       "        vertical-align: top;\n",
       "    }\n",
       "\n",
       "    .dataframe thead th {\n",
       "        text-align: right;\n",
       "    }\n",
       "</style>\n",
       "<table border=\"1\" class=\"dataframe\">\n",
       "  <thead>\n",
       "    <tr style=\"text-align: right;\">\n",
       "      <th></th>\n",
       "      <th>model</th>\n",
       "      <th>f1_score_valid</th>\n",
       "      <th>best_parameters</th>\n",
       "      <th>f1_score_test</th>\n",
       "    </tr>\n",
       "  </thead>\n",
       "  <tbody>\n",
       "    <tr>\n",
       "      <th>3</th>\n",
       "      <td>rfc_weighed</td>\n",
       "      <td>0.640420</td>\n",
       "      <td>(DecisionTreeClassifier(max_depth=13, max_feat...</td>\n",
       "      <td>0.611399</td>\n",
       "    </tr>\n",
       "    <tr>\n",
       "      <th>7</th>\n",
       "      <td>rfc_downsampled</td>\n",
       "      <td>0.606002</td>\n",
       "      <td>(DecisionTreeClassifier(max_depth=13, max_feat...</td>\n",
       "      <td>0.605888</td>\n",
       "    </tr>\n",
       "    <tr>\n",
       "      <th>5</th>\n",
       "      <td>rfc_upsampled</td>\n",
       "      <td>0.604534</td>\n",
       "      <td>(DecisionTreeClassifier(max_depth=14, max_feat...</td>\n",
       "      <td>0.599241</td>\n",
       "    </tr>\n",
       "    <tr>\n",
       "      <th>6</th>\n",
       "      <td>dtc_downsampled</td>\n",
       "      <td>0.544574</td>\n",
       "      <td>DecisionTreeClassifier(max_depth=8, max_featur...</td>\n",
       "      <td>0.571429</td>\n",
       "    </tr>\n",
       "    <tr>\n",
       "      <th>1</th>\n",
       "      <td>rfc_imbalanced</td>\n",
       "      <td>0.573668</td>\n",
       "      <td>(DecisionTreeClassifier(max_depth=13, max_feat...</td>\n",
       "      <td>0.564263</td>\n",
       "    </tr>\n",
       "    <tr>\n",
       "      <th>2</th>\n",
       "      <td>dtc_weighed</td>\n",
       "      <td>0.537313</td>\n",
       "      <td>DecisionTreeClassifier(class_weight='balanced'...</td>\n",
       "      <td>0.523050</td>\n",
       "    </tr>\n",
       "    <tr>\n",
       "      <th>0</th>\n",
       "      <td>dtc_imbalanced</td>\n",
       "      <td>0.509317</td>\n",
       "      <td>DecisionTreeClassifier(max_depth=9, max_featur...</td>\n",
       "      <td>0.518519</td>\n",
       "    </tr>\n",
       "    <tr>\n",
       "      <th>4</th>\n",
       "      <td>dtc_upsampled</td>\n",
       "      <td>0.495455</td>\n",
       "      <td>DecisionTreeClassifier(max_depth=14, max_featu...</td>\n",
       "      <td>0.482838</td>\n",
       "    </tr>\n",
       "  </tbody>\n",
       "</table>\n",
       "</div>"
      ],
      "text/plain": [
       "             model  f1_score_valid  \\\n",
       "3      rfc_weighed        0.640420   \n",
       "7  rfc_downsampled        0.606002   \n",
       "5    rfc_upsampled        0.604534   \n",
       "6  dtc_downsampled        0.544574   \n",
       "1   rfc_imbalanced        0.573668   \n",
       "2      dtc_weighed        0.537313   \n",
       "0   dtc_imbalanced        0.509317   \n",
       "4    dtc_upsampled        0.495455   \n",
       "\n",
       "                                     best_parameters  f1_score_test  \n",
       "3  (DecisionTreeClassifier(max_depth=13, max_feat...       0.611399  \n",
       "7  (DecisionTreeClassifier(max_depth=13, max_feat...       0.605888  \n",
       "5  (DecisionTreeClassifier(max_depth=14, max_feat...       0.599241  \n",
       "6  DecisionTreeClassifier(max_depth=8, max_featur...       0.571429  \n",
       "1  (DecisionTreeClassifier(max_depth=13, max_feat...       0.564263  \n",
       "2  DecisionTreeClassifier(class_weight='balanced'...       0.523050  \n",
       "0  DecisionTreeClassifier(max_depth=9, max_featur...       0.518519  \n",
       "4  DecisionTreeClassifier(max_depth=14, max_featu...       0.482838  "
      ]
     },
     "execution_count": 89,
     "metadata": {},
     "output_type": "execute_result"
    }
   ],
   "source": [
    "models_list_df.sort_values('f1_score_test', ascending=False)"
   ]
  },
  {
   "cell_type": "markdown",
   "id": "301b1565",
   "metadata": {},
   "source": [
    "**Conclusion:**.\n",
    "\n",
    "The best F1-Score on the test data as well as on the validation data is that of the Random Forest Classifier (rfc_weighed) model trained on a balanced/weighted class sample.  F1-Score = 0.61.\n",
    "2. Two more Random Forest Classifier models showed an F1-Score result above 0.59:\n",
    "    - trained on downsampled data model rfc_downsampled: F1-Score = 0.61.\n",
    "    - trained on upsampled data model rfc_upsampled: F1-Score = 0.60.\n",
    "\n",
    "Let's analyze the best model in more detail on the test data."
   ]
  },
  {
   "cell_type": "markdown",
   "id": "24929e61",
   "metadata": {},
   "source": [
    "**- Will calculate the quality metric AUC_ROC on the testing sample**"
   ]
  },
  {
   "cell_type": "code",
   "execution_count": 90,
   "id": "a3934656",
   "metadata": {},
   "outputs": [
    {
     "data": {
      "text/plain": [
       "0.8635353381116093"
      ]
     },
     "execution_count": 90,
     "metadata": {},
     "output_type": "execute_result"
    }
   ],
   "source": [
    "probabilities_test = rfc_weighed.predict_proba(features_test)\n",
    "probabilities_one_test = probabilities_test[:, 1]\n",
    "auc_roc = roc_auc_score(target_test, probabilities_one_test)\n",
    "auc_roc"
   ]
  },
  {
   "cell_type": "markdown",
   "id": "a2f9542d",
   "metadata": {},
   "source": [
    "**- Will display the main metrics report and confusion matrix**"
   ]
  },
  {
   "cell_type": "code",
   "execution_count": 91,
   "id": "076734a0",
   "metadata": {},
   "outputs": [
    {
     "name": "stdout",
     "output_type": "stream",
     "text": [
      "              precision    recall  f1-score   support\n",
      "\n",
      "           0       0.90      0.92      0.91      1593\n",
      "           1       0.65      0.58      0.61       407\n",
      "\n",
      "    accuracy                           0.85      2000\n",
      "   macro avg       0.77      0.75      0.76      2000\n",
      "weighted avg       0.84      0.85      0.85      2000\n",
      "\n"
     ]
    },
    {
     "data": {
      "text/html": [
       "<div>\n",
       "<style scoped>\n",
       "    .dataframe tbody tr th:only-of-type {\n",
       "        vertical-align: middle;\n",
       "    }\n",
       "\n",
       "    .dataframe tbody tr th {\n",
       "        vertical-align: top;\n",
       "    }\n",
       "\n",
       "    .dataframe thead th {\n",
       "        text-align: right;\n",
       "    }\n",
       "</style>\n",
       "<table border=\"1\" class=\"dataframe\">\n",
       "  <thead>\n",
       "    <tr style=\"text-align: right;\">\n",
       "      <th></th>\n",
       "      <th>0</th>\n",
       "      <th>1</th>\n",
       "    </tr>\n",
       "  </thead>\n",
       "  <tbody>\n",
       "    <tr>\n",
       "      <th>0</th>\n",
       "      <td>1464</td>\n",
       "      <td>129</td>\n",
       "    </tr>\n",
       "    <tr>\n",
       "      <th>1</th>\n",
       "      <td>171</td>\n",
       "      <td>236</td>\n",
       "    </tr>\n",
       "  </tbody>\n",
       "</table>\n",
       "</div>"
      ],
      "text/plain": [
       "      0    1\n",
       "0  1464  129\n",
       "1   171  236"
      ]
     },
     "execution_count": 91,
     "metadata": {},
     "output_type": "execute_result"
    }
   ],
   "source": [
    "print(classification_report(target_test, rfc_weighed.predict(features_test)))\n",
    "pd.DataFrame(confusion_matrix(target_test, rfc_weighed.predict(features_test)))"
   ]
  },
  {
   "cell_type": "code",
   "execution_count": 92,
   "id": "8218663c",
   "metadata": {},
   "outputs": [
    {
     "data": {
      "image/png": "[encoded data removed]",
      "text/plain": [
       "<Figure size 504x504 with 1 Axes>"
      ]
     },
     "metadata": {
      "needs_background": "light"
     },
     "output_type": "display_data"
    },
    {
     "name": "stdout",
     "output_type": "stream",
     "text": [
      "\tПлощадь над ROC-кривой = 0.8635353381116093\n"
     ]
    }
   ],
   "source": [
    "fpr, tpr, thresholds = roc_curve(target_test, probabilities_one_test)\n",
    "\n",
    "plt.figure(figsize=(7,7))\n",
    "plt.plot(fpr, tpr)\n",
    "plt.plot([0, 1], [0, 1], linestyle='--') # ROC-кривая случайной модели (выглядит как прямая)\n",
    "plt.xlim([0.0, 1.0])\n",
    "plt.ylim([0.0, 1.0])\n",
    "plt.xlabel('False Positive Rate')\n",
    "plt.ylabel('True Positive Rate')\n",
    "plt.title('ROC-кривая')\n",
    "plt.show()\n",
    "\n",
    "print('\\tПлощадь над ROC-кривой =', auc_roc)"
   ]
  },
  {
   "cell_type": "markdown",
   "id": "c4dc0902",
   "metadata": {},
   "source": [
    "**Conclusion:**.\n",
    "\n",
    "1. F1-Score model = 0.61, above the project target of 0.59.\n",
    "2. Value of recall = 0.58.\n",
    "3. Precision = 0.65.\n",
    "4. Area under the curve (AUC-ROC) = 0.86, better than randomized model, but still far from one.\n",
    "5. Overall, the quality of the model is not very good."
   ]
  },
  {
   "cell_type": "markdown",
   "id": "a8e71483",
   "metadata": {},
   "source": [
    "### Struggle for model quality"
   ]
  },
  {
   "cell_type": "markdown",
   "id": "ba11cca0",
   "metadata": {},
   "source": [
    "The quality of our model is not very high. Let's try to increase it at least a little bit. \n",
    "\n",
    "There is a fair way to improve the quality of the model by increasing the size of the training sample. In the validation phase, the validation sample has already done its job - we have picked up hyperparameters. Now we can train our model on a larger dataset (validation + training) and test on a test set."
   ]
  },
  {
   "cell_type": "markdown",
   "id": "f4bbba8b",
   "metadata": {},
   "source": [
    "We scale the overall training+validation sample with transform(), using the same mean and variance values as we have scaled all our other samples."
   ]
  },
  {
   "cell_type": "code",
   "execution_count": 93,
   "id": "d43d177c",
   "metadata": {},
   "outputs": [],
   "source": [
    "# Scaling training+validation set with transform()\n",
    "\n",
    "features_train_valid[numeric] = scaler.transform(features_train_valid[numeric])"
   ]
  },
  {
   "cell_type": "markdown",
   "id": "bc7919b6",
   "metadata": {},
   "source": [
    "The hyper-parameters of our best model are as follows:"
   ]
  },
  {
   "cell_type": "code",
   "execution_count": 94,
   "id": "783ec0c5",
   "metadata": {},
   "outputs": [
    {
     "data": {
      "text/plain": [
       "{'max_depth': 13, 'min_samples_leaf': 1, 'min_samples_split': 8}"
      ]
     },
     "execution_count": 94,
     "metadata": {},
     "output_type": "execute_result"
    }
   ],
   "source": [
    "rfc_weighed.best_params_"
   ]
  },
  {
   "cell_type": "markdown",
   "id": "458efec0",
   "metadata": {},
   "source": [
    "Will fit the best model on the overall training+validation set with the best hyperparameters and calculate the F1-Score value on the test set.\n"
   ]
  },
  {
   "cell_type": "code",
   "execution_count": 95,
   "id": "6ac5fbd9",
   "metadata": {},
   "outputs": [
    {
     "name": "stdout",
     "output_type": "stream",
     "text": [
      "Значение F1-Score на расшеренной обучающей+валидационной выборке = 0.6235741444866921\n"
     ]
    }
   ],
   "source": [
    "# will fit the best model on the overall training+validation set with the best hyperparameters and calculate the F1-Score value on the test set.\n",
    "\n",
    "rfc_extended = RandomForestClassifier(random_state=12345, n_estimators=100, class_weight='balanced', max_features='auto', max_depth=13, min_samples_leaf=1, min_samples_split=8)\n",
    "rfc_extended.fit(features_train_valid, target_train_valid)\n",
    "print('Значение F1-Score на расшеренной обучающей+валидационной выборке =', f1_score(target_test, rfc_extended.predict(features_test)))"
   ]
  },
  {
   "cell_type": "markdown",
   "id": "7bbc15ca",
   "metadata": {},
   "source": [
    "Unfortunately, the battle for quality is lost. The value remained practically at the same level. As we suggested at the beginning, when analysing the mean values of the features across the target class, whose values were very close to each other, it is very difficult for the model to detect clear patterns and dependencies in these conditions and therefore to show high quality."
   ]
  },
  {
   "cell_type": "markdown",
   "id": "f5141dc5",
   "metadata": {},
   "source": [
    "### Conclusion"
   ]
  },
  {
   "cell_type": "markdown",
   "id": "49c73a4a",
   "metadata": {},
   "source": [
    "The following conclusions can be drawn from the study:\n",
    "\n",
    "1. Class imbalance in the dataset strongly affected the quality of the model.\n",
    "2. Class weighting, upsampling and downsampling as imbalance coping tools for the Random Forest Classifier model building algorithm performed well.\n",
    "3. The top three models showed an F1-Score above 0.59 on the test set:\n",
    "    - RandomForestClassifier with weighted classes. F1-Score = 0.61.\n",
    "    - RandomForestClassifier with reduced number of negative classes. F1-Score = 0.61.\n",
    "    - RandomForestClassifier with increased number of positive classes. F1-Score = 0.60.\n",
    "4. The model results are moderate, but this is probably due to non-target features whose values in the objects of both classes are close to each other.\n",
    "5. The value of the AUC-ROC metric on the best model = 0.86, which is significantly higher than the value of the random model.\n",
    "6. An attempt to improve the F1-Score value by training the model on the extended (training + validation) sample did not lead to a tangible effect. The F1-Score was only increased by 0.01 to 0.62."
   ]
  }
 ],
 "metadata": {
  "kernelspec": {
   "display_name": "Python 3 (ipykernel)",
   "language": "python",
   "name": "python3"
  },
  "language_info": {
   "codemirror_mode": {
    "name": "ipython",
    "version": 3
   },
   "file_extension": ".py",
   "mimetype": "text/x-python",
   "name": "python",
   "nbconvert_exporter": "python",
   "pygments_lexer": "ipython3",
   "version": "3.9.7"
  },
  "toc": {
   "base_numbering": 1,
   "nav_menu": {},
   "number_sections": true,
   "sideBar": true,
   "skip_h1_title": true,
   "title_cell": "Contents",
   "title_sidebar": "Contents",
   "toc_cell": true,
   "toc_position": {
    "height": "calc(100% - 180px)",
    "left": "10px",
    "top": "150px",
    "width": "303.825px"
   },
   "toc_section_display": true,
   "toc_window_display": true
  }
 },
 "nbformat": 4,
 "nbformat_minor": 5
}
