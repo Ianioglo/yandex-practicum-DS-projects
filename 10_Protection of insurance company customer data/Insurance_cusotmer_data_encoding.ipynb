{
 "cells": [
  {
   "cell_type": "markdown",
   "id": "e51a6e72",
   "metadata": {
    "toc": true
   },
   "source": [
    "<h1>Contents<span class=\"tocSkip\"></span></h1>\n",
    "<div class=\"toc\"><ul class=\"toc-item\"><li><span><a href=\"#Reading-data\" data-toc-modified-id=\"Reading-data-1\"><span class=\"toc-item-num\">1&nbsp;&nbsp;</span>Reading data</a></span></li><li><span><a href=\"#Matrix-multiplication\" data-toc-modified-id=\"Matrix-multiplication-2\"><span class=\"toc-item-num\">2&nbsp;&nbsp;</span>Matrix multiplication</a></span></li><li><span><a href=\"#Transformation-algorithm\" data-toc-modified-id=\"Transformation-algorithm-3\"><span class=\"toc-item-num\">3&nbsp;&nbsp;</span>Transformation algorithm</a></span></li><li><span><a href=\"#Algorithm-verification\" data-toc-modified-id=\"Algorithm-verification-4\"><span class=\"toc-item-num\">4&nbsp;&nbsp;</span>Algorithm verification</a></span></li></ul></div>"
   ]
  },
  {
   "cell_type": "markdown",
   "id": "f2f1230d",
   "metadata": {},
   "source": [
    "# Project description: Protection of customers' personal data\n",
    "\n",
    "We need to protect the customer data of an insurance company. We will develop a method of data transformation that makes it difficult to recover personal information. We shall justify its correctness.\n",
    "\n",
    "We need to protect the data so that the quality of machine learning models is not degraded during transformation. There is no need to select the best model.\n",
    "\n",
    "**Data description**.\n",
    "\n",
    "- Features: Gender, age and salary of the insured, number of family members.\n",
    "- Target feature: number of claims paid to the client in the last 5 years."
   ]
  },
  {
   "cell_type": "code",
   "execution_count": 1,
   "id": "37beb50c",
   "metadata": {},
   "outputs": [],
   "source": [
    "# importing required libraries \n",
    "\n",
    "import warnings\n",
    "warnings.filterwarnings('ignore')\n",
    "\n",
    "import pandas as pd\n",
    "import numpy as np\n",
    "import seaborn as sns\n",
    "from matplotlib import pyplot as plt\n",
    "\n",
    "from sklearn.linear_model import LinearRegression\n",
    "from sklearn.preprocessing import StandardScaler\n",
    "\n",
    "from sklearn.metrics import r2_score, mean_squared_error"
   ]
  },
  {
   "cell_type": "markdown",
   "id": "8b0da2ed",
   "metadata": {},
   "source": [
    "## Reading data"
   ]
  },
  {
   "cell_type": "code",
   "execution_count": 2,
   "id": "235e4337",
   "metadata": {},
   "outputs": [],
   "source": [
    "try:\n",
    "    df = pd.read_csv('insurance.csv')\n",
    "    \n",
    "except FileNotFoundError:\n",
    "    df = pd.read_csv('/datasets/insurance.csv')\n",
    "    "
   ]
  },
  {
   "cell_type": "markdown",
   "id": "a5605d42",
   "metadata": {},
   "source": [
    "**Ознакомимся с данными**"
   ]
  },
  {
   "cell_type": "code",
   "execution_count": 3,
   "id": "c69a1aa9",
   "metadata": {},
   "outputs": [
    {
     "name": "stdout",
     "output_type": "stream",
     "text": [
      "<class 'pandas.core.frame.DataFrame'>\n",
      "RangeIndex: 5000 entries, 0 to 4999\n",
      "Data columns (total 5 columns):\n",
      " #   Column             Non-Null Count  Dtype  \n",
      "---  ------             --------------  -----  \n",
      " 0   Пол                5000 non-null   int64  \n",
      " 1   Возраст            5000 non-null   float64\n",
      " 2   Зарплата           5000 non-null   float64\n",
      " 3   Члены семьи        5000 non-null   int64  \n",
      " 4   Страховые выплаты  5000 non-null   int64  \n",
      "dtypes: float64(2), int64(3)\n",
      "memory usage: 195.4 KB\n"
     ]
    },
    {
     "data": {
      "text/html": [
       "<div>\n",
       "<style scoped>\n",
       "    .dataframe tbody tr th:only-of-type {\n",
       "        vertical-align: middle;\n",
       "    }\n",
       "\n",
       "    .dataframe tbody tr th {\n",
       "        vertical-align: top;\n",
       "    }\n",
       "\n",
       "    .dataframe thead th {\n",
       "        text-align: right;\n",
       "    }\n",
       "</style>\n",
       "<table border=\"1\" class=\"dataframe\">\n",
       "  <thead>\n",
       "    <tr style=\"text-align: right;\">\n",
       "      <th></th>\n",
       "      <th>Пол</th>\n",
       "      <th>Возраст</th>\n",
       "      <th>Зарплата</th>\n",
       "      <th>Члены семьи</th>\n",
       "      <th>Страховые выплаты</th>\n",
       "    </tr>\n",
       "  </thead>\n",
       "  <tbody>\n",
       "    <tr>\n",
       "      <th>2737</th>\n",
       "      <td>1</td>\n",
       "      <td>37.0</td>\n",
       "      <td>52400.0</td>\n",
       "      <td>1</td>\n",
       "      <td>0</td>\n",
       "    </tr>\n",
       "    <tr>\n",
       "      <th>1083</th>\n",
       "      <td>1</td>\n",
       "      <td>27.0</td>\n",
       "      <td>35000.0</td>\n",
       "      <td>1</td>\n",
       "      <td>0</td>\n",
       "    </tr>\n",
       "    <tr>\n",
       "      <th>4530</th>\n",
       "      <td>0</td>\n",
       "      <td>38.0</td>\n",
       "      <td>45000.0</td>\n",
       "      <td>1</td>\n",
       "      <td>0</td>\n",
       "    </tr>\n",
       "    <tr>\n",
       "      <th>2649</th>\n",
       "      <td>1</td>\n",
       "      <td>29.0</td>\n",
       "      <td>38800.0</td>\n",
       "      <td>5</td>\n",
       "      <td>0</td>\n",
       "    </tr>\n",
       "    <tr>\n",
       "      <th>2674</th>\n",
       "      <td>1</td>\n",
       "      <td>28.0</td>\n",
       "      <td>46200.0</td>\n",
       "      <td>0</td>\n",
       "      <td>0</td>\n",
       "    </tr>\n",
       "    <tr>\n",
       "      <th>376</th>\n",
       "      <td>0</td>\n",
       "      <td>36.0</td>\n",
       "      <td>48400.0</td>\n",
       "      <td>2</td>\n",
       "      <td>0</td>\n",
       "    </tr>\n",
       "    <tr>\n",
       "      <th>28</th>\n",
       "      <td>1</td>\n",
       "      <td>19.0</td>\n",
       "      <td>36800.0</td>\n",
       "      <td>0</td>\n",
       "      <td>0</td>\n",
       "    </tr>\n",
       "    <tr>\n",
       "      <th>1428</th>\n",
       "      <td>0</td>\n",
       "      <td>43.0</td>\n",
       "      <td>27200.0</td>\n",
       "      <td>1</td>\n",
       "      <td>1</td>\n",
       "    </tr>\n",
       "    <tr>\n",
       "      <th>2113</th>\n",
       "      <td>0</td>\n",
       "      <td>30.0</td>\n",
       "      <td>52600.0</td>\n",
       "      <td>2</td>\n",
       "      <td>0</td>\n",
       "    </tr>\n",
       "    <tr>\n",
       "      <th>682</th>\n",
       "      <td>1</td>\n",
       "      <td>36.0</td>\n",
       "      <td>23400.0</td>\n",
       "      <td>3</td>\n",
       "      <td>0</td>\n",
       "    </tr>\n",
       "  </tbody>\n",
       "</table>\n",
       "</div>"
      ],
      "text/plain": [
       "      Пол  Возраст  Зарплата  Члены семьи  Страховые выплаты\n",
       "2737    1     37.0   52400.0            1                  0\n",
       "1083    1     27.0   35000.0            1                  0\n",
       "4530    0     38.0   45000.0            1                  0\n",
       "2649    1     29.0   38800.0            5                  0\n",
       "2674    1     28.0   46200.0            0                  0\n",
       "376     0     36.0   48400.0            2                  0\n",
       "28      1     19.0   36800.0            0                  0\n",
       "1428    0     43.0   27200.0            1                  1\n",
       "2113    0     30.0   52600.0            2                  0\n",
       "682     1     36.0   23400.0            3                  0"
      ]
     },
     "metadata": {},
     "output_type": "display_data"
    },
    {
     "data": {
      "text/plain": [
       "None"
      ]
     },
     "metadata": {},
     "output_type": "display_data"
    },
    {
     "data": {
      "text/html": [
       "<div>\n",
       "<style scoped>\n",
       "    .dataframe tbody tr th:only-of-type {\n",
       "        vertical-align: middle;\n",
       "    }\n",
       "\n",
       "    .dataframe tbody tr th {\n",
       "        vertical-align: top;\n",
       "    }\n",
       "\n",
       "    .dataframe thead th {\n",
       "        text-align: right;\n",
       "    }\n",
       "</style>\n",
       "<table border=\"1\" class=\"dataframe\">\n",
       "  <thead>\n",
       "    <tr style=\"text-align: right;\">\n",
       "      <th></th>\n",
       "      <th>Пол</th>\n",
       "      <th>Возраст</th>\n",
       "      <th>Зарплата</th>\n",
       "      <th>Члены семьи</th>\n",
       "      <th>Страховые выплаты</th>\n",
       "    </tr>\n",
       "  </thead>\n",
       "  <tbody>\n",
       "    <tr>\n",
       "      <th>count</th>\n",
       "      <td>5000.000000</td>\n",
       "      <td>5000.000000</td>\n",
       "      <td>5000.000000</td>\n",
       "      <td>5000.000000</td>\n",
       "      <td>5000.000000</td>\n",
       "    </tr>\n",
       "    <tr>\n",
       "      <th>mean</th>\n",
       "      <td>0.499000</td>\n",
       "      <td>30.952800</td>\n",
       "      <td>39916.360000</td>\n",
       "      <td>1.194200</td>\n",
       "      <td>0.148000</td>\n",
       "    </tr>\n",
       "    <tr>\n",
       "      <th>std</th>\n",
       "      <td>0.500049</td>\n",
       "      <td>8.440807</td>\n",
       "      <td>9900.083569</td>\n",
       "      <td>1.091387</td>\n",
       "      <td>0.463183</td>\n",
       "    </tr>\n",
       "    <tr>\n",
       "      <th>min</th>\n",
       "      <td>0.000000</td>\n",
       "      <td>18.000000</td>\n",
       "      <td>5300.000000</td>\n",
       "      <td>0.000000</td>\n",
       "      <td>0.000000</td>\n",
       "    </tr>\n",
       "    <tr>\n",
       "      <th>25%</th>\n",
       "      <td>0.000000</td>\n",
       "      <td>24.000000</td>\n",
       "      <td>33300.000000</td>\n",
       "      <td>0.000000</td>\n",
       "      <td>0.000000</td>\n",
       "    </tr>\n",
       "    <tr>\n",
       "      <th>50%</th>\n",
       "      <td>0.000000</td>\n",
       "      <td>30.000000</td>\n",
       "      <td>40200.000000</td>\n",
       "      <td>1.000000</td>\n",
       "      <td>0.000000</td>\n",
       "    </tr>\n",
       "    <tr>\n",
       "      <th>75%</th>\n",
       "      <td>1.000000</td>\n",
       "      <td>37.000000</td>\n",
       "      <td>46600.000000</td>\n",
       "      <td>2.000000</td>\n",
       "      <td>0.000000</td>\n",
       "    </tr>\n",
       "    <tr>\n",
       "      <th>max</th>\n",
       "      <td>1.000000</td>\n",
       "      <td>65.000000</td>\n",
       "      <td>79000.000000</td>\n",
       "      <td>6.000000</td>\n",
       "      <td>5.000000</td>\n",
       "    </tr>\n",
       "  </tbody>\n",
       "</table>\n",
       "</div>"
      ],
      "text/plain": [
       "               Пол      Возраст      Зарплата  Члены семьи  Страховые выплаты\n",
       "count  5000.000000  5000.000000   5000.000000  5000.000000        5000.000000\n",
       "mean      0.499000    30.952800  39916.360000     1.194200           0.148000\n",
       "std       0.500049     8.440807   9900.083569     1.091387           0.463183\n",
       "min       0.000000    18.000000   5300.000000     0.000000           0.000000\n",
       "25%       0.000000    24.000000  33300.000000     0.000000           0.000000\n",
       "50%       0.000000    30.000000  40200.000000     1.000000           0.000000\n",
       "75%       1.000000    37.000000  46600.000000     2.000000           0.000000\n",
       "max       1.000000    65.000000  79000.000000     6.000000           5.000000"
      ]
     },
     "metadata": {},
     "output_type": "display_data"
    }
   ],
   "source": [
    "display(df.sample(10), df.info(), df.describe())"
   ]
  },
  {
   "cell_type": "markdown",
   "id": "bf557955",
   "metadata": {},
   "source": [
    "- There are 5000 rows in the dataset, no missing values, no problems with data types either.\n",
    "\n",
    "- There are no strange, inadequate findings related to the data in the descriptive statistics. The rarity of the target feature (Insurance claims) with a value >0 is striking - all of them are in the range below the 3rd quartile and the mean value of the target feature is 0.148\n"
   ]
  },
  {
   "cell_type": "code",
   "execution_count": 4,
   "id": "1a7aaa22",
   "metadata": {},
   "outputs": [
    {
     "data": {
      "text/plain": [
       "153"
      ]
     },
     "execution_count": 4,
     "metadata": {},
     "output_type": "execute_result"
    }
   ],
   "source": [
    "# checking explicit duplicates\n",
    "\n",
    "df.duplicated().sum()"
   ]
  },
  {
   "cell_type": "code",
   "execution_count": 5,
   "id": "2b69592b",
   "metadata": {},
   "outputs": [
    {
     "data": {
      "text/plain": [
       "Пол                    2\n",
       "Возраст               46\n",
       "Зарплата             524\n",
       "Члены семьи            7\n",
       "Страховые выплаты      6\n",
       "dtype: int64"
      ]
     },
     "execution_count": 5,
     "metadata": {},
     "output_type": "execute_result"
    }
   ],
   "source": [
    "# checking the number of unique values in columns  \n",
    "\n",
    "df.nunique()"
   ]
  },
  {
   "cell_type": "markdown",
   "id": "45240541",
   "metadata": {},
   "source": [
    "153 full duplicates were found out of 5000 records, which is 3% of the total dataset. \n",
    "\n",
    "However, the variability of our features is not high, due to the specificity of the values represented in them. In addition, we do not have a unique identifying feature such as customer_id, etc. Given the above, we can conclude that the presence of full duplicates is consistent with the logic of the values represented in the dataset, and the presence of full duplicates is more likely a coincidence than an error.\n",
    "\n",
    "Therefore we do not remove the duplicates, but keep them in their original form."
   ]
  },
  {
   "cell_type": "markdown",
   "id": "80b3b010",
   "metadata": {},
   "source": [
    "Analyzing the correlation between the features in the dataset. Will visualize the correlation on a heat map."
   ]
  },
  {
   "cell_type": "code",
   "execution_count": 6,
   "id": "adefdc48",
   "metadata": {},
   "outputs": [
    {
     "data": {
      "image/png": "[encoded data removed]",
      "text/plain": [
       "<Figure size 432x288 with 2 Axes>"
      ]
     },
     "metadata": {
      "needs_background": "light"
     },
     "output_type": "display_data"
    }
   ],
   "source": [
    "plt.figure()\n",
    "sns.heatmap(df.corr(), xticklabels=df.corr().columns, yticklabels=df.corr().columns, cmap='coolwarm', center=0, annot=True)\n",
    "plt.title('Heatmap корреляции между признаками', fontsize=12)\n",
    "plt.xticks(fontsize=10)\n",
    "plt.xticks(rotation=30)\n",
    "plt.yticks(fontsize=10)\n",
    "plt.show()"
   ]
  },
  {
   "cell_type": "markdown",
   "id": "d0ec7bae",
   "metadata": {},
   "source": [
    "The dataset shows a rather strong linear positive correlation between the target feature (Insurance payouts) and age = 0.65. That is, the older the age, the higher the insurance claims. This is likely to be similar to health insurance.\n",
    "\n",
    "The linear correlation with the other features tends to zero."
   ]
  },
  {
   "cell_type": "markdown",
   "id": "7a958718",
   "metadata": {},
   "source": [
    "**Will visualize the plots by each feature**\n",
    "\n",
    "***- Gender***"
   ]
  },
  {
   "cell_type": "code",
   "execution_count": 7,
   "id": "1f46f688",
   "metadata": {},
   "outputs": [
    {
     "data": {
      "text/plain": [
       "<AxesSubplot:>"
      ]
     },
     "execution_count": 7,
     "metadata": {},
     "output_type": "execute_result"
    },
    {
     "data": {
      "image/png": "[encoded data removed]",
      "text/plain": [
       "<Figure size 432x288 with 1 Axes>"
      ]
     },
     "metadata": {
      "needs_background": "light"
     },
     "output_type": "display_data"
    }
   ],
   "source": [
    "df['Пол'].value_counts().plot.bar()"
   ]
  },
  {
   "cell_type": "markdown",
   "id": "b14e40ce",
   "metadata": {},
   "source": [
    "The gender in the source data is equally distributed. "
   ]
  },
  {
   "cell_type": "markdown",
   "id": "867e2d4a",
   "metadata": {},
   "source": [
    "***- Age***"
   ]
  },
  {
   "cell_type": "code",
   "execution_count": 8,
   "id": "5c1f2e21",
   "metadata": {},
   "outputs": [
    {
     "data": {
      "text/plain": [
       "<AxesSubplot:xlabel='Возраст', ylabel='Count'>"
      ]
     },
     "execution_count": 8,
     "metadata": {},
     "output_type": "execute_result"
    },
    {
     "data": {
      "image/png": "[encoded data removed]",
      "text/plain": [
       "<Figure size 432x288 with 1 Axes>"
      ]
     },
     "metadata": {
      "needs_background": "light"
     },
     "output_type": "display_data"
    }
   ],
   "source": [
    "sns.histplot(df['Возраст'], bins=10)"
   ]
  },
  {
   "cell_type": "code",
   "execution_count": 9,
   "id": "bb9bf89a",
   "metadata": {},
   "outputs": [
    {
     "data": {
      "text/plain": [
       "<AxesSubplot:xlabel='Возраст'>"
      ]
     },
     "execution_count": 9,
     "metadata": {},
     "output_type": "execute_result"
    },
    {
     "data": {
      "image/png": "[encoded data removed]",
      "text/plain": [
       "<Figure size 432x288 with 1 Axes>"
      ]
     },
     "metadata": {
      "needs_background": "light"
     },
     "output_type": "display_data"
    }
   ],
   "source": [
    "sns.boxplot(df['Возраст'])"
   ]
  },
  {
   "cell_type": "markdown",
   "id": "95cb678a",
   "metadata": {},
   "source": [
    "The distribution is slightly skewed to the right. In the boxplot, there are few dots behind the right whisker, which is not an outlier but a reflection of the normal nature of the data, which is furthermore confirmed by the equality of the median and the mean value of age."
   ]
  },
  {
   "cell_type": "markdown",
   "id": "aebd6628",
   "metadata": {},
   "source": [
    "***- Salary***"
   ]
  },
  {
   "cell_type": "code",
   "execution_count": 10,
   "id": "48967131",
   "metadata": {},
   "outputs": [
    {
     "data": {
      "text/plain": [
       "<AxesSubplot:xlabel='Зарплата', ylabel='Count'>"
      ]
     },
     "execution_count": 10,
     "metadata": {},
     "output_type": "execute_result"
    },
    {
     "data": {
      "image/png": "[encoded data removed]",
      "text/plain": [
       "<Figure size 432x288 with 1 Axes>"
      ]
     },
     "metadata": {
      "needs_background": "light"
     },
     "output_type": "display_data"
    }
   ],
   "source": [
    "sns.histplot(df['Зарплата'])"
   ]
  },
  {
   "cell_type": "code",
   "execution_count": 11,
   "id": "b824d5c1",
   "metadata": {},
   "outputs": [
    {
     "data": {
      "text/plain": [
       "<AxesSubplot:xlabel='Зарплата'>"
      ]
     },
     "execution_count": 11,
     "metadata": {},
     "output_type": "execute_result"
    },
    {
     "data": {
      "image/png": "[encoded data removed]",
      "text/plain": [
       "<Figure size 432x288 with 1 Axes>"
      ]
     },
     "metadata": {
      "needs_background": "light"
     },
     "output_type": "display_data"
    }
   ],
   "source": [
    "sns.boxplot(df['Зарплата'])"
   ]
  },
  {
   "cell_type": "markdown",
   "id": "ee85c4ed",
   "metadata": {},
   "source": [
    "The histogram presents a normal distribution - dome-shaped, with tails in both directions, which is also reflected in the boxplot in the form of black traces outside both whiskers. However, this is also not an outlier, but a reflection of the normal nature of the data in the column, which is also confirmed by the equality of the median and the mean of the wage."
   ]
  },
  {
   "cell_type": "markdown",
   "id": "f5dba804",
   "metadata": {},
   "source": [
    "***- Family members***"
   ]
  },
  {
   "cell_type": "code",
   "execution_count": 12,
   "id": "5c0e95b9",
   "metadata": {},
   "outputs": [
    {
     "data": {
      "text/plain": [
       "<AxesSubplot:xlabel='Члены семьи', ylabel='Count'>"
      ]
     },
     "execution_count": 12,
     "metadata": {},
     "output_type": "execute_result"
    },
    {
     "data": {
      "image/png": "[encoded data removed]",
      "text/plain": [
       "<Figure size 432x288 with 1 Axes>"
      ]
     },
     "metadata": {
      "needs_background": "light"
     },
     "output_type": "display_data"
    }
   ],
   "source": [
    "sns.histplot(df['Члены семьи'], bins=6)"
   ]
  },
  {
   "cell_type": "code",
   "execution_count": 13,
   "id": "70c968b5",
   "metadata": {},
   "outputs": [
    {
     "data": {
      "text/plain": [
       "<AxesSubplot:xlabel='Члены семьи'>"
      ]
     },
     "execution_count": 13,
     "metadata": {},
     "output_type": "execute_result"
    },
    {
     "data": {
      "image/png": "[encoded data removed]",
      "text/plain": [
       "<Figure size 432x288 with 1 Axes>"
      ]
     },
     "metadata": {
      "needs_background": "light"
     },
     "output_type": "display_data"
    }
   ],
   "source": [
    "sns.boxplot(df['Члены семьи'])"
   ]
  },
  {
   "cell_type": "markdown",
   "id": "46900074",
   "metadata": {},
   "source": [
    "Also correct distribution of data. Families without children or with one/two children are most common. Families with six children do occur, although this is quite rare. But in any case this is also not an outlier, but a reflection of the normal nature of the data."
   ]
  },
  {
   "cell_type": "markdown",
   "id": "008ebff9",
   "metadata": {},
   "source": [
    "***- Insurance payouts***"
   ]
  },
  {
   "cell_type": "code",
   "execution_count": 14,
   "id": "fc35d198",
   "metadata": {},
   "outputs": [
    {
     "data": {
      "text/plain": [
       "<AxesSubplot:xlabel='Страховые выплаты', ylabel='Count'>"
      ]
     },
     "execution_count": 14,
     "metadata": {},
     "output_type": "execute_result"
    },
    {
     "data": {
      "image/png": "[encoded data removed]",
      "text/plain": [
       "<Figure size 432x288 with 1 Axes>"
      ]
     },
     "metadata": {
      "needs_background": "light"
     },
     "output_type": "display_data"
    }
   ],
   "source": [
    "sns.histplot(df['Страховые выплаты'], bins=6)"
   ]
  },
  {
   "cell_type": "code",
   "execution_count": 15,
   "id": "8fea9523",
   "metadata": {},
   "outputs": [
    {
     "data": {
      "text/plain": [
       "<AxesSubplot:xlabel='Страховые выплаты'>"
      ]
     },
     "execution_count": 15,
     "metadata": {},
     "output_type": "execute_result"
    },
    {
     "data": {
      "image/png": "[encoded data removed]",
      "text/plain": [
       "<Figure size 432x288 with 1 Axes>"
      ]
     },
     "metadata": {
      "needs_background": "light"
     },
     "output_type": "display_data"
    }
   ],
   "source": [
    "sns.boxplot(df['Страховые выплаты'])"
   ]
  },
  {
   "cell_type": "code",
   "execution_count": 16,
   "id": "a1d9db9a",
   "metadata": {},
   "outputs": [
    {
     "data": {
      "text/plain": [
       "0.8872"
      ]
     },
     "execution_count": 16,
     "metadata": {},
     "output_type": "execute_result"
    }
   ],
   "source": [
    "(df['Страховые выплаты']==0).mean()"
   ]
  },
  {
   "cell_type": "markdown",
   "id": "6cc60ce9",
   "metadata": {},
   "source": [
    "The vast majority of clients (89%) get by without insurance payments. Only 11% of clients are paid insurance payments."
   ]
  },
  {
   "cell_type": "markdown",
   "id": "864a3956",
   "metadata": {},
   "source": [
    "## Matrix multiplication"
   ]
  },
  {
   "cell_type": "markdown",
   "id": "a670e331",
   "metadata": {},
   "source": [
    "Introductory formulas:\n",
    "\n",
    "Predictions:\n",
    "\n",
    "$$\n",
    "a = Xw\n",
    "$$\n",
    "\n",
    "Learning task:\n",
    "\n",
    "$$\n",
    "w = \\arg\\min_w MSE(Xw, y)\n",
    "$$\n",
    "\n",
    "Learning formula:\n",
    "\n",
    "$$\n",
    "w = (X^T X)^{-1} X^T y\n",
    "$$"
   ]
  },
  {
   "cell_type": "markdown",
   "id": "541117f1",
   "metadata": {},
   "source": [
    "**Question:** The features are multiplied by a invertible matrix. Will the quality of the linear regression change? \n",
    "\n",
    "**Answer:** It won't\n",
    "\n",
    "**Rationale:**\n",
    "\n",
    "Notation:\n",
    "\n",
    "- $X$ - feature matrix (zero column consists of ones)\n",
    "\n",
    "- $y$ - vector of the target feature\n",
    "\n",
    "- $P$ - matrix on which the features are multiplied\n",
    "\n",
    "- $w$ - vector of linear regression weights (zero element equals bias)\n",
    "\n",
    "The minimum value of MSE is achieved when the weights are calculated using the following formula:\n",
    "\n",
    "1. $$w = (X^T X)^{-1} X^T y$$\n",
    "\n",
    "Let $X{'}$ be the new matrix equal to the product of the original feature matrix $X$ by the invertible matrix $P$: \n",
    "\n",
    "2. $$X{'} = X P$$\n",
    "\n",
    "Let's substitute this product into the formula to calculate the new vector of linear regression weights:\n",
    "\n",
    "3. $$ w{'} = (X{'}^T X{'})^{-1} X{'}^T y$$\n",
    "\n",
    "4. $$ w{'} = ((X P)^T X P)^{-1} (X P)^T y$$\n",
    "\n",
    "Given that $(AB)^T = B^T A^T$, represent the expression as follows:\n",
    "\n",
    "5. $$ w{'} = (P^T X^T X P)^{-1} P^T X^T y$$"
   ]
  },
  {
   "cell_type": "markdown",
   "id": "ba91578f",
   "metadata": {},
   "source": [
    "Given that $(AB)^{-1} = B^{-1}A^{-1}$, represent the expression as follows:\n",
    "\n",
    "6. $$ w{'} = P^{-1} (X^T X)^{-1} (P^T)^{-1} P^T X^T y$$"
   ]
  },
  {
   "cell_type": "markdown",
   "id": "1976d238",
   "metadata": {},
   "source": [
    "Given that the matrix $P$ is inversible, its product of the inverse matrix equals the unit matrix, i.e. $(P^T)^{-1} P^T$ equals the unit matrix $E$. Let's substitute:\n",
    "\n",
    "7. $$ w{'} = P^{-1} (X^T X)^{-1} E X^T y = P^{-1} (X^T X)^{-1} X^T y$$"
   ]
  },
  {
   "cell_type": "markdown",
   "id": "6ad82ca1",
   "metadata": {},
   "source": [
    "Note that the part of the formula following the matrix $P^{-1}$ is a formula for calculating the initial vector of weights $w$ (see point 1). Let us substitute and rewrite the formula accordingly:\n",
    "\n",
    "8. $$ w{'} = P^{-1} w$$"
   ]
  },
  {
   "cell_type": "markdown",
   "id": "e0edf98e",
   "metadata": {},
   "source": [
    "The formula for calculating the prediction vector of the original model is as follows:\n",
    "\n",
    "9. $$ a = Xw $$"
   ]
  },
  {
   "cell_type": "markdown",
   "id": "2ffba05b",
   "metadata": {},
   "source": [
    "The formula for calculating the prediction vector of the new model would then look as follows:\n",
    "\n",
    "$$ a{'} = X{'}w{'} = XP P^{-1} w$$"
   ]
  },
  {
   "cell_type": "markdown",
   "id": "88a657bf",
   "metadata": {},
   "source": [
    "Given that the matrix $P$ is inversible, its product by the inverse matrix equals the unit matrix, i.e. $PP^{-1}$ equals the unit matrix $E$. Let's substitute:\n",
    "\n",
    "$$ a{'} = XP P^{-1} w = XEw = Xw$$ "
   ]
  },
  {
   "cell_type": "markdown",
   "id": "a2c16cd8",
   "metadata": {},
   "source": [
    "Since the product of the original feature matrix by the original feature weight vector - $Xw$ - is equal to the prediction vector of the original model $a$ (see point 9), respectively\n",
    "\n",
    "$$a{'} = a$$"
   ]
  },
  {
   "cell_type": "markdown",
   "id": "0326ee38",
   "metadata": {},
   "source": [
    "Thus, we have proved that the predictions for the transformed matrix with new features $a{'}$ obtained by multiplying the original feature matrix $X$ by the invertible matrix $P$ are equal to the predictions for the matrix with original features $a$.\n",
    "\n",
    "That is, the quality of the linear regression will not change, as the quality of the model is derived from the predictions (which are the same before and after transformations) and the target feature, which are fed into the input when calculating the quality metrics of the model.\n",
    "\n",
    "The parameters of the linear regression in the original problem and in the transformed one are related as follows:\n",
    "\n",
    "$$ w{'} = P^{-1} w$$"
   ]
  },
  {
   "cell_type": "markdown",
   "id": "24f14b51",
   "metadata": {},
   "source": [
    "## Transformation algorithm"
   ]
  },
  {
   "cell_type": "markdown",
   "id": "3f04d04a",
   "metadata": {},
   "source": [
    "**Algorithm**.\n",
    "\n",
    "In order to protect the data and preserve the quality of the machine learning model, the features of the original matrix will be multiplied by a invertible matrix: $X{'} = X P$\n",
    "\n",
    "To do this, the data transformation algorithm must contain a process of creating a such random matrix and multiplying it by the feature matrix."
   ]
  },
  {
   "cell_type": "markdown",
   "id": "2559c660",
   "metadata": {},
   "source": [
    "**Rationale**.\n",
    "\n",
    "As was mathematically proven in the previous step, the model predictions for the transformed feature matrix are the same as those for the matrix with the original features (before transformation). Thus, the transformations will not change the quality of the model, since the model quality metrics is calculated based on the predictions and target feature values, which are the same in both cases (before and after the transformations). Accordingly, the values of the metrics will also coincide. \n",
    "\n",
    "Let us prove our theoretical justification by calculations."
   ]
  },
  {
   "cell_type": "markdown",
   "id": "473886c7",
   "metadata": {},
   "source": [
    "## Algorithm verification"
   ]
  },
  {
   "cell_type": "markdown",
   "id": "89e6d9e3",
   "metadata": {},
   "source": [
    "In order to test the algorithm, let us calculate the vectors of predictions of the target feature before and after the transformations, that is, vector $a$ and $a'$, respectively. \n",
    "\n",
    "First, let us define the initial features and the target feature."
   ]
  },
  {
   "cell_type": "code",
   "execution_count": 17,
   "id": "687da937",
   "metadata": {},
   "outputs": [],
   "source": [
    "features = df.drop('Страховые выплаты', axis=1)\n",
    "target = df['Страховые выплаты']"
   ]
  },
  {
   "cell_type": "markdown",
   "id": "9a601683",
   "metadata": {},
   "source": [
    "Scaling the features with `StandardScaler()`"
   ]
  },
  {
   "cell_type": "code",
   "execution_count": 18,
   "id": "37b26fd1",
   "metadata": {},
   "outputs": [],
   "source": [
    "scaler = StandardScaler()\n",
    "scaler.fit(features)\n",
    "\n",
    "features = scaler.transform(features)"
   ]
  },
  {
   "cell_type": "markdown",
   "id": "f45a2f1b",
   "metadata": {},
   "source": [
    "Will calculate the prediction vector for the original feature matrix using the formula: $ a = Xw $.\n",
    "\n",
    "Accordingly, first will calculate the vector of weights for the features of the original matrix by the formula: $w = (X^T X)^{-1} X^T y$. "
   ]
  },
  {
   "cell_type": "code",
   "execution_count": 19,
   "id": "94947a57",
   "metadata": {},
   "outputs": [],
   "source": [
    "# calculating the vector of weights for the features of the original matrix\n",
    "\n",
    "w = np.linalg.inv(features.T @ features) @ features.T @ target\n",
    "\n",
    "# calculating the predictions vector for the original features matrix\n",
    "\n",
    "a = features @ w"
   ]
  },
  {
   "cell_type": "markdown",
   "id": "668ce60e",
   "metadata": {},
   "source": [
    "Next, calculate the predictions vector for the transformed feature matrix using the formula $ a{'} = X{'}w{'}$.\n",
    "\n",
    "Accordingly, the vector of weights for the features of the transformed matrix by the formula $ w{'} = (X{'}^T X{'})^{-1} X{'}^T y$."
   ]
  },
  {
   "cell_type": "markdown",
   "id": "89015b4c",
   "metadata": {},
   "source": [
    "Our transformation algorithm must contain the process of forming a inverse matrix, in order to multiply it by the original feature matrix. \n",
    "\n",
    "The inversible matrix must be square with such a dimension that after multiplication we get a matrix with the size of our initial matrix of features (5000,4). That is, the inverse matrix $P$ must be of dimension (4,4). When (5000,4)x(4,4) is multiplied, the internal dimensions \"collapse\" and we get a matrix of dimension (5000,4)."
   ]
  },
  {
   "cell_type": "code",
   "execution_count": 20,
   "id": "6fb0c1e3",
   "metadata": {},
   "outputs": [
    {
     "data": {
      "text/plain": [
       "array([[861, 786, 332, 968],\n",
       "       [291, 606, 982, 523],\n",
       "       [943, 577, 172, 258],\n",
       "       [613,  58, 668, 233]])"
      ]
     },
     "execution_count": 20,
     "metadata": {},
     "output_type": "execute_result"
    }
   ],
   "source": [
    "# creating a randomly inversible square matrix P for the subsequent transformation of the original feature matrix\n",
    "\n",
    "P = np.random.randint(1000, size=(features.shape[1], features.shape[1]))\n",
    "P"
   ]
  },
  {
   "cell_type": "markdown",
   "id": "efe69791",
   "metadata": {},
   "source": [
    "Check the matrix for inversability."
   ]
  },
  {
   "cell_type": "code",
   "execution_count": 21,
   "id": "c6aa3449",
   "metadata": {},
   "outputs": [
    {
     "data": {
      "text/plain": [
       "array([[-3.78587394e-06, -7.46202781e-04,  6.96433693e-04,\n",
       "         9.19523122e-04],\n",
       "       [-5.95289984e-04,  1.26750732e-03,  1.40677557e-03,\n",
       "        -1.92967262e-03],\n",
       "       [-5.39484522e-04,  7.97607870e-04, -1.66682303e-04,\n",
       "         6.35519894e-04],\n",
       "       [ 1.70482069e-03, -6.39035094e-04, -1.70456248e-03,\n",
       "         5.31013086e-04]])"
      ]
     },
     "execution_count": 21,
     "metadata": {},
     "output_type": "execute_result"
    }
   ],
   "source": [
    "np.linalg.inv(P)"
   ]
  },
  {
   "cell_type": "markdown",
   "id": "7e6964e4",
   "metadata": {},
   "source": [
    "Transform the original feature matrix by multiplying it with the inverse matrix P."
   ]
  },
  {
   "cell_type": "code",
   "execution_count": 22,
   "id": "550c23ea",
   "metadata": {},
   "outputs": [],
   "source": [
    "features_p = features @ P"
   ]
  },
  {
   "cell_type": "markdown",
   "id": "092a24bf",
   "metadata": {},
   "source": [
    "Calculating the vector of weights for the features of the transformed matrix using the formula $ w{'} = (X{'}^T X{'})^{-1} X{'}^T y$ and respectively the vector of predictions for the transformed features matrix by the formula $ a{'} = X{'}w{'}$."
   ]
  },
  {
   "cell_type": "code",
   "execution_count": 23,
   "id": "d7cf81f3",
   "metadata": {},
   "outputs": [],
   "source": [
    "# Calculating the vector of weights for the features of the transformed matrix \n",
    "\n",
    "w_p = np.linalg.inv(features_p.T @ features_p) @ features_p.T @ target\n",
    "\n",
    "# Calculating the vector of predictions for the transformed features matrix\n",
    "\n",
    "a_p = features_p @ w_p"
   ]
  },
  {
   "cell_type": "markdown",
   "id": "7b15e365",
   "metadata": {},
   "source": [
    "We have obtained two predictions vectors, for the original and transformed matrices. To ensure that they are equal, their difference must be equal or tend to zero."
   ]
  },
  {
   "cell_type": "code",
   "execution_count": 24,
   "id": "c1f52a31",
   "metadata": {},
   "outputs": [
    {
     "data": {
      "text/plain": [
       "array([ 4.38538095e-15,  7.66053887e-15, -1.74166237e-15, -1.55431223e-15,\n",
       "       -6.49480469e-15, -1.33226763e-15, -3.27515792e-15, -1.41553436e-14,\n",
       "        3.08086889e-15,  2.47718512e-15])"
      ]
     },
     "execution_count": 24,
     "metadata": {},
     "output_type": "execute_result"
    }
   ],
   "source": [
    "# Calculating the difference between the original and transformed predictions vectors\n",
    "\n",
    "diff = a - a_p\n",
    "diff[:10]"
   ]
  },
  {
   "cell_type": "markdown",
   "id": "aa5274f9",
   "metadata": {},
   "source": [
    "Each of the first 10 resulting values tends to zero. Will check that this is true for all 5000 values of our difference vector. If each value tends to zero, then the sum of all values must also tend to zero."
   ]
  },
  {
   "cell_type": "code",
   "execution_count": 25,
   "id": "ef8a3244",
   "metadata": {},
   "outputs": [
    {
     "data": {
      "text/plain": [
       "-4.621303340002214e-14"
      ]
     },
     "execution_count": 25,
     "metadata": {},
     "output_type": "execute_result"
    }
   ],
   "source": [
    "diff.sum()"
   ]
  },
  {
   "cell_type": "markdown",
   "id": "e9ddb151",
   "metadata": {},
   "source": [
    "This is the case - the sum tends to zero. We have confirmed the fact that the predictions for the matrix with the original features are the same as those for the matrix with the transformed features, that is, $a = a'$."
   ]
  },
  {
   "cell_type": "markdown",
   "id": "c597ecc6",
   "metadata": {},
   "source": [
    "Let us check that the quality of the linear regression does not differ before and after the transformation. Let us assess the quality of the models by MSE and R2 metrics."
   ]
  },
  {
   "cell_type": "code",
   "execution_count": 26,
   "id": "070253ca",
   "metadata": {},
   "outputs": [
    {
     "name": "stdout",
     "output_type": "stream",
     "text": [
      "MSE Score: 0.12334688941710859\n",
      "R2_Score на исходных данных: 0.4249455028666801\n"
     ]
    }
   ],
   "source": [
    "# checking the quality of Linear Regression model on original data\n",
    "\n",
    "model = LinearRegression()\n",
    "model.fit(features, target)\n",
    "predictions = model.predict(features)\n",
    "print('MSE Score:', mean_squared_error(target, predictions))\n",
    "print('R2_Score на исходных данных:', r2_score(target, predictions))"
   ]
  },
  {
   "cell_type": "code",
   "execution_count": 27,
   "id": "4d5821d6",
   "metadata": {},
   "outputs": [
    {
     "name": "stdout",
     "output_type": "stream",
     "text": [
      "MSE Score: 0.12334688941710859\n",
      "R2_Score на исходных данных: 0.4249455028666801\n"
     ]
    }
   ],
   "source": [
    "# checking the quality of Linear Regression model on transformed data\n",
    "\n",
    "model = LinearRegression()\n",
    "model.fit(features_p, target)\n",
    "predictions = model.predict(features_p)\n",
    "print('MSE Score:', mean_squared_error(target, predictions))\n",
    "print('R2_Score на исходных данных:', r2_score(target, predictions))"
   ]
  },
  {
   "cell_type": "markdown",
   "id": "41b9e33d",
   "metadata": {},
   "source": [
    "**Conclusion:**\n",
    "\n",
    "The calculations show that the quality metrics of the models on the original and transformed data are the same. Thus we can conclude that we have succeeded in developing an algorithm to protect insurance company customers' data without losing the quality of the machine learning models. "
   ]
  }
 ],
 "metadata": {
  "kernelspec": {
   "display_name": "Python 3 (ipykernel)",
   "language": "python",
   "name": "python3"
  },
  "language_info": {
   "codemirror_mode": {
    "name": "ipython",
    "version": 3
   },
   "file_extension": ".py",
   "mimetype": "text/x-python",
   "name": "python",
   "nbconvert_exporter": "python",
   "pygments_lexer": "ipython3",
   "version": "3.9.7"
  },
  "toc": {
   "base_numbering": 1,
   "nav_menu": {},
   "number_sections": true,
   "sideBar": true,
   "skip_h1_title": true,
   "title_cell": "Contents",
   "title_sidebar": "Contents",
   "toc_cell": true,
   "toc_position": {
    "height": "calc(100% - 180px)",
    "left": "10px",
    "top": "150px",
    "width": "303.825px"
   },
   "toc_section_display": true,
   "toc_window_display": true
  }
 },
 "nbformat": 4,
 "nbformat_minor": 5
}
