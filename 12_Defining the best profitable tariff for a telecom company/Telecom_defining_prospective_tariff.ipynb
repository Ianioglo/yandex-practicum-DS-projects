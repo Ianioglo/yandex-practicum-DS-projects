{
 "cells": [
  {
   "cell_type": "markdown",
   "id": "2907b226",
   "metadata": {
    "toc": true
   },
   "source": [
    "<h1>Contents<span class=\"tocSkip\"></span></h1>\n",
    "<div class=\"toc\"><ul class=\"toc-item\"><li><span><a href=\"#Examining-data-from-a-file\" data-toc-modified-id=\"Examining-data-from-a-file-1\"><span class=\"toc-item-num\">1&nbsp;&nbsp;</span>Examining data from a file</a></span></li><li><span><a href=\"#Data-preparation\" data-toc-modified-id=\"Data-preparation-2\"><span class=\"toc-item-num\">2&nbsp;&nbsp;</span>Data preparation</a></span><ul class=\"toc-item\"><li><span><a href=\"#Redefining-data-types\" data-toc-modified-id=\"Redefining-data-types-2.1\"><span class=\"toc-item-num\">2.1&nbsp;&nbsp;</span>Redefining data types</a></span></li><li><span><a href=\"#Correcting-data-errors\" data-toc-modified-id=\"Correcting-data-errors-2.2\"><span class=\"toc-item-num\">2.2&nbsp;&nbsp;</span>Correcting data errors</a></span></li><li><span><a href=\"#Counting-indicators-by-user\" data-toc-modified-id=\"Counting-indicators-by-user-2.3\"><span class=\"toc-item-num\">2.3&nbsp;&nbsp;</span>Counting indicators by user</a></span></li></ul></li><li><span><a href=\"#Analysis-of-customer-consumption-behaviour-by-tariff-package\" data-toc-modified-id=\"Analysis-of-customer-consumption-behaviour-by-tariff-package-3\"><span class=\"toc-item-num\">3&nbsp;&nbsp;</span>Analysis of customer consumption behaviour by tariff package</a></span><ul class=\"toc-item\"><li><span><a href=\"#Duration-of-calls-analysis\" data-toc-modified-id=\"Duration-of-calls-analysis-3.1\"><span class=\"toc-item-num\">3.1&nbsp;&nbsp;</span>Duration of calls analysis</a></span></li><li><span><a href=\"#Number-of-messages-analysis\" data-toc-modified-id=\"Number-of-messages-analysis-3.2\"><span class=\"toc-item-num\">3.2&nbsp;&nbsp;</span>Number of messages analysis</a></span></li><li><span><a href=\"#Internet-trafic-analysis\" data-toc-modified-id=\"Internet-trafic-analysis-3.3\"><span class=\"toc-item-num\">3.3&nbsp;&nbsp;</span>Internet trafic analysis</a></span></li><li><span><a href=\"#Revenue-analysis\" data-toc-modified-id=\"Revenue-analysis-3.4\"><span class=\"toc-item-num\">3.4&nbsp;&nbsp;</span>Revenue analysis</a></span></li></ul></li><li><span><a href=\"#Hypothesis-testing\" data-toc-modified-id=\"Hypothesis-testing-4\"><span class=\"toc-item-num\">4&nbsp;&nbsp;</span>Hypothesis testing</a></span><ul class=\"toc-item\"><li><span><a href=\"#Users'-average-revenue-of-Ultra-and-Smart-tariff-differ\" data-toc-modified-id=\"Users'-average-revenue-of-Ultra-and-Smart-tariff-differ-4.1\"><span class=\"toc-item-num\">4.1&nbsp;&nbsp;</span>Users' average revenue of Ultra and Smart tariff differ</a></span></li><li><span><a href=\"#The-average-revenue-of-users-from-Moscow-differs-from-users-from-other-regions\" data-toc-modified-id=\"The-average-revenue-of-users-from-Moscow-differs-from-users-from-other-regions-4.2\"><span class=\"toc-item-num\">4.2&nbsp;&nbsp;</span>The average revenue of users from Moscow differs from users from other regions</a></span></li></ul></li><li><span><a href=\"#Overall-conclusion\" data-toc-modified-id=\"Overall-conclusion-5\"><span class=\"toc-item-num\">5&nbsp;&nbsp;</span>Overall conclusion</a></span></li></ul></div>"
   ]
  },
  {
   "cell_type": "markdown",
   "id": "c6946f78",
   "metadata": {},
   "source": [
    "# Determining a prospective tariff for a telecom company"
   ]
  },
  {
   "cell_type": "markdown",
   "id": "0761b035",
   "metadata": {},
   "source": [
    "We are analysts at Megaline, a federal cellular operator. Customers are offered two tariff plans: Smart and Ultra. In order to adjust the advertising budget, the commercial department wants to understand which tariff brings in more money.\n",
    "\n",
    "We have to do a preliminary analysis of the tariffs on a small sample of customers. We have data from 500 Megaline users at our disposal: who they are, where they come from, what tariff they use, how many calls and messages each sent in 2018. We need to analyse customer behaviour and draw a conclusion - which tariff is better.\n",
    "\n",
    "**Tariffs description**.\n",
    "\n",
    "**Tariff \"Smart\"**.\n",
    "1. Monthly fee: 550 rubles\n",
    "2. Includes 500 minutes talk time, 50 messages and 15GB of Internet traffic\n",
    "3. Fee for services beyond the tariff package:\n",
    "    - one minute of talk time: 3 RUB\n",
    "    - message: 3 rubles\n",
    "    - 1 Mb of Internet traffic: 200 RUB\n",
    "\n",
    "**Tariff \"Ultra\"**.\n",
    "1. Monthly fee: 1950 roubles\n",
    "2. 3000 minutes of talk time, 1000 messages and 30 GB of Internet traffic included\n",
    "3. Fee for services beyond the tariff package:\n",
    "    - one minute of talk time: 1 RUB\n",
    "    - message: 1 RUB\n",
    "    - 1 Gb of Internet traffic: 150 RUB"
   ]
  },
  {
   "cell_type": "markdown",
   "id": "794f2b14",
   "metadata": {},
   "source": [
    "## Examining data from a file"
   ]
  },
  {
   "cell_type": "code",
   "execution_count": 1,
   "id": "40a5b69c",
   "metadata": {},
   "outputs": [],
   "source": [
    "import pandas as pd\n",
    "import numpy as np\n",
    "import matplotlib.pyplot as plt\n",
    "import seaborn as sns\n",
    "from scipy import stats as st\n",
    "from datetime import datetime\n",
    "import warnings\n"
   ]
  },
  {
   "cell_type": "code",
   "execution_count": 2,
   "id": "7c993637",
   "metadata": {},
   "outputs": [],
   "source": [
    "\n",
    "try:\n",
    "    users = pd.read_csv('data/users.csv')\n",
    "    calls = pd.read_csv('data/calls.csv')\n",
    "    messages = pd.read_csv('data/messages.csv')\n",
    "    internet = pd.read_csv('data/internet.csv')\n",
    "    tariffs = pd.read_csv('data/tariffs.csv')\n",
    "\n",
    "except:\n",
    "    calls = pd.read_csv('/datasets/calls.csv', sep = ',')\n",
    "    internet = pd.read_csv('/datasets/internet.csv', sep = ',')\n",
    "    messages = pd.read_csv('/datasets/messages.csv', sep = ',')\n",
    "    tariffs = pd.read_csv('/datasets/tariffs.csv', sep = ',')\n",
    "    users = pd.read_csv('/datasets/users.csv', sep = ',')\n",
    "\n",
    "warnings.simplefilter(action='ignore', category=FutureWarning)"
   ]
  },
  {
   "cell_type": "markdown",
   "id": "bf4674b1",
   "metadata": {},
   "source": [
    "<u>**Customer info table**<u/>"
   ]
  },
  {
   "cell_type": "code",
   "execution_count": 3,
   "id": "5500e44a",
   "metadata": {},
   "outputs": [
    {
     "data": {
      "text/html": [
       "<div>\n",
       "<style scoped>\n",
       "    .dataframe tbody tr th:only-of-type {\n",
       "        vertical-align: middle;\n",
       "    }\n",
       "\n",
       "    .dataframe tbody tr th {\n",
       "        vertical-align: top;\n",
       "    }\n",
       "\n",
       "    .dataframe thead th {\n",
       "        text-align: right;\n",
       "    }\n",
       "</style>\n",
       "<table border=\"1\" class=\"dataframe\">\n",
       "  <thead>\n",
       "    <tr style=\"text-align: right;\">\n",
       "      <th></th>\n",
       "      <th>user_id</th>\n",
       "      <th>age</th>\n",
       "      <th>churn_date</th>\n",
       "      <th>city</th>\n",
       "      <th>first_name</th>\n",
       "      <th>last_name</th>\n",
       "      <th>reg_date</th>\n",
       "      <th>tariff</th>\n",
       "    </tr>\n",
       "  </thead>\n",
       "  <tbody>\n",
       "    <tr>\n",
       "      <th>53</th>\n",
       "      <td>1053</td>\n",
       "      <td>64</td>\n",
       "      <td>NaN</td>\n",
       "      <td>Ростов-на-Дону</td>\n",
       "      <td>Ренальд</td>\n",
       "      <td>Фёдоров</td>\n",
       "      <td>2018-09-30</td>\n",
       "      <td>ultra</td>\n",
       "    </tr>\n",
       "    <tr>\n",
       "      <th>365</th>\n",
       "      <td>1365</td>\n",
       "      <td>38</td>\n",
       "      <td>NaN</td>\n",
       "      <td>Ростов-на-Дону</td>\n",
       "      <td>Георгий</td>\n",
       "      <td>Вишняков</td>\n",
       "      <td>2018-10-31</td>\n",
       "      <td>smart</td>\n",
       "    </tr>\n",
       "    <tr>\n",
       "      <th>179</th>\n",
       "      <td>1179</td>\n",
       "      <td>43</td>\n",
       "      <td>NaN</td>\n",
       "      <td>Вологда</td>\n",
       "      <td>Дана</td>\n",
       "      <td>Астапенко</td>\n",
       "      <td>2018-04-19</td>\n",
       "      <td>smart</td>\n",
       "    </tr>\n",
       "    <tr>\n",
       "      <th>339</th>\n",
       "      <td>1339</td>\n",
       "      <td>52</td>\n",
       "      <td>NaN</td>\n",
       "      <td>Москва</td>\n",
       "      <td>Григорий</td>\n",
       "      <td>Вишневский</td>\n",
       "      <td>2018-08-14</td>\n",
       "      <td>smart</td>\n",
       "    </tr>\n",
       "    <tr>\n",
       "      <th>294</th>\n",
       "      <td>1294</td>\n",
       "      <td>66</td>\n",
       "      <td>NaN</td>\n",
       "      <td>Владивосток</td>\n",
       "      <td>Дебора</td>\n",
       "      <td>Асафьева</td>\n",
       "      <td>2018-02-20</td>\n",
       "      <td>ultra</td>\n",
       "    </tr>\n",
       "  </tbody>\n",
       "</table>\n",
       "</div>"
      ],
      "text/plain": [
       "     user_id  age churn_date            city first_name   last_name  \\\n",
       "53      1053   64        NaN  Ростов-на-Дону    Ренальд     Фёдоров   \n",
       "365     1365   38        NaN  Ростов-на-Дону    Георгий    Вишняков   \n",
       "179     1179   43        NaN         Вологда       Дана   Астапенко   \n",
       "339     1339   52        NaN          Москва   Григорий  Вишневский   \n",
       "294     1294   66        NaN     Владивосток     Дебора    Асафьева   \n",
       "\n",
       "       reg_date tariff  \n",
       "53   2018-09-30  ultra  \n",
       "365  2018-10-31  smart  \n",
       "179  2018-04-19  smart  \n",
       "339  2018-08-14  smart  \n",
       "294  2018-02-20  ultra  "
      ]
     },
     "execution_count": 3,
     "metadata": {},
     "output_type": "execute_result"
    }
   ],
   "source": [
    "users.sample(5)"
   ]
  },
  {
   "cell_type": "code",
   "execution_count": 4,
   "id": "e4e7b9ed",
   "metadata": {},
   "outputs": [
    {
     "name": "stdout",
     "output_type": "stream",
     "text": [
      "<class 'pandas.core.frame.DataFrame'>\n",
      "RangeIndex: 500 entries, 0 to 499\n",
      "Data columns (total 8 columns):\n",
      " #   Column      Non-Null Count  Dtype \n",
      "---  ------      --------------  ----- \n",
      " 0   user_id     500 non-null    int64 \n",
      " 1   age         500 non-null    int64 \n",
      " 2   churn_date  38 non-null     object\n",
      " 3   city        500 non-null    object\n",
      " 4   first_name  500 non-null    object\n",
      " 5   last_name   500 non-null    object\n",
      " 6   reg_date    500 non-null    object\n",
      " 7   tariff      500 non-null    object\n",
      "dtypes: int64(2), object(6)\n",
      "memory usage: 31.4+ KB\n"
     ]
    }
   ],
   "source": [
    "users.info()"
   ]
  },
  {
   "cell_type": "code",
   "execution_count": 5,
   "id": "b0c6866f",
   "metadata": {},
   "outputs": [
    {
     "data": {
      "text/plain": [
       "0"
      ]
     },
     "execution_count": 5,
     "metadata": {},
     "output_type": "execute_result"
    }
   ],
   "source": [
    "users.duplicated().sum()"
   ]
  },
  {
   "cell_type": "markdown",
   "id": "37ac4a3f",
   "metadata": {},
   "source": [
    "- there are 500 entries in the table\n",
    "- column names are correctly represented, taking into account \"snake_case\" \n",
    "- 38 populated values in the `churn_date` column. Missing values are not a problem in this case - this is evidence of a valid contract at the time of data uploading\n",
    "- The columns with dates should be converted to the appropriate data type. Also convert the `user_id` column to a string data type. Despite the fact that it contains integer values, the logic of this parameter does not involve arithmetic and other calculations with this column, respectively, replace its data type with `str`.  \n",
    "- other than that, no problems are observed with the data\n",
    "- no duplicates"
   ]
  },
  {
   "cell_type": "markdown",
   "id": "7f9ea261",
   "metadata": {},
   "source": [
    "<u>**Calls infor table**<u/>"
   ]
  },
  {
   "cell_type": "code",
   "execution_count": 6,
   "id": "e8e1fb3f",
   "metadata": {},
   "outputs": [
    {
     "data": {
      "text/html": [
       "<div>\n",
       "<style scoped>\n",
       "    .dataframe tbody tr th:only-of-type {\n",
       "        vertical-align: middle;\n",
       "    }\n",
       "\n",
       "    .dataframe tbody tr th {\n",
       "        vertical-align: top;\n",
       "    }\n",
       "\n",
       "    .dataframe thead th {\n",
       "        text-align: right;\n",
       "    }\n",
       "</style>\n",
       "<table border=\"1\" class=\"dataframe\">\n",
       "  <thead>\n",
       "    <tr style=\"text-align: right;\">\n",
       "      <th></th>\n",
       "      <th>id</th>\n",
       "      <th>call_date</th>\n",
       "      <th>duration</th>\n",
       "      <th>user_id</th>\n",
       "    </tr>\n",
       "  </thead>\n",
       "  <tbody>\n",
       "    <tr>\n",
       "      <th>0</th>\n",
       "      <td>1000_0</td>\n",
       "      <td>2018-07-25</td>\n",
       "      <td>0.00</td>\n",
       "      <td>1000</td>\n",
       "    </tr>\n",
       "    <tr>\n",
       "      <th>1</th>\n",
       "      <td>1000_1</td>\n",
       "      <td>2018-08-17</td>\n",
       "      <td>0.00</td>\n",
       "      <td>1000</td>\n",
       "    </tr>\n",
       "    <tr>\n",
       "      <th>2</th>\n",
       "      <td>1000_2</td>\n",
       "      <td>2018-06-11</td>\n",
       "      <td>2.85</td>\n",
       "      <td>1000</td>\n",
       "    </tr>\n",
       "    <tr>\n",
       "      <th>3</th>\n",
       "      <td>1000_3</td>\n",
       "      <td>2018-09-21</td>\n",
       "      <td>13.80</td>\n",
       "      <td>1000</td>\n",
       "    </tr>\n",
       "    <tr>\n",
       "      <th>4</th>\n",
       "      <td>1000_4</td>\n",
       "      <td>2018-12-15</td>\n",
       "      <td>5.18</td>\n",
       "      <td>1000</td>\n",
       "    </tr>\n",
       "    <tr>\n",
       "      <th>...</th>\n",
       "      <td>...</td>\n",
       "      <td>...</td>\n",
       "      <td>...</td>\n",
       "      <td>...</td>\n",
       "    </tr>\n",
       "    <tr>\n",
       "      <th>202602</th>\n",
       "      <td>1499_215</td>\n",
       "      <td>2018-12-26</td>\n",
       "      <td>0.76</td>\n",
       "      <td>1499</td>\n",
       "    </tr>\n",
       "    <tr>\n",
       "      <th>202603</th>\n",
       "      <td>1499_216</td>\n",
       "      <td>2018-10-18</td>\n",
       "      <td>18.83</td>\n",
       "      <td>1499</td>\n",
       "    </tr>\n",
       "    <tr>\n",
       "      <th>202604</th>\n",
       "      <td>1499_217</td>\n",
       "      <td>2018-11-10</td>\n",
       "      <td>10.81</td>\n",
       "      <td>1499</td>\n",
       "    </tr>\n",
       "    <tr>\n",
       "      <th>202605</th>\n",
       "      <td>1499_218</td>\n",
       "      <td>2018-10-06</td>\n",
       "      <td>4.27</td>\n",
       "      <td>1499</td>\n",
       "    </tr>\n",
       "    <tr>\n",
       "      <th>202606</th>\n",
       "      <td>1499_219</td>\n",
       "      <td>2018-12-14</td>\n",
       "      <td>19.62</td>\n",
       "      <td>1499</td>\n",
       "    </tr>\n",
       "  </tbody>\n",
       "</table>\n",
       "<p>202607 rows × 4 columns</p>\n",
       "</div>"
      ],
      "text/plain": [
       "              id   call_date  duration  user_id\n",
       "0         1000_0  2018-07-25      0.00     1000\n",
       "1         1000_1  2018-08-17      0.00     1000\n",
       "2         1000_2  2018-06-11      2.85     1000\n",
       "3         1000_3  2018-09-21     13.80     1000\n",
       "4         1000_4  2018-12-15      5.18     1000\n",
       "...          ...         ...       ...      ...\n",
       "202602  1499_215  2018-12-26      0.76     1499\n",
       "202603  1499_216  2018-10-18     18.83     1499\n",
       "202604  1499_217  2018-11-10     10.81     1499\n",
       "202605  1499_218  2018-10-06      4.27     1499\n",
       "202606  1499_219  2018-12-14     19.62     1499\n",
       "\n",
       "[202607 rows x 4 columns]"
      ]
     },
     "execution_count": 6,
     "metadata": {},
     "output_type": "execute_result"
    }
   ],
   "source": [
    "calls"
   ]
  },
  {
   "cell_type": "code",
   "execution_count": 7,
   "id": "7d4da54f",
   "metadata": {},
   "outputs": [
    {
     "name": "stdout",
     "output_type": "stream",
     "text": [
      "<class 'pandas.core.frame.DataFrame'>\n",
      "RangeIndex: 202607 entries, 0 to 202606\n",
      "Data columns (total 4 columns):\n",
      " #   Column     Non-Null Count   Dtype  \n",
      "---  ------     --------------   -----  \n",
      " 0   id         202607 non-null  object \n",
      " 1   call_date  202607 non-null  object \n",
      " 2   duration   202607 non-null  float64\n",
      " 3   user_id    202607 non-null  int64  \n",
      "dtypes: float64(1), int64(1), object(2)\n",
      "memory usage: 6.2+ MB\n"
     ]
    }
   ],
   "source": [
    "calls.info()"
   ]
  },
  {
   "cell_type": "code",
   "execution_count": 8,
   "id": "9223dc23",
   "metadata": {},
   "outputs": [
    {
     "data": {
      "text/plain": [
       "0"
      ]
     },
     "execution_count": 8,
     "metadata": {},
     "output_type": "execute_result"
    }
   ],
   "source": [
    "calls.duplicated().sum()"
   ]
  },
  {
   "cell_type": "markdown",
   "id": "21861e9d",
   "metadata": {},
   "source": [
    "- there are 202607 records in the table\n",
    "- column names are correct, in snake_case \n",
    "- there are no missing values\n",
    "- the column with dates should be converted to an appropriate data type. Also convert the `user_id` column to a string data type. Despite the fact that it contains integer values, the logic of the parameter does not provide for arithmetic and other calculations with this column, respectively, replace its data type with `str`.\n",
    "- there are zero values in the column with the duration of the call - these are missed calls, according to the condition of the project. The duration of the calls will also need to be rounded \"up\", according to the conditions of the operator.\n",
    "- other than that, there is no problem with the data\n",
    "- no duplicates"
   ]
  },
  {
   "cell_type": "markdown",
   "id": "6a838bda",
   "metadata": {},
   "source": [
    "<u>**Messages info table**<u/>"
   ]
  },
  {
   "cell_type": "code",
   "execution_count": 9,
   "id": "c8148387",
   "metadata": {},
   "outputs": [
    {
     "data": {
      "text/html": [
       "<div>\n",
       "<style scoped>\n",
       "    .dataframe tbody tr th:only-of-type {\n",
       "        vertical-align: middle;\n",
       "    }\n",
       "\n",
       "    .dataframe tbody tr th {\n",
       "        vertical-align: top;\n",
       "    }\n",
       "\n",
       "    .dataframe thead th {\n",
       "        text-align: right;\n",
       "    }\n",
       "</style>\n",
       "<table border=\"1\" class=\"dataframe\">\n",
       "  <thead>\n",
       "    <tr style=\"text-align: right;\">\n",
       "      <th></th>\n",
       "      <th>id</th>\n",
       "      <th>message_date</th>\n",
       "      <th>user_id</th>\n",
       "    </tr>\n",
       "  </thead>\n",
       "  <tbody>\n",
       "    <tr>\n",
       "      <th>0</th>\n",
       "      <td>1000_0</td>\n",
       "      <td>2018-06-27</td>\n",
       "      <td>1000</td>\n",
       "    </tr>\n",
       "    <tr>\n",
       "      <th>1</th>\n",
       "      <td>1000_1</td>\n",
       "      <td>2018-10-08</td>\n",
       "      <td>1000</td>\n",
       "    </tr>\n",
       "    <tr>\n",
       "      <th>2</th>\n",
       "      <td>1000_2</td>\n",
       "      <td>2018-08-04</td>\n",
       "      <td>1000</td>\n",
       "    </tr>\n",
       "    <tr>\n",
       "      <th>3</th>\n",
       "      <td>1000_3</td>\n",
       "      <td>2018-06-16</td>\n",
       "      <td>1000</td>\n",
       "    </tr>\n",
       "    <tr>\n",
       "      <th>4</th>\n",
       "      <td>1000_4</td>\n",
       "      <td>2018-12-05</td>\n",
       "      <td>1000</td>\n",
       "    </tr>\n",
       "    <tr>\n",
       "      <th>...</th>\n",
       "      <td>...</td>\n",
       "      <td>...</td>\n",
       "      <td>...</td>\n",
       "    </tr>\n",
       "    <tr>\n",
       "      <th>123031</th>\n",
       "      <td>1499_179</td>\n",
       "      <td>2018-12-12</td>\n",
       "      <td>1499</td>\n",
       "    </tr>\n",
       "    <tr>\n",
       "      <th>123032</th>\n",
       "      <td>1499_180</td>\n",
       "      <td>2018-09-28</td>\n",
       "      <td>1499</td>\n",
       "    </tr>\n",
       "    <tr>\n",
       "      <th>123033</th>\n",
       "      <td>1499_181</td>\n",
       "      <td>2018-09-27</td>\n",
       "      <td>1499</td>\n",
       "    </tr>\n",
       "    <tr>\n",
       "      <th>123034</th>\n",
       "      <td>1499_182</td>\n",
       "      <td>2018-11-15</td>\n",
       "      <td>1499</td>\n",
       "    </tr>\n",
       "    <tr>\n",
       "      <th>123035</th>\n",
       "      <td>1499_183</td>\n",
       "      <td>2018-11-16</td>\n",
       "      <td>1499</td>\n",
       "    </tr>\n",
       "  </tbody>\n",
       "</table>\n",
       "<p>123036 rows × 3 columns</p>\n",
       "</div>"
      ],
      "text/plain": [
       "              id message_date  user_id\n",
       "0         1000_0   2018-06-27     1000\n",
       "1         1000_1   2018-10-08     1000\n",
       "2         1000_2   2018-08-04     1000\n",
       "3         1000_3   2018-06-16     1000\n",
       "4         1000_4   2018-12-05     1000\n",
       "...          ...          ...      ...\n",
       "123031  1499_179   2018-12-12     1499\n",
       "123032  1499_180   2018-09-28     1499\n",
       "123033  1499_181   2018-09-27     1499\n",
       "123034  1499_182   2018-11-15     1499\n",
       "123035  1499_183   2018-11-16     1499\n",
       "\n",
       "[123036 rows x 3 columns]"
      ]
     },
     "execution_count": 9,
     "metadata": {},
     "output_type": "execute_result"
    }
   ],
   "source": [
    "messages"
   ]
  },
  {
   "cell_type": "code",
   "execution_count": 10,
   "id": "ba894d3b",
   "metadata": {
    "scrolled": true
   },
   "outputs": [
    {
     "name": "stdout",
     "output_type": "stream",
     "text": [
      "<class 'pandas.core.frame.DataFrame'>\n",
      "RangeIndex: 123036 entries, 0 to 123035\n",
      "Data columns (total 3 columns):\n",
      " #   Column        Non-Null Count   Dtype \n",
      "---  ------        --------------   ----- \n",
      " 0   id            123036 non-null  object\n",
      " 1   message_date  123036 non-null  object\n",
      " 2   user_id       123036 non-null  int64 \n",
      "dtypes: int64(1), object(2)\n",
      "memory usage: 2.8+ MB\n"
     ]
    }
   ],
   "source": [
    "messages.info()"
   ]
  },
  {
   "cell_type": "code",
   "execution_count": 11,
   "id": "9676136e",
   "metadata": {},
   "outputs": [
    {
     "data": {
      "text/plain": [
       "0"
      ]
     },
     "execution_count": 11,
     "metadata": {},
     "output_type": "execute_result"
    }
   ],
   "source": [
    "messages.duplicated().sum()"
   ]
  },
  {
   "cell_type": "markdown",
   "id": "ad55197b",
   "metadata": {},
   "source": [
    "- there are 123036 records in the table\n",
    "- column names are correct, in snake_case \n",
    "- no missing values\n",
    "- the column with dates should be converted to an appropriate data type. Also convert the `user_id` column to a string data type. Despite the fact that it contains integer values, the logic of the parameter does not provide for arithmetic and other calculations with this column, respectively, replace its data type with `str`.\n",
    "- other than that, no problems are observed with the data\n",
    "- no duplicates"
   ]
  },
  {
   "cell_type": "markdown",
   "id": "963cdbc4",
   "metadata": {},
   "source": [
    "<u>**Internet sessions info table**<u/>"
   ]
  },
  {
   "cell_type": "code",
   "execution_count": 12,
   "id": "14a6ef4b",
   "metadata": {},
   "outputs": [
    {
     "data": {
      "text/html": [
       "<div>\n",
       "<style scoped>\n",
       "    .dataframe tbody tr th:only-of-type {\n",
       "        vertical-align: middle;\n",
       "    }\n",
       "\n",
       "    .dataframe tbody tr th {\n",
       "        vertical-align: top;\n",
       "    }\n",
       "\n",
       "    .dataframe thead th {\n",
       "        text-align: right;\n",
       "    }\n",
       "</style>\n",
       "<table border=\"1\" class=\"dataframe\">\n",
       "  <thead>\n",
       "    <tr style=\"text-align: right;\">\n",
       "      <th></th>\n",
       "      <th>Unnamed: 0</th>\n",
       "      <th>id</th>\n",
       "      <th>mb_used</th>\n",
       "      <th>session_date</th>\n",
       "      <th>user_id</th>\n",
       "    </tr>\n",
       "  </thead>\n",
       "  <tbody>\n",
       "    <tr>\n",
       "      <th>0</th>\n",
       "      <td>0</td>\n",
       "      <td>1000_0</td>\n",
       "      <td>112.95</td>\n",
       "      <td>2018-11-25</td>\n",
       "      <td>1000</td>\n",
       "    </tr>\n",
       "    <tr>\n",
       "      <th>1</th>\n",
       "      <td>1</td>\n",
       "      <td>1000_1</td>\n",
       "      <td>1052.81</td>\n",
       "      <td>2018-09-07</td>\n",
       "      <td>1000</td>\n",
       "    </tr>\n",
       "    <tr>\n",
       "      <th>2</th>\n",
       "      <td>2</td>\n",
       "      <td>1000_2</td>\n",
       "      <td>1197.26</td>\n",
       "      <td>2018-06-25</td>\n",
       "      <td>1000</td>\n",
       "    </tr>\n",
       "    <tr>\n",
       "      <th>3</th>\n",
       "      <td>3</td>\n",
       "      <td>1000_3</td>\n",
       "      <td>550.27</td>\n",
       "      <td>2018-08-22</td>\n",
       "      <td>1000</td>\n",
       "    </tr>\n",
       "    <tr>\n",
       "      <th>4</th>\n",
       "      <td>4</td>\n",
       "      <td>1000_4</td>\n",
       "      <td>302.56</td>\n",
       "      <td>2018-09-24</td>\n",
       "      <td>1000</td>\n",
       "    </tr>\n",
       "    <tr>\n",
       "      <th>...</th>\n",
       "      <td>...</td>\n",
       "      <td>...</td>\n",
       "      <td>...</td>\n",
       "      <td>...</td>\n",
       "      <td>...</td>\n",
       "    </tr>\n",
       "    <tr>\n",
       "      <th>149391</th>\n",
       "      <td>149391</td>\n",
       "      <td>1499_152</td>\n",
       "      <td>318.90</td>\n",
       "      <td>2018-10-03</td>\n",
       "      <td>1499</td>\n",
       "    </tr>\n",
       "    <tr>\n",
       "      <th>149392</th>\n",
       "      <td>149392</td>\n",
       "      <td>1499_153</td>\n",
       "      <td>490.13</td>\n",
       "      <td>2018-12-14</td>\n",
       "      <td>1499</td>\n",
       "    </tr>\n",
       "    <tr>\n",
       "      <th>149393</th>\n",
       "      <td>149393</td>\n",
       "      <td>1499_154</td>\n",
       "      <td>0.00</td>\n",
       "      <td>2018-10-27</td>\n",
       "      <td>1499</td>\n",
       "    </tr>\n",
       "    <tr>\n",
       "      <th>149394</th>\n",
       "      <td>149394</td>\n",
       "      <td>1499_155</td>\n",
       "      <td>1246.32</td>\n",
       "      <td>2018-11-26</td>\n",
       "      <td>1499</td>\n",
       "    </tr>\n",
       "    <tr>\n",
       "      <th>149395</th>\n",
       "      <td>149395</td>\n",
       "      <td>1499_156</td>\n",
       "      <td>544.37</td>\n",
       "      <td>2018-10-26</td>\n",
       "      <td>1499</td>\n",
       "    </tr>\n",
       "  </tbody>\n",
       "</table>\n",
       "<p>149396 rows × 5 columns</p>\n",
       "</div>"
      ],
      "text/plain": [
       "        Unnamed: 0        id  mb_used session_date  user_id\n",
       "0                0    1000_0   112.95   2018-11-25     1000\n",
       "1                1    1000_1  1052.81   2018-09-07     1000\n",
       "2                2    1000_2  1197.26   2018-06-25     1000\n",
       "3                3    1000_3   550.27   2018-08-22     1000\n",
       "4                4    1000_4   302.56   2018-09-24     1000\n",
       "...            ...       ...      ...          ...      ...\n",
       "149391      149391  1499_152   318.90   2018-10-03     1499\n",
       "149392      149392  1499_153   490.13   2018-12-14     1499\n",
       "149393      149393  1499_154     0.00   2018-10-27     1499\n",
       "149394      149394  1499_155  1246.32   2018-11-26     1499\n",
       "149395      149395  1499_156   544.37   2018-10-26     1499\n",
       "\n",
       "[149396 rows x 5 columns]"
      ]
     },
     "execution_count": 12,
     "metadata": {},
     "output_type": "execute_result"
    }
   ],
   "source": [
    "internet"
   ]
  },
  {
   "cell_type": "code",
   "execution_count": 13,
   "id": "5e6571af",
   "metadata": {},
   "outputs": [
    {
     "name": "stdout",
     "output_type": "stream",
     "text": [
      "<class 'pandas.core.frame.DataFrame'>\n",
      "RangeIndex: 149396 entries, 0 to 149395\n",
      "Data columns (total 5 columns):\n",
      " #   Column        Non-Null Count   Dtype  \n",
      "---  ------        --------------   -----  \n",
      " 0   Unnamed: 0    149396 non-null  int64  \n",
      " 1   id            149396 non-null  object \n",
      " 2   mb_used       149396 non-null  float64\n",
      " 3   session_date  149396 non-null  object \n",
      " 4   user_id       149396 non-null  int64  \n",
      "dtypes: float64(1), int64(2), object(2)\n",
      "memory usage: 5.7+ MB\n"
     ]
    }
   ],
   "source": [
    "internet.info()"
   ]
  },
  {
   "cell_type": "code",
   "execution_count": 14,
   "id": "04cad3a3",
   "metadata": {},
   "outputs": [
    {
     "data": {
      "text/plain": [
       "0"
      ]
     },
     "execution_count": 14,
     "metadata": {},
     "output_type": "execute_result"
    }
   ],
   "source": [
    "internet.duplicated().sum()"
   ]
  },
  {
   "cell_type": "markdown",
   "id": "5c585627",
   "metadata": {},
   "source": [
    "- there are 149396 records in the table\n",
    "- column names are correct, in snake_case\n",
    "- there are no missing values\n",
    "- there is one uninformative column `Unnamed: 0` which will need to be removed\n",
    "- the column with dates should be converted to the appropriate data type. Also convert the `user_id` column to a string data type. Despite the fact that it contains integer values, the logic of the parameter does not provide for arithmetic and other calculations with this column, respectively, replace its data type with `str`.\n",
    "- other than that, no problems are observed with the data\n",
    "- no duplicates"
   ]
  },
  {
   "cell_type": "markdown",
   "id": "0b51f88b",
   "metadata": {},
   "source": [
    "<u>**Tariffs info table**<u/>"
   ]
  },
  {
   "cell_type": "code",
   "execution_count": 15,
   "id": "9012a7e0",
   "metadata": {},
   "outputs": [
    {
     "data": {
      "text/html": [
       "<div>\n",
       "<style scoped>\n",
       "    .dataframe tbody tr th:only-of-type {\n",
       "        vertical-align: middle;\n",
       "    }\n",
       "\n",
       "    .dataframe tbody tr th {\n",
       "        vertical-align: top;\n",
       "    }\n",
       "\n",
       "    .dataframe thead th {\n",
       "        text-align: right;\n",
       "    }\n",
       "</style>\n",
       "<table border=\"1\" class=\"dataframe\">\n",
       "  <thead>\n",
       "    <tr style=\"text-align: right;\">\n",
       "      <th></th>\n",
       "      <th>messages_included</th>\n",
       "      <th>mb_per_month_included</th>\n",
       "      <th>minutes_included</th>\n",
       "      <th>rub_monthly_fee</th>\n",
       "      <th>rub_per_gb</th>\n",
       "      <th>rub_per_message</th>\n",
       "      <th>rub_per_minute</th>\n",
       "      <th>tariff_name</th>\n",
       "    </tr>\n",
       "  </thead>\n",
       "  <tbody>\n",
       "    <tr>\n",
       "      <th>0</th>\n",
       "      <td>50</td>\n",
       "      <td>15360</td>\n",
       "      <td>500</td>\n",
       "      <td>550</td>\n",
       "      <td>200</td>\n",
       "      <td>3</td>\n",
       "      <td>3</td>\n",
       "      <td>smart</td>\n",
       "    </tr>\n",
       "    <tr>\n",
       "      <th>1</th>\n",
       "      <td>1000</td>\n",
       "      <td>30720</td>\n",
       "      <td>3000</td>\n",
       "      <td>1950</td>\n",
       "      <td>150</td>\n",
       "      <td>1</td>\n",
       "      <td>1</td>\n",
       "      <td>ultra</td>\n",
       "    </tr>\n",
       "  </tbody>\n",
       "</table>\n",
       "</div>"
      ],
      "text/plain": [
       "   messages_included  mb_per_month_included  minutes_included  \\\n",
       "0                 50                  15360               500   \n",
       "1               1000                  30720              3000   \n",
       "\n",
       "   rub_monthly_fee  rub_per_gb  rub_per_message  rub_per_minute tariff_name  \n",
       "0              550         200                3               3       smart  \n",
       "1             1950         150                1               1       ultra  "
      ]
     },
     "execution_count": 15,
     "metadata": {},
     "output_type": "execute_result"
    }
   ],
   "source": [
    "tariffs"
   ]
  },
  {
   "cell_type": "code",
   "execution_count": 16,
   "id": "adcca6a0",
   "metadata": {},
   "outputs": [
    {
     "name": "stdout",
     "output_type": "stream",
     "text": [
      "<class 'pandas.core.frame.DataFrame'>\n",
      "RangeIndex: 2 entries, 0 to 1\n",
      "Data columns (total 8 columns):\n",
      " #   Column                 Non-Null Count  Dtype \n",
      "---  ------                 --------------  ----- \n",
      " 0   messages_included      2 non-null      int64 \n",
      " 1   mb_per_month_included  2 non-null      int64 \n",
      " 2   minutes_included       2 non-null      int64 \n",
      " 3   rub_monthly_fee        2 non-null      int64 \n",
      " 4   rub_per_gb             2 non-null      int64 \n",
      " 5   rub_per_message        2 non-null      int64 \n",
      " 6   rub_per_minute         2 non-null      int64 \n",
      " 7   tariff_name            2 non-null      object\n",
      "dtypes: int64(7), object(1)\n",
      "memory usage: 256.0+ bytes\n"
     ]
    }
   ],
   "source": [
    "tariffs.info()"
   ]
  },
  {
   "cell_type": "markdown",
   "id": "eb11090d",
   "metadata": {},
   "source": [
    "- A dictionary table of two rows. There is nothing wrong with the data presented."
   ]
  },
  {
   "cell_type": "markdown",
   "id": "08b7ccaa",
   "metadata": {},
   "source": [
    "**Conclusion:**\n",
    "\n",
    "There are five files with tables in the project:\n",
    "\n",
    "1. users - information about users\n",
    "2. calls - information about calls\n",
    "3. messages - information about messages\n",
    "4. internet - information about internet sessions\n",
    "5. tariffs - information about tariffs\n",
    "\n",
    "- Each table has certain columns, which data type should be redefined. \n",
    "\n",
    "- The `users` table has missing values in the `churn_date` column, but this is not an error, it is an indicator of a contract in force at the time of data upload.\n",
    "\n",
    "- The table `internet` has an uninformative column `Unnamed: 0`, which should be removed.\n",
    "\n",
    "- There are no explicit duplicates in all tables.\n",
    "\n",
    "**<u>The overall view of the data is very positive - everything is neat and without major problems.<u/>**"
   ]
  },
  {
   "cell_type": "markdown",
   "id": "de7f665d",
   "metadata": {},
   "source": [
    "## Data preparation"
   ]
  },
  {
   "cell_type": "markdown",
   "id": "9f7ec725",
   "metadata": {},
   "source": [
    "### Redefining data types"
   ]
  },
  {
   "cell_type": "markdown",
   "id": "a9248052",
   "metadata": {},
   "source": [
    "In each of the tables, redefine the data type of the columns to the type we expect based on the business logic of the data presented in the column."
   ]
  },
  {
   "cell_type": "code",
   "execution_count": 17,
   "id": "39aaa85c",
   "metadata": {},
   "outputs": [],
   "source": [
    "# table users\n",
    "users['user_id'] = users['user_id'].astype(str)\n",
    "users['churn_date'] = pd.to_datetime(users['churn_date'], format='%Y-%m-%d')\n",
    "users['reg_date'] = pd.to_datetime(users['reg_date'], format='%Y-%m-%d')\n",
    "\n",
    "# table calls\n",
    "calls['user_id'] = calls['user_id'].astype(str)\n",
    "calls['call_date'] = pd.to_datetime(calls['call_date'], format='%Y-%m-%d')\n",
    "\n",
    "# table messages\n",
    "messages['user_id'] = messages['user_id'].astype(str)\n",
    "messages['message_date'] = pd.to_datetime(messages['message_date'], format='%Y-%m-%d')\n",
    "\n",
    "# table internet\n",
    "internet['user_id'] = internet['user_id'].astype(str)\n",
    "internet['session_date'] = pd.to_datetime(internet['session_date'], format='%Y-%m-%d')"
   ]
  },
  {
   "cell_type": "markdown",
   "id": "0269ac48",
   "metadata": {},
   "source": [
    "### Correcting data errors"
   ]
  },
  {
   "cell_type": "markdown",
   "id": "06758b37",
   "metadata": {},
   "source": [
    "Will analyse the data in all the tables one by one for data adequacy, outliers or anomalous values."
   ]
  },
  {
   "cell_type": "markdown",
   "id": "575767ab",
   "metadata": {},
   "source": [
    "**table `users`**"
   ]
  },
  {
   "cell_type": "code",
   "execution_count": 18,
   "id": "e2e5a6df",
   "metadata": {},
   "outputs": [
    {
     "data": {
      "text/html": [
       "<div>\n",
       "<style scoped>\n",
       "    .dataframe tbody tr th:only-of-type {\n",
       "        vertical-align: middle;\n",
       "    }\n",
       "\n",
       "    .dataframe tbody tr th {\n",
       "        vertical-align: top;\n",
       "    }\n",
       "\n",
       "    .dataframe thead th {\n",
       "        text-align: right;\n",
       "    }\n",
       "</style>\n",
       "<table border=\"1\" class=\"dataframe\">\n",
       "  <thead>\n",
       "    <tr style=\"text-align: right;\">\n",
       "      <th></th>\n",
       "      <th>user_id</th>\n",
       "      <th>age</th>\n",
       "      <th>churn_date</th>\n",
       "      <th>city</th>\n",
       "      <th>first_name</th>\n",
       "      <th>last_name</th>\n",
       "      <th>reg_date</th>\n",
       "      <th>tariff</th>\n",
       "    </tr>\n",
       "  </thead>\n",
       "  <tbody>\n",
       "    <tr>\n",
       "      <th>count</th>\n",
       "      <td>500</td>\n",
       "      <td>500.00000</td>\n",
       "      <td>38</td>\n",
       "      <td>500</td>\n",
       "      <td>500</td>\n",
       "      <td>500</td>\n",
       "      <td>500</td>\n",
       "      <td>500</td>\n",
       "    </tr>\n",
       "    <tr>\n",
       "      <th>unique</th>\n",
       "      <td>500</td>\n",
       "      <td>NaN</td>\n",
       "      <td>33</td>\n",
       "      <td>76</td>\n",
       "      <td>246</td>\n",
       "      <td>419</td>\n",
       "      <td>270</td>\n",
       "      <td>2</td>\n",
       "    </tr>\n",
       "    <tr>\n",
       "      <th>top</th>\n",
       "      <td>1069</td>\n",
       "      <td>NaN</td>\n",
       "      <td>2018-10-03 00:00:00</td>\n",
       "      <td>Москва</td>\n",
       "      <td>Радим</td>\n",
       "      <td>Андреенко</td>\n",
       "      <td>2018-05-28 00:00:00</td>\n",
       "      <td>smart</td>\n",
       "    </tr>\n",
       "    <tr>\n",
       "      <th>freq</th>\n",
       "      <td>1</td>\n",
       "      <td>NaN</td>\n",
       "      <td>2</td>\n",
       "      <td>99</td>\n",
       "      <td>6</td>\n",
       "      <td>5</td>\n",
       "      <td>8</td>\n",
       "      <td>351</td>\n",
       "    </tr>\n",
       "    <tr>\n",
       "      <th>first</th>\n",
       "      <td>NaN</td>\n",
       "      <td>NaN</td>\n",
       "      <td>2018-08-17 00:00:00</td>\n",
       "      <td>NaN</td>\n",
       "      <td>NaN</td>\n",
       "      <td>NaN</td>\n",
       "      <td>2018-01-01 00:00:00</td>\n",
       "      <td>NaN</td>\n",
       "    </tr>\n",
       "    <tr>\n",
       "      <th>last</th>\n",
       "      <td>NaN</td>\n",
       "      <td>NaN</td>\n",
       "      <td>2018-12-30 00:00:00</td>\n",
       "      <td>NaN</td>\n",
       "      <td>NaN</td>\n",
       "      <td>NaN</td>\n",
       "      <td>2018-12-31 00:00:00</td>\n",
       "      <td>NaN</td>\n",
       "    </tr>\n",
       "    <tr>\n",
       "      <th>mean</th>\n",
       "      <td>NaN</td>\n",
       "      <td>46.58800</td>\n",
       "      <td>NaN</td>\n",
       "      <td>NaN</td>\n",
       "      <td>NaN</td>\n",
       "      <td>NaN</td>\n",
       "      <td>NaN</td>\n",
       "      <td>NaN</td>\n",
       "    </tr>\n",
       "    <tr>\n",
       "      <th>std</th>\n",
       "      <td>NaN</td>\n",
       "      <td>16.66763</td>\n",
       "      <td>NaN</td>\n",
       "      <td>NaN</td>\n",
       "      <td>NaN</td>\n",
       "      <td>NaN</td>\n",
       "      <td>NaN</td>\n",
       "      <td>NaN</td>\n",
       "    </tr>\n",
       "    <tr>\n",
       "      <th>min</th>\n",
       "      <td>NaN</td>\n",
       "      <td>18.00000</td>\n",
       "      <td>NaN</td>\n",
       "      <td>NaN</td>\n",
       "      <td>NaN</td>\n",
       "      <td>NaN</td>\n",
       "      <td>NaN</td>\n",
       "      <td>NaN</td>\n",
       "    </tr>\n",
       "    <tr>\n",
       "      <th>25%</th>\n",
       "      <td>NaN</td>\n",
       "      <td>32.00000</td>\n",
       "      <td>NaN</td>\n",
       "      <td>NaN</td>\n",
       "      <td>NaN</td>\n",
       "      <td>NaN</td>\n",
       "      <td>NaN</td>\n",
       "      <td>NaN</td>\n",
       "    </tr>\n",
       "    <tr>\n",
       "      <th>50%</th>\n",
       "      <td>NaN</td>\n",
       "      <td>46.00000</td>\n",
       "      <td>NaN</td>\n",
       "      <td>NaN</td>\n",
       "      <td>NaN</td>\n",
       "      <td>NaN</td>\n",
       "      <td>NaN</td>\n",
       "      <td>NaN</td>\n",
       "    </tr>\n",
       "    <tr>\n",
       "      <th>75%</th>\n",
       "      <td>NaN</td>\n",
       "      <td>62.00000</td>\n",
       "      <td>NaN</td>\n",
       "      <td>NaN</td>\n",
       "      <td>NaN</td>\n",
       "      <td>NaN</td>\n",
       "      <td>NaN</td>\n",
       "      <td>NaN</td>\n",
       "    </tr>\n",
       "    <tr>\n",
       "      <th>max</th>\n",
       "      <td>NaN</td>\n",
       "      <td>75.00000</td>\n",
       "      <td>NaN</td>\n",
       "      <td>NaN</td>\n",
       "      <td>NaN</td>\n",
       "      <td>NaN</td>\n",
       "      <td>NaN</td>\n",
       "      <td>NaN</td>\n",
       "    </tr>\n",
       "  </tbody>\n",
       "</table>\n",
       "</div>"
      ],
      "text/plain": [
       "       user_id        age           churn_date    city first_name  last_name  \\\n",
       "count      500  500.00000                   38     500        500        500   \n",
       "unique     500        NaN                   33      76        246        419   \n",
       "top       1069        NaN  2018-10-03 00:00:00  Москва      Радим  Андреенко   \n",
       "freq         1        NaN                    2      99          6          5   \n",
       "first      NaN        NaN  2018-08-17 00:00:00     NaN        NaN        NaN   \n",
       "last       NaN        NaN  2018-12-30 00:00:00     NaN        NaN        NaN   \n",
       "mean       NaN   46.58800                  NaN     NaN        NaN        NaN   \n",
       "std        NaN   16.66763                  NaN     NaN        NaN        NaN   \n",
       "min        NaN   18.00000                  NaN     NaN        NaN        NaN   \n",
       "25%        NaN   32.00000                  NaN     NaN        NaN        NaN   \n",
       "50%        NaN   46.00000                  NaN     NaN        NaN        NaN   \n",
       "75%        NaN   62.00000                  NaN     NaN        NaN        NaN   \n",
       "max        NaN   75.00000                  NaN     NaN        NaN        NaN   \n",
       "\n",
       "                   reg_date tariff  \n",
       "count                   500    500  \n",
       "unique                  270      2  \n",
       "top     2018-05-28 00:00:00  smart  \n",
       "freq                      8    351  \n",
       "first   2018-01-01 00:00:00    NaN  \n",
       "last    2018-12-31 00:00:00    NaN  \n",
       "mean                    NaN    NaN  \n",
       "std                     NaN    NaN  \n",
       "min                     NaN    NaN  \n",
       "25%                     NaN    NaN  \n",
       "50%                     NaN    NaN  \n",
       "75%                     NaN    NaN  \n",
       "max                     NaN    NaN  "
      ]
     },
     "execution_count": 18,
     "metadata": {},
     "output_type": "execute_result"
    }
   ],
   "source": [
    "users.describe(include='all')"
   ]
  },
  {
   "cell_type": "markdown",
   "id": "55cd9d65",
   "metadata": {},
   "source": [
    "In the `users` table, everything looks quite realistic. The age distribution is quite adequate: both the minimum and maximum ages are within the expected values. The number of missing values in `churn_date` indicates a valid contract and is not an error. There are 76 cities in the database, with Moscow being the most common, which is also expected. \n",
    "There are no corrections in this table."
   ]
  },
  {
   "cell_type": "markdown",
   "id": "c633104d",
   "metadata": {},
   "source": [
    "**table `calls`**"
   ]
  },
  {
   "cell_type": "code",
   "execution_count": 19,
   "id": "be4378ac",
   "metadata": {},
   "outputs": [
    {
     "data": {
      "text/html": [
       "<div>\n",
       "<style scoped>\n",
       "    .dataframe tbody tr th:only-of-type {\n",
       "        vertical-align: middle;\n",
       "    }\n",
       "\n",
       "    .dataframe tbody tr th {\n",
       "        vertical-align: top;\n",
       "    }\n",
       "\n",
       "    .dataframe thead th {\n",
       "        text-align: right;\n",
       "    }\n",
       "</style>\n",
       "<table border=\"1\" class=\"dataframe\">\n",
       "  <thead>\n",
       "    <tr style=\"text-align: right;\">\n",
       "      <th></th>\n",
       "      <th>id</th>\n",
       "      <th>call_date</th>\n",
       "      <th>duration</th>\n",
       "      <th>user_id</th>\n",
       "    </tr>\n",
       "  </thead>\n",
       "  <tbody>\n",
       "    <tr>\n",
       "      <th>count</th>\n",
       "      <td>202607</td>\n",
       "      <td>202607</td>\n",
       "      <td>202607.000000</td>\n",
       "      <td>202607</td>\n",
       "    </tr>\n",
       "    <tr>\n",
       "      <th>unique</th>\n",
       "      <td>202607</td>\n",
       "      <td>365</td>\n",
       "      <td>NaN</td>\n",
       "      <td>492</td>\n",
       "    </tr>\n",
       "    <tr>\n",
       "      <th>top</th>\n",
       "      <td>1496_486</td>\n",
       "      <td>2018-12-31 00:00:00</td>\n",
       "      <td>NaN</td>\n",
       "      <td>1377</td>\n",
       "    </tr>\n",
       "    <tr>\n",
       "      <th>freq</th>\n",
       "      <td>1</td>\n",
       "      <td>1435</td>\n",
       "      <td>NaN</td>\n",
       "      <td>1760</td>\n",
       "    </tr>\n",
       "    <tr>\n",
       "      <th>first</th>\n",
       "      <td>NaN</td>\n",
       "      <td>2018-01-01 00:00:00</td>\n",
       "      <td>NaN</td>\n",
       "      <td>NaN</td>\n",
       "    </tr>\n",
       "    <tr>\n",
       "      <th>last</th>\n",
       "      <td>NaN</td>\n",
       "      <td>2018-12-31 00:00:00</td>\n",
       "      <td>NaN</td>\n",
       "      <td>NaN</td>\n",
       "    </tr>\n",
       "    <tr>\n",
       "      <th>mean</th>\n",
       "      <td>NaN</td>\n",
       "      <td>NaN</td>\n",
       "      <td>6.755887</td>\n",
       "      <td>NaN</td>\n",
       "    </tr>\n",
       "    <tr>\n",
       "      <th>std</th>\n",
       "      <td>NaN</td>\n",
       "      <td>NaN</td>\n",
       "      <td>5.843365</td>\n",
       "      <td>NaN</td>\n",
       "    </tr>\n",
       "    <tr>\n",
       "      <th>min</th>\n",
       "      <td>NaN</td>\n",
       "      <td>NaN</td>\n",
       "      <td>0.000000</td>\n",
       "      <td>NaN</td>\n",
       "    </tr>\n",
       "    <tr>\n",
       "      <th>25%</th>\n",
       "      <td>NaN</td>\n",
       "      <td>NaN</td>\n",
       "      <td>1.300000</td>\n",
       "      <td>NaN</td>\n",
       "    </tr>\n",
       "    <tr>\n",
       "      <th>50%</th>\n",
       "      <td>NaN</td>\n",
       "      <td>NaN</td>\n",
       "      <td>6.000000</td>\n",
       "      <td>NaN</td>\n",
       "    </tr>\n",
       "    <tr>\n",
       "      <th>75%</th>\n",
       "      <td>NaN</td>\n",
       "      <td>NaN</td>\n",
       "      <td>10.700000</td>\n",
       "      <td>NaN</td>\n",
       "    </tr>\n",
       "    <tr>\n",
       "      <th>max</th>\n",
       "      <td>NaN</td>\n",
       "      <td>NaN</td>\n",
       "      <td>38.000000</td>\n",
       "      <td>NaN</td>\n",
       "    </tr>\n",
       "  </tbody>\n",
       "</table>\n",
       "</div>"
      ],
      "text/plain": [
       "              id            call_date       duration user_id\n",
       "count     202607               202607  202607.000000  202607\n",
       "unique    202607                  365            NaN     492\n",
       "top     1496_486  2018-12-31 00:00:00            NaN    1377\n",
       "freq           1                 1435            NaN    1760\n",
       "first        NaN  2018-01-01 00:00:00            NaN     NaN\n",
       "last         NaN  2018-12-31 00:00:00            NaN     NaN\n",
       "mean         NaN                  NaN       6.755887     NaN\n",
       "std          NaN                  NaN       5.843365     NaN\n",
       "min          NaN                  NaN       0.000000     NaN\n",
       "25%          NaN                  NaN       1.300000     NaN\n",
       "50%          NaN                  NaN       6.000000     NaN\n",
       "75%          NaN                  NaN      10.700000     NaN\n",
       "max          NaN                  NaN      38.000000     NaN"
      ]
     },
     "execution_count": 19,
     "metadata": {},
     "output_type": "execute_result"
    }
   ],
   "source": [
    "calls.describe(include='all')"
   ]
  },
  {
   "cell_type": "markdown",
   "id": "6f101631",
   "metadata": {},
   "source": [
    "All `id` calls are unique, which is to be expected. The number of unique days is 365, respectively for each day of the year from 01.01.2018 to 31.12.2018 is also correct. The distribution of call duration is also expected. The average call is 6.75 minutes, the median is 6 minutes, and the maximum is 38 minutes. The presence of zero calls by duration also fits into the business logic, as these are, according to the operator's terms, recorded missed calls.\n",
    "\n",
    "Column `id` will be renamed to `call_id`, for a more correct and unambiguous understanding of the information presented in it.\n",
    "\n",
    "Duration of calls in this table is represented by float values. However, under the terms of tariffs, when calculating minutes, call duration values must be rounded upwards. For further investigation, will round up the values of the `duration` column. "
   ]
  },
  {
   "cell_type": "code",
   "execution_count": 20,
   "id": "5dd2d47d",
   "metadata": {},
   "outputs": [],
   "source": [
    "calls = calls.rename(columns={'id':'call_id'}) # renaming column id\n",
    "\n",
    "calls.duration = np.ceil(calls.duration) # rounding the call duration values upwards"
   ]
  },
  {
   "cell_type": "markdown",
   "id": "836b877a",
   "metadata": {},
   "source": [
    "**table `messages`**"
   ]
  },
  {
   "cell_type": "code",
   "execution_count": 21,
   "id": "e6c6344e",
   "metadata": {},
   "outputs": [
    {
     "data": {
      "text/html": [
       "<div>\n",
       "<style scoped>\n",
       "    .dataframe tbody tr th:only-of-type {\n",
       "        vertical-align: middle;\n",
       "    }\n",
       "\n",
       "    .dataframe tbody tr th {\n",
       "        vertical-align: top;\n",
       "    }\n",
       "\n",
       "    .dataframe thead th {\n",
       "        text-align: right;\n",
       "    }\n",
       "</style>\n",
       "<table border=\"1\" class=\"dataframe\">\n",
       "  <thead>\n",
       "    <tr style=\"text-align: right;\">\n",
       "      <th></th>\n",
       "      <th>id</th>\n",
       "      <th>message_date</th>\n",
       "      <th>user_id</th>\n",
       "    </tr>\n",
       "  </thead>\n",
       "  <tbody>\n",
       "    <tr>\n",
       "      <th>count</th>\n",
       "      <td>123036</td>\n",
       "      <td>123036</td>\n",
       "      <td>123036</td>\n",
       "    </tr>\n",
       "    <tr>\n",
       "      <th>unique</th>\n",
       "      <td>123036</td>\n",
       "      <td>364</td>\n",
       "      <td>426</td>\n",
       "    </tr>\n",
       "    <tr>\n",
       "      <th>top</th>\n",
       "      <td>1168_463</td>\n",
       "      <td>2018-12-31 00:00:00</td>\n",
       "      <td>1277</td>\n",
       "    </tr>\n",
       "    <tr>\n",
       "      <th>freq</th>\n",
       "      <td>1</td>\n",
       "      <td>859</td>\n",
       "      <td>1463</td>\n",
       "    </tr>\n",
       "    <tr>\n",
       "      <th>first</th>\n",
       "      <td>NaN</td>\n",
       "      <td>2018-01-02 00:00:00</td>\n",
       "      <td>NaN</td>\n",
       "    </tr>\n",
       "    <tr>\n",
       "      <th>last</th>\n",
       "      <td>NaN</td>\n",
       "      <td>2018-12-31 00:00:00</td>\n",
       "      <td>NaN</td>\n",
       "    </tr>\n",
       "  </tbody>\n",
       "</table>\n",
       "</div>"
      ],
      "text/plain": [
       "              id         message_date user_id\n",
       "count     123036               123036  123036\n",
       "unique    123036                  364     426\n",
       "top     1168_463  2018-12-31 00:00:00    1277\n",
       "freq           1                  859    1463\n",
       "first        NaN  2018-01-02 00:00:00     NaN\n",
       "last         NaN  2018-12-31 00:00:00     NaN"
      ]
     },
     "execution_count": 21,
     "metadata": {},
     "output_type": "execute_result"
    }
   ],
   "source": [
    "messages.describe(include='all')"
   ]
  },
  {
   "cell_type": "markdown",
   "id": "5bf416b2",
   "metadata": {},
   "source": [
    "In the `messages` table, everything is also within the reasonable and expected limits. \n",
    "\n",
    "The `id` column will be renamed to `message_id`, for a more correct and unambiguous understanding of the information presented in it.\n",
    "\n",
    "There are no other corrections to this table."
   ]
  },
  {
   "cell_type": "code",
   "execution_count": 22,
   "id": "0177c33f",
   "metadata": {},
   "outputs": [],
   "source": [
    "messages = messages.rename(columns={'id':'message_id'}) # renaming column id"
   ]
  },
  {
   "cell_type": "markdown",
   "id": "c65deb38",
   "metadata": {},
   "source": [
    "**table `internet`**"
   ]
  },
  {
   "cell_type": "code",
   "execution_count": 23,
   "id": "6dc3f875",
   "metadata": {},
   "outputs": [
    {
     "data": {
      "text/html": [
       "<div>\n",
       "<style scoped>\n",
       "    .dataframe tbody tr th:only-of-type {\n",
       "        vertical-align: middle;\n",
       "    }\n",
       "\n",
       "    .dataframe tbody tr th {\n",
       "        vertical-align: top;\n",
       "    }\n",
       "\n",
       "    .dataframe thead th {\n",
       "        text-align: right;\n",
       "    }\n",
       "</style>\n",
       "<table border=\"1\" class=\"dataframe\">\n",
       "  <thead>\n",
       "    <tr style=\"text-align: right;\">\n",
       "      <th></th>\n",
       "      <th>Unnamed: 0</th>\n",
       "      <th>id</th>\n",
       "      <th>mb_used</th>\n",
       "      <th>session_date</th>\n",
       "      <th>user_id</th>\n",
       "    </tr>\n",
       "  </thead>\n",
       "  <tbody>\n",
       "    <tr>\n",
       "      <th>count</th>\n",
       "      <td>149396.000000</td>\n",
       "      <td>149396</td>\n",
       "      <td>149396.000000</td>\n",
       "      <td>149396</td>\n",
       "      <td>149396</td>\n",
       "    </tr>\n",
       "    <tr>\n",
       "      <th>unique</th>\n",
       "      <td>NaN</td>\n",
       "      <td>149396</td>\n",
       "      <td>NaN</td>\n",
       "      <td>365</td>\n",
       "      <td>497</td>\n",
       "    </tr>\n",
       "    <tr>\n",
       "      <th>top</th>\n",
       "      <td>NaN</td>\n",
       "      <td>1114_40</td>\n",
       "      <td>NaN</td>\n",
       "      <td>2018-12-31 00:00:00</td>\n",
       "      <td>1496</td>\n",
       "    </tr>\n",
       "    <tr>\n",
       "      <th>freq</th>\n",
       "      <td>NaN</td>\n",
       "      <td>1</td>\n",
       "      <td>NaN</td>\n",
       "      <td>1057</td>\n",
       "      <td>834</td>\n",
       "    </tr>\n",
       "    <tr>\n",
       "      <th>first</th>\n",
       "      <td>NaN</td>\n",
       "      <td>NaN</td>\n",
       "      <td>NaN</td>\n",
       "      <td>2018-01-01 00:00:00</td>\n",
       "      <td>NaN</td>\n",
       "    </tr>\n",
       "    <tr>\n",
       "      <th>last</th>\n",
       "      <td>NaN</td>\n",
       "      <td>NaN</td>\n",
       "      <td>NaN</td>\n",
       "      <td>2018-12-31 00:00:00</td>\n",
       "      <td>NaN</td>\n",
       "    </tr>\n",
       "    <tr>\n",
       "      <th>mean</th>\n",
       "      <td>74697.500000</td>\n",
       "      <td>NaN</td>\n",
       "      <td>370.192426</td>\n",
       "      <td>NaN</td>\n",
       "      <td>NaN</td>\n",
       "    </tr>\n",
       "    <tr>\n",
       "      <th>std</th>\n",
       "      <td>43127.054745</td>\n",
       "      <td>NaN</td>\n",
       "      <td>278.300951</td>\n",
       "      <td>NaN</td>\n",
       "      <td>NaN</td>\n",
       "    </tr>\n",
       "    <tr>\n",
       "      <th>min</th>\n",
       "      <td>0.000000</td>\n",
       "      <td>NaN</td>\n",
       "      <td>0.000000</td>\n",
       "      <td>NaN</td>\n",
       "      <td>NaN</td>\n",
       "    </tr>\n",
       "    <tr>\n",
       "      <th>25%</th>\n",
       "      <td>37348.750000</td>\n",
       "      <td>NaN</td>\n",
       "      <td>138.187500</td>\n",
       "      <td>NaN</td>\n",
       "      <td>NaN</td>\n",
       "    </tr>\n",
       "    <tr>\n",
       "      <th>50%</th>\n",
       "      <td>74697.500000</td>\n",
       "      <td>NaN</td>\n",
       "      <td>348.015000</td>\n",
       "      <td>NaN</td>\n",
       "      <td>NaN</td>\n",
       "    </tr>\n",
       "    <tr>\n",
       "      <th>75%</th>\n",
       "      <td>112046.250000</td>\n",
       "      <td>NaN</td>\n",
       "      <td>559.552500</td>\n",
       "      <td>NaN</td>\n",
       "      <td>NaN</td>\n",
       "    </tr>\n",
       "    <tr>\n",
       "      <th>max</th>\n",
       "      <td>149395.000000</td>\n",
       "      <td>NaN</td>\n",
       "      <td>1724.830000</td>\n",
       "      <td>NaN</td>\n",
       "      <td>NaN</td>\n",
       "    </tr>\n",
       "  </tbody>\n",
       "</table>\n",
       "</div>"
      ],
      "text/plain": [
       "           Unnamed: 0       id        mb_used         session_date user_id\n",
       "count   149396.000000   149396  149396.000000               149396  149396\n",
       "unique            NaN   149396            NaN                  365     497\n",
       "top               NaN  1114_40            NaN  2018-12-31 00:00:00    1496\n",
       "freq              NaN        1            NaN                 1057     834\n",
       "first             NaN      NaN            NaN  2018-01-01 00:00:00     NaN\n",
       "last              NaN      NaN            NaN  2018-12-31 00:00:00     NaN\n",
       "mean     74697.500000      NaN     370.192426                  NaN     NaN\n",
       "std      43127.054745      NaN     278.300951                  NaN     NaN\n",
       "min          0.000000      NaN       0.000000                  NaN     NaN\n",
       "25%      37348.750000      NaN     138.187500                  NaN     NaN\n",
       "50%      74697.500000      NaN     348.015000                  NaN     NaN\n",
       "75%     112046.250000      NaN     559.552500                  NaN     NaN\n",
       "max     149395.000000      NaN    1724.830000                  NaN     NaN"
      ]
     },
     "execution_count": 23,
     "metadata": {},
     "output_type": "execute_result"
    }
   ],
   "source": [
    "internet.describe(include='all')"
   ]
  },
  {
   "cell_type": "markdown",
   "id": "98105aed",
   "metadata": {},
   "source": [
    "In the table `internet`, as in the previous table also all values are adequate and expected. \n",
    "\n",
    "The only thing is that the table contains an uninformative column: `Unnamed: 0`, which we will remove. And also column `id` will be renamed in `session_id`, for a more correct and unambiguous understanding of the information presented in it.\n",
    "\n",
    "There are no other changes to the table."
   ]
  },
  {
   "cell_type": "code",
   "execution_count": 24,
   "id": "94b65247",
   "metadata": {},
   "outputs": [],
   "source": [
    "internet = internet.rename(columns={'id':'session_id'}) # renaming column id\n",
    "\n",
    "internet.drop('Unnamed: 0', axis=1, inplace=True) # removing uninformative column"
   ]
  },
  {
   "cell_type": "markdown",
   "id": "3e53ee04",
   "metadata": {},
   "source": [
    "### Counting indicators by user"
   ]
  },
  {
   "cell_type": "markdown",
   "id": "64137c61",
   "metadata": {},
   "source": [
    "###### - <u>calls made and minutes spent by month<u/>"
   ]
  },
  {
   "cell_type": "markdown",
   "id": "c860fb28",
   "metadata": {},
   "source": [
    "To calculate the figures for the month, let's add the `month` column to the `calls` table, reflecting the number of the month in which the calls were made. "
   ]
  },
  {
   "cell_type": "code",
   "execution_count": 25,
   "id": "0c84da9a",
   "metadata": {},
   "outputs": [],
   "source": [
    "calls['month'] = calls['call_date'].dt.month"
   ]
  },
  {
   "cell_type": "code",
   "execution_count": 26,
   "id": "345f9c3e",
   "metadata": {},
   "outputs": [
    {
     "data": {
      "text/html": [
       "<div>\n",
       "<style scoped>\n",
       "    .dataframe tbody tr th:only-of-type {\n",
       "        vertical-align: middle;\n",
       "    }\n",
       "\n",
       "    .dataframe tbody tr th {\n",
       "        vertical-align: top;\n",
       "    }\n",
       "\n",
       "    .dataframe thead th {\n",
       "        text-align: right;\n",
       "    }\n",
       "</style>\n",
       "<table border=\"1\" class=\"dataframe\">\n",
       "  <thead>\n",
       "    <tr style=\"text-align: right;\">\n",
       "      <th></th>\n",
       "      <th>call_id</th>\n",
       "      <th>call_date</th>\n",
       "      <th>duration</th>\n",
       "      <th>user_id</th>\n",
       "      <th>month</th>\n",
       "    </tr>\n",
       "  </thead>\n",
       "  <tbody>\n",
       "    <tr>\n",
       "      <th>0</th>\n",
       "      <td>1000_0</td>\n",
       "      <td>2018-07-25</td>\n",
       "      <td>0.0</td>\n",
       "      <td>1000</td>\n",
       "      <td>7</td>\n",
       "    </tr>\n",
       "    <tr>\n",
       "      <th>1</th>\n",
       "      <td>1000_1</td>\n",
       "      <td>2018-08-17</td>\n",
       "      <td>0.0</td>\n",
       "      <td>1000</td>\n",
       "      <td>8</td>\n",
       "    </tr>\n",
       "    <tr>\n",
       "      <th>2</th>\n",
       "      <td>1000_2</td>\n",
       "      <td>2018-06-11</td>\n",
       "      <td>3.0</td>\n",
       "      <td>1000</td>\n",
       "      <td>6</td>\n",
       "    </tr>\n",
       "    <tr>\n",
       "      <th>3</th>\n",
       "      <td>1000_3</td>\n",
       "      <td>2018-09-21</td>\n",
       "      <td>14.0</td>\n",
       "      <td>1000</td>\n",
       "      <td>9</td>\n",
       "    </tr>\n",
       "    <tr>\n",
       "      <th>4</th>\n",
       "      <td>1000_4</td>\n",
       "      <td>2018-12-15</td>\n",
       "      <td>6.0</td>\n",
       "      <td>1000</td>\n",
       "      <td>12</td>\n",
       "    </tr>\n",
       "    <tr>\n",
       "      <th>...</th>\n",
       "      <td>...</td>\n",
       "      <td>...</td>\n",
       "      <td>...</td>\n",
       "      <td>...</td>\n",
       "      <td>...</td>\n",
       "    </tr>\n",
       "    <tr>\n",
       "      <th>202602</th>\n",
       "      <td>1499_215</td>\n",
       "      <td>2018-12-26</td>\n",
       "      <td>1.0</td>\n",
       "      <td>1499</td>\n",
       "      <td>12</td>\n",
       "    </tr>\n",
       "    <tr>\n",
       "      <th>202603</th>\n",
       "      <td>1499_216</td>\n",
       "      <td>2018-10-18</td>\n",
       "      <td>19.0</td>\n",
       "      <td>1499</td>\n",
       "      <td>10</td>\n",
       "    </tr>\n",
       "    <tr>\n",
       "      <th>202604</th>\n",
       "      <td>1499_217</td>\n",
       "      <td>2018-11-10</td>\n",
       "      <td>11.0</td>\n",
       "      <td>1499</td>\n",
       "      <td>11</td>\n",
       "    </tr>\n",
       "    <tr>\n",
       "      <th>202605</th>\n",
       "      <td>1499_218</td>\n",
       "      <td>2018-10-06</td>\n",
       "      <td>5.0</td>\n",
       "      <td>1499</td>\n",
       "      <td>10</td>\n",
       "    </tr>\n",
       "    <tr>\n",
       "      <th>202606</th>\n",
       "      <td>1499_219</td>\n",
       "      <td>2018-12-14</td>\n",
       "      <td>20.0</td>\n",
       "      <td>1499</td>\n",
       "      <td>12</td>\n",
       "    </tr>\n",
       "  </tbody>\n",
       "</table>\n",
       "<p>202607 rows × 5 columns</p>\n",
       "</div>"
      ],
      "text/plain": [
       "         call_id  call_date  duration user_id  month\n",
       "0         1000_0 2018-07-25       0.0    1000      7\n",
       "1         1000_1 2018-08-17       0.0    1000      8\n",
       "2         1000_2 2018-06-11       3.0    1000      6\n",
       "3         1000_3 2018-09-21      14.0    1000      9\n",
       "4         1000_4 2018-12-15       6.0    1000     12\n",
       "...          ...        ...       ...     ...    ...\n",
       "202602  1499_215 2018-12-26       1.0    1499     12\n",
       "202603  1499_216 2018-10-18      19.0    1499     10\n",
       "202604  1499_217 2018-11-10      11.0    1499     11\n",
       "202605  1499_218 2018-10-06       5.0    1499     10\n",
       "202606  1499_219 2018-12-14      20.0    1499     12\n",
       "\n",
       "[202607 rows x 5 columns]"
      ]
     },
     "execution_count": 26,
     "metadata": {},
     "output_type": "execute_result"
    }
   ],
   "source": [
    "calls"
   ]
  },
  {
   "cell_type": "markdown",
   "id": "6b99c9f5",
   "metadata": {},
   "source": [
    "Will create a grouping table showing the total number of calls made and their total duration during each month, per user."
   ]
  },
  {
   "cell_type": "code",
   "execution_count": 28,
   "id": "10f22109",
   "metadata": {},
   "outputs": [
    {
     "data": {
      "text/html": [
       "<div>\n",
       "<style scoped>\n",
       "    .dataframe tbody tr th:only-of-type {\n",
       "        vertical-align: middle;\n",
       "    }\n",
       "\n",
       "    .dataframe tbody tr th {\n",
       "        vertical-align: top;\n",
       "    }\n",
       "\n",
       "    .dataframe thead th {\n",
       "        text-align: right;\n",
       "    }\n",
       "</style>\n",
       "<table border=\"1\" class=\"dataframe\">\n",
       "  <thead>\n",
       "    <tr style=\"text-align: right;\">\n",
       "      <th></th>\n",
       "      <th>user_id</th>\n",
       "      <th>month</th>\n",
       "      <th>total_calls</th>\n",
       "      <th>total_duration</th>\n",
       "    </tr>\n",
       "  </thead>\n",
       "  <tbody>\n",
       "    <tr>\n",
       "      <th>0</th>\n",
       "      <td>1000</td>\n",
       "      <td>5</td>\n",
       "      <td>22</td>\n",
       "      <td>159.0</td>\n",
       "    </tr>\n",
       "    <tr>\n",
       "      <th>1</th>\n",
       "      <td>1000</td>\n",
       "      <td>6</td>\n",
       "      <td>43</td>\n",
       "      <td>172.0</td>\n",
       "    </tr>\n",
       "    <tr>\n",
       "      <th>2</th>\n",
       "      <td>1000</td>\n",
       "      <td>7</td>\n",
       "      <td>47</td>\n",
       "      <td>340.0</td>\n",
       "    </tr>\n",
       "    <tr>\n",
       "      <th>3</th>\n",
       "      <td>1000</td>\n",
       "      <td>8</td>\n",
       "      <td>52</td>\n",
       "      <td>408.0</td>\n",
       "    </tr>\n",
       "    <tr>\n",
       "      <th>4</th>\n",
       "      <td>1000</td>\n",
       "      <td>9</td>\n",
       "      <td>58</td>\n",
       "      <td>466.0</td>\n",
       "    </tr>\n",
       "    <tr>\n",
       "      <th>...</th>\n",
       "      <td>...</td>\n",
       "      <td>...</td>\n",
       "      <td>...</td>\n",
       "      <td>...</td>\n",
       "    </tr>\n",
       "    <tr>\n",
       "      <th>3169</th>\n",
       "      <td>1498</td>\n",
       "      <td>10</td>\n",
       "      <td>41</td>\n",
       "      <td>247.0</td>\n",
       "    </tr>\n",
       "    <tr>\n",
       "      <th>3170</th>\n",
       "      <td>1499</td>\n",
       "      <td>9</td>\n",
       "      <td>9</td>\n",
       "      <td>70.0</td>\n",
       "    </tr>\n",
       "    <tr>\n",
       "      <th>3171</th>\n",
       "      <td>1499</td>\n",
       "      <td>10</td>\n",
       "      <td>68</td>\n",
       "      <td>449.0</td>\n",
       "    </tr>\n",
       "    <tr>\n",
       "      <th>3172</th>\n",
       "      <td>1499</td>\n",
       "      <td>11</td>\n",
       "      <td>74</td>\n",
       "      <td>612.0</td>\n",
       "    </tr>\n",
       "    <tr>\n",
       "      <th>3173</th>\n",
       "      <td>1499</td>\n",
       "      <td>12</td>\n",
       "      <td>69</td>\n",
       "      <td>492.0</td>\n",
       "    </tr>\n",
       "  </tbody>\n",
       "</table>\n",
       "<p>3174 rows × 4 columns</p>\n",
       "</div>"
      ],
      "text/plain": [
       "     user_id  month  total_calls  total_duration\n",
       "0       1000      5           22           159.0\n",
       "1       1000      6           43           172.0\n",
       "2       1000      7           47           340.0\n",
       "3       1000      8           52           408.0\n",
       "4       1000      9           58           466.0\n",
       "...      ...    ...          ...             ...\n",
       "3169    1498     10           41           247.0\n",
       "3170    1499      9            9            70.0\n",
       "3171    1499     10           68           449.0\n",
       "3172    1499     11           74           612.0\n",
       "3173    1499     12           69           492.0\n",
       "\n",
       "[3174 rows x 4 columns]"
      ]
     },
     "execution_count": 28,
     "metadata": {},
     "output_type": "execute_result"
    }
   ],
   "source": [
    "user_calls = calls.groupby(['user_id', 'month'])\\\n",
    ".agg({'call_id':'count', 'duration':'sum'})\\\n",
    ".reset_index()\\\n",
    ".rename(columns={'call_id':'total_calls', 'duration':'total_duration'})\n",
    "\n",
    "user_calls"
   ]
  },
  {
   "cell_type": "markdown",
   "id": "7c5a0324",
   "metadata": {},
   "source": [
    "###### - <u>number of messages sent by month<u/>"
   ]
  },
  {
   "cell_type": "markdown",
   "id": "599a64a3",
   "metadata": {},
   "source": [
    "To calculate the figures for the month, will add the `month` column to the `messages` table, reflecting the number of the month in which the messages were sent. "
   ]
  },
  {
   "cell_type": "code",
   "execution_count": 29,
   "id": "d1dcfb69",
   "metadata": {},
   "outputs": [],
   "source": [
    "messages['month'] = messages['message_date'].dt.month"
   ]
  },
  {
   "cell_type": "code",
   "execution_count": 30,
   "id": "d83cd029",
   "metadata": {},
   "outputs": [
    {
     "data": {
      "text/html": [
       "<div>\n",
       "<style scoped>\n",
       "    .dataframe tbody tr th:only-of-type {\n",
       "        vertical-align: middle;\n",
       "    }\n",
       "\n",
       "    .dataframe tbody tr th {\n",
       "        vertical-align: top;\n",
       "    }\n",
       "\n",
       "    .dataframe thead th {\n",
       "        text-align: right;\n",
       "    }\n",
       "</style>\n",
       "<table border=\"1\" class=\"dataframe\">\n",
       "  <thead>\n",
       "    <tr style=\"text-align: right;\">\n",
       "      <th></th>\n",
       "      <th>message_id</th>\n",
       "      <th>message_date</th>\n",
       "      <th>user_id</th>\n",
       "      <th>month</th>\n",
       "    </tr>\n",
       "  </thead>\n",
       "  <tbody>\n",
       "    <tr>\n",
       "      <th>0</th>\n",
       "      <td>1000_0</td>\n",
       "      <td>2018-06-27</td>\n",
       "      <td>1000</td>\n",
       "      <td>6</td>\n",
       "    </tr>\n",
       "    <tr>\n",
       "      <th>1</th>\n",
       "      <td>1000_1</td>\n",
       "      <td>2018-10-08</td>\n",
       "      <td>1000</td>\n",
       "      <td>10</td>\n",
       "    </tr>\n",
       "    <tr>\n",
       "      <th>2</th>\n",
       "      <td>1000_2</td>\n",
       "      <td>2018-08-04</td>\n",
       "      <td>1000</td>\n",
       "      <td>8</td>\n",
       "    </tr>\n",
       "    <tr>\n",
       "      <th>3</th>\n",
       "      <td>1000_3</td>\n",
       "      <td>2018-06-16</td>\n",
       "      <td>1000</td>\n",
       "      <td>6</td>\n",
       "    </tr>\n",
       "    <tr>\n",
       "      <th>4</th>\n",
       "      <td>1000_4</td>\n",
       "      <td>2018-12-05</td>\n",
       "      <td>1000</td>\n",
       "      <td>12</td>\n",
       "    </tr>\n",
       "    <tr>\n",
       "      <th>...</th>\n",
       "      <td>...</td>\n",
       "      <td>...</td>\n",
       "      <td>...</td>\n",
       "      <td>...</td>\n",
       "    </tr>\n",
       "    <tr>\n",
       "      <th>123031</th>\n",
       "      <td>1499_179</td>\n",
       "      <td>2018-12-12</td>\n",
       "      <td>1499</td>\n",
       "      <td>12</td>\n",
       "    </tr>\n",
       "    <tr>\n",
       "      <th>123032</th>\n",
       "      <td>1499_180</td>\n",
       "      <td>2018-09-28</td>\n",
       "      <td>1499</td>\n",
       "      <td>9</td>\n",
       "    </tr>\n",
       "    <tr>\n",
       "      <th>123033</th>\n",
       "      <td>1499_181</td>\n",
       "      <td>2018-09-27</td>\n",
       "      <td>1499</td>\n",
       "      <td>9</td>\n",
       "    </tr>\n",
       "    <tr>\n",
       "      <th>123034</th>\n",
       "      <td>1499_182</td>\n",
       "      <td>2018-11-15</td>\n",
       "      <td>1499</td>\n",
       "      <td>11</td>\n",
       "    </tr>\n",
       "    <tr>\n",
       "      <th>123035</th>\n",
       "      <td>1499_183</td>\n",
       "      <td>2018-11-16</td>\n",
       "      <td>1499</td>\n",
       "      <td>11</td>\n",
       "    </tr>\n",
       "  </tbody>\n",
       "</table>\n",
       "<p>123036 rows × 4 columns</p>\n",
       "</div>"
      ],
      "text/plain": [
       "       message_id message_date user_id  month\n",
       "0          1000_0   2018-06-27    1000      6\n",
       "1          1000_1   2018-10-08    1000     10\n",
       "2          1000_2   2018-08-04    1000      8\n",
       "3          1000_3   2018-06-16    1000      6\n",
       "4          1000_4   2018-12-05    1000     12\n",
       "...           ...          ...     ...    ...\n",
       "123031   1499_179   2018-12-12    1499     12\n",
       "123032   1499_180   2018-09-28    1499      9\n",
       "123033   1499_181   2018-09-27    1499      9\n",
       "123034   1499_182   2018-11-15    1499     11\n",
       "123035   1499_183   2018-11-16    1499     11\n",
       "\n",
       "[123036 rows x 4 columns]"
      ]
     },
     "execution_count": 30,
     "metadata": {},
     "output_type": "execute_result"
    }
   ],
   "source": [
    "messages"
   ]
  },
  {
   "cell_type": "markdown",
   "id": "bec8ae8b",
   "metadata": {},
   "source": [
    "Will create a grouping table showing the total number of messages sent during each month, broken down by each user."
   ]
  },
  {
   "cell_type": "code",
   "execution_count": 31,
   "id": "8e25eca7",
   "metadata": {},
   "outputs": [
    {
     "data": {
      "text/html": [
       "<div>\n",
       "<style scoped>\n",
       "    .dataframe tbody tr th:only-of-type {\n",
       "        vertical-align: middle;\n",
       "    }\n",
       "\n",
       "    .dataframe tbody tr th {\n",
       "        vertical-align: top;\n",
       "    }\n",
       "\n",
       "    .dataframe thead th {\n",
       "        text-align: right;\n",
       "    }\n",
       "</style>\n",
       "<table border=\"1\" class=\"dataframe\">\n",
       "  <thead>\n",
       "    <tr style=\"text-align: right;\">\n",
       "      <th></th>\n",
       "      <th>user_id</th>\n",
       "      <th>month</th>\n",
       "      <th>total_messages</th>\n",
       "    </tr>\n",
       "  </thead>\n",
       "  <tbody>\n",
       "    <tr>\n",
       "      <th>0</th>\n",
       "      <td>1000</td>\n",
       "      <td>5</td>\n",
       "      <td>22</td>\n",
       "    </tr>\n",
       "    <tr>\n",
       "      <th>1</th>\n",
       "      <td>1000</td>\n",
       "      <td>6</td>\n",
       "      <td>60</td>\n",
       "    </tr>\n",
       "    <tr>\n",
       "      <th>2</th>\n",
       "      <td>1000</td>\n",
       "      <td>7</td>\n",
       "      <td>75</td>\n",
       "    </tr>\n",
       "    <tr>\n",
       "      <th>3</th>\n",
       "      <td>1000</td>\n",
       "      <td>8</td>\n",
       "      <td>81</td>\n",
       "    </tr>\n",
       "    <tr>\n",
       "      <th>4</th>\n",
       "      <td>1000</td>\n",
       "      <td>9</td>\n",
       "      <td>57</td>\n",
       "    </tr>\n",
       "    <tr>\n",
       "      <th>...</th>\n",
       "      <td>...</td>\n",
       "      <td>...</td>\n",
       "      <td>...</td>\n",
       "    </tr>\n",
       "    <tr>\n",
       "      <th>2712</th>\n",
       "      <td>1498</td>\n",
       "      <td>10</td>\n",
       "      <td>42</td>\n",
       "    </tr>\n",
       "    <tr>\n",
       "      <th>2713</th>\n",
       "      <td>1499</td>\n",
       "      <td>9</td>\n",
       "      <td>11</td>\n",
       "    </tr>\n",
       "    <tr>\n",
       "      <th>2714</th>\n",
       "      <td>1499</td>\n",
       "      <td>10</td>\n",
       "      <td>48</td>\n",
       "    </tr>\n",
       "    <tr>\n",
       "      <th>2715</th>\n",
       "      <td>1499</td>\n",
       "      <td>11</td>\n",
       "      <td>59</td>\n",
       "    </tr>\n",
       "    <tr>\n",
       "      <th>2716</th>\n",
       "      <td>1499</td>\n",
       "      <td>12</td>\n",
       "      <td>66</td>\n",
       "    </tr>\n",
       "  </tbody>\n",
       "</table>\n",
       "<p>2717 rows × 3 columns</p>\n",
       "</div>"
      ],
      "text/plain": [
       "     user_id  month  total_messages\n",
       "0       1000      5              22\n",
       "1       1000      6              60\n",
       "2       1000      7              75\n",
       "3       1000      8              81\n",
       "4       1000      9              57\n",
       "...      ...    ...             ...\n",
       "2712    1498     10              42\n",
       "2713    1499      9              11\n",
       "2714    1499     10              48\n",
       "2715    1499     11              59\n",
       "2716    1499     12              66\n",
       "\n",
       "[2717 rows x 3 columns]"
      ]
     },
     "execution_count": 31,
     "metadata": {},
     "output_type": "execute_result"
    }
   ],
   "source": [
    "user_messages = messages.groupby(['user_id', 'month'])\\\n",
    ".agg({'message_id':'count'})\\\n",
    ".reset_index()\\\n",
    ".rename(columns={'message_id':'total_messages'})\n",
    "\n",
    "user_messages"
   ]
  },
  {
   "cell_type": "markdown",
   "id": "f704dd6c",
   "metadata": {},
   "source": [
    "###### - <u>volume of internet traffic consumed by month<u/>"
   ]
  },
  {
   "cell_type": "markdown",
   "id": "96d5e66e",
   "metadata": {},
   "source": [
    "To calculate the figures for the month, will add the `internet` column to the `month` column, reflecting the number of the month in which Internet traffic was used."
   ]
  },
  {
   "cell_type": "code",
   "execution_count": 32,
   "id": "3365f370",
   "metadata": {},
   "outputs": [],
   "source": [
    "internet['month'] = internet['session_date'].dt.month"
   ]
  },
  {
   "cell_type": "code",
   "execution_count": 33,
   "id": "179a70fc",
   "metadata": {},
   "outputs": [
    {
     "data": {
      "text/html": [
       "<div>\n",
       "<style scoped>\n",
       "    .dataframe tbody tr th:only-of-type {\n",
       "        vertical-align: middle;\n",
       "    }\n",
       "\n",
       "    .dataframe tbody tr th {\n",
       "        vertical-align: top;\n",
       "    }\n",
       "\n",
       "    .dataframe thead th {\n",
       "        text-align: right;\n",
       "    }\n",
       "</style>\n",
       "<table border=\"1\" class=\"dataframe\">\n",
       "  <thead>\n",
       "    <tr style=\"text-align: right;\">\n",
       "      <th></th>\n",
       "      <th>session_id</th>\n",
       "      <th>mb_used</th>\n",
       "      <th>session_date</th>\n",
       "      <th>user_id</th>\n",
       "      <th>month</th>\n",
       "    </tr>\n",
       "  </thead>\n",
       "  <tbody>\n",
       "    <tr>\n",
       "      <th>0</th>\n",
       "      <td>1000_0</td>\n",
       "      <td>112.95</td>\n",
       "      <td>2018-11-25</td>\n",
       "      <td>1000</td>\n",
       "      <td>11</td>\n",
       "    </tr>\n",
       "    <tr>\n",
       "      <th>1</th>\n",
       "      <td>1000_1</td>\n",
       "      <td>1052.81</td>\n",
       "      <td>2018-09-07</td>\n",
       "      <td>1000</td>\n",
       "      <td>9</td>\n",
       "    </tr>\n",
       "    <tr>\n",
       "      <th>2</th>\n",
       "      <td>1000_2</td>\n",
       "      <td>1197.26</td>\n",
       "      <td>2018-06-25</td>\n",
       "      <td>1000</td>\n",
       "      <td>6</td>\n",
       "    </tr>\n",
       "    <tr>\n",
       "      <th>3</th>\n",
       "      <td>1000_3</td>\n",
       "      <td>550.27</td>\n",
       "      <td>2018-08-22</td>\n",
       "      <td>1000</td>\n",
       "      <td>8</td>\n",
       "    </tr>\n",
       "    <tr>\n",
       "      <th>4</th>\n",
       "      <td>1000_4</td>\n",
       "      <td>302.56</td>\n",
       "      <td>2018-09-24</td>\n",
       "      <td>1000</td>\n",
       "      <td>9</td>\n",
       "    </tr>\n",
       "    <tr>\n",
       "      <th>...</th>\n",
       "      <td>...</td>\n",
       "      <td>...</td>\n",
       "      <td>...</td>\n",
       "      <td>...</td>\n",
       "      <td>...</td>\n",
       "    </tr>\n",
       "    <tr>\n",
       "      <th>149391</th>\n",
       "      <td>1499_152</td>\n",
       "      <td>318.90</td>\n",
       "      <td>2018-10-03</td>\n",
       "      <td>1499</td>\n",
       "      <td>10</td>\n",
       "    </tr>\n",
       "    <tr>\n",
       "      <th>149392</th>\n",
       "      <td>1499_153</td>\n",
       "      <td>490.13</td>\n",
       "      <td>2018-12-14</td>\n",
       "      <td>1499</td>\n",
       "      <td>12</td>\n",
       "    </tr>\n",
       "    <tr>\n",
       "      <th>149393</th>\n",
       "      <td>1499_154</td>\n",
       "      <td>0.00</td>\n",
       "      <td>2018-10-27</td>\n",
       "      <td>1499</td>\n",
       "      <td>10</td>\n",
       "    </tr>\n",
       "    <tr>\n",
       "      <th>149394</th>\n",
       "      <td>1499_155</td>\n",
       "      <td>1246.32</td>\n",
       "      <td>2018-11-26</td>\n",
       "      <td>1499</td>\n",
       "      <td>11</td>\n",
       "    </tr>\n",
       "    <tr>\n",
       "      <th>149395</th>\n",
       "      <td>1499_156</td>\n",
       "      <td>544.37</td>\n",
       "      <td>2018-10-26</td>\n",
       "      <td>1499</td>\n",
       "      <td>10</td>\n",
       "    </tr>\n",
       "  </tbody>\n",
       "</table>\n",
       "<p>149396 rows × 5 columns</p>\n",
       "</div>"
      ],
      "text/plain": [
       "       session_id  mb_used session_date user_id  month\n",
       "0          1000_0   112.95   2018-11-25    1000     11\n",
       "1          1000_1  1052.81   2018-09-07    1000      9\n",
       "2          1000_2  1197.26   2018-06-25    1000      6\n",
       "3          1000_3   550.27   2018-08-22    1000      8\n",
       "4          1000_4   302.56   2018-09-24    1000      9\n",
       "...           ...      ...          ...     ...    ...\n",
       "149391   1499_152   318.90   2018-10-03    1499     10\n",
       "149392   1499_153   490.13   2018-12-14    1499     12\n",
       "149393   1499_154     0.00   2018-10-27    1499     10\n",
       "149394   1499_155  1246.32   2018-11-26    1499     11\n",
       "149395   1499_156   544.37   2018-10-26    1499     10\n",
       "\n",
       "[149396 rows x 5 columns]"
      ]
     },
     "execution_count": 33,
     "metadata": {},
     "output_type": "execute_result"
    }
   ],
   "source": [
    "internet"
   ]
  },
  {
   "cell_type": "markdown",
   "id": "d1d75d0c",
   "metadata": {},
   "source": [
    "Will create a grouping table showing the total amount of internet traffic consumed during each month, broken down by each user."
   ]
  },
  {
   "cell_type": "code",
   "execution_count": 34,
   "id": "bb5322b5",
   "metadata": {},
   "outputs": [
    {
     "data": {
      "text/html": [
       "<div>\n",
       "<style scoped>\n",
       "    .dataframe tbody tr th:only-of-type {\n",
       "        vertical-align: middle;\n",
       "    }\n",
       "\n",
       "    .dataframe tbody tr th {\n",
       "        vertical-align: top;\n",
       "    }\n",
       "\n",
       "    .dataframe thead th {\n",
       "        text-align: right;\n",
       "    }\n",
       "</style>\n",
       "<table border=\"1\" class=\"dataframe\">\n",
       "  <thead>\n",
       "    <tr style=\"text-align: right;\">\n",
       "      <th></th>\n",
       "      <th>user_id</th>\n",
       "      <th>month</th>\n",
       "      <th>total_internet</th>\n",
       "    </tr>\n",
       "  </thead>\n",
       "  <tbody>\n",
       "    <tr>\n",
       "      <th>0</th>\n",
       "      <td>1000</td>\n",
       "      <td>5</td>\n",
       "      <td>2253.49</td>\n",
       "    </tr>\n",
       "    <tr>\n",
       "      <th>1</th>\n",
       "      <td>1000</td>\n",
       "      <td>6</td>\n",
       "      <td>23233.77</td>\n",
       "    </tr>\n",
       "    <tr>\n",
       "      <th>2</th>\n",
       "      <td>1000</td>\n",
       "      <td>7</td>\n",
       "      <td>14003.64</td>\n",
       "    </tr>\n",
       "    <tr>\n",
       "      <th>3</th>\n",
       "      <td>1000</td>\n",
       "      <td>8</td>\n",
       "      <td>14055.93</td>\n",
       "    </tr>\n",
       "    <tr>\n",
       "      <th>4</th>\n",
       "      <td>1000</td>\n",
       "      <td>9</td>\n",
       "      <td>14568.91</td>\n",
       "    </tr>\n",
       "  </tbody>\n",
       "</table>\n",
       "</div>"
      ],
      "text/plain": [
       "  user_id  month  total_internet\n",
       "0    1000      5         2253.49\n",
       "1    1000      6        23233.77\n",
       "2    1000      7        14003.64\n",
       "3    1000      8        14055.93\n",
       "4    1000      9        14568.91"
      ]
     },
     "execution_count": 34,
     "metadata": {},
     "output_type": "execute_result"
    }
   ],
   "source": [
    "user_internet = internet.groupby(['user_id', 'month'])\\\n",
    ".agg({'mb_used':'sum'})\\\n",
    ".reset_index()\\\n",
    ".rename(columns={'mb_used':'total_internet'})\n",
    "\n",
    "user_internet.head()"
   ]
  },
  {
   "cell_type": "markdown",
   "id": "69eeb2ed",
   "metadata": {},
   "source": [
    "Since under the terms of the mobile operator's contract, the amount of Internet traffic consumed during the month must be rounded upwards, it is necessary to bring the values in the `total_internet` column in line with the operator's terms of service. Also, Internet traffic consumption is calculated in Gigabytes, so will convert the values to Gigabytes and then round them up. "
   ]
  },
  {
   "cell_type": "code",
   "execution_count": 35,
   "id": "a80559a6",
   "metadata": {},
   "outputs": [
    {
     "data": {
      "text/html": [
       "<div>\n",
       "<style scoped>\n",
       "    .dataframe tbody tr th:only-of-type {\n",
       "        vertical-align: middle;\n",
       "    }\n",
       "\n",
       "    .dataframe tbody tr th {\n",
       "        vertical-align: top;\n",
       "    }\n",
       "\n",
       "    .dataframe thead th {\n",
       "        text-align: right;\n",
       "    }\n",
       "</style>\n",
       "<table border=\"1\" class=\"dataframe\">\n",
       "  <thead>\n",
       "    <tr style=\"text-align: right;\">\n",
       "      <th></th>\n",
       "      <th>user_id</th>\n",
       "      <th>month</th>\n",
       "      <th>total_internet</th>\n",
       "    </tr>\n",
       "  </thead>\n",
       "  <tbody>\n",
       "    <tr>\n",
       "      <th>0</th>\n",
       "      <td>1000</td>\n",
       "      <td>5</td>\n",
       "      <td>3.0</td>\n",
       "    </tr>\n",
       "    <tr>\n",
       "      <th>1</th>\n",
       "      <td>1000</td>\n",
       "      <td>6</td>\n",
       "      <td>23.0</td>\n",
       "    </tr>\n",
       "    <tr>\n",
       "      <th>2</th>\n",
       "      <td>1000</td>\n",
       "      <td>7</td>\n",
       "      <td>14.0</td>\n",
       "    </tr>\n",
       "    <tr>\n",
       "      <th>3</th>\n",
       "      <td>1000</td>\n",
       "      <td>8</td>\n",
       "      <td>14.0</td>\n",
       "    </tr>\n",
       "    <tr>\n",
       "      <th>4</th>\n",
       "      <td>1000</td>\n",
       "      <td>9</td>\n",
       "      <td>15.0</td>\n",
       "    </tr>\n",
       "    <tr>\n",
       "      <th>...</th>\n",
       "      <td>...</td>\n",
       "      <td>...</td>\n",
       "      <td>...</td>\n",
       "    </tr>\n",
       "    <tr>\n",
       "      <th>3198</th>\n",
       "      <td>1498</td>\n",
       "      <td>10</td>\n",
       "      <td>21.0</td>\n",
       "    </tr>\n",
       "    <tr>\n",
       "      <th>3199</th>\n",
       "      <td>1499</td>\n",
       "      <td>9</td>\n",
       "      <td>2.0</td>\n",
       "    </tr>\n",
       "    <tr>\n",
       "      <th>3200</th>\n",
       "      <td>1499</td>\n",
       "      <td>10</td>\n",
       "      <td>18.0</td>\n",
       "    </tr>\n",
       "    <tr>\n",
       "      <th>3201</th>\n",
       "      <td>1499</td>\n",
       "      <td>11</td>\n",
       "      <td>18.0</td>\n",
       "    </tr>\n",
       "    <tr>\n",
       "      <th>3202</th>\n",
       "      <td>1499</td>\n",
       "      <td>12</td>\n",
       "      <td>13.0</td>\n",
       "    </tr>\n",
       "  </tbody>\n",
       "</table>\n",
       "<p>3203 rows × 3 columns</p>\n",
       "</div>"
      ],
      "text/plain": [
       "     user_id  month  total_internet\n",
       "0       1000      5             3.0\n",
       "1       1000      6            23.0\n",
       "2       1000      7            14.0\n",
       "3       1000      8            14.0\n",
       "4       1000      9            15.0\n",
       "...      ...    ...             ...\n",
       "3198    1498     10            21.0\n",
       "3199    1499      9             2.0\n",
       "3200    1499     10            18.0\n",
       "3201    1499     11            18.0\n",
       "3202    1499     12            13.0\n",
       "\n",
       "[3203 rows x 3 columns]"
      ]
     },
     "execution_count": 35,
     "metadata": {},
     "output_type": "execute_result"
    }
   ],
   "source": [
    "user_internet.total_internet = np.ceil(user_internet.total_internet/1024)\n",
    "\n",
    "\n",
    "user_internet"
   ]
  },
  {
   "cell_type": "markdown",
   "id": "ecc889c5",
   "metadata": {},
   "source": [
    "###### - <u>Calculation of monthly revenue per user<u/>"
   ]
  },
  {
   "cell_type": "markdown",
   "id": "3b7c360c",
   "metadata": {},
   "source": [
    "In order to calculate the revenue for each user, we need information about the talk time, the number of messages and the amount of internet traffic used per month. In addition, we need data about the customer's data plan. All these data are in different tables, which need to be merged into one table for further calculations. "
   ]
  },
  {
   "cell_type": "code",
   "execution_count": 36,
   "id": "5741d7d5",
   "metadata": {
    "scrolled": true
   },
   "outputs": [
    {
     "data": {
      "text/html": [
       "<div>\n",
       "<style scoped>\n",
       "    .dataframe tbody tr th:only-of-type {\n",
       "        vertical-align: middle;\n",
       "    }\n",
       "\n",
       "    .dataframe tbody tr th {\n",
       "        vertical-align: top;\n",
       "    }\n",
       "\n",
       "    .dataframe thead th {\n",
       "        text-align: right;\n",
       "    }\n",
       "</style>\n",
       "<table border=\"1\" class=\"dataframe\">\n",
       "  <thead>\n",
       "    <tr style=\"text-align: right;\">\n",
       "      <th></th>\n",
       "      <th>user_id</th>\n",
       "      <th>month</th>\n",
       "      <th>total_calls</th>\n",
       "      <th>total_duration</th>\n",
       "      <th>total_messages</th>\n",
       "      <th>total_internet</th>\n",
       "      <th>age</th>\n",
       "      <th>churn_date</th>\n",
       "      <th>city</th>\n",
       "      <th>first_name</th>\n",
       "      <th>...</th>\n",
       "      <th>reg_date</th>\n",
       "      <th>tariff</th>\n",
       "      <th>messages_included</th>\n",
       "      <th>mb_per_month_included</th>\n",
       "      <th>minutes_included</th>\n",
       "      <th>rub_monthly_fee</th>\n",
       "      <th>rub_per_gb</th>\n",
       "      <th>rub_per_message</th>\n",
       "      <th>rub_per_minute</th>\n",
       "      <th>tariff_name</th>\n",
       "    </tr>\n",
       "  </thead>\n",
       "  <tbody>\n",
       "    <tr>\n",
       "      <th>985</th>\n",
       "      <td>1157</td>\n",
       "      <td>10</td>\n",
       "      <td>60.0</td>\n",
       "      <td>416.0</td>\n",
       "      <td>NaN</td>\n",
       "      <td>27.0</td>\n",
       "      <td>27</td>\n",
       "      <td>NaT</td>\n",
       "      <td>Москва</td>\n",
       "      <td>Виктория</td>\n",
       "      <td>...</td>\n",
       "      <td>2018-02-23</td>\n",
       "      <td>smart</td>\n",
       "      <td>50</td>\n",
       "      <td>15360</td>\n",
       "      <td>500</td>\n",
       "      <td>550</td>\n",
       "      <td>200</td>\n",
       "      <td>3</td>\n",
       "      <td>3</td>\n",
       "      <td>smart</td>\n",
       "    </tr>\n",
       "    <tr>\n",
       "      <th>371</th>\n",
       "      <td>1058</td>\n",
       "      <td>11</td>\n",
       "      <td>101.0</td>\n",
       "      <td>720.0</td>\n",
       "      <td>27.0</td>\n",
       "      <td>20.0</td>\n",
       "      <td>66</td>\n",
       "      <td>NaT</td>\n",
       "      <td>Вологда</td>\n",
       "      <td>Лукий</td>\n",
       "      <td>...</td>\n",
       "      <td>2018-10-07</td>\n",
       "      <td>smart</td>\n",
       "      <td>50</td>\n",
       "      <td>15360</td>\n",
       "      <td>500</td>\n",
       "      <td>550</td>\n",
       "      <td>200</td>\n",
       "      <td>3</td>\n",
       "      <td>3</td>\n",
       "      <td>smart</td>\n",
       "    </tr>\n",
       "    <tr>\n",
       "      <th>2912</th>\n",
       "      <td>1458</td>\n",
       "      <td>4</td>\n",
       "      <td>108.0</td>\n",
       "      <td>761.0</td>\n",
       "      <td>4.0</td>\n",
       "      <td>15.0</td>\n",
       "      <td>36</td>\n",
       "      <td>NaT</td>\n",
       "      <td>Барнаул</td>\n",
       "      <td>Роберт</td>\n",
       "      <td>...</td>\n",
       "      <td>2018-02-13</td>\n",
       "      <td>ultra</td>\n",
       "      <td>1000</td>\n",
       "      <td>30720</td>\n",
       "      <td>3000</td>\n",
       "      <td>1950</td>\n",
       "      <td>150</td>\n",
       "      <td>1</td>\n",
       "      <td>1</td>\n",
       "      <td>ultra</td>\n",
       "    </tr>\n",
       "    <tr>\n",
       "      <th>381</th>\n",
       "      <td>1059</td>\n",
       "      <td>12</td>\n",
       "      <td>92.0</td>\n",
       "      <td>726.0</td>\n",
       "      <td>21.0</td>\n",
       "      <td>19.0</td>\n",
       "      <td>47</td>\n",
       "      <td>NaT</td>\n",
       "      <td>Курск</td>\n",
       "      <td>Глеб</td>\n",
       "      <td>...</td>\n",
       "      <td>2018-04-14</td>\n",
       "      <td>smart</td>\n",
       "      <td>50</td>\n",
       "      <td>15360</td>\n",
       "      <td>500</td>\n",
       "      <td>550</td>\n",
       "      <td>200</td>\n",
       "      <td>3</td>\n",
       "      <td>3</td>\n",
       "      <td>smart</td>\n",
       "    </tr>\n",
       "    <tr>\n",
       "      <th>1164</th>\n",
       "      <td>1184</td>\n",
       "      <td>12</td>\n",
       "      <td>46.0</td>\n",
       "      <td>278.0</td>\n",
       "      <td>1.0</td>\n",
       "      <td>9.0</td>\n",
       "      <td>21</td>\n",
       "      <td>NaT</td>\n",
       "      <td>Барнаул</td>\n",
       "      <td>Снежана</td>\n",
       "      <td>...</td>\n",
       "      <td>2018-09-03</td>\n",
       "      <td>smart</td>\n",
       "      <td>50</td>\n",
       "      <td>15360</td>\n",
       "      <td>500</td>\n",
       "      <td>550</td>\n",
       "      <td>200</td>\n",
       "      <td>3</td>\n",
       "      <td>3</td>\n",
       "      <td>smart</td>\n",
       "    </tr>\n",
       "  </tbody>\n",
       "</table>\n",
       "<p>5 rows × 21 columns</p>\n",
       "</div>"
      ],
      "text/plain": [
       "     user_id  month  total_calls  total_duration  total_messages  \\\n",
       "985     1157     10         60.0           416.0             NaN   \n",
       "371     1058     11        101.0           720.0            27.0   \n",
       "2912    1458      4        108.0           761.0             4.0   \n",
       "381     1059     12         92.0           726.0            21.0   \n",
       "1164    1184     12         46.0           278.0             1.0   \n",
       "\n",
       "      total_internet  age churn_date     city first_name  ...   reg_date  \\\n",
       "985             27.0   27        NaT   Москва   Виктория  ... 2018-02-23   \n",
       "371             20.0   66        NaT  Вологда      Лукий  ... 2018-10-07   \n",
       "2912            15.0   36        NaT  Барнаул     Роберт  ... 2018-02-13   \n",
       "381             19.0   47        NaT    Курск       Глеб  ... 2018-04-14   \n",
       "1164             9.0   21        NaT  Барнаул    Снежана  ... 2018-09-03   \n",
       "\n",
       "     tariff messages_included  mb_per_month_included  minutes_included  \\\n",
       "985   smart                50                  15360               500   \n",
       "371   smart                50                  15360               500   \n",
       "2912  ultra              1000                  30720              3000   \n",
       "381   smart                50                  15360               500   \n",
       "1164  smart                50                  15360               500   \n",
       "\n",
       "      rub_monthly_fee  rub_per_gb  rub_per_message  rub_per_minute  \\\n",
       "985               550         200                3               3   \n",
       "371               550         200                3               3   \n",
       "2912             1950         150                1               1   \n",
       "381               550         200                3               3   \n",
       "1164              550         200                3               3   \n",
       "\n",
       "      tariff_name  \n",
       "985         smart  \n",
       "371         smart  \n",
       "2912        ultra  \n",
       "381         smart  \n",
       "1164        smart  \n",
       "\n",
       "[5 rows x 21 columns]"
      ]
     },
     "execution_count": 36,
     "metadata": {},
     "output_type": "execute_result"
    }
   ],
   "source": [
    "# Creating a consolidated table user_cons (consolidated), which\n",
    "# combines the tables with the data needed for the calculations \n",
    "\n",
    "user_cons = user_calls.merge(user_messages, on=['user_id','month'], how='outer') # using the outer method so that all calls and all messages from the user are captured\n",
    "user_cons = user_cons.merge(user_internet, on=['user_id','month'], how='outer') # using the outer method so that all calls and all messages as well as all internet trafic from the user are captured \n",
    "user_cons = user_cons.merge(users, on='user_id', how='left')\n",
    "user_cons = user_cons.merge(tariffs, left_on='tariff', right_on='tariff_name', how='left')\n",
    "\n",
    "user_cons.sample(5)"
   ]
  },
  {
   "cell_type": "markdown",
   "id": "e0c9e53b",
   "metadata": {},
   "source": [
    "After merging the tables, we will check that they have been merged correctly. To this end, we will check the correspondence of the checksums of some indicators before and after the merger of the tables. Let's calculate the total duration of calls, number of SMS and Internet traffic volume before and after merging the tables."
   ]
  },
  {
   "cell_type": "code",
   "execution_count": 37,
   "id": "682e6365",
   "metadata": {},
   "outputs": [
    {
     "name": "stdout",
     "output_type": "stream",
     "text": [
      "Длительность звонков до объединения таблиц:  1450301.0\n",
      "Длительность звонков после объединения таблиц:  1450301.0\n",
      "\n",
      "Количество СМС до объединения таблиц:  123036\n",
      "Количество СМС после объединения таблиц:  123036.0\n",
      "\n",
      "Объем трафика до объединения таблиц:  55599.0\n",
      "Объем трафика после объединения таблиц:  55599.0\n"
     ]
    }
   ],
   "source": [
    "print('Длительность звонков до объединения таблиц: ', user_calls.total_duration.sum())\n",
    "print('Длительность звонков после объединения таблиц: ', user_cons.total_duration.sum())\n",
    "print()\n",
    "print('Количество СМС до объединения таблиц: ', user_messages.total_messages.sum())\n",
    "print('Количество СМС после объединения таблиц: ', user_cons.total_messages.sum())\n",
    "print()\n",
    "print('Объем трафика до объединения таблиц: ', user_internet.total_internet.sum())\n",
    "print('Объем трафика после объединения таблиц: ', user_cons.total_internet.sum())"
   ]
  },
  {
   "cell_type": "markdown",
   "id": "70009613",
   "metadata": {},
   "source": [
    "We see that the checksums of the sample indicators converge, thus confirming that the tables have been merged correctly. "
   ]
  },
  {
   "cell_type": "code",
   "execution_count": 38,
   "id": "d6ad2b7e",
   "metadata": {},
   "outputs": [],
   "source": [
    "# Removing the tariff_name column, which is a duplicate of the tariff column. The duplicate column was created when merging the tables.\n",
    "\n",
    "user_cons.drop('tariff_name', axis=1, inplace=True)"
   ]
  },
  {
   "cell_type": "markdown",
   "id": "8c05ff0f",
   "metadata": {},
   "source": [
    "When merging the tables, missing values may have appeared in certain columns. Checking the table for missing values and fill them in if necessary."
   ]
  },
  {
   "cell_type": "code",
   "execution_count": 39,
   "id": "d032e310",
   "metadata": {},
   "outputs": [
    {
     "data": {
      "text/plain": [
       "user_id                     0\n",
       "month                       0\n",
       "total_calls                40\n",
       "total_duration             40\n",
       "total_messages            497\n",
       "total_internet             11\n",
       "age                         0\n",
       "churn_date               3027\n",
       "city                        0\n",
       "first_name                  0\n",
       "last_name                   0\n",
       "reg_date                    0\n",
       "tariff                      0\n",
       "messages_included           0\n",
       "mb_per_month_included       0\n",
       "minutes_included            0\n",
       "rub_monthly_fee             0\n",
       "rub_per_gb                  0\n",
       "rub_per_message             0\n",
       "rub_per_minute              0\n",
       "dtype: int64"
      ]
     },
     "execution_count": 39,
     "metadata": {},
     "output_type": "execute_result"
    }
   ],
   "source": [
    "user_cons.isna().sum()"
   ]
  },
  {
   "cell_type": "markdown",
   "id": "ed946ff1",
   "metadata": {},
   "source": [
    "The missing values in columns `total_calls`, `total_duration`, `total_messages`, `total_internet` are quite logical and indicate that certain users may not have used one of the above services during the month: calls, messages or the Internet. Therefore, when merging tables, NaNs appeared in these cells. Accordingly, will replace them with zeros. We will not change anything in the `churn_date` column, as the missing values here indicate a valid subscription contract. "
   ]
  },
  {
   "cell_type": "code",
   "execution_count": 40,
   "id": "f010961b",
   "metadata": {},
   "outputs": [],
   "source": [
    "user_cons.total_calls.fillna(0, inplace=True)\n",
    "user_cons.total_duration.fillna(0, inplace=True)\n",
    "user_cons.total_messages.fillna(0, inplace=True)\n",
    "user_cons.total_internet.fillna(0, inplace=True)\n"
   ]
  },
  {
   "cell_type": "code",
   "execution_count": 41,
   "id": "1ab95261",
   "metadata": {},
   "outputs": [
    {
     "data": {
      "text/plain": [
       "user_id                     0\n",
       "month                       0\n",
       "total_calls                 0\n",
       "total_duration              0\n",
       "total_messages              0\n",
       "total_internet              0\n",
       "age                         0\n",
       "churn_date               3027\n",
       "city                        0\n",
       "first_name                  0\n",
       "last_name                   0\n",
       "reg_date                    0\n",
       "tariff                      0\n",
       "messages_included           0\n",
       "mb_per_month_included       0\n",
       "minutes_included            0\n",
       "rub_monthly_fee             0\n",
       "rub_per_gb                  0\n",
       "rub_per_message             0\n",
       "rub_per_minute              0\n",
       "dtype: int64"
      ]
     },
     "execution_count": 41,
     "metadata": {},
     "output_type": "execute_result"
    }
   ],
   "source": [
    "user_cons.isna().sum()"
   ]
  },
  {
   "cell_type": "markdown",
   "id": "2d577b2a",
   "metadata": {},
   "source": [
    "By combining all the necessary tables, we can calculate the monthly revenue from each user. \n",
    "\n",
    "We will write a function that will calculate the operator's revenue from the customer's use of services (calls, messages and Internet traffic) in excess of the limit set by the relevant tariff package.  "
   ]
  },
  {
   "cell_type": "code",
   "execution_count": 42,
   "id": "80b5bf2c",
   "metadata": {},
   "outputs": [],
   "source": [
    "def extra_package(row):\n",
    "    \n",
    "    \"\"\"\n",
    "    The function takes as input the actual values of the used minutes, messages and traffic as well as \n",
    "    the values of the same services included in the tariff package. Based on the difference between the actuals and the limit\n",
    "    and the cost of the exceeded service, the total amount of the operator's revenue is calculated \n",
    "    for each customer for exceeding the services included in the tariff plan.    \n",
    "    \"\"\"\n",
    "    \n",
    "    try:\n",
    "        \n",
    "        min_fact = row['total_duration']\n",
    "        sms_fact = row['total_messages']\n",
    "        gb_fact = row['total_internet']\n",
    "        min_pack = row['minutes_included']\n",
    "        sms_pack = row['messages_included']\n",
    "        gb_pack = row['mb_per_month_included']\n",
    "\n",
    "        min = (min_fact - min_pack) * row['rub_per_minute']\n",
    "        sms = (sms_fact - sms_pack) * row['rub_per_message']\n",
    "        gb = (gb_fact - gb_pack/1024) * row['rub_per_gb']\n",
    "    \n",
    "        extra_package_revenue = 0\n",
    "    \n",
    "        for value in [min, sms, gb]:\n",
    "            if value > 0:\n",
    "                extra_package_revenue += value\n",
    "\n",
    "        return extra_package_revenue\n",
    "    \n",
    "    except:\n",
    "        return 'Input Value Error'"
   ]
  },
  {
   "cell_type": "markdown",
   "id": "98cbe244",
   "metadata": {},
   "source": [
    "Will create an additional column in the table to show the average monthly revenue per customer for services consumed in excess of the tariff package and will fill the column with the results of our function call. "
   ]
  },
  {
   "cell_type": "code",
   "execution_count": 43,
   "id": "414fdc7c",
   "metadata": {},
   "outputs": [],
   "source": [
    "# create a column with the revenue beyond the tariff package and fill it with the result of the function call\n",
    "\n",
    "user_cons['extra_package_revenue'] = user_cons.apply(extra_package, axis=1)"
   ]
  },
  {
   "cell_type": "markdown",
   "id": "1e2f7580",
   "metadata": {},
   "source": [
    "Having calculated the revenue per customer for services consumed over and above the tariff package, we can calculate the total revenue, including the cost of the monthly subscription. Adding the total revenue to the additional column `total_revenue`."
   ]
  },
  {
   "cell_type": "code",
   "execution_count": 44,
   "id": "5d0a4cc1",
   "metadata": {},
   "outputs": [],
   "source": [
    "user_cons.eval('total_revenue = extra_package_revenue + rub_monthly_fee', inplace=True)"
   ]
  },
  {
   "cell_type": "code",
   "execution_count": 45,
   "id": "f3ff24bd",
   "metadata": {},
   "outputs": [
    {
     "data": {
      "text/html": [
       "<div>\n",
       "<style scoped>\n",
       "    .dataframe tbody tr th:only-of-type {\n",
       "        vertical-align: middle;\n",
       "    }\n",
       "\n",
       "    .dataframe tbody tr th {\n",
       "        vertical-align: top;\n",
       "    }\n",
       "\n",
       "    .dataframe thead th {\n",
       "        text-align: right;\n",
       "    }\n",
       "</style>\n",
       "<table border=\"1\" class=\"dataframe\">\n",
       "  <thead>\n",
       "    <tr style=\"text-align: right;\">\n",
       "      <th></th>\n",
       "      <th>user_id</th>\n",
       "      <th>month</th>\n",
       "      <th>total_calls</th>\n",
       "      <th>total_duration</th>\n",
       "      <th>total_messages</th>\n",
       "      <th>total_internet</th>\n",
       "      <th>age</th>\n",
       "      <th>churn_date</th>\n",
       "      <th>city</th>\n",
       "      <th>first_name</th>\n",
       "      <th>...</th>\n",
       "      <th>tariff</th>\n",
       "      <th>messages_included</th>\n",
       "      <th>mb_per_month_included</th>\n",
       "      <th>minutes_included</th>\n",
       "      <th>rub_monthly_fee</th>\n",
       "      <th>rub_per_gb</th>\n",
       "      <th>rub_per_message</th>\n",
       "      <th>rub_per_minute</th>\n",
       "      <th>extra_package_revenue</th>\n",
       "      <th>total_revenue</th>\n",
       "    </tr>\n",
       "  </thead>\n",
       "  <tbody>\n",
       "    <tr>\n",
       "      <th>533</th>\n",
       "      <td>1085</td>\n",
       "      <td>9</td>\n",
       "      <td>18.0</td>\n",
       "      <td>120.0</td>\n",
       "      <td>0.0</td>\n",
       "      <td>10.0</td>\n",
       "      <td>69</td>\n",
       "      <td>NaT</td>\n",
       "      <td>Омск</td>\n",
       "      <td>Лола</td>\n",
       "      <td>...</td>\n",
       "      <td>ultra</td>\n",
       "      <td>1000</td>\n",
       "      <td>30720</td>\n",
       "      <td>3000</td>\n",
       "      <td>1950</td>\n",
       "      <td>150</td>\n",
       "      <td>1</td>\n",
       "      <td>1</td>\n",
       "      <td>0.0</td>\n",
       "      <td>1950.0</td>\n",
       "    </tr>\n",
       "    <tr>\n",
       "      <th>2454</th>\n",
       "      <td>1389</td>\n",
       "      <td>10</td>\n",
       "      <td>51.0</td>\n",
       "      <td>329.0</td>\n",
       "      <td>3.0</td>\n",
       "      <td>19.0</td>\n",
       "      <td>29</td>\n",
       "      <td>NaT</td>\n",
       "      <td>Москва</td>\n",
       "      <td>Надежда</td>\n",
       "      <td>...</td>\n",
       "      <td>smart</td>\n",
       "      <td>50</td>\n",
       "      <td>15360</td>\n",
       "      <td>500</td>\n",
       "      <td>550</td>\n",
       "      <td>200</td>\n",
       "      <td>3</td>\n",
       "      <td>3</td>\n",
       "      <td>800.0</td>\n",
       "      <td>1350.0</td>\n",
       "    </tr>\n",
       "    <tr>\n",
       "      <th>1908</th>\n",
       "      <td>1304</td>\n",
       "      <td>11</td>\n",
       "      <td>61.0</td>\n",
       "      <td>435.0</td>\n",
       "      <td>65.0</td>\n",
       "      <td>35.0</td>\n",
       "      <td>68</td>\n",
       "      <td>NaT</td>\n",
       "      <td>Владимир</td>\n",
       "      <td>Илья</td>\n",
       "      <td>...</td>\n",
       "      <td>ultra</td>\n",
       "      <td>1000</td>\n",
       "      <td>30720</td>\n",
       "      <td>3000</td>\n",
       "      <td>1950</td>\n",
       "      <td>150</td>\n",
       "      <td>1</td>\n",
       "      <td>1</td>\n",
       "      <td>750.0</td>\n",
       "      <td>2700.0</td>\n",
       "    </tr>\n",
       "    <tr>\n",
       "      <th>725</th>\n",
       "      <td>1116</td>\n",
       "      <td>9</td>\n",
       "      <td>41.0</td>\n",
       "      <td>272.0</td>\n",
       "      <td>0.0</td>\n",
       "      <td>14.0</td>\n",
       "      <td>65</td>\n",
       "      <td>NaT</td>\n",
       "      <td>Петрозаводск</td>\n",
       "      <td>Альберта</td>\n",
       "      <td>...</td>\n",
       "      <td>smart</td>\n",
       "      <td>50</td>\n",
       "      <td>15360</td>\n",
       "      <td>500</td>\n",
       "      <td>550</td>\n",
       "      <td>200</td>\n",
       "      <td>3</td>\n",
       "      <td>3</td>\n",
       "      <td>0.0</td>\n",
       "      <td>550.0</td>\n",
       "    </tr>\n",
       "    <tr>\n",
       "      <th>1032</th>\n",
       "      <td>1166</td>\n",
       "      <td>11</td>\n",
       "      <td>43.0</td>\n",
       "      <td>357.0</td>\n",
       "      <td>107.0</td>\n",
       "      <td>8.0</td>\n",
       "      <td>48</td>\n",
       "      <td>NaT</td>\n",
       "      <td>Нижний Новгород</td>\n",
       "      <td>Святослав</td>\n",
       "      <td>...</td>\n",
       "      <td>ultra</td>\n",
       "      <td>1000</td>\n",
       "      <td>30720</td>\n",
       "      <td>3000</td>\n",
       "      <td>1950</td>\n",
       "      <td>150</td>\n",
       "      <td>1</td>\n",
       "      <td>1</td>\n",
       "      <td>0.0</td>\n",
       "      <td>1950.0</td>\n",
       "    </tr>\n",
       "    <tr>\n",
       "      <th>2326</th>\n",
       "      <td>1373</td>\n",
       "      <td>10</td>\n",
       "      <td>5.0</td>\n",
       "      <td>23.0</td>\n",
       "      <td>55.0</td>\n",
       "      <td>19.0</td>\n",
       "      <td>34</td>\n",
       "      <td>NaT</td>\n",
       "      <td>Улан-Удэ</td>\n",
       "      <td>Нелли</td>\n",
       "      <td>...</td>\n",
       "      <td>smart</td>\n",
       "      <td>50</td>\n",
       "      <td>15360</td>\n",
       "      <td>500</td>\n",
       "      <td>550</td>\n",
       "      <td>200</td>\n",
       "      <td>3</td>\n",
       "      <td>3</td>\n",
       "      <td>815.0</td>\n",
       "      <td>1365.0</td>\n",
       "    </tr>\n",
       "    <tr>\n",
       "      <th>1968</th>\n",
       "      <td>1314</td>\n",
       "      <td>9</td>\n",
       "      <td>71.0</td>\n",
       "      <td>519.0</td>\n",
       "      <td>33.0</td>\n",
       "      <td>17.0</td>\n",
       "      <td>27</td>\n",
       "      <td>NaT</td>\n",
       "      <td>Киров</td>\n",
       "      <td>Максим</td>\n",
       "      <td>...</td>\n",
       "      <td>smart</td>\n",
       "      <td>50</td>\n",
       "      <td>15360</td>\n",
       "      <td>500</td>\n",
       "      <td>550</td>\n",
       "      <td>200</td>\n",
       "      <td>3</td>\n",
       "      <td>3</td>\n",
       "      <td>457.0</td>\n",
       "      <td>1007.0</td>\n",
       "    </tr>\n",
       "    <tr>\n",
       "      <th>1780</th>\n",
       "      <td>1284</td>\n",
       "      <td>12</td>\n",
       "      <td>71.0</td>\n",
       "      <td>472.0</td>\n",
       "      <td>39.0</td>\n",
       "      <td>16.0</td>\n",
       "      <td>62</td>\n",
       "      <td>NaT</td>\n",
       "      <td>Волгоград</td>\n",
       "      <td>Евфросинья</td>\n",
       "      <td>...</td>\n",
       "      <td>smart</td>\n",
       "      <td>50</td>\n",
       "      <td>15360</td>\n",
       "      <td>500</td>\n",
       "      <td>550</td>\n",
       "      <td>200</td>\n",
       "      <td>3</td>\n",
       "      <td>3</td>\n",
       "      <td>200.0</td>\n",
       "      <td>750.0</td>\n",
       "    </tr>\n",
       "    <tr>\n",
       "      <th>659</th>\n",
       "      <td>1105</td>\n",
       "      <td>9</td>\n",
       "      <td>6.0</td>\n",
       "      <td>26.0</td>\n",
       "      <td>5.0</td>\n",
       "      <td>1.0</td>\n",
       "      <td>51</td>\n",
       "      <td>NaT</td>\n",
       "      <td>Улан-Удэ</td>\n",
       "      <td>Рузана</td>\n",
       "      <td>...</td>\n",
       "      <td>smart</td>\n",
       "      <td>50</td>\n",
       "      <td>15360</td>\n",
       "      <td>500</td>\n",
       "      <td>550</td>\n",
       "      <td>200</td>\n",
       "      <td>3</td>\n",
       "      <td>3</td>\n",
       "      <td>0.0</td>\n",
       "      <td>550.0</td>\n",
       "    </tr>\n",
       "    <tr>\n",
       "      <th>2489</th>\n",
       "      <td>1393</td>\n",
       "      <td>12</td>\n",
       "      <td>85.0</td>\n",
       "      <td>651.0</td>\n",
       "      <td>59.0</td>\n",
       "      <td>17.0</td>\n",
       "      <td>56</td>\n",
       "      <td>NaT</td>\n",
       "      <td>Краснодар</td>\n",
       "      <td>Артём</td>\n",
       "      <td>...</td>\n",
       "      <td>smart</td>\n",
       "      <td>50</td>\n",
       "      <td>15360</td>\n",
       "      <td>500</td>\n",
       "      <td>550</td>\n",
       "      <td>200</td>\n",
       "      <td>3</td>\n",
       "      <td>3</td>\n",
       "      <td>880.0</td>\n",
       "      <td>1430.0</td>\n",
       "    </tr>\n",
       "  </tbody>\n",
       "</table>\n",
       "<p>10 rows × 22 columns</p>\n",
       "</div>"
      ],
      "text/plain": [
       "     user_id  month  total_calls  total_duration  total_messages  \\\n",
       "533     1085      9         18.0           120.0             0.0   \n",
       "2454    1389     10         51.0           329.0             3.0   \n",
       "1908    1304     11         61.0           435.0            65.0   \n",
       "725     1116      9         41.0           272.0             0.0   \n",
       "1032    1166     11         43.0           357.0           107.0   \n",
       "2326    1373     10          5.0            23.0            55.0   \n",
       "1968    1314      9         71.0           519.0            33.0   \n",
       "1780    1284     12         71.0           472.0            39.0   \n",
       "659     1105      9          6.0            26.0             5.0   \n",
       "2489    1393     12         85.0           651.0            59.0   \n",
       "\n",
       "      total_internet  age churn_date             city  first_name  ... tariff  \\\n",
       "533             10.0   69        NaT             Омск        Лола  ...  ultra   \n",
       "2454            19.0   29        NaT           Москва     Надежда  ...  smart   \n",
       "1908            35.0   68        NaT         Владимир        Илья  ...  ultra   \n",
       "725             14.0   65        NaT     Петрозаводск    Альберта  ...  smart   \n",
       "1032             8.0   48        NaT  Нижний Новгород   Святослав  ...  ultra   \n",
       "2326            19.0   34        NaT         Улан-Удэ       Нелли  ...  smart   \n",
       "1968            17.0   27        NaT            Киров      Максим  ...  smart   \n",
       "1780            16.0   62        NaT        Волгоград  Евфросинья  ...  smart   \n",
       "659              1.0   51        NaT         Улан-Удэ      Рузана  ...  smart   \n",
       "2489            17.0   56        NaT        Краснодар       Артём  ...  smart   \n",
       "\n",
       "     messages_included mb_per_month_included  minutes_included  \\\n",
       "533               1000                 30720              3000   \n",
       "2454                50                 15360               500   \n",
       "1908              1000                 30720              3000   \n",
       "725                 50                 15360               500   \n",
       "1032              1000                 30720              3000   \n",
       "2326                50                 15360               500   \n",
       "1968                50                 15360               500   \n",
       "1780                50                 15360               500   \n",
       "659                 50                 15360               500   \n",
       "2489                50                 15360               500   \n",
       "\n",
       "      rub_monthly_fee  rub_per_gb  rub_per_message  rub_per_minute  \\\n",
       "533              1950         150                1               1   \n",
       "2454              550         200                3               3   \n",
       "1908             1950         150                1               1   \n",
       "725               550         200                3               3   \n",
       "1032             1950         150                1               1   \n",
       "2326              550         200                3               3   \n",
       "1968              550         200                3               3   \n",
       "1780              550         200                3               3   \n",
       "659               550         200                3               3   \n",
       "2489              550         200                3               3   \n",
       "\n",
       "      extra_package_revenue  total_revenue  \n",
       "533                     0.0         1950.0  \n",
       "2454                  800.0         1350.0  \n",
       "1908                  750.0         2700.0  \n",
       "725                     0.0          550.0  \n",
       "1032                    0.0         1950.0  \n",
       "2326                  815.0         1365.0  \n",
       "1968                  457.0         1007.0  \n",
       "1780                  200.0          750.0  \n",
       "659                     0.0          550.0  \n",
       "2489                  880.0         1430.0  \n",
       "\n",
       "[10 rows x 22 columns]"
      ]
     },
     "execution_count": 45,
     "metadata": {},
     "output_type": "execute_result"
    }
   ],
   "source": [
    "user_cons.sample(10)"
   ]
  },
  {
   "cell_type": "markdown",
   "id": "420170e7",
   "metadata": {},
   "source": [
    "## Analysis of customer consumption behaviour by tariff package"
   ]
  },
  {
   "cell_type": "markdown",
   "id": "a9885e48",
   "metadata": {},
   "source": [
    "### Duration of calls analysis"
   ]
  },
  {
   "cell_type": "markdown",
   "id": "9e7369ab",
   "metadata": {},
   "source": [
    "Let's analyse the average monthly duration (minutes) of calls per user in broken down by tariff plans. To do this we group our dataset by tariff and calculate the average, variance and standard deviation. "
   ]
  },
  {
   "cell_type": "code",
   "execution_count": 46,
   "id": "87ca1b96",
   "metadata": {},
   "outputs": [
    {
     "data": {
      "text/html": [
       "<style  type=\"text/css\" >\n",
       "</style><table id=\"T_9e4b0_\" ><thead>    <tr>        <th class=\"blank level0\" ></th>        <th class=\"col_heading level0 col0\" colspan=\"3\">total_duration</th>    </tr>    <tr>        <th class=\"blank level1\" ></th>        <th class=\"col_heading level1 col0\" >mean</th>        <th class=\"col_heading level1 col1\" >var</th>        <th class=\"col_heading level1 col2\" >std</th>    </tr>    <tr>        <th class=\"index_name level0\" >tariff</th>        <th class=\"blank\" ></th>        <th class=\"blank\" ></th>        <th class=\"blank\" ></th>    </tr></thead><tbody>\n",
       "                <tr>\n",
       "                        <th id=\"T_9e4b0_level0_row0\" class=\"row_heading level0 row0\" >smart</th>\n",
       "                        <td id=\"T_9e4b0_row0_col0\" class=\"data row0 col0\" >417.93</td>\n",
       "                        <td id=\"T_9e4b0_row0_col1\" class=\"data row0 col1\" >36219.32</td>\n",
       "                        <td id=\"T_9e4b0_row0_col2\" class=\"data row0 col2\" >190.31</td>\n",
       "            </tr>\n",
       "            <tr>\n",
       "                        <th id=\"T_9e4b0_level0_row1\" class=\"row_heading level0 row1\" >ultra</th>\n",
       "                        <td id=\"T_9e4b0_row1_col0\" class=\"data row1 col0\" >526.62</td>\n",
       "                        <td id=\"T_9e4b0_row1_col1\" class=\"data row1 col1\" >100873.63</td>\n",
       "                        <td id=\"T_9e4b0_row1_col2\" class=\"data row1 col2\" >317.61</td>\n",
       "            </tr>\n",
       "    </tbody></table>"
      ],
      "text/plain": [
       "<pandas.io.formats.style.Styler at 0x7ff3075212b0>"
      ]
     },
     "execution_count": 46,
     "metadata": {},
     "output_type": "execute_result"
    }
   ],
   "source": [
    "user_cons.groupby('tariff').agg({'total_duration':['mean', 'var', 'std']}).style.format('{:.2f}')"
   ]
  },
  {
   "cell_type": "markdown",
   "id": "b233d471",
   "metadata": {},
   "source": [
    "It should be noted that the average number of minutes used in the Smart tariff is close to the limit of the minutes included in the package (500 minutes). The Ultra tariff, on the other hand, has a huge reserve of unused minutes (3000 minutes included in the package).\n",
    "\n",
    "For the sake of clarity, let's visualise our findings on a histogram. Let's write a function to build a diagram, which we will call when we need to build diagrams."
   ]
  },
  {
   "cell_type": "code",
   "execution_count": 47,
   "id": "3cc42da1",
   "metadata": {},
   "outputs": [],
   "source": [
    "def histogram_builder(column, title):\n",
    "    sns.set_style('darkgrid')\n",
    "    plt.figure(figsize=(12,6))\n",
    "    plt.title(title, fontsize=13)\n",
    "    sns.distplot(user_cons.query('tariff == \"smart\"')[column], label='Тариф Smart', kde=False)\n",
    "    sns.distplot(user_cons.query('tariff == \"ultra\"')[column], label='Тариф Ultra', kde=False)\n",
    "    plt.axvline(np.mean(user_cons.query('tariff == \"smart\"')[column]),color='g', linestyle='--', label='Smart среднее')\n",
    "    plt.axvline(np.mean(user_cons.query('tariff == \"ultra\"')[column]),color='g', linestyle='-', label='Ultra среднее')\n",
    "    plt.legend()"
   ]
  },
  {
   "cell_type": "code",
   "execution_count": 48,
   "id": "d54381bc",
   "metadata": {},
   "outputs": [
    {
     "data": {
      "image/png": "[encoded data removed]",
      "text/plain": [
       "<Figure size 864x432 with 1 Axes>"
      ]
     },
     "metadata": {},
     "output_type": "display_data"
    }
   ],
   "source": [
    "histogram_builder('total_duration', 'Распределение среднемесячной длительности разговора в разрезе тарифных пакетов, мин')"
   ]
  },
  {
   "cell_type": "markdown",
   "id": "7063e6ae",
   "metadata": {},
   "source": [
    "It should be noted at first glance that the amount of minutes consumed by users in the Ultra tariff is fully within the limit included in the package (3000 minutes). In the Smart tariff, on the other hand, a large number of users are significantly short of the 500 minutes included in the package, with 34% of users using minutes in excess of the package."
   ]
  },
  {
   "cell_type": "code",
   "execution_count": 49,
   "id": "38fb9cfe",
   "metadata": {},
   "outputs": [
    {
     "name": "stdout",
     "output_type": "stream",
     "text": [
      "Доля пользователей, использующих минуты сверх включенных в пакет \"Смарт\": 0.34\n"
     ]
    }
   ],
   "source": [
    "print('Доля пользователей, использующих минуты сверх включенных в пакет \"Смарт\":', round(len(user_cons.query('tariff == \"smart\" and total_duration>500'))/len(user_cons.query('tariff == \"smart\"')), 2))"
   ]
  },
  {
   "cell_type": "markdown",
   "id": "fd569f9d",
   "metadata": {},
   "source": [
    "### Number of messages analysis"
   ]
  },
  {
   "cell_type": "markdown",
   "id": "028c8129",
   "metadata": {},
   "source": [
    "Let's analyze the average monthly number of messages per user in terms of tariff plans. To do this, will group our dataset by tariff and calculate the average, variance and standard deviation."
   ]
  },
  {
   "cell_type": "code",
   "execution_count": 50,
   "id": "11f9a055",
   "metadata": {},
   "outputs": [
    {
     "data": {
      "text/html": [
       "<style  type=\"text/css\" >\n",
       "</style><table id=\"T_0b76a_\" ><thead>    <tr>        <th class=\"blank level0\" ></th>        <th class=\"col_heading level0 col0\" colspan=\"3\">total_messages</th>    </tr>    <tr>        <th class=\"blank level1\" ></th>        <th class=\"col_heading level1 col0\" >mean</th>        <th class=\"col_heading level1 col1\" >var</th>        <th class=\"col_heading level1 col2\" >std</th>    </tr>    <tr>        <th class=\"index_name level0\" >tariff</th>        <th class=\"blank\" ></th>        <th class=\"blank\" ></th>        <th class=\"blank\" ></th>    </tr></thead><tbody>\n",
       "                <tr>\n",
       "                        <th id=\"T_0b76a_level0_row0\" class=\"row_heading level0 row0\" >smart</th>\n",
       "                        <td id=\"T_0b76a_row0_col0\" class=\"data row0 col0\" >33</td>\n",
       "                        <td id=\"T_0b76a_row0_col1\" class=\"data row0 col1\" >797</td>\n",
       "                        <td id=\"T_0b76a_row0_col2\" class=\"data row0 col2\" >28</td>\n",
       "            </tr>\n",
       "            <tr>\n",
       "                        <th id=\"T_0b76a_level0_row1\" class=\"row_heading level0 row1\" >ultra</th>\n",
       "                        <td id=\"T_0b76a_row1_col0\" class=\"data row1 col0\" >49</td>\n",
       "                        <td id=\"T_0b76a_row1_col1\" class=\"data row1 col1\" >2285</td>\n",
       "                        <td id=\"T_0b76a_row1_col2\" class=\"data row1 col2\" >48</td>\n",
       "            </tr>\n",
       "    </tbody></table>"
      ],
      "text/plain": [
       "<pandas.io.formats.style.Styler at 0x7ff306b5a9d0>"
      ]
     },
     "execution_count": 50,
     "metadata": {},
     "output_type": "execute_result"
    }
   ],
   "source": [
    "user_cons.groupby('tariff').agg({'total_messages':['mean', 'var', 'std']}).style.format('{:.0f}')"
   ]
  },
  {
   "cell_type": "markdown",
   "id": "60198fd5",
   "metadata": {},
   "source": [
    "For the sake of clarity, let's visualise our findings on a histogram."
   ]
  },
  {
   "cell_type": "code",
   "execution_count": 51,
   "id": "d416837b",
   "metadata": {},
   "outputs": [
    {
     "data": {
      "image/png": "[encoded data removed]",
      "text/plain": [
       "<Figure size 864x432 with 1 Axes>"
      ]
     },
     "metadata": {},
     "output_type": "display_data"
    }
   ],
   "source": [
    "histogram_builder('total_messages', 'Распределение среднемесячного количества сообщений в разрезе тарифных пакетов')"
   ]
  },
  {
   "cell_type": "markdown",
   "id": "c4120315",
   "metadata": {},
   "source": [
    "It should be noted at once that the number of messages sent by users in the Ultra tariff is entirely within the limit included in the package (1,000 messages). In the Smart tariff, on the other hand, the distribution shows a certain lack of 50 messages included in the package, with 25% of users using messages in excess of the package."
   ]
  },
  {
   "cell_type": "code",
   "execution_count": 52,
   "id": "d292c2ca",
   "metadata": {},
   "outputs": [
    {
     "name": "stdout",
     "output_type": "stream",
     "text": [
      "Доля пользователей, использующих сообщения сверх включенных в пакет \"Смарт\": 0.25\n"
     ]
    }
   ],
   "source": [
    "print('Доля пользователей, использующих сообщения сверх включенных в пакет \"Смарт\":', round(len(user_cons.query('tariff == \"smart\" and total_messages>50'))/len(user_cons.query('tariff == \"smart\"')), 2))"
   ]
  },
  {
   "cell_type": "markdown",
   "id": "420e520b",
   "metadata": {},
   "source": [
    "### Internet trafic analysis"
   ]
  },
  {
   "cell_type": "markdown",
   "id": "29152a17",
   "metadata": {},
   "source": [
    "Let's analyse the average monthly Internet traffic consumed by one user in terms of tariff plans. To do this we will group our dataset by tariff and calculate the average, variance and standard deviation."
   ]
  },
  {
   "cell_type": "code",
   "execution_count": 53,
   "id": "10e6ef83",
   "metadata": {},
   "outputs": [
    {
     "data": {
      "text/html": [
       "<style  type=\"text/css\" >\n",
       "</style><table id=\"T_e00ff_\" ><thead>    <tr>        <th class=\"blank level0\" ></th>        <th class=\"col_heading level0 col0\" colspan=\"3\">total_internet</th>    </tr>    <tr>        <th class=\"blank level1\" ></th>        <th class=\"col_heading level1 col0\" >mean</th>        <th class=\"col_heading level1 col1\" >var</th>        <th class=\"col_heading level1 col2\" >std</th>    </tr>    <tr>        <th class=\"index_name level0\" >tariff</th>        <th class=\"blank\" ></th>        <th class=\"blank\" ></th>        <th class=\"blank\" ></th>    </tr></thead><tbody>\n",
       "                <tr>\n",
       "                        <th id=\"T_e00ff_level0_row0\" class=\"row_heading level0 row0\" >smart</th>\n",
       "                        <td id=\"T_e00ff_row0_col0\" class=\"data row0 col0\" >16</td>\n",
       "                        <td id=\"T_e00ff_row0_col1\" class=\"data row0 col1\" >33</td>\n",
       "                        <td id=\"T_e00ff_row0_col2\" class=\"data row0 col2\" >6</td>\n",
       "            </tr>\n",
       "            <tr>\n",
       "                        <th id=\"T_e00ff_level0_row1\" class=\"row_heading level0 row1\" >ultra</th>\n",
       "                        <td id=\"T_e00ff_row1_col0\" class=\"data row1 col0\" >19</td>\n",
       "                        <td id=\"T_e00ff_row1_col1\" class=\"data row1 col1\" >97</td>\n",
       "                        <td id=\"T_e00ff_row1_col2\" class=\"data row1 col2\" >10</td>\n",
       "            </tr>\n",
       "    </tbody></table>"
      ],
      "text/plain": [
       "<pandas.io.formats.style.Styler at 0x7ff303439eb0>"
      ]
     },
     "execution_count": 53,
     "metadata": {},
     "output_type": "execute_result"
    }
   ],
   "source": [
    "user_cons.groupby('tariff').agg({'total_internet':['mean', 'var', 'std']}).style.format('{:.0f}')"
   ]
  },
  {
   "cell_type": "markdown",
   "id": "bcb8ce10",
   "metadata": {},
   "source": [
    "It is immediately apparent that even the average Internet traffic consumed by the user per month in the Smart tariff is higher than the limit included in the package (15 GB). On the contrary, in the Ultra tariff we see the unused traffic (30 GB included in the package).\n",
    "\n",
    "For the sake of clarity, let's visualise our findings on a histogram."
   ]
  },
  {
   "cell_type": "code",
   "execution_count": 54,
   "id": "1ac79a3a",
   "metadata": {},
   "outputs": [
    {
     "data": {
      "image/png": "[encoded data removed]",
      "text/plain": [
       "<Figure size 864x432 with 1 Axes>"
      ]
     },
     "metadata": {},
     "output_type": "display_data"
    }
   ],
   "source": [
    "histogram_builder('total_internet', 'Распределение среднемесячного интернет-трафика в разрезе тарифных пакетов, Гб')"
   ]
  },
  {
   "cell_type": "markdown",
   "id": "c230701b",
   "metadata": {},
   "source": [
    "With the use of internet traffic in the Ultra package the picture is different from the use of minutes and messages. Although most users fit within the limit, nevertheless 14% of users are short of the included traffic volume.\n",
    "\n",
    "In the Smart package the distribution shows an acute shortage of included traffic. The average consumption is higher than the 15GB included in the package, and the mode of this distribution is generally around 19GB. 59% of the users of this tariff use more traffic than is included in the package."
   ]
  },
  {
   "cell_type": "code",
   "execution_count": 55,
   "id": "aab3232e",
   "metadata": {},
   "outputs": [
    {
     "name": "stdout",
     "output_type": "stream",
     "text": [
      "Доля пользователей, использующих трафик сверх включенного в пакет \"Смарт\": 0.59\n",
      "Доля пользователей, использующих трафик сверх включенного в пакет \"Ультра\": 0.14\n"
     ]
    }
   ],
   "source": [
    "print('Доля пользователей, использующих трафик сверх включенного в пакет \"Смарт\":', round(len(user_cons.query('tariff == \"smart\" and total_internet>15'))/len(user_cons.query('tariff == \"smart\"')), 2))\n",
    "print('Доля пользователей, использующих трафик сверх включенного в пакет \"Ультра\":', round(len(user_cons.query('tariff == \"ultra\" and total_internet>30'))/len(user_cons.query('tariff == \"ultra\"')), 2))"
   ]
  },
  {
   "cell_type": "markdown",
   "id": "748e1d98",
   "metadata": {},
   "source": [
    "### Revenue analysis"
   ]
  },
  {
   "cell_type": "markdown",
   "id": "c7543de6",
   "metadata": {},
   "source": [
    "Let's analyse the average monthly payment paid by the user for the services consumed in terms of tariff plans. To do this, we group our dataset by tariff and calculate the average monthly payment and the total annual revenue received by the operator. "
   ]
  },
  {
   "cell_type": "code",
   "execution_count": 56,
   "id": "ba66ee29",
   "metadata": {},
   "outputs": [
    {
     "data": {
      "text/html": [
       "<style  type=\"text/css\" >\n",
       "</style><table id=\"T_d575d_\" ><thead>    <tr>        <th class=\"blank level0\" ></th>        <th class=\"col_heading level0 col0\" colspan=\"3\">total_revenue</th>    </tr>    <tr>        <th class=\"blank level1\" ></th>        <th class=\"col_heading level1 col0\" >mean</th>        <th class=\"col_heading level1 col1\" >sum</th>        <th class=\"col_heading level1 col2\" >count</th>    </tr>    <tr>        <th class=\"index_name level0\" >tariff</th>        <th class=\"blank\" ></th>        <th class=\"blank\" ></th>        <th class=\"blank\" ></th>    </tr></thead><tbody>\n",
       "                <tr>\n",
       "                        <th id=\"T_d575d_level0_row0\" class=\"row_heading level0 row0\" >smart</th>\n",
       "                        <td id=\"T_d575d_row0_col0\" class=\"data row0 col0\" >1289.97</td>\n",
       "                        <td id=\"T_d575d_row0_col1\" class=\"data row0 col1\" >2875351.00</td>\n",
       "                        <td id=\"T_d575d_row0_col2\" class=\"data row0 col2\" >2229.00</td>\n",
       "            </tr>\n",
       "            <tr>\n",
       "                        <th id=\"T_d575d_level0_row1\" class=\"row_heading level0 row1\" >ultra</th>\n",
       "                        <td id=\"T_d575d_row1_col0\" class=\"data row1 col0\" >2070.15</td>\n",
       "                        <td id=\"T_d575d_row1_col1\" class=\"data row1 col1\" >2039100.00</td>\n",
       "                        <td id=\"T_d575d_row1_col2\" class=\"data row1 col2\" >985.00</td>\n",
       "            </tr>\n",
       "    </tbody></table>"
      ],
      "text/plain": [
       "<pandas.io.formats.style.Styler at 0x7ff3069cd280>"
      ]
     },
     "execution_count": 56,
     "metadata": {},
     "output_type": "execute_result"
    }
   ],
   "source": [
    "user_cons.groupby('tariff').agg({'total_revenue':['mean', 'sum', 'count']}).style.format('{:.2f}')"
   ]
  },
  {
   "cell_type": "code",
   "execution_count": 57,
   "id": "421a628f",
   "metadata": {},
   "outputs": [
    {
     "data": {
      "image/png": "[encoded data removed]",
      "text/plain": [
       "<Figure size 864x432 with 1 Axes>"
      ]
     },
     "metadata": {},
     "output_type": "display_data"
    }
   ],
   "source": [
    "histogram_builder('total_revenue', 'Распределение среднемесячной выручки в разрезе тарифных пакетов, руб.')"
   ]
  },
  {
   "cell_type": "markdown",
   "id": "c34478a6",
   "metadata": {},
   "source": [
    "The histogram demonstrates very clearly that the vast majority of Ultra users are fully sufficient in terms of the services included in the package. We see a peak around the cost of the package (RUB 1,950), indicating that the majority of users of this package pay only the subscription fee. Only 14% of users pay for services consumed in excess of those included in the package.\n",
    "\n",
    "At the same time, the situation with users of the Smart package is quite different. We see a peak around the value of the monthly subscription fee (RUB 550). However, the majority of users, comprising 75% (see calculation below) of users of this tariff package consume and pay for services in addition to those included in the package. \n",
    "\n",
    "We can see that the average monthly fee is 2.35 times higher than the price of the tariff package: 1289.97/550=2.35 \n",
    "\n",
    "Overall for the year, the operator's revenue from the Smart tariff is higher than the total revenue from the Ultra tariff (2,875,351 RUB vs. 2,039,100 RUB). This is due to the larger number of Smart tariff users. But at the same time average annual revenue per customer in \"Ultra\" tariff is higher than in \"Smart\" tariff (13,685.23 RUB vs. 8,191.88 RUB). The calculations are presented below."
   ]
  },
  {
   "cell_type": "code",
   "execution_count": 58,
   "id": "b908e140",
   "metadata": {},
   "outputs": [
    {
     "name": "stdout",
     "output_type": "stream",
     "text": [
      "Доля пользователей, оплачивающих услуги сверх тарифного пакета \"Смарт\": 0.75\n",
      "Доля пользователей, оплачивающих услуги сверх тарифного пакета \"Ультра\": 0.14\n"
     ]
    }
   ],
   "source": [
    "print('Доля пользователей, оплачивающих услуги сверх тарифного пакета \"Смарт\":', round(len(user_cons.query('tariff == \"smart\" and extra_package_revenue>0'))/len(user_cons.query('tariff == \"smart\"')), 2))\n",
    "print('Доля пользователей, оплачивающих услуги сверх тарифного пакета \"Ультра\":', round(len(user_cons.query('tariff == \"ultra\" and extra_package_revenue>0'))/len(user_cons.query('tariff == \"ultra\"')), 2))"
   ]
  },
  {
   "cell_type": "code",
   "execution_count": 59,
   "id": "565d0134",
   "metadata": {},
   "outputs": [
    {
     "name": "stdout",
     "output_type": "stream",
     "text": [
      "Выручка с одного клиента тарифа Smart составляет: 8191.88\n",
      "Выручка с одного клиента тарифа Ultra составляет: 13685.23\n"
     ]
    }
   ],
   "source": [
    "print('Выручка с одного клиента тарифа Smart составляет:', round(user_cons.query('tariff == \"smart\"').total_revenue.sum() / users.query('tariff == \"smart\"').user_id.count(), 2))\n",
    "print('Выручка с одного клиента тарифа Ultra составляет:', round(user_cons.query('tariff == \"ultra\"').total_revenue.sum() / users.query('tariff == \"ultra\"').user_id.count(), 2))\n"
   ]
  },
  {
   "cell_type": "markdown",
   "id": "e27ae164",
   "metadata": {},
   "source": [
    "** Conclusion:**\n",
    "\n",
    "The analysis of customer behaviour shows that the 'Ultra' package more than covers customers' needs in terms of services consumed, especially in terms of calls and messages the balance of unused services is very significant. The share of customers of this tariff package, who pay for services **exceeding those included in the package is only 14%.** These are customers who lack the Internet traffic included in the package.\n",
    "\n",
    "The situation is completely different with the 'Smart' package users. **75% of users of this package pay for services in excess of those included in the package.** And the extra charge for services consumed in excess of the package exceeds the cost of the monthly fee for the tariff package by 2.35 times. With the package price being 550 rubles, the average monthly fee of a user for a Smart tariff plan is 1,289.97 rubles. \n",
    "\n",
    "Although the operator's total annual revenue from \"Smart\" tariff plan is higher (due to a greater number of users of this tariff), the average annual revenue per customer is higher in Ultra tariff (Smart: RUB 8191.88, Ultra: RUB 13685.23). \n",
    "\n",
    "The Smart tariff package is targeted at the mass retail customer segment, while the Ultra package is targeted at the high-margin but narrower business segment. It's classic marketing - all customers are important, so **a separate business product is developed for each customer segment.**"
   ]
  },
  {
   "cell_type": "markdown",
   "id": "426a711a",
   "metadata": {},
   "source": [
    "## Hypothesis testing"
   ]
  },
  {
   "cell_type": "markdown",
   "id": "b59f641b",
   "metadata": {},
   "source": [
    "### Users' average revenue of Ultra and Smart tariff differ"
   ]
  },
  {
   "cell_type": "markdown",
   "id": "e81b69bc",
   "metadata": {},
   "source": [
    "Let us test the hypotheses about the equality of the two General Sets. To do this, we first identify two samples with a compared indicator of average revenue, in terms of their respective tariffs."
   ]
  },
  {
   "cell_type": "code",
   "execution_count": 60,
   "id": "f43fbdcd",
   "metadata": {},
   "outputs": [],
   "source": [
    "# sampling for the Smart tariff\n",
    "\n",
    "smart_revenue = user_cons.query('tariff==\"smart\"').total_revenue\n",
    "\n",
    "# sampling for the Ultra tariff\n",
    "\n",
    "ultra_revenue = user_cons.query('tariff==\"ultra\"').total_revenue"
   ]
  },
  {
   "cell_type": "markdown",
   "id": "afb540c5",
   "metadata": {},
   "source": [
    "We need to test the hypothesis that the average revenue of Ultra and Smart users is different. When testing this hypothesis it should be taken into account that the samples we have taken are independent of each other. Therefore, we will use `ttest_ind()` to test the hypotheses.\n",
    "\n",
    "In addition, the above analysis of client behaviour and the calculated variance values in terms of tariff packages, which are different for each tariff, suggest that when applying the test, the variance difference will need to be specified in the `equal_var = False` parameter of the `ttest_ind()` method.\n",
    "\n",
    "Let us formulate the null hypothesis and the alternative hypothesis, given that the null hypothesis always implies equality of the compared indicators, and the alternative hypothesis, respectively, complete or one-sided inequality:\n",
    "- H0: \"The average revenue of Ultra tariff users is equal to the average revenue of Smart tariff users\".\n",
    "- H1: \"The average revenue of Ultra users is NOT equal to the average revenue of Smart users\".\n",
    "\n",
    "Will assume a critical level of statistical significance `alpha = 0.05`. If `p-value` is less than this, we reject our null hypothesis."
   ]
  },
  {
   "cell_type": "code",
   "execution_count": 61,
   "id": "f03995bc",
   "metadata": {},
   "outputs": [
    {
     "name": "stdout",
     "output_type": "stream",
     "text": [
      "p-value = 4.2606313931076085e-250\n",
      "Отвергаем нулевую гипотезу\n"
     ]
    }
   ],
   "source": [
    "alpha = 0.05\n",
    "\n",
    "results = st.ttest_ind(smart_revenue, ultra_revenue, equal_var = False)\n",
    "\n",
    "print('p-value =', results.pvalue)\n",
    "\n",
    "if results.pvalue < alpha:\n",
    "    print(\"Отвергаем нулевую гипотезу\")\n",
    "    \n",
    "else:\n",
    "    print(\"Не получилось отвергнуть нулевую гипотезу\")"
   ]
  },
  {
   "cell_type": "markdown",
   "id": "db5f26cb",
   "metadata": {},
   "source": [
    "The result of the hypothesis test shows that our null hypothesis is rejected. \n",
    "\n",
    "In other words, **the average revenue of Ultra users is statistically significantly different from the average revenue of Smart users.**"
   ]
  },
  {
   "cell_type": "markdown",
   "id": "7e2f133e",
   "metadata": {},
   "source": [
    "### The average revenue of users from Moscow differs from users from other regions"
   ]
  },
  {
   "cell_type": "markdown",
   "id": "a9e202c1",
   "metadata": {},
   "source": [
    "Let us test the hypotheses of equality between the two General Sets. To do this, we first select two samples with a comparable average revenue figure, broken down by the respective regions: Moscow and the rest of the regions."
   ]
  },
  {
   "cell_type": "code",
   "execution_count": 61,
   "id": "67821aa8",
   "metadata": {},
   "outputs": [
    {
     "data": {
      "text/plain": [
       "array(['Краснодар', 'Москва', 'Стерлитамак', 'Новокузнецк',\n",
       "       'Набережные Челны', 'Ульяновск', 'Челябинск', 'Пермь', 'Тюмень',\n",
       "       'Самара', 'Санкт-Петербург', 'Иваново', 'Чебоксары', 'Омск', 'Уфа',\n",
       "       'Томск', 'Чита', 'Мурманск', 'Петрозаводск', 'Тверь',\n",
       "       'Екатеринбург', 'Махачкала', 'Вологда', 'Череповец', 'Ярославль',\n",
       "       'Сочи', 'Хабаровск', 'Ставрополь', 'Рязань', 'Улан-Удэ', 'Тула',\n",
       "       'Саратов', 'Ростов-на-Дону', 'Казань', 'Иркутск', 'Курск',\n",
       "       'Калуга', 'Якутск', 'Астрахань', 'Химки', 'Владикавказ',\n",
       "       'Волгоград', 'Саранск', 'Ижевск', 'Новосибирск', 'Брянск',\n",
       "       'Тольятти', 'Нижний Тагил', 'Орёл', 'Белгород', 'Воронеж',\n",
       "       'Курган', 'Барнаул', 'Красноярск', 'Архангельск', 'Липецк',\n",
       "       'Кемерово', 'Киров', 'Сургут', 'Пенза', 'Волжский', 'Магнитогорск',\n",
       "       'Нижний Новгород', 'Кострома', 'Владивосток', 'Тамбов', 'Балашиха',\n",
       "       'Севастополь', 'Калининград', 'Оренбург', 'Смоленск',\n",
       "       'Нижневартовск', 'Владимир', 'Новороссийск', 'Грозный', 'Подольск'],\n",
       "      dtype=object)"
      ]
     },
     "execution_count": 61,
     "metadata": {},
     "output_type": "execute_result"
    }
   ],
   "source": [
    "user_cons.city.unique()"
   ]
  },
  {
   "cell_type": "code",
   "execution_count": 62,
   "id": "3a603387",
   "metadata": {},
   "outputs": [],
   "source": [
    "moscow = user_cons.query('city == \"Москва\"').total_revenue\n",
    "not_moscow = user_cons.query('city != \"Москва\"').total_revenue"
   ]
  },
  {
   "cell_type": "markdown",
   "id": "ad07447c",
   "metadata": {},
   "source": [
    "We need to test the hypothesis that the average revenue of users in Moscow is different from the average revenue of users in other regions. When testing this hypothesis, we should take into account that our samples are independent of each other. Therefore, we will use `ttest_ind()` to test the hypotheses.\n",
    "\n",
    "In addition, there is reason to believe that the client behaviour of users in Moscow differs from the client behaviour of users in the regions, due to the differences in the ability to pay. Accordingly, we expect a different variance in each sample. This variance shall be specified in the `equal_var = False` parameter of method `ttest_ind()` as in the previous hypothesis test.\n",
    "\n",
    "Will formulate the null and alternative hypotheses, given that the null hypothesis always implies equality of the compared indicators, and the alternative hypothesis, respectively, a complete, or one-sided inequality:\n",
    "- H0: \"The average revenue of users from Moscow is equal to the average revenue of users from other regions\".\n",
    "- H1: \"The average revenue of users from Moscow is NOT equal to the average revenue of users from other regions\".\n",
    "\n",
    "Will assume a critical level of statistical significance `alpha = 0.05`. If `p-value` is less than it - reject our null hypothesis."
   ]
  },
  {
   "cell_type": "code",
   "execution_count": 63,
   "id": "1947a383",
   "metadata": {},
   "outputs": [
    {
     "name": "stdout",
     "output_type": "stream",
     "text": [
      "p-value = 0.5257376663729298\n",
      "Не получилось отвергнуть нулевую гипотезу\n"
     ]
    }
   ],
   "source": [
    "alpha = 0.05\n",
    "\n",
    "results = st.ttest_ind(moscow, not_moscow, equal_var = False)\n",
    "\n",
    "print('p-value =', results.pvalue)\n",
    "\n",
    "if results.pvalue < alpha:\n",
    "    print(\"Отвергаем нулевую гипотезу\")\n",
    "    \n",
    "else:\n",
    "    print(\"Не получилось отвергнуть нулевую гипотезу\")"
   ]
  },
  {
   "cell_type": "markdown",
   "id": "45e53834",
   "metadata": {},
   "source": [
    "The result of the hypothesis test shows that we were unable to disprove our null hypothesis.\n",
    "\n",
    "In other words, **the average revenue of users from Moscow is not statistically significantly different from the average revenue of users from other regions.** That is, there is no statistically significant difference between the samples."
   ]
  },
  {
   "cell_type": "markdown",
   "id": "816c946e",
   "metadata": {},
   "source": [
    "## Overall conclusion"
   ]
  },
  {
   "cell_type": "markdown",
   "id": "4048f4dd",
   "metadata": {},
   "source": [
    "In the study we analysed tariff packages on a small sample of 500 customers. We analysed the behavioural characteristics of users depending on the selected tariff plan - the duration of calls, the number of messages and the volume of internet traffic consumed. We also assessed the operator's revenues in terms of each tariff package.\n",
    "\n",
    "**Conclusion: user behaviour and revenue**. \n",
    "\n",
    "    Tariff \"Ultra\" - the share of users who pay for services beyond those included in the tariff plan: 14%\n",
    "    Tariff \"Smart\" - share of users paying more than the services included in the tariff plan: 75%.\n",
    "    Ultra tariff - average monthly fee for the tariff plan usage: 2070 RUB (at tariff = 1950 RUB/month)\n",
    "    Tariff \"Smart\" - average monthly fee for using the Tariff Plan: 1289.97 RUB (tariff = 550 RUB/month)\n",
    "    Tariff \"Ultra\" - total annual revenue from tariff \"Ultra\": 2,039,100 RUB.\n",
    "    Tariff Smart - total annual revenue from Smart tariff: 2,875,351 RUB.\n",
    "    Tariff \"Ultra\" - annual average revenue per customer in \"Ultra\" tariff: RUB 13,685.23\n",
    "    Tariff \"Smart\" - annual average revenue per customer in \"Smart\" tariff: 8,191.88 RUB.\n",
    "   \n",
    "---\n",
    "Ultra\" package almost completely covers the needs of customers in consumed services, especially in terms of calls and messages the balance of unclaimed services is very significant. The share of customers in this tariff package who pay for services beyond those included in the package is only 14%. These are customers who buy additional Internet traffic.\n",
    "\n",
    "The situation with Smart tariff package users is completely different. 75% of users of this package pay for services in excess of those included in the package. Moreover, the extra charge for services consumed in excess of the package exceeds the cost of the monthly fee for the tariff package by 2.35 times. The average monthly fee for a Smart tariff plan user is RUB 1,289.97 for a package cost of RUB 550.\n",
    "\n",
    "We can assume that there is great potential for revenue growth among Smart tariff customers, especially those who on average pay more than the average fee of 1,289.97 rubles. The percentage of Smart subscribers who exceed the average monthly fee (more than RUB 1,289.97) is 40.7% of all Smart subscribers. \n",
    "\n",
    "Cumulative annual revenues from Smart tariff are higher than total revenues from Ultra tariff (RUB 2,875,351 vs. RUB 2,039,100). This can be explained by the much higher number of Smart users. \n",
    "However, per customer, average annual revenue per customer in Ultra tariff is higher than per customer in Smart tariff (RUB 13,685.23 vs. RUB 8,191.88). \n",
    "\n",
    "In support of our analytical calculations, we have also confirmed the differences in the average revenue per Smart and Ultra tariff customer by conducting a statistical test.\n",
    "\n",
    "---\n",
    "**<u>Recommendation to the Commercial Department, which is the contracting party for the study:<u/>** \n",
    "\n",
    "The significant number of customers of the Smart tariff package who regularly pay above the average monthly fee (RUB 1,289.97) represents a significant potential for revenue growth. The share of such customers is almost 41%. \n",
    "\n",
    "We recommend reallocating the advertising budget to this target audience and directing advertising activity and marketing efforts to encourage this target segment to switch to the more expensive, but higher volume of included services, tariff \"Ultra\". In addition, the average annual revenue per customer for the Ultra package is higher.\n",
    "\n",
    "In response to Commercial Department's question as to which tariff is better, it should be noted that both packages need to be developed as they are business products targeting different target segments. \"Smart\" is targeted at the mass retail segment, while \"Ultra\" is focused on the high-income but narrower business segment. \n",
    "\n",
    "Also, we would like to point out that we tested and confirmed the hypothesis that **the average revenue of users from Moscow does not differ from average revenue of users in other regions.** Thus, when developing a marketing strategy and promoting products, **we should not make regional differences and adapt rate plans depending on the ability to pay in individual regions.    \n",
    "    \n",
    "\n",
    "--- \n",
    "**>>> Bug Report:**\n",
    "    \n",
    "I would like to thank the data engineers for the quality and correctness of the data. The data was pleasant, easy and most importantly efficient to work with. This allowed us to save a lot of time for preprocessing the data and pay more attention to detailed analysis. Nothing to report in the bug report today :)\n"
   ]
  }
 ],
 "metadata": {
  "ExecuteTimeLog": [
   {
    "duration": 289,
    "start_time": "2022-04-02T10:17:23.117Z"
   },
   {
    "duration": 125,
    "start_time": "2022-04-02T10:18:29.818Z"
   },
   {
    "duration": 375,
    "start_time": "2022-04-02T10:24:28.253Z"
   },
   {
    "duration": 15,
    "start_time": "2022-04-02T10:24:32.608Z"
   },
   {
    "duration": 411,
    "start_time": "2022-04-02T10:56:05.897Z"
   },
   {
    "duration": 9,
    "start_time": "2022-04-02T10:56:07.782Z"
   },
   {
    "duration": 11,
    "start_time": "2022-04-02T10:56:08.986Z"
   },
   {
    "duration": 7,
    "start_time": "2022-04-02T10:58:44.726Z"
   },
   {
    "duration": 9,
    "start_time": "2022-04-02T10:58:45.122Z"
   },
   {
    "duration": 28,
    "start_time": "2022-04-02T10:59:37.174Z"
   },
   {
    "duration": 193,
    "start_time": "2022-04-02T10:59:41.209Z"
   },
   {
    "duration": 225,
    "start_time": "2022-04-02T11:01:17.805Z"
   },
   {
    "duration": 6,
    "start_time": "2022-04-02T11:01:20.532Z"
   },
   {
    "duration": 1707,
    "start_time": "2022-04-02T11:01:22.102Z"
   },
   {
    "duration": 102,
    "start_time": "2022-04-02T11:01:28.002Z"
   },
   {
    "duration": 12,
    "start_time": "2022-04-02T11:02:30.834Z"
   },
   {
    "duration": 1334,
    "start_time": "2022-04-02T11:02:43.328Z"
   },
   {
    "duration": 371,
    "start_time": "2022-04-02T11:02:47.411Z"
   },
   {
    "duration": 13,
    "start_time": "2022-04-02T11:02:48.880Z"
   },
   {
    "duration": 11,
    "start_time": "2022-04-02T11:02:49.862Z"
   },
   {
    "duration": 6,
    "start_time": "2022-04-02T11:02:50.769Z"
   },
   {
    "duration": 10,
    "start_time": "2022-04-02T11:02:52.758Z"
   },
   {
    "duration": 24,
    "start_time": "2022-04-02T11:02:53.927Z"
   },
   {
    "duration": 94,
    "start_time": "2022-04-02T11:02:55.083Z"
   },
   {
    "duration": 10,
    "start_time": "2022-04-02T11:02:57.162Z"
   },
   {
    "duration": 19,
    "start_time": "2022-04-02T11:02:58.326Z"
   },
   {
    "duration": 45,
    "start_time": "2022-04-02T11:02:59.379Z"
   },
   {
    "duration": 13,
    "start_time": "2022-04-02T11:03:01.225Z"
   },
   {
    "duration": 22,
    "start_time": "2022-04-02T11:03:02.505Z"
   },
   {
    "duration": 75,
    "start_time": "2022-04-02T11:03:03.811Z"
   },
   {
    "duration": 8,
    "start_time": "2022-04-02T11:03:05.673Z"
   },
   {
    "duration": 10,
    "start_time": "2022-04-02T11:03:06.768Z"
   },
   {
    "duration": 453,
    "start_time": "2022-04-02T11:03:10.226Z"
   },
   {
    "duration": 27,
    "start_time": "2022-04-02T11:03:12.885Z"
   },
   {
    "duration": 265,
    "start_time": "2022-04-02T11:03:14.587Z"
   },
   {
    "duration": 13,
    "start_time": "2022-04-02T11:03:17.163Z"
   },
   {
    "duration": 132,
    "start_time": "2022-04-02T11:03:18.982Z"
   },
   {
    "duration": 6,
    "start_time": "2022-04-02T11:03:20.187Z"
   },
   {
    "duration": 245,
    "start_time": "2022-04-02T11:03:20.557Z"
   },
   {
    "duration": 27,
    "start_time": "2022-04-02T11:03:22.094Z"
   },
   {
    "duration": 22,
    "start_time": "2022-04-02T11:03:24.513Z"
   },
   {
    "duration": 47,
    "start_time": "2022-04-02T11:03:48.132Z"
   },
   {
    "duration": 19,
    "start_time": "2022-04-02T11:04:00.996Z"
   },
   {
    "duration": 12,
    "start_time": "2022-04-02T11:04:01.788Z"
   },
   {
    "duration": 31,
    "start_time": "2022-04-02T11:04:03.101Z"
   },
   {
    "duration": 18,
    "start_time": "2022-04-02T11:04:05.653Z"
   },
   {
    "duration": 12,
    "start_time": "2022-04-02T11:04:07.617Z"
   },
   {
    "duration": 26,
    "start_time": "2022-04-02T11:04:10.726Z"
   },
   {
    "duration": 40,
    "start_time": "2022-04-02T11:05:37.816Z"
   },
   {
    "duration": 195,
    "start_time": "2022-04-02T11:06:55.124Z"
   },
   {
    "duration": 5,
    "start_time": "2022-04-02T11:08:43.151Z"
   },
   {
    "duration": 101,
    "start_time": "2022-04-02T11:08:45.586Z"
   },
   {
    "duration": 7,
    "start_time": "2022-04-02T11:08:48.295Z"
   },
   {
    "duration": 25,
    "start_time": "2022-04-02T11:08:48.936Z"
   },
   {
    "duration": 28,
    "start_time": "2022-04-02T11:09:01.104Z"
   },
   {
    "duration": 25,
    "start_time": "2022-04-02T11:09:10.523Z"
   },
   {
    "duration": 5,
    "start_time": "2022-04-02T11:10:22.563Z"
   },
   {
    "duration": 27,
    "start_time": "2022-04-02T11:11:45.830Z"
   },
   {
    "duration": 4,
    "start_time": "2022-04-02T11:12:22.685Z"
   },
   {
    "duration": 11,
    "start_time": "2022-04-02T11:12:40.838Z"
   },
   {
    "duration": 38,
    "start_time": "2022-04-02T11:12:48.550Z"
   },
   {
    "duration": 5,
    "start_time": "2022-04-02T11:12:52.185Z"
   },
   {
    "duration": 9,
    "start_time": "2022-04-02T11:12:53.184Z"
   },
   {
    "duration": 4,
    "start_time": "2022-04-02T11:12:55.667Z"
   },
   {
    "duration": 7,
    "start_time": "2022-04-02T11:12:56.659Z"
   },
   {
    "duration": 5,
    "start_time": "2022-04-02T11:12:58.573Z"
   },
   {
    "duration": 100,
    "start_time": "2022-04-02T11:13:01.381Z"
   },
   {
    "duration": 5,
    "start_time": "2022-04-02T11:13:01.483Z"
   },
   {
    "duration": 27,
    "start_time": "2022-04-02T11:13:01.582Z"
   },
   {
    "duration": 23,
    "start_time": "2022-04-02T11:13:10.093Z"
   },
   {
    "duration": 1442,
    "start_time": "2022-04-02T11:13:35.663Z"
   },
   {
    "duration": 390,
    "start_time": "2022-04-02T11:13:40.707Z"
   },
   {
    "duration": 13,
    "start_time": "2022-04-02T11:13:41.439Z"
   },
   {
    "duration": 11,
    "start_time": "2022-04-02T11:13:41.727Z"
   },
   {
    "duration": 6,
    "start_time": "2022-04-02T11:13:41.998Z"
   },
   {
    "duration": 11,
    "start_time": "2022-04-02T11:13:43.045Z"
   },
   {
    "duration": 24,
    "start_time": "2022-04-02T11:13:43.255Z"
   },
   {
    "duration": 100,
    "start_time": "2022-04-02T11:13:43.559Z"
   },
   {
    "duration": 9,
    "start_time": "2022-04-02T11:13:45.345Z"
   },
   {
    "duration": 18,
    "start_time": "2022-04-02T11:13:45.600Z"
   },
   {
    "duration": 46,
    "start_time": "2022-04-02T11:13:45.837Z"
   },
   {
    "duration": 12,
    "start_time": "2022-04-02T11:13:46.834Z"
   },
   {
    "duration": 22,
    "start_time": "2022-04-02T11:13:48.092Z"
   },
   {
    "duration": 65,
    "start_time": "2022-04-02T11:13:48.116Z"
   },
   {
    "duration": 25,
    "start_time": "2022-04-02T11:13:48.183Z"
   },
   {
    "duration": 10,
    "start_time": "2022-04-02T11:13:48.295Z"
   },
   {
    "duration": 320,
    "start_time": "2022-04-02T11:13:50.333Z"
   },
   {
    "duration": 33,
    "start_time": "2022-04-02T11:13:51.599Z"
   },
   {
    "duration": 229,
    "start_time": "2022-04-02T11:13:52.505Z"
   },
   {
    "duration": 13,
    "start_time": "2022-04-02T11:13:53.409Z"
   },
   {
    "duration": 102,
    "start_time": "2022-04-02T11:13:54.213Z"
   },
   {
    "duration": 5,
    "start_time": "2022-04-02T11:14:00.042Z"
   },
   {
    "duration": 164,
    "start_time": "2022-04-02T11:14:00.688Z"
   },
   {
    "duration": 24,
    "start_time": "2022-04-02T11:14:01.554Z"
   },
   {
    "duration": 23,
    "start_time": "2022-04-02T11:14:02.920Z"
   },
   {
    "duration": 13,
    "start_time": "2022-04-02T11:14:03.193Z"
   },
   {
    "duration": 49,
    "start_time": "2022-04-02T11:14:03.928Z"
   },
   {
    "duration": 15,
    "start_time": "2022-04-02T11:14:04.637Z"
   },
   {
    "duration": 13,
    "start_time": "2022-04-02T11:14:04.909Z"
   },
   {
    "duration": 29,
    "start_time": "2022-04-02T11:14:05.427Z"
   },
   {
    "duration": 18,
    "start_time": "2022-04-02T11:14:06.313Z"
   },
   {
    "duration": 13,
    "start_time": "2022-04-02T11:14:06.599Z"
   },
   {
    "duration": 27,
    "start_time": "2022-04-02T11:14:07.187Z"
   },
   {
    "duration": 11,
    "start_time": "2022-04-02T11:14:08.077Z"
   },
   {
    "duration": 39,
    "start_time": "2022-04-02T11:14:09.440Z"
   },
   {
    "duration": 4,
    "start_time": "2022-04-02T11:14:10.969Z"
   },
   {
    "duration": 9,
    "start_time": "2022-04-02T11:14:12.207Z"
   },
   {
    "duration": 5,
    "start_time": "2022-04-02T11:14:12.876Z"
   },
   {
    "duration": 9,
    "start_time": "2022-04-02T11:14:13.405Z"
   },
   {
    "duration": 7,
    "start_time": "2022-04-02T11:14:13.947Z"
   },
   {
    "duration": 107,
    "start_time": "2022-04-02T11:14:14.789Z"
   },
   {
    "duration": 7,
    "start_time": "2022-04-02T11:14:15.468Z"
   },
   {
    "duration": 22,
    "start_time": "2022-04-02T11:14:15.784Z"
   },
   {
    "duration": 30,
    "start_time": "2022-04-02T11:14:26.903Z"
   },
   {
    "duration": 47,
    "start_time": "2022-04-02T11:15:10.034Z"
   },
   {
    "duration": 4,
    "start_time": "2022-04-02T11:15:28.945Z"
   },
   {
    "duration": 12,
    "start_time": "2022-04-02T11:16:42.361Z"
   },
   {
    "duration": 11,
    "start_time": "2022-04-02T11:16:47.424Z"
   },
   {
    "duration": 374,
    "start_time": "2022-04-02T11:16:49.172Z"
   },
   {
    "duration": 10,
    "start_time": "2022-04-02T11:16:53.305Z"
   },
   {
    "duration": 10,
    "start_time": "2022-04-02T11:16:55.102Z"
   },
   {
    "duration": 361,
    "start_time": "2022-04-02T11:16:56.411Z"
   },
   {
    "duration": 16,
    "start_time": "2022-04-02T11:17:03.402Z"
   },
   {
    "duration": 12,
    "start_time": "2022-04-02T11:18:42.248Z"
   },
   {
    "duration": 394,
    "start_time": "2022-04-02T11:18:44.311Z"
   },
   {
    "duration": 16,
    "start_time": "2022-04-02T11:19:34.916Z"
   },
   {
    "duration": 16,
    "start_time": "2022-04-02T11:19:35.608Z"
   },
   {
    "duration": 9,
    "start_time": "2022-04-02T11:19:42.318Z"
   },
   {
    "duration": 5,
    "start_time": "2022-04-02T11:19:57.038Z"
   },
   {
    "duration": 4,
    "start_time": "2022-04-02T11:22:58.106Z"
   },
   {
    "duration": 11,
    "start_time": "2022-04-02T11:22:59.253Z"
   },
   {
    "duration": 5,
    "start_time": "2022-04-02T11:23:35.182Z"
   },
   {
    "duration": 1752,
    "start_time": "2022-04-02T14:35:25.559Z"
   },
   {
    "duration": 576,
    "start_time": "2022-04-02T14:35:31.015Z"
   },
   {
    "duration": 24,
    "start_time": "2022-04-02T14:36:09.564Z"
   },
   {
    "duration": 19,
    "start_time": "2022-04-02T14:36:17.762Z"
   },
   {
    "duration": 8,
    "start_time": "2022-04-02T14:36:21.838Z"
   },
   {
    "duration": 17,
    "start_time": "2022-04-02T14:36:36.122Z"
   },
   {
    "duration": 52,
    "start_time": "2022-04-02T19:20:46.856Z"
   },
   {
    "duration": 1365,
    "start_time": "2022-04-02T19:20:54.768Z"
   },
   {
    "duration": 506,
    "start_time": "2022-04-02T19:21:00.568Z"
   },
   {
    "duration": 15,
    "start_time": "2022-04-02T19:21:05.281Z"
   },
   {
    "duration": 519,
    "start_time": "2022-04-02T19:21:35.522Z"
   },
   {
    "duration": 11,
    "start_time": "2022-04-02T19:21:37.988Z"
   },
   {
    "duration": 1257,
    "start_time": "2022-04-02T19:21:59.002Z"
   },
   {
    "duration": 540,
    "start_time": "2022-04-02T19:22:00.261Z"
   },
   {
    "duration": 15,
    "start_time": "2022-04-02T19:22:00.803Z"
   },
   {
    "duration": 15,
    "start_time": "2022-04-02T19:22:00.820Z"
   },
   {
    "duration": 11,
    "start_time": "2022-04-02T19:22:00.837Z"
   },
   {
    "duration": 12,
    "start_time": "2022-04-02T19:22:00.850Z"
   },
   {
    "duration": 30,
    "start_time": "2022-04-02T19:22:00.863Z"
   },
   {
    "duration": 140,
    "start_time": "2022-04-02T19:22:00.895Z"
   },
   {
    "duration": 12,
    "start_time": "2022-04-02T19:22:01.037Z"
   },
   {
    "duration": 24,
    "start_time": "2022-04-02T19:22:01.053Z"
   },
   {
    "duration": 80,
    "start_time": "2022-04-02T19:22:01.079Z"
   },
   {
    "duration": 15,
    "start_time": "2022-04-02T19:22:01.161Z"
   },
   {
    "duration": 29,
    "start_time": "2022-04-02T19:22:01.178Z"
   },
   {
    "duration": 99,
    "start_time": "2022-04-02T19:22:01.209Z"
   },
   {
    "duration": 9,
    "start_time": "2022-04-02T19:22:01.310Z"
   },
   {
    "duration": 11,
    "start_time": "2022-04-02T19:22:01.333Z"
   },
   {
    "duration": 371,
    "start_time": "2022-04-02T19:22:01.346Z"
   },
   {
    "duration": 37,
    "start_time": "2022-04-02T19:22:01.719Z"
   },
   {
    "duration": 297,
    "start_time": "2022-04-02T19:22:01.757Z"
   },
   {
    "duration": 15,
    "start_time": "2022-04-02T19:22:02.056Z"
   },
   {
    "duration": 159,
    "start_time": "2022-04-02T19:22:02.073Z"
   },
   {
    "duration": 6,
    "start_time": "2022-04-02T19:22:02.234Z"
   },
   {
    "duration": 201,
    "start_time": "2022-04-02T19:22:02.242Z"
   },
   {
    "duration": 32,
    "start_time": "2022-04-02T19:22:02.445Z"
   },
   {
    "duration": 24,
    "start_time": "2022-04-02T19:22:02.479Z"
   },
   {
    "duration": 34,
    "start_time": "2022-04-02T19:22:02.505Z"
   },
   {
    "duration": 66,
    "start_time": "2022-04-02T19:22:02.540Z"
   },
   {
    "duration": 34,
    "start_time": "2022-04-02T19:22:02.610Z"
   },
   {
    "duration": 14,
    "start_time": "2022-04-02T19:22:02.645Z"
   },
   {
    "duration": 39,
    "start_time": "2022-04-02T19:22:02.661Z"
   },
   {
    "duration": 44,
    "start_time": "2022-04-02T19:22:02.701Z"
   },
   {
    "duration": 14,
    "start_time": "2022-04-02T19:22:02.747Z"
   },
   {
    "duration": 35,
    "start_time": "2022-04-02T19:22:02.763Z"
   },
   {
    "duration": 40,
    "start_time": "2022-04-02T19:22:02.799Z"
   },
   {
    "duration": 54,
    "start_time": "2022-04-02T19:22:02.841Z"
   },
   {
    "duration": 4,
    "start_time": "2022-04-02T19:22:02.897Z"
   },
   {
    "duration": 29,
    "start_time": "2022-04-02T19:22:02.903Z"
   },
   {
    "duration": 6,
    "start_time": "2022-04-02T19:22:02.934Z"
   },
   {
    "duration": 12,
    "start_time": "2022-04-02T19:22:02.941Z"
   },
   {
    "duration": 5,
    "start_time": "2022-04-02T19:22:02.955Z"
   },
   {
    "duration": 143,
    "start_time": "2022-04-02T19:22:02.962Z"
   },
   {
    "duration": 6,
    "start_time": "2022-04-02T19:22:03.107Z"
   },
   {
    "duration": 37,
    "start_time": "2022-04-02T19:22:03.115Z"
   },
   {
    "duration": 49,
    "start_time": "2022-04-02T19:22:03.153Z"
   },
   {
    "duration": 29,
    "start_time": "2022-04-02T19:22:03.203Z"
   },
   {
    "duration": 477,
    "start_time": "2022-04-02T19:22:03.234Z"
   },
   {
    "duration": 20,
    "start_time": "2022-04-02T19:22:03.713Z"
   },
   {
    "duration": 12,
    "start_time": "2022-04-02T19:22:03.735Z"
   },
   {
    "duration": 383,
    "start_time": "2022-04-02T19:22:03.748Z"
   },
   {
    "duration": 10,
    "start_time": "2022-04-02T19:22:04.133Z"
   },
   {
    "duration": 14,
    "start_time": "2022-04-02T19:22:04.144Z"
   },
   {
    "duration": 481,
    "start_time": "2022-04-02T19:22:04.159Z"
   },
   {
    "duration": 16,
    "start_time": "2022-04-02T19:22:04.641Z"
   },
   {
    "duration": 10,
    "start_time": "2022-04-02T19:22:04.659Z"
   },
   {
    "duration": 507,
    "start_time": "2022-04-02T19:22:04.670Z"
   },
   {
    "duration": 15,
    "start_time": "2022-04-02T19:22:05.179Z"
   },
   {
    "duration": 36,
    "start_time": "2022-04-02T19:22:05.196Z"
   },
   {
    "duration": 9,
    "start_time": "2022-04-02T19:22:05.234Z"
   },
   {
    "duration": 7,
    "start_time": "2022-04-02T19:22:05.245Z"
   },
   {
    "duration": 14,
    "start_time": "2022-04-02T19:22:05.253Z"
   },
   {
    "duration": 13,
    "start_time": "2022-04-02T19:22:05.269Z"
   },
   {
    "duration": 13,
    "start_time": "2022-04-02T19:22:05.284Z"
   },
   {
    "duration": 12,
    "start_time": "2022-04-02T19:22:35.391Z"
   },
   {
    "duration": 3,
    "start_time": "2022-04-02T20:25:38.755Z"
   },
   {
    "duration": 583,
    "start_time": "2022-04-02T20:25:38.760Z"
   },
   {
    "duration": 11,
    "start_time": "2022-04-02T20:25:39.345Z"
   },
   {
    "duration": 13,
    "start_time": "2022-04-02T20:25:39.358Z"
   },
   {
    "duration": 7,
    "start_time": "2022-04-02T20:25:39.374Z"
   },
   {
    "duration": 13,
    "start_time": "2022-04-02T20:25:39.383Z"
   },
   {
    "duration": 42,
    "start_time": "2022-04-02T20:25:39.397Z"
   },
   {
    "duration": 125,
    "start_time": "2022-04-02T20:25:39.440Z"
   },
   {
    "duration": 10,
    "start_time": "2022-04-02T20:25:39.567Z"
   },
   {
    "duration": 22,
    "start_time": "2022-04-02T20:25:39.579Z"
   },
   {
    "duration": 69,
    "start_time": "2022-04-02T20:25:39.604Z"
   },
   {
    "duration": 13,
    "start_time": "2022-04-02T20:25:39.675Z"
   },
   {
    "duration": 42,
    "start_time": "2022-04-02T20:25:39.690Z"
   },
   {
    "duration": 70,
    "start_time": "2022-04-02T20:25:39.734Z"
   },
   {
    "duration": 9,
    "start_time": "2022-04-02T20:25:39.806Z"
   },
   {
    "duration": 22,
    "start_time": "2022-04-02T20:25:39.816Z"
   },
   {
    "duration": 360,
    "start_time": "2022-04-02T20:25:39.840Z"
   },
   {
    "duration": 37,
    "start_time": "2022-04-02T20:25:40.202Z"
   },
   {
    "duration": 259,
    "start_time": "2022-04-02T20:25:40.241Z"
   },
   {
    "duration": 15,
    "start_time": "2022-04-02T20:26:39.075Z"
   },
   {
    "duration": 14,
    "start_time": "2022-04-02T20:33:40.933Z"
   },
   {
    "duration": 9,
    "start_time": "2022-04-02T20:35:38.076Z"
   },
   {
    "duration": 14,
    "start_time": "2022-04-02T20:35:41.404Z"
   },
   {
    "duration": 127,
    "start_time": "2022-04-02T20:35:58.364Z"
   },
   {
    "duration": 1656,
    "start_time": "2022-04-03T06:15:33.518Z"
   },
   {
    "duration": 510,
    "start_time": "2022-04-03T06:15:35.176Z"
   },
   {
    "duration": 20,
    "start_time": "2022-04-03T06:15:35.688Z"
   },
   {
    "duration": 21,
    "start_time": "2022-04-03T06:15:35.711Z"
   },
   {
    "duration": 9,
    "start_time": "2022-04-03T06:15:35.734Z"
   },
   {
    "duration": 41,
    "start_time": "2022-04-03T06:15:35.746Z"
   },
   {
    "duration": 30,
    "start_time": "2022-04-03T06:15:35.789Z"
   },
   {
    "duration": 152,
    "start_time": "2022-04-03T06:15:35.821Z"
   },
   {
    "duration": 18,
    "start_time": "2022-04-03T06:15:35.975Z"
   },
   {
    "duration": 31,
    "start_time": "2022-04-03T06:15:35.996Z"
   },
   {
    "duration": 81,
    "start_time": "2022-04-03T06:15:36.029Z"
   },
   {
    "duration": 19,
    "start_time": "2022-04-03T06:15:36.112Z"
   },
   {
    "duration": 32,
    "start_time": "2022-04-03T06:15:36.132Z"
   },
   {
    "duration": 114,
    "start_time": "2022-04-03T06:15:36.183Z"
   },
   {
    "duration": 11,
    "start_time": "2022-04-03T06:15:36.299Z"
   },
   {
    "duration": 22,
    "start_time": "2022-04-03T06:15:36.312Z"
   },
   {
    "duration": 448,
    "start_time": "2022-04-03T06:15:36.336Z"
   },
   {
    "duration": 43,
    "start_time": "2022-04-03T06:15:36.786Z"
   },
   {
    "duration": 267,
    "start_time": "2022-04-03T06:15:36.831Z"
   },
   {
    "duration": 16,
    "start_time": "2022-04-03T06:15:37.101Z"
   },
   {
    "duration": 138,
    "start_time": "2022-04-03T06:15:37.119Z"
   },
   {
    "duration": 9,
    "start_time": "2022-04-03T06:15:37.259Z"
   },
   {
    "duration": 169,
    "start_time": "2022-04-03T06:15:37.283Z"
   },
   {
    "duration": 46,
    "start_time": "2022-04-03T06:15:37.454Z"
   },
   {
    "duration": 28,
    "start_time": "2022-04-03T06:15:37.502Z"
   },
   {
    "duration": 20,
    "start_time": "2022-04-03T06:15:37.532Z"
   },
   {
    "duration": 83,
    "start_time": "2022-04-03T06:15:37.554Z"
   },
   {
    "duration": 19,
    "start_time": "2022-04-03T06:15:37.643Z"
   },
   {
    "duration": 18,
    "start_time": "2022-04-03T06:15:37.682Z"
   },
   {
    "duration": 49,
    "start_time": "2022-04-03T06:15:37.703Z"
   },
   {
    "duration": 38,
    "start_time": "2022-04-03T06:15:37.754Z"
   },
   {
    "duration": 18,
    "start_time": "2022-04-03T06:15:37.795Z"
   },
   {
    "duration": 42,
    "start_time": "2022-04-03T06:15:37.815Z"
   },
   {
    "duration": 17,
    "start_time": "2022-04-03T06:15:37.881Z"
   },
   {
    "duration": 83,
    "start_time": "2022-04-03T06:15:37.901Z"
   },
   {
    "duration": 7,
    "start_time": "2022-04-03T06:15:37.986Z"
   },
   {
    "duration": 15,
    "start_time": "2022-04-03T06:15:37.996Z"
   },
   {
    "duration": 17,
    "start_time": "2022-04-03T06:15:38.013Z"
   },
   {
    "duration": 15,
    "start_time": "2022-04-03T06:15:38.032Z"
   },
   {
    "duration": 8,
    "start_time": "2022-04-03T06:15:38.049Z"
   },
   {
    "duration": 182,
    "start_time": "2022-04-03T06:15:38.060Z"
   },
   {
    "duration": 10,
    "start_time": "2022-04-03T06:15:38.244Z"
   },
   {
    "duration": 52,
    "start_time": "2022-04-03T06:15:38.257Z"
   },
   {
    "duration": 78,
    "start_time": "2022-04-03T06:15:38.312Z"
   },
   {
    "duration": 6,
    "start_time": "2022-04-03T06:15:38.393Z"
   },
   {
    "duration": 675,
    "start_time": "2022-04-03T06:15:38.402Z"
   },
   {
    "duration": 15,
    "start_time": "2022-04-03T06:15:39.083Z"
   },
   {
    "duration": 17,
    "start_time": "2022-04-03T06:15:39.101Z"
   },
   {
    "duration": 646,
    "start_time": "2022-04-03T06:15:39.121Z"
   },
   {
    "duration": 22,
    "start_time": "2022-04-03T06:15:39.770Z"
   },
   {
    "duration": 15,
    "start_time": "2022-04-03T06:15:39.795Z"
   },
   {
    "duration": 602,
    "start_time": "2022-04-03T06:15:39.813Z"
   },
   {
    "duration": 23,
    "start_time": "2022-04-03T06:15:40.418Z"
   },
   {
    "duration": 39,
    "start_time": "2022-04-03T06:15:40.443Z"
   },
   {
    "duration": 645,
    "start_time": "2022-04-03T06:15:40.484Z"
   },
   {
    "duration": 22,
    "start_time": "2022-04-03T06:15:41.132Z"
   },
   {
    "duration": 40,
    "start_time": "2022-04-03T06:15:41.157Z"
   },
   {
    "duration": 18,
    "start_time": "2022-04-03T06:15:41.199Z"
   },
   {
    "duration": 18,
    "start_time": "2022-04-03T06:15:41.219Z"
   },
   {
    "duration": 22,
    "start_time": "2022-04-03T06:15:41.240Z"
   },
   {
    "duration": 19,
    "start_time": "2022-04-03T06:15:41.264Z"
   },
   {
    "duration": 18,
    "start_time": "2022-04-03T06:15:41.285Z"
   },
   {
    "duration": 5,
    "start_time": "2022-04-03T06:21:55.966Z"
   },
   {
    "duration": 6,
    "start_time": "2022-04-03T06:22:14.745Z"
   },
   {
    "duration": 7,
    "start_time": "2022-04-03T06:24:19.978Z"
   },
   {
    "duration": 9,
    "start_time": "2022-04-03T06:26:02.985Z"
   },
   {
    "duration": 10,
    "start_time": "2022-04-03T06:27:35.751Z"
   },
   {
    "duration": 17,
    "start_time": "2022-04-03T06:28:12.405Z"
   },
   {
    "duration": 10,
    "start_time": "2022-04-03T06:34:30.596Z"
   },
   {
    "duration": 4,
    "start_time": "2022-04-03T06:34:54.129Z"
   },
   {
    "duration": 589,
    "start_time": "2022-04-03T06:34:54.139Z"
   },
   {
    "duration": 14,
    "start_time": "2022-04-03T06:34:54.730Z"
   },
   {
    "duration": 18,
    "start_time": "2022-04-03T06:34:54.746Z"
   },
   {
    "duration": 17,
    "start_time": "2022-04-03T06:34:54.766Z"
   },
   {
    "duration": 16,
    "start_time": "2022-04-03T06:34:54.785Z"
   },
   {
    "duration": 32,
    "start_time": "2022-04-03T06:34:54.803Z"
   },
   {
    "duration": 178,
    "start_time": "2022-04-03T06:34:54.837Z"
   },
   {
    "duration": 14,
    "start_time": "2022-04-03T06:34:55.017Z"
   },
   {
    "duration": 26,
    "start_time": "2022-04-03T06:34:55.033Z"
   },
   {
    "duration": 58,
    "start_time": "2022-04-03T06:34:55.083Z"
   },
   {
    "duration": 39,
    "start_time": "2022-04-03T06:34:55.143Z"
   },
   {
    "duration": 27,
    "start_time": "2022-04-03T06:34:55.184Z"
   },
   {
    "duration": 113,
    "start_time": "2022-04-03T06:34:55.214Z"
   },
   {
    "duration": 11,
    "start_time": "2022-04-03T06:34:55.329Z"
   },
   {
    "duration": 40,
    "start_time": "2022-04-03T06:34:55.343Z"
   },
   {
    "duration": 450,
    "start_time": "2022-04-03T06:34:55.386Z"
   },
   {
    "duration": 49,
    "start_time": "2022-04-03T06:34:55.839Z"
   },
   {
    "duration": 277,
    "start_time": "2022-04-03T06:34:55.890Z"
   },
   {
    "duration": 20,
    "start_time": "2022-04-03T06:34:56.169Z"
   },
   {
    "duration": 132,
    "start_time": "2022-04-03T06:34:56.192Z"
   },
   {
    "duration": 7,
    "start_time": "2022-04-03T06:34:56.327Z"
   },
   {
    "duration": 179,
    "start_time": "2022-04-03T06:34:56.336Z"
   },
   {
    "duration": 37,
    "start_time": "2022-04-03T06:34:56.518Z"
   },
   {
    "duration": 45,
    "start_time": "2022-04-03T06:34:56.557Z"
   },
   {
    "duration": 20,
    "start_time": "2022-04-03T06:34:56.605Z"
   },
   {
    "duration": 87,
    "start_time": "2022-04-03T06:34:56.627Z"
   },
   {
    "duration": 20,
    "start_time": "2022-04-03T06:34:56.716Z"
   },
   {
    "duration": 17,
    "start_time": "2022-04-03T06:34:56.740Z"
   },
   {
    "duration": 65,
    "start_time": "2022-04-03T06:34:56.759Z"
   },
   {
    "duration": 22,
    "start_time": "2022-04-03T06:34:56.826Z"
   },
   {
    "duration": 39,
    "start_time": "2022-04-03T06:34:56.850Z"
   },
   {
    "duration": 38,
    "start_time": "2022-04-03T06:34:56.891Z"
   },
   {
    "duration": 15,
    "start_time": "2022-04-03T06:34:56.931Z"
   },
   {
    "duration": 85,
    "start_time": "2022-04-03T06:34:56.948Z"
   },
   {
    "duration": 10,
    "start_time": "2022-04-03T06:34:57.035Z"
   },
   {
    "duration": 8,
    "start_time": "2022-04-03T06:34:57.048Z"
   },
   {
    "duration": 11,
    "start_time": "2022-04-03T06:35:01.876Z"
   },
   {
    "duration": 1488,
    "start_time": "2022-04-03T07:20:26.190Z"
   },
   {
    "duration": 533,
    "start_time": "2022-04-03T07:20:27.683Z"
   },
   {
    "duration": 22,
    "start_time": "2022-04-03T07:20:28.218Z"
   },
   {
    "duration": 16,
    "start_time": "2022-04-03T07:20:28.243Z"
   },
   {
    "duration": 10,
    "start_time": "2022-04-03T07:20:28.261Z"
   },
   {
    "duration": 15,
    "start_time": "2022-04-03T07:20:28.283Z"
   },
   {
    "duration": 34,
    "start_time": "2022-04-03T07:20:28.301Z"
   },
   {
    "duration": 178,
    "start_time": "2022-04-03T07:20:28.338Z"
   },
   {
    "duration": 17,
    "start_time": "2022-04-03T07:20:28.518Z"
   },
   {
    "duration": 51,
    "start_time": "2022-04-03T07:20:28.540Z"
   },
   {
    "duration": 67,
    "start_time": "2022-04-03T07:20:28.594Z"
   },
   {
    "duration": 37,
    "start_time": "2022-04-03T07:20:28.664Z"
   },
   {
    "duration": 29,
    "start_time": "2022-04-03T07:20:28.703Z"
   },
   {
    "duration": 135,
    "start_time": "2022-04-03T07:20:28.734Z"
   },
   {
    "duration": 20,
    "start_time": "2022-04-03T07:20:28.872Z"
   },
   {
    "duration": 16,
    "start_time": "2022-04-03T07:20:28.894Z"
   },
   {
    "duration": 481,
    "start_time": "2022-04-03T07:20:28.912Z"
   },
   {
    "duration": 44,
    "start_time": "2022-04-03T07:20:29.395Z"
   },
   {
    "duration": 314,
    "start_time": "2022-04-03T07:20:29.441Z"
   },
   {
    "duration": 31,
    "start_time": "2022-04-03T07:20:29.757Z"
   },
   {
    "duration": 146,
    "start_time": "2022-04-03T07:20:29.790Z"
   },
   {
    "duration": 8,
    "start_time": "2022-04-03T07:20:29.938Z"
   },
   {
    "duration": 208,
    "start_time": "2022-04-03T07:20:29.948Z"
   },
   {
    "duration": 51,
    "start_time": "2022-04-03T07:20:30.159Z"
   },
   {
    "duration": 29,
    "start_time": "2022-04-03T07:20:30.213Z"
   },
   {
    "duration": 40,
    "start_time": "2022-04-03T07:20:30.245Z"
   },
   {
    "duration": 70,
    "start_time": "2022-04-03T07:20:30.287Z"
   },
   {
    "duration": 38,
    "start_time": "2022-04-03T07:20:30.362Z"
   },
   {
    "duration": 19,
    "start_time": "2022-04-03T07:20:30.403Z"
   },
   {
    "duration": 71,
    "start_time": "2022-04-03T07:20:30.424Z"
   },
   {
    "duration": 24,
    "start_time": "2022-04-03T07:20:30.497Z"
   },
   {
    "duration": 19,
    "start_time": "2022-04-03T07:20:30.523Z"
   },
   {
    "duration": 67,
    "start_time": "2022-04-03T07:20:30.545Z"
   },
   {
    "duration": 16,
    "start_time": "2022-04-03T07:20:30.615Z"
   },
   {
    "duration": 87,
    "start_time": "2022-04-03T07:20:30.633Z"
   },
   {
    "duration": 11,
    "start_time": "2022-04-03T07:20:30.723Z"
   },
   {
    "duration": 9,
    "start_time": "2022-04-03T07:20:30.736Z"
   },
   {
    "duration": 35,
    "start_time": "2022-04-03T07:20:30.747Z"
   },
   {
    "duration": 9,
    "start_time": "2022-04-03T07:20:30.784Z"
   },
   {
    "duration": 14,
    "start_time": "2022-04-03T07:20:30.795Z"
   },
   {
    "duration": 9,
    "start_time": "2022-04-03T07:20:30.811Z"
   },
   {
    "duration": 203,
    "start_time": "2022-04-03T07:20:30.822Z"
   },
   {
    "duration": 9,
    "start_time": "2022-04-03T07:20:31.027Z"
   },
   {
    "duration": 63,
    "start_time": "2022-04-03T07:20:31.039Z"
   },
   {
    "duration": 81,
    "start_time": "2022-04-03T07:20:31.105Z"
   },
   {
    "duration": 8,
    "start_time": "2022-04-03T07:20:31.189Z"
   },
   {
    "duration": 999,
    "start_time": "2022-04-03T07:20:31.200Z"
   },
   {
    "duration": 22,
    "start_time": "2022-04-03T07:20:32.202Z"
   },
   {
    "duration": 20,
    "start_time": "2022-04-03T07:20:32.227Z"
   },
   {
    "duration": 833,
    "start_time": "2022-04-03T07:20:32.249Z"
   },
   {
    "duration": 21,
    "start_time": "2022-04-03T07:20:33.085Z"
   },
   {
    "duration": 21,
    "start_time": "2022-04-03T07:20:33.109Z"
   },
   {
    "duration": 914,
    "start_time": "2022-04-03T07:20:33.133Z"
   },
   {
    "duration": 44,
    "start_time": "2022-04-03T07:20:34.050Z"
   },
   {
    "duration": 14,
    "start_time": "2022-04-03T07:20:34.097Z"
   },
   {
    "duration": 642,
    "start_time": "2022-04-03T07:20:34.113Z"
   },
   {
    "duration": 31,
    "start_time": "2022-04-03T07:20:34.758Z"
   },
   {
    "duration": 27,
    "start_time": "2022-04-03T07:20:34.792Z"
   },
   {
    "duration": 12,
    "start_time": "2022-04-03T07:20:34.821Z"
   },
   {
    "duration": 13,
    "start_time": "2022-04-03T07:20:34.835Z"
   },
   {
    "duration": 34,
    "start_time": "2022-04-03T07:20:34.850Z"
   },
   {
    "duration": 15,
    "start_time": "2022-04-03T07:20:34.886Z"
   },
   {
    "duration": 25,
    "start_time": "2022-04-03T07:20:34.904Z"
   },
   {
    "duration": 77,
    "start_time": "2022-04-03T12:06:28.676Z"
   },
   {
    "duration": 48,
    "start_time": "2022-04-03T12:07:29.685Z"
   },
   {
    "duration": 2310,
    "start_time": "2022-04-03T12:07:33.384Z"
   },
   {
    "duration": 380,
    "start_time": "2022-04-03T12:07:35.696Z"
   },
   {
    "duration": 13,
    "start_time": "2022-04-03T12:07:37.161Z"
   },
   {
    "duration": 11,
    "start_time": "2022-04-03T12:07:38.014Z"
   },
   {
    "duration": 6,
    "start_time": "2022-04-03T12:07:38.344Z"
   },
   {
    "duration": 11,
    "start_time": "2022-04-03T12:07:40.045Z"
   },
   {
    "duration": 26,
    "start_time": "2022-04-03T12:07:41.280Z"
   },
   {
    "duration": 96,
    "start_time": "2022-04-03T12:07:42.535Z"
   },
   {
    "duration": 10,
    "start_time": "2022-04-03T12:07:44.613Z"
   },
   {
    "duration": 18,
    "start_time": "2022-04-03T12:07:44.842Z"
   },
   {
    "duration": 47,
    "start_time": "2022-04-03T12:07:45.665Z"
   },
   {
    "duration": 13,
    "start_time": "2022-04-03T12:07:47.320Z"
   },
   {
    "duration": 20,
    "start_time": "2022-04-03T12:07:48.220Z"
   },
   {
    "duration": 69,
    "start_time": "2022-04-03T12:07:48.556Z"
   },
   {
    "duration": 60,
    "start_time": "2022-04-03T12:08:25.445Z"
   },
   {
    "duration": 101,
    "start_time": "2022-04-03T12:08:30.836Z"
   },
   {
    "duration": 5,
    "start_time": "2022-04-03T12:08:31.234Z"
   },
   {
    "duration": 139,
    "start_time": "2022-04-03T12:08:31.623Z"
   },
   {
    "duration": 12,
    "start_time": "2022-04-03T12:08:32.702Z"
   },
   {
    "duration": 70,
    "start_time": "2022-04-03T12:08:34.706Z"
   },
   {
    "duration": 12,
    "start_time": "2022-04-03T12:08:34.940Z"
   },
   {
    "duration": 1099,
    "start_time": "2022-04-03T12:08:48.282Z"
   },
   {
    "duration": 561,
    "start_time": "2022-04-03T12:08:49.383Z"
   },
   {
    "duration": 14,
    "start_time": "2022-04-03T12:08:49.946Z"
   },
   {
    "duration": 11,
    "start_time": "2022-04-03T12:08:49.962Z"
   },
   {
    "duration": 7,
    "start_time": "2022-04-03T12:08:49.974Z"
   },
   {
    "duration": 12,
    "start_time": "2022-04-03T12:08:49.982Z"
   },
   {
    "duration": 25,
    "start_time": "2022-04-03T12:08:49.995Z"
   },
   {
    "duration": 117,
    "start_time": "2022-04-03T12:08:50.021Z"
   },
   {
    "duration": 9,
    "start_time": "2022-04-03T12:08:50.140Z"
   },
   {
    "duration": 18,
    "start_time": "2022-04-03T12:08:50.152Z"
   },
   {
    "duration": 67,
    "start_time": "2022-04-03T12:08:50.171Z"
   },
   {
    "duration": 14,
    "start_time": "2022-04-03T12:08:50.240Z"
   },
   {
    "duration": 21,
    "start_time": "2022-04-03T12:08:50.255Z"
   },
   {
    "duration": 81,
    "start_time": "2022-04-03T12:08:50.278Z"
   },
   {
    "duration": 8,
    "start_time": "2022-04-03T12:08:50.360Z"
   },
   {
    "duration": 10,
    "start_time": "2022-04-03T12:08:50.370Z"
   },
   {
    "duration": 351,
    "start_time": "2022-04-03T12:08:50.382Z"
   },
   {
    "duration": 27,
    "start_time": "2022-04-03T12:08:50.734Z"
   },
   {
    "duration": 258,
    "start_time": "2022-04-03T12:08:50.762Z"
   },
   {
    "duration": 12,
    "start_time": "2022-04-03T12:08:51.022Z"
   },
   {
    "duration": 115,
    "start_time": "2022-04-03T12:08:51.035Z"
   },
   {
    "duration": 5,
    "start_time": "2022-04-03T12:08:51.151Z"
   },
   {
    "duration": 162,
    "start_time": "2022-04-03T12:08:51.158Z"
   },
   {
    "duration": 25,
    "start_time": "2022-04-03T12:08:51.322Z"
   },
   {
    "duration": 22,
    "start_time": "2022-04-03T12:08:52.807Z"
   },
   {
    "duration": 14,
    "start_time": "2022-04-03T12:09:04.717Z"
   },
   {
    "duration": 61,
    "start_time": "2022-04-03T12:11:21.362Z"
   },
   {
    "duration": 48,
    "start_time": "2022-04-03T12:11:28.395Z"
   },
   {
    "duration": 16,
    "start_time": "2022-04-03T12:11:32.776Z"
   },
   {
    "duration": 13,
    "start_time": "2022-04-03T12:11:32.988Z"
   },
   {
    "duration": 29,
    "start_time": "2022-04-03T12:11:33.357Z"
   },
   {
    "duration": 17,
    "start_time": "2022-04-03T12:11:34.798Z"
   },
   {
    "duration": 15,
    "start_time": "2022-04-03T12:11:34.982Z"
   },
   {
    "duration": 27,
    "start_time": "2022-04-03T12:11:36.574Z"
   },
   {
    "duration": 11,
    "start_time": "2022-04-03T12:11:38.545Z"
   },
   {
    "duration": 41,
    "start_time": "2022-04-03T12:11:40.113Z"
   },
   {
    "duration": 7,
    "start_time": "2022-04-03T12:12:17.431Z"
   },
   {
    "duration": 4,
    "start_time": "2022-04-03T12:12:18.611Z"
   },
   {
    "duration": 7,
    "start_time": "2022-04-03T12:12:19.219Z"
   },
   {
    "duration": 5,
    "start_time": "2022-04-03T12:12:20.429Z"
   },
   {
    "duration": 7,
    "start_time": "2022-04-03T12:12:21.742Z"
   },
   {
    "duration": 5,
    "start_time": "2022-04-03T12:12:23.592Z"
   },
   {
    "duration": 102,
    "start_time": "2022-04-03T12:12:24.703Z"
   },
   {
    "duration": 5,
    "start_time": "2022-04-03T12:12:25.729Z"
   },
   {
    "duration": 24,
    "start_time": "2022-04-03T12:12:25.923Z"
   },
   {
    "duration": 44,
    "start_time": "2022-04-03T12:12:26.950Z"
   },
   {
    "duration": 5,
    "start_time": "2022-04-03T12:12:27.400Z"
   },
   {
    "duration": 463,
    "start_time": "2022-04-03T12:12:27.643Z"
   },
   {
    "duration": 9,
    "start_time": "2022-04-03T12:12:28.398Z"
   },
   {
    "duration": 10,
    "start_time": "2022-04-03T12:12:29.425Z"
   },
   {
    "duration": 391,
    "start_time": "2022-04-03T12:13:12.278Z"
   },
   {
    "duration": 10,
    "start_time": "2022-04-03T12:13:13.038Z"
   },
   {
    "duration": 11,
    "start_time": "2022-04-03T12:13:14.902Z"
   },
   {
    "duration": 401,
    "start_time": "2022-04-03T12:13:15.520Z"
   },
   {
    "duration": 14,
    "start_time": "2022-04-03T12:13:16.790Z"
   },
   {
    "duration": 10,
    "start_time": "2022-04-03T12:13:19.310Z"
   },
   {
    "duration": 439,
    "start_time": "2022-04-03T12:13:19.531Z"
   },
   {
    "duration": 13,
    "start_time": "2022-04-03T12:13:20.969Z"
   },
   {
    "duration": 15,
    "start_time": "2022-04-03T12:13:21.876Z"
   },
   {
    "duration": 9,
    "start_time": "2022-04-03T12:13:23.760Z"
   },
   {
    "duration": 6,
    "start_time": "2022-04-03T12:13:24.926Z"
   }
  ],
  "kernelspec": {
   "display_name": "Python 3 (ipykernel)",
   "language": "python",
   "name": "python3"
  },
  "language_info": {
   "codemirror_mode": {
    "name": "ipython",
    "version": 3
   },
   "file_extension": ".py",
   "mimetype": "text/x-python",
   "name": "python",
   "nbconvert_exporter": "python",
   "pygments_lexer": "ipython3",
   "version": "3.9.7"
  },
  "toc": {
   "base_numbering": 1,
   "nav_menu": {},
   "number_sections": true,
   "sideBar": true,
   "skip_h1_title": true,
   "title_cell": "Contents",
   "title_sidebar": "Contents",
   "toc_cell": true,
   "toc_position": {
    "height": "calc(100% - 180px)",
    "left": "10px",
    "top": "150px",
    "width": "303.837px"
   },
   "toc_section_display": true,
   "toc_window_display": true
  }
 },
 "nbformat": 4,
 "nbformat_minor": 5
}
