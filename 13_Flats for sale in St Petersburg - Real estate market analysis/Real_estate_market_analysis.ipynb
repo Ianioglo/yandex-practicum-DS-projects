{
 "cells": [
  {
   "cell_type": "markdown",
   "metadata": {
    "toc": true
   },
   "source": [
    "<h1>Contents<span class=\"tocSkip\"></span></h1>\n",
    "<div class=\"toc\"><ul class=\"toc-item\"><li><span><a href=\"#Reading-data-from-file\" data-toc-modified-id=\"Reading-data-from-file-1\"><span class=\"toc-item-num\">1&nbsp;&nbsp;</span>Reading data from file</a></span><ul class=\"toc-item\"><li><span><a href=\"#Conclusion\" data-toc-modified-id=\"Conclusion-1.1\"><span class=\"toc-item-num\">1.1&nbsp;&nbsp;</span>Conclusion</a></span></li></ul></li><li><span><a href=\"#Data-preprocessing\" data-toc-modified-id=\"Data-preprocessing-2\"><span class=\"toc-item-num\">2&nbsp;&nbsp;</span>Data preprocessing</a></span></li><li><span><a href=\"#Calculations-and-adding-results-to-the-table\" data-toc-modified-id=\"Calculations-and-adding-results-to-the-table-3\"><span class=\"toc-item-num\">3&nbsp;&nbsp;</span>Calculations and adding results to the table</a></span></li><li><span><a href=\"#Exploratory-Data-Analysis\" data-toc-modified-id=\"Exploratory-Data-Analysis-4\"><span class=\"toc-item-num\">4&nbsp;&nbsp;</span>Exploratory Data Analysis</a></span><ul class=\"toc-item\"><li><span><a href=\"#Studying-the-following-parameters:-area,-price,-number-of-rooms,-height-of-ceilings.-Plotting-histograms\" data-toc-modified-id=\"Studying-the-following-parameters:-area,-price,-number-of-rooms,-height-of-ceilings.-Plotting-histograms-4.1\"><span class=\"toc-item-num\">4.1&nbsp;&nbsp;</span>Studying the following parameters: area, price, number of rooms, height of ceilings. Plotting histograms</a></span></li><li><span><a href=\"#Studying-the-duration-of-the-flat-being-sold\" data-toc-modified-id=\"Studying-the-duration-of-the-flat-being-sold-4.2\"><span class=\"toc-item-num\">4.2&nbsp;&nbsp;</span>Studying the duration of the flat being sold</a></span></li><li><span><a href=\"#Removing-rare-and-outlying-values\" data-toc-modified-id=\"Removing-rare-and-outlying-values-4.3\"><span class=\"toc-item-num\">4.3&nbsp;&nbsp;</span>Removing rare and outlying values</a></span></li><li><span><a href=\"#Assessing-the-various-factors-that-influence-the-price-of-a-flat\" data-toc-modified-id=\"Assessing-the-various-factors-that-influence-the-price-of-a-flat-4.4\"><span class=\"toc-item-num\">4.4&nbsp;&nbsp;</span>Assessing the various factors that influence the price of a flat</a></span></li><li><span><a href=\"#Analysis-of-localities-with-the-highest-number-of-advertisements\" data-toc-modified-id=\"Analysis-of-localities-with-the-highest-number-of-advertisements-4.5\"><span class=\"toc-item-num\">4.5&nbsp;&nbsp;</span>Analysis of localities with the highest number of advertisements</a></span></li><li><span><a href=\"#Analysis-of-flat-prices-based-on-their-distance-to-the-city-centre\" data-toc-modified-id=\"Analysis-of-flat-prices-based-on-their-distance-to-the-city-centre-4.6\"><span class=\"toc-item-num\">4.6&nbsp;&nbsp;</span>Analysis of flat prices based on their distance to the city centre</a></span></li><li><span><a href=\"#Analysis-of-flats-in-the-centre.-Study-of-parameters:-area,-price,-number-of-rooms,-ceiling-height\" data-toc-modified-id=\"Analysis-of-flats-in-the-centre.-Study-of-parameters:-area,-price,-number-of-rooms,-ceiling-height-4.7\"><span class=\"toc-item-num\">4.7&nbsp;&nbsp;</span>Analysis of flats in the centre. Study of parameters: area, price, number of rooms, ceiling height</a></span></li><li><span><a href=\"#Exploratory-analysis.-Conclusion:\" data-toc-modified-id=\"Exploratory-analysis.-Conclusion:-4.8\"><span class=\"toc-item-num\">4.8&nbsp;&nbsp;</span>Exploratory analysis. Conclusion:</a></span></li></ul></li><li><span><a href=\"#Overall-conclusion\" data-toc-modified-id=\"Overall-conclusion-5\"><span class=\"toc-item-num\">5&nbsp;&nbsp;</span>Overall conclusion</a></span></li></ul></div>"
   ]
  },
  {
   "cell_type": "markdown",
   "metadata": {},
   "source": [
    "# Research on flat on sale advertisements\n",
    "\n",
    "We have at our disposal data from Yandex Real Estate - an archive of advertisements for flats for sale in St. Petersburg and neighbouring localities for several years. We need to learn how to determine the market value of properties. Our task is to set the parameters. This will allow building an automated system: it will track anomalies and fraudulent activities. \n",
    "\n",
    "Two types of data are available for each flat for sale. The first one is entered by the user; the second one is automatically obtained on the basis of cartographic data. For example, the distance to the centre, airport, nearest park and pond."
   ]
  },
  {
   "cell_type": "markdown",
   "metadata": {},
   "source": [
    "## Reading data from file"
   ]
  },
  {
   "cell_type": "code",
   "execution_count": 1,
   "metadata": {
    "collapsed": true
   },
   "outputs": [
    {
     "name": "stdout",
     "output_type": "stream",
     "text": [
      "Defaulting to user installation because normal site-packages is not writeable\n",
      "Requirement already up-to-date: seaborn in /home/jovyan/.local/lib/python3.7/site-packages (0.11.2)\n",
      "Requirement already satisfied, skipping upgrade: pandas>=0.23 in /opt/conda/lib/python3.7/site-packages (from seaborn) (0.25.1)\n",
      "Requirement already satisfied, skipping upgrade: numpy>=1.15 in /opt/conda/lib/python3.7/site-packages (from seaborn) (1.19.5)\n",
      "Requirement already satisfied, skipping upgrade: scipy>=1.0 in /opt/conda/lib/python3.7/site-packages (from seaborn) (1.4.1)\n",
      "Requirement already satisfied, skipping upgrade: matplotlib>=2.2 in /opt/conda/lib/python3.7/site-packages (from seaborn) (3.1.0)\n",
      "Requirement already satisfied, skipping upgrade: python-dateutil>=2.6.1 in /opt/conda/lib/python3.7/site-packages (from pandas>=0.23->seaborn) (2.8.1)\n",
      "Requirement already satisfied, skipping upgrade: pytz>=2017.2 in /opt/conda/lib/python3.7/site-packages (from pandas>=0.23->seaborn) (2021.1)\n",
      "Requirement already satisfied, skipping upgrade: kiwisolver>=1.0.1 in /opt/conda/lib/python3.7/site-packages (from matplotlib>=2.2->seaborn) (1.3.1)\n",
      "Requirement already satisfied, skipping upgrade: cycler>=0.10 in /opt/conda/lib/python3.7/site-packages (from matplotlib>=2.2->seaborn) (0.10.0)\n",
      "Requirement already satisfied, skipping upgrade: pyparsing!=2.0.4,!=2.1.2,!=2.1.6,>=2.0.1 in /opt/conda/lib/python3.7/site-packages (from matplotlib>=2.2->seaborn) (2.4.7)\n",
      "Requirement already satisfied, skipping upgrade: six>=1.5 in /opt/conda/lib/python3.7/site-packages (from python-dateutil>=2.6.1->pandas>=0.23->seaborn) (1.15.0)\n"
     ]
    }
   ],
   "source": [
    "import pandas as pd\n",
    "import matplotlib.pyplot as plt\n",
    "import seaborn as sns\n",
    "import warnings\n",
    "!pip install --upgrade seaborn \n",
    "\n",
    "df = pd.read_csv('/datasets/real_estate_data.csv', sep='\\t')\n",
    "\n",
    "warnings.simplefilter(action='ignore', category=FutureWarning)"
   ]
  },
  {
   "cell_type": "code",
   "execution_count": 2,
   "metadata": {},
   "outputs": [
    {
     "data": {
      "text/html": [
       "<div>\n",
       "<style scoped>\n",
       "    .dataframe tbody tr th:only-of-type {\n",
       "        vertical-align: middle;\n",
       "    }\n",
       "\n",
       "    .dataframe tbody tr th {\n",
       "        vertical-align: top;\n",
       "    }\n",
       "\n",
       "    .dataframe thead th {\n",
       "        text-align: right;\n",
       "    }\n",
       "</style>\n",
       "<table border=\"1\" class=\"dataframe\">\n",
       "  <thead>\n",
       "    <tr style=\"text-align: right;\">\n",
       "      <th></th>\n",
       "      <th>total_images</th>\n",
       "      <th>last_price</th>\n",
       "      <th>total_area</th>\n",
       "      <th>first_day_exposition</th>\n",
       "      <th>rooms</th>\n",
       "      <th>ceiling_height</th>\n",
       "      <th>floors_total</th>\n",
       "      <th>living_area</th>\n",
       "      <th>floor</th>\n",
       "      <th>is_apartment</th>\n",
       "      <th>...</th>\n",
       "      <th>kitchen_area</th>\n",
       "      <th>balcony</th>\n",
       "      <th>locality_name</th>\n",
       "      <th>airports_nearest</th>\n",
       "      <th>cityCenters_nearest</th>\n",
       "      <th>parks_around3000</th>\n",
       "      <th>parks_nearest</th>\n",
       "      <th>ponds_around3000</th>\n",
       "      <th>ponds_nearest</th>\n",
       "      <th>days_exposition</th>\n",
       "    </tr>\n",
       "  </thead>\n",
       "  <tbody>\n",
       "    <tr>\n",
       "      <td>0</td>\n",
       "      <td>20</td>\n",
       "      <td>13000000.0</td>\n",
       "      <td>108.00</td>\n",
       "      <td>2019-03-07T00:00:00</td>\n",
       "      <td>3</td>\n",
       "      <td>2.70</td>\n",
       "      <td>16.0</td>\n",
       "      <td>51.0</td>\n",
       "      <td>8</td>\n",
       "      <td>NaN</td>\n",
       "      <td>...</td>\n",
       "      <td>25.00</td>\n",
       "      <td>NaN</td>\n",
       "      <td>Санкт-Петербург</td>\n",
       "      <td>18863.0</td>\n",
       "      <td>16028.0</td>\n",
       "      <td>1.0</td>\n",
       "      <td>482.0</td>\n",
       "      <td>2.0</td>\n",
       "      <td>755.0</td>\n",
       "      <td>NaN</td>\n",
       "    </tr>\n",
       "    <tr>\n",
       "      <td>1</td>\n",
       "      <td>7</td>\n",
       "      <td>3350000.0</td>\n",
       "      <td>40.40</td>\n",
       "      <td>2018-12-04T00:00:00</td>\n",
       "      <td>1</td>\n",
       "      <td>NaN</td>\n",
       "      <td>11.0</td>\n",
       "      <td>18.6</td>\n",
       "      <td>1</td>\n",
       "      <td>NaN</td>\n",
       "      <td>...</td>\n",
       "      <td>11.00</td>\n",
       "      <td>2.0</td>\n",
       "      <td>посёлок Шушары</td>\n",
       "      <td>12817.0</td>\n",
       "      <td>18603.0</td>\n",
       "      <td>0.0</td>\n",
       "      <td>NaN</td>\n",
       "      <td>0.0</td>\n",
       "      <td>NaN</td>\n",
       "      <td>81.0</td>\n",
       "    </tr>\n",
       "    <tr>\n",
       "      <td>2</td>\n",
       "      <td>10</td>\n",
       "      <td>5196000.0</td>\n",
       "      <td>56.00</td>\n",
       "      <td>2015-08-20T00:00:00</td>\n",
       "      <td>2</td>\n",
       "      <td>NaN</td>\n",
       "      <td>5.0</td>\n",
       "      <td>34.3</td>\n",
       "      <td>4</td>\n",
       "      <td>NaN</td>\n",
       "      <td>...</td>\n",
       "      <td>8.30</td>\n",
       "      <td>0.0</td>\n",
       "      <td>Санкт-Петербург</td>\n",
       "      <td>21741.0</td>\n",
       "      <td>13933.0</td>\n",
       "      <td>1.0</td>\n",
       "      <td>90.0</td>\n",
       "      <td>2.0</td>\n",
       "      <td>574.0</td>\n",
       "      <td>558.0</td>\n",
       "    </tr>\n",
       "    <tr>\n",
       "      <td>3</td>\n",
       "      <td>0</td>\n",
       "      <td>64900000.0</td>\n",
       "      <td>159.00</td>\n",
       "      <td>2015-07-24T00:00:00</td>\n",
       "      <td>3</td>\n",
       "      <td>NaN</td>\n",
       "      <td>14.0</td>\n",
       "      <td>NaN</td>\n",
       "      <td>9</td>\n",
       "      <td>NaN</td>\n",
       "      <td>...</td>\n",
       "      <td>NaN</td>\n",
       "      <td>0.0</td>\n",
       "      <td>Санкт-Петербург</td>\n",
       "      <td>28098.0</td>\n",
       "      <td>6800.0</td>\n",
       "      <td>2.0</td>\n",
       "      <td>84.0</td>\n",
       "      <td>3.0</td>\n",
       "      <td>234.0</td>\n",
       "      <td>424.0</td>\n",
       "    </tr>\n",
       "    <tr>\n",
       "      <td>4</td>\n",
       "      <td>2</td>\n",
       "      <td>10000000.0</td>\n",
       "      <td>100.00</td>\n",
       "      <td>2018-06-19T00:00:00</td>\n",
       "      <td>2</td>\n",
       "      <td>3.03</td>\n",
       "      <td>14.0</td>\n",
       "      <td>32.0</td>\n",
       "      <td>13</td>\n",
       "      <td>NaN</td>\n",
       "      <td>...</td>\n",
       "      <td>41.00</td>\n",
       "      <td>NaN</td>\n",
       "      <td>Санкт-Петербург</td>\n",
       "      <td>31856.0</td>\n",
       "      <td>8098.0</td>\n",
       "      <td>2.0</td>\n",
       "      <td>112.0</td>\n",
       "      <td>1.0</td>\n",
       "      <td>48.0</td>\n",
       "      <td>121.0</td>\n",
       "    </tr>\n",
       "    <tr>\n",
       "      <td>...</td>\n",
       "      <td>...</td>\n",
       "      <td>...</td>\n",
       "      <td>...</td>\n",
       "      <td>...</td>\n",
       "      <td>...</td>\n",
       "      <td>...</td>\n",
       "      <td>...</td>\n",
       "      <td>...</td>\n",
       "      <td>...</td>\n",
       "      <td>...</td>\n",
       "      <td>...</td>\n",
       "      <td>...</td>\n",
       "      <td>...</td>\n",
       "      <td>...</td>\n",
       "      <td>...</td>\n",
       "      <td>...</td>\n",
       "      <td>...</td>\n",
       "      <td>...</td>\n",
       "      <td>...</td>\n",
       "      <td>...</td>\n",
       "      <td>...</td>\n",
       "    </tr>\n",
       "    <tr>\n",
       "      <td>23694</td>\n",
       "      <td>9</td>\n",
       "      <td>9700000.0</td>\n",
       "      <td>133.81</td>\n",
       "      <td>2017-03-21T00:00:00</td>\n",
       "      <td>3</td>\n",
       "      <td>3.70</td>\n",
       "      <td>5.0</td>\n",
       "      <td>73.3</td>\n",
       "      <td>3</td>\n",
       "      <td>NaN</td>\n",
       "      <td>...</td>\n",
       "      <td>13.83</td>\n",
       "      <td>NaN</td>\n",
       "      <td>Санкт-Петербург</td>\n",
       "      <td>24665.0</td>\n",
       "      <td>4232.0</td>\n",
       "      <td>1.0</td>\n",
       "      <td>796.0</td>\n",
       "      <td>3.0</td>\n",
       "      <td>381.0</td>\n",
       "      <td>NaN</td>\n",
       "    </tr>\n",
       "    <tr>\n",
       "      <td>23695</td>\n",
       "      <td>14</td>\n",
       "      <td>3100000.0</td>\n",
       "      <td>59.00</td>\n",
       "      <td>2018-01-15T00:00:00</td>\n",
       "      <td>3</td>\n",
       "      <td>NaN</td>\n",
       "      <td>5.0</td>\n",
       "      <td>38.0</td>\n",
       "      <td>4</td>\n",
       "      <td>NaN</td>\n",
       "      <td>...</td>\n",
       "      <td>8.50</td>\n",
       "      <td>NaN</td>\n",
       "      <td>Тосно</td>\n",
       "      <td>NaN</td>\n",
       "      <td>NaN</td>\n",
       "      <td>NaN</td>\n",
       "      <td>NaN</td>\n",
       "      <td>NaN</td>\n",
       "      <td>NaN</td>\n",
       "      <td>45.0</td>\n",
       "    </tr>\n",
       "    <tr>\n",
       "      <td>23696</td>\n",
       "      <td>18</td>\n",
       "      <td>2500000.0</td>\n",
       "      <td>56.70</td>\n",
       "      <td>2018-02-11T00:00:00</td>\n",
       "      <td>2</td>\n",
       "      <td>NaN</td>\n",
       "      <td>3.0</td>\n",
       "      <td>29.7</td>\n",
       "      <td>1</td>\n",
       "      <td>NaN</td>\n",
       "      <td>...</td>\n",
       "      <td>NaN</td>\n",
       "      <td>NaN</td>\n",
       "      <td>село Рождествено</td>\n",
       "      <td>NaN</td>\n",
       "      <td>NaN</td>\n",
       "      <td>NaN</td>\n",
       "      <td>NaN</td>\n",
       "      <td>NaN</td>\n",
       "      <td>NaN</td>\n",
       "      <td>NaN</td>\n",
       "    </tr>\n",
       "    <tr>\n",
       "      <td>23697</td>\n",
       "      <td>13</td>\n",
       "      <td>11475000.0</td>\n",
       "      <td>76.75</td>\n",
       "      <td>2017-03-28T00:00:00</td>\n",
       "      <td>2</td>\n",
       "      <td>3.00</td>\n",
       "      <td>17.0</td>\n",
       "      <td>NaN</td>\n",
       "      <td>12</td>\n",
       "      <td>NaN</td>\n",
       "      <td>...</td>\n",
       "      <td>23.30</td>\n",
       "      <td>2.0</td>\n",
       "      <td>Санкт-Петербург</td>\n",
       "      <td>39140.0</td>\n",
       "      <td>10364.0</td>\n",
       "      <td>2.0</td>\n",
       "      <td>173.0</td>\n",
       "      <td>3.0</td>\n",
       "      <td>196.0</td>\n",
       "      <td>602.0</td>\n",
       "    </tr>\n",
       "    <tr>\n",
       "      <td>23698</td>\n",
       "      <td>4</td>\n",
       "      <td>1350000.0</td>\n",
       "      <td>32.30</td>\n",
       "      <td>2017-07-21T00:00:00</td>\n",
       "      <td>1</td>\n",
       "      <td>2.50</td>\n",
       "      <td>5.0</td>\n",
       "      <td>12.3</td>\n",
       "      <td>1</td>\n",
       "      <td>NaN</td>\n",
       "      <td>...</td>\n",
       "      <td>9.00</td>\n",
       "      <td>NaN</td>\n",
       "      <td>поселок Новый Учхоз</td>\n",
       "      <td>NaN</td>\n",
       "      <td>NaN</td>\n",
       "      <td>NaN</td>\n",
       "      <td>NaN</td>\n",
       "      <td>NaN</td>\n",
       "      <td>NaN</td>\n",
       "      <td>NaN</td>\n",
       "    </tr>\n",
       "  </tbody>\n",
       "</table>\n",
       "<p>23699 rows × 22 columns</p>\n",
       "</div>"
      ],
      "text/plain": [
       "       total_images  last_price  total_area first_day_exposition  rooms  \\\n",
       "0                20  13000000.0      108.00  2019-03-07T00:00:00      3   \n",
       "1                 7   3350000.0       40.40  2018-12-04T00:00:00      1   \n",
       "2                10   5196000.0       56.00  2015-08-20T00:00:00      2   \n",
       "3                 0  64900000.0      159.00  2015-07-24T00:00:00      3   \n",
       "4                 2  10000000.0      100.00  2018-06-19T00:00:00      2   \n",
       "...             ...         ...         ...                  ...    ...   \n",
       "23694             9   9700000.0      133.81  2017-03-21T00:00:00      3   \n",
       "23695            14   3100000.0       59.00  2018-01-15T00:00:00      3   \n",
       "23696            18   2500000.0       56.70  2018-02-11T00:00:00      2   \n",
       "23697            13  11475000.0       76.75  2017-03-28T00:00:00      2   \n",
       "23698             4   1350000.0       32.30  2017-07-21T00:00:00      1   \n",
       "\n",
       "       ceiling_height  floors_total  living_area  floor is_apartment  ...  \\\n",
       "0                2.70          16.0         51.0      8          NaN  ...   \n",
       "1                 NaN          11.0         18.6      1          NaN  ...   \n",
       "2                 NaN           5.0         34.3      4          NaN  ...   \n",
       "3                 NaN          14.0          NaN      9          NaN  ...   \n",
       "4                3.03          14.0         32.0     13          NaN  ...   \n",
       "...               ...           ...          ...    ...          ...  ...   \n",
       "23694            3.70           5.0         73.3      3          NaN  ...   \n",
       "23695             NaN           5.0         38.0      4          NaN  ...   \n",
       "23696             NaN           3.0         29.7      1          NaN  ...   \n",
       "23697            3.00          17.0          NaN     12          NaN  ...   \n",
       "23698            2.50           5.0         12.3      1          NaN  ...   \n",
       "\n",
       "       kitchen_area  balcony        locality_name  airports_nearest  \\\n",
       "0             25.00      NaN      Санкт-Петербург           18863.0   \n",
       "1             11.00      2.0       посёлок Шушары           12817.0   \n",
       "2              8.30      0.0      Санкт-Петербург           21741.0   \n",
       "3               NaN      0.0      Санкт-Петербург           28098.0   \n",
       "4             41.00      NaN      Санкт-Петербург           31856.0   \n",
       "...             ...      ...                  ...               ...   \n",
       "23694         13.83      NaN      Санкт-Петербург           24665.0   \n",
       "23695          8.50      NaN                Тосно               NaN   \n",
       "23696           NaN      NaN     село Рождествено               NaN   \n",
       "23697         23.30      2.0      Санкт-Петербург           39140.0   \n",
       "23698          9.00      NaN  поселок Новый Учхоз               NaN   \n",
       "\n",
       "      cityCenters_nearest  parks_around3000  parks_nearest  ponds_around3000  \\\n",
       "0                 16028.0               1.0          482.0               2.0   \n",
       "1                 18603.0               0.0            NaN               0.0   \n",
       "2                 13933.0               1.0           90.0               2.0   \n",
       "3                  6800.0               2.0           84.0               3.0   \n",
       "4                  8098.0               2.0          112.0               1.0   \n",
       "...                   ...               ...            ...               ...   \n",
       "23694              4232.0               1.0          796.0               3.0   \n",
       "23695                 NaN               NaN            NaN               NaN   \n",
       "23696                 NaN               NaN            NaN               NaN   \n",
       "23697             10364.0               2.0          173.0               3.0   \n",
       "23698                 NaN               NaN            NaN               NaN   \n",
       "\n",
       "       ponds_nearest  days_exposition  \n",
       "0              755.0              NaN  \n",
       "1                NaN             81.0  \n",
       "2              574.0            558.0  \n",
       "3              234.0            424.0  \n",
       "4               48.0            121.0  \n",
       "...              ...              ...  \n",
       "23694          381.0              NaN  \n",
       "23695            NaN             45.0  \n",
       "23696            NaN              NaN  \n",
       "23697          196.0            602.0  \n",
       "23698            NaN              NaN  \n",
       "\n",
       "[23699 rows x 22 columns]"
      ]
     },
     "execution_count": 2,
     "metadata": {},
     "output_type": "execute_result"
    }
   ],
   "source": [
    "df"
   ]
  },
  {
   "cell_type": "code",
   "execution_count": 3,
   "metadata": {},
   "outputs": [
    {
     "name": "stdout",
     "output_type": "stream",
     "text": [
      "<class 'pandas.core.frame.DataFrame'>\n",
      "RangeIndex: 23699 entries, 0 to 23698\n",
      "Data columns (total 22 columns):\n",
      "total_images            23699 non-null int64\n",
      "last_price              23699 non-null float64\n",
      "total_area              23699 non-null float64\n",
      "first_day_exposition    23699 non-null object\n",
      "rooms                   23699 non-null int64\n",
      "ceiling_height          14504 non-null float64\n",
      "floors_total            23613 non-null float64\n",
      "living_area             21796 non-null float64\n",
      "floor                   23699 non-null int64\n",
      "is_apartment            2775 non-null object\n",
      "studio                  23699 non-null bool\n",
      "open_plan               23699 non-null bool\n",
      "kitchen_area            21421 non-null float64\n",
      "balcony                 12180 non-null float64\n",
      "locality_name           23650 non-null object\n",
      "airports_nearest        18157 non-null float64\n",
      "cityCenters_nearest     18180 non-null float64\n",
      "parks_around3000        18181 non-null float64\n",
      "parks_nearest           8079 non-null float64\n",
      "ponds_around3000        18181 non-null float64\n",
      "ponds_nearest           9110 non-null float64\n",
      "days_exposition         20518 non-null float64\n",
      "dtypes: bool(2), float64(14), int64(3), object(3)\n",
      "memory usage: 3.7+ MB\n"
     ]
    }
   ],
   "source": [
    "df.info()"
   ]
  },
  {
   "cell_type": "markdown",
   "metadata": {},
   "source": [
    "**The very first observations:**\n",
    "\n",
    "- There are 22 columns in the dataset\n",
    "- There are a very large number of missing values\n",
    "- The column names are written correctly, snake case wise, except for one column `cityCenters_nearest`, which will also be lowercased\n",
    "- With the exception of `total_images`, `rooms` and `floor` columns, all other numeric data are represented in real format. - The logic of this representation and the need to change the data type to integer data type is to be evaluated.\n",
    "- The row data type in the `first_day_exposition` column will be changed to `datetime` data type.\n",
    "- The settlement column is completed with data of a different case. It may be necessary to convert everything to lower case."
   ]
  },
  {
   "cell_type": "markdown",
   "metadata": {},
   "source": [
    "**Will have a closer look at missing values**"
   ]
  },
  {
   "cell_type": "code",
   "execution_count": 4,
   "metadata": {
    "scrolled": false
   },
   "outputs": [
    {
     "data": {
      "text/html": [
       "<style  type=\"text/css\" >\n",
       "</style><table id=\"T_10659f42_9ee9_11ec_b82b_02420a393d00\" ><thead>    <tr>        <th class=\"blank level0\" ></th>        <th class=\"col_heading level0 col0\" >sum</th>        <th class=\"col_heading level0 col1\" >mean</th>    </tr></thead><tbody>\n",
       "                <tr>\n",
       "                        <th id=\"T_10659f42_9ee9_11ec_b82b_02420a393d00level0_row0\" class=\"row_heading level0 row0\" >is_apartment</th>\n",
       "                        <td id=\"T_10659f42_9ee9_11ec_b82b_02420a393d00row0_col0\" class=\"data row0 col0\" >20924</td>\n",
       "                        <td id=\"T_10659f42_9ee9_11ec_b82b_02420a393d00row0_col1\" class=\"data row0 col1\" >88.29%</td>\n",
       "            </tr>\n",
       "            <tr>\n",
       "                        <th id=\"T_10659f42_9ee9_11ec_b82b_02420a393d00level0_row1\" class=\"row_heading level0 row1\" >parks_nearest</th>\n",
       "                        <td id=\"T_10659f42_9ee9_11ec_b82b_02420a393d00row1_col0\" class=\"data row1 col0\" >15620</td>\n",
       "                        <td id=\"T_10659f42_9ee9_11ec_b82b_02420a393d00row1_col1\" class=\"data row1 col1\" >65.91%</td>\n",
       "            </tr>\n",
       "            <tr>\n",
       "                        <th id=\"T_10659f42_9ee9_11ec_b82b_02420a393d00level0_row2\" class=\"row_heading level0 row2\" >ponds_nearest</th>\n",
       "                        <td id=\"T_10659f42_9ee9_11ec_b82b_02420a393d00row2_col0\" class=\"data row2 col0\" >14589</td>\n",
       "                        <td id=\"T_10659f42_9ee9_11ec_b82b_02420a393d00row2_col1\" class=\"data row2 col1\" >61.56%</td>\n",
       "            </tr>\n",
       "            <tr>\n",
       "                        <th id=\"T_10659f42_9ee9_11ec_b82b_02420a393d00level0_row3\" class=\"row_heading level0 row3\" >balcony</th>\n",
       "                        <td id=\"T_10659f42_9ee9_11ec_b82b_02420a393d00row3_col0\" class=\"data row3 col0\" >11519</td>\n",
       "                        <td id=\"T_10659f42_9ee9_11ec_b82b_02420a393d00row3_col1\" class=\"data row3 col1\" >48.61%</td>\n",
       "            </tr>\n",
       "            <tr>\n",
       "                        <th id=\"T_10659f42_9ee9_11ec_b82b_02420a393d00level0_row4\" class=\"row_heading level0 row4\" >ceiling_height</th>\n",
       "                        <td id=\"T_10659f42_9ee9_11ec_b82b_02420a393d00row4_col0\" class=\"data row4 col0\" >9195</td>\n",
       "                        <td id=\"T_10659f42_9ee9_11ec_b82b_02420a393d00row4_col1\" class=\"data row4 col1\" >38.80%</td>\n",
       "            </tr>\n",
       "            <tr>\n",
       "                        <th id=\"T_10659f42_9ee9_11ec_b82b_02420a393d00level0_row5\" class=\"row_heading level0 row5\" >airports_nearest</th>\n",
       "                        <td id=\"T_10659f42_9ee9_11ec_b82b_02420a393d00row5_col0\" class=\"data row5 col0\" >5542</td>\n",
       "                        <td id=\"T_10659f42_9ee9_11ec_b82b_02420a393d00row5_col1\" class=\"data row5 col1\" >23.38%</td>\n",
       "            </tr>\n",
       "            <tr>\n",
       "                        <th id=\"T_10659f42_9ee9_11ec_b82b_02420a393d00level0_row6\" class=\"row_heading level0 row6\" >cityCenters_nearest</th>\n",
       "                        <td id=\"T_10659f42_9ee9_11ec_b82b_02420a393d00row6_col0\" class=\"data row6 col0\" >5519</td>\n",
       "                        <td id=\"T_10659f42_9ee9_11ec_b82b_02420a393d00row6_col1\" class=\"data row6 col1\" >23.29%</td>\n",
       "            </tr>\n",
       "            <tr>\n",
       "                        <th id=\"T_10659f42_9ee9_11ec_b82b_02420a393d00level0_row7\" class=\"row_heading level0 row7\" >ponds_around3000</th>\n",
       "                        <td id=\"T_10659f42_9ee9_11ec_b82b_02420a393d00row7_col0\" class=\"data row7 col0\" >5518</td>\n",
       "                        <td id=\"T_10659f42_9ee9_11ec_b82b_02420a393d00row7_col1\" class=\"data row7 col1\" >23.28%</td>\n",
       "            </tr>\n",
       "            <tr>\n",
       "                        <th id=\"T_10659f42_9ee9_11ec_b82b_02420a393d00level0_row8\" class=\"row_heading level0 row8\" >parks_around3000</th>\n",
       "                        <td id=\"T_10659f42_9ee9_11ec_b82b_02420a393d00row8_col0\" class=\"data row8 col0\" >5518</td>\n",
       "                        <td id=\"T_10659f42_9ee9_11ec_b82b_02420a393d00row8_col1\" class=\"data row8 col1\" >23.28%</td>\n",
       "            </tr>\n",
       "            <tr>\n",
       "                        <th id=\"T_10659f42_9ee9_11ec_b82b_02420a393d00level0_row9\" class=\"row_heading level0 row9\" >days_exposition</th>\n",
       "                        <td id=\"T_10659f42_9ee9_11ec_b82b_02420a393d00row9_col0\" class=\"data row9 col0\" >3181</td>\n",
       "                        <td id=\"T_10659f42_9ee9_11ec_b82b_02420a393d00row9_col1\" class=\"data row9 col1\" >13.42%</td>\n",
       "            </tr>\n",
       "            <tr>\n",
       "                        <th id=\"T_10659f42_9ee9_11ec_b82b_02420a393d00level0_row10\" class=\"row_heading level0 row10\" >kitchen_area</th>\n",
       "                        <td id=\"T_10659f42_9ee9_11ec_b82b_02420a393d00row10_col0\" class=\"data row10 col0\" >2278</td>\n",
       "                        <td id=\"T_10659f42_9ee9_11ec_b82b_02420a393d00row10_col1\" class=\"data row10 col1\" >9.61%</td>\n",
       "            </tr>\n",
       "            <tr>\n",
       "                        <th id=\"T_10659f42_9ee9_11ec_b82b_02420a393d00level0_row11\" class=\"row_heading level0 row11\" >living_area</th>\n",
       "                        <td id=\"T_10659f42_9ee9_11ec_b82b_02420a393d00row11_col0\" class=\"data row11 col0\" >1903</td>\n",
       "                        <td id=\"T_10659f42_9ee9_11ec_b82b_02420a393d00row11_col1\" class=\"data row11 col1\" >8.03%</td>\n",
       "            </tr>\n",
       "            <tr>\n",
       "                        <th id=\"T_10659f42_9ee9_11ec_b82b_02420a393d00level0_row12\" class=\"row_heading level0 row12\" >floors_total</th>\n",
       "                        <td id=\"T_10659f42_9ee9_11ec_b82b_02420a393d00row12_col0\" class=\"data row12 col0\" >86</td>\n",
       "                        <td id=\"T_10659f42_9ee9_11ec_b82b_02420a393d00row12_col1\" class=\"data row12 col1\" >0.36%</td>\n",
       "            </tr>\n",
       "            <tr>\n",
       "                        <th id=\"T_10659f42_9ee9_11ec_b82b_02420a393d00level0_row13\" class=\"row_heading level0 row13\" >locality_name</th>\n",
       "                        <td id=\"T_10659f42_9ee9_11ec_b82b_02420a393d00row13_col0\" class=\"data row13 col0\" >49</td>\n",
       "                        <td id=\"T_10659f42_9ee9_11ec_b82b_02420a393d00row13_col1\" class=\"data row13 col1\" >0.21%</td>\n",
       "            </tr>\n",
       "            <tr>\n",
       "                        <th id=\"T_10659f42_9ee9_11ec_b82b_02420a393d00level0_row14\" class=\"row_heading level0 row14\" >total_images</th>\n",
       "                        <td id=\"T_10659f42_9ee9_11ec_b82b_02420a393d00row14_col0\" class=\"data row14 col0\" >0</td>\n",
       "                        <td id=\"T_10659f42_9ee9_11ec_b82b_02420a393d00row14_col1\" class=\"data row14 col1\" >0.00%</td>\n",
       "            </tr>\n",
       "            <tr>\n",
       "                        <th id=\"T_10659f42_9ee9_11ec_b82b_02420a393d00level0_row15\" class=\"row_heading level0 row15\" >last_price</th>\n",
       "                        <td id=\"T_10659f42_9ee9_11ec_b82b_02420a393d00row15_col0\" class=\"data row15 col0\" >0</td>\n",
       "                        <td id=\"T_10659f42_9ee9_11ec_b82b_02420a393d00row15_col1\" class=\"data row15 col1\" >0.00%</td>\n",
       "            </tr>\n",
       "            <tr>\n",
       "                        <th id=\"T_10659f42_9ee9_11ec_b82b_02420a393d00level0_row16\" class=\"row_heading level0 row16\" >studio</th>\n",
       "                        <td id=\"T_10659f42_9ee9_11ec_b82b_02420a393d00row16_col0\" class=\"data row16 col0\" >0</td>\n",
       "                        <td id=\"T_10659f42_9ee9_11ec_b82b_02420a393d00row16_col1\" class=\"data row16 col1\" >0.00%</td>\n",
       "            </tr>\n",
       "            <tr>\n",
       "                        <th id=\"T_10659f42_9ee9_11ec_b82b_02420a393d00level0_row17\" class=\"row_heading level0 row17\" >floor</th>\n",
       "                        <td id=\"T_10659f42_9ee9_11ec_b82b_02420a393d00row17_col0\" class=\"data row17 col0\" >0</td>\n",
       "                        <td id=\"T_10659f42_9ee9_11ec_b82b_02420a393d00row17_col1\" class=\"data row17 col1\" >0.00%</td>\n",
       "            </tr>\n",
       "            <tr>\n",
       "                        <th id=\"T_10659f42_9ee9_11ec_b82b_02420a393d00level0_row18\" class=\"row_heading level0 row18\" >rooms</th>\n",
       "                        <td id=\"T_10659f42_9ee9_11ec_b82b_02420a393d00row18_col0\" class=\"data row18 col0\" >0</td>\n",
       "                        <td id=\"T_10659f42_9ee9_11ec_b82b_02420a393d00row18_col1\" class=\"data row18 col1\" >0.00%</td>\n",
       "            </tr>\n",
       "            <tr>\n",
       "                        <th id=\"T_10659f42_9ee9_11ec_b82b_02420a393d00level0_row19\" class=\"row_heading level0 row19\" >first_day_exposition</th>\n",
       "                        <td id=\"T_10659f42_9ee9_11ec_b82b_02420a393d00row19_col0\" class=\"data row19 col0\" >0</td>\n",
       "                        <td id=\"T_10659f42_9ee9_11ec_b82b_02420a393d00row19_col1\" class=\"data row19 col1\" >0.00%</td>\n",
       "            </tr>\n",
       "            <tr>\n",
       "                        <th id=\"T_10659f42_9ee9_11ec_b82b_02420a393d00level0_row20\" class=\"row_heading level0 row20\" >total_area</th>\n",
       "                        <td id=\"T_10659f42_9ee9_11ec_b82b_02420a393d00row20_col0\" class=\"data row20 col0\" >0</td>\n",
       "                        <td id=\"T_10659f42_9ee9_11ec_b82b_02420a393d00row20_col1\" class=\"data row20 col1\" >0.00%</td>\n",
       "            </tr>\n",
       "            <tr>\n",
       "                        <th id=\"T_10659f42_9ee9_11ec_b82b_02420a393d00level0_row21\" class=\"row_heading level0 row21\" >open_plan</th>\n",
       "                        <td id=\"T_10659f42_9ee9_11ec_b82b_02420a393d00row21_col0\" class=\"data row21 col0\" >0</td>\n",
       "                        <td id=\"T_10659f42_9ee9_11ec_b82b_02420a393d00row21_col1\" class=\"data row21 col1\" >0.00%</td>\n",
       "            </tr>\n",
       "    </tbody></table>"
      ],
      "text/plain": [
       "<pandas.io.formats.style.Styler at 0x7f1e3bd2ef90>"
      ]
     },
     "execution_count": 4,
     "metadata": {},
     "output_type": "execute_result"
    }
   ],
   "source": [
    "df.isna().agg(['sum','mean']).T.sort_values('mean', ascending=False).style.format({'mean':'{:.2%}'})"
   ]
  },
  {
   "cell_type": "markdown",
   "metadata": {},
   "source": [
    "A detailed analysis shows a significant number of missing data, especially cartographic data such as distances to the nearest park (15620/65.91%), to the nearest pond (14589/61.56%), to the nearest airport (5542/23.38%) and to the city centre (5519/23.29%). There is also a high proportion of missing values for the availability of parks and ponds within a 3km radius. The data from the listed columns are obtained automatically by the cartographic service. Their absence is therefore alarming and suggests possible technical failures. This problem will have to be included in the Bug Report.\n",
    "\n",
    "The largest number of omissions in the `is_apartment` column, almost 90% of missing values. It is possible that this attribute was not collected from the beginning, so only data from the beginning of collection of this parameter was included. Or, users did not fill in/ignore this parameter when filling in the property listing, as their flat is not an apartment (i.e. not `True`). Therefore it would be logical to fill these omissions with a Boolean value of `False`.\n",
    "\n",
    "There are many missing data on the number of balconies. Almost half of the data on balconies is missing. This most likely indicates that there are no balconies on the property. Therefore we will fill these gaps with zero."
   ]
  },
  {
   "cell_type": "markdown",
   "metadata": {},
   "source": [
    "**Checking the data for anomalies** "
   ]
  },
  {
   "cell_type": "markdown",
   "metadata": {},
   "source": [
    "To detect possible anomalies and inadequate values in the data, we can analyse the overall distribution of values in the dataset using `describe()`. For ease of visualization, we transpose the table output."
   ]
  },
  {
   "cell_type": "code",
   "execution_count": 5,
   "metadata": {
    "scrolled": false
   },
   "outputs": [
    {
     "data": {
      "text/html": [
       "<div>\n",
       "<style scoped>\n",
       "    .dataframe tbody tr th:only-of-type {\n",
       "        vertical-align: middle;\n",
       "    }\n",
       "\n",
       "    .dataframe tbody tr th {\n",
       "        vertical-align: top;\n",
       "    }\n",
       "\n",
       "    .dataframe thead th {\n",
       "        text-align: right;\n",
       "    }\n",
       "</style>\n",
       "<table border=\"1\" class=\"dataframe\">\n",
       "  <thead>\n",
       "    <tr style=\"text-align: right;\">\n",
       "      <th></th>\n",
       "      <th>count</th>\n",
       "      <th>unique</th>\n",
       "      <th>top</th>\n",
       "      <th>freq</th>\n",
       "      <th>mean</th>\n",
       "      <th>std</th>\n",
       "      <th>min</th>\n",
       "      <th>25%</th>\n",
       "      <th>50%</th>\n",
       "      <th>75%</th>\n",
       "      <th>max</th>\n",
       "    </tr>\n",
       "  </thead>\n",
       "  <tbody>\n",
       "    <tr>\n",
       "      <td>total_images</td>\n",
       "      <td>23699</td>\n",
       "      <td>NaN</td>\n",
       "      <td>NaN</td>\n",
       "      <td>NaN</td>\n",
       "      <td>9.85848</td>\n",
       "      <td>5.68253</td>\n",
       "      <td>0</td>\n",
       "      <td>6</td>\n",
       "      <td>9</td>\n",
       "      <td>14</td>\n",
       "      <td>50</td>\n",
       "    </tr>\n",
       "    <tr>\n",
       "      <td>last_price</td>\n",
       "      <td>23699</td>\n",
       "      <td>NaN</td>\n",
       "      <td>NaN</td>\n",
       "      <td>NaN</td>\n",
       "      <td>6.54155e+06</td>\n",
       "      <td>1.0887e+07</td>\n",
       "      <td>12190</td>\n",
       "      <td>3.4e+06</td>\n",
       "      <td>4.65e+06</td>\n",
       "      <td>6.8e+06</td>\n",
       "      <td>7.63e+08</td>\n",
       "    </tr>\n",
       "    <tr>\n",
       "      <td>total_area</td>\n",
       "      <td>23699</td>\n",
       "      <td>NaN</td>\n",
       "      <td>NaN</td>\n",
       "      <td>NaN</td>\n",
       "      <td>60.3487</td>\n",
       "      <td>35.6541</td>\n",
       "      <td>12</td>\n",
       "      <td>40</td>\n",
       "      <td>52</td>\n",
       "      <td>69.9</td>\n",
       "      <td>900</td>\n",
       "    </tr>\n",
       "    <tr>\n",
       "      <td>first_day_exposition</td>\n",
       "      <td>23699</td>\n",
       "      <td>1491</td>\n",
       "      <td>2018-02-01T00:00:00</td>\n",
       "      <td>368</td>\n",
       "      <td>NaN</td>\n",
       "      <td>NaN</td>\n",
       "      <td>NaN</td>\n",
       "      <td>NaN</td>\n",
       "      <td>NaN</td>\n",
       "      <td>NaN</td>\n",
       "      <td>NaN</td>\n",
       "    </tr>\n",
       "    <tr>\n",
       "      <td>rooms</td>\n",
       "      <td>23699</td>\n",
       "      <td>NaN</td>\n",
       "      <td>NaN</td>\n",
       "      <td>NaN</td>\n",
       "      <td>2.07064</td>\n",
       "      <td>1.0784</td>\n",
       "      <td>0</td>\n",
       "      <td>1</td>\n",
       "      <td>2</td>\n",
       "      <td>3</td>\n",
       "      <td>19</td>\n",
       "    </tr>\n",
       "    <tr>\n",
       "      <td>ceiling_height</td>\n",
       "      <td>14504</td>\n",
       "      <td>NaN</td>\n",
       "      <td>NaN</td>\n",
       "      <td>NaN</td>\n",
       "      <td>2.7715</td>\n",
       "      <td>1.26106</td>\n",
       "      <td>1</td>\n",
       "      <td>2.52</td>\n",
       "      <td>2.65</td>\n",
       "      <td>2.8</td>\n",
       "      <td>100</td>\n",
       "    </tr>\n",
       "    <tr>\n",
       "      <td>floors_total</td>\n",
       "      <td>23613</td>\n",
       "      <td>NaN</td>\n",
       "      <td>NaN</td>\n",
       "      <td>NaN</td>\n",
       "      <td>10.6738</td>\n",
       "      <td>6.59717</td>\n",
       "      <td>1</td>\n",
       "      <td>5</td>\n",
       "      <td>9</td>\n",
       "      <td>16</td>\n",
       "      <td>60</td>\n",
       "    </tr>\n",
       "    <tr>\n",
       "      <td>living_area</td>\n",
       "      <td>21796</td>\n",
       "      <td>NaN</td>\n",
       "      <td>NaN</td>\n",
       "      <td>NaN</td>\n",
       "      <td>34.4579</td>\n",
       "      <td>22.0304</td>\n",
       "      <td>2</td>\n",
       "      <td>18.6</td>\n",
       "      <td>30</td>\n",
       "      <td>42.3</td>\n",
       "      <td>409.7</td>\n",
       "    </tr>\n",
       "    <tr>\n",
       "      <td>floor</td>\n",
       "      <td>23699</td>\n",
       "      <td>NaN</td>\n",
       "      <td>NaN</td>\n",
       "      <td>NaN</td>\n",
       "      <td>5.89236</td>\n",
       "      <td>4.88525</td>\n",
       "      <td>1</td>\n",
       "      <td>2</td>\n",
       "      <td>4</td>\n",
       "      <td>8</td>\n",
       "      <td>33</td>\n",
       "    </tr>\n",
       "    <tr>\n",
       "      <td>is_apartment</td>\n",
       "      <td>2775</td>\n",
       "      <td>2</td>\n",
       "      <td>False</td>\n",
       "      <td>2725</td>\n",
       "      <td>NaN</td>\n",
       "      <td>NaN</td>\n",
       "      <td>NaN</td>\n",
       "      <td>NaN</td>\n",
       "      <td>NaN</td>\n",
       "      <td>NaN</td>\n",
       "      <td>NaN</td>\n",
       "    </tr>\n",
       "    <tr>\n",
       "      <td>studio</td>\n",
       "      <td>23699</td>\n",
       "      <td>2</td>\n",
       "      <td>False</td>\n",
       "      <td>23550</td>\n",
       "      <td>NaN</td>\n",
       "      <td>NaN</td>\n",
       "      <td>NaN</td>\n",
       "      <td>NaN</td>\n",
       "      <td>NaN</td>\n",
       "      <td>NaN</td>\n",
       "      <td>NaN</td>\n",
       "    </tr>\n",
       "    <tr>\n",
       "      <td>open_plan</td>\n",
       "      <td>23699</td>\n",
       "      <td>2</td>\n",
       "      <td>False</td>\n",
       "      <td>23632</td>\n",
       "      <td>NaN</td>\n",
       "      <td>NaN</td>\n",
       "      <td>NaN</td>\n",
       "      <td>NaN</td>\n",
       "      <td>NaN</td>\n",
       "      <td>NaN</td>\n",
       "      <td>NaN</td>\n",
       "    </tr>\n",
       "    <tr>\n",
       "      <td>kitchen_area</td>\n",
       "      <td>21421</td>\n",
       "      <td>NaN</td>\n",
       "      <td>NaN</td>\n",
       "      <td>NaN</td>\n",
       "      <td>10.5698</td>\n",
       "      <td>5.90544</td>\n",
       "      <td>1.3</td>\n",
       "      <td>7</td>\n",
       "      <td>9.1</td>\n",
       "      <td>12</td>\n",
       "      <td>112</td>\n",
       "    </tr>\n",
       "    <tr>\n",
       "      <td>balcony</td>\n",
       "      <td>12180</td>\n",
       "      <td>NaN</td>\n",
       "      <td>NaN</td>\n",
       "      <td>NaN</td>\n",
       "      <td>1.15008</td>\n",
       "      <td>1.0713</td>\n",
       "      <td>0</td>\n",
       "      <td>0</td>\n",
       "      <td>1</td>\n",
       "      <td>2</td>\n",
       "      <td>5</td>\n",
       "    </tr>\n",
       "    <tr>\n",
       "      <td>locality_name</td>\n",
       "      <td>23650</td>\n",
       "      <td>364</td>\n",
       "      <td>Санкт-Петербург</td>\n",
       "      <td>15721</td>\n",
       "      <td>NaN</td>\n",
       "      <td>NaN</td>\n",
       "      <td>NaN</td>\n",
       "      <td>NaN</td>\n",
       "      <td>NaN</td>\n",
       "      <td>NaN</td>\n",
       "      <td>NaN</td>\n",
       "    </tr>\n",
       "    <tr>\n",
       "      <td>airports_nearest</td>\n",
       "      <td>18157</td>\n",
       "      <td>NaN</td>\n",
       "      <td>NaN</td>\n",
       "      <td>NaN</td>\n",
       "      <td>28793.7</td>\n",
       "      <td>12630.9</td>\n",
       "      <td>0</td>\n",
       "      <td>18585</td>\n",
       "      <td>26726</td>\n",
       "      <td>37273</td>\n",
       "      <td>84869</td>\n",
       "    </tr>\n",
       "    <tr>\n",
       "      <td>cityCenters_nearest</td>\n",
       "      <td>18180</td>\n",
       "      <td>NaN</td>\n",
       "      <td>NaN</td>\n",
       "      <td>NaN</td>\n",
       "      <td>14191.3</td>\n",
       "      <td>8608.39</td>\n",
       "      <td>181</td>\n",
       "      <td>9238</td>\n",
       "      <td>13098.5</td>\n",
       "      <td>16293</td>\n",
       "      <td>65968</td>\n",
       "    </tr>\n",
       "    <tr>\n",
       "      <td>parks_around3000</td>\n",
       "      <td>18181</td>\n",
       "      <td>NaN</td>\n",
       "      <td>NaN</td>\n",
       "      <td>NaN</td>\n",
       "      <td>0.611408</td>\n",
       "      <td>0.802074</td>\n",
       "      <td>0</td>\n",
       "      <td>0</td>\n",
       "      <td>0</td>\n",
       "      <td>1</td>\n",
       "      <td>3</td>\n",
       "    </tr>\n",
       "    <tr>\n",
       "      <td>parks_nearest</td>\n",
       "      <td>8079</td>\n",
       "      <td>NaN</td>\n",
       "      <td>NaN</td>\n",
       "      <td>NaN</td>\n",
       "      <td>490.805</td>\n",
       "      <td>342.318</td>\n",
       "      <td>1</td>\n",
       "      <td>288</td>\n",
       "      <td>455</td>\n",
       "      <td>612</td>\n",
       "      <td>3190</td>\n",
       "    </tr>\n",
       "    <tr>\n",
       "      <td>ponds_around3000</td>\n",
       "      <td>18181</td>\n",
       "      <td>NaN</td>\n",
       "      <td>NaN</td>\n",
       "      <td>NaN</td>\n",
       "      <td>0.770255</td>\n",
       "      <td>0.938346</td>\n",
       "      <td>0</td>\n",
       "      <td>0</td>\n",
       "      <td>1</td>\n",
       "      <td>1</td>\n",
       "      <td>3</td>\n",
       "    </tr>\n",
       "    <tr>\n",
       "      <td>ponds_nearest</td>\n",
       "      <td>9110</td>\n",
       "      <td>NaN</td>\n",
       "      <td>NaN</td>\n",
       "      <td>NaN</td>\n",
       "      <td>517.981</td>\n",
       "      <td>277.721</td>\n",
       "      <td>13</td>\n",
       "      <td>294</td>\n",
       "      <td>502</td>\n",
       "      <td>729</td>\n",
       "      <td>1344</td>\n",
       "    </tr>\n",
       "    <tr>\n",
       "      <td>days_exposition</td>\n",
       "      <td>20518</td>\n",
       "      <td>NaN</td>\n",
       "      <td>NaN</td>\n",
       "      <td>NaN</td>\n",
       "      <td>180.889</td>\n",
       "      <td>219.728</td>\n",
       "      <td>1</td>\n",
       "      <td>45</td>\n",
       "      <td>95</td>\n",
       "      <td>232</td>\n",
       "      <td>1580</td>\n",
       "    </tr>\n",
       "  </tbody>\n",
       "</table>\n",
       "</div>"
      ],
      "text/plain": [
       "                      count unique                  top   freq         mean  \\\n",
       "total_images          23699    NaN                  NaN    NaN      9.85848   \n",
       "last_price            23699    NaN                  NaN    NaN  6.54155e+06   \n",
       "total_area            23699    NaN                  NaN    NaN      60.3487   \n",
       "first_day_exposition  23699   1491  2018-02-01T00:00:00    368          NaN   \n",
       "rooms                 23699    NaN                  NaN    NaN      2.07064   \n",
       "ceiling_height        14504    NaN                  NaN    NaN       2.7715   \n",
       "floors_total          23613    NaN                  NaN    NaN      10.6738   \n",
       "living_area           21796    NaN                  NaN    NaN      34.4579   \n",
       "floor                 23699    NaN                  NaN    NaN      5.89236   \n",
       "is_apartment           2775      2                False   2725          NaN   \n",
       "studio                23699      2                False  23550          NaN   \n",
       "open_plan             23699      2                False  23632          NaN   \n",
       "kitchen_area          21421    NaN                  NaN    NaN      10.5698   \n",
       "balcony               12180    NaN                  NaN    NaN      1.15008   \n",
       "locality_name         23650    364      Санкт-Петербург  15721          NaN   \n",
       "airports_nearest      18157    NaN                  NaN    NaN      28793.7   \n",
       "cityCenters_nearest   18180    NaN                  NaN    NaN      14191.3   \n",
       "parks_around3000      18181    NaN                  NaN    NaN     0.611408   \n",
       "parks_nearest          8079    NaN                  NaN    NaN      490.805   \n",
       "ponds_around3000      18181    NaN                  NaN    NaN     0.770255   \n",
       "ponds_nearest          9110    NaN                  NaN    NaN      517.981   \n",
       "days_exposition       20518    NaN                  NaN    NaN      180.889   \n",
       "\n",
       "                             std    min      25%       50%      75%       max  \n",
       "total_images             5.68253      0        6         9       14        50  \n",
       "last_price            1.0887e+07  12190  3.4e+06  4.65e+06  6.8e+06  7.63e+08  \n",
       "total_area               35.6541     12       40        52     69.9       900  \n",
       "first_day_exposition         NaN    NaN      NaN       NaN      NaN       NaN  \n",
       "rooms                     1.0784      0        1         2        3        19  \n",
       "ceiling_height           1.26106      1     2.52      2.65      2.8       100  \n",
       "floors_total             6.59717      1        5         9       16        60  \n",
       "living_area              22.0304      2     18.6        30     42.3     409.7  \n",
       "floor                    4.88525      1        2         4        8        33  \n",
       "is_apartment                 NaN    NaN      NaN       NaN      NaN       NaN  \n",
       "studio                       NaN    NaN      NaN       NaN      NaN       NaN  \n",
       "open_plan                    NaN    NaN      NaN       NaN      NaN       NaN  \n",
       "kitchen_area             5.90544    1.3        7       9.1       12       112  \n",
       "balcony                   1.0713      0        0         1        2         5  \n",
       "locality_name                NaN    NaN      NaN       NaN      NaN       NaN  \n",
       "airports_nearest         12630.9      0    18585     26726    37273     84869  \n",
       "cityCenters_nearest      8608.39    181     9238   13098.5    16293     65968  \n",
       "parks_around3000        0.802074      0        0         0        1         3  \n",
       "parks_nearest            342.318      1      288       455      612      3190  \n",
       "ponds_around3000        0.938346      0        0         1        1         3  \n",
       "ponds_nearest            277.721     13      294       502      729      1344  \n",
       "days_exposition          219.728      1       45        95      232      1580  "
      ]
     },
     "execution_count": 5,
     "metadata": {},
     "output_type": "execute_result"
    }
   ],
   "source": [
    "df.describe(include='all').T"
   ]
  },
  {
   "cell_type": "markdown",
   "metadata": {},
   "source": [
    "A number of anomalies and inadequate data values are apparent:\n",
    "\n",
    "- minimum and maximum flat price: 12,190 and 763,000,000 roubles respectively\n",
    "- minimum and maximum floor area of the flat: 12 metres and 900 metres respectively. The same applies to living and kitchen area\n",
    "- minimum and maximum number of rooms: 0 and 19 rooms, respectively\n",
    "- minimum and maximum ceiling height: 1 and 100 meters, respectively"
   ]
  },
  {
   "cell_type": "code",
   "execution_count": 6,
   "metadata": {},
   "outputs": [
    {
     "data": {
      "text/plain": [
       "0"
      ]
     },
     "execution_count": 6,
     "metadata": {},
     "output_type": "execute_result"
    }
   ],
   "source": [
    "df.duplicated().sum()"
   ]
  },
  {
   "cell_type": "markdown",
   "metadata": {},
   "source": [
    "There are no explicit duplicates."
   ]
  },
  {
   "cell_type": "markdown",
   "metadata": {},
   "source": [
    "### Conclusion"
   ]
  },
  {
   "cell_type": "markdown",
   "metadata": {},
   "source": [
    "1. There are a very large number of missing values, especially in the cartographic data collected automatically.\n",
    "2. With the exception of the columns `total_images`, `rooms` and `floor`, all other numerical data are represented in real format. The logic of this representation and the need to change the data type to integer is to be evaluated. The string data type in the `first_day_exposition` column will be changed to `datetime` data type.\n",
    "3. There are a number of anomalies and inadequate values for cost, area, number of rooms and ceiling heights.\n",
    "4. No explicit duplicates have been detected."
   ]
  },
  {
   "cell_type": "markdown",
   "metadata": {},
   "source": [
    "## Data preprocessing "
   ]
  },
  {
   "cell_type": "markdown",
   "metadata": {},
   "source": [
    "**Will lower the case in dataset columns name**"
   ]
  },
  {
   "cell_type": "code",
   "execution_count": 7,
   "metadata": {},
   "outputs": [
    {
     "data": {
      "text/plain": [
       "Index(['total_images', 'last_price', 'total_area', 'first_day_exposition',\n",
       "       'rooms', 'ceiling_height', 'floors_total', 'living_area', 'floor',\n",
       "       'is_apartment', 'studio', 'open_plan', 'kitchen_area', 'balcony',\n",
       "       'locality_name', 'airports_nearest', 'citycenters_nearest',\n",
       "       'parks_around3000', 'parks_nearest', 'ponds_around3000',\n",
       "       'ponds_nearest', 'days_exposition'],\n",
       "      dtype='object')"
      ]
     },
     "execution_count": 7,
     "metadata": {},
     "output_type": "execute_result"
    }
   ],
   "source": [
    "df.columns = df.columns.str.lower()\n",
    "df.columns"
   ]
  },
  {
   "cell_type": "markdown",
   "metadata": {},
   "source": [
    "**Will fill in the missing values in columns `is_apartment` and `balcony`**\n",
    "\n",
    "**- `is_apartment`**"
   ]
  },
  {
   "cell_type": "code",
   "execution_count": 8,
   "metadata": {},
   "outputs": [
    {
     "data": {
      "text/plain": [
       "False    2725\n",
       "True       50\n",
       "Name: is_apartment, dtype: int64"
      ]
     },
     "execution_count": 8,
     "metadata": {},
     "output_type": "execute_result"
    }
   ],
   "source": [
    "df.is_apartment.value_counts()"
   ]
  },
  {
   "cell_type": "markdown",
   "metadata": {},
   "source": [
    "Apparently, apartments are very rare. And when filling in an ad for a flat, users simply ignored this parameter and did not fill it in, thus indicating that their property is not an apartment. Hence such a large number of NaN values. Let's fill them in with a value of `False`."
   ]
  },
  {
   "cell_type": "code",
   "execution_count": 9,
   "metadata": {},
   "outputs": [
    {
     "data": {
      "text/plain": [
       "0"
      ]
     },
     "execution_count": 9,
     "metadata": {},
     "output_type": "execute_result"
    }
   ],
   "source": [
    "df.is_apartment = df.is_apartment.fillna(False)\n",
    "df.is_apartment.isna().sum()"
   ]
  },
  {
   "cell_type": "markdown",
   "metadata": {},
   "source": [
    "There are no missing values in the `is_apartment` column\n",
    "\n",
    "**- `balcony`**"
   ]
  },
  {
   "cell_type": "code",
   "execution_count": 10,
   "metadata": {},
   "outputs": [
    {
     "data": {
      "text/plain": [
       "sum     11519.000000\n",
       "mean        0.486054\n",
       "Name: balcony, dtype: float64"
      ]
     },
     "execution_count": 10,
     "metadata": {},
     "output_type": "execute_result"
    }
   ],
   "source": [
    "df.balcony.isna().agg(['sum', 'mean'])"
   ]
  },
  {
   "cell_type": "markdown",
   "metadata": {},
   "source": [
    "Almost half of the values are not filled in. It is most likely that in the absence of balconies in the flat, clients did not fill in this field, ignoring it. Hence such a large number of NaN values. Let's fill in the gaps with a value of zero."
   ]
  },
  {
   "cell_type": "code",
   "execution_count": 11,
   "metadata": {},
   "outputs": [
    {
     "data": {
      "text/plain": [
       "0"
      ]
     },
     "execution_count": 11,
     "metadata": {},
     "output_type": "execute_result"
    }
   ],
   "source": [
    "df.balcony.fillna(0, inplace=True)\n",
    "df.balcony.isna().sum()"
   ]
  },
  {
   "cell_type": "markdown",
   "metadata": {},
   "source": [
    "There are no missing values in the `balcony` column. Also will change the data type from float to integer. "
   ]
  },
  {
   "cell_type": "code",
   "execution_count": 12,
   "metadata": {},
   "outputs": [],
   "source": [
    "df.balcony = df.balcony.astype('int')"
   ]
  },
  {
   "cell_type": "markdown",
   "metadata": {},
   "source": [
    "**Will fill in the missing and inadequate values in the `ceiling_height` column**"
   ]
  },
  {
   "cell_type": "markdown",
   "metadata": {},
   "source": [
    "The Government Regulation requires a minimum ceiling height of 2.1 metres. We can replace all missing values in the column as well as values below this figure with this value. It is also possible to replace the missing and low values with the highest-frequency value of the column. Let's calculate it using the `mode` method. "
   ]
  },
  {
   "cell_type": "code",
   "execution_count": 13,
   "metadata": {},
   "outputs": [
    {
     "data": {
      "text/plain": [
       "0    2.5\n",
       "dtype: float64"
      ]
     },
     "execution_count": 13,
     "metadata": {},
     "output_type": "execute_result"
    }
   ],
   "source": [
    "df.ceiling_height.mode()"
   ]
  },
  {
   "cell_type": "markdown",
   "metadata": {},
   "source": [
    "Will replace missing and values below 2.5 metres with the most common ceiling height value of 2.5 metres."
   ]
  },
  {
   "cell_type": "code",
   "execution_count": 14,
   "metadata": {},
   "outputs": [],
   "source": [
    "df.loc[(df['ceiling_height'] < 2.5), 'ceiling_height'] == 2.5 # replacing low values with the value of 2.5 metres\n",
    "df.ceiling_height.fillna(2.5, inplace=True) # filling NaNs with the value of 2.5 metres"
   ]
  },
  {
   "cell_type": "code",
   "execution_count": 15,
   "metadata": {},
   "outputs": [
    {
     "data": {
      "text/plain": [
       "0"
      ]
     },
     "execution_count": 15,
     "metadata": {},
     "output_type": "execute_result"
    }
   ],
   "source": [
    "df.ceiling_height.isna().sum()"
   ]
  },
  {
   "cell_type": "markdown",
   "metadata": {},
   "source": [
    "No missing values in column `ceiling_height`."
   ]
  },
  {
   "cell_type": "markdown",
   "metadata": {},
   "source": [
    "**Column `floors_total`**"
   ]
  },
  {
   "cell_type": "code",
   "execution_count": 16,
   "metadata": {},
   "outputs": [
    {
     "data": {
      "text/plain": [
       "86"
      ]
     },
     "execution_count": 16,
     "metadata": {},
     "output_type": "execute_result"
    }
   ],
   "source": [
    "df.floors_total.isna().sum()"
   ]
  },
  {
   "cell_type": "markdown",
   "metadata": {},
   "source": [
    "A total of 86 missing values (less than 0.5%). We can safely delete these rows, or we can leave them unchanged. We choose to keep it, but we want to change the data type from float to integer, as the storey cannot be measured in fractional values. As we cannot change the data type with NaNs in the column, we suggest to fill in with \"0\", which will allow us to change the type of data, and if necessary, we will know that there is missing data in these rows. Will check if the value \"0\" is missing in the column, so that we can replace it with it."
   ]
  },
  {
   "cell_type": "code",
   "execution_count": 17,
   "metadata": {},
   "outputs": [
    {
     "data": {
      "text/plain": [
       "array([16., 11.,  5., 14., 12., 26., 24., 27.,  9.,  6., 17., 25.,  3.,\n",
       "       23., 19., 18.,  4., 22.,  8.,  2., 10.,  7., 13., 15., nan, 20.,\n",
       "       28., 36., 21., 35., 34., 60.,  1., 29., 33., 52., 37.])"
      ]
     },
     "execution_count": 17,
     "metadata": {},
     "output_type": "execute_result"
    }
   ],
   "source": [
    "df.floors_total.unique() # making sure there is no '0' value in the column, so that we can safely fill in NaNs with"
   ]
  },
  {
   "cell_type": "code",
   "execution_count": 18,
   "metadata": {},
   "outputs": [],
   "source": [
    "df.floors_total.fillna(0, inplace=True) # filling in the NaNs with \"0\""
   ]
  },
  {
   "cell_type": "code",
   "execution_count": 19,
   "metadata": {},
   "outputs": [],
   "source": [
    "df.floors_total = df.floors_total.astype('int') # changing data type to integer"
   ]
  },
  {
   "cell_type": "markdown",
   "metadata": {},
   "source": [
    "**Column `living_area`**"
   ]
  },
  {
   "cell_type": "code",
   "execution_count": 20,
   "metadata": {},
   "outputs": [
    {
     "data": {
      "text/plain": [
       "1903"
      ]
     },
     "execution_count": 20,
     "metadata": {},
     "output_type": "execute_result"
    }
   ],
   "source": [
    "df.living_area.isna().sum()"
   ]
  },
  {
   "cell_type": "code",
   "execution_count": 21,
   "metadata": {},
   "outputs": [
    {
     "data": {
      "text/plain": [
       "0.9395373338721491"
      ]
     },
     "execution_count": 21,
     "metadata": {},
     "output_type": "execute_result"
    }
   ],
   "source": [
    "df.living_area.corr(df.total_area)"
   ]
  },
  {
   "cell_type": "markdown",
   "metadata": {},
   "source": [
    "There are 1903 missing values in the column `living_area` (approximately 8%). We have also checked that living area and total area are very correlated (the correlation coefficient is close to 1). Accordingly, we propose to replace the missing values in living area by the share of living area in the total floor area of the flat."
   ]
  },
  {
   "cell_type": "code",
   "execution_count": 22,
   "metadata": {},
   "outputs": [
    {
     "data": {
      "text/plain": [
       "mean      0.564766\n",
       "median    0.567860\n",
       "dtype: float64"
      ]
     },
     "execution_count": 22,
     "metadata": {},
     "output_type": "execute_result"
    }
   ],
   "source": [
    "(df.living_area/df.total_area).agg(['mean', 'median']) # calculating mean & median of living area in total area of the flat"
   ]
  },
  {
   "cell_type": "markdown",
   "metadata": {},
   "source": [
    "We can see that the arithmetic mean and the median are almost equal and reflect the share of living space in the total area of the flat. This proportion is 56%. We fill in the missing values of the living area with the corresponding value of the total floor area multiplied by 0.56."
   ]
  },
  {
   "cell_type": "code",
   "execution_count": 23,
   "metadata": {},
   "outputs": [],
   "source": [
    "df.living_area.fillna(0.56 * df.total_area, inplace=True)"
   ]
  },
  {
   "cell_type": "code",
   "execution_count": 24,
   "metadata": {},
   "outputs": [
    {
     "data": {
      "text/plain": [
       "0"
      ]
     },
     "execution_count": 24,
     "metadata": {},
     "output_type": "execute_result"
    }
   ],
   "source": [
    "df.living_area.isna().sum()"
   ]
  },
  {
   "cell_type": "markdown",
   "metadata": {},
   "source": [
    "There are no missing values in `living_area` column."
   ]
  },
  {
   "cell_type": "markdown",
   "metadata": {},
   "source": [
    "**Column `kitchen_area`**"
   ]
  },
  {
   "cell_type": "code",
   "execution_count": 25,
   "metadata": {},
   "outputs": [
    {
     "data": {
      "text/plain": [
       "2278"
      ]
     },
     "execution_count": 25,
     "metadata": {},
     "output_type": "execute_result"
    }
   ],
   "source": [
    "df.kitchen_area.isna().sum()"
   ]
  },
  {
   "cell_type": "code",
   "execution_count": 26,
   "metadata": {},
   "outputs": [
    {
     "data": {
      "text/plain": [
       "0.6091211711198314"
      ]
     },
     "execution_count": 26,
     "metadata": {},
     "output_type": "execute_result"
    }
   ],
   "source": [
    "df.kitchen_area.corr(df.total_area)"
   ]
  },
  {
   "cell_type": "markdown",
   "metadata": {},
   "source": [
    "There are 2278 missing values in the column (approximately 9.6%) and this parameter is also correlated with the total floor area (the correlation coefficient is 0.61). Although the correlation is not as strong as in the case of the living area, we still propose to treat these missing data by filling them in by the share of the kitchen area in the total flat area (the algorithm is similar to the filling in the missing data in the living area)."
   ]
  },
  {
   "cell_type": "code",
   "execution_count": 27,
   "metadata": {},
   "outputs": [
    {
     "data": {
      "text/plain": [
       "mean      0.187355\n",
       "median    0.172414\n",
       "dtype: float64"
      ]
     },
     "execution_count": 27,
     "metadata": {},
     "output_type": "execute_result"
    }
   ],
   "source": [
    "(df.kitchen_area / df.total_area).agg(['mean', 'median'])"
   ]
  },
  {
   "cell_type": "markdown",
   "metadata": {},
   "source": [
    "We see that the arithmetic mean and the median are almost equal and reflect the share of the kitchen area in the total area of the flat. This proportion is 18.7% and 17.2% respectively. We fill in the missing values of the kitchen area with the corresponding value of the total area of the flat, multiplied by 0.18."
   ]
  },
  {
   "cell_type": "code",
   "execution_count": 28,
   "metadata": {},
   "outputs": [
    {
     "data": {
      "text/plain": [
       "0"
      ]
     },
     "execution_count": 28,
     "metadata": {},
     "output_type": "execute_result"
    }
   ],
   "source": [
    "df.kitchen_area.fillna(0.18 * df.total_area, inplace=True)\n",
    "df.kitchen_area.isna().sum()"
   ]
  },
  {
   "cell_type": "markdown",
   "metadata": {},
   "source": [
    "There are no missing values in the `kitchen_area` column."
   ]
  },
  {
   "cell_type": "markdown",
   "metadata": {},
   "source": [
    "**Column `rooms`**"
   ]
  },
  {
   "cell_type": "markdown",
   "metadata": {},
   "source": [
    "Previously we have identified 197 flats with zero rooms."
   ]
  },
  {
   "cell_type": "code",
   "execution_count": 29,
   "metadata": {},
   "outputs": [
    {
     "data": {
      "text/plain": [
       "197"
      ]
     },
     "execution_count": 29,
     "metadata": {},
     "output_type": "execute_result"
    }
   ],
   "source": [
    "len(df.query('rooms==0')) # getting the amount of flats with zero rooms"
   ]
  },
  {
   "cell_type": "markdown",
   "metadata": {},
   "source": [
    "Supposing the number of rooms is '0' in the studio flats. Let's check the number of such overlaps."
   ]
  },
  {
   "cell_type": "code",
   "execution_count": 30,
   "metadata": {},
   "outputs": [
    {
     "data": {
      "text/plain": [
       "138"
      ]
     },
     "execution_count": 30,
     "metadata": {},
     "output_type": "execute_result"
    }
   ],
   "source": [
    "df.query('rooms==0 and studio==True').studio.count() # counting the number of overlaps between flats with \"0\" rooms and studios"
   ]
  },
  {
   "cell_type": "markdown",
   "metadata": {},
   "source": [
    "Let's assume that the remaining 59 flats with \"0\" rooms are also studios, but the users did not list them correctly. Let's change these flats to 'studio' status as well."
   ]
  },
  {
   "cell_type": "code",
   "execution_count": 31,
   "metadata": {},
   "outputs": [],
   "source": [
    "df.loc[(df['rooms']==0)|(df['studio']==False), 'studio'] = True"
   ]
  },
  {
   "cell_type": "markdown",
   "metadata": {},
   "source": [
    "Check that all flats with a number of rooms of '0' have the parameter 'studio'."
   ]
  },
  {
   "cell_type": "code",
   "execution_count": 32,
   "metadata": {},
   "outputs": [
    {
     "data": {
      "text/plain": [
       "197"
      ]
     },
     "execution_count": 32,
     "metadata": {},
     "output_type": "execute_result"
    }
   ],
   "source": [
    "df.query('rooms==0 and studio==True').studio.count()"
   ]
  },
  {
   "cell_type": "markdown",
   "metadata": {},
   "source": [
    "**Columns `airports_nearest`, `citycenters_nearest`, `parks_nearest`, `ponds_nearest`**"
   ]
  },
  {
   "cell_type": "markdown",
   "metadata": {},
   "source": [
    "A very high number of distance misses across the board (over 65% of missing distances to ponds and parks and over 23% of missing distances to the centre and airport). There are a lot of missing distances, but there is not much we can do about them. There is a clear fact of failure in cartographic data collection. We will reflect this fact in the Bug Report, and we will leave these columns as they are and will not fill in the missing values. "
   ]
  },
  {
   "cell_type": "markdown",
   "metadata": {},
   "source": [
    "**Columns `parks_around3000`, `ponds_around3000`**"
   ]
  },
  {
   "cell_type": "markdown",
   "metadata": {},
   "source": [
    "These columns have a float data type, while the logic of their values suggests an integer data type. Therefore change the data type in this column to `int`. This is only possible if there are no missing values in the column. Therefore, it is necessary to replace the missing values with a placeholder equal to `0'. In addition, it is logical to assume that users did not enter this parameter, as they do not have parks and ponds within a 3 km radius of their flat. Which also fits in with our chosen option of replacing the missing values with \"0\"."
   ]
  },
  {
   "cell_type": "code",
   "execution_count": 33,
   "metadata": {},
   "outputs": [],
   "source": [
    "df.parks_around3000.fillna(0, inplace=True)\n",
    "df.ponds_around3000.fillna(0, inplace=True)"
   ]
  },
  {
   "cell_type": "code",
   "execution_count": 34,
   "metadata": {},
   "outputs": [],
   "source": [
    "df.parks_around3000 = df.parks_around3000.astype('int')\n",
    "df.ponds_around3000 = df.ponds_around3000.astype('int')"
   ]
  },
  {
   "cell_type": "markdown",
   "metadata": {},
   "source": [
    "**Column `days_exposition`**"
   ]
  },
  {
   "cell_type": "code",
   "execution_count": 35,
   "metadata": {},
   "outputs": [
    {
     "data": {
      "text/plain": [
       "3181"
      ]
     },
     "execution_count": 35,
     "metadata": {},
     "output_type": "execute_result"
    }
   ],
   "source": [
    "df.days_exposition.isna().sum()"
   ]
  },
  {
   "cell_type": "code",
   "execution_count": 36,
   "metadata": {},
   "outputs": [
    {
     "data": {
      "text/plain": [
       "0"
      ]
     },
     "execution_count": 36,
     "metadata": {},
     "output_type": "execute_result"
    }
   ],
   "source": [
    "df.query('days_exposition == 0').days_exposition.count()"
   ]
  },
  {
   "cell_type": "markdown",
   "metadata": {},
   "source": [
    "The number of missing values is too high (13%) to remove. Also, the value data type is float, although it would be more logical to change it to integer. To make this technically possible, replace the missing values with placeholder == 0, which is a unique value for the given column. "
   ]
  },
  {
   "cell_type": "code",
   "execution_count": 37,
   "metadata": {},
   "outputs": [],
   "source": [
    "df.days_exposition.fillna(0, inplace=True)\n",
    "df.days_exposition = df.days_exposition.astype('int')"
   ]
  },
  {
   "cell_type": "markdown",
   "metadata": {},
   "source": [
    "**Column `first_day_exposition`**"
   ]
  },
  {
   "cell_type": "markdown",
   "metadata": {},
   "source": [
    "Since the `first_day_exposition` column represents the date, we will convert it to datetime data type. There are no missing values in this column."
   ]
  },
  {
   "cell_type": "code",
   "execution_count": 38,
   "metadata": {},
   "outputs": [],
   "source": [
    "df.first_day_exposition = pd.to_datetime(df.first_day_exposition, format='%Y-%m-%dT%H:%M:%S')"
   ]
  },
  {
   "cell_type": "markdown",
   "metadata": {},
   "source": [
    "**Column `last_price`**"
   ]
  },
  {
   "cell_type": "markdown",
   "metadata": {},
   "source": [
    "In order to make it easier to operate with the flat price, let's convert the float data type to an integer data type."
   ]
  },
  {
   "cell_type": "code",
   "execution_count": 39,
   "metadata": {},
   "outputs": [],
   "source": [
    "df.last_price = df.last_price.astype('int')"
   ]
  },
  {
   "cell_type": "code",
   "execution_count": 40,
   "metadata": {},
   "outputs": [
    {
     "data": {
      "text/html": [
       "<div>\n",
       "<style scoped>\n",
       "    .dataframe tbody tr th:only-of-type {\n",
       "        vertical-align: middle;\n",
       "    }\n",
       "\n",
       "    .dataframe tbody tr th {\n",
       "        vertical-align: top;\n",
       "    }\n",
       "\n",
       "    .dataframe thead th {\n",
       "        text-align: right;\n",
       "    }\n",
       "</style>\n",
       "<table border=\"1\" class=\"dataframe\">\n",
       "  <thead>\n",
       "    <tr style=\"text-align: right;\">\n",
       "      <th></th>\n",
       "      <th>total_images</th>\n",
       "      <th>last_price</th>\n",
       "      <th>total_area</th>\n",
       "      <th>first_day_exposition</th>\n",
       "      <th>rooms</th>\n",
       "      <th>ceiling_height</th>\n",
       "      <th>floors_total</th>\n",
       "      <th>living_area</th>\n",
       "      <th>floor</th>\n",
       "      <th>is_apartment</th>\n",
       "      <th>...</th>\n",
       "      <th>kitchen_area</th>\n",
       "      <th>balcony</th>\n",
       "      <th>locality_name</th>\n",
       "      <th>airports_nearest</th>\n",
       "      <th>citycenters_nearest</th>\n",
       "      <th>parks_around3000</th>\n",
       "      <th>parks_nearest</th>\n",
       "      <th>ponds_around3000</th>\n",
       "      <th>ponds_nearest</th>\n",
       "      <th>days_exposition</th>\n",
       "    </tr>\n",
       "  </thead>\n",
       "  <tbody>\n",
       "    <tr>\n",
       "      <td>0</td>\n",
       "      <td>20</td>\n",
       "      <td>13000000</td>\n",
       "      <td>108.0</td>\n",
       "      <td>2019-03-07</td>\n",
       "      <td>3</td>\n",
       "      <td>2.70</td>\n",
       "      <td>16</td>\n",
       "      <td>51.00</td>\n",
       "      <td>8</td>\n",
       "      <td>False</td>\n",
       "      <td>...</td>\n",
       "      <td>25.00</td>\n",
       "      <td>0</td>\n",
       "      <td>Санкт-Петербург</td>\n",
       "      <td>18863.0</td>\n",
       "      <td>16028.0</td>\n",
       "      <td>1</td>\n",
       "      <td>482.0</td>\n",
       "      <td>2</td>\n",
       "      <td>755.0</td>\n",
       "      <td>0</td>\n",
       "    </tr>\n",
       "    <tr>\n",
       "      <td>1</td>\n",
       "      <td>7</td>\n",
       "      <td>3350000</td>\n",
       "      <td>40.4</td>\n",
       "      <td>2018-12-04</td>\n",
       "      <td>1</td>\n",
       "      <td>2.50</td>\n",
       "      <td>11</td>\n",
       "      <td>18.60</td>\n",
       "      <td>1</td>\n",
       "      <td>False</td>\n",
       "      <td>...</td>\n",
       "      <td>11.00</td>\n",
       "      <td>2</td>\n",
       "      <td>посёлок Шушары</td>\n",
       "      <td>12817.0</td>\n",
       "      <td>18603.0</td>\n",
       "      <td>0</td>\n",
       "      <td>NaN</td>\n",
       "      <td>0</td>\n",
       "      <td>NaN</td>\n",
       "      <td>81</td>\n",
       "    </tr>\n",
       "    <tr>\n",
       "      <td>2</td>\n",
       "      <td>10</td>\n",
       "      <td>5196000</td>\n",
       "      <td>56.0</td>\n",
       "      <td>2015-08-20</td>\n",
       "      <td>2</td>\n",
       "      <td>2.50</td>\n",
       "      <td>5</td>\n",
       "      <td>34.30</td>\n",
       "      <td>4</td>\n",
       "      <td>False</td>\n",
       "      <td>...</td>\n",
       "      <td>8.30</td>\n",
       "      <td>0</td>\n",
       "      <td>Санкт-Петербург</td>\n",
       "      <td>21741.0</td>\n",
       "      <td>13933.0</td>\n",
       "      <td>1</td>\n",
       "      <td>90.0</td>\n",
       "      <td>2</td>\n",
       "      <td>574.0</td>\n",
       "      <td>558</td>\n",
       "    </tr>\n",
       "    <tr>\n",
       "      <td>3</td>\n",
       "      <td>0</td>\n",
       "      <td>64900000</td>\n",
       "      <td>159.0</td>\n",
       "      <td>2015-07-24</td>\n",
       "      <td>3</td>\n",
       "      <td>2.50</td>\n",
       "      <td>14</td>\n",
       "      <td>89.04</td>\n",
       "      <td>9</td>\n",
       "      <td>False</td>\n",
       "      <td>...</td>\n",
       "      <td>28.62</td>\n",
       "      <td>0</td>\n",
       "      <td>Санкт-Петербург</td>\n",
       "      <td>28098.0</td>\n",
       "      <td>6800.0</td>\n",
       "      <td>2</td>\n",
       "      <td>84.0</td>\n",
       "      <td>3</td>\n",
       "      <td>234.0</td>\n",
       "      <td>424</td>\n",
       "    </tr>\n",
       "    <tr>\n",
       "      <td>4</td>\n",
       "      <td>2</td>\n",
       "      <td>10000000</td>\n",
       "      <td>100.0</td>\n",
       "      <td>2018-06-19</td>\n",
       "      <td>2</td>\n",
       "      <td>3.03</td>\n",
       "      <td>14</td>\n",
       "      <td>32.00</td>\n",
       "      <td>13</td>\n",
       "      <td>False</td>\n",
       "      <td>...</td>\n",
       "      <td>41.00</td>\n",
       "      <td>0</td>\n",
       "      <td>Санкт-Петербург</td>\n",
       "      <td>31856.0</td>\n",
       "      <td>8098.0</td>\n",
       "      <td>2</td>\n",
       "      <td>112.0</td>\n",
       "      <td>1</td>\n",
       "      <td>48.0</td>\n",
       "      <td>121</td>\n",
       "    </tr>\n",
       "  </tbody>\n",
       "</table>\n",
       "<p>5 rows × 22 columns</p>\n",
       "</div>"
      ],
      "text/plain": [
       "   total_images  last_price  total_area first_day_exposition  rooms  \\\n",
       "0            20    13000000       108.0           2019-03-07      3   \n",
       "1             7     3350000        40.4           2018-12-04      1   \n",
       "2            10     5196000        56.0           2015-08-20      2   \n",
       "3             0    64900000       159.0           2015-07-24      3   \n",
       "4             2    10000000       100.0           2018-06-19      2   \n",
       "\n",
       "   ceiling_height  floors_total  living_area  floor  is_apartment  ...  \\\n",
       "0            2.70            16        51.00      8         False  ...   \n",
       "1            2.50            11        18.60      1         False  ...   \n",
       "2            2.50             5        34.30      4         False  ...   \n",
       "3            2.50            14        89.04      9         False  ...   \n",
       "4            3.03            14        32.00     13         False  ...   \n",
       "\n",
       "   kitchen_area  balcony    locality_name  airports_nearest  \\\n",
       "0         25.00        0  Санкт-Петербург           18863.0   \n",
       "1         11.00        2   посёлок Шушары           12817.0   \n",
       "2          8.30        0  Санкт-Петербург           21741.0   \n",
       "3         28.62        0  Санкт-Петербург           28098.0   \n",
       "4         41.00        0  Санкт-Петербург           31856.0   \n",
       "\n",
       "  citycenters_nearest  parks_around3000  parks_nearest  ponds_around3000  \\\n",
       "0             16028.0                 1          482.0                 2   \n",
       "1             18603.0                 0            NaN                 0   \n",
       "2             13933.0                 1           90.0                 2   \n",
       "3              6800.0                 2           84.0                 3   \n",
       "4              8098.0                 2          112.0                 1   \n",
       "\n",
       "   ponds_nearest  days_exposition  \n",
       "0          755.0                0  \n",
       "1            NaN               81  \n",
       "2          574.0              558  \n",
       "3          234.0              424  \n",
       "4           48.0              121  \n",
       "\n",
       "[5 rows x 22 columns]"
      ]
     },
     "execution_count": 40,
     "metadata": {},
     "output_type": "execute_result"
    }
   ],
   "source": [
    "df.head()"
   ]
  },
  {
   "cell_type": "code",
   "execution_count": 41,
   "metadata": {},
   "outputs": [
    {
     "name": "stdout",
     "output_type": "stream",
     "text": [
      "<class 'pandas.core.frame.DataFrame'>\n",
      "RangeIndex: 23699 entries, 0 to 23698\n",
      "Data columns (total 22 columns):\n",
      "total_images            23699 non-null int64\n",
      "last_price              23699 non-null int64\n",
      "total_area              23699 non-null float64\n",
      "first_day_exposition    23699 non-null datetime64[ns]\n",
      "rooms                   23699 non-null int64\n",
      "ceiling_height          23699 non-null float64\n",
      "floors_total            23699 non-null int64\n",
      "living_area             23699 non-null float64\n",
      "floor                   23699 non-null int64\n",
      "is_apartment            23699 non-null bool\n",
      "studio                  23699 non-null bool\n",
      "open_plan               23699 non-null bool\n",
      "kitchen_area            23699 non-null float64\n",
      "balcony                 23699 non-null int64\n",
      "locality_name           23650 non-null object\n",
      "airports_nearest        18157 non-null float64\n",
      "citycenters_nearest     18180 non-null float64\n",
      "parks_around3000        23699 non-null int64\n",
      "parks_nearest           8079 non-null float64\n",
      "ponds_around3000        23699 non-null int64\n",
      "ponds_nearest           9110 non-null float64\n",
      "days_exposition         23699 non-null int64\n",
      "dtypes: bool(3), datetime64[ns](1), float64(8), int64(9), object(1)\n",
      "memory usage: 3.5+ MB\n"
     ]
    }
   ],
   "source": [
    "df.info()"
   ]
  },
  {
   "cell_type": "markdown",
   "metadata": {},
   "source": [
    "**Checking for duplicates**"
   ]
  },
  {
   "cell_type": "code",
   "execution_count": 42,
   "metadata": {},
   "outputs": [
    {
     "data": {
      "text/plain": [
       "0"
      ]
     },
     "execution_count": 42,
     "metadata": {},
     "output_type": "execute_result"
    }
   ],
   "source": [
    "df.duplicated().sum()"
   ]
  },
  {
   "cell_type": "markdown",
   "metadata": {},
   "source": [
    "No duplicates."
   ]
  },
  {
   "cell_type": "markdown",
   "metadata": {},
   "source": [
    "**Conclusion**.\n",
    "\n",
    "1. Filled in the missing values in all columns, except for the columns containing cartographic data about the distance to the centre, airport, parks and ponds.\n",
    "2. Filled in the missing values in the columns on the number of parks and ponds within a 3km radius and the number of days the advertisement has been published with a \"0\" placeholder. This placeholder will indicate no data.\n",
    "3 The many missing values in columns with the automatically collected distance data may indicate a system error that is preventing the data from being filled in. \n",
    "4. The data on the number of pictures, price, number of rooms, number of balconies, specific floor, total floor of the house, number of days were converted into integer type. The column with the info about the date of placement has been converted to a date format."
   ]
  },
  {
   "cell_type": "markdown",
   "metadata": {},
   "source": [
    "## Calculations and adding results to the table"
   ]
  },
  {
   "cell_type": "markdown",
   "metadata": {},
   "source": [
    "**Will calculate and add to the table the price per square metre**"
   ]
  },
  {
   "cell_type": "code",
   "execution_count": 43,
   "metadata": {},
   "outputs": [],
   "source": [
    "df['price_per_square_m'] = (df.last_price / df.total_area).astype('int')"
   ]
  },
  {
   "cell_type": "markdown",
   "metadata": {},
   "source": [
    "**Will calculate and add to the table the day of the week, month and year of publication of the ad**"
   ]
  },
  {
   "cell_type": "code",
   "execution_count": 44,
   "metadata": {},
   "outputs": [],
   "source": [
    "df['exposition_day'] = df.first_day_exposition.dt.weekday\n",
    "df['exposition_month'] = df.first_day_exposition.dt.month\n",
    "df['exposition_year'] = df.first_day_exposition.dt.year"
   ]
  },
  {
   "cell_type": "markdown",
   "metadata": {},
   "source": [
    "**Will categorise the flat floor data (first, last, other) and add the appropriate column to the table**"
   ]
  },
  {
   "cell_type": "code",
   "execution_count": 45,
   "metadata": {},
   "outputs": [],
   "source": [
    "def floor_category(row):\n",
    "    \n",
    "    \"\"\"\n",
    "The function receives a row as input and returns the floor category - first, last or other.\n",
    "       \n",
    "    \"\"\"\n",
    "    \n",
    "    floor = row['floor']\n",
    "    floors_total = row['floors_total']\n",
    "    \n",
    "    try:\n",
    "        if floor == 1:\n",
    "            return 'первый'\n",
    "        elif floor == floors_total:\n",
    "            return 'последний'\n",
    "        return 'другой'\n",
    "    \n",
    "    except:\n",
    "        return 'Input Value Error'"
   ]
  },
  {
   "cell_type": "code",
   "execution_count": 46,
   "metadata": {},
   "outputs": [],
   "source": [
    "# creating a column with the floor category and fill it in with the result of the function call\n",
    "\n",
    "df['floor_category'] = df.apply(floor_category, axis=1)"
   ]
  },
  {
   "cell_type": "markdown",
   "metadata": {},
   "source": [
    "**Calculate and add to the table the ratio of living area to total area, and the ratio of kitchen area to total area."
   ]
  },
  {
   "cell_type": "code",
   "execution_count": 47,
   "metadata": {},
   "outputs": [],
   "source": [
    "df['living_total_ratio'] = (df['living_area'] / df['total_area']).round(2)\n",
    "df['kitchen_total_ratio'] = (df['kitchen_area'] / df['total_area']).round(2)"
   ]
  },
  {
   "cell_type": "code",
   "execution_count": 48,
   "metadata": {},
   "outputs": [
    {
     "data": {
      "text/html": [
       "<div>\n",
       "<style scoped>\n",
       "    .dataframe tbody tr th:only-of-type {\n",
       "        vertical-align: middle;\n",
       "    }\n",
       "\n",
       "    .dataframe tbody tr th {\n",
       "        vertical-align: top;\n",
       "    }\n",
       "\n",
       "    .dataframe thead th {\n",
       "        text-align: right;\n",
       "    }\n",
       "</style>\n",
       "<table border=\"1\" class=\"dataframe\">\n",
       "  <thead>\n",
       "    <tr style=\"text-align: right;\">\n",
       "      <th></th>\n",
       "      <th>total_images</th>\n",
       "      <th>last_price</th>\n",
       "      <th>total_area</th>\n",
       "      <th>first_day_exposition</th>\n",
       "      <th>rooms</th>\n",
       "      <th>ceiling_height</th>\n",
       "      <th>floors_total</th>\n",
       "      <th>living_area</th>\n",
       "      <th>floor</th>\n",
       "      <th>is_apartment</th>\n",
       "      <th>...</th>\n",
       "      <th>ponds_around3000</th>\n",
       "      <th>ponds_nearest</th>\n",
       "      <th>days_exposition</th>\n",
       "      <th>price_per_square_m</th>\n",
       "      <th>exposition_day</th>\n",
       "      <th>exposition_month</th>\n",
       "      <th>exposition_year</th>\n",
       "      <th>floor_category</th>\n",
       "      <th>living_total_ratio</th>\n",
       "      <th>kitchen_total_ratio</th>\n",
       "    </tr>\n",
       "  </thead>\n",
       "  <tbody>\n",
       "    <tr>\n",
       "      <td>0</td>\n",
       "      <td>20</td>\n",
       "      <td>13000000</td>\n",
       "      <td>108.0</td>\n",
       "      <td>2019-03-07</td>\n",
       "      <td>3</td>\n",
       "      <td>2.70</td>\n",
       "      <td>16</td>\n",
       "      <td>51.00</td>\n",
       "      <td>8</td>\n",
       "      <td>False</td>\n",
       "      <td>...</td>\n",
       "      <td>2</td>\n",
       "      <td>755.0</td>\n",
       "      <td>0</td>\n",
       "      <td>120370</td>\n",
       "      <td>3</td>\n",
       "      <td>3</td>\n",
       "      <td>2019</td>\n",
       "      <td>другой</td>\n",
       "      <td>0.47</td>\n",
       "      <td>0.23</td>\n",
       "    </tr>\n",
       "    <tr>\n",
       "      <td>1</td>\n",
       "      <td>7</td>\n",
       "      <td>3350000</td>\n",
       "      <td>40.4</td>\n",
       "      <td>2018-12-04</td>\n",
       "      <td>1</td>\n",
       "      <td>2.50</td>\n",
       "      <td>11</td>\n",
       "      <td>18.60</td>\n",
       "      <td>1</td>\n",
       "      <td>False</td>\n",
       "      <td>...</td>\n",
       "      <td>0</td>\n",
       "      <td>NaN</td>\n",
       "      <td>81</td>\n",
       "      <td>82920</td>\n",
       "      <td>1</td>\n",
       "      <td>12</td>\n",
       "      <td>2018</td>\n",
       "      <td>первый</td>\n",
       "      <td>0.46</td>\n",
       "      <td>0.27</td>\n",
       "    </tr>\n",
       "    <tr>\n",
       "      <td>2</td>\n",
       "      <td>10</td>\n",
       "      <td>5196000</td>\n",
       "      <td>56.0</td>\n",
       "      <td>2015-08-20</td>\n",
       "      <td>2</td>\n",
       "      <td>2.50</td>\n",
       "      <td>5</td>\n",
       "      <td>34.30</td>\n",
       "      <td>4</td>\n",
       "      <td>False</td>\n",
       "      <td>...</td>\n",
       "      <td>2</td>\n",
       "      <td>574.0</td>\n",
       "      <td>558</td>\n",
       "      <td>92785</td>\n",
       "      <td>3</td>\n",
       "      <td>8</td>\n",
       "      <td>2015</td>\n",
       "      <td>другой</td>\n",
       "      <td>0.61</td>\n",
       "      <td>0.15</td>\n",
       "    </tr>\n",
       "    <tr>\n",
       "      <td>3</td>\n",
       "      <td>0</td>\n",
       "      <td>64900000</td>\n",
       "      <td>159.0</td>\n",
       "      <td>2015-07-24</td>\n",
       "      <td>3</td>\n",
       "      <td>2.50</td>\n",
       "      <td>14</td>\n",
       "      <td>89.04</td>\n",
       "      <td>9</td>\n",
       "      <td>False</td>\n",
       "      <td>...</td>\n",
       "      <td>3</td>\n",
       "      <td>234.0</td>\n",
       "      <td>424</td>\n",
       "      <td>408176</td>\n",
       "      <td>4</td>\n",
       "      <td>7</td>\n",
       "      <td>2015</td>\n",
       "      <td>другой</td>\n",
       "      <td>0.56</td>\n",
       "      <td>0.18</td>\n",
       "    </tr>\n",
       "    <tr>\n",
       "      <td>4</td>\n",
       "      <td>2</td>\n",
       "      <td>10000000</td>\n",
       "      <td>100.0</td>\n",
       "      <td>2018-06-19</td>\n",
       "      <td>2</td>\n",
       "      <td>3.03</td>\n",
       "      <td>14</td>\n",
       "      <td>32.00</td>\n",
       "      <td>13</td>\n",
       "      <td>False</td>\n",
       "      <td>...</td>\n",
       "      <td>1</td>\n",
       "      <td>48.0</td>\n",
       "      <td>121</td>\n",
       "      <td>100000</td>\n",
       "      <td>1</td>\n",
       "      <td>6</td>\n",
       "      <td>2018</td>\n",
       "      <td>другой</td>\n",
       "      <td>0.32</td>\n",
       "      <td>0.41</td>\n",
       "    </tr>\n",
       "  </tbody>\n",
       "</table>\n",
       "<p>5 rows × 29 columns</p>\n",
       "</div>"
      ],
      "text/plain": [
       "   total_images  last_price  total_area first_day_exposition  rooms  \\\n",
       "0            20    13000000       108.0           2019-03-07      3   \n",
       "1             7     3350000        40.4           2018-12-04      1   \n",
       "2            10     5196000        56.0           2015-08-20      2   \n",
       "3             0    64900000       159.0           2015-07-24      3   \n",
       "4             2    10000000       100.0           2018-06-19      2   \n",
       "\n",
       "   ceiling_height  floors_total  living_area  floor  is_apartment  ...  \\\n",
       "0            2.70            16        51.00      8         False  ...   \n",
       "1            2.50            11        18.60      1         False  ...   \n",
       "2            2.50             5        34.30      4         False  ...   \n",
       "3            2.50            14        89.04      9         False  ...   \n",
       "4            3.03            14        32.00     13         False  ...   \n",
       "\n",
       "   ponds_around3000  ponds_nearest  days_exposition  price_per_square_m  \\\n",
       "0                 2          755.0                0              120370   \n",
       "1                 0            NaN               81               82920   \n",
       "2                 2          574.0              558               92785   \n",
       "3                 3          234.0              424              408176   \n",
       "4                 1           48.0              121              100000   \n",
       "\n",
       "  exposition_day  exposition_month  exposition_year  floor_category  \\\n",
       "0              3                 3             2019          другой   \n",
       "1              1                12             2018          первый   \n",
       "2              3                 8             2015          другой   \n",
       "3              4                 7             2015          другой   \n",
       "4              1                 6             2018          другой   \n",
       "\n",
       "   living_total_ratio  kitchen_total_ratio  \n",
       "0                0.47                 0.23  \n",
       "1                0.46                 0.27  \n",
       "2                0.61                 0.15  \n",
       "3                0.56                 0.18  \n",
       "4                0.32                 0.41  \n",
       "\n",
       "[5 rows x 29 columns]"
      ]
     },
     "execution_count": 48,
     "metadata": {},
     "output_type": "execute_result"
    }
   ],
   "source": [
    "df.head()"
   ]
  },
  {
   "cell_type": "markdown",
   "metadata": {},
   "source": [
    "## Exploratory Data Analysis "
   ]
  },
  {
   "cell_type": "markdown",
   "metadata": {},
   "source": [
    "### Studying the following parameters: area, price, number of rooms, height of ceilings. Plotting histograms\n",
    "\n",
    "**Area**\n",
    "\n",
    "Let's build a histogram to check the distribution of flats by area."
   ]
  },
  {
   "cell_type": "code",
   "execution_count": 49,
   "metadata": {},
   "outputs": [
    {
     "data": {
      "image/png": "[encoded data removed]",
      "text/plain": [
       "<Figure size 432x288 with 1 Axes>"
      ]
     },
     "metadata": {
      "needs_background": "light"
     },
     "output_type": "display_data"
    }
   ],
   "source": [
    "sns.histplot(df['total_area'])\n",
    "plt.title('Гистограмма общей площади квартиры')\n",
    "plt.xlabel('Общая площадь, кв.м')\n",
    "plt.ylabel('Частота')\n",
    "plt.show()"
   ]
  },
  {
   "cell_type": "markdown",
   "metadata": {},
   "source": [
    "The distribution is positive and similar to the Poisson distribution, where most values are concentrated at the beginning and there is a long tail - there are clearly highly outstanding values. It may indeed not be flats, but houses with large areas, which is also likely. Let's calculate the proportion of flats with the area less than 200 sqm."
   ]
  },
  {
   "cell_type": "code",
   "execution_count": 50,
   "metadata": {},
   "outputs": [
    {
     "name": "stdout",
     "output_type": "stream",
     "text": [
      "Доля квартир с площадью меньше 200 кв.м составляет: 99.0%\n"
     ]
    }
   ],
   "source": [
    "print('Доля квартир с площадью меньше 200 кв.м составляет: {:.1%}'.format(df.query(\"total_area < 200\").shape[0]/df.shape[0]))"
   ]
  },
  {
   "cell_type": "markdown",
   "metadata": {},
   "source": [
    "As we can see, almost all flats are included in a reasonable footprint and adequate space allocation. Let's take a closer look at flats under 200 sqm."
   ]
  },
  {
   "cell_type": "code",
   "execution_count": 51,
   "metadata": {},
   "outputs": [
    {
     "data": {
      "image/png": "[encoded data removed]",
      "text/plain": [
       "<Figure size 432x288 with 1 Axes>"
      ]
     },
     "metadata": {
      "needs_background": "light"
     },
     "output_type": "display_data"
    }
   ],
   "source": [
    "sns.histplot(df['total_area'], kde=True, bins=45)\n",
    "plt.xlim(0, 200)\n",
    "plt.title('Гистограмма общей площади квартиры')\n",
    "plt.xlabel('Общая площадь, кв.м')\n",
    "plt.ylabel('Частота')\n",
    "plt.show()"
   ]
  },
  {
   "cell_type": "markdown",
   "metadata": {},
   "source": [
    "Most flats are between 40 and 60 square metres in size."
   ]
  },
  {
   "cell_type": "markdown",
   "metadata": {},
   "source": [
    "**Price**"
   ]
  },
  {
   "cell_type": "code",
   "execution_count": 52,
   "metadata": {},
   "outputs": [
    {
     "data": {
      "image/png": "[encoded data removed]",
      "text/plain": [
       "<Figure size 432x288 with 1 Axes>"
      ]
     },
     "metadata": {
      "needs_background": "light"
     },
     "output_type": "display_data"
    }
   ],
   "source": [
    "sns.histplot(df['last_price'])\n",
    "plt.title('Гистограмма цен')\n",
    "plt.xlabel('Цена, 10 млн. руб')\n",
    "plt.ylabel('Частота')\n",
    "plt.show()"
   ]
  },
  {
   "cell_type": "markdown",
   "metadata": {},
   "source": [
    "We see a distinctive peak in the value of flats up to 15000000 million roubles and a long tail, indicating the presence of very expensive properties, although their share is not high. Let's calculate the share of flats priced up to 15 million roubles."
   ]
  },
  {
   "cell_type": "code",
   "execution_count": 53,
   "metadata": {},
   "outputs": [
    {
     "name": "stdout",
     "output_type": "stream",
     "text": [
      "Доля квартир стоимостью менее 1 млн. рублей составляет: 94.7%\n"
     ]
    }
   ],
   "source": [
    "print('Доля квартир стоимостью менее 1 млн. рублей составляет: {:.1%}'.format(df.query(\"last_price < 15000000\").shape[0]/df.shape[0]))"
   ]
  },
  {
   "cell_type": "markdown",
   "metadata": {},
   "source": [
    "Let's analyse the flats in this price range, which make up the majority of properties."
   ]
  },
  {
   "cell_type": "code",
   "execution_count": 54,
   "metadata": {},
   "outputs": [
    {
     "data": {
      "image/png": "[encoded data removed]",
      "text/plain": [
       "<Figure size 432x288 with 1 Axes>"
      ]
     },
     "metadata": {
      "needs_background": "light"
     },
     "output_type": "display_data"
    }
   ],
   "source": [
    "sns.histplot(df['last_price'], kde=True, bins=500)\n",
    "plt.title('Гистограмма цен')\n",
    "plt.xlabel('Цена, 10 млн. руб')\n",
    "plt.ylabel('Частота')\n",
    "plt.xlim(0,15000000)\n",
    "plt.show()"
   ]
  },
  {
   "cell_type": "markdown",
   "metadata": {},
   "source": [
    "Most of the flats are in the price range of 3 million to 6 million roubles."
   ]
  },
  {
   "cell_type": "markdown",
   "metadata": {},
   "source": [
    "**Number of rooms**"
   ]
  },
  {
   "cell_type": "code",
   "execution_count": 55,
   "metadata": {},
   "outputs": [
    {
     "data": {
      "image/png": "[encoded data removed]",
      "text/plain": [
       "<Figure size 432x288 with 1 Axes>"
      ]
     },
     "metadata": {
      "needs_background": "light"
     },
     "output_type": "display_data"
    }
   ],
   "source": [
    "sns.histplot(df['rooms'], kde=True)\n",
    "plt.title('Гистограмма комнат')\n",
    "plt.xlabel('Количество комнат')\n",
    "plt.ylabel('Частота')\n",
    "plt.show()"
   ]
  },
  {
   "cell_type": "code",
   "execution_count": 56,
   "metadata": {},
   "outputs": [
    {
     "data": {
      "text/plain": [
       "19"
      ]
     },
     "execution_count": 56,
     "metadata": {},
     "output_type": "execute_result"
    }
   ],
   "source": [
    "# finding max number of rooms\n",
    "df.rooms.max() "
   ]
  },
  {
   "cell_type": "markdown",
   "metadata": {},
   "source": [
    "We see that the distribution is normal with three peaks at the beginning. Obviously these peaks are in the 1, 2 and 3 room flats. The long tail is in the minimum number of flats with particularly large numbers of rooms. Let's look at the distribution on a different scale."
   ]
  },
  {
   "cell_type": "code",
   "execution_count": 57,
   "metadata": {},
   "outputs": [
    {
     "data": {
      "image/png": "[encoded data removed]",
      "text/plain": [
       "<Figure size 432x288 with 1 Axes>"
      ]
     },
     "metadata": {
      "needs_background": "light"
     },
     "output_type": "display_data"
    }
   ],
   "source": [
    "sns.histplot(df['rooms'], bins=100)\n",
    "plt.title('Гистограмма комнат')\n",
    "plt.xlabel('Количество комнат')\n",
    "plt.ylabel('Частота')\n",
    "plt.xlim(0,8)\n",
    "plt.show()"
   ]
  },
  {
   "cell_type": "markdown",
   "metadata": {},
   "source": [
    "The vast majority of the flats have one, two and three bedrooms. There are also flats with \"0\" number of rooms - studios. This is the expected distribution. It is exactly what we expected to see."
   ]
  },
  {
   "cell_type": "markdown",
   "metadata": {},
   "source": [
    "**Ceiling height**"
   ]
  },
  {
   "cell_type": "code",
   "execution_count": 58,
   "metadata": {},
   "outputs": [
    {
     "data": {
      "image/png": "[encoded data removed]",
      "text/plain": [
       "<Figure size 432x288 with 1 Axes>"
      ]
     },
     "metadata": {
      "needs_background": "light"
     },
     "output_type": "display_data"
    }
   ],
   "source": [
    "sns.histplot(df['ceiling_height'], kde=False, bins=750)\n",
    "plt.title('Гистограмма высоты потолков')\n",
    "plt.xlabel('Высота потолков, м.')\n",
    "plt.ylabel('Частота')\n",
    "plt.xlim(2,4)\n",
    "plt.show()"
   ]
  },
  {
   "cell_type": "markdown",
   "metadata": {},
   "source": [
    "The main peak at the standard ceiling height of 2.5 metres. Quite an expected distribution within the frame of common sense. Anomalous values above 5 metres are also present, and not even adequate, such as a maximum value of 100 metres. These are clearly outliers and will be handled further."
   ]
  },
  {
   "cell_type": "markdown",
   "metadata": {},
   "source": [
    "### Studying the duration of the flat being sold"
   ]
  },
  {
   "cell_type": "code",
   "execution_count": 59,
   "metadata": {},
   "outputs": [
    {
     "data": {
      "image/png": "[encoded data removed]",
      "text/plain": [
       "<Figure size 432x288 with 1 Axes>"
      ]
     },
     "metadata": {
      "needs_background": "light"
     },
     "output_type": "display_data"
    }
   ],
   "source": [
    "sns.histplot(df['days_exposition'])\n",
    "plt.title('Гистограмма длительности продажи квартиры')\n",
    "plt.xlabel('Длительность продажи, дн.')\n",
    "plt.ylabel('Частота')\n",
    "plt.show()"
   ]
  },
  {
   "cell_type": "markdown",
   "metadata": {},
   "source": [
    "We can clearly see that the bulk of the flats are sold within 200 days, followed by a long tail that follows us through all the histograms. This tail most likely indicates long sales of very large flats with a very high number of rooms and houses. Let's change the scale of the histogram slightly."
   ]
  },
  {
   "cell_type": "code",
   "execution_count": 60,
   "metadata": {
    "scrolled": true
   },
   "outputs": [
    {
     "data": {
      "image/png": "[encoded data removed]",
      "text/plain": [
       "<Figure size 432x288 with 1 Axes>"
      ]
     },
     "metadata": {
      "needs_background": "light"
     },
     "output_type": "display_data"
    }
   ],
   "source": [
    "sns.histplot(df['days_exposition'], kde=True, bins=50)\n",
    "plt.title('Гистограмма длительности продажи квартиры')\n",
    "plt.xlabel('Длительность продажи, дн.')\n",
    "plt.ylabel('Частота')\n",
    "plt.xlim(0,500)\n",
    "plt.show()"
   ]
  },
  {
   "cell_type": "markdown",
   "metadata": {},
   "source": [
    "Obviously, the vast majority of sales occur in the first six months. Let's look at the basic descriptive statistics of sales duration using the `describe' method."
   ]
  },
  {
   "cell_type": "code",
   "execution_count": 61,
   "metadata": {},
   "outputs": [
    {
     "data": {
      "text/plain": [
       "count    23699.000000\n",
       "mean       156.608844\n",
       "std        213.546873\n",
       "min          0.000000\n",
       "25%         22.000000\n",
       "50%         74.000000\n",
       "75%        199.000000\n",
       "max       1580.000000\n",
       "Name: days_exposition, dtype: float64"
      ]
     },
     "execution_count": 61,
     "metadata": {},
     "output_type": "execute_result"
    }
   ],
   "source": [
    "df.days_exposition.describe()"
   ]
  },
  {
   "cell_type": "code",
   "execution_count": 62,
   "metadata": {},
   "outputs": [
    {
     "data": {
      "text/plain": [
       "79.17633655428499"
      ]
     },
     "execution_count": 62,
     "metadata": {},
     "output_type": "execute_result"
    }
   ],
   "source": [
    "# checking the proportion of sales with the duration between 1 and 500 days\n",
    "\n",
    "len(df.query('0 < days_exposition < 500'))/len(df)*100"
   ]
  },
  {
   "cell_type": "markdown",
   "metadata": {},
   "source": [
    "What is striking is the fact that there is a minimum of \"0\" days duration of the sale ads, and the fact of the sale is too long at 1580 days. The value \"0\" is a placeholder, indicating a lack of data, and the value of 1580 is clearly anamalous, and for the purity of the conclusions on the distribution of time of sale of flats, we will exclude these artifacts. And the maximum time of sale will limit to about 500 days, as the histograms show that in this time frame fits about 80% of sales."
   ]
  },
  {
   "cell_type": "code",
   "execution_count": 63,
   "metadata": {},
   "outputs": [
    {
     "data": {
      "text/plain": [
       "count    18764.000000\n",
       "mean       127.045726\n",
       "std        119.120186\n",
       "min          1.000000\n",
       "25%         41.000000\n",
       "50%         84.000000\n",
       "75%        181.000000\n",
       "max        499.000000\n",
       "Name: days_exposition, dtype: float64"
      ]
     },
     "execution_count": 63,
     "metadata": {},
     "output_type": "execute_result"
    }
   ],
   "source": [
    "df.query('0 < days_exposition < 500').days_exposition.describe()"
   ]
  },
  {
   "cell_type": "markdown",
   "metadata": {},
   "source": [
    "The average selling time is 127 days and the median is 84 days, which means that half of the flats sell faster than 84 days. The average value is quite different from the median value, indicating that even though we have limited our tail to 500, there is still a significant number of flats with a high selling time. Although these values are within the normal distribution boundaries, the average is still too high. \n",
    "\n",
    "One can also see that the sale of half of the flats is within an interval between 41 days and 181 days (between Q1 & Q3), which is almost 5 months. It can be assumed that flats selling faster than 41 days have been sold quite quickly, while flats selling longer than 181 days have been sold quite slowly.\n"
   ]
  },
  {
   "cell_type": "markdown",
   "metadata": {},
   "source": [
    "### Removing rare and outlying values"
   ]
  },
  {
   "cell_type": "markdown",
   "metadata": {},
   "source": [
    "During the initial analysis of the data and the plotting of histograms, we found a fair number of anomalous values. It is better to exclude these values in a further detailed analysis.\n",
    "\n",
    "We will study the main parameters of the flats: area, price, number of rooms, height of ceilings and duration of sale."
   ]
  },
  {
   "cell_type": "code",
   "execution_count": 64,
   "metadata": {},
   "outputs": [
    {
     "data": {
      "text/html": [
       "<div>\n",
       "<style scoped>\n",
       "    .dataframe tbody tr th:only-of-type {\n",
       "        vertical-align: middle;\n",
       "    }\n",
       "\n",
       "    .dataframe tbody tr th {\n",
       "        vertical-align: top;\n",
       "    }\n",
       "\n",
       "    .dataframe thead th {\n",
       "        text-align: right;\n",
       "    }\n",
       "</style>\n",
       "<table border=\"1\" class=\"dataframe\">\n",
       "  <thead>\n",
       "    <tr style=\"text-align: right;\">\n",
       "      <th></th>\n",
       "      <th>total_area</th>\n",
       "      <th>last_price</th>\n",
       "      <th>rooms</th>\n",
       "      <th>ceiling_height</th>\n",
       "      <th>days_exposition</th>\n",
       "    </tr>\n",
       "  </thead>\n",
       "  <tbody>\n",
       "    <tr>\n",
       "      <td>count</td>\n",
       "      <td>23699.000000</td>\n",
       "      <td>2.369900e+04</td>\n",
       "      <td>23699.000000</td>\n",
       "      <td>23699.000000</td>\n",
       "      <td>23699.000000</td>\n",
       "    </tr>\n",
       "    <tr>\n",
       "      <td>mean</td>\n",
       "      <td>60.348651</td>\n",
       "      <td>6.541549e+06</td>\n",
       "      <td>2.070636</td>\n",
       "      <td>2.666160</td>\n",
       "      <td>156.608844</td>\n",
       "    </tr>\n",
       "    <tr>\n",
       "      <td>std</td>\n",
       "      <td>35.654083</td>\n",
       "      <td>1.088701e+07</td>\n",
       "      <td>1.078405</td>\n",
       "      <td>0.995355</td>\n",
       "      <td>213.546873</td>\n",
       "    </tr>\n",
       "    <tr>\n",
       "      <td>min</td>\n",
       "      <td>12.000000</td>\n",
       "      <td>1.219000e+04</td>\n",
       "      <td>0.000000</td>\n",
       "      <td>1.000000</td>\n",
       "      <td>0.000000</td>\n",
       "    </tr>\n",
       "    <tr>\n",
       "      <td>25%</td>\n",
       "      <td>40.000000</td>\n",
       "      <td>3.400000e+06</td>\n",
       "      <td>1.000000</td>\n",
       "      <td>2.500000</td>\n",
       "      <td>22.000000</td>\n",
       "    </tr>\n",
       "    <tr>\n",
       "      <td>50%</td>\n",
       "      <td>52.000000</td>\n",
       "      <td>4.650000e+06</td>\n",
       "      <td>2.000000</td>\n",
       "      <td>2.500000</td>\n",
       "      <td>74.000000</td>\n",
       "    </tr>\n",
       "    <tr>\n",
       "      <td>75%</td>\n",
       "      <td>69.900000</td>\n",
       "      <td>6.800000e+06</td>\n",
       "      <td>3.000000</td>\n",
       "      <td>2.700000</td>\n",
       "      <td>199.000000</td>\n",
       "    </tr>\n",
       "    <tr>\n",
       "      <td>max</td>\n",
       "      <td>900.000000</td>\n",
       "      <td>7.630000e+08</td>\n",
       "      <td>19.000000</td>\n",
       "      <td>100.000000</td>\n",
       "      <td>1580.000000</td>\n",
       "    </tr>\n",
       "  </tbody>\n",
       "</table>\n",
       "</div>"
      ],
      "text/plain": [
       "         total_area    last_price         rooms  ceiling_height  \\\n",
       "count  23699.000000  2.369900e+04  23699.000000    23699.000000   \n",
       "mean      60.348651  6.541549e+06      2.070636        2.666160   \n",
       "std       35.654083  1.088701e+07      1.078405        0.995355   \n",
       "min       12.000000  1.219000e+04      0.000000        1.000000   \n",
       "25%       40.000000  3.400000e+06      1.000000        2.500000   \n",
       "50%       52.000000  4.650000e+06      2.000000        2.500000   \n",
       "75%       69.900000  6.800000e+06      3.000000        2.700000   \n",
       "max      900.000000  7.630000e+08     19.000000      100.000000   \n",
       "\n",
       "       days_exposition  \n",
       "count     23699.000000  \n",
       "mean        156.608844  \n",
       "std         213.546873  \n",
       "min           0.000000  \n",
       "25%          22.000000  \n",
       "50%          74.000000  \n",
       "75%         199.000000  \n",
       "max        1580.000000  "
      ]
     },
     "execution_count": 64,
     "metadata": {},
     "output_type": "execute_result"
    }
   ],
   "source": [
    "df[['total_area', 'last_price', 'rooms', 'ceiling_height', 'days_exposition']].describe()"
   ]
  },
  {
   "cell_type": "markdown",
   "metadata": {},
   "source": [
    "At a glance, there are anomalies such as the maximum total area of 900 sq.m., maximum price 7630000 million rubles, the maximum number of rooms - 19, min. and max. ceiling height - 1m. and 100m. respectively, selling time of the flat - 0 days and 1580 days. \n",
    "\n",
    "These anomalies should be excluded in order to avoid distortions in the further analysis of the data.\n",
    "\n",
    "For clarity of data distribution and visual perception of the range of normal data we will build a boxplot for each parameter. To precisely define the boxplot boundaries of the range of data normal distribution, we write a function defining the values of the left and right whiskers of the boxplot. "
   ]
  },
  {
   "cell_type": "code",
   "execution_count": 65,
   "metadata": {},
   "outputs": [],
   "source": [
    "def whiskers_lim(column):\n",
    "    input_data = df[column].describe()\n",
    "    \n",
    "    # IQR calculation\n",
    "    iqr = input_data[6] - input_data[4]\n",
    "    \n",
    "    # left and right whisker calculation     \n",
    "    whisker_l = round(input_data[4] - 1.5 * iqr, 2)\n",
    "    whisker_r = round(input_data[6] + 1.5 * iqr, 2)\n",
    "\n",
    "    # if the left whisker is less than the minimum value, assign it the minimum value\n",
    "    if whisker_l < input_data[3]: whisker_l = input_data[3] \n",
    "        \n",
    "    # if the right whisker is greater than the maximum value, assign it the maximum value\n",
    "    if whisker_r > input_data[7]: whisker_r = input_data[7]\n",
    "        \n",
    "    return whisker_l, whisker_r"
   ]
  },
  {
   "cell_type": "markdown",
   "metadata": {},
   "source": [
    "Next, we will build and analyse boxplot for each of the above parameters, and based on the calculated data of the limits for the normal data distribution, we will exclude for each parameter values that fall outside these limits (outside the whiskers of the boxplot).  "
   ]
  },
  {
   "cell_type": "markdown",
   "metadata": {},
   "source": [
    "**- total_area**"
   ]
  },
  {
   "cell_type": "code",
   "execution_count": 66,
   "metadata": {},
   "outputs": [
    {
     "data": {
      "text/plain": [
       "(12.0, 114.75)"
      ]
     },
     "execution_count": 66,
     "metadata": {},
     "output_type": "execute_result"
    }
   ],
   "source": [
    "whiskers_lim('total_area') # calculating whiskers limits"
   ]
  },
  {
   "cell_type": "code",
   "execution_count": 67,
   "metadata": {},
   "outputs": [
    {
     "data": {
      "image/png": "[encoded data removed]",
      "text/plain": [
       "<Figure size 432x288 with 1 Axes>"
      ]
     },
     "metadata": {
      "needs_background": "light"
     },
     "output_type": "display_data"
    }
   ],
   "source": [
    "sns.boxplot(df['total_area'])\n",
    "plt.title('Диаграмма размаха общей площади квартиры')\n",
    "plt.xlabel('Общая площадь, кв.м')\n",
    "plt.xlim(0,200)\n",
    "plt.show()"
   ]
  },
  {
   "cell_type": "markdown",
   "metadata": {},
   "source": [
    "We see that there are outliers, values greater than the right whisker merge into a thick black line. We exclude from the dataset the values outside the normal distribution (outside the whiskers of the boxplot)."
   ]
  },
  {
   "cell_type": "code",
   "execution_count": 68,
   "metadata": {},
   "outputs": [
    {
     "name": "stdout",
     "output_type": "stream",
     "text": [
      "Кол-во записей за пределами нормального распределения: 1240\n",
      "Доля записей за пределами нормального распределения: 0.05\n"
     ]
    }
   ],
   "source": [
    "print('Кол-во записей за пределами нормального распределения:', len(df.query('total_area>@whiskers_lim(\"total_area\")[1]')))\n",
    "print('Доля записей за пределами нормального распределения:', round(len(df.query('total_area>@whiskers_lim(\"total_area\")[1]'))/len(df),2))"
   ]
  },
  {
   "cell_type": "markdown",
   "metadata": {},
   "source": [
    "**- last_price**"
   ]
  },
  {
   "cell_type": "code",
   "execution_count": 69,
   "metadata": {},
   "outputs": [
    {
     "data": {
      "text/plain": [
       "(12190.0, 11900000.0)"
      ]
     },
     "execution_count": 69,
     "metadata": {},
     "output_type": "execute_result"
    }
   ],
   "source": [
    "whiskers_lim('last_price') # calculating whiskers limits"
   ]
  },
  {
   "cell_type": "code",
   "execution_count": 70,
   "metadata": {},
   "outputs": [
    {
     "data": {
      "image/png": "[encoded data removed]",
      "text/plain": [
       "<Figure size 432x288 with 1 Axes>"
      ]
     },
     "metadata": {
      "needs_background": "light"
     },
     "output_type": "display_data"
    }
   ],
   "source": [
    "sns.boxplot(df['last_price'])\n",
    "plt.title('Диаграмма размаха цен')\n",
    "plt.xlabel('Цена квартиры, 10 млн. руб')\n",
    "plt.xlim(0,15000000)\n",
    "plt.show()"
   ]
  },
  {
   "cell_type": "markdown",
   "metadata": {},
   "source": [
    "There are also outliers with inadequately high flat values, such as 7630000 million roubles. We exclude from the dataset the values outside the normal distribution (outside the boxplot whiskers)."
   ]
  },
  {
   "cell_type": "code",
   "execution_count": 71,
   "metadata": {},
   "outputs": [
    {
     "name": "stdout",
     "output_type": "stream",
     "text": [
      "Кол-во записей за пределами нормального распределения: 2034\n",
      "Доля записей за пределами нормального распределения: 0.09\n"
     ]
    }
   ],
   "source": [
    "print('Кол-во записей за пределами нормального распределения:', len(df.query('last_price>@whiskers_lim(\"last_price\")[1]')))\n",
    "print('Доля записей за пределами нормального распределения:', round(len(df.query('last_price>@whiskers_lim(\"last_price\")[1]'))/len(df),2))"
   ]
  },
  {
   "cell_type": "markdown",
   "metadata": {},
   "source": [
    "**- rooms**"
   ]
  },
  {
   "cell_type": "code",
   "execution_count": 72,
   "metadata": {},
   "outputs": [
    {
     "data": {
      "text/plain": [
       "(0.0, 6.0)"
      ]
     },
     "execution_count": 72,
     "metadata": {},
     "output_type": "execute_result"
    }
   ],
   "source": [
    "whiskers_lim('rooms') # calculating whiskers limits"
   ]
  },
  {
   "cell_type": "code",
   "execution_count": 73,
   "metadata": {},
   "outputs": [
    {
     "data": {
      "image/png": "[encoded data removed]",
      "text/plain": [
       "<Figure size 432x288 with 1 Axes>"
      ]
     },
     "metadata": {
      "needs_background": "light"
     },
     "output_type": "display_data"
    }
   ],
   "source": [
    "sns.boxplot(df['rooms'])\n",
    "plt.title('Диаграмма размаха числа комнат')\n",
    "plt.xlabel('Кол-во комнат')\n",
    "plt.xlim(0,10)\n",
    "plt.show()"
   ]
  },
  {
   "cell_type": "markdown",
   "metadata": {},
   "source": [
    "There are also outliers with an inadequately high number of rooms, such as 19. We exclude from the dataset the values outside the normal distribution (outside the boxplot whiskers)."
   ]
  },
  {
   "cell_type": "code",
   "execution_count": 74,
   "metadata": {},
   "outputs": [
    {
     "name": "stdout",
     "output_type": "stream",
     "text": [
      "Кол-во записей за пределами нормального распределения: 90\n",
      "Доля записей за пределами нормального распределения: 0.0\n"
     ]
    }
   ],
   "source": [
    "print('Кол-во записей за пределами нормального распределения:', len(df.query('rooms>@whiskers_lim(\"rooms\")[1]')))\n",
    "print('Доля записей за пределами нормального распределения:', round(len(df.query('rooms>@whiskers_lim(\"rooms\")[1]'))/len(df),2))"
   ]
  },
  {
   "cell_type": "markdown",
   "metadata": {},
   "source": [
    "**- ceiling_height**"
   ]
  },
  {
   "cell_type": "code",
   "execution_count": 75,
   "metadata": {},
   "outputs": [
    {
     "data": {
      "text/plain": [
       "(2.2, 3.0)"
      ]
     },
     "execution_count": 75,
     "metadata": {},
     "output_type": "execute_result"
    }
   ],
   "source": [
    "whiskers_lim('ceiling_height') # calculating whiskers limits"
   ]
  },
  {
   "cell_type": "code",
   "execution_count": 76,
   "metadata": {},
   "outputs": [
    {
     "data": {
      "image/png": "[encoded data removed]",
      "text/plain": [
       "<Figure size 432x288 with 1 Axes>"
      ]
     },
     "metadata": {
      "needs_background": "light"
     },
     "output_type": "display_data"
    }
   ],
   "source": [
    "sns.boxplot(df['ceiling_height'])\n",
    "plt.title('Диаграмма размаха высоты потолков')\n",
    "plt.xlabel('Высота потолков, м.')\n",
    "plt.xlim(1,4)\n",
    "plt.show()"
   ]
  },
  {
   "cell_type": "markdown",
   "metadata": {},
   "source": [
    "There are also outliers with inadequately high and low ceilings, such as 100 metres and 1 metre respectively. We exclude from the dataset the values outside the normal distribution (outside the boxplot whiskers)."
   ]
  },
  {
   "cell_type": "code",
   "execution_count": 77,
   "metadata": {},
   "outputs": [
    {
     "name": "stdout",
     "output_type": "stream",
     "text": [
      "Кол-во записей за пределами нормального распределения: 1529\n",
      "Доля записей за пределами нормального распределения: 0.06\n"
     ]
    }
   ],
   "source": [
    "print('Кол-во записей за пределами нормального распределения:', len(df.query('ceiling_height>@whiskers_lim(\"ceiling_height\")[1]')))\n",
    "print('Доля записей за пределами нормального распределения:', round(len(df.query('ceiling_height>@whiskers_lim(\"ceiling_height\")[1]'))/len(df),2))"
   ]
  },
  {
   "cell_type": "markdown",
   "metadata": {},
   "source": [
    "**- days_exposition**"
   ]
  },
  {
   "cell_type": "code",
   "execution_count": 78,
   "metadata": {},
   "outputs": [
    {
     "data": {
      "text/plain": [
       "(0.0, 464.5)"
      ]
     },
     "execution_count": 78,
     "metadata": {},
     "output_type": "execute_result"
    }
   ],
   "source": [
    "whiskers_lim('days_exposition') # calculating whiskers limits"
   ]
  },
  {
   "cell_type": "code",
   "execution_count": 79,
   "metadata": {},
   "outputs": [
    {
     "data": {
      "image/png": "[encoded data removed]",
      "text/plain": [
       "<Figure size 432x288 with 1 Axes>"
      ]
     },
     "metadata": {
      "needs_background": "light"
     },
     "output_type": "display_data"
    }
   ],
   "source": [
    "sns.boxplot(df['days_exposition'])\n",
    "plt.title('Диаграмма размаха длительности продажи квартиры')\n",
    "plt.xlabel('Длительность продажи квартиры, дн.')\n",
    "plt.xlim(0,500)\n",
    "plt.show()"
   ]
  },
  {
   "cell_type": "markdown",
   "metadata": {},
   "source": [
    "There is a striking anomaly in the duration of the sale announcement: \"0\" days, as well as too long a sale period of 1,580 days. Let's exclude from the dataset the values outside the normal distribution (outside the whiskers of the boxplot). Our lower whisker is at value 0, but we remember that when processing the NaNs, we assigned a placeholder with value \"0\" to the rows with a missing value. However, the number of such records is rather large (3181 flats), we don't think it makes sense to exclude them when forming a normalized dataset. Especially since this parameter may not be needed for further analysis. Just will remember that zero in this column is a technical value."
   ]
  },
  {
   "cell_type": "code",
   "execution_count": 80,
   "metadata": {},
   "outputs": [
    {
     "name": "stdout",
     "output_type": "stream",
     "text": [
      "Кол-во записей за пределами нормального распределения: 2022\n",
      "Доля записей за пределами нормального распределения: 0.09\n"
     ]
    }
   ],
   "source": [
    "print('Кол-во записей за пределами нормального распределения:', len(df.query('days_exposition>@whiskers_lim(\"days_exposition\")[1]')))\n",
    "print('Доля записей за пределами нормального распределения:', round(len(df.query('days_exposition>@whiskers_lim(\"days_exposition\")[1]'))/len(df),2))"
   ]
  },
  {
   "cell_type": "markdown",
   "metadata": {},
   "source": [
    "**Will create a new dataset with normalised data**"
   ]
  },
  {
   "cell_type": "code",
   "execution_count": 81,
   "metadata": {},
   "outputs": [],
   "source": [
    "# создаем новый датасет с нормализованными данными\n",
    "\n",
    "df_normalized = df.query('total_area < @whiskers_lim(\"total_area\")[1] and \\\n",
    "                         last_price < @whiskers_lim(\"last_price\")[1] and \\\n",
    "                         rooms < @whiskers_lim(\"rooms\")[1] and \\\n",
    "                         @whiskers_lim(\"ceiling_height\")[0] < ceiling_height <= @whiskers_lim(\"ceiling_height\")[1] and \\\n",
    "                         days_exposition < @whiskers_lim(\"days_exposition\")[1]').reset_index(drop=True)\n"
   ]
  },
  {
   "cell_type": "code",
   "execution_count": 82,
   "metadata": {},
   "outputs": [
    {
     "data": {
      "text/html": [
       "<div>\n",
       "<style scoped>\n",
       "    .dataframe tbody tr th:only-of-type {\n",
       "        vertical-align: middle;\n",
       "    }\n",
       "\n",
       "    .dataframe tbody tr th {\n",
       "        vertical-align: top;\n",
       "    }\n",
       "\n",
       "    .dataframe thead th {\n",
       "        text-align: right;\n",
       "    }\n",
       "</style>\n",
       "<table border=\"1\" class=\"dataframe\">\n",
       "  <thead>\n",
       "    <tr style=\"text-align: right;\">\n",
       "      <th></th>\n",
       "      <th>total_area</th>\n",
       "      <th>last_price</th>\n",
       "      <th>rooms</th>\n",
       "      <th>ceiling_height</th>\n",
       "      <th>days_exposition</th>\n",
       "    </tr>\n",
       "  </thead>\n",
       "  <tbody>\n",
       "    <tr>\n",
       "      <td>count</td>\n",
       "      <td>18970.000000</td>\n",
       "      <td>1.897000e+04</td>\n",
       "      <td>18970.000000</td>\n",
       "      <td>18970.000000</td>\n",
       "      <td>18970.000000</td>\n",
       "    </tr>\n",
       "    <tr>\n",
       "      <td>mean</td>\n",
       "      <td>51.625735</td>\n",
       "      <td>4.676555e+06</td>\n",
       "      <td>1.880021</td>\n",
       "      <td>2.581484</td>\n",
       "      <td>102.801371</td>\n",
       "    </tr>\n",
       "    <tr>\n",
       "      <td>std</td>\n",
       "      <td>17.042685</td>\n",
       "      <td>2.098984e+06</td>\n",
       "      <td>0.873184</td>\n",
       "      <td>0.128863</td>\n",
       "      <td>110.097804</td>\n",
       "    </tr>\n",
       "    <tr>\n",
       "      <td>min</td>\n",
       "      <td>12.000000</td>\n",
       "      <td>1.219000e+04</td>\n",
       "      <td>0.000000</td>\n",
       "      <td>2.250000</td>\n",
       "      <td>0.000000</td>\n",
       "    </tr>\n",
       "    <tr>\n",
       "      <td>25%</td>\n",
       "      <td>38.400000</td>\n",
       "      <td>3.253500e+06</td>\n",
       "      <td>1.000000</td>\n",
       "      <td>2.500000</td>\n",
       "      <td>20.000000</td>\n",
       "    </tr>\n",
       "    <tr>\n",
       "      <td>50%</td>\n",
       "      <td>48.000000</td>\n",
       "      <td>4.300000e+06</td>\n",
       "      <td>2.000000</td>\n",
       "      <td>2.500000</td>\n",
       "      <td>60.000000</td>\n",
       "    </tr>\n",
       "    <tr>\n",
       "      <td>75%</td>\n",
       "      <td>62.000000</td>\n",
       "      <td>5.750000e+06</td>\n",
       "      <td>3.000000</td>\n",
       "      <td>2.650000</td>\n",
       "      <td>150.000000</td>\n",
       "    </tr>\n",
       "    <tr>\n",
       "      <td>max</td>\n",
       "      <td>114.500000</td>\n",
       "      <td>1.188000e+07</td>\n",
       "      <td>5.000000</td>\n",
       "      <td>3.000000</td>\n",
       "      <td>464.000000</td>\n",
       "    </tr>\n",
       "  </tbody>\n",
       "</table>\n",
       "</div>"
      ],
      "text/plain": [
       "         total_area    last_price         rooms  ceiling_height  \\\n",
       "count  18970.000000  1.897000e+04  18970.000000    18970.000000   \n",
       "mean      51.625735  4.676555e+06      1.880021        2.581484   \n",
       "std       17.042685  2.098984e+06      0.873184        0.128863   \n",
       "min       12.000000  1.219000e+04      0.000000        2.250000   \n",
       "25%       38.400000  3.253500e+06      1.000000        2.500000   \n",
       "50%       48.000000  4.300000e+06      2.000000        2.500000   \n",
       "75%       62.000000  5.750000e+06      3.000000        2.650000   \n",
       "max      114.500000  1.188000e+07      5.000000        3.000000   \n",
       "\n",
       "       days_exposition  \n",
       "count     18970.000000  \n",
       "mean        102.801371  \n",
       "std         110.097804  \n",
       "min           0.000000  \n",
       "25%          20.000000  \n",
       "50%          60.000000  \n",
       "75%         150.000000  \n",
       "max         464.000000  "
      ]
     },
     "execution_count": 82,
     "metadata": {},
     "output_type": "execute_result"
    }
   ],
   "source": [
    "df_normalized[['total_area', 'last_price', 'rooms', 'ceiling_height', 'days_exposition']].describe()"
   ]
  },
  {
   "cell_type": "markdown",
   "metadata": {},
   "source": [
    "**Conclusion:**\n",
    "\n",
    "Having examined the data, we can now determine the average characteristics of the flat for sale:\n",
    "\n",
    "- total floor area - 51 sq.m;\n",
    "- average price - 4,67 mln.rub;\n",
    "- number of rooms - 2 rooms;\n",
    "- ceiling height - 2,58 meters;\n",
    "\n",
    "Anamalous values were excluded from further research, such as:\n",
    "- flats with the area of more than 115 sq.m;\n",
    "- flats with abnormally high price;\n",
    "- flats with 6 or more rooms;\n",
    "- flats with too low and too high ceilings;\n",
    "- advertisements that have been posted for more than 465 days.\n"
   ]
  },
  {
   "cell_type": "code",
   "execution_count": 83,
   "metadata": {},
   "outputs": [
    {
     "name": "stdout",
     "output_type": "stream",
     "text": [
      "<class 'pandas.core.frame.DataFrame'>\n",
      "RangeIndex: 18970 entries, 0 to 18969\n",
      "Data columns (total 29 columns):\n",
      "total_images            18970 non-null int64\n",
      "last_price              18970 non-null int64\n",
      "total_area              18970 non-null float64\n",
      "first_day_exposition    18970 non-null datetime64[ns]\n",
      "rooms                   18970 non-null int64\n",
      "ceiling_height          18970 non-null float64\n",
      "floors_total            18970 non-null int64\n",
      "living_area             18970 non-null float64\n",
      "floor                   18970 non-null int64\n",
      "is_apartment            18970 non-null bool\n",
      "studio                  18970 non-null bool\n",
      "open_plan               18970 non-null bool\n",
      "kitchen_area            18970 non-null float64\n",
      "balcony                 18970 non-null int64\n",
      "locality_name           18938 non-null object\n",
      "airports_nearest        13979 non-null float64\n",
      "citycenters_nearest     13990 non-null float64\n",
      "parks_around3000        18970 non-null int64\n",
      "parks_nearest           5533 non-null float64\n",
      "ponds_around3000        18970 non-null int64\n",
      "ponds_nearest           6533 non-null float64\n",
      "days_exposition         18970 non-null int64\n",
      "price_per_square_m      18970 non-null int64\n",
      "exposition_day          18970 non-null int64\n",
      "exposition_month        18970 non-null int64\n",
      "exposition_year         18970 non-null int64\n",
      "floor_category          18970 non-null object\n",
      "living_total_ratio      18970 non-null float64\n",
      "kitchen_total_ratio     18970 non-null float64\n",
      "dtypes: bool(3), datetime64[ns](1), float64(10), int64(13), object(2)\n",
      "memory usage: 3.8+ MB\n"
     ]
    }
   ],
   "source": [
    "df_normalized.info()"
   ]
  },
  {
   "cell_type": "markdown",
   "metadata": {},
   "source": [
    "### Assessing the various factors that influence the price of a flat"
   ]
  },
  {
   "cell_type": "markdown",
   "metadata": {},
   "source": [
    "To assess and investigate the interdependence of the various factors on the price of the flat, we build a matrix of correlation coefficients reflecting the degree of dependence and influence between the selected parameters of the properties.\n",
    "\n",
    "Using the method `.corr()` we derive correlation coefficients and find out which factors have the greatest impact on the price of the flat."
   ]
  },
  {
   "cell_type": "code",
   "execution_count": 84,
   "metadata": {},
   "outputs": [
    {
     "data": {
      "text/html": [
       "<div>\n",
       "<style scoped>\n",
       "    .dataframe tbody tr th:only-of-type {\n",
       "        vertical-align: middle;\n",
       "    }\n",
       "\n",
       "    .dataframe tbody tr th {\n",
       "        vertical-align: top;\n",
       "    }\n",
       "\n",
       "    .dataframe thead th {\n",
       "        text-align: right;\n",
       "    }\n",
       "</style>\n",
       "<table border=\"1\" class=\"dataframe\">\n",
       "  <thead>\n",
       "    <tr style=\"text-align: right;\">\n",
       "      <th></th>\n",
       "      <th>last_price</th>\n",
       "      <th>total_area</th>\n",
       "      <th>rooms</th>\n",
       "      <th>citycenters_nearest</th>\n",
       "      <th>floor</th>\n",
       "      <th>exposition_day</th>\n",
       "      <th>exposition_month</th>\n",
       "      <th>exposition_year</th>\n",
       "    </tr>\n",
       "  </thead>\n",
       "  <tbody>\n",
       "    <tr>\n",
       "      <td>last_price</td>\n",
       "      <td>1.000000</td>\n",
       "      <td>0.679580</td>\n",
       "      <td>0.416548</td>\n",
       "      <td>-0.308115</td>\n",
       "      <td>0.172988</td>\n",
       "      <td>-0.010584</td>\n",
       "      <td>0.002593</td>\n",
       "      <td>0.035378</td>\n",
       "    </tr>\n",
       "    <tr>\n",
       "      <td>total_area</td>\n",
       "      <td>0.679580</td>\n",
       "      <td>1.000000</td>\n",
       "      <td>0.802405</td>\n",
       "      <td>-0.079533</td>\n",
       "      <td>-0.012854</td>\n",
       "      <td>-0.004321</td>\n",
       "      <td>0.008643</td>\n",
       "      <td>-0.033689</td>\n",
       "    </tr>\n",
       "    <tr>\n",
       "      <td>rooms</td>\n",
       "      <td>0.416548</td>\n",
       "      <td>0.802405</td>\n",
       "      <td>1.000000</td>\n",
       "      <td>-0.041820</td>\n",
       "      <td>-0.170881</td>\n",
       "      <td>0.002998</td>\n",
       "      <td>-0.004244</td>\n",
       "      <td>-0.015022</td>\n",
       "    </tr>\n",
       "    <tr>\n",
       "      <td>citycenters_nearest</td>\n",
       "      <td>-0.308115</td>\n",
       "      <td>-0.079533</td>\n",
       "      <td>-0.041820</td>\n",
       "      <td>1.000000</td>\n",
       "      <td>-0.036106</td>\n",
       "      <td>0.003214</td>\n",
       "      <td>-0.014334</td>\n",
       "      <td>0.007167</td>\n",
       "    </tr>\n",
       "    <tr>\n",
       "      <td>floor</td>\n",
       "      <td>0.172988</td>\n",
       "      <td>-0.012854</td>\n",
       "      <td>-0.170881</td>\n",
       "      <td>-0.036106</td>\n",
       "      <td>1.000000</td>\n",
       "      <td>0.007379</td>\n",
       "      <td>0.020333</td>\n",
       "      <td>-0.004898</td>\n",
       "    </tr>\n",
       "    <tr>\n",
       "      <td>exposition_day</td>\n",
       "      <td>-0.010584</td>\n",
       "      <td>-0.004321</td>\n",
       "      <td>0.002998</td>\n",
       "      <td>0.003214</td>\n",
       "      <td>0.007379</td>\n",
       "      <td>1.000000</td>\n",
       "      <td>0.013684</td>\n",
       "      <td>-0.011292</td>\n",
       "    </tr>\n",
       "    <tr>\n",
       "      <td>exposition_month</td>\n",
       "      <td>0.002593</td>\n",
       "      <td>0.008643</td>\n",
       "      <td>-0.004244</td>\n",
       "      <td>-0.014334</td>\n",
       "      <td>0.020333</td>\n",
       "      <td>0.013684</td>\n",
       "      <td>1.000000</td>\n",
       "      <td>-0.307125</td>\n",
       "    </tr>\n",
       "    <tr>\n",
       "      <td>exposition_year</td>\n",
       "      <td>0.035378</td>\n",
       "      <td>-0.033689</td>\n",
       "      <td>-0.015022</td>\n",
       "      <td>0.007167</td>\n",
       "      <td>-0.004898</td>\n",
       "      <td>-0.011292</td>\n",
       "      <td>-0.307125</td>\n",
       "      <td>1.000000</td>\n",
       "    </tr>\n",
       "  </tbody>\n",
       "</table>\n",
       "</div>"
      ],
      "text/plain": [
       "                     last_price  total_area     rooms  citycenters_nearest  \\\n",
       "last_price             1.000000    0.679580  0.416548            -0.308115   \n",
       "total_area             0.679580    1.000000  0.802405            -0.079533   \n",
       "rooms                  0.416548    0.802405  1.000000            -0.041820   \n",
       "citycenters_nearest   -0.308115   -0.079533 -0.041820             1.000000   \n",
       "floor                  0.172988   -0.012854 -0.170881            -0.036106   \n",
       "exposition_day        -0.010584   -0.004321  0.002998             0.003214   \n",
       "exposition_month       0.002593    0.008643 -0.004244            -0.014334   \n",
       "exposition_year        0.035378   -0.033689 -0.015022             0.007167   \n",
       "\n",
       "                        floor  exposition_day  exposition_month  \\\n",
       "last_price           0.172988       -0.010584          0.002593   \n",
       "total_area          -0.012854       -0.004321          0.008643   \n",
       "rooms               -0.170881        0.002998         -0.004244   \n",
       "citycenters_nearest -0.036106        0.003214         -0.014334   \n",
       "floor                1.000000        0.007379          0.020333   \n",
       "exposition_day       0.007379        1.000000          0.013684   \n",
       "exposition_month     0.020333        0.013684          1.000000   \n",
       "exposition_year     -0.004898       -0.011292         -0.307125   \n",
       "\n",
       "                     exposition_year  \n",
       "last_price                  0.035378  \n",
       "total_area                 -0.033689  \n",
       "rooms                      -0.015022  \n",
       "citycenters_nearest         0.007167  \n",
       "floor                      -0.004898  \n",
       "exposition_day             -0.011292  \n",
       "exposition_month           -0.307125  \n",
       "exposition_year             1.000000  "
      ]
     },
     "execution_count": 84,
     "metadata": {},
     "output_type": "execute_result"
    }
   ],
   "source": [
    "cor = df_normalized[['last_price', 'total_area',\n",
    "       'rooms', 'citycenters_nearest', 'floor',\n",
    "       'exposition_day', 'exposition_month', 'exposition_year',\n",
    "       'floor_category']]\n",
    "cor.corr()"
   ]
  },
  {
   "cell_type": "markdown",
   "metadata": {},
   "source": [
    "To make the matrix with the correlation values clearer and easier to understand, let's display the same values as a heat map by constructing a `heatmap'."
   ]
  },
  {
   "cell_type": "code",
   "execution_count": 85,
   "metadata": {},
   "outputs": [
    {
     "data": {
      "image/png": "[encoded data removed]",
      "text/plain": [
       "<Figure size 432x288 with 2 Axes>"
      ]
     },
     "metadata": {
      "needs_background": "light"
     },
     "output_type": "display_data"
    }
   ],
   "source": [
    "sns.heatmap(cor.corr(), xticklabels=cor.corr().columns, yticklabels=cor.corr().columns, cmap='coolwarm', center=0, annot=True)\n",
    "plt.title('Диаграмма корреляции', fontsize=16)\n",
    "plt.xticks(fontsize=12)\n",
    "plt.yticks(fontsize=12)\n",
    "plt.show()"
   ]
  },
  {
   "cell_type": "markdown",
   "metadata": {},
   "source": [
    "The heat map shows very clearly that the biggest factor affecting the price of a flat is the size of the flat, followed by the number of rooms. This conclusion is quite logical and expected, the bigger the property, the more expensive it is.\n",
    "\n",
    "The next factor influencing the price is the distance to the city centre. Though the correlation coefficient is not very strong, the correlation coefficient is -0.3 (indicating an inverse relationship).\n",
    "\n",
    "On the other hand, the correlation coefficients for price and time of listing (day, month, year) are all in the grey zone, indicating that there is no correlation. \n",
    "\n",
    "We also observe a very weak correlation between the price of the flat and the floor. We assume that flats on the ground floor and on the top floor are in less demand than flats on intermediate floors. Let us test this assumption by constructing a bar chart showing the impact of the floor on the price of the flat."
   ]
  },
  {
   "cell_type": "code",
   "execution_count": 86,
   "metadata": {},
   "outputs": [
    {
     "data": {
      "text/html": [
       "<div>\n",
       "<style scoped>\n",
       "    .dataframe tbody tr th:only-of-type {\n",
       "        vertical-align: middle;\n",
       "    }\n",
       "\n",
       "    .dataframe tbody tr th {\n",
       "        vertical-align: top;\n",
       "    }\n",
       "\n",
       "    .dataframe thead th {\n",
       "        text-align: right;\n",
       "    }\n",
       "</style>\n",
       "<table border=\"1\" class=\"dataframe\">\n",
       "  <thead>\n",
       "    <tr style=\"text-align: right;\">\n",
       "      <th></th>\n",
       "      <th>price_per_square_m</th>\n",
       "    </tr>\n",
       "    <tr>\n",
       "      <th>floor_category</th>\n",
       "      <th></th>\n",
       "    </tr>\n",
       "  </thead>\n",
       "  <tbody>\n",
       "    <tr>\n",
       "      <td>другой</td>\n",
       "      <td>95524.119371</td>\n",
       "    </tr>\n",
       "    <tr>\n",
       "      <td>первый</td>\n",
       "      <td>77615.984538</td>\n",
       "    </tr>\n",
       "    <tr>\n",
       "      <td>последний</td>\n",
       "      <td>81941.552778</td>\n",
       "    </tr>\n",
       "  </tbody>\n",
       "</table>\n",
       "</div>"
      ],
      "text/plain": [
       "                price_per_square_m\n",
       "floor_category                    \n",
       "другой                95524.119371\n",
       "первый                77615.984538\n",
       "последний             81941.552778"
      ]
     },
     "execution_count": 86,
     "metadata": {},
     "output_type": "execute_result"
    }
   ],
   "source": [
    "df_normalized.groupby('floor_category').price_per_square_m.mean().to_frame()"
   ]
  },
  {
   "cell_type": "code",
   "execution_count": 87,
   "metadata": {},
   "outputs": [
    {
     "data": {
      "image/png": "[encoded data removed]",
      "text/plain": [
       "<Figure size 432x288 with 1 Axes>"
      ]
     },
     "metadata": {
      "needs_background": "light"
     },
     "output_type": "display_data"
    }
   ],
   "source": [
    "sns.barplot(data=df_normalized, x='floor_category', y='price_per_square_m', order = [\"первый\", \"последний\", \"другой\"])\n",
    "plt.title('Средняя стоимость кв.метра в разрезе этажа')\n",
    "plt.xlabel('Этаж')\n",
    "plt.ylabel('Средняя стоимость кв.метра')\n",
    "plt.show()"
   ]
  },
  {
   "cell_type": "markdown",
   "metadata": {},
   "source": [
    "Indeed, the difference in price between the ground floor and the top floor is not so obvious. Both are inferior to flats on the other floors."
   ]
  },
  {
   "cell_type": "markdown",
   "metadata": {},
   "source": [
    "### Analysis of localities with the highest number of advertisements"
   ]
  },
  {
   "cell_type": "markdown",
   "metadata": {},
   "source": [
    "Choose the 10 localities with the highest number of listings. Calculate the average price per square metre in these settlements. We will select the localities with the highest and lowest housing prices."
   ]
  },
  {
   "cell_type": "code",
   "execution_count": 88,
   "metadata": {},
   "outputs": [
    {
     "data": {
      "text/html": [
       "<style  type=\"text/css\" >\n",
       "</style><table id=\"T_1c014022_9ee9_11ec_b82b_02420a393d00\" ><thead>    <tr>        <th class=\"blank level0\" ></th>        <th class=\"col_heading level0 col0\" >count</th>        <th class=\"col_heading level0 col1\" >mean</th>    </tr>    <tr>        <th class=\"index_name level0\" >locality_name</th>        <th class=\"blank\" ></th>        <th class=\"blank\" ></th>    </tr></thead><tbody>\n",
       "                <tr>\n",
       "                        <th id=\"T_1c014022_9ee9_11ec_b82b_02420a393d00level0_row0\" class=\"row_heading level0 row0\" >Санкт-Петербург</th>\n",
       "                        <td id=\"T_1c014022_9ee9_11ec_b82b_02420a393d00row0_col0\" class=\"data row0 col0\" >11845</td>\n",
       "                        <td id=\"T_1c014022_9ee9_11ec_b82b_02420a393d00row0_col1\" class=\"data row0 col1\" >105345.08</td>\n",
       "            </tr>\n",
       "            <tr>\n",
       "                        <th id=\"T_1c014022_9ee9_11ec_b82b_02420a393d00level0_row1\" class=\"row_heading level0 row1\" >посёлок Мурино</th>\n",
       "                        <td id=\"T_1c014022_9ee9_11ec_b82b_02420a393d00row1_col0\" class=\"data row1 col0\" >481</td>\n",
       "                        <td id=\"T_1c014022_9ee9_11ec_b82b_02420a393d00row1_col1\" class=\"data row1 col1\" >85996.82</td>\n",
       "            </tr>\n",
       "            <tr>\n",
       "                        <th id=\"T_1c014022_9ee9_11ec_b82b_02420a393d00level0_row2\" class=\"row_heading level0 row2\" >посёлок Шушары</th>\n",
       "                        <td id=\"T_1c014022_9ee9_11ec_b82b_02420a393d00row2_col0\" class=\"data row2 col0\" >410</td>\n",
       "                        <td id=\"T_1c014022_9ee9_11ec_b82b_02420a393d00row2_col1\" class=\"data row2 col1\" >78657.27</td>\n",
       "            </tr>\n",
       "            <tr>\n",
       "                        <th id=\"T_1c014022_9ee9_11ec_b82b_02420a393d00level0_row3\" class=\"row_heading level0 row3\" >Всеволожск</th>\n",
       "                        <td id=\"T_1c014022_9ee9_11ec_b82b_02420a393d00row3_col0\" class=\"data row3 col0\" >352</td>\n",
       "                        <td id=\"T_1c014022_9ee9_11ec_b82b_02420a393d00row3_col1\" class=\"data row3 col1\" >67249.48</td>\n",
       "            </tr>\n",
       "            <tr>\n",
       "                        <th id=\"T_1c014022_9ee9_11ec_b82b_02420a393d00level0_row4\" class=\"row_heading level0 row4\" >Колпино</th>\n",
       "                        <td id=\"T_1c014022_9ee9_11ec_b82b_02420a393d00row4_col0\" class=\"data row4 col0\" >306</td>\n",
       "                        <td id=\"T_1c014022_9ee9_11ec_b82b_02420a393d00row4_col1\" class=\"data row4 col1\" >75249.61</td>\n",
       "            </tr>\n",
       "            <tr>\n",
       "                        <th id=\"T_1c014022_9ee9_11ec_b82b_02420a393d00level0_row5\" class=\"row_heading level0 row5\" >посёлок Парголово</th>\n",
       "                        <td id=\"T_1c014022_9ee9_11ec_b82b_02420a393d00row5_col0\" class=\"data row5 col0\" >306</td>\n",
       "                        <td id=\"T_1c014022_9ee9_11ec_b82b_02420a393d00row5_col1\" class=\"data row5 col1\" >90001.82</td>\n",
       "            </tr>\n",
       "            <tr>\n",
       "                        <th id=\"T_1c014022_9ee9_11ec_b82b_02420a393d00level0_row6\" class=\"row_heading level0 row6\" >Пушкин</th>\n",
       "                        <td id=\"T_1c014022_9ee9_11ec_b82b_02420a393d00row6_col0\" class=\"data row6 col0\" >295</td>\n",
       "                        <td id=\"T_1c014022_9ee9_11ec_b82b_02420a393d00row6_col1\" class=\"data row6 col1\" >99859.77</td>\n",
       "            </tr>\n",
       "            <tr>\n",
       "                        <th id=\"T_1c014022_9ee9_11ec_b82b_02420a393d00level0_row7\" class=\"row_heading level0 row7\" >Гатчина</th>\n",
       "                        <td id=\"T_1c014022_9ee9_11ec_b82b_02420a393d00row7_col0\" class=\"data row7 col0\" >271</td>\n",
       "                        <td id=\"T_1c014022_9ee9_11ec_b82b_02420a393d00row7_col1\" class=\"data row7 col1\" >68811.86</td>\n",
       "            </tr>\n",
       "            <tr>\n",
       "                        <th id=\"T_1c014022_9ee9_11ec_b82b_02420a393d00level0_row8\" class=\"row_heading level0 row8\" >деревня Кудрово</th>\n",
       "                        <td id=\"T_1c014022_9ee9_11ec_b82b_02420a393d00row8_col0\" class=\"data row8 col0\" >263</td>\n",
       "                        <td id=\"T_1c014022_9ee9_11ec_b82b_02420a393d00row8_col1\" class=\"data row8 col1\" >92602.38</td>\n",
       "            </tr>\n",
       "            <tr>\n",
       "                        <th id=\"T_1c014022_9ee9_11ec_b82b_02420a393d00level0_row9\" class=\"row_heading level0 row9\" >Выборг</th>\n",
       "                        <td id=\"T_1c014022_9ee9_11ec_b82b_02420a393d00row9_col0\" class=\"data row9 col0\" >198</td>\n",
       "                        <td id=\"T_1c014022_9ee9_11ec_b82b_02420a393d00row9_col1\" class=\"data row9 col1\" >57858.60</td>\n",
       "            </tr>\n",
       "    </tbody></table>"
      ],
      "text/plain": [
       "<pandas.io.formats.style.Styler at 0x7f1e3be95350>"
      ]
     },
     "execution_count": 88,
     "metadata": {},
     "output_type": "execute_result"
    }
   ],
   "source": [
    "df_normalized.groupby('locality_name').price_per_square_m.agg(['count', 'mean'])\\\n",
    ".sort_values(by='count', ascending=False)\\\n",
    ".head(10)\\\n",
    ".style.format({'mean':'{:.2f}'})\n"
   ]
  },
  {
   "cell_type": "markdown",
   "metadata": {},
   "source": [
    "As might be expected, St. Petersburg tops the list of localities with the highest number of listings. And we can see that it accounts for more than half of the listings. All other listings are scattered across numerous other localities, and for all of them the gaps are not as apparent as between first and second place in terms of frequency.\n",
    "\n",
    "Let's sort our grouping by price per square metre to analyse the localities with the most expensive properties."
   ]
  },
  {
   "cell_type": "code",
   "execution_count": 89,
   "metadata": {},
   "outputs": [
    {
     "data": {
      "text/html": [
       "<style  type=\"text/css\" >\n",
       "</style><table id=\"T_1c030e16_9ee9_11ec_b82b_02420a393d00\" ><thead>    <tr>        <th class=\"blank level0\" ></th>        <th class=\"col_heading level0 col0\" >count</th>        <th class=\"col_heading level0 col1\" >mean</th>    </tr>    <tr>        <th class=\"index_name level0\" >locality_name</th>        <th class=\"blank\" ></th>        <th class=\"blank\" ></th>    </tr></thead><tbody>\n",
       "                <tr>\n",
       "                        <th id=\"T_1c030e16_9ee9_11ec_b82b_02420a393d00level0_row0\" class=\"row_heading level0 row0\" >посёлок Лисий Нос</th>\n",
       "                        <td id=\"T_1c030e16_9ee9_11ec_b82b_02420a393d00row0_col0\" class=\"data row0 col0\" >1</td>\n",
       "                        <td id=\"T_1c030e16_9ee9_11ec_b82b_02420a393d00row0_col1\" class=\"data row0 col1\" >168706.00</td>\n",
       "            </tr>\n",
       "            <tr>\n",
       "                        <th id=\"T_1c030e16_9ee9_11ec_b82b_02420a393d00level0_row1\" class=\"row_heading level0 row1\" >Санкт-Петербург</th>\n",
       "                        <td id=\"T_1c030e16_9ee9_11ec_b82b_02420a393d00row1_col0\" class=\"data row1 col0\" >11845</td>\n",
       "                        <td id=\"T_1c030e16_9ee9_11ec_b82b_02420a393d00row1_col1\" class=\"data row1 col1\" >105345.08</td>\n",
       "            </tr>\n",
       "            <tr>\n",
       "                        <th id=\"T_1c030e16_9ee9_11ec_b82b_02420a393d00level0_row2\" class=\"row_heading level0 row2\" >Зеленогорск</th>\n",
       "                        <td id=\"T_1c030e16_9ee9_11ec_b82b_02420a393d00row2_col0\" class=\"data row2 col0\" >21</td>\n",
       "                        <td id=\"T_1c030e16_9ee9_11ec_b82b_02420a393d00row2_col1\" class=\"data row2 col1\" >102890.19</td>\n",
       "            </tr>\n",
       "            <tr>\n",
       "                        <th id=\"T_1c030e16_9ee9_11ec_b82b_02420a393d00level0_row3\" class=\"row_heading level0 row3\" >Сестрорецк</th>\n",
       "                        <td id=\"T_1c030e16_9ee9_11ec_b82b_02420a393d00row3_col0\" class=\"data row3 col0\" >144</td>\n",
       "                        <td id=\"T_1c030e16_9ee9_11ec_b82b_02420a393d00row3_col1\" class=\"data row3 col1\" >102069.53</td>\n",
       "            </tr>\n",
       "            <tr>\n",
       "                        <th id=\"T_1c030e16_9ee9_11ec_b82b_02420a393d00level0_row4\" class=\"row_heading level0 row4\" >деревня Мистолово</th>\n",
       "                        <td id=\"T_1c030e16_9ee9_11ec_b82b_02420a393d00row4_col0\" class=\"data row4 col0\" >10</td>\n",
       "                        <td id=\"T_1c030e16_9ee9_11ec_b82b_02420a393d00row4_col1\" class=\"data row4 col1\" >100331.00</td>\n",
       "            </tr>\n",
       "            <tr>\n",
       "                        <th id=\"T_1c030e16_9ee9_11ec_b82b_02420a393d00level0_row5\" class=\"row_heading level0 row5\" >Кудрово</th>\n",
       "                        <td id=\"T_1c030e16_9ee9_11ec_b82b_02420a393d00row5_col0\" class=\"data row5 col0\" >165</td>\n",
       "                        <td id=\"T_1c030e16_9ee9_11ec_b82b_02420a393d00row5_col1\" class=\"data row5 col1\" >99884.49</td>\n",
       "            </tr>\n",
       "            <tr>\n",
       "                        <th id=\"T_1c030e16_9ee9_11ec_b82b_02420a393d00level0_row6\" class=\"row_heading level0 row6\" >Пушкин</th>\n",
       "                        <td id=\"T_1c030e16_9ee9_11ec_b82b_02420a393d00row6_col0\" class=\"data row6 col0\" >295</td>\n",
       "                        <td id=\"T_1c030e16_9ee9_11ec_b82b_02420a393d00row6_col1\" class=\"data row6 col1\" >99859.77</td>\n",
       "            </tr>\n",
       "            <tr>\n",
       "                        <th id=\"T_1c030e16_9ee9_11ec_b82b_02420a393d00level0_row7\" class=\"row_heading level0 row7\" >посёлок Левашово</th>\n",
       "                        <td id=\"T_1c030e16_9ee9_11ec_b82b_02420a393d00row7_col0\" class=\"data row7 col0\" >1</td>\n",
       "                        <td id=\"T_1c030e16_9ee9_11ec_b82b_02420a393d00row7_col1\" class=\"data row7 col1\" >96997.00</td>\n",
       "            </tr>\n",
       "            <tr>\n",
       "                        <th id=\"T_1c030e16_9ee9_11ec_b82b_02420a393d00level0_row8\" class=\"row_heading level0 row8\" >посёлок Репино</th>\n",
       "                        <td id=\"T_1c030e16_9ee9_11ec_b82b_02420a393d00row8_col0\" class=\"data row8 col0\" >1</td>\n",
       "                        <td id=\"T_1c030e16_9ee9_11ec_b82b_02420a393d00row8_col1\" class=\"data row8 col1\" >92727.00</td>\n",
       "            </tr>\n",
       "            <tr>\n",
       "                        <th id=\"T_1c030e16_9ee9_11ec_b82b_02420a393d00level0_row9\" class=\"row_heading level0 row9\" >Мурино</th>\n",
       "                        <td id=\"T_1c030e16_9ee9_11ec_b82b_02420a393d00row9_col0\" class=\"data row9 col0\" >34</td>\n",
       "                        <td id=\"T_1c030e16_9ee9_11ec_b82b_02420a393d00row9_col1\" class=\"data row9 col1\" >92722.26</td>\n",
       "            </tr>\n",
       "    </tbody></table>"
      ],
      "text/plain": [
       "<pandas.io.formats.style.Styler at 0x7f1e3ae17a50>"
      ]
     },
     "execution_count": 89,
     "metadata": {},
     "output_type": "execute_result"
    }
   ],
   "source": [
    "df_normalized.groupby('locality_name').price_per_square_m.agg(['count', 'mean'])\\\n",
    ".sort_values(by='mean', ascending=False)\\\n",
    ".head(10)\\\n",
    ".style.format({'mean':'{:.2f}'})\n"
   ]
  },
  {
   "cell_type": "markdown",
   "metadata": {},
   "source": [
    "Here the leader has already changed. It is the village of Lisi Nos. However, there was only one advertisement for a flat for sale. But, apparently, luxury housing was offered for sale at a very expensive price. The next settlements behind Lisy Nos are 6 villages, approximately in the same price category of 99,000 to 105,000 roubles per sq.m. "
   ]
  },
  {
   "cell_type": "markdown",
   "metadata": {},
   "source": [
    "### Analysis of flat prices based on their distance to the city centre"
   ]
  },
  {
   "cell_type": "markdown",
   "metadata": {},
   "source": [
    "Will calculate the distance to the centre for each property in kilometres and will add the corresponding column to the original dataset. Then will update this column to a normalized dataset with good data. From the normalized dataset, we'll select a slice for St. Petersburg."
   ]
  },
  {
   "cell_type": "code",
   "execution_count": 90,
   "metadata": {},
   "outputs": [],
   "source": [
    "# Create a column with the distance to the centre in kilometres: round it up to whole numbers.\n",
    "\n",
    "df['citycenter_km'] = (df['citycenters_nearest'] / 1000).round(0).astype('int', errors='ignore')\n",
    "\n",
    "# update a normalised dataset with a new added column\n",
    "\n",
    "df_normalized = df.query('total_area < @whiskers_lim(\"total_area\")[1] and \\\n",
    "                         last_price < @whiskers_lim(\"last_price\")[1] and \\\n",
    "                         rooms < @whiskers_lim(\"rooms\")[1] and \\\n",
    "                         @whiskers_lim(\"ceiling_height\")[0] < ceiling_height <= @whiskers_lim(\"ceiling_height\")[1] and \\\n",
    "                         days_exposition < @whiskers_lim(\"days_exposition\")[1]').reset_index(drop=True)\n",
    "\n",
    "# select a slice with flats in St Petersburg\n",
    "\n",
    "spb = df_normalized.query('locality_name == \"Санкт-Петербург\"')"
   ]
  },
  {
   "cell_type": "code",
   "execution_count": 91,
   "metadata": {},
   "outputs": [
    {
     "data": {
      "text/html": [
       "<div>\n",
       "<style scoped>\n",
       "    .dataframe tbody tr th:only-of-type {\n",
       "        vertical-align: middle;\n",
       "    }\n",
       "\n",
       "    .dataframe tbody tr th {\n",
       "        vertical-align: top;\n",
       "    }\n",
       "\n",
       "    .dataframe thead th {\n",
       "        text-align: right;\n",
       "    }\n",
       "</style>\n",
       "<table border=\"1\" class=\"dataframe\">\n",
       "  <thead>\n",
       "    <tr style=\"text-align: right;\">\n",
       "      <th></th>\n",
       "      <th>last_price</th>\n",
       "    </tr>\n",
       "    <tr>\n",
       "      <th>citycenter_km</th>\n",
       "      <th></th>\n",
       "    </tr>\n",
       "  </thead>\n",
       "  <tbody>\n",
       "    <tr>\n",
       "      <td>0.0</td>\n",
       "      <td>6466667.0</td>\n",
       "    </tr>\n",
       "    <tr>\n",
       "      <td>1.0</td>\n",
       "      <td>7691468.0</td>\n",
       "    </tr>\n",
       "    <tr>\n",
       "      <td>2.0</td>\n",
       "      <td>7701698.0</td>\n",
       "    </tr>\n",
       "    <tr>\n",
       "      <td>3.0</td>\n",
       "      <td>7214552.0</td>\n",
       "    </tr>\n",
       "    <tr>\n",
       "      <td>4.0</td>\n",
       "      <td>7174785.0</td>\n",
       "    </tr>\n",
       "    <tr>\n",
       "      <td>5.0</td>\n",
       "      <td>7389387.0</td>\n",
       "    </tr>\n",
       "    <tr>\n",
       "      <td>6.0</td>\n",
       "      <td>6871950.0</td>\n",
       "    </tr>\n",
       "    <tr>\n",
       "      <td>7.0</td>\n",
       "      <td>6518122.0</td>\n",
       "    </tr>\n",
       "    <tr>\n",
       "      <td>8.0</td>\n",
       "      <td>6342428.0</td>\n",
       "    </tr>\n",
       "    <tr>\n",
       "      <td>9.0</td>\n",
       "      <td>5445810.0</td>\n",
       "    </tr>\n",
       "  </tbody>\n",
       "</table>\n",
       "</div>"
      ],
      "text/plain": [
       "               last_price\n",
       "citycenter_km            \n",
       "0.0             6466667.0\n",
       "1.0             7691468.0\n",
       "2.0             7701698.0\n",
       "3.0             7214552.0\n",
       "4.0             7174785.0\n",
       "5.0             7389387.0\n",
       "6.0             6871950.0\n",
       "7.0             6518122.0\n",
       "8.0             6342428.0\n",
       "9.0             5445810.0"
      ]
     },
     "execution_count": 91,
     "metadata": {},
     "output_type": "execute_result"
    }
   ],
   "source": [
    "spb_grouped = spb.groupby('citycenter_km').last_price.mean().round().to_frame()\n",
    "spb_grouped.head(10)"
   ]
  },
  {
   "cell_type": "markdown",
   "metadata": {},
   "source": [
    "Plot a line graph of the price against distance to the centre."
   ]
  },
  {
   "cell_type": "code",
   "execution_count": 92,
   "metadata": {},
   "outputs": [
    {
     "data": {
      "image/png": "[encoded data removed]",
      "text/plain": [
       "<Figure size 432x288 with 1 Axes>"
      ]
     },
     "metadata": {
      "needs_background": "light"
     },
     "output_type": "display_data"
    }
   ],
   "source": [
    "sns.lineplot(x=spb_grouped.index, y='last_price', data=spb_grouped)\n",
    "plt.title('Зависимость средней цены от расстояния до центра Санкт-Петербурга')\n",
    "plt.ylabel('Цена квартиры, млн.руб.')\n",
    "plt.xlabel('Расстояние до центра, км')\n",
    "plt.xlim(0,30)\n",
    "plt.show()"
   ]
  },
  {
   "cell_type": "markdown",
   "metadata": {},
   "source": [
    "The graph in confirmation of the grouping table shows that within a radius of 5 km the price starts to decrease sharply. We assume that 5km is the main city centre. Further decreasing, the price stabilises around 8 km and up to about 18 km the graph represents a plateau with approximately the same price, irrespective of the distance to the centre. Apparently this is where we reach the city boundaries, where a local spike follows - most likely represented by a suburban village with luxury real estate. And then again there is a sharp price slide - apparently we have moved out of the city and into the region.\n",
    "\n",
    "An area within a 5km radius of the city centre is defined as the city centre."
   ]
  },
  {
   "cell_type": "markdown",
   "metadata": {},
   "source": [
    "### Analysis of flats in the centre. Study of parameters: area, price, number of rooms, ceiling height\n",
    "\n",
    "Will select a segment of flats in the centre of St. Petersburg. We will analyze this area and study such parameters as: area, price, number of rooms, ceiling height. \n",
    "\n",
    "Also will analyze the factors that affect the price of the flat: the number of rooms, the floor, the distance from the centre, the date of advertising."
   ]
  },
  {
   "cell_type": "markdown",
   "metadata": {},
   "source": [
    "Previously, we have separated all flats located in St. Petersburg into a separate slice. Now we will select a sample of flats located within a 5 km radius of the centre. This will be our segment of flats in the centre."
   ]
  },
  {
   "cell_type": "code",
   "execution_count": 93,
   "metadata": {},
   "outputs": [],
   "source": [
    "spb_city_center = spb.query('citycenter_km < 5')"
   ]
  },
  {
   "cell_type": "markdown",
   "metadata": {},
   "source": [
    "Let us analyse the basic parameters of the flats located in the city centre and compare them with the overall flat base of the city and the region in order to find out if there are any differences."
   ]
  },
  {
   "cell_type": "code",
   "execution_count": 94,
   "metadata": {},
   "outputs": [
    {
     "data": {
      "text/html": [
       "<div>\n",
       "<style scoped>\n",
       "    .dataframe tbody tr th:only-of-type {\n",
       "        vertical-align: middle;\n",
       "    }\n",
       "\n",
       "    .dataframe tbody tr th {\n",
       "        vertical-align: top;\n",
       "    }\n",
       "\n",
       "    .dataframe thead th {\n",
       "        text-align: right;\n",
       "    }\n",
       "</style>\n",
       "<table border=\"1\" class=\"dataframe\">\n",
       "  <thead>\n",
       "    <tr style=\"text-align: right;\">\n",
       "      <th></th>\n",
       "      <th>total_area</th>\n",
       "      <th>last_price</th>\n",
       "      <th>rooms</th>\n",
       "      <th>ceiling_height</th>\n",
       "      <th>days_exposition</th>\n",
       "    </tr>\n",
       "  </thead>\n",
       "  <tbody>\n",
       "    <tr>\n",
       "      <td>count</td>\n",
       "      <td>543.000000</td>\n",
       "      <td>5.430000e+02</td>\n",
       "      <td>543.000000</td>\n",
       "      <td>543.000000</td>\n",
       "      <td>543.000000</td>\n",
       "    </tr>\n",
       "    <tr>\n",
       "      <td>mean</td>\n",
       "      <td>65.516483</td>\n",
       "      <td>7.308861e+06</td>\n",
       "      <td>2.360958</td>\n",
       "      <td>2.655654</td>\n",
       "      <td>110.285451</td>\n",
       "    </tr>\n",
       "    <tr>\n",
       "      <td>std</td>\n",
       "      <td>21.122997</td>\n",
       "      <td>2.107585e+06</td>\n",
       "      <td>0.936402</td>\n",
       "      <td>0.200333</td>\n",
       "      <td>115.630270</td>\n",
       "    </tr>\n",
       "    <tr>\n",
       "      <td>min</td>\n",
       "      <td>12.000000</td>\n",
       "      <td>1.600000e+06</td>\n",
       "      <td>0.000000</td>\n",
       "      <td>2.400000</td>\n",
       "      <td>0.000000</td>\n",
       "    </tr>\n",
       "    <tr>\n",
       "      <td>25%</td>\n",
       "      <td>49.500000</td>\n",
       "      <td>5.700000e+06</td>\n",
       "      <td>2.000000</td>\n",
       "      <td>2.500000</td>\n",
       "      <td>20.000000</td>\n",
       "    </tr>\n",
       "    <tr>\n",
       "      <td>50%</td>\n",
       "      <td>64.500000</td>\n",
       "      <td>7.300000e+06</td>\n",
       "      <td>2.000000</td>\n",
       "      <td>2.500000</td>\n",
       "      <td>73.000000</td>\n",
       "    </tr>\n",
       "    <tr>\n",
       "      <td>75%</td>\n",
       "      <td>80.000000</td>\n",
       "      <td>8.830000e+06</td>\n",
       "      <td>3.000000</td>\n",
       "      <td>2.820000</td>\n",
       "      <td>163.500000</td>\n",
       "    </tr>\n",
       "    <tr>\n",
       "      <td>max</td>\n",
       "      <td>114.200000</td>\n",
       "      <td>1.180000e+07</td>\n",
       "      <td>5.000000</td>\n",
       "      <td>3.000000</td>\n",
       "      <td>462.000000</td>\n",
       "    </tr>\n",
       "  </tbody>\n",
       "</table>\n",
       "</div>"
      ],
      "text/plain": [
       "       total_area    last_price       rooms  ceiling_height  days_exposition\n",
       "count  543.000000  5.430000e+02  543.000000      543.000000       543.000000\n",
       "mean    65.516483  7.308861e+06    2.360958        2.655654       110.285451\n",
       "std     21.122997  2.107585e+06    0.936402        0.200333       115.630270\n",
       "min     12.000000  1.600000e+06    0.000000        2.400000         0.000000\n",
       "25%     49.500000  5.700000e+06    2.000000        2.500000        20.000000\n",
       "50%     64.500000  7.300000e+06    2.000000        2.500000        73.000000\n",
       "75%     80.000000  8.830000e+06    3.000000        2.820000       163.500000\n",
       "max    114.200000  1.180000e+07    5.000000        3.000000       462.000000"
      ]
     },
     "execution_count": 94,
     "metadata": {},
     "output_type": "execute_result"
    }
   ],
   "source": [
    "# descriptive characteristics of flats in the centre\n",
    "\n",
    "spb_city_center[['total_area', 'last_price', 'rooms', 'ceiling_height', 'days_exposition']].describe()"
   ]
  },
  {
   "cell_type": "code",
   "execution_count": 95,
   "metadata": {},
   "outputs": [
    {
     "data": {
      "text/html": [
       "<div>\n",
       "<style scoped>\n",
       "    .dataframe tbody tr th:only-of-type {\n",
       "        vertical-align: middle;\n",
       "    }\n",
       "\n",
       "    .dataframe tbody tr th {\n",
       "        vertical-align: top;\n",
       "    }\n",
       "\n",
       "    .dataframe thead th {\n",
       "        text-align: right;\n",
       "    }\n",
       "</style>\n",
       "<table border=\"1\" class=\"dataframe\">\n",
       "  <thead>\n",
       "    <tr style=\"text-align: right;\">\n",
       "      <th></th>\n",
       "      <th>total_area</th>\n",
       "      <th>last_price</th>\n",
       "      <th>rooms</th>\n",
       "      <th>ceiling_height</th>\n",
       "      <th>days_exposition</th>\n",
       "    </tr>\n",
       "  </thead>\n",
       "  <tbody>\n",
       "    <tr>\n",
       "      <td>count</td>\n",
       "      <td>18970.000000</td>\n",
       "      <td>1.897000e+04</td>\n",
       "      <td>18970.000000</td>\n",
       "      <td>18970.000000</td>\n",
       "      <td>18970.000000</td>\n",
       "    </tr>\n",
       "    <tr>\n",
       "      <td>mean</td>\n",
       "      <td>51.625735</td>\n",
       "      <td>4.676555e+06</td>\n",
       "      <td>1.880021</td>\n",
       "      <td>2.581484</td>\n",
       "      <td>102.801371</td>\n",
       "    </tr>\n",
       "    <tr>\n",
       "      <td>std</td>\n",
       "      <td>17.042685</td>\n",
       "      <td>2.098984e+06</td>\n",
       "      <td>0.873184</td>\n",
       "      <td>0.128863</td>\n",
       "      <td>110.097804</td>\n",
       "    </tr>\n",
       "    <tr>\n",
       "      <td>min</td>\n",
       "      <td>12.000000</td>\n",
       "      <td>1.219000e+04</td>\n",
       "      <td>0.000000</td>\n",
       "      <td>2.250000</td>\n",
       "      <td>0.000000</td>\n",
       "    </tr>\n",
       "    <tr>\n",
       "      <td>25%</td>\n",
       "      <td>38.400000</td>\n",
       "      <td>3.253500e+06</td>\n",
       "      <td>1.000000</td>\n",
       "      <td>2.500000</td>\n",
       "      <td>20.000000</td>\n",
       "    </tr>\n",
       "    <tr>\n",
       "      <td>50%</td>\n",
       "      <td>48.000000</td>\n",
       "      <td>4.300000e+06</td>\n",
       "      <td>2.000000</td>\n",
       "      <td>2.500000</td>\n",
       "      <td>60.000000</td>\n",
       "    </tr>\n",
       "    <tr>\n",
       "      <td>75%</td>\n",
       "      <td>62.000000</td>\n",
       "      <td>5.750000e+06</td>\n",
       "      <td>3.000000</td>\n",
       "      <td>2.650000</td>\n",
       "      <td>150.000000</td>\n",
       "    </tr>\n",
       "    <tr>\n",
       "      <td>max</td>\n",
       "      <td>114.500000</td>\n",
       "      <td>1.188000e+07</td>\n",
       "      <td>5.000000</td>\n",
       "      <td>3.000000</td>\n",
       "      <td>464.000000</td>\n",
       "    </tr>\n",
       "  </tbody>\n",
       "</table>\n",
       "</div>"
      ],
      "text/plain": [
       "         total_area    last_price         rooms  ceiling_height  \\\n",
       "count  18970.000000  1.897000e+04  18970.000000    18970.000000   \n",
       "mean      51.625735  4.676555e+06      1.880021        2.581484   \n",
       "std       17.042685  2.098984e+06      0.873184        0.128863   \n",
       "min       12.000000  1.219000e+04      0.000000        2.250000   \n",
       "25%       38.400000  3.253500e+06      1.000000        2.500000   \n",
       "50%       48.000000  4.300000e+06      2.000000        2.500000   \n",
       "75%       62.000000  5.750000e+06      3.000000        2.650000   \n",
       "max      114.500000  1.188000e+07      5.000000        3.000000   \n",
       "\n",
       "       days_exposition  \n",
       "count     18970.000000  \n",
       "mean        102.801371  \n",
       "std         110.097804  \n",
       "min           0.000000  \n",
       "25%          20.000000  \n",
       "50%          60.000000  \n",
       "75%         150.000000  \n",
       "max         464.000000  "
      ]
     },
     "execution_count": 95,
     "metadata": {},
     "output_type": "execute_result"
    }
   ],
   "source": [
    "# descriptive characteristics of flats in the overall database\n",
    "\n",
    "df_normalized[['total_area', 'last_price', 'rooms', 'ceiling_height', 'days_exposition']].describe()"
   ]
  },
  {
   "cell_type": "markdown",
   "metadata": {},
   "source": [
    "Immediately obvious is the fact that the average area of flats in the city centre is higher than the area of flats in the general base - by about 27%.\n",
    "\n",
    "The average price of flats in the city centre is considerably higher than the average price in overall database - practically by 56%.\n",
    "\n",
    "Other features such as number of rooms and ceiling heights are practically comparable. There is no particular difference here. "
   ]
  },
  {
   "cell_type": "markdown",
   "metadata": {},
   "source": [
    "In order to assess and investigate the interdependence of the various factors on the price of the flat, we build a matrix of correlation coefficients, reflecting the degree of dependence and influence between the selected parameters of the properties.\n",
    "\n",
    "For greater clarity and easier perception of the matrix with the correlation values, let us display the same values in the form of a heat map by constructing a `heatmap'."
   ]
  },
  {
   "cell_type": "code",
   "execution_count": 96,
   "metadata": {
    "scrolled": false
   },
   "outputs": [
    {
     "data": {
      "image/png": "[encoded data removed]",
      "text/plain": [
       "<Figure size 432x288 with 2 Axes>"
      ]
     },
     "metadata": {
      "needs_background": "light"
     },
     "output_type": "display_data"
    }
   ],
   "source": [
    "cor_spb_city_center = spb_city_center[['last_price', 'total_area',\n",
    "       'rooms', 'citycenters_nearest', 'floor',\n",
    "       'exposition_day', 'exposition_month', 'exposition_year']]\n",
    "\n",
    "sns.heatmap(cor_spb_city_center.corr(), xticklabels=cor_spb_city_center.corr().columns, yticklabels=cor_spb_city_center.corr().columns, cmap='RdYlGn', center=0, annot=True)\n",
    "plt.title('Диаграмма корреляции - Центр Петербурга', fontsize=14)\n",
    "plt.xticks(fontsize=12)\n",
    "plt.yticks(fontsize=12)\n",
    "plt.show()"
   ]
  },
  {
   "cell_type": "markdown",
   "metadata": {},
   "source": [
    "In order to compare the conclusions, below we duplicate a similar heat map with coefficients on the overall flat database.\n",
    "\n",
    "The heat map shows very clearly that the biggest factor influencing the price of a flat is the area of the flat, followed by the number of rooms. This conclusion is quite logical and to be expected - the bigger the property, the more expensive it is. And in the centre the dependence on the number of rooms exceeds similar correlation on the overall database.\n",
    "\n",
    "Remoteness from the centre, of course, is not expressed as we already analyze the centre itself. In the overall database this correlation is slightly more pronounced, but also weak (-0.31).\n",
    "\n",
    "The correlation coefficients for price and time of placement (day, month, year) for St. Petersburg and the overall database are all in the yellow and grey zones, indicating the absence of correlation."
   ]
  },
  {
   "cell_type": "code",
   "execution_count": 97,
   "metadata": {
    "scrolled": false
   },
   "outputs": [
    {
     "data": {
      "image/png": "[encoded data removed]",
      "text/plain": [
       "<Figure size 432x288 with 2 Axes>"
      ]
     },
     "metadata": {
      "needs_background": "light"
     },
     "output_type": "display_data"
    }
   ],
   "source": [
    "sns.heatmap(cor.corr(), xticklabels=cor.corr().columns, yticklabels=cor.corr().columns, cmap='coolwarm', center=0, annot=True)\n",
    "plt.title('Диаграмма корреляции - Общая', fontsize=16)\n",
    "plt.xticks(fontsize=12)\n",
    "plt.yticks(fontsize=12)\n",
    "plt.show()"
   ]
  },
  {
   "cell_type": "markdown",
   "metadata": {},
   "source": [
    "Let's analyse the user's ad activity by days of the week, month and year of publication."
   ]
  },
  {
   "cell_type": "code",
   "execution_count": 98,
   "metadata": {},
   "outputs": [
    {
     "data": {
      "image/png": "[encoded data removed]",
      "text/plain": [
       "<Figure size 432x288 with 1 Axes>"
      ]
     },
     "metadata": {
      "needs_background": "light"
     },
     "output_type": "display_data"
    }
   ],
   "source": [
    "ax = spb_city_center.plot(kind='hist', y='exposition_day', histtype='step', bins=7, label='Центр')\n",
    "\n",
    "df_normalized.query('citycenter_km >= 5')\\\n",
    ".plot(kind='hist', y='exposition_day', histtype='step', bins=7, ax=ax, label='За центром', linestyle='dashed')\n",
    "plt.xlabel('День публикации объявления')\n",
    "plt.ylabel('Частотность')\n",
    "\n",
    "plt.show()"
   ]
  },
  {
   "cell_type": "markdown",
   "metadata": {},
   "source": [
    "Most of the listings are placed on weekdays, and there is a noticeable drop off at weekends. Apparently, during working hours people are busy selling their own properties, while the weekend is a legitimate day off :) "
   ]
  },
  {
   "cell_type": "code",
   "execution_count": 99,
   "metadata": {},
   "outputs": [
    {
     "data": {
      "image/png": "[encoded data removed]",
      "text/plain": [
       "<Figure size 432x288 with 1 Axes>"
      ]
     },
     "metadata": {
      "needs_background": "light"
     },
     "output_type": "display_data"
    }
   ],
   "source": [
    "ax = spb_city_center.plot(kind='hist', y='exposition_month', histtype='step', bins=12, label='Центр')\n",
    "\n",
    "df_normalized.query('citycenter_km >= 5')\\\n",
    ".plot(kind='hist', y='exposition_month', histtype='step', bins=7, ax=ax, label='За центром', linestyle='dashed')\n",
    "plt.xlabel('Месяц публикации объявления')\n",
    "plt.ylabel('Частотность')\n",
    "\n",
    "plt.show()"
   ]
  },
  {
   "cell_type": "markdown",
   "metadata": {},
   "source": [
    "Again, there is a pronounced seasonality in ad placements. The highest activity is in autumn, winter and until mid-spring. Then there is a drop in May holidays, a small local peak in June-July, and another drop during the holiday season in August."
   ]
  },
  {
   "cell_type": "code",
   "execution_count": 100,
   "metadata": {},
   "outputs": [
    {
     "data": {
      "image/png": "[encoded data removed]",
      "text/plain": [
       "<Figure size 432x288 with 1 Axes>"
      ]
     },
     "metadata": {
      "needs_background": "light"
     },
     "output_type": "display_data"
    }
   ],
   "source": [
    "ax = spb_city_center.plot(kind='hist', y='exposition_year', histtype='step', bins=5, label='Центр')\n",
    "\n",
    "df_normalized.query('citycenter_km >= 5')\\\n",
    ".plot(kind='hist', y='exposition_year', histtype='step', bins=7, ax=ax, label='За центром', linestyle='dashed')\n",
    "plt.xlabel('Год публикации объявления')\n",
    "plt.ylabel('Частотность')\n",
    "\n",
    "plt.show()"
   ]
  },
  {
   "cell_type": "markdown",
   "metadata": {},
   "source": [
    "The main flow of advertisements is from 2017 to 2019. "
   ]
  },
  {
   "cell_type": "markdown",
   "metadata": {},
   "source": [
    "### Exploratory analysis. Conclusion:\n",
    "\n",
    "\n",
    "1. As a result of exploratory data analysis, the dataset has been checked for outliers. By sequentially examining the parameters area, price, number of rooms, ceiling height, sales duration, multiple outliers in the values were detected. It was decided to reduce the dataset to get rid of the outlier values.\n",
    "\n",
    "\n",
    "2. As a result of data cleaning and elimination of outliers, 5,426 rows were removed, which is only 23% of the \n",
    "dataset.\n",
    "\n",
    "\n",
    "3. Conclusions from the study:\n",
    "    - Half of all flats are sold between 21 and 149 days.\n",
    "    - In assessing the correlation, the most important factors interdependent on price were identified. The most important of which relate directly to property characteristics such as living space and number of rooms, followed by distance to the city centre. And the dependence of the price on the time of posting has not been detected.\n",
    "    - Additionally, we have found out that the closer the flat is to the centre, the more expensive it is. Flats on the top floor of a building are slightly more expensive than those on the ground floor. However, both the top floor and the ground floor are inferior in price to flats on intermediate floors.\n",
    "    - As was to be expected, St Petersburg tops the list of localities with the highest number of listings (11310). And we see that it accounts for more than half of all listings. All other listings are scattered across numerous other localities, and for all of them the gaps are not as pronounced as between first and second place in terms of frequency.\n",
    "    - However, the leader in terms of price per square metre has changed. It is the settlement of Lisi Nos. However, there is only one advertisement for a flat for sale. Apparently elite housing was offered for sale at a very high price. After Lisi Nos are located Saint-Petersburg and 5 other settlements, approximately in an equal price category from 99000 to 105000 rubles per sq. m. (Sankt-Petersburg, Sestroretsk, Mistolovo, Zelenogorsk, Kudrovo, Pushkin).\n",
    "    - The centre of St. Petersburg has been conventionally defined for the study - within a radius of five kilometres from the centre. We have confirmed the obvious fact that the average price of flats in the city centre is significantly higher than in the general database - by almost 58%, and the average area of flats in the centre is higher than in the general database - by about 25%.\n",
    "    - Other features such as number of rooms and ceiling heights are practically comparable. There is no particular difference here.\n",
    "\n"
   ]
  },
  {
   "cell_type": "markdown",
   "metadata": {},
   "source": [
    "## Overall conclusion"
   ]
  },
  {
   "cell_type": "markdown",
   "metadata": {},
   "source": [
    "1. Data with real estate price information has been downloaded, cleaned, categorised and analysed.\n",
    "2. In the resulting data, anomalous values as well as multiple missing values were detected, especially a very high percentage of missing values in the cartographic data on distances to different objects, which are automatically collected.\n",
    "3. As a result of the study, the dataset is cleared of missing values, outliers and artefacts. The analysis shows that:\n",
    "\n",
    "    - The total area of most flats is in the 40-60 sq.m. range\n",
    "    - the most popular are 1 and 2-bedroom flats\n",
    "    - ground floor flats are cheaper than ground floor flats. At the same time, ground floor and top floor flats are cheaper than flats on intermediate floors\n",
    "    - the most expensive flats are located in the city centre (within a radius of 5 km. from the centre). And consequently the further from the centre the cheaper.\n",
    "    \n",
    "**BUG REPORT:** \n",
    "\n",
    "When analysing the dataset for completeness and quality of available data, we found a significant number of missing values, especially cartographic data, such as distances to the nearest park (15620 missing values / 65.91% of total data), to the nearest pond (14589 / 61.56%), to the nearest airport ( 5542 / 23.38%) and to the city centre (5519 / 23.29%). There is also a high proportion of missing values for the availability of parks and ponds within a 3km radius. \n",
    "\n",
    "The data from the listed columns are obtained automatically with the help of a cartographic service. Their absence is therefore alarming and suggests possible technical malfunction. It's necessary to pay attention to this problem and take measures to fix it.  \n",
    "\n",
    "In addition, it is necessary to analyze the process of user data entry for their validation when filling out ads, in order to avoid entering obviously inadequate and abnormal values, such as ceiling height of 100 meters and the number of rooms - 19.\n"
   ]
  }
 ],
 "metadata": {
  "ExecuteTimeLog": [
   {
    "duration": 2830,
    "start_time": "2022-03-04T16:09:19.499Z"
   },
   {
    "duration": 72,
    "start_time": "2022-03-04T16:11:33.011Z"
   },
   {
    "duration": 27,
    "start_time": "2022-03-04T16:11:40.908Z"
   },
   {
    "duration": 10,
    "start_time": "2022-03-04T16:11:56.448Z"
   },
   {
    "duration": 1161,
    "start_time": "2022-03-04T16:11:57.209Z"
   },
   {
    "duration": 8,
    "start_time": "2022-03-04T16:15:16.281Z"
   },
   {
    "duration": 7,
    "start_time": "2022-03-04T16:15:43.507Z"
   },
   {
    "duration": 3,
    "start_time": "2022-03-04T16:21:27.966Z"
   },
   {
    "duration": 1469,
    "start_time": "2022-03-04T16:22:24.147Z"
   },
   {
    "duration": 3,
    "start_time": "2022-03-04T16:34:29.481Z"
   },
   {
    "duration": 844,
    "start_time": "2022-03-04T16:36:37.766Z"
   },
   {
    "duration": 15,
    "start_time": "2022-03-04T16:36:38.612Z"
   },
   {
    "duration": 17,
    "start_time": "2022-03-04T16:36:38.630Z"
   },
   {
    "duration": 4,
    "start_time": "2022-03-04T16:36:38.649Z"
   },
   {
    "duration": 379,
    "start_time": "2022-03-04T16:36:56.146Z"
   },
   {
    "duration": 352,
    "start_time": "2022-03-04T16:38:30.505Z"
   },
   {
    "duration": 654,
    "start_time": "2022-03-04T16:38:46.999Z"
   },
   {
    "duration": 10,
    "start_time": "2022-03-04T16:38:47.655Z"
   },
   {
    "duration": 11,
    "start_time": "2022-03-04T16:38:47.667Z"
   },
   {
    "duration": 3,
    "start_time": "2022-03-04T16:38:47.680Z"
   },
   {
    "duration": 604,
    "start_time": "2022-03-04T16:45:32.938Z"
   },
   {
    "duration": 10,
    "start_time": "2022-03-04T16:45:33.544Z"
   },
   {
    "duration": 11,
    "start_time": "2022-03-04T16:45:33.556Z"
   },
   {
    "duration": 2,
    "start_time": "2022-03-04T16:45:33.569Z"
   },
   {
    "duration": 321,
    "start_time": "2022-03-04T16:46:08.558Z"
   },
   {
    "duration": 631,
    "start_time": "2022-03-04T16:46:15.020Z"
   },
   {
    "duration": 11,
    "start_time": "2022-03-04T16:46:18.326Z"
   },
   {
    "duration": 11,
    "start_time": "2022-03-04T16:46:27.105Z"
   },
   {
    "duration": 13,
    "start_time": "2022-03-04T16:46:29.103Z"
   },
   {
    "duration": 317,
    "start_time": "2022-03-04T16:47:10.304Z"
   },
   {
    "duration": 3,
    "start_time": "2022-03-04T16:47:33.864Z"
   },
   {
    "duration": 4,
    "start_time": "2022-03-04T16:51:45.800Z"
   },
   {
    "duration": 610,
    "start_time": "2022-03-04T16:52:20.134Z"
   },
   {
    "duration": 13,
    "start_time": "2022-03-04T16:52:20.831Z"
   },
   {
    "duration": 13,
    "start_time": "2022-03-04T16:52:21.518Z"
   },
   {
    "duration": 3,
    "start_time": "2022-03-04T16:52:26.374Z"
   },
   {
    "duration": 390,
    "start_time": "2022-03-04T16:52:27.262Z"
   },
   {
    "duration": 61,
    "start_time": "2022-03-04T17:28:24.831Z"
   },
   {
    "duration": 11,
    "start_time": "2022-03-04T17:28:25.821Z"
   },
   {
    "duration": 7,
    "start_time": "2022-03-04T17:28:26.765Z"
   },
   {
    "duration": 3,
    "start_time": "2022-03-04T17:28:31.371Z"
   },
   {
    "duration": 59,
    "start_time": "2022-03-04T20:05:08.022Z"
   },
   {
    "duration": 11,
    "start_time": "2022-03-04T20:05:09.433Z"
   },
   {
    "duration": 7,
    "start_time": "2022-03-04T20:05:10.188Z"
   },
   {
    "duration": 3,
    "start_time": "2022-03-04T20:05:14.828Z"
   },
   {
    "duration": 635,
    "start_time": "2022-03-04T20:06:06.931Z"
   },
   {
    "duration": 85,
    "start_time": "2022-03-05T07:58:12.610Z"
   },
   {
    "duration": 205,
    "start_time": "2022-03-05T07:58:31.509Z"
   },
   {
    "duration": 610,
    "start_time": "2022-03-05T07:58:37.461Z"
   },
   {
    "duration": 197,
    "start_time": "2022-03-05T07:58:38.250Z"
   },
   {
    "duration": 100,
    "start_time": "2022-03-05T07:59:20.670Z"
   },
   {
    "duration": 133,
    "start_time": "2022-03-05T08:00:03.253Z"
   },
   {
    "duration": 25,
    "start_time": "2022-03-05T08:00:12.650Z"
   },
   {
    "duration": 10,
    "start_time": "2022-03-05T08:01:07.449Z"
   },
   {
    "duration": 7,
    "start_time": "2022-03-05T08:01:09.108Z"
   },
   {
    "duration": 4,
    "start_time": "2022-03-05T08:04:45.165Z"
   },
   {
    "duration": 396,
    "start_time": "2022-03-05T08:04:59.504Z"
   },
   {
    "duration": 8295,
    "start_time": "2022-03-08T12:35:59.024Z"
   },
   {
    "duration": 78,
    "start_time": "2022-03-08T12:37:40.271Z"
   },
   {
    "duration": 1156,
    "start_time": "2022-03-08T12:37:58.529Z"
   },
   {
    "duration": 39,
    "start_time": "2022-03-08T12:37:59.687Z"
   },
   {
    "duration": 9,
    "start_time": "2022-03-08T12:37:59.727Z"
   },
   {
    "duration": 435,
    "start_time": "2022-03-08T12:37:59.738Z"
   },
   {
    "duration": 80,
    "start_time": "2022-03-08T12:38:00.175Z"
   },
   {
    "duration": 28,
    "start_time": "2022-03-08T12:38:00.257Z"
   },
   {
    "duration": 16,
    "start_time": "2022-03-08T12:38:00.286Z"
   },
   {
    "duration": 8,
    "start_time": "2022-03-08T12:38:00.303Z"
   },
   {
    "duration": 7,
    "start_time": "2022-03-08T12:38:00.313Z"
   },
   {
    "duration": 6,
    "start_time": "2022-03-08T12:38:00.322Z"
   },
   {
    "duration": 11,
    "start_time": "2022-03-08T12:38:00.330Z"
   },
   {
    "duration": 10,
    "start_time": "2022-03-08T12:38:00.343Z"
   },
   {
    "duration": 6,
    "start_time": "2022-03-08T12:38:00.355Z"
   },
   {
    "duration": 41,
    "start_time": "2022-03-08T12:38:00.362Z"
   },
   {
    "duration": 16,
    "start_time": "2022-03-08T12:38:00.405Z"
   },
   {
    "duration": 12,
    "start_time": "2022-03-08T12:38:00.423Z"
   },
   {
    "duration": 9,
    "start_time": "2022-03-08T12:38:00.437Z"
   },
   {
    "duration": 9,
    "start_time": "2022-03-08T12:38:00.447Z"
   },
   {
    "duration": 20,
    "start_time": "2022-03-08T12:38:00.457Z"
   },
   {
    "duration": 9,
    "start_time": "2022-03-08T12:38:00.479Z"
   },
   {
    "duration": 21,
    "start_time": "2022-03-08T12:38:00.490Z"
   },
   {
    "duration": 27,
    "start_time": "2022-03-08T12:38:00.513Z"
   },
   {
    "duration": 9,
    "start_time": "2022-03-08T12:38:00.542Z"
   },
   {
    "duration": 10,
    "start_time": "2022-03-08T12:38:00.553Z"
   },
   {
    "duration": 20,
    "start_time": "2022-03-08T12:38:00.565Z"
   },
   {
    "duration": 11,
    "start_time": "2022-03-08T12:38:00.587Z"
   },
   {
    "duration": 16,
    "start_time": "2022-03-08T12:38:00.604Z"
   },
   {
    "duration": 10,
    "start_time": "2022-03-08T12:38:00.623Z"
   },
   {
    "duration": 16,
    "start_time": "2022-03-08T12:38:00.635Z"
   },
   {
    "duration": 13,
    "start_time": "2022-03-08T12:38:00.653Z"
   },
   {
    "duration": 9,
    "start_time": "2022-03-08T12:38:00.667Z"
   },
   {
    "duration": 17,
    "start_time": "2022-03-08T12:38:00.678Z"
   },
   {
    "duration": 7,
    "start_time": "2022-03-08T12:38:00.697Z"
   },
   {
    "duration": 11,
    "start_time": "2022-03-08T12:38:00.705Z"
   },
   {
    "duration": 15,
    "start_time": "2022-03-08T12:38:00.718Z"
   },
   {
    "duration": 18,
    "start_time": "2022-03-08T12:38:00.735Z"
   },
   {
    "duration": 17,
    "start_time": "2022-03-08T12:38:00.755Z"
   },
   {
    "duration": 19,
    "start_time": "2022-03-08T12:38:00.774Z"
   },
   {
    "duration": 10,
    "start_time": "2022-03-08T12:38:00.795Z"
   },
   {
    "duration": 36,
    "start_time": "2022-03-08T12:38:00.807Z"
   },
   {
    "duration": 12,
    "start_time": "2022-03-08T12:38:00.845Z"
   },
   {
    "duration": 21,
    "start_time": "2022-03-08T12:38:00.859Z"
   },
   {
    "duration": 20,
    "start_time": "2022-03-08T12:38:00.882Z"
   },
   {
    "duration": 32,
    "start_time": "2022-03-08T12:38:00.904Z"
   },
   {
    "duration": 4,
    "start_time": "2022-03-08T12:38:00.938Z"
   },
   {
    "duration": 449,
    "start_time": "2022-03-08T12:38:00.944Z"
   },
   {
    "duration": 7,
    "start_time": "2022-03-08T12:38:01.394Z"
   },
   {
    "duration": 20,
    "start_time": "2022-03-08T12:38:01.402Z"
   },
   {
    "duration": 407,
    "start_time": "2022-03-08T12:38:01.424Z"
   },
   {
    "duration": -1546,
    "start_time": "2022-03-08T12:38:03.379Z"
   },
   {
    "duration": -1552,
    "start_time": "2022-03-08T12:38:03.386Z"
   },
   {
    "duration": -1556,
    "start_time": "2022-03-08T12:38:03.391Z"
   },
   {
    "duration": -1561,
    "start_time": "2022-03-08T12:38:03.397Z"
   },
   {
    "duration": -1566,
    "start_time": "2022-03-08T12:38:03.403Z"
   },
   {
    "duration": -1572,
    "start_time": "2022-03-08T12:38:03.410Z"
   },
   {
    "duration": -1576,
    "start_time": "2022-03-08T12:38:03.415Z"
   },
   {
    "duration": -1582,
    "start_time": "2022-03-08T12:38:03.422Z"
   },
   {
    "duration": -1587,
    "start_time": "2022-03-08T12:38:03.427Z"
   },
   {
    "duration": -1593,
    "start_time": "2022-03-08T12:38:03.434Z"
   },
   {
    "duration": -1597,
    "start_time": "2022-03-08T12:38:03.439Z"
   },
   {
    "duration": -1624,
    "start_time": "2022-03-08T12:38:03.467Z"
   },
   {
    "duration": -1629,
    "start_time": "2022-03-08T12:38:03.473Z"
   },
   {
    "duration": -1635,
    "start_time": "2022-03-08T12:38:03.480Z"
   },
   {
    "duration": -1640,
    "start_time": "2022-03-08T12:38:03.486Z"
   },
   {
    "duration": -1646,
    "start_time": "2022-03-08T12:38:03.493Z"
   },
   {
    "duration": -1651,
    "start_time": "2022-03-08T12:38:03.498Z"
   },
   {
    "duration": -1657,
    "start_time": "2022-03-08T12:38:03.505Z"
   },
   {
    "duration": -1662,
    "start_time": "2022-03-08T12:38:03.511Z"
   },
   {
    "duration": -1667,
    "start_time": "2022-03-08T12:38:03.517Z"
   },
   {
    "duration": -1675,
    "start_time": "2022-03-08T12:38:03.526Z"
   },
   {
    "duration": -1680,
    "start_time": "2022-03-08T12:38:03.532Z"
   },
   {
    "duration": -1685,
    "start_time": "2022-03-08T12:38:03.538Z"
   },
   {
    "duration": -1691,
    "start_time": "2022-03-08T12:38:03.544Z"
   },
   {
    "duration": -1698,
    "start_time": "2022-03-08T12:38:03.552Z"
   },
   {
    "duration": -1703,
    "start_time": "2022-03-08T12:38:03.558Z"
   },
   {
    "duration": -1708,
    "start_time": "2022-03-08T12:38:03.564Z"
   },
   {
    "duration": -1736,
    "start_time": "2022-03-08T12:38:03.593Z"
   },
   {
    "duration": -1742,
    "start_time": "2022-03-08T12:38:03.600Z"
   },
   {
    "duration": -1751,
    "start_time": "2022-03-08T12:38:03.610Z"
   },
   {
    "duration": -1758,
    "start_time": "2022-03-08T12:38:03.618Z"
   },
   {
    "duration": -1766,
    "start_time": "2022-03-08T12:38:03.626Z"
   },
   {
    "duration": -1773,
    "start_time": "2022-03-08T12:38:03.634Z"
   },
   {
    "duration": -1780,
    "start_time": "2022-03-08T12:38:03.642Z"
   },
   {
    "duration": -1786,
    "start_time": "2022-03-08T12:38:03.649Z"
   },
   {
    "duration": -1792,
    "start_time": "2022-03-08T12:38:03.656Z"
   },
   {
    "duration": -1799,
    "start_time": "2022-03-08T12:38:03.664Z"
   },
   {
    "duration": -1806,
    "start_time": "2022-03-08T12:38:03.672Z"
   },
   {
    "duration": -1812,
    "start_time": "2022-03-08T12:38:03.679Z"
   },
   {
    "duration": -1829,
    "start_time": "2022-03-08T12:38:03.697Z"
   },
   {
    "duration": -1836,
    "start_time": "2022-03-08T12:38:03.705Z"
   },
   {
    "duration": -1843,
    "start_time": "2022-03-08T12:38:03.713Z"
   },
   {
    "duration": -1850,
    "start_time": "2022-03-08T12:38:03.720Z"
   },
   {
    "duration": -1860,
    "start_time": "2022-03-08T12:38:03.731Z"
   },
   {
    "duration": -1867,
    "start_time": "2022-03-08T12:38:03.739Z"
   },
   {
    "duration": -1846,
    "start_time": "2022-03-08T12:38:03.747Z"
   },
   {
    "duration": -1852,
    "start_time": "2022-03-08T12:38:03.754Z"
   },
   {
    "duration": -1869,
    "start_time": "2022-03-08T12:38:03.771Z"
   },
   {
    "duration": -1875,
    "start_time": "2022-03-08T12:38:03.778Z"
   },
   {
    "duration": -1881,
    "start_time": "2022-03-08T12:38:03.785Z"
   },
   {
    "duration": -1886,
    "start_time": "2022-03-08T12:38:03.791Z"
   },
   {
    "duration": 10,
    "start_time": "2022-03-08T12:41:11.311Z"
   },
   {
    "duration": 305,
    "start_time": "2022-03-08T12:41:16.231Z"
   },
   {
    "duration": 105,
    "start_time": "2022-03-08T12:45:59.543Z"
   },
   {
    "duration": 707,
    "start_time": "2022-03-08T12:46:21.678Z"
   },
   {
    "duration": 319,
    "start_time": "2022-03-08T12:47:09.613Z"
   },
   {
    "duration": 100,
    "start_time": "2022-03-08T12:47:22.497Z"
   },
   {
    "duration": 691,
    "start_time": "2022-03-08T12:51:07.744Z"
   },
   {
    "duration": 3319,
    "start_time": "2022-03-08T12:53:25.985Z"
   },
   {
    "duration": 295,
    "start_time": "2022-03-08T12:53:46.268Z"
   },
   {
    "duration": 386,
    "start_time": "2022-03-08T12:54:16.930Z"
   },
   {
    "duration": 145,
    "start_time": "2022-03-08T12:54:37.721Z"
   },
   {
    "duration": 2338,
    "start_time": "2022-03-08T12:54:43.163Z"
   },
   {
    "duration": 300,
    "start_time": "2022-03-08T12:55:45.056Z"
   },
   {
    "duration": 305,
    "start_time": "2022-03-08T12:57:55.194Z"
   },
   {
    "duration": 2429,
    "start_time": "2022-03-08T12:58:03.089Z"
   },
   {
    "duration": 39,
    "start_time": "2022-03-08T12:58:05.520Z"
   },
   {
    "duration": 12,
    "start_time": "2022-03-08T12:58:05.562Z"
   },
   {
    "duration": 48,
    "start_time": "2022-03-08T12:58:05.576Z"
   },
   {
    "duration": 101,
    "start_time": "2022-03-08T12:58:05.626Z"
   },
   {
    "duration": 25,
    "start_time": "2022-03-08T12:58:05.729Z"
   },
   {
    "duration": 5,
    "start_time": "2022-03-08T12:58:05.756Z"
   },
   {
    "duration": 39,
    "start_time": "2022-03-08T12:58:05.764Z"
   },
   {
    "duration": 17,
    "start_time": "2022-03-08T12:58:05.805Z"
   },
   {
    "duration": 12,
    "start_time": "2022-03-08T12:58:05.824Z"
   },
   {
    "duration": 23,
    "start_time": "2022-03-08T12:58:05.838Z"
   },
   {
    "duration": 15,
    "start_time": "2022-03-08T12:58:05.862Z"
   },
   {
    "duration": 12,
    "start_time": "2022-03-08T12:58:05.878Z"
   },
   {
    "duration": 19,
    "start_time": "2022-03-08T12:58:05.892Z"
   },
   {
    "duration": 12,
    "start_time": "2022-03-08T12:58:05.913Z"
   },
   {
    "duration": 20,
    "start_time": "2022-03-08T12:58:05.926Z"
   },
   {
    "duration": 14,
    "start_time": "2022-03-08T12:58:05.948Z"
   },
   {
    "duration": 14,
    "start_time": "2022-03-08T12:58:05.964Z"
   },
   {
    "duration": 15,
    "start_time": "2022-03-08T12:58:05.979Z"
   },
   {
    "duration": 20,
    "start_time": "2022-03-08T12:58:05.996Z"
   },
   {
    "duration": 15,
    "start_time": "2022-03-08T12:58:06.018Z"
   },
   {
    "duration": 12,
    "start_time": "2022-03-08T12:58:06.035Z"
   },
   {
    "duration": 11,
    "start_time": "2022-03-08T12:58:06.052Z"
   },
   {
    "duration": 13,
    "start_time": "2022-03-08T12:58:06.066Z"
   },
   {
    "duration": 19,
    "start_time": "2022-03-08T12:58:06.081Z"
   },
   {
    "duration": 23,
    "start_time": "2022-03-08T12:58:06.102Z"
   },
   {
    "duration": 14,
    "start_time": "2022-03-08T12:58:06.127Z"
   },
   {
    "duration": 19,
    "start_time": "2022-03-08T12:58:06.143Z"
   },
   {
    "duration": 22,
    "start_time": "2022-03-08T12:58:06.164Z"
   },
   {
    "duration": 10,
    "start_time": "2022-03-08T12:58:06.188Z"
   },
   {
    "duration": 14,
    "start_time": "2022-03-08T12:58:06.199Z"
   },
   {
    "duration": 24,
    "start_time": "2022-03-08T12:58:06.214Z"
   },
   {
    "duration": 9,
    "start_time": "2022-03-08T12:58:06.239Z"
   },
   {
    "duration": 21,
    "start_time": "2022-03-08T12:58:06.249Z"
   },
   {
    "duration": 6,
    "start_time": "2022-03-08T12:58:06.271Z"
   },
   {
    "duration": 11,
    "start_time": "2022-03-08T12:58:06.279Z"
   },
   {
    "duration": 7,
    "start_time": "2022-03-08T12:58:06.291Z"
   },
   {
    "duration": 9,
    "start_time": "2022-03-08T12:58:06.300Z"
   },
   {
    "duration": 7,
    "start_time": "2022-03-08T12:58:06.311Z"
   },
   {
    "duration": 24,
    "start_time": "2022-03-08T12:58:06.319Z"
   },
   {
    "duration": 14,
    "start_time": "2022-03-08T12:58:06.344Z"
   },
   {
    "duration": 17,
    "start_time": "2022-03-08T12:58:06.359Z"
   },
   {
    "duration": 4,
    "start_time": "2022-03-08T12:58:06.377Z"
   },
   {
    "duration": 28,
    "start_time": "2022-03-08T12:58:06.382Z"
   },
   {
    "duration": 3,
    "start_time": "2022-03-08T12:58:06.411Z"
   },
   {
    "duration": 497,
    "start_time": "2022-03-08T12:58:06.416Z"
   },
   {
    "duration": 5,
    "start_time": "2022-03-08T12:58:06.914Z"
   },
   {
    "duration": 19,
    "start_time": "2022-03-08T12:58:06.921Z"
   },
   {
    "duration": 298,
    "start_time": "2022-03-08T12:58:06.942Z"
   },
   {
    "duration": -1970,
    "start_time": "2022-03-08T12:58:09.213Z"
   },
   {
    "duration": -1978,
    "start_time": "2022-03-08T12:58:09.221Z"
   },
   {
    "duration": -1988,
    "start_time": "2022-03-08T12:58:09.232Z"
   },
   {
    "duration": -2071,
    "start_time": "2022-03-08T12:58:09.316Z"
   },
   {
    "duration": -2077,
    "start_time": "2022-03-08T12:58:09.323Z"
   },
   {
    "duration": -2082,
    "start_time": "2022-03-08T12:58:09.329Z"
   },
   {
    "duration": -2087,
    "start_time": "2022-03-08T12:58:09.335Z"
   },
   {
    "duration": -2092,
    "start_time": "2022-03-08T12:58:09.340Z"
   },
   {
    "duration": -2098,
    "start_time": "2022-03-08T12:58:09.347Z"
   },
   {
    "duration": -2102,
    "start_time": "2022-03-08T12:58:09.352Z"
   },
   {
    "duration": -2107,
    "start_time": "2022-03-08T12:58:09.358Z"
   },
   {
    "duration": -2112,
    "start_time": "2022-03-08T12:58:09.364Z"
   },
   {
    "duration": -2119,
    "start_time": "2022-03-08T12:58:09.371Z"
   },
   {
    "duration": -2123,
    "start_time": "2022-03-08T12:58:09.376Z"
   },
   {
    "duration": -2128,
    "start_time": "2022-03-08T12:58:09.382Z"
   },
   {
    "duration": -2133,
    "start_time": "2022-03-08T12:58:09.388Z"
   },
   {
    "duration": -2138,
    "start_time": "2022-03-08T12:58:09.394Z"
   },
   {
    "duration": -2143,
    "start_time": "2022-03-08T12:58:09.400Z"
   },
   {
    "duration": -2149,
    "start_time": "2022-03-08T12:58:09.406Z"
   },
   {
    "duration": -2154,
    "start_time": "2022-03-08T12:58:09.412Z"
   },
   {
    "duration": -2169,
    "start_time": "2022-03-08T12:58:09.428Z"
   },
   {
    "duration": -2174,
    "start_time": "2022-03-08T12:58:09.434Z"
   },
   {
    "duration": -2179,
    "start_time": "2022-03-08T12:58:09.440Z"
   },
   {
    "duration": -2184,
    "start_time": "2022-03-08T12:58:09.446Z"
   },
   {
    "duration": -2189,
    "start_time": "2022-03-08T12:58:09.452Z"
   },
   {
    "duration": -2194,
    "start_time": "2022-03-08T12:58:09.458Z"
   },
   {
    "duration": -2199,
    "start_time": "2022-03-08T12:58:09.464Z"
   },
   {
    "duration": -2203,
    "start_time": "2022-03-08T12:58:09.469Z"
   },
   {
    "duration": -2209,
    "start_time": "2022-03-08T12:58:09.476Z"
   },
   {
    "duration": -2214,
    "start_time": "2022-03-08T12:58:09.481Z"
   },
   {
    "duration": -2220,
    "start_time": "2022-03-08T12:58:09.488Z"
   },
   {
    "duration": -2224,
    "start_time": "2022-03-08T12:58:09.493Z"
   },
   {
    "duration": -2230,
    "start_time": "2022-03-08T12:58:09.500Z"
   },
   {
    "duration": -2234,
    "start_time": "2022-03-08T12:58:09.505Z"
   },
   {
    "duration": -2240,
    "start_time": "2022-03-08T12:58:09.512Z"
   },
   {
    "duration": -2245,
    "start_time": "2022-03-08T12:58:09.517Z"
   },
   {
    "duration": 285,
    "start_time": "2022-03-08T12:58:13.793Z"
   },
   {
    "duration": 3375,
    "start_time": "2022-03-08T12:58:22.793Z"
   },
   {
    "duration": 40,
    "start_time": "2022-03-08T12:58:26.170Z"
   },
   {
    "duration": 10,
    "start_time": "2022-03-08T12:58:26.212Z"
   },
   {
    "duration": 442,
    "start_time": "2022-03-08T12:58:26.224Z"
   },
   {
    "duration": 74,
    "start_time": "2022-03-08T12:58:26.668Z"
   },
   {
    "duration": 26,
    "start_time": "2022-03-08T12:58:26.744Z"
   },
   {
    "duration": 5,
    "start_time": "2022-03-08T12:58:26.772Z"
   },
   {
    "duration": 24,
    "start_time": "2022-03-08T12:58:26.780Z"
   },
   {
    "duration": 6,
    "start_time": "2022-03-08T12:58:26.806Z"
   },
   {
    "duration": 5,
    "start_time": "2022-03-08T12:58:26.814Z"
   },
   {
    "duration": 4,
    "start_time": "2022-03-08T12:58:26.820Z"
   },
   {
    "duration": 4,
    "start_time": "2022-03-08T12:58:26.826Z"
   },
   {
    "duration": 4,
    "start_time": "2022-03-08T12:58:26.832Z"
   },
   {
    "duration": 7,
    "start_time": "2022-03-08T12:58:26.838Z"
   },
   {
    "duration": 10,
    "start_time": "2022-03-08T12:58:26.846Z"
   },
   {
    "duration": 5,
    "start_time": "2022-03-08T12:58:26.902Z"
   },
   {
    "duration": 5,
    "start_time": "2022-03-08T12:58:26.909Z"
   },
   {
    "duration": 4,
    "start_time": "2022-03-08T12:58:26.916Z"
   },
   {
    "duration": 10,
    "start_time": "2022-03-08T12:58:26.921Z"
   },
   {
    "duration": 7,
    "start_time": "2022-03-08T12:58:26.932Z"
   },
   {
    "duration": 7,
    "start_time": "2022-03-08T12:58:26.941Z"
   },
   {
    "duration": 12,
    "start_time": "2022-03-08T12:58:26.950Z"
   },
   {
    "duration": 42,
    "start_time": "2022-03-08T12:58:26.965Z"
   },
   {
    "duration": 4,
    "start_time": "2022-03-08T12:58:27.009Z"
   },
   {
    "duration": 5,
    "start_time": "2022-03-08T12:58:27.014Z"
   },
   {
    "duration": 7,
    "start_time": "2022-03-08T12:58:27.020Z"
   },
   {
    "duration": 11,
    "start_time": "2022-03-08T12:58:27.028Z"
   },
   {
    "duration": 9,
    "start_time": "2022-03-08T12:58:27.040Z"
   },
   {
    "duration": 11,
    "start_time": "2022-03-08T12:58:27.050Z"
   },
   {
    "duration": 9,
    "start_time": "2022-03-08T12:58:27.062Z"
   },
   {
    "duration": 29,
    "start_time": "2022-03-08T12:58:27.072Z"
   },
   {
    "duration": 7,
    "start_time": "2022-03-08T12:58:27.102Z"
   },
   {
    "duration": 5,
    "start_time": "2022-03-08T12:58:27.111Z"
   },
   {
    "duration": 11,
    "start_time": "2022-03-08T12:58:27.117Z"
   },
   {
    "duration": 7,
    "start_time": "2022-03-08T12:58:27.130Z"
   },
   {
    "duration": 11,
    "start_time": "2022-03-08T12:58:27.138Z"
   },
   {
    "duration": 6,
    "start_time": "2022-03-08T12:58:27.151Z"
   },
   {
    "duration": 11,
    "start_time": "2022-03-08T12:58:27.159Z"
   },
   {
    "duration": 30,
    "start_time": "2022-03-08T12:58:27.171Z"
   },
   {
    "duration": 21,
    "start_time": "2022-03-08T12:58:27.203Z"
   },
   {
    "duration": 10,
    "start_time": "2022-03-08T12:58:27.226Z"
   },
   {
    "duration": 23,
    "start_time": "2022-03-08T12:58:27.237Z"
   },
   {
    "duration": 5,
    "start_time": "2022-03-08T12:58:27.261Z"
   },
   {
    "duration": 40,
    "start_time": "2022-03-08T12:58:27.267Z"
   },
   {
    "duration": 3,
    "start_time": "2022-03-08T12:58:27.309Z"
   },
   {
    "duration": 434,
    "start_time": "2022-03-08T12:58:27.313Z"
   },
   {
    "duration": 5,
    "start_time": "2022-03-08T12:58:27.748Z"
   },
   {
    "duration": 19,
    "start_time": "2022-03-08T12:58:27.754Z"
   },
   {
    "duration": 893,
    "start_time": "2022-03-08T12:58:27.774Z"
   },
   {
    "duration": 11,
    "start_time": "2022-03-08T12:58:28.669Z"
   },
   {
    "duration": 623,
    "start_time": "2022-03-08T12:58:28.681Z"
   },
   {
    "duration": 5032,
    "start_time": "2022-03-08T12:58:29.305Z"
   },
   {
    "duration": 10,
    "start_time": "2022-03-08T12:58:34.339Z"
   },
   {
    "duration": 1359,
    "start_time": "2022-03-08T12:58:34.351Z"
   },
   {
    "duration": 614,
    "start_time": "2022-03-08T12:58:35.711Z"
   },
   {
    "duration": 5,
    "start_time": "2022-03-08T12:58:36.327Z"
   },
   {
    "duration": 322,
    "start_time": "2022-03-08T12:58:36.334Z"
   },
   {
    "duration": 1287,
    "start_time": "2022-03-08T12:58:36.657Z"
   },
   {
    "duration": 378,
    "start_time": "2022-03-08T12:58:37.945Z"
   },
   {
    "duration": 565,
    "start_time": "2022-03-08T12:58:38.324Z"
   },
   {
    "duration": 11,
    "start_time": "2022-03-08T12:58:38.891Z"
   },
   {
    "duration": 10,
    "start_time": "2022-03-08T12:58:38.904Z"
   },
   {
    "duration": 10,
    "start_time": "2022-03-08T12:58:38.915Z"
   },
   {
    "duration": 22,
    "start_time": "2022-03-08T12:58:38.927Z"
   },
   {
    "duration": 3,
    "start_time": "2022-03-08T12:58:38.951Z"
   },
   {
    "duration": 46,
    "start_time": "2022-03-08T12:58:38.956Z"
   },
   {
    "duration": 138,
    "start_time": "2022-03-08T12:58:39.004Z"
   },
   {
    "duration": 696,
    "start_time": "2022-03-08T12:58:39.148Z"
   },
   {
    "duration": 6,
    "start_time": "2022-03-08T12:58:39.846Z"
   },
   {
    "duration": 124,
    "start_time": "2022-03-08T12:58:39.854Z"
   },
   {
    "duration": 587,
    "start_time": "2022-03-08T12:58:39.980Z"
   },
   {
    "duration": 7,
    "start_time": "2022-03-08T12:58:40.569Z"
   },
   {
    "duration": 119,
    "start_time": "2022-03-08T12:58:40.578Z"
   },
   {
    "duration": 587,
    "start_time": "2022-03-08T12:58:40.699Z"
   },
   {
    "duration": 6,
    "start_time": "2022-03-08T12:58:41.288Z"
   },
   {
    "duration": 207,
    "start_time": "2022-03-08T12:58:41.296Z"
   },
   {
    "duration": 602,
    "start_time": "2022-03-08T12:58:41.505Z"
   },
   {
    "duration": 5,
    "start_time": "2022-03-08T12:58:42.109Z"
   },
   {
    "duration": 127,
    "start_time": "2022-03-08T12:58:42.116Z"
   },
   {
    "duration": 648,
    "start_time": "2022-03-08T12:58:42.245Z"
   },
   {
    "duration": 1794,
    "start_time": "2022-03-08T12:58:42.895Z"
   },
   {
    "duration": 27,
    "start_time": "2022-03-08T12:58:44.690Z"
   },
   {
    "duration": 10,
    "start_time": "2022-03-08T12:58:44.718Z"
   },
   {
    "duration": 19,
    "start_time": "2022-03-08T12:58:44.729Z"
   },
   {
    "duration": 446,
    "start_time": "2022-03-08T12:58:44.750Z"
   },
   {
    "duration": 12,
    "start_time": "2022-03-08T12:58:45.197Z"
   },
   {
    "duration": 345,
    "start_time": "2022-03-08T12:58:45.211Z"
   },
   {
    "duration": 12,
    "start_time": "2022-03-08T12:58:45.558Z"
   },
   {
    "duration": 32,
    "start_time": "2022-03-08T12:58:45.572Z"
   },
   {
    "duration": 1783,
    "start_time": "2022-03-08T12:58:45.606Z"
   },
   {
    "duration": 7,
    "start_time": "2022-03-08T12:58:47.391Z"
   },
   {
    "duration": 179,
    "start_time": "2022-03-08T12:58:47.400Z"
   },
   {
    "duration": 7,
    "start_time": "2022-03-08T12:58:47.581Z"
   },
   {
    "duration": 21,
    "start_time": "2022-03-08T12:58:47.601Z"
   },
   {
    "duration": 23,
    "start_time": "2022-03-08T12:58:47.624Z"
   },
   {
    "duration": 438,
    "start_time": "2022-03-08T12:58:47.649Z"
   },
   {
    "duration": 448,
    "start_time": "2022-03-08T12:58:48.089Z"
   },
   {
    "duration": 184,
    "start_time": "2022-03-08T12:58:48.539Z"
   },
   {
    "duration": 245,
    "start_time": "2022-03-08T12:58:48.725Z"
   },
   {
    "duration": 179,
    "start_time": "2022-03-08T12:58:48.972Z"
   },
   {
    "duration": 3622,
    "start_time": "2022-03-08T13:57:29.510Z"
   },
   {
    "duration": 42,
    "start_time": "2022-03-08T13:57:33.134Z"
   },
   {
    "duration": 24,
    "start_time": "2022-03-08T13:57:33.178Z"
   },
   {
    "duration": 447,
    "start_time": "2022-03-08T13:57:33.204Z"
   },
   {
    "duration": 88,
    "start_time": "2022-03-08T13:57:33.653Z"
   },
   {
    "duration": 26,
    "start_time": "2022-03-08T13:57:33.743Z"
   },
   {
    "duration": 5,
    "start_time": "2022-03-08T13:57:33.772Z"
   },
   {
    "duration": 6,
    "start_time": "2022-03-08T13:57:33.804Z"
   },
   {
    "duration": 9,
    "start_time": "2022-03-08T13:57:33.813Z"
   },
   {
    "duration": 10,
    "start_time": "2022-03-08T13:57:33.824Z"
   },
   {
    "duration": 5,
    "start_time": "2022-03-08T13:57:33.835Z"
   },
   {
    "duration": 6,
    "start_time": "2022-03-08T13:57:33.842Z"
   },
   {
    "duration": 53,
    "start_time": "2022-03-08T13:57:33.850Z"
   },
   {
    "duration": 5,
    "start_time": "2022-03-08T13:57:33.905Z"
   },
   {
    "duration": 8,
    "start_time": "2022-03-08T13:57:33.911Z"
   },
   {
    "duration": 9,
    "start_time": "2022-03-08T13:57:33.921Z"
   },
   {
    "duration": 9,
    "start_time": "2022-03-08T13:57:33.931Z"
   },
   {
    "duration": 6,
    "start_time": "2022-03-08T13:57:33.941Z"
   },
   {
    "duration": 53,
    "start_time": "2022-03-08T13:57:33.948Z"
   },
   {
    "duration": 4,
    "start_time": "2022-03-08T13:57:34.003Z"
   },
   {
    "duration": 5,
    "start_time": "2022-03-08T13:57:34.009Z"
   },
   {
    "duration": 9,
    "start_time": "2022-03-08T13:57:34.016Z"
   },
   {
    "duration": 3,
    "start_time": "2022-03-08T13:57:34.030Z"
   },
   {
    "duration": 7,
    "start_time": "2022-03-08T13:57:34.036Z"
   },
   {
    "duration": 10,
    "start_time": "2022-03-08T13:57:34.044Z"
   },
   {
    "duration": 50,
    "start_time": "2022-03-08T13:57:34.055Z"
   },
   {
    "duration": 8,
    "start_time": "2022-03-08T13:57:34.107Z"
   },
   {
    "duration": 5,
    "start_time": "2022-03-08T13:57:34.116Z"
   },
   {
    "duration": 11,
    "start_time": "2022-03-08T13:57:34.123Z"
   },
   {
    "duration": 10,
    "start_time": "2022-03-08T13:57:34.135Z"
   },
   {
    "duration": 57,
    "start_time": "2022-03-08T13:57:34.146Z"
   },
   {
    "duration": 8,
    "start_time": "2022-03-08T13:57:34.206Z"
   },
   {
    "duration": 5,
    "start_time": "2022-03-08T13:57:34.215Z"
   },
   {
    "duration": 10,
    "start_time": "2022-03-08T13:57:34.221Z"
   },
   {
    "duration": 6,
    "start_time": "2022-03-08T13:57:34.232Z"
   },
   {
    "duration": 11,
    "start_time": "2022-03-08T13:57:34.240Z"
   },
   {
    "duration": 8,
    "start_time": "2022-03-08T13:57:34.253Z"
   },
   {
    "duration": 43,
    "start_time": "2022-03-08T13:57:34.263Z"
   },
   {
    "duration": 3,
    "start_time": "2022-03-08T13:57:34.308Z"
   },
   {
    "duration": 22,
    "start_time": "2022-03-08T13:57:34.313Z"
   },
   {
    "duration": 16,
    "start_time": "2022-03-08T13:57:34.337Z"
   },
   {
    "duration": 68,
    "start_time": "2022-03-08T13:57:34.355Z"
   },
   {
    "duration": 5,
    "start_time": "2022-03-08T13:57:34.425Z"
   },
   {
    "duration": 15,
    "start_time": "2022-03-08T13:57:34.432Z"
   },
   {
    "duration": 5,
    "start_time": "2022-03-08T13:57:34.449Z"
   },
   {
    "duration": 791,
    "start_time": "2022-03-08T13:57:34.456Z"
   },
   {
    "duration": 7,
    "start_time": "2022-03-08T13:57:35.249Z"
   },
   {
    "duration": 55,
    "start_time": "2022-03-08T13:57:35.257Z"
   },
   {
    "duration": 1580,
    "start_time": "2022-03-08T13:57:35.314Z"
   },
   {
    "duration": 15,
    "start_time": "2022-03-08T13:57:36.900Z"
   },
   {
    "duration": 779,
    "start_time": "2022-03-08T13:57:36.917Z"
   },
   {
    "duration": 9802,
    "start_time": "2022-03-08T13:57:37.699Z"
   },
   {
    "duration": 14,
    "start_time": "2022-03-08T13:57:47.503Z"
   },
   {
    "duration": 2327,
    "start_time": "2022-03-08T13:57:47.518Z"
   },
   {
    "duration": 1136,
    "start_time": "2022-03-08T13:57:49.847Z"
   },
   {
    "duration": 17,
    "start_time": "2022-03-08T13:57:50.985Z"
   },
   {
    "duration": 348,
    "start_time": "2022-03-08T13:57:51.004Z"
   },
   {
    "duration": 1302,
    "start_time": "2022-03-08T13:57:51.354Z"
   },
   {
    "duration": 680,
    "start_time": "2022-03-08T13:57:52.659Z"
   },
   {
    "duration": 769,
    "start_time": "2022-03-08T13:57:53.341Z"
   },
   {
    "duration": 9,
    "start_time": "2022-03-08T13:57:54.112Z"
   },
   {
    "duration": 10,
    "start_time": "2022-03-08T13:57:54.124Z"
   },
   {
    "duration": 13,
    "start_time": "2022-03-08T13:57:54.136Z"
   },
   {
    "duration": 63,
    "start_time": "2022-03-08T13:57:54.151Z"
   },
   {
    "duration": 4,
    "start_time": "2022-03-08T13:57:54.216Z"
   },
   {
    "duration": 10,
    "start_time": "2022-03-08T13:57:54.222Z"
   },
   {
    "duration": 149,
    "start_time": "2022-03-08T13:57:54.233Z"
   },
   {
    "duration": 713,
    "start_time": "2022-03-08T13:57:54.387Z"
   },
   {
    "duration": 7,
    "start_time": "2022-03-08T13:57:55.102Z"
   },
   {
    "duration": 144,
    "start_time": "2022-03-08T13:57:55.111Z"
   },
   {
    "duration": 630,
    "start_time": "2022-03-08T13:57:55.256Z"
   },
   {
    "duration": 8,
    "start_time": "2022-03-08T13:57:55.888Z"
   },
   {
    "duration": 190,
    "start_time": "2022-03-08T13:57:55.898Z"
   },
   {
    "duration": 698,
    "start_time": "2022-03-08T13:57:56.090Z"
   },
   {
    "duration": 7,
    "start_time": "2022-03-08T13:57:56.790Z"
   },
   {
    "duration": 344,
    "start_time": "2022-03-08T13:57:56.799Z"
   },
   {
    "duration": 671,
    "start_time": "2022-03-08T13:57:57.146Z"
   },
   {
    "duration": 8,
    "start_time": "2022-03-08T13:57:57.819Z"
   },
   {
    "duration": 196,
    "start_time": "2022-03-08T13:57:57.829Z"
   },
   {
    "duration": 607,
    "start_time": "2022-03-08T13:57:58.027Z"
   },
   {
    "duration": 1895,
    "start_time": "2022-03-08T13:57:58.636Z"
   },
   {
    "duration": 25,
    "start_time": "2022-03-08T13:58:00.533Z"
   },
   {
    "duration": 11,
    "start_time": "2022-03-08T13:58:00.560Z"
   },
   {
    "duration": 21,
    "start_time": "2022-03-08T13:58:00.572Z"
   },
   {
    "duration": 753,
    "start_time": "2022-03-08T13:58:00.601Z"
   },
   {
    "duration": 11,
    "start_time": "2022-03-08T13:58:01.356Z"
   },
   {
    "duration": 637,
    "start_time": "2022-03-08T13:58:01.369Z"
   },
   {
    "duration": 16,
    "start_time": "2022-03-08T13:58:02.009Z"
   },
   {
    "duration": 13,
    "start_time": "2022-03-08T13:58:02.027Z"
   },
   {
    "duration": 1927,
    "start_time": "2022-03-08T13:58:02.042Z"
   },
   {
    "duration": 10,
    "start_time": "2022-03-08T13:58:03.971Z"
   },
   {
    "duration": 196,
    "start_time": "2022-03-08T13:58:03.982Z"
   },
   {
    "duration": 8,
    "start_time": "2022-03-08T13:58:04.180Z"
   },
   {
    "duration": 29,
    "start_time": "2022-03-08T13:58:04.202Z"
   },
   {
    "duration": 34,
    "start_time": "2022-03-08T13:58:04.233Z"
   },
   {
    "duration": 474,
    "start_time": "2022-03-08T13:58:04.269Z"
   },
   {
    "duration": 459,
    "start_time": "2022-03-08T13:58:04.744Z"
   },
   {
    "duration": 198,
    "start_time": "2022-03-08T13:58:05.205Z"
   },
   {
    "duration": 261,
    "start_time": "2022-03-08T13:58:05.404Z"
   },
   {
    "duration": 206,
    "start_time": "2022-03-08T13:58:05.666Z"
   },
   {
    "duration": 3820,
    "start_time": "2022-03-08T14:07:13.791Z"
   },
   {
    "duration": 45,
    "start_time": "2022-03-08T14:07:17.613Z"
   },
   {
    "duration": 13,
    "start_time": "2022-03-08T14:07:17.660Z"
   },
   {
    "duration": 461,
    "start_time": "2022-03-08T14:07:17.675Z"
   },
   {
    "duration": 87,
    "start_time": "2022-03-08T14:07:18.139Z"
   },
   {
    "duration": 26,
    "start_time": "2022-03-08T14:07:18.228Z"
   },
   {
    "duration": 5,
    "start_time": "2022-03-08T14:07:18.256Z"
   },
   {
    "duration": 38,
    "start_time": "2022-03-08T14:07:18.264Z"
   },
   {
    "duration": 8,
    "start_time": "2022-03-08T14:07:18.304Z"
   },
   {
    "duration": 7,
    "start_time": "2022-03-08T14:07:18.313Z"
   },
   {
    "duration": 6,
    "start_time": "2022-03-08T14:07:18.321Z"
   },
   {
    "duration": 5,
    "start_time": "2022-03-08T14:07:18.328Z"
   },
   {
    "duration": 5,
    "start_time": "2022-03-08T14:07:18.334Z"
   },
   {
    "duration": 5,
    "start_time": "2022-03-08T14:07:18.340Z"
   },
   {
    "duration": 56,
    "start_time": "2022-03-08T14:07:18.346Z"
   },
   {
    "duration": 6,
    "start_time": "2022-03-08T14:07:18.404Z"
   },
   {
    "duration": 7,
    "start_time": "2022-03-08T14:07:18.412Z"
   },
   {
    "duration": 8,
    "start_time": "2022-03-08T14:07:18.421Z"
   },
   {
    "duration": 10,
    "start_time": "2022-03-08T14:07:18.430Z"
   },
   {
    "duration": 7,
    "start_time": "2022-03-08T14:07:18.442Z"
   },
   {
    "duration": 9,
    "start_time": "2022-03-08T14:07:18.450Z"
   },
   {
    "duration": 48,
    "start_time": "2022-03-08T14:07:18.461Z"
   },
   {
    "duration": 3,
    "start_time": "2022-03-08T14:07:18.514Z"
   },
   {
    "duration": 6,
    "start_time": "2022-03-08T14:07:18.520Z"
   },
   {
    "duration": 6,
    "start_time": "2022-03-08T14:07:18.528Z"
   },
   {
    "duration": 8,
    "start_time": "2022-03-08T14:07:18.536Z"
   },
   {
    "duration": 8,
    "start_time": "2022-03-08T14:07:18.546Z"
   },
   {
    "duration": 5,
    "start_time": "2022-03-08T14:07:18.556Z"
   },
   {
    "duration": 42,
    "start_time": "2022-03-08T14:07:18.563Z"
   },
   {
    "duration": 8,
    "start_time": "2022-03-08T14:07:18.606Z"
   },
   {
    "duration": 6,
    "start_time": "2022-03-08T14:07:18.615Z"
   },
   {
    "duration": 10,
    "start_time": "2022-03-08T14:07:18.622Z"
   },
   {
    "duration": 6,
    "start_time": "2022-03-08T14:07:18.633Z"
   },
   {
    "duration": 11,
    "start_time": "2022-03-08T14:07:18.640Z"
   },
   {
    "duration": 6,
    "start_time": "2022-03-08T14:07:18.653Z"
   },
   {
    "duration": 42,
    "start_time": "2022-03-08T14:07:18.660Z"
   },
   {
    "duration": 4,
    "start_time": "2022-03-08T14:07:18.704Z"
   },
   {
    "duration": 8,
    "start_time": "2022-03-08T14:07:18.709Z"
   },
   {
    "duration": 6,
    "start_time": "2022-03-08T14:07:18.719Z"
   },
   {
    "duration": 27,
    "start_time": "2022-03-08T14:07:18.727Z"
   },
   {
    "duration": 8,
    "start_time": "2022-03-08T14:07:18.756Z"
   },
   {
    "duration": 43,
    "start_time": "2022-03-08T14:07:18.765Z"
   },
   {
    "duration": 4,
    "start_time": "2022-03-08T14:07:18.810Z"
   },
   {
    "duration": 14,
    "start_time": "2022-03-08T14:07:18.815Z"
   },
   {
    "duration": 6,
    "start_time": "2022-03-08T14:07:18.830Z"
   },
   {
    "duration": 459,
    "start_time": "2022-03-08T14:07:18.837Z"
   },
   {
    "duration": 6,
    "start_time": "2022-03-08T14:07:19.298Z"
   },
   {
    "duration": 19,
    "start_time": "2022-03-08T14:07:19.305Z"
   },
   {
    "duration": 927,
    "start_time": "2022-03-08T14:07:19.326Z"
   },
   {
    "duration": 12,
    "start_time": "2022-03-08T14:07:20.255Z"
   },
   {
    "duration": 522,
    "start_time": "2022-03-08T14:07:20.268Z"
   },
   {
    "duration": 4988,
    "start_time": "2022-03-08T14:07:20.791Z"
   },
   {
    "duration": 23,
    "start_time": "2022-03-08T14:07:25.781Z"
   },
   {
    "duration": 1481,
    "start_time": "2022-03-08T14:07:25.806Z"
   },
   {
    "duration": 639,
    "start_time": "2022-03-08T14:07:27.288Z"
   },
   {
    "duration": 3,
    "start_time": "2022-03-08T14:07:27.929Z"
   },
   {
    "duration": 335,
    "start_time": "2022-03-08T14:07:27.934Z"
   },
   {
    "duration": 1347,
    "start_time": "2022-03-08T14:07:28.271Z"
   },
   {
    "duration": 374,
    "start_time": "2022-03-08T14:07:29.620Z"
   },
   {
    "duration": 667,
    "start_time": "2022-03-08T14:07:29.995Z"
   },
   {
    "duration": 7,
    "start_time": "2022-03-08T14:07:30.665Z"
   },
   {
    "duration": 32,
    "start_time": "2022-03-08T14:07:30.674Z"
   },
   {
    "duration": 27,
    "start_time": "2022-03-08T14:07:30.708Z"
   },
   {
    "duration": 27,
    "start_time": "2022-03-08T14:07:30.736Z"
   },
   {
    "duration": 4,
    "start_time": "2022-03-08T14:07:30.765Z"
   },
   {
    "duration": 45,
    "start_time": "2022-03-08T14:07:30.770Z"
   },
   {
    "duration": 144,
    "start_time": "2022-03-08T14:07:30.817Z"
   },
   {
    "duration": 845,
    "start_time": "2022-03-08T14:07:30.968Z"
   },
   {
    "duration": 8,
    "start_time": "2022-03-08T14:07:31.816Z"
   },
   {
    "duration": 140,
    "start_time": "2022-03-08T14:07:31.826Z"
   },
   {
    "duration": 631,
    "start_time": "2022-03-08T14:07:31.968Z"
   },
   {
    "duration": 8,
    "start_time": "2022-03-08T14:07:32.601Z"
   },
   {
    "duration": 131,
    "start_time": "2022-03-08T14:07:32.611Z"
   },
   {
    "duration": 596,
    "start_time": "2022-03-08T14:07:32.744Z"
   },
   {
    "duration": 7,
    "start_time": "2022-03-08T14:07:33.341Z"
   },
   {
    "duration": 217,
    "start_time": "2022-03-08T14:07:33.350Z"
   },
   {
    "duration": 601,
    "start_time": "2022-03-08T14:07:33.568Z"
   },
   {
    "duration": 6,
    "start_time": "2022-03-08T14:07:34.171Z"
   },
   {
    "duration": 139,
    "start_time": "2022-03-08T14:07:34.179Z"
   },
   {
    "duration": 607,
    "start_time": "2022-03-08T14:07:34.319Z"
   },
   {
    "duration": 1823,
    "start_time": "2022-03-08T14:07:34.927Z"
   },
   {
    "duration": 22,
    "start_time": "2022-03-08T14:07:36.752Z"
   },
   {
    "duration": 8,
    "start_time": "2022-03-08T14:07:36.776Z"
   },
   {
    "duration": 13,
    "start_time": "2022-03-08T14:07:36.786Z"
   },
   {
    "duration": 428,
    "start_time": "2022-03-08T14:07:36.800Z"
   },
   {
    "duration": 8,
    "start_time": "2022-03-08T14:07:37.230Z"
   },
   {
    "duration": 353,
    "start_time": "2022-03-08T14:07:37.240Z"
   },
   {
    "duration": 13,
    "start_time": "2022-03-08T14:07:37.595Z"
   },
   {
    "duration": 10,
    "start_time": "2022-03-08T14:07:37.610Z"
   },
   {
    "duration": 1839,
    "start_time": "2022-03-08T14:07:37.622Z"
   },
   {
    "duration": 8,
    "start_time": "2022-03-08T14:07:39.463Z"
   },
   {
    "duration": 171,
    "start_time": "2022-03-08T14:07:39.473Z"
   },
   {
    "duration": 6,
    "start_time": "2022-03-08T14:07:39.645Z"
   },
   {
    "duration": 27,
    "start_time": "2022-03-08T14:07:39.652Z"
   },
   {
    "duration": 33,
    "start_time": "2022-03-08T14:07:39.681Z"
   },
   {
    "duration": 535,
    "start_time": "2022-03-08T14:07:39.716Z"
   },
   {
    "duration": 443,
    "start_time": "2022-03-08T14:07:40.253Z"
   },
   {
    "duration": 210,
    "start_time": "2022-03-08T14:07:40.701Z"
   },
   {
    "duration": 250,
    "start_time": "2022-03-08T14:07:40.913Z"
   },
   {
    "duration": 183,
    "start_time": "2022-03-08T14:07:41.165Z"
   }
  ],
  "kernelspec": {
   "display_name": "Python 3 (ipykernel)",
   "language": "python",
   "name": "python3"
  },
  "language_info": {
   "codemirror_mode": {
    "name": "ipython",
    "version": 3
   },
   "file_extension": ".py",
   "mimetype": "text/x-python",
   "name": "python",
   "nbconvert_exporter": "python",
   "pygments_lexer": "ipython3",
   "version": "3.9.7"
  },
  "toc": {
   "base_numbering": 1,
   "nav_menu": {},
   "number_sections": true,
   "sideBar": true,
   "skip_h1_title": true,
   "title_cell": "Contents",
   "title_sidebar": "Contents",
   "toc_cell": true,
   "toc_position": {
    "height": "calc(100% - 180px)",
    "left": "10px",
    "top": "150px",
    "width": "280.6px"
   },
   "toc_section_display": true,
   "toc_window_display": true
  }
 },
 "nbformat": 4,
 "nbformat_minor": 4
}
