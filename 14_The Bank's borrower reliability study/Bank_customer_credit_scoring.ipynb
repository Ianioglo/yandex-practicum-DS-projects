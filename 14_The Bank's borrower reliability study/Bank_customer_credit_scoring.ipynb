{
 "cells": [
  {
   "cell_type": "markdown",
   "id": "e1516533",
   "metadata": {},
   "source": [
    "# Borrower reliability study"
   ]
  },
  {
   "cell_type": "markdown",
   "id": "f7b79e3a",
   "metadata": {
    "toc": true
   },
   "source": [
    "<h1>Contents<span class=\"tocSkip\"></span></h1>\n",
    "<div class=\"toc\"><ul class=\"toc-item\"><li><span><a href=\"#Project-description\" data-toc-modified-id=\"Project-description-1\"><span class=\"toc-item-num\">1&nbsp;&nbsp;</span>Project description</a></span></li><li><span><a href=\"#Project-progress\" data-toc-modified-id=\"Project-progress-2\"><span class=\"toc-item-num\">2&nbsp;&nbsp;</span>Project progress</a></span><ul class=\"toc-item\"><li><span><a href=\"#Data-review\" data-toc-modified-id=\"Data-review-2.1\"><span class=\"toc-item-num\">2.1&nbsp;&nbsp;</span>Data review</a></span></li><li><span><a href=\"#Filling-in-the-missing-values\" data-toc-modified-id=\"Filling-in-the-missing-values-2.2\"><span class=\"toc-item-num\">2.2&nbsp;&nbsp;</span>Filling in the missing values</a></span></li><li><span><a href=\"#Checking-data-for-anomalies-and-corrections.\" data-toc-modified-id=\"Checking-data-for-anomalies-and-corrections.-2.3\"><span class=\"toc-item-num\">2.3&nbsp;&nbsp;</span>Checking data for anomalies and corrections.</a></span></li><li><span><a href=\"#Changing-data-types\" data-toc-modified-id=\"Changing-data-types-2.4\"><span class=\"toc-item-num\">2.4&nbsp;&nbsp;</span>Changing data types</a></span></li><li><span><a href=\"#Removing-duplicates.\" data-toc-modified-id=\"Removing-duplicates.-2.5\"><span class=\"toc-item-num\">2.5&nbsp;&nbsp;</span>Removing duplicates.</a></span></li><li><span><a href=\"#Generation-of-additional-dataframes,-decomposition-of-the-original-dataframe.\" data-toc-modified-id=\"Generation-of-additional-dataframes,-decomposition-of-the-original-dataframe.-2.6\"><span class=\"toc-item-num\">2.6&nbsp;&nbsp;</span>Generation of additional dataframes, decomposition of the original dataframe.</a></span></li><li><span><a href=\"#Income-categorization\" data-toc-modified-id=\"Income-categorization-2.7\"><span class=\"toc-item-num\">2.7&nbsp;&nbsp;</span>Income categorization</a></span></li><li><span><a href=\"#Credit-purpose-categorization.\" data-toc-modified-id=\"Credit-purpose-categorization.-2.8\"><span class=\"toc-item-num\">2.8&nbsp;&nbsp;</span>Credit purpose categorization.</a></span></li><li><span><a href=\"#Answers-to-questions.\" data-toc-modified-id=\"Answers-to-questions.-2.9\"><span class=\"toc-item-num\">2.9&nbsp;&nbsp;</span>Answers to questions.</a></span></li></ul></li><li><span><a href=\"#Overall-conclusion\" data-toc-modified-id=\"Overall-conclusion-3\"><span class=\"toc-item-num\">3&nbsp;&nbsp;</span>Overall conclusion</a></span></li></ul></div>"
   ]
  },
  {
   "cell_type": "markdown",
   "id": "76a3160f",
   "metadata": {},
   "source": [
    "## Project description"
   ]
  },
  {
   "cell_type": "markdown",
   "id": "a0576fd4",
   "metadata": {},
   "source": [
    "**Scope of the study**\n",
    "\n",
    "The client is the credit department of a bank. It needs to find out whether the client's marital status and number of children affects the repayment of the loan on time. Input data from the bank - statistics on clients' repayment capacity.\n",
    "\n",
    "The results of the study will be taken into account when building a credit scoring model - a special system, which assesses the ability of a potential borrower to repay the loan to the bank.\n",
    "\n",
    "**Hypothesis testing**\n",
    "\n",
    "The study will test the hypotheses about the interdependence of individual factors affecting loan repayment by answering the following questions:\n",
    "\n",
    "- Is there a relationship between the number of children and loan repayment on time?\n",
    "- Is there a correlation between marital status and loan repayment on time?\n",
    "- Is there a correlation between income level and repayment on time?\n",
    "- How do the different purposes of the loan affect repayment on time?\n"
   ]
  },
  {
   "cell_type": "markdown",
   "id": "457b2775",
   "metadata": {},
   "source": [
    "## Project progress"
   ]
  },
  {
   "cell_type": "markdown",
   "id": "3483a875",
   "metadata": {},
   "source": [
    "### Data review"
   ]
  },
  {
   "cell_type": "code",
   "execution_count": 1,
   "id": "3b741a9e",
   "metadata": {},
   "outputs": [
    {
     "name": "stdout",
     "output_type": "stream",
     "text": [
      "<class 'pandas.core.frame.DataFrame'>\n",
      "RangeIndex: 21525 entries, 0 to 21524\n",
      "Data columns (total 12 columns):\n",
      "children            21525 non-null int64\n",
      "days_employed       19351 non-null float64\n",
      "dob_years           21525 non-null int64\n",
      "education           21525 non-null object\n",
      "education_id        21525 non-null int64\n",
      "family_status       21525 non-null object\n",
      "family_status_id    21525 non-null int64\n",
      "gender              21525 non-null object\n",
      "income_type         21525 non-null object\n",
      "debt                21525 non-null int64\n",
      "total_income        19351 non-null float64\n",
      "purpose             21525 non-null object\n",
      "dtypes: float64(2), int64(5), object(5)\n",
      "memory usage: 2.0+ MB\n"
     ]
    }
   ],
   "source": [
    "import pandas as pd\n",
    "\n",
    "df = pd.read_csv('/datasets/data.csv')\n",
    "\n",
    "df.info()"
   ]
  },
  {
   "cell_type": "markdown",
   "id": "511507e9",
   "metadata": {},
   "source": [
    "Examination of the overall data information shows that there are two columns with missing data, namely missing data in the columns: `days_employed` and `total_income`. Let us analyse these columns in more detail."
   ]
  },
  {
   "cell_type": "markdown",
   "id": "ba4ce4b6",
   "metadata": {},
   "source": [
    "### Filling in the missing values"
   ]
  },
  {
   "cell_type": "code",
   "execution_count": 2,
   "id": "c2b32014",
   "metadata": {},
   "outputs": [
    {
     "data": {
      "text/html": [
       "<div>\n",
       "<style scoped>\n",
       "    .dataframe tbody tr th:only-of-type {\n",
       "        vertical-align: middle;\n",
       "    }\n",
       "\n",
       "    .dataframe tbody tr th {\n",
       "        vertical-align: top;\n",
       "    }\n",
       "\n",
       "    .dataframe thead th {\n",
       "        text-align: right;\n",
       "    }\n",
       "</style>\n",
       "<table border=\"1\" class=\"dataframe\">\n",
       "  <thead>\n",
       "    <tr style=\"text-align: right;\">\n",
       "      <th></th>\n",
       "      <th>children</th>\n",
       "      <th>days_employed</th>\n",
       "      <th>dob_years</th>\n",
       "      <th>education</th>\n",
       "      <th>education_id</th>\n",
       "      <th>family_status</th>\n",
       "      <th>family_status_id</th>\n",
       "      <th>gender</th>\n",
       "      <th>income_type</th>\n",
       "      <th>debt</th>\n",
       "      <th>total_income</th>\n",
       "      <th>purpose</th>\n",
       "    </tr>\n",
       "  </thead>\n",
       "  <tbody>\n",
       "    <tr>\n",
       "      <td>sum</td>\n",
       "      <td>0.0</td>\n",
       "      <td>2174.000000</td>\n",
       "      <td>0.0</td>\n",
       "      <td>0.0</td>\n",
       "      <td>0.0</td>\n",
       "      <td>0.0</td>\n",
       "      <td>0.0</td>\n",
       "      <td>0.0</td>\n",
       "      <td>0.0</td>\n",
       "      <td>0.0</td>\n",
       "      <td>2174.000000</td>\n",
       "      <td>0.0</td>\n",
       "    </tr>\n",
       "    <tr>\n",
       "      <td>mean</td>\n",
       "      <td>0.0</td>\n",
       "      <td>0.100999</td>\n",
       "      <td>0.0</td>\n",
       "      <td>0.0</td>\n",
       "      <td>0.0</td>\n",
       "      <td>0.0</td>\n",
       "      <td>0.0</td>\n",
       "      <td>0.0</td>\n",
       "      <td>0.0</td>\n",
       "      <td>0.0</td>\n",
       "      <td>0.100999</td>\n",
       "      <td>0.0</td>\n",
       "    </tr>\n",
       "  </tbody>\n",
       "</table>\n",
       "</div>"
      ],
      "text/plain": [
       "      children  days_employed  dob_years  education  education_id  \\\n",
       "sum        0.0    2174.000000        0.0        0.0           0.0   \n",
       "mean       0.0       0.100999        0.0        0.0           0.0   \n",
       "\n",
       "      family_status  family_status_id  gender  income_type  debt  \\\n",
       "sum             0.0               0.0     0.0          0.0   0.0   \n",
       "mean            0.0               0.0     0.0          0.0   0.0   \n",
       "\n",
       "      total_income  purpose  \n",
       "sum    2174.000000      0.0  \n",
       "mean      0.100999      0.0  "
      ]
     },
     "execution_count": 2,
     "metadata": {},
     "output_type": "execute_result"
    }
   ],
   "source": [
    "# calculate the number of missing values and  \n",
    "# the proportion of missing values in the total number of values by column in the data frame.\n",
    "\n",
    "df.isna().agg(['sum', 'mean'])"
   ]
  },
  {
   "cell_type": "markdown",
   "id": "b85119cb",
   "metadata": {},
   "source": [
    "We have confirmed our initial finding of missing values in these two columns, we have now calculated the total number of omissions by each column. We also analyse the proportion of missing values in the total number of values in these columns.\n",
    "\n",
    "The percentage of missing values is almost 10%, which is a very significant value. Missing values up to 1% of the total number of values can be neglected depending on the situation, but with such a high number of missing values certain actions have to be taken to fill them.\n",
    "\n",
    "In order to assess the omission handling mechanism, it is necessary to understand the nature of the missing values - whether the missing values are completely random, accidental or non-random. In our situation, missing values in the `total_income` column are likely due to the possible reluctance of borrowers to report their income when applying for a loan (especially high-income clients). However, on a cursory superficial analysis, we see that the number of missing values in both columns is exactly the same = 2174. Most likely these omissions appear in the same rows, which could indicate a technical error in the data handling. Below we check if the missing data in both columns actually appear in the same rows, i.e. we check the two columns for symmetry."
   ]
  },
  {
   "cell_type": "markdown",
   "id": "c72101d9",
   "metadata": {},
   "source": [
    "<div class=\"alert alert-success\">\n",
    "<b>✔️ Комментарий ревьюера:</b> Молодец, что высчитал долю! Действительно, она велика для удаления"
   ]
  },
  {
   "cell_type": "code",
   "execution_count": 3,
   "id": "8c0c320f",
   "metadata": {},
   "outputs": [
    {
     "data": {
      "text/plain": [
       "2174"
      ]
     },
     "execution_count": 3,
     "metadata": {},
     "output_type": "execute_result"
    }
   ],
   "source": [
    "# checking the 'days_employed' and 'total_income' columns for missing values symmetry\n",
    "\n",
    "df[df['days_employed'].isna() == True]['total_income'].isna().sum()"
   ]
  },
  {
   "cell_type": "markdown",
   "id": "9e35d2c4",
   "metadata": {},
   "source": [
    "For further analysis and work with the dataframe, it is necessary to fill these missing values. Since the values in both columns are quantitative, the most appropriate way to fill such omissions is to fill them with the most characteristic value for that column, either the arithmetic mean or the median value. Since the variation in both columns may be too great, highly outliers may significantly increase or decrease the arithmetic mean. Therefore, in situations where there are outstanding values in the sample, it is better to use the median to fill in the missing values.\n",
    "\n",
    "At the same time, in this situation, it would not be correct to fill all missing values with a single median value for the entire column, because in our case, years of experience and income are highly correlated with age and, to a lesser extent, with gender. Therefore, it makes much more sense to fill in the missing values with median value in terms of the relevant grouping - in terms of age and gender of the borrower.\n",
    "\n",
    "To do this, we create a pivot_table that groups the dataframe by age and gender of the borrower and calculates the median value of years of experience for each segment."
   ]
  },
  {
   "cell_type": "code",
   "execution_count": 4,
   "id": "f5d7b58b",
   "metadata": {},
   "outputs": [],
   "source": [
    "# Creating a pivot_table to calculate the borrower's median length of service, by age and gender\n",
    "\n",
    "pivot_table_days_employed = df.pivot_table(\n",
    "    index='dob_years', \n",
    "    columns='gender', \n",
    "    values='days_employed', \n",
    "    aggfunc='median')"
   ]
  },
  {
   "cell_type": "code",
   "execution_count": 5,
   "id": "53397e26",
   "metadata": {},
   "outputs": [
    {
     "data": {
      "text/html": [
       "<div>\n",
       "<style scoped>\n",
       "    .dataframe tbody tr th:only-of-type {\n",
       "        vertical-align: middle;\n",
       "    }\n",
       "\n",
       "    .dataframe tbody tr th {\n",
       "        vertical-align: top;\n",
       "    }\n",
       "\n",
       "    .dataframe thead th {\n",
       "        text-align: right;\n",
       "    }\n",
       "</style>\n",
       "<table border=\"1\" class=\"dataframe\">\n",
       "  <thead>\n",
       "    <tr style=\"text-align: right;\">\n",
       "      <th>gender</th>\n",
       "      <th>F</th>\n",
       "      <th>M</th>\n",
       "      <th>XNA</th>\n",
       "    </tr>\n",
       "    <tr>\n",
       "      <th>dob_years</th>\n",
       "      <th></th>\n",
       "      <th></th>\n",
       "      <th></th>\n",
       "    </tr>\n",
       "  </thead>\n",
       "  <tbody>\n",
       "    <tr>\n",
       "      <td>0</td>\n",
       "      <td>-1327.579211</td>\n",
       "      <td>-1015.395451</td>\n",
       "      <td>NaN</td>\n",
       "    </tr>\n",
       "    <tr>\n",
       "      <td>19</td>\n",
       "      <td>-710.230781</td>\n",
       "      <td>-885.268574</td>\n",
       "      <td>NaN</td>\n",
       "    </tr>\n",
       "    <tr>\n",
       "      <td>20</td>\n",
       "      <td>-595.559207</td>\n",
       "      <td>-880.528819</td>\n",
       "      <td>NaN</td>\n",
       "    </tr>\n",
       "    <tr>\n",
       "      <td>21</td>\n",
       "      <td>-608.003610</td>\n",
       "      <td>-627.185770</td>\n",
       "      <td>NaN</td>\n",
       "    </tr>\n",
       "    <tr>\n",
       "      <td>22</td>\n",
       "      <td>-691.825293</td>\n",
       "      <td>-740.851560</td>\n",
       "      <td>NaN</td>\n",
       "    </tr>\n",
       "  </tbody>\n",
       "</table>\n",
       "</div>"
      ],
      "text/plain": [
       "gender               F            M  XNA\n",
       "dob_years                               \n",
       "0         -1327.579211 -1015.395451  NaN\n",
       "19         -710.230781  -885.268574  NaN\n",
       "20         -595.559207  -880.528819  NaN\n",
       "21         -608.003610  -627.185770  NaN\n",
       "22         -691.825293  -740.851560  NaN"
      ]
     },
     "execution_count": 5,
     "metadata": {},
     "output_type": "execute_result"
    }
   ],
   "source": [
    "pivot_table_days_employed.head()"
   ]
  },
  {
   "cell_type": "markdown",
   "id": "afbf6a34",
   "metadata": {},
   "source": [
    "We have calculated the median value separately by age and gender of the borrower. We found an unknown gender - neither male nor female. We will deal with it further in the anomaly processing step. Same as with null age and negative employment experience.\n",
    "\n",
    "Next, we need to fill in the missing data in the `days_employed` column with the calculated median values. To do this, we will write and apply to our dataframe a function that will go through all rows and fill in the missing values with the corresponding median value."
   ]
  },
  {
   "cell_type": "code",
   "execution_count": 6,
   "id": "0b0727f3",
   "metadata": {},
   "outputs": [],
   "source": [
    "def days_employed_fillna(dataframe):\n",
    "    \n",
    "    \"\"\"\n",
    "    The function returns the median value of employment experience\n",
    "    according to gender and age, if it detects a missing NaN value. \n",
    "    Otherwise, it returns the same value.\n",
    "    \"\"\"\n",
    "    gender = dataframe['gender']\n",
    "    age = dataframe['dob_years']\n",
    "    if pd.isna(dataframe['days_employed']):\n",
    "        return pivot_table_days_employed.loc[age,gender]\n",
    "    else:\n",
    "        return dataframe['days_employed']"
   ]
  },
  {
   "cell_type": "code",
   "execution_count": 7,
   "id": "469df8f8",
   "metadata": {},
   "outputs": [],
   "source": [
    "# apply the function to the data frame and fill in the missing values \n",
    "\n",
    "df['days_employed'] = df.apply(days_employed_fillna, axis = 1)"
   ]
  },
  {
   "cell_type": "code",
   "execution_count": 8,
   "id": "66c4e4a4",
   "metadata": {},
   "outputs": [
    {
     "data": {
      "text/plain": [
       "0"
      ]
     },
     "execution_count": 8,
     "metadata": {},
     "output_type": "execute_result"
    }
   ],
   "source": [
    "# checking the filling in the missing values in days_employed column\n",
    "\n",
    "df['days_employed'].isna().sum()"
   ]
  },
  {
   "cell_type": "markdown",
   "id": "7cdfa7cd",
   "metadata": {},
   "source": [
    "The missing values in `days_employed` column has been filled in. Now apply the same sequence to the `total_income` column."
   ]
  },
  {
   "cell_type": "code",
   "execution_count": 9,
   "id": "6aea6365",
   "metadata": {},
   "outputs": [],
   "source": [
    "# generating a pivot table to calculate the median value of the borrower's total income, by age and gender\n",
    "\n",
    "pivot_table_total_income = df.pivot_table(\n",
    "    index='dob_years', \n",
    "    columns='gender', \n",
    "    values='total_income', \n",
    "    aggfunc='median')"
   ]
  },
  {
   "cell_type": "code",
   "execution_count": 10,
   "id": "afe2330d",
   "metadata": {},
   "outputs": [
    {
     "data": {
      "text/html": [
       "<div>\n",
       "<style scoped>\n",
       "    .dataframe tbody tr th:only-of-type {\n",
       "        vertical-align: middle;\n",
       "    }\n",
       "\n",
       "    .dataframe tbody tr th {\n",
       "        vertical-align: top;\n",
       "    }\n",
       "\n",
       "    .dataframe thead th {\n",
       "        text-align: right;\n",
       "    }\n",
       "</style>\n",
       "<table border=\"1\" class=\"dataframe\">\n",
       "  <thead>\n",
       "    <tr style=\"text-align: right;\">\n",
       "      <th>gender</th>\n",
       "      <th>F</th>\n",
       "      <th>M</th>\n",
       "      <th>XNA</th>\n",
       "    </tr>\n",
       "    <tr>\n",
       "      <th>dob_years</th>\n",
       "      <th></th>\n",
       "      <th></th>\n",
       "      <th></th>\n",
       "    </tr>\n",
       "  </thead>\n",
       "  <tbody>\n",
       "    <tr>\n",
       "      <td>0</td>\n",
       "      <td>117279.001914</td>\n",
       "      <td>179138.212343</td>\n",
       "      <td>NaN</td>\n",
       "    </tr>\n",
       "    <tr>\n",
       "      <td>19</td>\n",
       "      <td>112217.756662</td>\n",
       "      <td>91876.754772</td>\n",
       "      <td>NaN</td>\n",
       "    </tr>\n",
       "    <tr>\n",
       "      <td>20</td>\n",
       "      <td>101512.989536</td>\n",
       "      <td>134750.749515</td>\n",
       "      <td>NaN</td>\n",
       "    </tr>\n",
       "    <tr>\n",
       "      <td>21</td>\n",
       "      <td>112778.853259</td>\n",
       "      <td>147812.788085</td>\n",
       "      <td>NaN</td>\n",
       "    </tr>\n",
       "    <tr>\n",
       "      <td>22</td>\n",
       "      <td>111633.034748</td>\n",
       "      <td>158258.854591</td>\n",
       "      <td>NaN</td>\n",
       "    </tr>\n",
       "  </tbody>\n",
       "</table>\n",
       "</div>"
      ],
      "text/plain": [
       "gender                 F              M  XNA\n",
       "dob_years                                   \n",
       "0          117279.001914  179138.212343  NaN\n",
       "19         112217.756662   91876.754772  NaN\n",
       "20         101512.989536  134750.749515  NaN\n",
       "21         112778.853259  147812.788085  NaN\n",
       "22         111633.034748  158258.854591  NaN"
      ]
     },
     "execution_count": 10,
     "metadata": {},
     "output_type": "execute_result"
    }
   ],
   "source": [
    "pivot_table_total_income.head()"
   ]
  },
  {
   "cell_type": "code",
   "execution_count": 11,
   "id": "f324452d",
   "metadata": {},
   "outputs": [],
   "source": [
    "def total_income_fillna(dataframe):\n",
    "    \n",
    "    \"\"\"\n",
    "    The function returns the median value of total income\n",
    "    according to gender and age, if it detects a missing NaN value. \n",
    "    Otherwise, it returns the same value.\n",
    "    \"\"\"\n",
    "    gender = dataframe['gender']\n",
    "    age = dataframe['dob_years']\n",
    "    if pd.isna(dataframe['total_income']):\n",
    "        return pivot_table_total_income.loc[age,gender]\n",
    "    else:\n",
    "        return dataframe['total_income']"
   ]
  },
  {
   "cell_type": "code",
   "execution_count": 12,
   "id": "2db7e3b0",
   "metadata": {},
   "outputs": [],
   "source": [
    "# applying the function to the data frame and fill in the missing values \n",
    "\n",
    "df['total_income'] = df.apply(total_income_fillna, axis = 1)"
   ]
  },
  {
   "cell_type": "code",
   "execution_count": 13,
   "id": "199910d3",
   "metadata": {},
   "outputs": [
    {
     "data": {
      "text/plain": [
       "0"
      ]
     },
     "execution_count": 13,
     "metadata": {},
     "output_type": "execute_result"
    }
   ],
   "source": [
    "# checking the filling in the missing values in `total_income`\n",
    "\n",
    "df['total_income'].isna().sum()"
   ]
  },
  {
   "cell_type": "markdown",
   "id": "ee2c1d39",
   "metadata": {},
   "source": [
    "All missing values are filled in and we can continue preprocessing the data in the table, proceeding to check the data for anomalies."
   ]
  },
  {
   "cell_type": "markdown",
   "id": "b83eeb37",
   "metadata": {},
   "source": [
    "### Checking data for anomalies and corrections."
   ]
  },
  {
   "cell_type": "markdown",
   "id": "ed088e3b",
   "metadata": {},
   "source": [
    "To detect possible anomalies in the data, we can analyse the overall distribution of values in the data frame using the `describe()` function."
   ]
  },
  {
   "cell_type": "code",
   "execution_count": 14,
   "id": "c5080ff2",
   "metadata": {},
   "outputs": [
    {
     "data": {
      "text/html": [
       "<div>\n",
       "<style scoped>\n",
       "    .dataframe tbody tr th:only-of-type {\n",
       "        vertical-align: middle;\n",
       "    }\n",
       "\n",
       "    .dataframe tbody tr th {\n",
       "        vertical-align: top;\n",
       "    }\n",
       "\n",
       "    .dataframe thead th {\n",
       "        text-align: right;\n",
       "    }\n",
       "</style>\n",
       "<table border=\"1\" class=\"dataframe\">\n",
       "  <thead>\n",
       "    <tr style=\"text-align: right;\">\n",
       "      <th></th>\n",
       "      <th>children</th>\n",
       "      <th>days_employed</th>\n",
       "      <th>dob_years</th>\n",
       "      <th>education_id</th>\n",
       "      <th>family_status_id</th>\n",
       "      <th>debt</th>\n",
       "      <th>total_income</th>\n",
       "    </tr>\n",
       "  </thead>\n",
       "  <tbody>\n",
       "    <tr>\n",
       "      <td>count</td>\n",
       "      <td>21525.000000</td>\n",
       "      <td>21525.000000</td>\n",
       "      <td>21525.000000</td>\n",
       "      <td>21525.000000</td>\n",
       "      <td>21525.000000</td>\n",
       "      <td>21525.000000</td>\n",
       "      <td>2.152500e+04</td>\n",
       "    </tr>\n",
       "    <tr>\n",
       "      <td>mean</td>\n",
       "      <td>0.538908</td>\n",
       "      <td>62976.295708</td>\n",
       "      <td>43.293380</td>\n",
       "      <td>0.817236</td>\n",
       "      <td>0.972544</td>\n",
       "      <td>0.080883</td>\n",
       "      <td>1.651428e+05</td>\n",
       "    </tr>\n",
       "    <tr>\n",
       "      <td>std</td>\n",
       "      <td>1.381587</td>\n",
       "      <td>140286.252454</td>\n",
       "      <td>12.574584</td>\n",
       "      <td>0.548138</td>\n",
       "      <td>1.420324</td>\n",
       "      <td>0.272661</td>\n",
       "      <td>9.806554e+04</td>\n",
       "    </tr>\n",
       "    <tr>\n",
       "      <td>min</td>\n",
       "      <td>-1.000000</td>\n",
       "      <td>-18388.949901</td>\n",
       "      <td>0.000000</td>\n",
       "      <td>0.000000</td>\n",
       "      <td>0.000000</td>\n",
       "      <td>0.000000</td>\n",
       "      <td>2.066726e+04</td>\n",
       "    </tr>\n",
       "    <tr>\n",
       "      <td>25%</td>\n",
       "      <td>0.000000</td>\n",
       "      <td>-2518.168900</td>\n",
       "      <td>33.000000</td>\n",
       "      <td>1.000000</td>\n",
       "      <td>0.000000</td>\n",
       "      <td>0.000000</td>\n",
       "      <td>1.074857e+05</td>\n",
       "    </tr>\n",
       "    <tr>\n",
       "      <td>50%</td>\n",
       "      <td>0.000000</td>\n",
       "      <td>-1265.117765</td>\n",
       "      <td>42.000000</td>\n",
       "      <td>1.000000</td>\n",
       "      <td>0.000000</td>\n",
       "      <td>0.000000</td>\n",
       "      <td>1.433694e+05</td>\n",
       "    </tr>\n",
       "    <tr>\n",
       "      <td>75%</td>\n",
       "      <td>1.000000</td>\n",
       "      <td>-311.183346</td>\n",
       "      <td>53.000000</td>\n",
       "      <td>1.000000</td>\n",
       "      <td>1.000000</td>\n",
       "      <td>0.000000</td>\n",
       "      <td>1.955436e+05</td>\n",
       "    </tr>\n",
       "    <tr>\n",
       "      <td>max</td>\n",
       "      <td>20.000000</td>\n",
       "      <td>401755.400475</td>\n",
       "      <td>75.000000</td>\n",
       "      <td>4.000000</td>\n",
       "      <td>4.000000</td>\n",
       "      <td>1.000000</td>\n",
       "      <td>2.265604e+06</td>\n",
       "    </tr>\n",
       "  </tbody>\n",
       "</table>\n",
       "</div>"
      ],
      "text/plain": [
       "           children  days_employed     dob_years  education_id  \\\n",
       "count  21525.000000   21525.000000  21525.000000  21525.000000   \n",
       "mean       0.538908   62976.295708     43.293380      0.817236   \n",
       "std        1.381587  140286.252454     12.574584      0.548138   \n",
       "min       -1.000000  -18388.949901      0.000000      0.000000   \n",
       "25%        0.000000   -2518.168900     33.000000      1.000000   \n",
       "50%        0.000000   -1265.117765     42.000000      1.000000   \n",
       "75%        1.000000    -311.183346     53.000000      1.000000   \n",
       "max       20.000000  401755.400475     75.000000      4.000000   \n",
       "\n",
       "       family_status_id          debt  total_income  \n",
       "count      21525.000000  21525.000000  2.152500e+04  \n",
       "mean           0.972544      0.080883  1.651428e+05  \n",
       "std            1.420324      0.272661  9.806554e+04  \n",
       "min            0.000000      0.000000  2.066726e+04  \n",
       "25%            0.000000      0.000000  1.074857e+05  \n",
       "50%            0.000000      0.000000  1.433694e+05  \n",
       "75%            1.000000      0.000000  1.955436e+05  \n",
       "max            4.000000      1.000000  2.265604e+06  "
      ]
     },
     "execution_count": 14,
     "metadata": {},
     "output_type": "execute_result"
    }
   ],
   "source": [
    "df.describe()"
   ]
  },
  {
   "cell_type": "markdown",
   "id": "6523a25e",
   "metadata": {},
   "source": [
    "**Processing the column with the number of children of the borrower: `children`**\n",
    "\n",
    "The presence of a negative value is immediately apparent, as well as the presence of 20 children in the `children` column.\n",
    "\n",
    "The negative number of children is most likely a technical error - when writing \"1\" the value \"-1\" was written. We'll correct this error by replacing \"-1\" with \"1\". Just in case, let's check how many entries there are in the table with the number of children \"-1\" (see the check below). In addition to the negative number of children, the fact that there are 20 children is doubtful, which is very unlikely. Most likely there was a technical error in uploading the data and an extra zero was glued to value 2. We will also correct this error by replacing \"20\" with \"2\". Also check the number of erroneous entries in the table with value \"20\" beforehand"
   ]
  },
  {
   "cell_type": "code",
   "execution_count": 15,
   "id": "298a3586",
   "metadata": {},
   "outputs": [
    {
     "data": {
      "text/plain": [
       "47"
      ]
     },
     "execution_count": 15,
     "metadata": {},
     "output_type": "execute_result"
    }
   ],
   "source": [
    "df[df['children'] == -1]['children'].count() # counting rows with the number of children \"-1\""
   ]
  },
  {
   "cell_type": "code",
   "execution_count": 16,
   "id": "c5b209aa",
   "metadata": {},
   "outputs": [
    {
     "data": {
      "text/plain": [
       "76"
      ]
     },
     "execution_count": 16,
     "metadata": {},
     "output_type": "execute_result"
    }
   ],
   "source": [
    "df[df['children'] == 20]['children'].count() # counting rows with the number of children \"20\""
   ]
  },
  {
   "cell_type": "markdown",
   "id": "d9a6acc6",
   "metadata": {},
   "source": [
    "We see that there are only 47 and 76 such entries with the number of children \"-1\" and \"20\", respectively, out of the total number of 21525 rows in the table. Even if the logic of our correction turns out to be wrong, it will not affect the further analysis in any way. Replace \"-1\" with \"1\" and \"20\" with \"2\"."
   ]
  },
  {
   "cell_type": "code",
   "execution_count": 17,
   "id": "0183bfcc",
   "metadata": {},
   "outputs": [],
   "source": [
    "df['children'] = df['children'].replace(-1,1)"
   ]
  },
  {
   "cell_type": "code",
   "execution_count": 18,
   "id": "42161c67",
   "metadata": {},
   "outputs": [],
   "source": [
    "df['children'] = df['children'].replace(20,2)"
   ]
  },
  {
   "cell_type": "markdown",
   "id": "4dddef46",
   "metadata": {},
   "source": [
    "**Processing the borrower's employment history column: `days_employed`**\n",
    "\n",
    "It is also obvious that most of the `days_employed` column values are negative, which may be due to a technical error during data uploading that caused a sign change.\n",
    "\n",
    "Naturally, these artifacts need to be corrected. Let's replace all negative values with their module with the function `.abs()`"
   ]
  },
  {
   "cell_type": "code",
   "execution_count": 19,
   "id": "d27448ca",
   "metadata": {},
   "outputs": [],
   "source": [
    "df['days_employed'] = df['days_employed'].abs()"
   ]
  },
  {
   "cell_type": "code",
   "execution_count": 20,
   "id": "6f0dc9e7",
   "metadata": {},
   "outputs": [
    {
     "data": {
      "text/html": [
       "<div>\n",
       "<style scoped>\n",
       "    .dataframe tbody tr th:only-of-type {\n",
       "        vertical-align: middle;\n",
       "    }\n",
       "\n",
       "    .dataframe tbody tr th {\n",
       "        vertical-align: top;\n",
       "    }\n",
       "\n",
       "    .dataframe thead th {\n",
       "        text-align: right;\n",
       "    }\n",
       "</style>\n",
       "<table border=\"1\" class=\"dataframe\">\n",
       "  <thead>\n",
       "    <tr style=\"text-align: right;\">\n",
       "      <th></th>\n",
       "      <th>children</th>\n",
       "      <th>days_employed</th>\n",
       "      <th>dob_years</th>\n",
       "      <th>education_id</th>\n",
       "      <th>family_status_id</th>\n",
       "      <th>debt</th>\n",
       "      <th>total_income</th>\n",
       "    </tr>\n",
       "  </thead>\n",
       "  <tbody>\n",
       "    <tr>\n",
       "      <td>count</td>\n",
       "      <td>21525.000000</td>\n",
       "      <td>21525.000000</td>\n",
       "      <td>21525.000000</td>\n",
       "      <td>21525.000000</td>\n",
       "      <td>21525.000000</td>\n",
       "      <td>21525.000000</td>\n",
       "      <td>2.152500e+04</td>\n",
       "    </tr>\n",
       "    <tr>\n",
       "      <td>mean</td>\n",
       "      <td>0.479721</td>\n",
       "      <td>66708.046624</td>\n",
       "      <td>43.293380</td>\n",
       "      <td>0.817236</td>\n",
       "      <td>0.972544</td>\n",
       "      <td>0.080883</td>\n",
       "      <td>1.651428e+05</td>\n",
       "    </tr>\n",
       "    <tr>\n",
       "      <td>std</td>\n",
       "      <td>0.755528</td>\n",
       "      <td>138550.570118</td>\n",
       "      <td>12.574584</td>\n",
       "      <td>0.548138</td>\n",
       "      <td>1.420324</td>\n",
       "      <td>0.272661</td>\n",
       "      <td>9.806554e+04</td>\n",
       "    </tr>\n",
       "    <tr>\n",
       "      <td>min</td>\n",
       "      <td>0.000000</td>\n",
       "      <td>24.141633</td>\n",
       "      <td>0.000000</td>\n",
       "      <td>0.000000</td>\n",
       "      <td>0.000000</td>\n",
       "      <td>0.000000</td>\n",
       "      <td>2.066726e+04</td>\n",
       "    </tr>\n",
       "    <tr>\n",
       "      <td>25%</td>\n",
       "      <td>0.000000</td>\n",
       "      <td>977.995667</td>\n",
       "      <td>33.000000</td>\n",
       "      <td>1.000000</td>\n",
       "      <td>0.000000</td>\n",
       "      <td>0.000000</td>\n",
       "      <td>1.074857e+05</td>\n",
       "    </tr>\n",
       "    <tr>\n",
       "      <td>50%</td>\n",
       "      <td>0.000000</td>\n",
       "      <td>2041.666104</td>\n",
       "      <td>42.000000</td>\n",
       "      <td>1.000000</td>\n",
       "      <td>0.000000</td>\n",
       "      <td>0.000000</td>\n",
       "      <td>1.433694e+05</td>\n",
       "    </tr>\n",
       "    <tr>\n",
       "      <td>75%</td>\n",
       "      <td>1.000000</td>\n",
       "      <td>5317.759754</td>\n",
       "      <td>53.000000</td>\n",
       "      <td>1.000000</td>\n",
       "      <td>1.000000</td>\n",
       "      <td>0.000000</td>\n",
       "      <td>1.955436e+05</td>\n",
       "    </tr>\n",
       "    <tr>\n",
       "      <td>max</td>\n",
       "      <td>5.000000</td>\n",
       "      <td>401755.400475</td>\n",
       "      <td>75.000000</td>\n",
       "      <td>4.000000</td>\n",
       "      <td>4.000000</td>\n",
       "      <td>1.000000</td>\n",
       "      <td>2.265604e+06</td>\n",
       "    </tr>\n",
       "  </tbody>\n",
       "</table>\n",
       "</div>"
      ],
      "text/plain": [
       "           children  days_employed     dob_years  education_id  \\\n",
       "count  21525.000000   21525.000000  21525.000000  21525.000000   \n",
       "mean       0.479721   66708.046624     43.293380      0.817236   \n",
       "std        0.755528  138550.570118     12.574584      0.548138   \n",
       "min        0.000000      24.141633      0.000000      0.000000   \n",
       "25%        0.000000     977.995667     33.000000      1.000000   \n",
       "50%        0.000000    2041.666104     42.000000      1.000000   \n",
       "75%        1.000000    5317.759754     53.000000      1.000000   \n",
       "max        5.000000  401755.400475     75.000000      4.000000   \n",
       "\n",
       "       family_status_id          debt  total_income  \n",
       "count      21525.000000  21525.000000  2.152500e+04  \n",
       "mean           0.972544      0.080883  1.651428e+05  \n",
       "std            1.420324      0.272661  9.806554e+04  \n",
       "min            0.000000      0.000000  2.066726e+04  \n",
       "25%            0.000000      0.000000  1.074857e+05  \n",
       "50%            0.000000      0.000000  1.433694e+05  \n",
       "75%            1.000000      0.000000  1.955436e+05  \n",
       "max            4.000000      1.000000  2.265604e+06  "
      ]
     },
     "execution_count": 20,
     "metadata": {},
     "output_type": "execute_result"
    }
   ],
   "source": [
    "df.describe()"
   ]
  },
  {
   "cell_type": "markdown",
   "id": "8e6b18a2",
   "metadata": {},
   "source": [
    "We got rid of negative values, which was clearly an anomaly for these columns.\n",
    "\n",
    "However, we found inadequate minimum and maximum years of service in days (24 and 401755 respectively). Generally, the bank's main requirement for granting credit is to have at least some minimum number of years of experience. Let's assume that the bank's regulations stipulate a minimum of six months of work experience, i.e. 180 days, to issue a loan. All the values in the column that are below 180 days would be brought to the value of the minimum length of service of 180 days.\n",
    "\n",
    "The maximum length of service is limited to reasonable limits. We are assuming that a reasonable length of service is equal to 40 years of service, that is 40 years x 365 days per year = 14600 days. Let us adjust all the values in the column that are greater than 14600 days to a value of \"reasonable\" experience equal to 14600."
   ]
  },
  {
   "cell_type": "code",
   "execution_count": 21,
   "id": "bc23cb8c",
   "metadata": {},
   "outputs": [],
   "source": [
    "# bringing the minimum and maximum values in the \"days_employed\" column to adequate reasonable limits.\n",
    "\n",
    "df['days_employed'] = df['days_employed'].clip(180,14600)"
   ]
  },
  {
   "cell_type": "markdown",
   "id": "d86f385d",
   "metadata": {},
   "source": [
    "**Processing borrower age column: `dob_years`**\n",
    "\n",
    "The borrower age column has an inadequate value of \"0\" years. Replace this erroneous value with the next lowest value after \"0\" presented in our data. This value is \"19\"."
   ]
  },
  {
   "cell_type": "code",
   "execution_count": 22,
   "id": "1315d7c1",
   "metadata": {},
   "outputs": [
    {
     "data": {
      "text/plain": [
       "dob_years\n",
       "0     101\n",
       "19     14\n",
       "20     51\n",
       "21    111\n",
       "22    183\n",
       "Name: children, dtype: int64"
      ]
     },
     "execution_count": 22,
     "metadata": {},
     "output_type": "execute_result"
    }
   ],
   "source": [
    "# find the next minimum age value following the value \"0\"\n",
    "\n",
    "df.groupby('dob_years')['children'].count().head()"
   ]
  },
  {
   "cell_type": "code",
   "execution_count": 23,
   "id": "8e54c255",
   "metadata": {},
   "outputs": [],
   "source": [
    "# replace the erroneous \"0\" values with a more reasonable age value of \"19\"\n",
    "\n",
    "df['dob_years'] = df['dob_years'].replace(0,19)"
   ]
  },
  {
   "cell_type": "code",
   "execution_count": 24,
   "id": "3722f0a4",
   "metadata": {},
   "outputs": [
    {
     "data": {
      "text/html": [
       "<div>\n",
       "<style scoped>\n",
       "    .dataframe tbody tr th:only-of-type {\n",
       "        vertical-align: middle;\n",
       "    }\n",
       "\n",
       "    .dataframe tbody tr th {\n",
       "        vertical-align: top;\n",
       "    }\n",
       "\n",
       "    .dataframe thead th {\n",
       "        text-align: right;\n",
       "    }\n",
       "</style>\n",
       "<table border=\"1\" class=\"dataframe\">\n",
       "  <thead>\n",
       "    <tr style=\"text-align: right;\">\n",
       "      <th></th>\n",
       "      <th>children</th>\n",
       "      <th>days_employed</th>\n",
       "      <th>dob_years</th>\n",
       "      <th>education</th>\n",
       "      <th>education_id</th>\n",
       "      <th>family_status</th>\n",
       "      <th>family_status_id</th>\n",
       "      <th>gender</th>\n",
       "      <th>income_type</th>\n",
       "      <th>debt</th>\n",
       "      <th>total_income</th>\n",
       "      <th>purpose</th>\n",
       "    </tr>\n",
       "  </thead>\n",
       "  <tbody>\n",
       "    <tr>\n",
       "      <td>count</td>\n",
       "      <td>21525.000000</td>\n",
       "      <td>21525.000000</td>\n",
       "      <td>21525.000000</td>\n",
       "      <td>21525</td>\n",
       "      <td>21525.000000</td>\n",
       "      <td>21525</td>\n",
       "      <td>21525.000000</td>\n",
       "      <td>21525</td>\n",
       "      <td>21525</td>\n",
       "      <td>21525.000000</td>\n",
       "      <td>2.152500e+04</td>\n",
       "      <td>21525</td>\n",
       "    </tr>\n",
       "    <tr>\n",
       "      <td>unique</td>\n",
       "      <td>NaN</td>\n",
       "      <td>NaN</td>\n",
       "      <td>NaN</td>\n",
       "      <td>15</td>\n",
       "      <td>NaN</td>\n",
       "      <td>5</td>\n",
       "      <td>NaN</td>\n",
       "      <td>3</td>\n",
       "      <td>8</td>\n",
       "      <td>NaN</td>\n",
       "      <td>NaN</td>\n",
       "      <td>38</td>\n",
       "    </tr>\n",
       "    <tr>\n",
       "      <td>top</td>\n",
       "      <td>NaN</td>\n",
       "      <td>NaN</td>\n",
       "      <td>NaN</td>\n",
       "      <td>среднее</td>\n",
       "      <td>NaN</td>\n",
       "      <td>женат / замужем</td>\n",
       "      <td>NaN</td>\n",
       "      <td>F</td>\n",
       "      <td>сотрудник</td>\n",
       "      <td>NaN</td>\n",
       "      <td>NaN</td>\n",
       "      <td>свадьба</td>\n",
       "    </tr>\n",
       "    <tr>\n",
       "      <td>freq</td>\n",
       "      <td>NaN</td>\n",
       "      <td>NaN</td>\n",
       "      <td>NaN</td>\n",
       "      <td>13750</td>\n",
       "      <td>NaN</td>\n",
       "      <td>12380</td>\n",
       "      <td>NaN</td>\n",
       "      <td>14236</td>\n",
       "      <td>11119</td>\n",
       "      <td>NaN</td>\n",
       "      <td>NaN</td>\n",
       "      <td>797</td>\n",
       "    </tr>\n",
       "    <tr>\n",
       "      <td>mean</td>\n",
       "      <td>0.479721</td>\n",
       "      <td>4473.059765</td>\n",
       "      <td>43.382532</td>\n",
       "      <td>NaN</td>\n",
       "      <td>0.817236</td>\n",
       "      <td>NaN</td>\n",
       "      <td>0.972544</td>\n",
       "      <td>NaN</td>\n",
       "      <td>NaN</td>\n",
       "      <td>0.080883</td>\n",
       "      <td>1.651428e+05</td>\n",
       "      <td>NaN</td>\n",
       "    </tr>\n",
       "    <tr>\n",
       "      <td>std</td>\n",
       "      <td>0.755528</td>\n",
       "      <td>5123.615215</td>\n",
       "      <td>12.332333</td>\n",
       "      <td>NaN</td>\n",
       "      <td>0.548138</td>\n",
       "      <td>NaN</td>\n",
       "      <td>1.420324</td>\n",
       "      <td>NaN</td>\n",
       "      <td>NaN</td>\n",
       "      <td>0.272661</td>\n",
       "      <td>9.806554e+04</td>\n",
       "      <td>NaN</td>\n",
       "    </tr>\n",
       "    <tr>\n",
       "      <td>min</td>\n",
       "      <td>0.000000</td>\n",
       "      <td>180.000000</td>\n",
       "      <td>19.000000</td>\n",
       "      <td>NaN</td>\n",
       "      <td>0.000000</td>\n",
       "      <td>NaN</td>\n",
       "      <td>0.000000</td>\n",
       "      <td>NaN</td>\n",
       "      <td>NaN</td>\n",
       "      <td>0.000000</td>\n",
       "      <td>2.066726e+04</td>\n",
       "      <td>NaN</td>\n",
       "    </tr>\n",
       "    <tr>\n",
       "      <td>25%</td>\n",
       "      <td>0.000000</td>\n",
       "      <td>977.995667</td>\n",
       "      <td>33.000000</td>\n",
       "      <td>NaN</td>\n",
       "      <td>1.000000</td>\n",
       "      <td>NaN</td>\n",
       "      <td>0.000000</td>\n",
       "      <td>NaN</td>\n",
       "      <td>NaN</td>\n",
       "      <td>0.000000</td>\n",
       "      <td>1.074857e+05</td>\n",
       "      <td>NaN</td>\n",
       "    </tr>\n",
       "    <tr>\n",
       "      <td>50%</td>\n",
       "      <td>0.000000</td>\n",
       "      <td>2041.666104</td>\n",
       "      <td>42.000000</td>\n",
       "      <td>NaN</td>\n",
       "      <td>1.000000</td>\n",
       "      <td>NaN</td>\n",
       "      <td>0.000000</td>\n",
       "      <td>NaN</td>\n",
       "      <td>NaN</td>\n",
       "      <td>0.000000</td>\n",
       "      <td>1.433694e+05</td>\n",
       "      <td>NaN</td>\n",
       "    </tr>\n",
       "    <tr>\n",
       "      <td>75%</td>\n",
       "      <td>1.000000</td>\n",
       "      <td>5317.759754</td>\n",
       "      <td>53.000000</td>\n",
       "      <td>NaN</td>\n",
       "      <td>1.000000</td>\n",
       "      <td>NaN</td>\n",
       "      <td>1.000000</td>\n",
       "      <td>NaN</td>\n",
       "      <td>NaN</td>\n",
       "      <td>0.000000</td>\n",
       "      <td>1.955436e+05</td>\n",
       "      <td>NaN</td>\n",
       "    </tr>\n",
       "    <tr>\n",
       "      <td>max</td>\n",
       "      <td>5.000000</td>\n",
       "      <td>14600.000000</td>\n",
       "      <td>75.000000</td>\n",
       "      <td>NaN</td>\n",
       "      <td>4.000000</td>\n",
       "      <td>NaN</td>\n",
       "      <td>4.000000</td>\n",
       "      <td>NaN</td>\n",
       "      <td>NaN</td>\n",
       "      <td>1.000000</td>\n",
       "      <td>2.265604e+06</td>\n",
       "      <td>NaN</td>\n",
       "    </tr>\n",
       "  </tbody>\n",
       "</table>\n",
       "</div>"
      ],
      "text/plain": [
       "            children  days_employed     dob_years education  education_id  \\\n",
       "count   21525.000000   21525.000000  21525.000000     21525  21525.000000   \n",
       "unique           NaN            NaN           NaN        15           NaN   \n",
       "top              NaN            NaN           NaN   среднее           NaN   \n",
       "freq             NaN            NaN           NaN     13750           NaN   \n",
       "mean        0.479721    4473.059765     43.382532       NaN      0.817236   \n",
       "std         0.755528    5123.615215     12.332333       NaN      0.548138   \n",
       "min         0.000000     180.000000     19.000000       NaN      0.000000   \n",
       "25%         0.000000     977.995667     33.000000       NaN      1.000000   \n",
       "50%         0.000000    2041.666104     42.000000       NaN      1.000000   \n",
       "75%         1.000000    5317.759754     53.000000       NaN      1.000000   \n",
       "max         5.000000   14600.000000     75.000000       NaN      4.000000   \n",
       "\n",
       "          family_status  family_status_id gender income_type          debt  \\\n",
       "count             21525      21525.000000  21525       21525  21525.000000   \n",
       "unique                5               NaN      3           8           NaN   \n",
       "top     женат / замужем               NaN      F   сотрудник           NaN   \n",
       "freq              12380               NaN  14236       11119           NaN   \n",
       "mean                NaN          0.972544    NaN         NaN      0.080883   \n",
       "std                 NaN          1.420324    NaN         NaN      0.272661   \n",
       "min                 NaN          0.000000    NaN         NaN      0.000000   \n",
       "25%                 NaN          0.000000    NaN         NaN      0.000000   \n",
       "50%                 NaN          0.000000    NaN         NaN      0.000000   \n",
       "75%                 NaN          1.000000    NaN         NaN      0.000000   \n",
       "max                 NaN          4.000000    NaN         NaN      1.000000   \n",
       "\n",
       "        total_income  purpose  \n",
       "count   2.152500e+04    21525  \n",
       "unique           NaN       38  \n",
       "top              NaN  свадьба  \n",
       "freq             NaN      797  \n",
       "mean    1.651428e+05      NaN  \n",
       "std     9.806554e+04      NaN  \n",
       "min     2.066726e+04      NaN  \n",
       "25%     1.074857e+05      NaN  \n",
       "50%     1.433694e+05      NaN  \n",
       "75%     1.955436e+05      NaN  \n",
       "max     2.265604e+06      NaN  "
      ]
     },
     "execution_count": 24,
     "metadata": {},
     "output_type": "execute_result"
    }
   ],
   "source": [
    "df.describe(include='all')"
   ]
  },
  {
   "cell_type": "code",
   "execution_count": 25,
   "id": "9fc37019",
   "metadata": {},
   "outputs": [
    {
     "data": {
      "text/plain": [
       "array(['F', 'M', 'XNA'], dtype=object)"
      ]
     },
     "execution_count": 25,
     "metadata": {},
     "output_type": "execute_result"
    }
   ],
   "source": [
    "# clarify which set of unique genders is present in our table\n",
    "\n",
    "df['gender'].unique() "
   ]
  },
  {
   "cell_type": "code",
   "execution_count": 26,
   "id": "07d6b007",
   "metadata": {},
   "outputs": [
    {
     "data": {
      "text/html": [
       "<div>\n",
       "<style scoped>\n",
       "    .dataframe tbody tr th:only-of-type {\n",
       "        vertical-align: middle;\n",
       "    }\n",
       "\n",
       "    .dataframe tbody tr th {\n",
       "        vertical-align: top;\n",
       "    }\n",
       "\n",
       "    .dataframe thead th {\n",
       "        text-align: right;\n",
       "    }\n",
       "</style>\n",
       "<table border=\"1\" class=\"dataframe\">\n",
       "  <thead>\n",
       "    <tr style=\"text-align: right;\">\n",
       "      <th></th>\n",
       "      <th>children</th>\n",
       "      <th>days_employed</th>\n",
       "      <th>dob_years</th>\n",
       "      <th>education</th>\n",
       "      <th>education_id</th>\n",
       "      <th>family_status</th>\n",
       "      <th>family_status_id</th>\n",
       "      <th>gender</th>\n",
       "      <th>income_type</th>\n",
       "      <th>debt</th>\n",
       "      <th>total_income</th>\n",
       "      <th>purpose</th>\n",
       "    </tr>\n",
       "  </thead>\n",
       "  <tbody>\n",
       "    <tr>\n",
       "      <td>10701</td>\n",
       "      <td>0</td>\n",
       "      <td>2358.600502</td>\n",
       "      <td>24</td>\n",
       "      <td>неоконченное высшее</td>\n",
       "      <td>2</td>\n",
       "      <td>гражданский брак</td>\n",
       "      <td>1</td>\n",
       "      <td>XNA</td>\n",
       "      <td>компаньон</td>\n",
       "      <td>0</td>\n",
       "      <td>203905.157261</td>\n",
       "      <td>покупка недвижимости</td>\n",
       "    </tr>\n",
       "  </tbody>\n",
       "</table>\n",
       "</div>"
      ],
      "text/plain": [
       "       children  days_employed  dob_years            education  education_id  \\\n",
       "10701         0    2358.600502         24  неоконченное высшее             2   \n",
       "\n",
       "          family_status  family_status_id gender income_type  debt  \\\n",
       "10701  гражданский брак                 1    XNA   компаньон     0   \n",
       "\n",
       "        total_income               purpose  \n",
       "10701  203905.157261  покупка недвижимости  "
      ]
     },
     "execution_count": 26,
     "metadata": {},
     "output_type": "execute_result"
    }
   ],
   "source": [
    "# check how many borrowers we have with a mystery gender like \"XNA\"\n",
    "\n",
    "df[df['gender'] == 'XNA']"
   ]
  },
  {
   "cell_type": "markdown",
   "id": "5926961f",
   "metadata": {},
   "source": [
    "There is one person with this sex in our table. We can either delete this entry or keep it. We decide to keep it, as it will not affect our calculations."
   ]
  },
  {
   "cell_type": "markdown",
   "id": "32a18706",
   "metadata": {},
   "source": [
    "**Conclusions:**\n",
    "1. Filled in the missing values in `days_employed` и `total_income`.\n",
    "2. Eliminated anomalies and inadequate values in `children`, `days_employed` и `dob_years`."
   ]
  },
  {
   "cell_type": "markdown",
   "id": "5d86c121",
   "metadata": {},
   "source": [
    "### Changing data types"
   ]
  },
  {
   "cell_type": "code",
   "execution_count": 27,
   "id": "6c5929b3",
   "metadata": {},
   "outputs": [
    {
     "name": "stdout",
     "output_type": "stream",
     "text": [
      "<class 'pandas.core.frame.DataFrame'>\n",
      "RangeIndex: 21525 entries, 0 to 21524\n",
      "Data columns (total 12 columns):\n",
      "children            21525 non-null int64\n",
      "days_employed       21525 non-null float64\n",
      "dob_years           21525 non-null int64\n",
      "education           21525 non-null object\n",
      "education_id        21525 non-null int64\n",
      "family_status       21525 non-null object\n",
      "family_status_id    21525 non-null int64\n",
      "gender              21525 non-null object\n",
      "income_type         21525 non-null object\n",
      "debt                21525 non-null int64\n",
      "total_income        21525 non-null int64\n",
      "purpose             21525 non-null object\n",
      "dtypes: float64(1), int64(6), object(5)\n",
      "memory usage: 2.0+ MB\n"
     ]
    }
   ],
   "source": [
    "# changing data type in column `total_income` from float to integer\n",
    "\n",
    "df['total_income'] = df['total_income'].astype('int')\n",
    "df.info()"
   ]
  },
  {
   "cell_type": "markdown",
   "id": "c58f8176",
   "metadata": {},
   "source": [
    "### Removing duplicates."
   ]
  },
  {
   "cell_type": "markdown",
   "id": "2a66ff34",
   "metadata": {},
   "source": [
    "Let's analyze the dataframe for the presence of duplicate rows. To do this, apply `duplicated()` function in combination with `sum()` to the dataframe."
   ]
  },
  {
   "cell_type": "code",
   "execution_count": 28,
   "id": "47222577",
   "metadata": {},
   "outputs": [
    {
     "data": {
      "text/plain": [
       "54"
      ]
     },
     "execution_count": 28,
     "metadata": {},
     "output_type": "execute_result"
    }
   ],
   "source": [
    "df.duplicated().sum()"
   ]
  },
  {
   "cell_type": "markdown",
   "id": "d255e53a",
   "metadata": {},
   "source": [
    "We found 54 duplicate rows.\n",
    "\n",
    "Before removing the duplicate rows, let's analyze the data for implicit duplicates in the columns with string values, to see if they contain values with a different case (capital letters or a combination of capital letters and lowercase letters).\n",
    "\n",
    "Let's start with the `education` column. Let's analyze the list of unique values present in this column."
   ]
  },
  {
   "cell_type": "code",
   "execution_count": 29,
   "id": "2d3193ec",
   "metadata": {},
   "outputs": [
    {
     "data": {
      "text/plain": [
       "array(['высшее', 'среднее', 'Среднее', 'СРЕДНЕЕ', 'ВЫСШЕЕ',\n",
       "       'неоконченное высшее', 'начальное', 'Высшее',\n",
       "       'НЕОКОНЧЕННОЕ ВЫСШЕЕ', 'Неоконченное высшее', 'НАЧАЛЬНОЕ',\n",
       "       'Начальное', 'Ученая степень', 'УЧЕНАЯ СТЕПЕНЬ', 'ученая степень'],\n",
       "      dtype=object)"
      ]
     },
     "execution_count": 29,
     "metadata": {},
     "output_type": "execute_result"
    }
   ],
   "source": [
    "df['education'].unique()"
   ]
  },
  {
   "cell_type": "markdown",
   "id": "b85e82f3",
   "metadata": {},
   "source": [
    "Noting the presence of implicit duplicates that are in different cases. To fix this, will lower all characters in the string by calling `str.lower()`."
   ]
  },
  {
   "cell_type": "code",
   "execution_count": 30,
   "id": "5268ecab",
   "metadata": {},
   "outputs": [
    {
     "data": {
      "text/plain": [
       "array(['высшее', 'среднее', 'неоконченное высшее', 'начальное',\n",
       "       'ученая степень'], dtype=object)"
      ]
     },
     "execution_count": 30,
     "metadata": {},
     "output_type": "execute_result"
    }
   ],
   "source": [
    "df['education'] = df['education'].str.lower()\n",
    "df['education'].unique()"
   ]
  },
  {
   "cell_type": "markdown",
   "id": "9a45c056",
   "metadata": {},
   "source": [
    "Checked, it all worked out. There are no implicit duplicates in this column. Now let's check and eliminate implicit duplicates in other columns with string values in the same way."
   ]
  },
  {
   "cell_type": "code",
   "execution_count": 31,
   "id": "e4f0aef7",
   "metadata": {},
   "outputs": [
    {
     "data": {
      "text/plain": [
       "array(['женат / замужем', 'гражданский брак', 'вдовец / вдова',\n",
       "       'в разводе', 'Не женат / не замужем'], dtype=object)"
      ]
     },
     "execution_count": 31,
     "metadata": {},
     "output_type": "execute_result"
    }
   ],
   "source": [
    "df['family_status'].unique()"
   ]
  },
  {
   "cell_type": "code",
   "execution_count": 32,
   "id": "0db22710",
   "metadata": {},
   "outputs": [
    {
     "data": {
      "text/plain": [
       "array(['женат / замужем', 'гражданский брак', 'вдовец / вдова',\n",
       "       'в разводе', 'не женат / не замужем'], dtype=object)"
      ]
     },
     "execution_count": 32,
     "metadata": {},
     "output_type": "execute_result"
    }
   ],
   "source": [
    "df['family_status'] = df['family_status'].str.lower()\n",
    "df['family_status'].unique()"
   ]
  },
  {
   "cell_type": "code",
   "execution_count": 33,
   "id": "56f4fc10",
   "metadata": {},
   "outputs": [
    {
     "data": {
      "text/plain": [
       "array(['сотрудник', 'пенсионер', 'компаньон', 'госслужащий',\n",
       "       'безработный', 'предприниматель', 'студент', 'в декрете'],\n",
       "      dtype=object)"
      ]
     },
     "execution_count": 33,
     "metadata": {},
     "output_type": "execute_result"
    }
   ],
   "source": [
    "df['income_type'].unique()"
   ]
  },
  {
   "cell_type": "code",
   "execution_count": 34,
   "id": "ff71b871",
   "metadata": {},
   "outputs": [
    {
     "data": {
      "text/plain": [
       "array(['покупка жилья', 'приобретение автомобиля',\n",
       "       'дополнительное образование', 'сыграть свадьбу',\n",
       "       'операции с жильем', 'образование', 'на проведение свадьбы',\n",
       "       'покупка жилья для семьи', 'покупка недвижимости',\n",
       "       'покупка коммерческой недвижимости', 'покупка жилой недвижимости',\n",
       "       'строительство собственной недвижимости', 'недвижимость',\n",
       "       'строительство недвижимости', 'на покупку подержанного автомобиля',\n",
       "       'на покупку своего автомобиля',\n",
       "       'операции с коммерческой недвижимостью',\n",
       "       'строительство жилой недвижимости', 'жилье',\n",
       "       'операции со своей недвижимостью', 'автомобили',\n",
       "       'заняться образованием', 'сделка с подержанным автомобилем',\n",
       "       'получение образования', 'автомобиль', 'свадьба',\n",
       "       'получение дополнительного образования', 'покупка своего жилья',\n",
       "       'операции с недвижимостью', 'получение высшего образования',\n",
       "       'свой автомобиль', 'сделка с автомобилем',\n",
       "       'профильное образование', 'высшее образование',\n",
       "       'покупка жилья для сдачи', 'на покупку автомобиля', 'ремонт жилью',\n",
       "       'заняться высшим образованием'], dtype=object)"
      ]
     },
     "execution_count": 34,
     "metadata": {},
     "output_type": "execute_result"
    }
   ],
   "source": [
    "df['purpose'].unique()"
   ]
  },
  {
   "cell_type": "markdown",
   "id": "ec55f99b",
   "metadata": {},
   "source": [
    "Both columns are fine without processing.\n",
    "\n",
    "Counting the number of duplicate rows in the data frame again."
   ]
  },
  {
   "cell_type": "code",
   "execution_count": 35,
   "id": "a2488978",
   "metadata": {},
   "outputs": [
    {
     "data": {
      "text/plain": [
       "71"
      ]
     },
     "execution_count": 35,
     "metadata": {},
     "output_type": "execute_result"
    }
   ],
   "source": [
    "df.duplicated().sum()"
   ]
  },
  {
   "cell_type": "markdown",
   "id": "d6dfa142",
   "metadata": {},
   "source": [
    "Noting that the number of duplicate rows has increased from the original estimate. Will delete all found duplicate rows, by applying `drop_duplicates()` method, deleting old index and reseting new index."
   ]
  },
  {
   "cell_type": "code",
   "execution_count": 36,
   "id": "e208c106",
   "metadata": {},
   "outputs": [],
   "source": [
    "df = df.drop_duplicates().reset_index(drop=True)"
   ]
  },
  {
   "cell_type": "code",
   "execution_count": 37,
   "id": "765b168c",
   "metadata": {},
   "outputs": [
    {
     "data": {
      "text/plain": [
       "0"
      ]
     },
     "execution_count": 37,
     "metadata": {},
     "output_type": "execute_result"
    }
   ],
   "source": [
    "df.duplicated().sum()"
   ]
  },
  {
   "cell_type": "markdown",
   "id": "32db3ac3",
   "metadata": {},
   "source": [
    "**Intermediate conclusion:**\n",
    "\n",
    "Both explicit duplicate rows and implicit duplicates that may have appeared as a result of incorrect data collection in the row columns were found and eliminated."
   ]
  },
  {
   "cell_type": "markdown",
   "id": "cf6e666d",
   "metadata": {},
   "source": [
    "### Generation of additional dataframes, decomposition of the original dataframe."
   ]
  },
  {
   "cell_type": "markdown",
   "id": "18475801",
   "metadata": {},
   "source": [
    "Forming a new `education_dict` dataframe by extracting the relevant columns from the original dataframe."
   ]
  },
  {
   "cell_type": "code",
   "execution_count": 38,
   "id": "54c30b06",
   "metadata": {},
   "outputs": [
    {
     "data": {
      "text/html": [
       "<div>\n",
       "<style scoped>\n",
       "    .dataframe tbody tr th:only-of-type {\n",
       "        vertical-align: middle;\n",
       "    }\n",
       "\n",
       "    .dataframe tbody tr th {\n",
       "        vertical-align: top;\n",
       "    }\n",
       "\n",
       "    .dataframe thead th {\n",
       "        text-align: right;\n",
       "    }\n",
       "</style>\n",
       "<table border=\"1\" class=\"dataframe\">\n",
       "  <thead>\n",
       "    <tr style=\"text-align: right;\">\n",
       "      <th></th>\n",
       "      <th>education</th>\n",
       "      <th>education_id</th>\n",
       "    </tr>\n",
       "  </thead>\n",
       "  <tbody>\n",
       "    <tr>\n",
       "      <td>0</td>\n",
       "      <td>высшее</td>\n",
       "      <td>0</td>\n",
       "    </tr>\n",
       "    <tr>\n",
       "      <td>1</td>\n",
       "      <td>среднее</td>\n",
       "      <td>1</td>\n",
       "    </tr>\n",
       "    <tr>\n",
       "      <td>2</td>\n",
       "      <td>среднее</td>\n",
       "      <td>1</td>\n",
       "    </tr>\n",
       "    <tr>\n",
       "      <td>3</td>\n",
       "      <td>среднее</td>\n",
       "      <td>1</td>\n",
       "    </tr>\n",
       "    <tr>\n",
       "      <td>4</td>\n",
       "      <td>среднее</td>\n",
       "      <td>1</td>\n",
       "    </tr>\n",
       "  </tbody>\n",
       "</table>\n",
       "</div>"
      ],
      "text/plain": [
       "  education  education_id\n",
       "0    высшее             0\n",
       "1   среднее             1\n",
       "2   среднее             1\n",
       "3   среднее             1\n",
       "4   среднее             1"
      ]
     },
     "execution_count": 38,
     "metadata": {},
     "output_type": "execute_result"
    }
   ],
   "source": [
    "education_dict = df[['education', 'education_id']]\n",
    "education_dict.head()"
   ]
  },
  {
   "cell_type": "markdown",
   "id": "a72ce5f5",
   "metadata": {},
   "source": [
    "Forming a new dataframe `family_status_dict`, by selecting the appropriate columns from the original dataframe."
   ]
  },
  {
   "cell_type": "code",
   "execution_count": 39,
   "id": "14940f81",
   "metadata": {},
   "outputs": [
    {
     "data": {
      "text/html": [
       "<div>\n",
       "<style scoped>\n",
       "    .dataframe tbody tr th:only-of-type {\n",
       "        vertical-align: middle;\n",
       "    }\n",
       "\n",
       "    .dataframe tbody tr th {\n",
       "        vertical-align: top;\n",
       "    }\n",
       "\n",
       "    .dataframe thead th {\n",
       "        text-align: right;\n",
       "    }\n",
       "</style>\n",
       "<table border=\"1\" class=\"dataframe\">\n",
       "  <thead>\n",
       "    <tr style=\"text-align: right;\">\n",
       "      <th></th>\n",
       "      <th>family_status</th>\n",
       "      <th>family_status_id</th>\n",
       "    </tr>\n",
       "  </thead>\n",
       "  <tbody>\n",
       "    <tr>\n",
       "      <td>0</td>\n",
       "      <td>женат / замужем</td>\n",
       "      <td>0</td>\n",
       "    </tr>\n",
       "    <tr>\n",
       "      <td>1</td>\n",
       "      <td>женат / замужем</td>\n",
       "      <td>0</td>\n",
       "    </tr>\n",
       "    <tr>\n",
       "      <td>2</td>\n",
       "      <td>женат / замужем</td>\n",
       "      <td>0</td>\n",
       "    </tr>\n",
       "    <tr>\n",
       "      <td>3</td>\n",
       "      <td>женат / замужем</td>\n",
       "      <td>0</td>\n",
       "    </tr>\n",
       "    <tr>\n",
       "      <td>4</td>\n",
       "      <td>гражданский брак</td>\n",
       "      <td>1</td>\n",
       "    </tr>\n",
       "  </tbody>\n",
       "</table>\n",
       "</div>"
      ],
      "text/plain": [
       "      family_status  family_status_id\n",
       "0   женат / замужем                 0\n",
       "1   женат / замужем                 0\n",
       "2   женат / замужем                 0\n",
       "3   женат / замужем                 0\n",
       "4  гражданский брак                 1"
      ]
     },
     "execution_count": 39,
     "metadata": {},
     "output_type": "execute_result"
    }
   ],
   "source": [
    "family_status_dict = df[['family_status', 'family_status_id']]\n",
    "family_status_dict.head()"
   ]
  },
  {
   "cell_type": "markdown",
   "id": "f85a7c17",
   "metadata": {},
   "source": [
    "The resulting two tables are two separate dictionaries describing the borrower's education type and marital status, which we can subsequently refer to by identifier.\n",
    "\n",
    "By removing these two columns with string information from the source table, we will facilitate the visual work with the source table as well as reduce the file size and data processing time of the source table."
   ]
  },
  {
   "cell_type": "code",
   "execution_count": 40,
   "id": "9cdae5aa",
   "metadata": {},
   "outputs": [],
   "source": [
    "df = df.drop(['education', 'family_status'], axis=1)"
   ]
  },
  {
   "cell_type": "code",
   "execution_count": 41,
   "id": "715c5c5a",
   "metadata": {},
   "outputs": [
    {
     "data": {
      "text/html": [
       "<div>\n",
       "<style scoped>\n",
       "    .dataframe tbody tr th:only-of-type {\n",
       "        vertical-align: middle;\n",
       "    }\n",
       "\n",
       "    .dataframe tbody tr th {\n",
       "        vertical-align: top;\n",
       "    }\n",
       "\n",
       "    .dataframe thead th {\n",
       "        text-align: right;\n",
       "    }\n",
       "</style>\n",
       "<table border=\"1\" class=\"dataframe\">\n",
       "  <thead>\n",
       "    <tr style=\"text-align: right;\">\n",
       "      <th></th>\n",
       "      <th>children</th>\n",
       "      <th>days_employed</th>\n",
       "      <th>dob_years</th>\n",
       "      <th>education_id</th>\n",
       "      <th>family_status_id</th>\n",
       "      <th>gender</th>\n",
       "      <th>income_type</th>\n",
       "      <th>debt</th>\n",
       "      <th>total_income</th>\n",
       "      <th>purpose</th>\n",
       "    </tr>\n",
       "  </thead>\n",
       "  <tbody>\n",
       "    <tr>\n",
       "      <td>0</td>\n",
       "      <td>1</td>\n",
       "      <td>8437.673028</td>\n",
       "      <td>42</td>\n",
       "      <td>0</td>\n",
       "      <td>0</td>\n",
       "      <td>F</td>\n",
       "      <td>сотрудник</td>\n",
       "      <td>0</td>\n",
       "      <td>253875</td>\n",
       "      <td>покупка жилья</td>\n",
       "    </tr>\n",
       "    <tr>\n",
       "      <td>1</td>\n",
       "      <td>1</td>\n",
       "      <td>4024.803754</td>\n",
       "      <td>36</td>\n",
       "      <td>1</td>\n",
       "      <td>0</td>\n",
       "      <td>F</td>\n",
       "      <td>сотрудник</td>\n",
       "      <td>0</td>\n",
       "      <td>112080</td>\n",
       "      <td>приобретение автомобиля</td>\n",
       "    </tr>\n",
       "    <tr>\n",
       "      <td>2</td>\n",
       "      <td>0</td>\n",
       "      <td>5623.422610</td>\n",
       "      <td>33</td>\n",
       "      <td>1</td>\n",
       "      <td>0</td>\n",
       "      <td>M</td>\n",
       "      <td>сотрудник</td>\n",
       "      <td>0</td>\n",
       "      <td>145885</td>\n",
       "      <td>покупка жилья</td>\n",
       "    </tr>\n",
       "    <tr>\n",
       "      <td>3</td>\n",
       "      <td>3</td>\n",
       "      <td>4124.747207</td>\n",
       "      <td>32</td>\n",
       "      <td>1</td>\n",
       "      <td>0</td>\n",
       "      <td>M</td>\n",
       "      <td>сотрудник</td>\n",
       "      <td>0</td>\n",
       "      <td>267628</td>\n",
       "      <td>дополнительное образование</td>\n",
       "    </tr>\n",
       "    <tr>\n",
       "      <td>4</td>\n",
       "      <td>0</td>\n",
       "      <td>14600.000000</td>\n",
       "      <td>53</td>\n",
       "      <td>1</td>\n",
       "      <td>1</td>\n",
       "      <td>F</td>\n",
       "      <td>пенсионер</td>\n",
       "      <td>0</td>\n",
       "      <td>158616</td>\n",
       "      <td>сыграть свадьбу</td>\n",
       "    </tr>\n",
       "  </tbody>\n",
       "</table>\n",
       "</div>"
      ],
      "text/plain": [
       "   children  days_employed  dob_years  education_id  family_status_id gender  \\\n",
       "0         1    8437.673028         42             0                 0      F   \n",
       "1         1    4024.803754         36             1                 0      F   \n",
       "2         0    5623.422610         33             1                 0      M   \n",
       "3         3    4124.747207         32             1                 0      M   \n",
       "4         0   14600.000000         53             1                 1      F   \n",
       "\n",
       "  income_type  debt  total_income                     purpose  \n",
       "0   сотрудник     0        253875               покупка жилья  \n",
       "1   сотрудник     0        112080     приобретение автомобиля  \n",
       "2   сотрудник     0        145885               покупка жилья  \n",
       "3   сотрудник     0        267628  дополнительное образование  \n",
       "4   пенсионер     0        158616             сыграть свадьбу  "
      ]
     },
     "execution_count": 41,
     "metadata": {},
     "output_type": "execute_result"
    }
   ],
   "source": [
    "df.head()"
   ]
  },
  {
   "cell_type": "markdown",
   "id": "cc20b43e",
   "metadata": {},
   "source": [
    "### Income categorization"
   ]
  },
  {
   "cell_type": "markdown",
   "id": "ec851ec4",
   "metadata": {},
   "source": [
    "For more convenient work and analysis of the borrowers' income level, the amount of total income should be grouped into certain ranges, i.e. the data should be combined into categories. To do this, we will write a function that will receive as an argument the value from the `total_income` column and, depending on its value, will assign the appropriate category, which we will save in a separate column `total_income_category`."
   ]
  },
  {
   "cell_type": "code",
   "execution_count": 42,
   "id": "146ffccd",
   "metadata": {},
   "outputs": [],
   "source": [
    "def total_income_category(total_income):\n",
    "    \n",
    "    '''\n",
    "    Returns the income category depending on the income value, by using the following ranges:\n",
    "    - 0–30000 — 'E';\n",
    "    - 30001–50000 — 'D';\n",
    "    - 50001–200000 — 'C';\n",
    "    - 200001–1000000 — 'B';\n",
    "    - 1000001 and greater — 'A'\n",
    "    '''\n",
    "    \n",
    "    \n",
    "    try: \n",
    "        if total_income <= 30000:\n",
    "            return \"E\"\n",
    "        elif 30001 <= total_income <= 50000:\n",
    "            return 'D'\n",
    "        elif 50001 <= total_income <= 200000:\n",
    "            return 'C'\n",
    "        elif 200001 <= total_income <= 1000000:\n",
    "            return 'B'\n",
    "        return 'A'\n",
    "    \n",
    "    except:\n",
    "        print('Input Value Error')\n"
   ]
  },
  {
   "cell_type": "code",
   "execution_count": 43,
   "id": "f828bd42",
   "metadata": {},
   "outputs": [
    {
     "data": {
      "text/plain": [
       "'E'"
      ]
     },
     "execution_count": 43,
     "metadata": {},
     "output_type": "execute_result"
    }
   ],
   "source": [
    "# function check\n",
    "\n",
    "total_income_category(5000)"
   ]
  },
  {
   "cell_type": "code",
   "execution_count": 44,
   "id": "dbd4c0c2",
   "metadata": {},
   "outputs": [
    {
     "name": "stdout",
     "output_type": "stream",
     "text": [
      "Input Value Error\n"
     ]
    }
   ],
   "source": [
    "# function check\n",
    "\n",
    "total_income_category('100')"
   ]
  },
  {
   "cell_type": "markdown",
   "id": "e249a989",
   "metadata": {},
   "source": [
    "Let's add the column `total_income_category` to the dataframe and store the corresponding borrower category equal to the value returned by our function.\n",
    "\n",
    "To obtain category values in all rows of the dataframe, we will apply the `apply()` method to the column `total_income`, the argument of which will be the function `total_income_category` written by us."
   ]
  },
  {
   "cell_type": "code",
   "execution_count": 45,
   "id": "8e811ec4",
   "metadata": {},
   "outputs": [],
   "source": [
    "df['total_income_category'] = df['total_income'].apply(total_income_category)"
   ]
  },
  {
   "cell_type": "code",
   "execution_count": 46,
   "id": "eed6a41f",
   "metadata": {},
   "outputs": [
    {
     "data": {
      "text/html": [
       "<div>\n",
       "<style scoped>\n",
       "    .dataframe tbody tr th:only-of-type {\n",
       "        vertical-align: middle;\n",
       "    }\n",
       "\n",
       "    .dataframe tbody tr th {\n",
       "        vertical-align: top;\n",
       "    }\n",
       "\n",
       "    .dataframe thead th {\n",
       "        text-align: right;\n",
       "    }\n",
       "</style>\n",
       "<table border=\"1\" class=\"dataframe\">\n",
       "  <thead>\n",
       "    <tr style=\"text-align: right;\">\n",
       "      <th></th>\n",
       "      <th>children</th>\n",
       "      <th>days_employed</th>\n",
       "      <th>dob_years</th>\n",
       "      <th>education_id</th>\n",
       "      <th>family_status_id</th>\n",
       "      <th>gender</th>\n",
       "      <th>income_type</th>\n",
       "      <th>debt</th>\n",
       "      <th>total_income</th>\n",
       "      <th>purpose</th>\n",
       "      <th>total_income_category</th>\n",
       "    </tr>\n",
       "  </thead>\n",
       "  <tbody>\n",
       "    <tr>\n",
       "      <td>0</td>\n",
       "      <td>1</td>\n",
       "      <td>8437.673028</td>\n",
       "      <td>42</td>\n",
       "      <td>0</td>\n",
       "      <td>0</td>\n",
       "      <td>F</td>\n",
       "      <td>сотрудник</td>\n",
       "      <td>0</td>\n",
       "      <td>253875</td>\n",
       "      <td>покупка жилья</td>\n",
       "      <td>B</td>\n",
       "    </tr>\n",
       "    <tr>\n",
       "      <td>1</td>\n",
       "      <td>1</td>\n",
       "      <td>4024.803754</td>\n",
       "      <td>36</td>\n",
       "      <td>1</td>\n",
       "      <td>0</td>\n",
       "      <td>F</td>\n",
       "      <td>сотрудник</td>\n",
       "      <td>0</td>\n",
       "      <td>112080</td>\n",
       "      <td>приобретение автомобиля</td>\n",
       "      <td>C</td>\n",
       "    </tr>\n",
       "    <tr>\n",
       "      <td>2</td>\n",
       "      <td>0</td>\n",
       "      <td>5623.422610</td>\n",
       "      <td>33</td>\n",
       "      <td>1</td>\n",
       "      <td>0</td>\n",
       "      <td>M</td>\n",
       "      <td>сотрудник</td>\n",
       "      <td>0</td>\n",
       "      <td>145885</td>\n",
       "      <td>покупка жилья</td>\n",
       "      <td>C</td>\n",
       "    </tr>\n",
       "    <tr>\n",
       "      <td>3</td>\n",
       "      <td>3</td>\n",
       "      <td>4124.747207</td>\n",
       "      <td>32</td>\n",
       "      <td>1</td>\n",
       "      <td>0</td>\n",
       "      <td>M</td>\n",
       "      <td>сотрудник</td>\n",
       "      <td>0</td>\n",
       "      <td>267628</td>\n",
       "      <td>дополнительное образование</td>\n",
       "      <td>B</td>\n",
       "    </tr>\n",
       "    <tr>\n",
       "      <td>4</td>\n",
       "      <td>0</td>\n",
       "      <td>14600.000000</td>\n",
       "      <td>53</td>\n",
       "      <td>1</td>\n",
       "      <td>1</td>\n",
       "      <td>F</td>\n",
       "      <td>пенсионер</td>\n",
       "      <td>0</td>\n",
       "      <td>158616</td>\n",
       "      <td>сыграть свадьбу</td>\n",
       "      <td>C</td>\n",
       "    </tr>\n",
       "  </tbody>\n",
       "</table>\n",
       "</div>"
      ],
      "text/plain": [
       "   children  days_employed  dob_years  education_id  family_status_id gender  \\\n",
       "0         1    8437.673028         42             0                 0      F   \n",
       "1         1    4024.803754         36             1                 0      F   \n",
       "2         0    5623.422610         33             1                 0      M   \n",
       "3         3    4124.747207         32             1                 0      M   \n",
       "4         0   14600.000000         53             1                 1      F   \n",
       "\n",
       "  income_type  debt  total_income                     purpose  \\\n",
       "0   сотрудник     0        253875               покупка жилья   \n",
       "1   сотрудник     0        112080     приобретение автомобиля   \n",
       "2   сотрудник     0        145885               покупка жилья   \n",
       "3   сотрудник     0        267628  дополнительное образование   \n",
       "4   пенсионер     0        158616             сыграть свадьбу   \n",
       "\n",
       "  total_income_category  \n",
       "0                     B  \n",
       "1                     C  \n",
       "2                     C  \n",
       "3                     B  \n",
       "4                     C  "
      ]
     },
     "execution_count": 46,
     "metadata": {},
     "output_type": "execute_result"
    }
   ],
   "source": [
    "df.head()"
   ]
  },
  {
   "cell_type": "markdown",
   "id": "e288fb9c",
   "metadata": {},
   "source": [
    "### Credit purpose categorization."
   ]
  },
  {
   "cell_type": "markdown",
   "id": "fd1a5abe",
   "metadata": {},
   "source": [
    "For more convenient operation and analysis of the borrowing purpose, it is desirable to group the loan purpose value into specific categories. To do this, we will write a function that will receive as an argument a value from the `purpose` column and depending on its value will assign the appropriate category, which we will save in a separate column `purpose_category`.\n",
    "\n",
    "First, let's define a unique list of credit objectives in the current dataframe."
   ]
  },
  {
   "cell_type": "code",
   "execution_count": 47,
   "id": "9e741d20",
   "metadata": {},
   "outputs": [],
   "source": [
    "df_purpose_list = df['purpose'].unique()"
   ]
  },
  {
   "cell_type": "code",
   "execution_count": 48,
   "id": "40229a10",
   "metadata": {},
   "outputs": [
    {
     "data": {
      "text/plain": [
       "array(['покупка жилья', 'приобретение автомобиля',\n",
       "       'дополнительное образование', 'сыграть свадьбу',\n",
       "       'операции с жильем', 'образование', 'на проведение свадьбы',\n",
       "       'покупка жилья для семьи', 'покупка недвижимости',\n",
       "       'покупка коммерческой недвижимости', 'покупка жилой недвижимости',\n",
       "       'строительство собственной недвижимости', 'недвижимость',\n",
       "       'строительство недвижимости', 'на покупку подержанного автомобиля',\n",
       "       'на покупку своего автомобиля',\n",
       "       'операции с коммерческой недвижимостью',\n",
       "       'строительство жилой недвижимости', 'жилье',\n",
       "       'операции со своей недвижимостью', 'автомобили',\n",
       "       'заняться образованием', 'сделка с подержанным автомобилем',\n",
       "       'получение образования', 'автомобиль', 'свадьба',\n",
       "       'получение дополнительного образования', 'покупка своего жилья',\n",
       "       'операции с недвижимостью', 'получение высшего образования',\n",
       "       'свой автомобиль', 'сделка с автомобилем',\n",
       "       'профильное образование', 'высшее образование',\n",
       "       'покупка жилья для сдачи', 'на покупку автомобиля', 'ремонт жилью',\n",
       "       'заняться высшим образованием'], dtype=object)"
      ]
     },
     "execution_count": 48,
     "metadata": {},
     "output_type": "execute_result"
    }
   ],
   "source": [
    "df_purpose_list"
   ]
  },
  {
   "cell_type": "code",
   "execution_count": 49,
   "id": "de97182d",
   "metadata": {},
   "outputs": [],
   "source": [
    "def purpose_category(purpose):\n",
    "    \n",
    "    \"\"\"\n",
    "    Returns the category of the loan purpose depending on the current value of the loan purpose. \n",
    "    For this purpose, in the extended purpose string we will search for the keyword by which we will \n",
    "     match one of the following categories: \n",
    "    - 'auto transactions';\n",
    "    - 'real estate transactions';;\n",
    "    - 'wedding';\n",
    "    - 'education';       \n",
    "    \"\"\"\n",
    "    \n",
    "    try:\n",
    "        if 'авто' in purpose:\n",
    "            return 'операции с автомобилем'\n",
    "        elif 'образован' in purpose:\n",
    "            return 'получение образования'\n",
    "        elif 'свадьб' in purpose:\n",
    "            return 'проведение свадьбы'\n",
    "        return 'операции с недвижимостью'\n",
    "    \n",
    "    except:\n",
    "        print('Input Value Error')"
   ]
  },
  {
   "cell_type": "code",
   "execution_count": 50,
   "id": "d3ce81e3",
   "metadata": {},
   "outputs": [
    {
     "data": {
      "text/plain": [
       "'операции с автомобилем'"
      ]
     },
     "execution_count": 50,
     "metadata": {},
     "output_type": "execute_result"
    }
   ],
   "source": [
    "# function check\n",
    "\n",
    "purpose_category('сделка с подержанным автомобилем')"
   ]
  },
  {
   "cell_type": "code",
   "execution_count": 51,
   "id": "df00384f",
   "metadata": {},
   "outputs": [
    {
     "name": "stdout",
     "output_type": "stream",
     "text": [
      "Input Value Error\n"
     ]
    }
   ],
   "source": [
    "# function check\n",
    "\n",
    "purpose_category(500)"
   ]
  },
  {
   "cell_type": "markdown",
   "id": "198afef5",
   "metadata": {},
   "source": [
    "Добавим в датафрейм столбец `purpose_category`, в который сохраним соответствующую категорию цели кредита, равную значению, возвращаемому нашей функцией.\n",
    "\n",
    "Для получения значений категорий во всех строках датафрейма, применем к столбцу `purpose` метод `apply()`, в качестве аргумента которого будет служить написанная нами функция `purpose_category`."
   ]
  },
  {
   "cell_type": "markdown",
   "id": "7e63afcd",
   "metadata": {},
   "source": [
    "Let's add the column `purpose_category` to the dataframe and store the corresponding borrower category equal to the value returned by our function.\n",
    "\n",
    "To obtain category values in all rows of the dataframe, we will apply the apply() method to the column `purpose`, the argument of which will be the function `purpose_category` written by us."
   ]
  },
  {
   "cell_type": "code",
   "execution_count": 52,
   "id": "ac8758a3",
   "metadata": {},
   "outputs": [],
   "source": [
    "df['purpose_category'] = df['purpose'].apply(purpose_category)"
   ]
  },
  {
   "cell_type": "code",
   "execution_count": 53,
   "id": "f68962c3",
   "metadata": {},
   "outputs": [
    {
     "data": {
      "text/html": [
       "<div>\n",
       "<style scoped>\n",
       "    .dataframe tbody tr th:only-of-type {\n",
       "        vertical-align: middle;\n",
       "    }\n",
       "\n",
       "    .dataframe tbody tr th {\n",
       "        vertical-align: top;\n",
       "    }\n",
       "\n",
       "    .dataframe thead th {\n",
       "        text-align: right;\n",
       "    }\n",
       "</style>\n",
       "<table border=\"1\" class=\"dataframe\">\n",
       "  <thead>\n",
       "    <tr style=\"text-align: right;\">\n",
       "      <th></th>\n",
       "      <th>children</th>\n",
       "      <th>days_employed</th>\n",
       "      <th>dob_years</th>\n",
       "      <th>education_id</th>\n",
       "      <th>family_status_id</th>\n",
       "      <th>gender</th>\n",
       "      <th>income_type</th>\n",
       "      <th>debt</th>\n",
       "      <th>total_income</th>\n",
       "      <th>purpose</th>\n",
       "      <th>total_income_category</th>\n",
       "      <th>purpose_category</th>\n",
       "    </tr>\n",
       "  </thead>\n",
       "  <tbody>\n",
       "    <tr>\n",
       "      <td>0</td>\n",
       "      <td>1</td>\n",
       "      <td>8437.673028</td>\n",
       "      <td>42</td>\n",
       "      <td>0</td>\n",
       "      <td>0</td>\n",
       "      <td>F</td>\n",
       "      <td>сотрудник</td>\n",
       "      <td>0</td>\n",
       "      <td>253875</td>\n",
       "      <td>покупка жилья</td>\n",
       "      <td>B</td>\n",
       "      <td>операции с недвижимостью</td>\n",
       "    </tr>\n",
       "    <tr>\n",
       "      <td>1</td>\n",
       "      <td>1</td>\n",
       "      <td>4024.803754</td>\n",
       "      <td>36</td>\n",
       "      <td>1</td>\n",
       "      <td>0</td>\n",
       "      <td>F</td>\n",
       "      <td>сотрудник</td>\n",
       "      <td>0</td>\n",
       "      <td>112080</td>\n",
       "      <td>приобретение автомобиля</td>\n",
       "      <td>C</td>\n",
       "      <td>операции с автомобилем</td>\n",
       "    </tr>\n",
       "    <tr>\n",
       "      <td>2</td>\n",
       "      <td>0</td>\n",
       "      <td>5623.422610</td>\n",
       "      <td>33</td>\n",
       "      <td>1</td>\n",
       "      <td>0</td>\n",
       "      <td>M</td>\n",
       "      <td>сотрудник</td>\n",
       "      <td>0</td>\n",
       "      <td>145885</td>\n",
       "      <td>покупка жилья</td>\n",
       "      <td>C</td>\n",
       "      <td>операции с недвижимостью</td>\n",
       "    </tr>\n",
       "    <tr>\n",
       "      <td>3</td>\n",
       "      <td>3</td>\n",
       "      <td>4124.747207</td>\n",
       "      <td>32</td>\n",
       "      <td>1</td>\n",
       "      <td>0</td>\n",
       "      <td>M</td>\n",
       "      <td>сотрудник</td>\n",
       "      <td>0</td>\n",
       "      <td>267628</td>\n",
       "      <td>дополнительное образование</td>\n",
       "      <td>B</td>\n",
       "      <td>получение образования</td>\n",
       "    </tr>\n",
       "    <tr>\n",
       "      <td>4</td>\n",
       "      <td>0</td>\n",
       "      <td>14600.000000</td>\n",
       "      <td>53</td>\n",
       "      <td>1</td>\n",
       "      <td>1</td>\n",
       "      <td>F</td>\n",
       "      <td>пенсионер</td>\n",
       "      <td>0</td>\n",
       "      <td>158616</td>\n",
       "      <td>сыграть свадьбу</td>\n",
       "      <td>C</td>\n",
       "      <td>проведение свадьбы</td>\n",
       "    </tr>\n",
       "  </tbody>\n",
       "</table>\n",
       "</div>"
      ],
      "text/plain": [
       "   children  days_employed  dob_years  education_id  family_status_id gender  \\\n",
       "0         1    8437.673028         42             0                 0      F   \n",
       "1         1    4024.803754         36             1                 0      F   \n",
       "2         0    5623.422610         33             1                 0      M   \n",
       "3         3    4124.747207         32             1                 0      M   \n",
       "4         0   14600.000000         53             1                 1      F   \n",
       "\n",
       "  income_type  debt  total_income                     purpose  \\\n",
       "0   сотрудник     0        253875               покупка жилья   \n",
       "1   сотрудник     0        112080     приобретение автомобиля   \n",
       "2   сотрудник     0        145885               покупка жилья   \n",
       "3   сотрудник     0        267628  дополнительное образование   \n",
       "4   пенсионер     0        158616             сыграть свадьбу   \n",
       "\n",
       "  total_income_category          purpose_category  \n",
       "0                     B  операции с недвижимостью  \n",
       "1                     C    операции с автомобилем  \n",
       "2                     C  операции с недвижимостью  \n",
       "3                     B     получение образования  \n",
       "4                     C        проведение свадьбы  "
      ]
     },
     "execution_count": 53,
     "metadata": {},
     "output_type": "execute_result"
    }
   ],
   "source": [
    "df.head()"
   ]
  },
  {
   "cell_type": "markdown",
   "id": "34a213ac",
   "metadata": {},
   "source": [
    "### Answers to questions."
   ]
  },
  {
   "cell_type": "markdown",
   "id": "a8c90903",
   "metadata": {},
   "source": [
    "**Question 1: Is there a correlation between the number of children and repayment on time?**"
   ]
  },
  {
   "cell_type": "markdown",
   "id": "5ccf36d9",
   "metadata": {},
   "source": [
    "To assess the relationship between the two factors, we'll apply a dataframe grouping by number of children."
   ]
  },
  {
   "cell_type": "code",
   "execution_count": 54,
   "id": "203e1979",
   "metadata": {},
   "outputs": [
    {
     "data": {
      "text/html": [
       "<style  type=\"text/css\" >\n",
       "</style><table id=\"T_75933d6a_926f_11ec_876f_02420a39479e\" ><thead>    <tr>        <th class=\"blank level0\" ></th>        <th class=\"col_heading level0 col0\" >count</th>        <th class=\"col_heading level0 col1\" >mean</th>    </tr>    <tr>        <th class=\"index_name level0\" >children</th>        <th class=\"blank\" ></th>        <th class=\"blank\" ></th>    </tr></thead><tbody>\n",
       "                <tr>\n",
       "                        <th id=\"T_75933d6a_926f_11ec_876f_02420a39479elevel0_row0\" class=\"row_heading level0 row0\" >4</th>\n",
       "                        <td id=\"T_75933d6a_926f_11ec_876f_02420a39479erow0_col0\" class=\"data row0 col0\" >41</td>\n",
       "                        <td id=\"T_75933d6a_926f_11ec_876f_02420a39479erow0_col1\" class=\"data row0 col1\" >9.76%</td>\n",
       "            </tr>\n",
       "            <tr>\n",
       "                        <th id=\"T_75933d6a_926f_11ec_876f_02420a39479elevel0_row1\" class=\"row_heading level0 row1\" >2</th>\n",
       "                        <td id=\"T_75933d6a_926f_11ec_876f_02420a39479erow1_col0\" class=\"data row1 col0\" >2128</td>\n",
       "                        <td id=\"T_75933d6a_926f_11ec_876f_02420a39479erow1_col1\" class=\"data row1 col1\" >9.49%</td>\n",
       "            </tr>\n",
       "            <tr>\n",
       "                        <th id=\"T_75933d6a_926f_11ec_876f_02420a39479elevel0_row2\" class=\"row_heading level0 row2\" >1</th>\n",
       "                        <td id=\"T_75933d6a_926f_11ec_876f_02420a39479erow2_col0\" class=\"data row2 col0\" >4855</td>\n",
       "                        <td id=\"T_75933d6a_926f_11ec_876f_02420a39479erow2_col1\" class=\"data row2 col1\" >9.17%</td>\n",
       "            </tr>\n",
       "            <tr>\n",
       "                        <th id=\"T_75933d6a_926f_11ec_876f_02420a39479elevel0_row3\" class=\"row_heading level0 row3\" >3</th>\n",
       "                        <td id=\"T_75933d6a_926f_11ec_876f_02420a39479erow3_col0\" class=\"data row3 col0\" >330</td>\n",
       "                        <td id=\"T_75933d6a_926f_11ec_876f_02420a39479erow3_col1\" class=\"data row3 col1\" >8.18%</td>\n",
       "            </tr>\n",
       "            <tr>\n",
       "                        <th id=\"T_75933d6a_926f_11ec_876f_02420a39479elevel0_row4\" class=\"row_heading level0 row4\" >0</th>\n",
       "                        <td id=\"T_75933d6a_926f_11ec_876f_02420a39479erow4_col0\" class=\"data row4 col0\" >14091</td>\n",
       "                        <td id=\"T_75933d6a_926f_11ec_876f_02420a39479erow4_col1\" class=\"data row4 col1\" >7.54%</td>\n",
       "            </tr>\n",
       "            <tr>\n",
       "                        <th id=\"T_75933d6a_926f_11ec_876f_02420a39479elevel0_row5\" class=\"row_heading level0 row5\" >5</th>\n",
       "                        <td id=\"T_75933d6a_926f_11ec_876f_02420a39479erow5_col0\" class=\"data row5 col0\" >9</td>\n",
       "                        <td id=\"T_75933d6a_926f_11ec_876f_02420a39479erow5_col1\" class=\"data row5 col1\" >0.00%</td>\n",
       "            </tr>\n",
       "    </tbody></table>"
      ],
      "text/plain": [
       "<pandas.io.formats.style.Styler at 0x7f8a2f58d850>"
      ]
     },
     "execution_count": 54,
     "metadata": {},
     "output_type": "execute_result"
    }
   ],
   "source": [
    "df.groupby('children')['debt'].agg(['count', 'mean']).sort_values('mean', ascending=False).style.format({'mean':'{:.2%}'})"
   ]
  },
  {
   "cell_type": "markdown",
   "id": "0270ccdb",
   "metadata": {},
   "source": [
    "**Conclusion:** The grouping clearly demonstrates the relationship between the presence of children and the punctuality of loan repayments. Childless borrowers have the lowest share of overdue loans, while borrowers with children have a higher percentage of overdue loans. That is, the presence of children in the family has a direct impact on the financial sustainability of the family budget.\n",
    "\n",
    "*Note: The number of records with 3, 4 and 5 children is relatively low and unrepresentative and does not affect the overall trend sufficiently.*"
   ]
  },
  {
   "cell_type": "markdown",
   "id": "d096fb14",
   "metadata": {},
   "source": [
    "**Question 2: Is there a correlation between marital status and repayment on time?**"
   ]
  },
  {
   "cell_type": "markdown",
   "id": "f4499ee4",
   "metadata": {},
   "source": [
    "To assess the relationship between the two factors, we'll apply a dataframe grouping by the marital status of the borrower."
   ]
  },
  {
   "cell_type": "code",
   "execution_count": 55,
   "id": "672cb3a6",
   "metadata": {},
   "outputs": [
    {
     "data": {
      "text/html": [
       "<style  type=\"text/css\" >\n",
       "</style><table id=\"T_7595dfe8_926f_11ec_876f_02420a39479e\" ><thead>    <tr>        <th class=\"blank level0\" ></th>        <th class=\"col_heading level0 col0\" >count</th>        <th class=\"col_heading level0 col1\" >mean</th>    </tr>    <tr>        <th class=\"index_name level0\" >family_status_id</th>        <th class=\"blank\" ></th>        <th class=\"blank\" ></th>    </tr></thead><tbody>\n",
       "                <tr>\n",
       "                        <th id=\"T_7595dfe8_926f_11ec_876f_02420a39479elevel0_row0\" class=\"row_heading level0 row0\" >4</th>\n",
       "                        <td id=\"T_7595dfe8_926f_11ec_876f_02420a39479erow0_col0\" class=\"data row0 col0\" >2810</td>\n",
       "                        <td id=\"T_7595dfe8_926f_11ec_876f_02420a39479erow0_col1\" class=\"data row0 col1\" >9.75%</td>\n",
       "            </tr>\n",
       "            <tr>\n",
       "                        <th id=\"T_7595dfe8_926f_11ec_876f_02420a39479elevel0_row1\" class=\"row_heading level0 row1\" >1</th>\n",
       "                        <td id=\"T_7595dfe8_926f_11ec_876f_02420a39479erow1_col0\" class=\"data row1 col0\" >4151</td>\n",
       "                        <td id=\"T_7595dfe8_926f_11ec_876f_02420a39479erow1_col1\" class=\"data row1 col1\" >9.35%</td>\n",
       "            </tr>\n",
       "            <tr>\n",
       "                        <th id=\"T_7595dfe8_926f_11ec_876f_02420a39479elevel0_row2\" class=\"row_heading level0 row2\" >0</th>\n",
       "                        <td id=\"T_7595dfe8_926f_11ec_876f_02420a39479erow2_col0\" class=\"data row2 col0\" >12339</td>\n",
       "                        <td id=\"T_7595dfe8_926f_11ec_876f_02420a39479erow2_col1\" class=\"data row2 col1\" >7.55%</td>\n",
       "            </tr>\n",
       "            <tr>\n",
       "                        <th id=\"T_7595dfe8_926f_11ec_876f_02420a39479elevel0_row3\" class=\"row_heading level0 row3\" >3</th>\n",
       "                        <td id=\"T_7595dfe8_926f_11ec_876f_02420a39479erow3_col0\" class=\"data row3 col0\" >1195</td>\n",
       "                        <td id=\"T_7595dfe8_926f_11ec_876f_02420a39479erow3_col1\" class=\"data row3 col1\" >7.11%</td>\n",
       "            </tr>\n",
       "            <tr>\n",
       "                        <th id=\"T_7595dfe8_926f_11ec_876f_02420a39479elevel0_row4\" class=\"row_heading level0 row4\" >2</th>\n",
       "                        <td id=\"T_7595dfe8_926f_11ec_876f_02420a39479erow4_col0\" class=\"data row4 col0\" >959</td>\n",
       "                        <td id=\"T_7595dfe8_926f_11ec_876f_02420a39479erow4_col1\" class=\"data row4 col1\" >6.57%</td>\n",
       "            </tr>\n",
       "    </tbody></table>"
      ],
      "text/plain": [
       "<pandas.io.formats.style.Styler at 0x7f8a94935d90>"
      ]
     },
     "execution_count": 55,
     "metadata": {},
     "output_type": "execute_result"
    }
   ],
   "source": [
    "df.groupby('family_status_id')['debt'].agg(['count', 'mean']).sort_values('mean', ascending=False).style.format({'mean':'{:.2%}'})"
   ]
  },
  {
   "cell_type": "markdown",
   "id": "f5a540e7",
   "metadata": {},
   "source": [
    "As we have previously put the description of marital status and the description of the borrower's education level into separate dataframes: `family_status_dict` & `education_dict` respectively, we will address in our grouping directly to the separately identified table with the description of marital status."
   ]
  },
  {
   "cell_type": "code",
   "execution_count": 56,
   "id": "c4703b65",
   "metadata": {},
   "outputs": [
    {
     "data": {
      "text/html": [
       "<style  type=\"text/css\" >\n",
       "</style><table id=\"T_759a52e4_926f_11ec_876f_02420a39479e\" ><thead>    <tr>        <th class=\"blank level0\" ></th>        <th class=\"col_heading level0 col0\" >count</th>        <th class=\"col_heading level0 col1\" >mean</th>    </tr>    <tr>        <th class=\"index_name level0\" >family_status</th>        <th class=\"blank\" ></th>        <th class=\"blank\" ></th>    </tr></thead><tbody>\n",
       "                <tr>\n",
       "                        <th id=\"T_759a52e4_926f_11ec_876f_02420a39479elevel0_row0\" class=\"row_heading level0 row0\" >не женат / не замужем</th>\n",
       "                        <td id=\"T_759a52e4_926f_11ec_876f_02420a39479erow0_col0\" class=\"data row0 col0\" >2810</td>\n",
       "                        <td id=\"T_759a52e4_926f_11ec_876f_02420a39479erow0_col1\" class=\"data row0 col1\" >9.75%</td>\n",
       "            </tr>\n",
       "            <tr>\n",
       "                        <th id=\"T_759a52e4_926f_11ec_876f_02420a39479elevel0_row1\" class=\"row_heading level0 row1\" >гражданский брак</th>\n",
       "                        <td id=\"T_759a52e4_926f_11ec_876f_02420a39479erow1_col0\" class=\"data row1 col0\" >4151</td>\n",
       "                        <td id=\"T_759a52e4_926f_11ec_876f_02420a39479erow1_col1\" class=\"data row1 col1\" >9.35%</td>\n",
       "            </tr>\n",
       "            <tr>\n",
       "                        <th id=\"T_759a52e4_926f_11ec_876f_02420a39479elevel0_row2\" class=\"row_heading level0 row2\" >женат / замужем</th>\n",
       "                        <td id=\"T_759a52e4_926f_11ec_876f_02420a39479erow2_col0\" class=\"data row2 col0\" >12339</td>\n",
       "                        <td id=\"T_759a52e4_926f_11ec_876f_02420a39479erow2_col1\" class=\"data row2 col1\" >7.55%</td>\n",
       "            </tr>\n",
       "            <tr>\n",
       "                        <th id=\"T_759a52e4_926f_11ec_876f_02420a39479elevel0_row3\" class=\"row_heading level0 row3\" >в разводе</th>\n",
       "                        <td id=\"T_759a52e4_926f_11ec_876f_02420a39479erow3_col0\" class=\"data row3 col0\" >1195</td>\n",
       "                        <td id=\"T_759a52e4_926f_11ec_876f_02420a39479erow3_col1\" class=\"data row3 col1\" >7.11%</td>\n",
       "            </tr>\n",
       "            <tr>\n",
       "                        <th id=\"T_759a52e4_926f_11ec_876f_02420a39479elevel0_row4\" class=\"row_heading level0 row4\" >вдовец / вдова</th>\n",
       "                        <td id=\"T_759a52e4_926f_11ec_876f_02420a39479erow4_col0\" class=\"data row4 col0\" >959</td>\n",
       "                        <td id=\"T_759a52e4_926f_11ec_876f_02420a39479erow4_col1\" class=\"data row4 col1\" >6.57%</td>\n",
       "            </tr>\n",
       "    </tbody></table>"
      ],
      "text/plain": [
       "<pandas.io.formats.style.Styler at 0x7f8a2f038a10>"
      ]
     },
     "execution_count": 56,
     "metadata": {},
     "output_type": "execute_result"
    }
   ],
   "source": [
    "df.groupby(family_status_dict['family_status'])['debt'].agg(['count', 'mean']).sort_values('mean', ascending=False).style.format({'mean':'{:.2%}'})"
   ]
  },
  {
   "cell_type": "markdown",
   "id": "05b5c21b",
   "metadata": {},
   "source": [
    "**Conclusion:** The grouping clearly demonstrates the relationship between marital status and repayment punctuality. Unmarried and common-law borrowers have the highest share of overdue loans, while widows/widowers have the lowest overdue repayment rate.\n",
    "\n",
    "It is likely that widows/widowers are mature and established, and perhaps some of them are financially secured due to their age, all of which is reflected in their financial discipline.\n",
    "\n",
    "Married people tend to have a stable and predictable financial flow, which is reflected in their share of overdue debts, which is much lower than that of people living in civil partnerships or who are not married at all.\n",
    "\n",
    "Unmarried people tend to be younger without much experience of personal financial planning and interaction with financial institutions, which reduces their degree of compliance with repayment of credit debts."
   ]
  },
  {
   "cell_type": "markdown",
   "id": "e8c18c53",
   "metadata": {},
   "source": [
    "**Question 3: Is there a correlation between income and repayment on time?**"
   ]
  },
  {
   "cell_type": "markdown",
   "id": "7ce3e28c",
   "metadata": {},
   "source": [
    "To assess the relationship between the two factors, we apply a dataframe grouping by borrower income.\n",
    "\n",
    "Note: When forming the income categories, we have proceeded from the following ranges of the borrower's total income:\n",
    "* 0–30000 — 'E';\n",
    "* 30001–50000 — 'D';\n",
    "* 50001–200000 — 'C';\n",
    "* 200001–1000000 — 'B';\n",
    "* 1000001 и выше — 'A'"
   ]
  },
  {
   "cell_type": "code",
   "execution_count": 57,
   "id": "29233e48",
   "metadata": {
    "scrolled": true
   },
   "outputs": [
    {
     "data": {
      "text/html": [
       "<style  type=\"text/css\" >\n",
       "</style><table id=\"T_759c6ec6_926f_11ec_876f_02420a39479e\" ><thead>    <tr>        <th class=\"blank level0\" ></th>        <th class=\"col_heading level0 col0\" >count</th>        <th class=\"col_heading level0 col1\" >mean</th>    </tr>    <tr>        <th class=\"index_name level0\" >total_income_category</th>        <th class=\"blank\" ></th>        <th class=\"blank\" ></th>    </tr></thead><tbody>\n",
       "                <tr>\n",
       "                        <th id=\"T_759c6ec6_926f_11ec_876f_02420a39479elevel0_row0\" class=\"row_heading level0 row0\" >E</th>\n",
       "                        <td id=\"T_759c6ec6_926f_11ec_876f_02420a39479erow0_col0\" class=\"data row0 col0\" >22</td>\n",
       "                        <td id=\"T_759c6ec6_926f_11ec_876f_02420a39479erow0_col1\" class=\"data row0 col1\" >9.09%</td>\n",
       "            </tr>\n",
       "            <tr>\n",
       "                        <th id=\"T_759c6ec6_926f_11ec_876f_02420a39479elevel0_row1\" class=\"row_heading level0 row1\" >C</th>\n",
       "                        <td id=\"T_759c6ec6_926f_11ec_876f_02420a39479erow1_col0\" class=\"data row1 col0\" >16016</td>\n",
       "                        <td id=\"T_759c6ec6_926f_11ec_876f_02420a39479erow1_col1\" class=\"data row1 col1\" >8.49%</td>\n",
       "            </tr>\n",
       "            <tr>\n",
       "                        <th id=\"T_759c6ec6_926f_11ec_876f_02420a39479elevel0_row2\" class=\"row_heading level0 row2\" >A</th>\n",
       "                        <td id=\"T_759c6ec6_926f_11ec_876f_02420a39479erow2_col0\" class=\"data row2 col0\" >25</td>\n",
       "                        <td id=\"T_759c6ec6_926f_11ec_876f_02420a39479erow2_col1\" class=\"data row2 col1\" >8.00%</td>\n",
       "            </tr>\n",
       "            <tr>\n",
       "                        <th id=\"T_759c6ec6_926f_11ec_876f_02420a39479elevel0_row3\" class=\"row_heading level0 row3\" >B</th>\n",
       "                        <td id=\"T_759c6ec6_926f_11ec_876f_02420a39479erow3_col0\" class=\"data row3 col0\" >5041</td>\n",
       "                        <td id=\"T_759c6ec6_926f_11ec_876f_02420a39479erow3_col1\" class=\"data row3 col1\" >7.06%</td>\n",
       "            </tr>\n",
       "            <tr>\n",
       "                        <th id=\"T_759c6ec6_926f_11ec_876f_02420a39479elevel0_row4\" class=\"row_heading level0 row4\" >D</th>\n",
       "                        <td id=\"T_759c6ec6_926f_11ec_876f_02420a39479erow4_col0\" class=\"data row4 col0\" >350</td>\n",
       "                        <td id=\"T_759c6ec6_926f_11ec_876f_02420a39479erow4_col1\" class=\"data row4 col1\" >6.00%</td>\n",
       "            </tr>\n",
       "    </tbody></table>"
      ],
      "text/plain": [
       "<pandas.io.formats.style.Styler at 0x7f8a2f0381d0>"
      ]
     },
     "execution_count": 57,
     "metadata": {},
     "output_type": "execute_result"
    }
   ],
   "source": [
    "df.groupby('total_income_category')['debt'].agg(['count', 'mean']).sort_values('mean', ascending=False).style.format({'mean':'{:.2%}'})"
   ]
  },
  {
   "cell_type": "markdown",
   "id": "9a8124ca",
   "metadata": {},
   "source": [
    "**Conclusion:** The grouping clearly demonstrates the relationship between the borrower's income level and the punctuality of loan repayments.\n",
    "\n",
    "Borrowers with the lowest income have the highest level of overdue debt. Although there are only 22 borrowers in this category, it is very difficult to remain a law-abiding borrower with income from this category.\n",
    "\n",
    "Borrowers in category D (with an income level of 30001-50000) were the borrowers with the lowest level of delinquency. Perhaps this category, while not having a high income, is very precise and meticulous in planning its financial flows and payments and therefore is less likely to default on payments to the bank.\n",
    "\n",
    "Predictably, Categories A and B, as the highest income borrowers, have a lower share of delinquencies, and it is likely that their delinquency is not due to financial difficulties with repayments, but to unpunctuality and inattention to repayment schedules."
   ]
  },
  {
   "cell_type": "markdown",
   "id": "699bdee8",
   "metadata": {},
   "source": [
    "**Question 4: How do the different purposes of a loan affect its repayment on time?**"
   ]
  },
  {
   "cell_type": "markdown",
   "id": "f38f19b3",
   "metadata": {},
   "source": [
    "To assess the relationship between the two factors, we apply a dataframe grouping by loan purpose.\n",
    "\n",
    "Note: When generating categories for loan purposes, we grouped the extended list of loan purposes into a short list of loan purposes represented by the following categories:\n",
    "\n",
    "- 'auto transactions';\n",
    "- 'real estate transactions';;\n",
    "- 'wedding arrangements';\n",
    "- 'education'."
   ]
  },
  {
   "cell_type": "code",
   "execution_count": 58,
   "id": "c04a541e",
   "metadata": {
    "scrolled": true
   },
   "outputs": [
    {
     "data": {
      "text/html": [
       "<style  type=\"text/css\" >\n",
       "</style><table id=\"T_759e63c0_926f_11ec_876f_02420a39479e\" ><thead>    <tr>        <th class=\"blank level0\" ></th>        <th class=\"col_heading level0 col0\" >count</th>        <th class=\"col_heading level0 col1\" >mean</th>    </tr>    <tr>        <th class=\"index_name level0\" >purpose_category</th>        <th class=\"blank\" ></th>        <th class=\"blank\" ></th>    </tr></thead><tbody>\n",
       "                <tr>\n",
       "                        <th id=\"T_759e63c0_926f_11ec_876f_02420a39479elevel0_row0\" class=\"row_heading level0 row0\" >операции с автомобилем</th>\n",
       "                        <td id=\"T_759e63c0_926f_11ec_876f_02420a39479erow0_col0\" class=\"data row0 col0\" >4306</td>\n",
       "                        <td id=\"T_759e63c0_926f_11ec_876f_02420a39479erow0_col1\" class=\"data row0 col1\" >9.36%</td>\n",
       "            </tr>\n",
       "            <tr>\n",
       "                        <th id=\"T_759e63c0_926f_11ec_876f_02420a39479elevel0_row1\" class=\"row_heading level0 row1\" >получение образования</th>\n",
       "                        <td id=\"T_759e63c0_926f_11ec_876f_02420a39479erow1_col0\" class=\"data row1 col0\" >4013</td>\n",
       "                        <td id=\"T_759e63c0_926f_11ec_876f_02420a39479erow1_col1\" class=\"data row1 col1\" >9.22%</td>\n",
       "            </tr>\n",
       "            <tr>\n",
       "                        <th id=\"T_759e63c0_926f_11ec_876f_02420a39479elevel0_row2\" class=\"row_heading level0 row2\" >проведение свадьбы</th>\n",
       "                        <td id=\"T_759e63c0_926f_11ec_876f_02420a39479erow2_col0\" class=\"data row2 col0\" >2324</td>\n",
       "                        <td id=\"T_759e63c0_926f_11ec_876f_02420a39479erow2_col1\" class=\"data row2 col1\" >8.00%</td>\n",
       "            </tr>\n",
       "            <tr>\n",
       "                        <th id=\"T_759e63c0_926f_11ec_876f_02420a39479elevel0_row3\" class=\"row_heading level0 row3\" >операции с недвижимостью</th>\n",
       "                        <td id=\"T_759e63c0_926f_11ec_876f_02420a39479erow3_col0\" class=\"data row3 col0\" >10811</td>\n",
       "                        <td id=\"T_759e63c0_926f_11ec_876f_02420a39479erow3_col1\" class=\"data row3 col1\" >7.23%</td>\n",
       "            </tr>\n",
       "    </tbody></table>"
      ],
      "text/plain": [
       "<pandas.io.formats.style.Styler at 0x7f8a2f038c90>"
      ]
     },
     "execution_count": 58,
     "metadata": {},
     "output_type": "execute_result"
    }
   ],
   "source": [
    "df.groupby('purpose_category')['debt'].agg(['count', 'mean']).sort_values('mean', ascending=False).style.format({'mean':'{:.2%}'})"
   ]
  },
  {
   "cell_type": "markdown",
   "id": "36214c0b",
   "metadata": {},
   "source": [
    "**Conclusion:** The grouping clearly demonstrates the relationship between the intended use of the loan and the punctuality of loan repayment.\n",
    "\n",
    "The lowest level of delinquency is observed for loans issued for real estate transactions. This is most likely due to the fact that loans for such purposes undergo more thorough credit analysis of borrower's financial and collateral documents, which enables the bank to make deep scanning and eliminate potentially most unreliable borrowers at the stage of pre-processing of the loan application.\n",
    "\n",
    "The opposite is true for car and education loans. These loans are usually mass express loans, which are disbursed as soon as possible without an in-depth financial evaluation of the loan application and screening of the borrower. This results in a higher level of delinquency on such loans."
   ]
  },
  {
   "cell_type": "markdown",
   "id": "a3bdefdc",
   "metadata": {},
   "source": [
    "## Overall conclusion"
   ]
  },
  {
   "cell_type": "markdown",
   "id": "d023bc9e",
   "metadata": {},
   "source": [
    "The aim of the study was to determine whether a client's marital status and number of children affects whether the loan is repaid on time.\n",
    "\n",
    ">**The study was able to confirm the hypotheses about the relationship between the number of children and marital status on the timeliness and punctuality of loan repayments by the borrower.**\n",
    " \n",
    "<u>*1. Relationship between the number of children and the default rate:*</u>\n",
    "\n",
    "- The percentage of defaults (´delinquencies´) of borrowers with 0 children is: 7.54%\n",
    "- Percentage of defaults ( delinquencies) for borrowers with \"1\" number of children is: 9.17%: 9.17%\n",
    "- Percentage of defaults ( delinquencies) of borrowers with number of children \"2\" is: 9.17%: 9.49%\n",
    "\n",
    "<u>*2. Relationship between the marital status and the default rate:*</u>\n",
    "\n",
    "Marital status | Default rate\n",
    ":-|-:\n",
    "вдовец/вдова | 6.57%\n",
    "в разводе | 7.11%\n",
    "женат / замужем | 7.55%\n",
    "гражданский брак | 9.35%\n",
    "не женат/не замужем | 9.75%\n",
    "\n",
    "---\n",
    ">**In addition to the above hypotheses, the study also confirmed the hypotheses about the interdependence of the borrower's total income and different loan purposes on timely repayment of loan debt.\n",
    "These dependencies are also recommended to be considered in the development of the credit scoring model**.\n",
    "\n",
    "<u>*3. Relationship between the total income and the default rate:*</u>\n",
    "\n",
    "Category (Income level) | Default rate\n",
    ":-|-:\n",
    "E (0–30000) | 9.09%\n",
    "C (50001–200000) | 8.49%\n",
    "A (1000001+) | 8.00%\n",
    "B (200001–1000000) | 7.06%\n",
    "D (30001–50000) | 6.00%\n",
    "\n",
    "<u>*4. Relationship between the different credit purposes and the default rate:*</u>\n",
    "\n",
    "Loan purpose | Default rate\n",
    ":-|-:\n",
    "операции с автомобилем |\t9.36%\n",
    "получение образования\t|\t9.22%\n",
    "проведение свадьбы\t|\t8.00%\n",
    "операции с недвижимостью\t|\t7.23%"
   ]
  },
  {
   "cell_type": "code",
   "execution_count": null,
   "id": "5c8fc1f2",
   "metadata": {},
   "outputs": [],
   "source": []
  }
 ],
 "metadata": {
  "ExecuteTimeLog": [
   {
    "duration": 638,
    "start_time": "2022-02-17T08:20:58.364Z"
   },
   {
    "duration": 15,
    "start_time": "2022-02-17T08:47:04.713Z"
   },
   {
    "duration": 10,
    "start_time": "2022-02-17T08:47:29.272Z"
   },
   {
    "duration": 10,
    "start_time": "2022-02-17T08:47:48.814Z"
   },
   {
    "duration": 9,
    "start_time": "2022-02-17T08:48:12.894Z"
   },
   {
    "duration": 8,
    "start_time": "2022-02-17T08:56:47.120Z"
   },
   {
    "duration": 15,
    "start_time": "2022-02-17T09:42:57.144Z"
   },
   {
    "duration": 5,
    "start_time": "2022-02-17T10:57:04.798Z"
   },
   {
    "duration": 4,
    "start_time": "2022-02-17T10:58:37.654Z"
   },
   {
    "duration": 6,
    "start_time": "2022-02-17T11:01:19.686Z"
   },
   {
    "duration": 11,
    "start_time": "2022-02-17T11:01:54.159Z"
   },
   {
    "duration": 28,
    "start_time": "2022-02-17T11:02:09.366Z"
   },
   {
    "duration": 11,
    "start_time": "2022-02-17T11:03:50.552Z"
   },
   {
    "duration": 9,
    "start_time": "2022-02-17T11:04:25.479Z"
   },
   {
    "duration": 112,
    "start_time": "2022-02-17T11:05:14.154Z"
   },
   {
    "duration": 27,
    "start_time": "2022-02-17T12:00:34.975Z"
   },
   {
    "duration": 7,
    "start_time": "2022-02-17T12:09:42.912Z"
   },
   {
    "duration": 6,
    "start_time": "2022-02-17T12:09:59.319Z"
   },
   {
    "duration": 3,
    "start_time": "2022-02-17T12:16:38.755Z"
   },
   {
    "duration": 4,
    "start_time": "2022-02-17T12:18:59.870Z"
   },
   {
    "duration": 4,
    "start_time": "2022-02-17T12:32:01.447Z"
   },
   {
    "duration": 28,
    "start_time": "2022-02-17T12:33:46.208Z"
   },
   {
    "duration": 6,
    "start_time": "2022-02-17T12:43:31.485Z"
   },
   {
    "duration": 4,
    "start_time": "2022-02-17T12:43:52.286Z"
   },
   {
    "duration": 60,
    "start_time": "2022-02-17T12:44:07.879Z"
   },
   {
    "duration": 8,
    "start_time": "2022-02-17T12:44:07.940Z"
   },
   {
    "duration": 11,
    "start_time": "2022-02-17T12:44:07.950Z"
   },
   {
    "duration": 22,
    "start_time": "2022-02-17T12:44:07.962Z"
   },
   {
    "duration": 5,
    "start_time": "2022-02-17T12:44:07.985Z"
   },
   {
    "duration": 8,
    "start_time": "2022-02-17T12:44:07.992Z"
   },
   {
    "duration": 51,
    "start_time": "2022-02-17T12:44:08.002Z"
   },
   {
    "duration": 5,
    "start_time": "2022-02-17T12:44:15.957Z"
   },
   {
    "duration": 6,
    "start_time": "2022-02-17T12:45:28.668Z"
   },
   {
    "duration": 4,
    "start_time": "2022-02-17T12:49:27.039Z"
   },
   {
    "duration": 28,
    "start_time": "2022-02-17T12:49:40.227Z"
   },
   {
    "duration": 4,
    "start_time": "2022-02-17T12:49:47.371Z"
   },
   {
    "duration": 27,
    "start_time": "2022-02-17T12:49:52.991Z"
   },
   {
    "duration": 3,
    "start_time": "2022-02-17T12:50:07.885Z"
   },
   {
    "duration": 28,
    "start_time": "2022-02-17T12:50:09.999Z"
   },
   {
    "duration": 456,
    "start_time": "2022-02-17T13:57:20.952Z"
   },
   {
    "duration": 679,
    "start_time": "2022-02-17T13:57:38.603Z"
   },
   {
    "duration": 12,
    "start_time": "2022-02-17T13:57:39.284Z"
   },
   {
    "duration": 8,
    "start_time": "2022-02-17T13:57:39.297Z"
   },
   {
    "duration": 14,
    "start_time": "2022-02-17T13:57:39.307Z"
   },
   {
    "duration": 26,
    "start_time": "2022-02-17T13:57:39.322Z"
   },
   {
    "duration": 8,
    "start_time": "2022-02-17T13:57:39.349Z"
   },
   {
    "duration": 28,
    "start_time": "2022-02-17T13:57:39.358Z"
   },
   {
    "duration": 4,
    "start_time": "2022-02-17T13:57:39.389Z"
   },
   {
    "duration": 6,
    "start_time": "2022-02-17T13:57:39.395Z"
   },
   {
    "duration": 44,
    "start_time": "2022-02-17T13:57:39.402Z"
   },
   {
    "duration": 3,
    "start_time": "2022-02-17T13:57:39.447Z"
   },
   {
    "duration": 5,
    "start_time": "2022-02-17T13:57:39.451Z"
   },
   {
    "duration": 28,
    "start_time": "2022-02-17T13:57:39.457Z"
   },
   {
    "duration": 3,
    "start_time": "2022-02-17T13:57:39.486Z"
   },
   {
    "duration": 13,
    "start_time": "2022-02-17T13:59:28.816Z"
   },
   {
    "duration": 11,
    "start_time": "2022-02-17T14:00:53.410Z"
   },
   {
    "duration": 18,
    "start_time": "2022-02-17T14:03:14.603Z"
   },
   {
    "duration": 677,
    "start_time": "2022-02-17T15:41:14.261Z"
   },
   {
    "duration": 12,
    "start_time": "2022-02-17T15:41:14.940Z"
   },
   {
    "duration": 11,
    "start_time": "2022-02-17T15:41:14.954Z"
   },
   {
    "duration": 16,
    "start_time": "2022-02-17T15:41:14.967Z"
   },
   {
    "duration": 7,
    "start_time": "2022-02-17T15:41:14.985Z"
   },
   {
    "duration": 11,
    "start_time": "2022-02-17T15:41:14.993Z"
   },
   {
    "duration": 71,
    "start_time": "2022-02-17T15:41:15.006Z"
   },
   {
    "duration": 5,
    "start_time": "2022-02-17T15:41:15.079Z"
   },
   {
    "duration": 12,
    "start_time": "2022-02-17T15:41:15.086Z"
   },
   {
    "duration": 6,
    "start_time": "2022-02-17T15:41:15.100Z"
   },
   {
    "duration": 5,
    "start_time": "2022-02-17T15:41:15.107Z"
   },
   {
    "duration": 7,
    "start_time": "2022-02-17T15:41:15.113Z"
   },
   {
    "duration": 47,
    "start_time": "2022-02-17T15:41:15.121Z"
   },
   {
    "duration": 11,
    "start_time": "2022-02-17T15:41:15.169Z"
   },
   {
    "duration": 18,
    "start_time": "2022-02-17T15:41:32.647Z"
   },
   {
    "duration": 15,
    "start_time": "2022-02-17T17:02:05.981Z"
   },
   {
    "duration": 5,
    "start_time": "2022-02-17T17:06:05.951Z"
   },
   {
    "duration": 14,
    "start_time": "2022-02-17T17:10:48.289Z"
   },
   {
    "duration": 6,
    "start_time": "2022-02-17T17:14:06.409Z"
   },
   {
    "duration": 16,
    "start_time": "2022-02-17T17:16:35.424Z"
   },
   {
    "duration": 5,
    "start_time": "2022-02-17T17:21:38.500Z"
   },
   {
    "duration": 6,
    "start_time": "2022-02-17T17:22:33.972Z"
   },
   {
    "duration": 17,
    "start_time": "2022-02-17T17:24:29.497Z"
   },
   {
    "duration": 30,
    "start_time": "2022-02-17T17:29:29.764Z"
   },
   {
    "duration": 19,
    "start_time": "2022-02-17T17:30:40.100Z"
   },
   {
    "duration": 410,
    "start_time": "2022-02-17T17:30:59.462Z"
   },
   {
    "duration": 16,
    "start_time": "2022-02-17T17:31:09.246Z"
   },
   {
    "duration": 790,
    "start_time": "2022-02-18T08:13:24.330Z"
   },
   {
    "duration": 16,
    "start_time": "2022-02-18T08:13:25.122Z"
   },
   {
    "duration": 10,
    "start_time": "2022-02-18T08:13:25.140Z"
   },
   {
    "duration": 34,
    "start_time": "2022-02-18T08:13:25.152Z"
   },
   {
    "duration": 8,
    "start_time": "2022-02-18T08:13:25.189Z"
   },
   {
    "duration": 12,
    "start_time": "2022-02-18T08:13:25.199Z"
   },
   {
    "duration": 76,
    "start_time": "2022-02-18T08:13:25.213Z"
   },
   {
    "duration": 5,
    "start_time": "2022-02-18T08:13:25.292Z"
   },
   {
    "duration": 10,
    "start_time": "2022-02-18T08:13:25.299Z"
   },
   {
    "duration": 5,
    "start_time": "2022-02-18T08:13:25.311Z"
   },
   {
    "duration": 5,
    "start_time": "2022-02-18T08:13:25.317Z"
   },
   {
    "duration": 5,
    "start_time": "2022-02-18T08:13:25.324Z"
   },
   {
    "duration": 71,
    "start_time": "2022-02-18T08:13:25.331Z"
   },
   {
    "duration": 13,
    "start_time": "2022-02-18T08:13:25.404Z"
   },
   {
    "duration": 16,
    "start_time": "2022-02-18T08:13:25.420Z"
   },
   {
    "duration": 4,
    "start_time": "2022-02-18T08:13:25.438Z"
   },
   {
    "duration": 45,
    "start_time": "2022-02-18T08:13:25.444Z"
   },
   {
    "duration": 5,
    "start_time": "2022-02-18T08:13:25.491Z"
   },
   {
    "duration": 18,
    "start_time": "2022-02-18T08:13:25.498Z"
   },
   {
    "duration": 10,
    "start_time": "2022-02-18T08:13:25.518Z"
   },
   {
    "duration": 8,
    "start_time": "2022-02-18T08:13:25.570Z"
   },
   {
    "duration": 19,
    "start_time": "2022-02-18T08:13:25.581Z"
   },
   {
    "duration": 22,
    "start_time": "2022-02-18T08:13:25.604Z"
   },
   {
    "duration": 57,
    "start_time": "2022-02-18T08:13:25.628Z"
   },
   {
    "duration": 11,
    "start_time": "2022-02-18T08:43:17.385Z"
   },
   {
    "duration": 14,
    "start_time": "2022-02-18T08:45:38.881Z"
   },
   {
    "duration": 23,
    "start_time": "2022-02-18T09:06:17.764Z"
   },
   {
    "duration": 432,
    "start_time": "2022-02-18T09:06:26.384Z"
   },
   {
    "duration": 265,
    "start_time": "2022-02-18T09:06:56.314Z"
   },
   {
    "duration": 694,
    "start_time": "2022-02-18T09:08:52.848Z"
   },
   {
    "duration": 15,
    "start_time": "2022-02-18T09:08:53.544Z"
   },
   {
    "duration": 12,
    "start_time": "2022-02-18T09:08:53.561Z"
   },
   {
    "duration": 18,
    "start_time": "2022-02-18T09:08:53.575Z"
   },
   {
    "duration": 6,
    "start_time": "2022-02-18T09:08:53.595Z"
   },
   {
    "duration": 9,
    "start_time": "2022-02-18T09:08:53.603Z"
   },
   {
    "duration": 78,
    "start_time": "2022-02-18T09:08:53.615Z"
   },
   {
    "duration": 6,
    "start_time": "2022-02-18T09:08:53.697Z"
   },
   {
    "duration": 7,
    "start_time": "2022-02-18T09:08:53.706Z"
   },
   {
    "duration": 4,
    "start_time": "2022-02-18T09:08:53.714Z"
   },
   {
    "duration": 7,
    "start_time": "2022-02-18T09:08:53.720Z"
   },
   {
    "duration": 43,
    "start_time": "2022-02-18T09:08:53.728Z"
   },
   {
    "duration": 39,
    "start_time": "2022-02-18T09:08:53.773Z"
   },
   {
    "duration": 13,
    "start_time": "2022-02-18T09:08:53.813Z"
   },
   {
    "duration": 47,
    "start_time": "2022-02-18T09:08:53.828Z"
   },
   {
    "duration": 5,
    "start_time": "2022-02-18T09:08:53.877Z"
   },
   {
    "duration": 16,
    "start_time": "2022-02-18T09:08:53.884Z"
   },
   {
    "duration": 5,
    "start_time": "2022-02-18T09:08:53.902Z"
   },
   {
    "duration": 19,
    "start_time": "2022-02-18T09:08:53.909Z"
   },
   {
    "duration": 5,
    "start_time": "2022-02-18T09:08:53.969Z"
   },
   {
    "duration": 8,
    "start_time": "2022-02-18T09:08:53.976Z"
   },
   {
    "duration": 21,
    "start_time": "2022-02-18T09:08:53.986Z"
   },
   {
    "duration": 21,
    "start_time": "2022-02-18T09:08:54.010Z"
   },
   {
    "duration": 17,
    "start_time": "2022-02-18T09:08:54.070Z"
   },
   {
    "duration": 11,
    "start_time": "2022-02-18T09:08:54.088Z"
   },
   {
    "duration": 12,
    "start_time": "2022-02-18T09:08:54.100Z"
   },
   {
    "duration": 57,
    "start_time": "2022-02-18T09:08:54.114Z"
   },
   {
    "duration": 339,
    "start_time": "2022-02-18T09:09:41.139Z"
   },
   {
    "duration": 750,
    "start_time": "2022-02-18T09:10:01.567Z"
   },
   {
    "duration": 17,
    "start_time": "2022-02-18T09:10:02.319Z"
   },
   {
    "duration": 13,
    "start_time": "2022-02-18T09:10:02.339Z"
   },
   {
    "duration": 31,
    "start_time": "2022-02-18T09:10:02.354Z"
   },
   {
    "duration": 8,
    "start_time": "2022-02-18T09:10:02.387Z"
   },
   {
    "duration": 11,
    "start_time": "2022-02-18T09:10:02.397Z"
   },
   {
    "duration": 75,
    "start_time": "2022-02-18T09:10:02.410Z"
   },
   {
    "duration": 6,
    "start_time": "2022-02-18T09:10:02.488Z"
   },
   {
    "duration": 31,
    "start_time": "2022-02-18T09:10:02.496Z"
   },
   {
    "duration": 16,
    "start_time": "2022-02-18T09:10:02.529Z"
   },
   {
    "duration": 13,
    "start_time": "2022-02-18T09:10:02.547Z"
   },
   {
    "duration": 16,
    "start_time": "2022-02-18T09:10:02.562Z"
   },
   {
    "duration": 45,
    "start_time": "2022-02-18T09:10:02.580Z"
   },
   {
    "duration": 14,
    "start_time": "2022-02-18T09:10:02.626Z"
   },
   {
    "duration": 27,
    "start_time": "2022-02-18T09:10:02.642Z"
   },
   {
    "duration": 5,
    "start_time": "2022-02-18T09:10:02.671Z"
   },
   {
    "duration": 27,
    "start_time": "2022-02-18T09:10:02.678Z"
   },
   {
    "duration": 7,
    "start_time": "2022-02-18T09:10:02.707Z"
   },
   {
    "duration": 21,
    "start_time": "2022-02-18T09:10:02.716Z"
   },
   {
    "duration": 35,
    "start_time": "2022-02-18T09:10:02.740Z"
   },
   {
    "duration": 24,
    "start_time": "2022-02-18T09:10:02.777Z"
   },
   {
    "duration": 34,
    "start_time": "2022-02-18T09:10:02.803Z"
   },
   {
    "duration": 50,
    "start_time": "2022-02-18T09:10:02.841Z"
   },
   {
    "duration": 24,
    "start_time": "2022-02-18T09:10:02.894Z"
   },
   {
    "duration": 15,
    "start_time": "2022-02-18T09:10:02.920Z"
   },
   {
    "duration": 40,
    "start_time": "2022-02-18T09:10:02.937Z"
   },
   {
    "duration": 6,
    "start_time": "2022-02-18T09:10:02.978Z"
   },
   {
    "duration": 20,
    "start_time": "2022-02-18T09:10:02.986Z"
   },
   {
    "duration": 4,
    "start_time": "2022-02-18T09:41:41.266Z"
   },
   {
    "duration": 13,
    "start_time": "2022-02-18T09:48:57.388Z"
   },
   {
    "duration": 20,
    "start_time": "2022-02-18T09:49:05.785Z"
   },
   {
    "duration": 13,
    "start_time": "2022-02-18T09:49:26.148Z"
   },
   {
    "duration": 700,
    "start_time": "2022-02-18T11:17:19.104Z"
   },
   {
    "duration": 16,
    "start_time": "2022-02-18T11:17:19.806Z"
   },
   {
    "duration": 10,
    "start_time": "2022-02-18T11:17:19.825Z"
   },
   {
    "duration": 44,
    "start_time": "2022-02-18T11:17:19.837Z"
   },
   {
    "duration": 7,
    "start_time": "2022-02-18T11:17:19.883Z"
   },
   {
    "duration": 18,
    "start_time": "2022-02-18T11:17:19.892Z"
   },
   {
    "duration": 58,
    "start_time": "2022-02-18T11:17:19.912Z"
   },
   {
    "duration": 7,
    "start_time": "2022-02-18T11:17:19.974Z"
   },
   {
    "duration": 10,
    "start_time": "2022-02-18T11:17:19.984Z"
   },
   {
    "duration": 7,
    "start_time": "2022-02-18T11:17:19.996Z"
   },
   {
    "duration": 17,
    "start_time": "2022-02-18T11:17:20.004Z"
   },
   {
    "duration": 16,
    "start_time": "2022-02-18T11:17:20.023Z"
   },
   {
    "duration": 75,
    "start_time": "2022-02-18T11:17:20.041Z"
   },
   {
    "duration": 16,
    "start_time": "2022-02-18T11:17:20.118Z"
   },
   {
    "duration": 40,
    "start_time": "2022-02-18T11:17:20.137Z"
   },
   {
    "duration": 9,
    "start_time": "2022-02-18T11:17:20.179Z"
   },
   {
    "duration": 19,
    "start_time": "2022-02-18T11:17:20.190Z"
   },
   {
    "duration": 8,
    "start_time": "2022-02-18T11:17:20.211Z"
   },
   {
    "duration": 62,
    "start_time": "2022-02-18T11:17:20.221Z"
   },
   {
    "duration": 15,
    "start_time": "2022-02-18T11:17:20.285Z"
   },
   {
    "duration": 8,
    "start_time": "2022-02-18T11:17:20.302Z"
   },
   {
    "duration": 24,
    "start_time": "2022-02-18T11:17:20.311Z"
   },
   {
    "duration": 47,
    "start_time": "2022-02-18T11:17:20.338Z"
   },
   {
    "duration": 17,
    "start_time": "2022-02-18T11:17:20.388Z"
   },
   {
    "duration": 11,
    "start_time": "2022-02-18T11:17:20.407Z"
   },
   {
    "duration": 20,
    "start_time": "2022-02-18T11:17:20.420Z"
   },
   {
    "duration": 29,
    "start_time": "2022-02-18T11:17:20.442Z"
   },
   {
    "duration": 15,
    "start_time": "2022-02-18T11:17:20.473Z"
   },
   {
    "duration": 14,
    "start_time": "2022-02-18T11:17:20.490Z"
   },
   {
    "duration": 29,
    "start_time": "2022-02-18T11:17:20.505Z"
   },
   {
    "duration": 34,
    "start_time": "2022-02-18T11:17:20.536Z"
   },
   {
    "duration": 19,
    "start_time": "2022-02-18T11:17:59.105Z"
   },
   {
    "duration": 636,
    "start_time": "2022-02-18T13:47:22.028Z"
   },
   {
    "duration": 15,
    "start_time": "2022-02-18T13:47:22.667Z"
   },
   {
    "duration": 10,
    "start_time": "2022-02-18T13:47:22.684Z"
   },
   {
    "duration": 19,
    "start_time": "2022-02-18T13:47:22.696Z"
   },
   {
    "duration": 6,
    "start_time": "2022-02-18T13:47:22.717Z"
   },
   {
    "duration": 48,
    "start_time": "2022-02-18T13:47:22.725Z"
   },
   {
    "duration": 35,
    "start_time": "2022-02-18T13:47:22.775Z"
   },
   {
    "duration": 6,
    "start_time": "2022-02-18T13:47:22.812Z"
   },
   {
    "duration": 17,
    "start_time": "2022-02-18T13:47:22.820Z"
   },
   {
    "duration": 30,
    "start_time": "2022-02-18T13:47:22.839Z"
   },
   {
    "duration": 4,
    "start_time": "2022-02-18T13:47:22.871Z"
   },
   {
    "duration": 8,
    "start_time": "2022-02-18T13:47:22.876Z"
   },
   {
    "duration": 46,
    "start_time": "2022-02-18T13:47:22.885Z"
   },
   {
    "duration": 37,
    "start_time": "2022-02-18T13:47:22.934Z"
   },
   {
    "duration": 18,
    "start_time": "2022-02-18T13:47:22.974Z"
   },
   {
    "duration": 7,
    "start_time": "2022-02-18T13:47:22.994Z"
   },
   {
    "duration": 21,
    "start_time": "2022-02-18T13:47:23.003Z"
   },
   {
    "duration": 45,
    "start_time": "2022-02-18T13:47:23.027Z"
   },
   {
    "duration": 21,
    "start_time": "2022-02-18T13:47:23.074Z"
   },
   {
    "duration": 7,
    "start_time": "2022-02-18T13:47:23.097Z"
   },
   {
    "duration": 7,
    "start_time": "2022-02-18T13:47:23.106Z"
   },
   {
    "duration": 57,
    "start_time": "2022-02-18T13:47:23.115Z"
   },
   {
    "duration": 23,
    "start_time": "2022-02-18T13:47:23.175Z"
   },
   {
    "duration": 18,
    "start_time": "2022-02-18T13:47:23.200Z"
   },
   {
    "duration": 10,
    "start_time": "2022-02-18T13:47:23.219Z"
   },
   {
    "duration": 46,
    "start_time": "2022-02-18T13:47:23.231Z"
   },
   {
    "duration": 6,
    "start_time": "2022-02-18T13:47:23.278Z"
   },
   {
    "duration": 15,
    "start_time": "2022-02-18T13:47:23.286Z"
   },
   {
    "duration": 7,
    "start_time": "2022-02-18T13:47:23.303Z"
   },
   {
    "duration": 14,
    "start_time": "2022-02-18T13:47:23.312Z"
   },
   {
    "duration": 43,
    "start_time": "2022-02-18T13:47:23.327Z"
   },
   {
    "duration": 6,
    "start_time": "2022-02-18T13:59:24.324Z"
   },
   {
    "duration": 4,
    "start_time": "2022-02-18T13:59:42.204Z"
   },
   {
    "duration": 3,
    "start_time": "2022-02-18T14:00:14.969Z"
   },
   {
    "duration": 11,
    "start_time": "2022-02-18T14:00:35.251Z"
   },
   {
    "duration": 21,
    "start_time": "2022-02-18T14:00:39.236Z"
   },
   {
    "duration": 644,
    "start_time": "2022-02-18T17:43:58.024Z"
   },
   {
    "duration": 15,
    "start_time": "2022-02-18T17:43:58.671Z"
   },
   {
    "duration": 11,
    "start_time": "2022-02-18T17:43:58.688Z"
   },
   {
    "duration": 17,
    "start_time": "2022-02-18T17:43:58.701Z"
   },
   {
    "duration": 8,
    "start_time": "2022-02-18T17:43:58.720Z"
   },
   {
    "duration": 51,
    "start_time": "2022-02-18T17:43:58.730Z"
   },
   {
    "duration": 35,
    "start_time": "2022-02-18T17:43:58.784Z"
   },
   {
    "duration": 6,
    "start_time": "2022-02-18T17:43:58.822Z"
   },
   {
    "duration": 40,
    "start_time": "2022-02-18T17:43:58.830Z"
   },
   {
    "duration": 7,
    "start_time": "2022-02-18T17:43:58.872Z"
   },
   {
    "duration": 6,
    "start_time": "2022-02-18T17:43:58.880Z"
   },
   {
    "duration": 10,
    "start_time": "2022-02-18T17:43:58.888Z"
   },
   {
    "duration": 39,
    "start_time": "2022-02-18T17:43:58.900Z"
   },
   {
    "duration": 15,
    "start_time": "2022-02-18T17:43:58.970Z"
   },
   {
    "duration": 17,
    "start_time": "2022-02-18T17:43:58.987Z"
   },
   {
    "duration": 5,
    "start_time": "2022-02-18T17:43:59.006Z"
   },
   {
    "duration": 56,
    "start_time": "2022-02-18T17:43:59.013Z"
   },
   {
    "duration": 6,
    "start_time": "2022-02-18T17:43:59.071Z"
   },
   {
    "duration": 20,
    "start_time": "2022-02-18T17:43:59.079Z"
   },
   {
    "duration": 5,
    "start_time": "2022-02-18T17:43:59.101Z"
   },
   {
    "duration": 6,
    "start_time": "2022-02-18T17:43:59.109Z"
   },
   {
    "duration": 65,
    "start_time": "2022-02-18T17:43:59.117Z"
   },
   {
    "duration": 21,
    "start_time": "2022-02-18T17:43:59.186Z"
   },
   {
    "duration": 17,
    "start_time": "2022-02-18T17:43:59.209Z"
   },
   {
    "duration": 45,
    "start_time": "2022-02-18T17:43:59.228Z"
   },
   {
    "duration": 14,
    "start_time": "2022-02-18T17:43:59.274Z"
   },
   {
    "duration": 7,
    "start_time": "2022-02-18T17:43:59.289Z"
   },
   {
    "duration": 10,
    "start_time": "2022-02-18T17:43:59.298Z"
   },
   {
    "duration": 5,
    "start_time": "2022-02-18T17:43:59.310Z"
   },
   {
    "duration": 20,
    "start_time": "2022-02-18T17:43:59.317Z"
   },
   {
    "duration": 66,
    "start_time": "2022-02-18T17:43:59.339Z"
   },
   {
    "duration": 16,
    "start_time": "2022-02-18T17:43:59.407Z"
   },
   {
    "duration": 6,
    "start_time": "2022-02-18T17:43:59.425Z"
   },
   {
    "duration": 12,
    "start_time": "2022-02-18T17:43:59.433Z"
   },
   {
    "duration": 15,
    "start_time": "2022-02-18T17:43:59.447Z"
   },
   {
    "duration": 25,
    "start_time": "2022-02-18T17:43:59.465Z"
   },
   {
    "duration": 4,
    "start_time": "2022-02-18T17:57:42.002Z"
   },
   {
    "duration": 3,
    "start_time": "2022-02-18T17:59:22.965Z"
   },
   {
    "duration": 11,
    "start_time": "2022-02-18T18:01:15.259Z"
   },
   {
    "duration": 22,
    "start_time": "2022-02-18T18:01:20.973Z"
   },
   {
    "duration": 12,
    "start_time": "2022-02-18T18:01:35.544Z"
   },
   {
    "duration": 582,
    "start_time": "2022-02-19T06:53:48.435Z"
   },
   {
    "duration": 856,
    "start_time": "2022-02-19T06:54:01.018Z"
   },
   {
    "duration": 21,
    "start_time": "2022-02-19T06:54:01.877Z"
   },
   {
    "duration": 12,
    "start_time": "2022-02-19T06:54:01.901Z"
   },
   {
    "duration": 51,
    "start_time": "2022-02-19T06:54:01.917Z"
   },
   {
    "duration": 9,
    "start_time": "2022-02-19T06:54:01.970Z"
   },
   {
    "duration": 16,
    "start_time": "2022-02-19T06:54:01.981Z"
   },
   {
    "duration": 76,
    "start_time": "2022-02-19T06:54:01.999Z"
   },
   {
    "duration": 8,
    "start_time": "2022-02-19T06:54:02.079Z"
   },
   {
    "duration": 11,
    "start_time": "2022-02-19T06:54:02.090Z"
   },
   {
    "duration": 13,
    "start_time": "2022-02-19T06:54:02.103Z"
   },
   {
    "duration": 13,
    "start_time": "2022-02-19T06:54:02.118Z"
   },
   {
    "duration": 31,
    "start_time": "2022-02-19T06:54:02.134Z"
   },
   {
    "duration": 52,
    "start_time": "2022-02-19T06:54:02.168Z"
   },
   {
    "duration": 18,
    "start_time": "2022-02-19T06:54:02.223Z"
   },
   {
    "duration": 24,
    "start_time": "2022-02-19T06:54:02.260Z"
   },
   {
    "duration": 6,
    "start_time": "2022-02-19T06:54:02.286Z"
   },
   {
    "duration": 24,
    "start_time": "2022-02-19T06:54:02.295Z"
   },
   {
    "duration": 41,
    "start_time": "2022-02-19T06:54:02.322Z"
   },
   {
    "duration": 25,
    "start_time": "2022-02-19T06:54:02.366Z"
   },
   {
    "duration": 10,
    "start_time": "2022-02-19T06:54:02.394Z"
   },
   {
    "duration": 9,
    "start_time": "2022-02-19T06:54:02.407Z"
   },
   {
    "duration": 27,
    "start_time": "2022-02-19T06:54:02.462Z"
   },
   {
    "duration": 28,
    "start_time": "2022-02-19T06:54:02.496Z"
   },
   {
    "duration": 57,
    "start_time": "2022-02-19T06:54:02.527Z"
   },
   {
    "duration": 14,
    "start_time": "2022-02-19T06:54:02.587Z"
   },
   {
    "duration": 15,
    "start_time": "2022-02-19T06:54:02.603Z"
   },
   {
    "duration": 42,
    "start_time": "2022-02-19T06:54:02.620Z"
   },
   {
    "duration": 17,
    "start_time": "2022-02-19T06:54:02.665Z"
   },
   {
    "duration": 9,
    "start_time": "2022-02-19T06:54:02.684Z"
   },
   {
    "duration": 18,
    "start_time": "2022-02-19T06:54:02.695Z"
   },
   {
    "duration": 45,
    "start_time": "2022-02-19T06:54:02.716Z"
   },
   {
    "duration": 8,
    "start_time": "2022-02-19T06:54:02.765Z"
   },
   {
    "duration": 7,
    "start_time": "2022-02-19T06:54:02.776Z"
   },
   {
    "duration": 16,
    "start_time": "2022-02-19T06:54:02.786Z"
   },
   {
    "duration": 15,
    "start_time": "2022-02-19T06:54:02.804Z"
   },
   {
    "duration": 27,
    "start_time": "2022-02-19T06:54:09.110Z"
   },
   {
    "duration": 20,
    "start_time": "2022-02-19T06:54:16.203Z"
   },
   {
    "duration": 810,
    "start_time": "2022-02-19T08:35:17.485Z"
   },
   {
    "duration": 20,
    "start_time": "2022-02-19T08:35:18.298Z"
   },
   {
    "duration": 12,
    "start_time": "2022-02-19T08:35:18.321Z"
   },
   {
    "duration": 23,
    "start_time": "2022-02-19T08:35:18.361Z"
   },
   {
    "duration": 7,
    "start_time": "2022-02-19T08:35:18.387Z"
   },
   {
    "duration": 12,
    "start_time": "2022-02-19T08:35:18.397Z"
   },
   {
    "duration": 81,
    "start_time": "2022-02-19T08:35:18.411Z"
   },
   {
    "duration": 8,
    "start_time": "2022-02-19T08:35:18.496Z"
   },
   {
    "duration": 8,
    "start_time": "2022-02-19T08:35:18.507Z"
   },
   {
    "duration": 6,
    "start_time": "2022-02-19T08:35:18.517Z"
   },
   {
    "duration": 37,
    "start_time": "2022-02-19T08:35:18.525Z"
   },
   {
    "duration": 4,
    "start_time": "2022-02-19T08:35:18.564Z"
   },
   {
    "duration": 48,
    "start_time": "2022-02-19T08:35:18.570Z"
   },
   {
    "duration": 16,
    "start_time": "2022-02-19T08:35:18.621Z"
   },
   {
    "duration": 22,
    "start_time": "2022-02-19T08:35:18.661Z"
   },
   {
    "duration": 6,
    "start_time": "2022-02-19T08:35:18.685Z"
   },
   {
    "duration": 21,
    "start_time": "2022-02-19T08:35:18.693Z"
   },
   {
    "duration": 48,
    "start_time": "2022-02-19T08:35:18.717Z"
   },
   {
    "duration": 27,
    "start_time": "2022-02-19T08:35:18.767Z"
   },
   {
    "duration": 7,
    "start_time": "2022-02-19T08:35:18.796Z"
   },
   {
    "duration": 9,
    "start_time": "2022-02-19T08:35:18.805Z"
   },
   {
    "duration": 61,
    "start_time": "2022-02-19T08:35:18.816Z"
   },
   {
    "duration": 27,
    "start_time": "2022-02-19T08:35:18.881Z"
   },
   {
    "duration": 52,
    "start_time": "2022-02-19T08:35:18.911Z"
   },
   {
    "duration": 18,
    "start_time": "2022-02-19T08:35:18.966Z"
   },
   {
    "duration": 16,
    "start_time": "2022-02-19T08:35:18.987Z"
   },
   {
    "duration": 12,
    "start_time": "2022-02-19T08:35:19.005Z"
   },
   {
    "duration": 48,
    "start_time": "2022-02-19T08:35:19.019Z"
   },
   {
    "duration": 6,
    "start_time": "2022-02-19T08:35:19.070Z"
   },
   {
    "duration": 23,
    "start_time": "2022-02-19T08:35:19.078Z"
   },
   {
    "duration": 20,
    "start_time": "2022-02-19T08:35:19.103Z"
   },
   {
    "duration": 6,
    "start_time": "2022-02-19T08:35:19.126Z"
   },
   {
    "duration": 30,
    "start_time": "2022-02-19T08:35:19.135Z"
   },
   {
    "duration": 6,
    "start_time": "2022-02-19T08:35:19.168Z"
   },
   {
    "duration": 14,
    "start_time": "2022-02-19T08:35:19.176Z"
   },
   {
    "duration": 17,
    "start_time": "2022-02-19T08:35:19.193Z"
   },
   {
    "duration": 20,
    "start_time": "2022-02-19T08:40:32.649Z"
   },
   {
    "duration": 816,
    "start_time": "2022-02-19T08:41:46.687Z"
   },
   {
    "duration": 19,
    "start_time": "2022-02-19T08:42:34.871Z"
   },
   {
    "duration": 16,
    "start_time": "2022-02-19T09:08:55.940Z"
   },
   {
    "duration": 21,
    "start_time": "2022-02-19T09:17:25.574Z"
   },
   {
    "duration": 329,
    "start_time": "2022-02-19T11:12:44.143Z"
   },
   {
    "duration": 813,
    "start_time": "2022-02-19T11:12:56.892Z"
   },
   {
    "duration": 21,
    "start_time": "2022-02-19T11:12:57.708Z"
   },
   {
    "duration": 33,
    "start_time": "2022-02-19T11:12:57.732Z"
   },
   {
    "duration": 23,
    "start_time": "2022-02-19T11:12:57.768Z"
   },
   {
    "duration": 9,
    "start_time": "2022-02-19T11:12:57.794Z"
   },
   {
    "duration": 12,
    "start_time": "2022-02-19T11:12:57.806Z"
   },
   {
    "duration": 81,
    "start_time": "2022-02-19T11:12:57.820Z"
   },
   {
    "duration": 7,
    "start_time": "2022-02-19T11:12:57.905Z"
   },
   {
    "duration": 9,
    "start_time": "2022-02-19T11:12:57.915Z"
   },
   {
    "duration": 37,
    "start_time": "2022-02-19T11:12:57.926Z"
   },
   {
    "duration": 6,
    "start_time": "2022-02-19T11:12:57.967Z"
   },
   {
    "duration": 5,
    "start_time": "2022-02-19T11:12:57.975Z"
   },
   {
    "duration": 79,
    "start_time": "2022-02-19T11:12:57.983Z"
   },
   {
    "duration": 17,
    "start_time": "2022-02-19T11:12:58.065Z"
   },
   {
    "duration": 21,
    "start_time": "2022-02-19T11:12:58.084Z"
   },
   {
    "duration": 6,
    "start_time": "2022-02-19T11:12:58.108Z"
   },
   {
    "duration": 60,
    "start_time": "2022-02-19T11:12:58.116Z"
   },
   {
    "duration": 6,
    "start_time": "2022-02-19T11:12:58.179Z"
   },
   {
    "duration": 25,
    "start_time": "2022-02-19T11:12:58.187Z"
   },
   {
    "duration": 6,
    "start_time": "2022-02-19T11:12:58.215Z"
   },
   {
    "duration": 9,
    "start_time": "2022-02-19T11:12:58.260Z"
   },
   {
    "duration": 26,
    "start_time": "2022-02-19T11:12:58.271Z"
   },
   {
    "duration": 29,
    "start_time": "2022-02-19T11:12:58.301Z"
   },
   {
    "duration": 48,
    "start_time": "2022-02-19T11:12:58.333Z"
   },
   {
    "duration": 15,
    "start_time": "2022-02-19T11:12:58.383Z"
   },
   {
    "duration": 15,
    "start_time": "2022-02-19T11:12:58.401Z"
   },
   {
    "duration": 47,
    "start_time": "2022-02-19T11:12:58.420Z"
   },
   {
    "duration": 19,
    "start_time": "2022-02-19T11:12:58.470Z"
   },
   {
    "duration": 6,
    "start_time": "2022-02-19T11:12:58.491Z"
   },
   {
    "duration": 23,
    "start_time": "2022-02-19T11:12:58.500Z"
   },
   {
    "duration": 45,
    "start_time": "2022-02-19T11:12:58.526Z"
   },
   {
    "duration": 5,
    "start_time": "2022-02-19T11:12:58.574Z"
   },
   {
    "duration": 8,
    "start_time": "2022-02-19T11:12:58.581Z"
   },
   {
    "duration": 8,
    "start_time": "2022-02-19T11:12:58.591Z"
   },
   {
    "duration": 16,
    "start_time": "2022-02-19T11:12:58.601Z"
   },
   {
    "duration": 51,
    "start_time": "2022-02-19T11:12:58.619Z"
   },
   {
    "duration": 741,
    "start_time": "2022-02-19T11:12:58.673Z"
   },
   {
    "duration": 19,
    "start_time": "2022-02-19T11:12:59.417Z"
   },
   {
    "duration": 39,
    "start_time": "2022-02-19T11:12:59.438Z"
   },
   {
    "duration": 16,
    "start_time": "2022-02-19T11:13:05.452Z"
   },
   {
    "duration": 17,
    "start_time": "2022-02-19T11:43:38.096Z"
   },
   {
    "duration": 923,
    "start_time": "2022-02-19T17:17:18.637Z"
   },
   {
    "duration": 21,
    "start_time": "2022-02-19T17:17:19.562Z"
   },
   {
    "duration": 12,
    "start_time": "2022-02-19T17:17:19.586Z"
   },
   {
    "duration": 60,
    "start_time": "2022-02-19T17:17:19.601Z"
   },
   {
    "duration": 10,
    "start_time": "2022-02-19T17:17:19.664Z"
   },
   {
    "duration": 12,
    "start_time": "2022-02-19T17:17:19.676Z"
   },
   {
    "duration": 75,
    "start_time": "2022-02-19T17:17:19.691Z"
   },
   {
    "duration": 9,
    "start_time": "2022-02-19T17:17:19.770Z"
   },
   {
    "duration": 11,
    "start_time": "2022-02-19T17:17:19.782Z"
   },
   {
    "duration": 5,
    "start_time": "2022-02-19T17:17:19.796Z"
   },
   {
    "duration": 8,
    "start_time": "2022-02-19T17:17:19.804Z"
   },
   {
    "duration": 50,
    "start_time": "2022-02-19T17:17:19.814Z"
   },
   {
    "duration": 53,
    "start_time": "2022-02-19T17:17:19.866Z"
   },
   {
    "duration": 46,
    "start_time": "2022-02-19T17:17:19.922Z"
   },
   {
    "duration": 23,
    "start_time": "2022-02-19T17:17:19.970Z"
   },
   {
    "duration": 7,
    "start_time": "2022-02-19T17:17:19.996Z"
   },
   {
    "duration": 58,
    "start_time": "2022-02-19T17:17:20.005Z"
   },
   {
    "duration": 8,
    "start_time": "2022-02-19T17:17:20.066Z"
   },
   {
    "duration": 28,
    "start_time": "2022-02-19T17:17:20.077Z"
   },
   {
    "duration": 7,
    "start_time": "2022-02-19T17:17:20.107Z"
   },
   {
    "duration": 8,
    "start_time": "2022-02-19T17:17:20.117Z"
   },
   {
    "duration": 27,
    "start_time": "2022-02-19T17:17:20.162Z"
   },
   {
    "duration": 30,
    "start_time": "2022-02-19T17:17:20.194Z"
   },
   {
    "duration": 58,
    "start_time": "2022-02-19T17:17:20.227Z"
   },
   {
    "duration": 28,
    "start_time": "2022-02-19T17:17:20.288Z"
   },
   {
    "duration": 44,
    "start_time": "2022-02-19T17:17:20.319Z"
   },
   {
    "duration": 8,
    "start_time": "2022-02-19T17:17:20.367Z"
   },
   {
    "duration": 17,
    "start_time": "2022-02-19T17:17:20.378Z"
   },
   {
    "duration": 6,
    "start_time": "2022-02-19T17:17:20.398Z"
   },
   {
    "duration": 54,
    "start_time": "2022-02-19T17:17:20.407Z"
   },
   {
    "duration": 18,
    "start_time": "2022-02-19T17:17:20.463Z"
   },
   {
    "duration": 12,
    "start_time": "2022-02-19T17:17:20.484Z"
   },
   {
    "duration": 10,
    "start_time": "2022-02-19T17:17:20.499Z"
   },
   {
    "duration": 7,
    "start_time": "2022-02-19T17:17:20.512Z"
   },
   {
    "duration": 45,
    "start_time": "2022-02-19T17:17:20.522Z"
   },
   {
    "duration": 24,
    "start_time": "2022-02-19T17:17:20.570Z"
   },
   {
    "duration": 798,
    "start_time": "2022-02-19T17:17:20.596Z"
   },
   {
    "duration": 20,
    "start_time": "2022-02-19T17:17:21.398Z"
   },
   {
    "duration": 49,
    "start_time": "2022-02-19T17:17:21.421Z"
   },
   {
    "duration": 15,
    "start_time": "2022-02-19T17:17:21.473Z"
   },
   {
    "duration": 17,
    "start_time": "2022-02-19T17:17:21.491Z"
   },
   {
    "duration": 415,
    "start_time": "2022-02-19T17:45:44.739Z"
   },
   {
    "duration": 139,
    "start_time": "2022-02-19T17:46:04.904Z"
   },
   {
    "duration": 51,
    "start_time": "2022-02-19T17:48:09.955Z"
   },
   {
    "duration": 881,
    "start_time": "2022-02-20T07:05:00.721Z"
   },
   {
    "duration": 24,
    "start_time": "2022-02-20T07:05:01.604Z"
   },
   {
    "duration": 16,
    "start_time": "2022-02-20T07:05:01.632Z"
   },
   {
    "duration": 35,
    "start_time": "2022-02-20T07:05:01.651Z"
   },
   {
    "duration": 9,
    "start_time": "2022-02-20T07:05:01.688Z"
   },
   {
    "duration": 37,
    "start_time": "2022-02-20T07:05:01.699Z"
   },
   {
    "duration": 50,
    "start_time": "2022-02-20T07:05:01.739Z"
   },
   {
    "duration": 7,
    "start_time": "2022-02-20T07:05:01.793Z"
   },
   {
    "duration": 29,
    "start_time": "2022-02-20T07:05:01.803Z"
   },
   {
    "duration": 22,
    "start_time": "2022-02-20T07:05:01.834Z"
   },
   {
    "duration": 13,
    "start_time": "2022-02-20T07:05:01.858Z"
   },
   {
    "duration": 11,
    "start_time": "2022-02-20T07:05:01.873Z"
   },
   {
    "duration": 59,
    "start_time": "2022-02-20T07:05:01.886Z"
   },
   {
    "duration": 18,
    "start_time": "2022-02-20T07:05:01.947Z"
   },
   {
    "duration": 37,
    "start_time": "2022-02-20T07:05:01.967Z"
   },
   {
    "duration": 21,
    "start_time": "2022-02-20T07:05:02.006Z"
   },
   {
    "duration": 23,
    "start_time": "2022-02-20T07:05:02.030Z"
   },
   {
    "duration": 11,
    "start_time": "2022-02-20T07:05:02.055Z"
   },
   {
    "duration": 64,
    "start_time": "2022-02-20T07:05:02.068Z"
   },
   {
    "duration": 7,
    "start_time": "2022-02-20T07:05:02.135Z"
   },
   {
    "duration": 14,
    "start_time": "2022-02-20T07:05:02.144Z"
   },
   {
    "duration": 27,
    "start_time": "2022-02-20T07:05:02.160Z"
   },
   {
    "duration": 66,
    "start_time": "2022-02-20T07:05:02.192Z"
   },
   {
    "duration": 27,
    "start_time": "2022-02-20T07:05:02.262Z"
   },
   {
    "duration": 37,
    "start_time": "2022-02-20T07:05:02.291Z"
   },
   {
    "duration": 19,
    "start_time": "2022-02-20T07:05:02.331Z"
   },
   {
    "duration": 14,
    "start_time": "2022-02-20T07:05:02.353Z"
   },
   {
    "duration": 20,
    "start_time": "2022-02-20T07:05:02.370Z"
   },
   {
    "duration": 37,
    "start_time": "2022-02-20T07:05:02.393Z"
   },
   {
    "duration": 20,
    "start_time": "2022-02-20T07:05:02.433Z"
   },
   {
    "duration": 24,
    "start_time": "2022-02-20T07:05:02.456Z"
   },
   {
    "duration": 12,
    "start_time": "2022-02-20T07:05:02.482Z"
   },
   {
    "duration": 29,
    "start_time": "2022-02-20T07:05:02.496Z"
   },
   {
    "duration": 6,
    "start_time": "2022-02-20T07:05:02.528Z"
   },
   {
    "duration": 25,
    "start_time": "2022-02-20T07:05:02.536Z"
   },
   {
    "duration": 23,
    "start_time": "2022-02-20T07:05:02.564Z"
   },
   {
    "duration": 708,
    "start_time": "2022-02-20T07:05:02.590Z"
   },
   {
    "duration": 32,
    "start_time": "2022-02-20T07:05:03.301Z"
   },
   {
    "duration": 20,
    "start_time": "2022-02-20T07:05:03.335Z"
   },
   {
    "duration": 15,
    "start_time": "2022-02-20T07:05:03.357Z"
   },
   {
    "duration": 55,
    "start_time": "2022-02-20T07:05:03.374Z"
   },
   {
    "duration": 10,
    "start_time": "2022-02-20T07:21:57.281Z"
   },
   {
    "duration": 79,
    "start_time": "2022-02-20T07:22:11.030Z"
   },
   {
    "duration": 17,
    "start_time": "2022-02-20T07:22:11.112Z"
   },
   {
    "duration": 18,
    "start_time": "2022-02-20T07:22:11.132Z"
   },
   {
    "duration": 9,
    "start_time": "2022-02-20T07:22:17.391Z"
   },
   {
    "duration": 9,
    "start_time": "2022-02-20T07:24:35.619Z"
   },
   {
    "duration": 25,
    "start_time": "2022-02-20T08:14:03.455Z"
   },
   {
    "duration": 14,
    "start_time": "2022-02-20T08:14:16.240Z"
   },
   {
    "duration": 5,
    "start_time": "2022-02-20T08:26:16.342Z"
   },
   {
    "duration": 1123,
    "start_time": "2022-02-20T08:28:50.203Z"
   },
   {
    "duration": 16,
    "start_time": "2022-02-20T08:31:32.569Z"
   },
   {
    "duration": 22,
    "start_time": "2022-02-20T08:34:35.997Z"
   },
   {
    "duration": 15,
    "start_time": "2022-02-20T08:35:08.622Z"
   },
   {
    "duration": 6,
    "start_time": "2022-02-20T08:40:12.268Z"
   },
   {
    "duration": 1279,
    "start_time": "2022-02-20T08:41:14.452Z"
   },
   {
    "duration": 465,
    "start_time": "2022-02-20T08:42:29.648Z"
   },
   {
    "duration": 16,
    "start_time": "2022-02-20T08:43:12.746Z"
   },
   {
    "duration": 279,
    "start_time": "2022-02-20T08:43:57.400Z"
   },
   {
    "duration": 303,
    "start_time": "2022-02-20T08:44:43.255Z"
   },
   {
    "duration": 311,
    "start_time": "2022-02-20T08:44:54.448Z"
   },
   {
    "duration": 269,
    "start_time": "2022-02-20T08:45:22.058Z"
   },
   {
    "duration": 276,
    "start_time": "2022-02-20T08:45:44.950Z"
   },
   {
    "duration": 270,
    "start_time": "2022-02-20T08:45:59.396Z"
   },
   {
    "duration": 283,
    "start_time": "2022-02-20T08:46:14.053Z"
   },
   {
    "duration": 268,
    "start_time": "2022-02-20T08:46:41.922Z"
   },
   {
    "duration": 13,
    "start_time": "2022-02-20T08:46:56.183Z"
   },
   {
    "duration": 15,
    "start_time": "2022-02-20T08:47:31.540Z"
   },
   {
    "duration": 41,
    "start_time": "2022-02-20T08:57:50.759Z"
   },
   {
    "duration": 934,
    "start_time": "2022-02-20T08:58:11.488Z"
   },
   {
    "duration": 55,
    "start_time": "2022-02-20T08:58:12.426Z"
   },
   {
    "duration": 13,
    "start_time": "2022-02-20T08:58:12.485Z"
   },
   {
    "duration": 43,
    "start_time": "2022-02-20T08:58:12.500Z"
   },
   {
    "duration": 34,
    "start_time": "2022-02-20T08:58:12.546Z"
   },
   {
    "duration": 23,
    "start_time": "2022-02-20T08:58:12.583Z"
   },
   {
    "duration": 17,
    "start_time": "2022-02-20T08:58:12.609Z"
   },
   {
    "duration": 1162,
    "start_time": "2022-02-20T08:58:12.631Z"
   },
   {
    "duration": 30,
    "start_time": "2022-02-20T08:58:13.796Z"
   },
   {
    "duration": 31,
    "start_time": "2022-02-20T08:58:13.828Z"
   },
   {
    "duration": 11,
    "start_time": "2022-02-20T08:58:13.861Z"
   },
   {
    "duration": 6,
    "start_time": "2022-02-20T08:58:13.875Z"
   },
   {
    "duration": 1271,
    "start_time": "2022-02-20T08:58:13.883Z"
   },
   {
    "duration": 14,
    "start_time": "2022-02-20T08:58:15.156Z"
   },
   {
    "duration": 76,
    "start_time": "2022-02-20T08:58:15.173Z"
   },
   {
    "duration": 8,
    "start_time": "2022-02-20T08:58:15.251Z"
   },
   {
    "duration": 11,
    "start_time": "2022-02-20T08:58:15.262Z"
   },
   {
    "duration": 8,
    "start_time": "2022-02-20T08:58:15.275Z"
   },
   {
    "duration": 42,
    "start_time": "2022-02-20T08:58:15.286Z"
   },
   {
    "duration": 19,
    "start_time": "2022-02-20T08:58:15.331Z"
   },
   {
    "duration": 57,
    "start_time": "2022-02-20T08:58:15.352Z"
   },
   {
    "duration": 34,
    "start_time": "2022-02-20T08:58:15.412Z"
   },
   {
    "duration": 29,
    "start_time": "2022-02-20T08:58:15.454Z"
   },
   {
    "duration": 6,
    "start_time": "2022-02-20T08:58:15.486Z"
   },
   {
    "duration": 59,
    "start_time": "2022-02-20T08:58:15.494Z"
   },
   {
    "duration": 11,
    "start_time": "2022-02-20T08:58:15.556Z"
   },
   {
    "duration": 32,
    "start_time": "2022-02-20T08:58:15.570Z"
   },
   {
    "duration": 19,
    "start_time": "2022-02-20T08:58:15.626Z"
   },
   {
    "duration": 13,
    "start_time": "2022-02-20T08:58:15.648Z"
   },
   {
    "duration": 27,
    "start_time": "2022-02-20T08:58:15.664Z"
   },
   {
    "duration": 64,
    "start_time": "2022-02-20T08:58:15.693Z"
   },
   {
    "duration": 28,
    "start_time": "2022-02-20T08:58:15.760Z"
   },
   {
    "duration": 38,
    "start_time": "2022-02-20T08:58:15.790Z"
   },
   {
    "duration": 22,
    "start_time": "2022-02-20T08:58:15.831Z"
   },
   {
    "duration": 20,
    "start_time": "2022-02-20T08:58:15.856Z"
   },
   {
    "duration": 26,
    "start_time": "2022-02-20T08:58:15.878Z"
   },
   {
    "duration": 27,
    "start_time": "2022-02-20T08:58:15.907Z"
   },
   {
    "duration": 49,
    "start_time": "2022-02-20T08:58:15.936Z"
   },
   {
    "duration": 40,
    "start_time": "2022-02-20T08:58:15.987Z"
   },
   {
    "duration": 25,
    "start_time": "2022-02-20T08:58:16.030Z"
   },
   {
    "duration": 25,
    "start_time": "2022-02-20T08:58:16.058Z"
   },
   {
    "duration": 16,
    "start_time": "2022-02-20T08:58:16.085Z"
   },
   {
    "duration": 32,
    "start_time": "2022-02-20T08:58:16.104Z"
   },
   {
    "duration": 37,
    "start_time": "2022-02-20T08:58:16.139Z"
   },
   {
    "duration": 766,
    "start_time": "2022-02-20T08:58:16.178Z"
   },
   {
    "duration": 18,
    "start_time": "2022-02-20T08:58:16.947Z"
   },
   {
    "duration": 35,
    "start_time": "2022-02-20T08:58:16.967Z"
   },
   {
    "duration": 43,
    "start_time": "2022-02-20T08:58:17.005Z"
   },
   {
    "duration": 33,
    "start_time": "2022-02-20T08:58:17.051Z"
   },
   {
    "duration": 8,
    "start_time": "2022-02-20T09:07:07.681Z"
   },
   {
    "duration": 7,
    "start_time": "2022-02-20T09:07:40.813Z"
   },
   {
    "duration": 58,
    "start_time": "2022-02-20T09:08:03.182Z"
   },
   {
    "duration": 80,
    "start_time": "2022-02-20T09:08:21.139Z"
   },
   {
    "duration": 44,
    "start_time": "2022-02-20T09:08:21.222Z"
   },
   {
    "duration": 9,
    "start_time": "2022-02-20T09:08:21.269Z"
   },
   {
    "duration": 50,
    "start_time": "2022-02-20T09:08:21.280Z"
   },
   {
    "duration": 13,
    "start_time": "2022-02-20T09:08:21.333Z"
   },
   {
    "duration": 11,
    "start_time": "2022-02-20T09:08:21.349Z"
   },
   {
    "duration": 1210,
    "start_time": "2022-02-20T09:08:21.362Z"
   },
   {
    "duration": 6,
    "start_time": "2022-02-20T09:08:22.575Z"
   },
   {
    "duration": 49,
    "start_time": "2022-02-20T09:08:22.584Z"
   },
   {
    "duration": 11,
    "start_time": "2022-02-20T09:08:22.641Z"
   },
   {
    "duration": 6,
    "start_time": "2022-02-20T09:08:22.655Z"
   },
   {
    "duration": 1153,
    "start_time": "2022-02-20T09:08:22.663Z"
   },
   {
    "duration": 10,
    "start_time": "2022-02-20T09:08:23.819Z"
   },
   {
    "duration": 64,
    "start_time": "2022-02-20T09:08:23.832Z"
   },
   {
    "duration": 8,
    "start_time": "2022-02-20T09:15:57.988Z"
   },
   {
    "duration": 11,
    "start_time": "2022-02-20T09:16:55.643Z"
   },
   {
    "duration": 5,
    "start_time": "2022-02-20T09:26:24.752Z"
   },
   {
    "duration": 49,
    "start_time": "2022-02-20T09:26:26.771Z"
   },
   {
    "duration": 76,
    "start_time": "2022-02-20T09:27:05.746Z"
   },
   {
    "duration": 41,
    "start_time": "2022-02-20T09:27:05.825Z"
   },
   {
    "duration": 9,
    "start_time": "2022-02-20T09:27:05.869Z"
   },
   {
    "duration": 61,
    "start_time": "2022-02-20T09:27:05.882Z"
   },
   {
    "duration": 14,
    "start_time": "2022-02-20T09:27:05.946Z"
   },
   {
    "duration": 6,
    "start_time": "2022-02-20T09:27:05.963Z"
   },
   {
    "duration": 1112,
    "start_time": "2022-02-20T09:27:05.972Z"
   },
   {
    "duration": 8,
    "start_time": "2022-02-20T09:27:07.089Z"
   },
   {
    "duration": 45,
    "start_time": "2022-02-20T09:27:07.099Z"
   },
   {
    "duration": 13,
    "start_time": "2022-02-20T09:27:07.146Z"
   },
   {
    "duration": 6,
    "start_time": "2022-02-20T09:27:07.162Z"
   },
   {
    "duration": 1082,
    "start_time": "2022-02-20T09:27:07.171Z"
   },
   {
    "duration": 6,
    "start_time": "2022-02-20T09:27:08.255Z"
   },
   {
    "duration": 71,
    "start_time": "2022-02-20T09:27:08.264Z"
   },
   {
    "duration": 7,
    "start_time": "2022-02-20T09:27:08.338Z"
   },
   {
    "duration": 9,
    "start_time": "2022-02-20T09:27:08.347Z"
   },
   {
    "duration": 5,
    "start_time": "2022-02-20T09:27:08.358Z"
   },
   {
    "duration": 5,
    "start_time": "2022-02-20T09:27:08.366Z"
   },
   {
    "duration": 52,
    "start_time": "2022-02-20T09:27:08.374Z"
   },
   {
    "duration": 48,
    "start_time": "2022-02-20T09:27:08.429Z"
   },
   {
    "duration": 14,
    "start_time": "2022-02-20T10:00:51.505Z"
   },
   {
    "duration": 10,
    "start_time": "2022-02-20T10:12:01.563Z"
   },
   {
    "duration": 5,
    "start_time": "2022-02-20T10:14:32.685Z"
   },
   {
    "duration": 9,
    "start_time": "2022-02-20T10:14:42.876Z"
   },
   {
    "duration": 57,
    "start_time": "2022-02-20T10:16:06.442Z"
   },
   {
    "duration": 123,
    "start_time": "2022-02-20T10:19:54.457Z"
   },
   {
    "duration": 83,
    "start_time": "2022-02-20T10:25:33.236Z"
   },
   {
    "duration": 10,
    "start_time": "2022-02-20T10:25:39.726Z"
   },
   {
    "duration": 19,
    "start_time": "2022-02-20T10:27:27.803Z"
   },
   {
    "duration": 11,
    "start_time": "2022-02-20T10:27:41.874Z"
   },
   {
    "duration": 32,
    "start_time": "2022-02-20T10:28:28.816Z"
   },
   {
    "duration": 7,
    "start_time": "2022-02-20T10:30:05.154Z"
   },
   {
    "duration": 21,
    "start_time": "2022-02-20T10:30:19.913Z"
   },
   {
    "duration": 313,
    "start_time": "2022-02-20T12:48:51.991Z"
   },
   {
    "duration": 672,
    "start_time": "2022-02-20T12:49:06.317Z"
   },
   {
    "duration": 36,
    "start_time": "2022-02-20T12:49:06.992Z"
   },
   {
    "duration": 8,
    "start_time": "2022-02-20T12:49:07.031Z"
   },
   {
    "duration": 42,
    "start_time": "2022-02-20T12:49:07.041Z"
   },
   {
    "duration": 9,
    "start_time": "2022-02-20T12:49:07.085Z"
   },
   {
    "duration": 9,
    "start_time": "2022-02-20T12:49:07.095Z"
   },
   {
    "duration": 701,
    "start_time": "2022-02-20T12:49:07.106Z"
   },
   {
    "duration": 5,
    "start_time": "2022-02-20T12:49:07.810Z"
   },
   {
    "duration": 22,
    "start_time": "2022-02-20T12:49:07.817Z"
   },
   {
    "duration": 8,
    "start_time": "2022-02-20T12:49:07.841Z"
   },
   {
    "duration": 5,
    "start_time": "2022-02-20T12:49:07.851Z"
   },
   {
    "duration": 697,
    "start_time": "2022-02-20T12:49:07.869Z"
   },
   {
    "duration": 4,
    "start_time": "2022-02-20T12:49:08.568Z"
   },
   {
    "duration": 40,
    "start_time": "2022-02-20T12:49:08.574Z"
   },
   {
    "duration": 6,
    "start_time": "2022-02-20T12:49:08.616Z"
   },
   {
    "duration": 7,
    "start_time": "2022-02-20T12:49:08.624Z"
   },
   {
    "duration": 37,
    "start_time": "2022-02-20T12:49:08.632Z"
   },
   {
    "duration": 4,
    "start_time": "2022-02-20T12:49:08.671Z"
   },
   {
    "duration": 7,
    "start_time": "2022-02-20T12:49:08.676Z"
   },
   {
    "duration": 36,
    "start_time": "2022-02-20T12:49:08.685Z"
   },
   {
    "duration": 6,
    "start_time": "2022-02-20T12:49:08.722Z"
   },
   {
    "duration": 11,
    "start_time": "2022-02-20T12:49:08.730Z"
   },
   {
    "duration": 4,
    "start_time": "2022-02-20T12:49:08.769Z"
   },
   {
    "duration": 61,
    "start_time": "2022-02-20T12:49:08.776Z"
   },
   {
    "duration": 6,
    "start_time": "2022-02-20T12:49:08.839Z"
   },
   {
    "duration": 35,
    "start_time": "2022-02-20T12:49:08.846Z"
   },
   {
    "duration": 44,
    "start_time": "2022-02-20T12:49:08.884Z"
   },
   {
    "duration": 290,
    "start_time": "2022-02-20T13:00:11.799Z"
   },
   {
    "duration": 67,
    "start_time": "2022-02-20T13:00:25.176Z"
   },
   {
    "duration": 44,
    "start_time": "2022-02-20T13:00:25.246Z"
   },
   {
    "duration": 7,
    "start_time": "2022-02-20T13:00:25.293Z"
   },
   {
    "duration": 20,
    "start_time": "2022-02-20T13:00:25.302Z"
   },
   {
    "duration": 9,
    "start_time": "2022-02-20T13:00:25.324Z"
   },
   {
    "duration": 6,
    "start_time": "2022-02-20T13:00:25.368Z"
   },
   {
    "duration": 765,
    "start_time": "2022-02-20T13:00:25.376Z"
   },
   {
    "duration": 5,
    "start_time": "2022-02-20T13:00:26.145Z"
   },
   {
    "duration": 29,
    "start_time": "2022-02-20T13:00:26.153Z"
   },
   {
    "duration": 9,
    "start_time": "2022-02-20T13:00:26.184Z"
   },
   {
    "duration": 7,
    "start_time": "2022-02-20T13:00:26.195Z"
   },
   {
    "duration": 768,
    "start_time": "2022-02-20T13:00:26.204Z"
   },
   {
    "duration": 5,
    "start_time": "2022-02-20T13:00:26.974Z"
   },
   {
    "duration": 37,
    "start_time": "2022-02-20T13:00:26.981Z"
   },
   {
    "duration": 6,
    "start_time": "2022-02-20T13:00:27.020Z"
   },
   {
    "duration": 9,
    "start_time": "2022-02-20T13:00:27.028Z"
   },
   {
    "duration": 34,
    "start_time": "2022-02-20T13:00:27.039Z"
   },
   {
    "duration": 6,
    "start_time": "2022-02-20T13:00:27.075Z"
   },
   {
    "duration": 7,
    "start_time": "2022-02-20T13:00:27.083Z"
   },
   {
    "duration": 45,
    "start_time": "2022-02-20T13:00:27.092Z"
   },
   {
    "duration": 31,
    "start_time": "2022-02-20T13:00:27.139Z"
   },
   {
    "duration": 10,
    "start_time": "2022-02-20T13:00:27.172Z"
   },
   {
    "duration": 8,
    "start_time": "2022-02-20T13:00:27.187Z"
   },
   {
    "duration": 95,
    "start_time": "2022-02-20T13:00:27.197Z"
   },
   {
    "duration": 5,
    "start_time": "2022-02-20T13:00:27.294Z"
   },
   {
    "duration": 17,
    "start_time": "2022-02-20T13:00:27.301Z"
   },
   {
    "duration": 19,
    "start_time": "2022-02-20T13:00:27.320Z"
   },
   {
    "duration": 38,
    "start_time": "2022-02-20T13:00:27.341Z"
   },
   {
    "duration": 6,
    "start_time": "2022-02-20T13:00:27.381Z"
   },
   {
    "duration": 19,
    "start_time": "2022-02-20T13:00:27.389Z"
   },
   {
    "duration": 12,
    "start_time": "2022-02-20T13:00:27.410Z"
   },
   {
    "duration": 27,
    "start_time": "2022-02-20T13:00:27.424Z"
   },
   {
    "duration": 10,
    "start_time": "2022-02-20T13:00:27.470Z"
   },
   {
    "duration": 10,
    "start_time": "2022-02-20T13:00:27.482Z"
   },
   {
    "duration": 23,
    "start_time": "2022-02-20T13:00:27.494Z"
   },
   {
    "duration": 23,
    "start_time": "2022-02-20T13:00:27.519Z"
   },
   {
    "duration": 41,
    "start_time": "2022-02-20T13:00:27.544Z"
   },
   {
    "duration": 265,
    "start_time": "2022-02-20T13:00:27.587Z"
   },
   {
    "duration": 261,
    "start_time": "2022-02-20T13:00:36.293Z"
   },
   {
    "duration": 2552,
    "start_time": "2022-02-20T13:00:53.662Z"
   },
   {
    "duration": 37,
    "start_time": "2022-02-20T13:00:56.216Z"
   },
   {
    "duration": 19,
    "start_time": "2022-02-20T13:00:56.256Z"
   },
   {
    "duration": 22,
    "start_time": "2022-02-20T13:00:56.278Z"
   },
   {
    "duration": 9,
    "start_time": "2022-02-20T13:00:56.302Z"
   },
   {
    "duration": 7,
    "start_time": "2022-02-20T13:00:56.313Z"
   },
   {
    "duration": 730,
    "start_time": "2022-02-20T13:00:56.322Z"
   },
   {
    "duration": 4,
    "start_time": "2022-02-20T13:00:57.055Z"
   },
   {
    "duration": 17,
    "start_time": "2022-02-20T13:00:57.070Z"
   },
   {
    "duration": 8,
    "start_time": "2022-02-20T13:00:57.089Z"
   },
   {
    "duration": 7,
    "start_time": "2022-02-20T13:00:57.099Z"
   },
   {
    "duration": 694,
    "start_time": "2022-02-20T13:00:57.107Z"
   },
   {
    "duration": 5,
    "start_time": "2022-02-20T13:00:57.803Z"
   },
   {
    "duration": 36,
    "start_time": "2022-02-20T13:00:57.809Z"
   },
   {
    "duration": 6,
    "start_time": "2022-02-20T13:00:57.847Z"
   },
   {
    "duration": 6,
    "start_time": "2022-02-20T13:00:57.870Z"
   },
   {
    "duration": 6,
    "start_time": "2022-02-20T13:00:57.877Z"
   },
   {
    "duration": 31,
    "start_time": "2022-02-20T13:00:57.885Z"
   },
   {
    "duration": 6,
    "start_time": "2022-02-20T13:00:57.917Z"
   },
   {
    "duration": 40,
    "start_time": "2022-02-20T13:00:57.925Z"
   },
   {
    "duration": 6,
    "start_time": "2022-02-20T13:00:57.967Z"
   },
   {
    "duration": 10,
    "start_time": "2022-02-20T13:00:57.974Z"
   },
   {
    "duration": 6,
    "start_time": "2022-02-20T13:00:57.988Z"
   },
   {
    "duration": 82,
    "start_time": "2022-02-20T13:00:57.996Z"
   },
   {
    "duration": 5,
    "start_time": "2022-02-20T13:00:58.080Z"
   },
   {
    "duration": 24,
    "start_time": "2022-02-20T13:00:58.087Z"
   },
   {
    "duration": 15,
    "start_time": "2022-02-20T13:00:58.113Z"
   },
   {
    "duration": 17,
    "start_time": "2022-02-20T13:00:58.130Z"
   },
   {
    "duration": 6,
    "start_time": "2022-02-20T13:00:58.170Z"
   },
   {
    "duration": 26,
    "start_time": "2022-02-20T13:00:58.178Z"
   },
   {
    "duration": 12,
    "start_time": "2022-02-20T13:00:58.206Z"
   },
   {
    "duration": 34,
    "start_time": "2022-02-20T13:00:58.220Z"
   },
   {
    "duration": 7,
    "start_time": "2022-02-20T13:00:58.270Z"
   },
   {
    "duration": 10,
    "start_time": "2022-02-20T13:00:58.279Z"
   },
   {
    "duration": 22,
    "start_time": "2022-02-20T13:00:58.291Z"
   },
   {
    "duration": 21,
    "start_time": "2022-02-20T13:00:58.315Z"
   },
   {
    "duration": 18,
    "start_time": "2022-02-20T13:00:58.369Z"
   },
   {
    "duration": 331,
    "start_time": "2022-02-20T13:00:58.389Z"
   },
   {
    "duration": -547,
    "start_time": "2022-02-20T13:00:59.269Z"
   },
   {
    "duration": -553,
    "start_time": "2022-02-20T13:00:59.277Z"
   },
   {
    "duration": -566,
    "start_time": "2022-02-20T13:00:59.292Z"
   },
   {
    "duration": -573,
    "start_time": "2022-02-20T13:00:59.300Z"
   },
   {
    "duration": -576,
    "start_time": "2022-02-20T13:00:59.305Z"
   },
   {
    "duration": -582,
    "start_time": "2022-02-20T13:00:59.312Z"
   },
   {
    "duration": -585,
    "start_time": "2022-02-20T13:00:59.317Z"
   },
   {
    "duration": -615,
    "start_time": "2022-02-20T13:00:59.348Z"
   },
   {
    "duration": -626,
    "start_time": "2022-02-20T13:00:59.361Z"
   },
   {
    "duration": -635,
    "start_time": "2022-02-20T13:00:59.371Z"
   },
   {
    "duration": -640,
    "start_time": "2022-02-20T13:00:59.378Z"
   },
   {
    "duration": -646,
    "start_time": "2022-02-20T13:00:59.386Z"
   },
   {
    "duration": -652,
    "start_time": "2022-02-20T13:00:59.393Z"
   },
   {
    "duration": -657,
    "start_time": "2022-02-20T13:00:59.400Z"
   },
   {
    "duration": -662,
    "start_time": "2022-02-20T13:00:59.406Z"
   },
   {
    "duration": -667,
    "start_time": "2022-02-20T13:00:59.412Z"
   },
   {
    "duration": 258,
    "start_time": "2022-02-20T13:02:01.007Z"
   },
   {
    "duration": 14,
    "start_time": "2022-02-20T13:02:15.794Z"
   },
   {
    "duration": 10,
    "start_time": "2022-02-20T13:02:37.794Z"
   },
   {
    "duration": 12,
    "start_time": "2022-02-20T13:02:58.263Z"
   },
   {
    "duration": 6,
    "start_time": "2022-02-20T13:05:50.149Z"
   },
   {
    "duration": 12,
    "start_time": "2022-02-20T13:05:50.923Z"
   },
   {
    "duration": 4,
    "start_time": "2022-02-20T13:18:14.108Z"
   },
   {
    "duration": 3,
    "start_time": "2022-02-20T13:19:29.116Z"
   },
   {
    "duration": 3,
    "start_time": "2022-02-20T13:20:08.394Z"
   },
   {
    "duration": 131,
    "start_time": "2022-02-20T13:20:31.784Z"
   },
   {
    "duration": 4,
    "start_time": "2022-02-20T13:20:59.804Z"
   },
   {
    "duration": 96,
    "start_time": "2022-02-20T13:21:01.335Z"
   },
   {
    "duration": 12,
    "start_time": "2022-02-20T13:24:43.585Z"
   },
   {
    "duration": 12,
    "start_time": "2022-02-20T13:24:44.425Z"
   },
   {
    "duration": 6,
    "start_time": "2022-02-20T13:27:33.925Z"
   },
   {
    "duration": 5,
    "start_time": "2022-02-20T13:27:36.326Z"
   },
   {
    "duration": 4,
    "start_time": "2022-02-20T13:34:18.785Z"
   },
   {
    "duration": 5,
    "start_time": "2022-02-20T13:35:07.106Z"
   },
   {
    "duration": 11,
    "start_time": "2022-02-20T13:35:30.442Z"
   },
   {
    "duration": 10,
    "start_time": "2022-02-20T13:37:36.527Z"
   },
   {
    "duration": 14,
    "start_time": "2022-02-20T13:37:38.124Z"
   },
   {
    "duration": 611,
    "start_time": "2022-02-20T13:39:18.357Z"
   },
   {
    "duration": 15,
    "start_time": "2022-02-20T13:44:56.548Z"
   },
   {
    "duration": 16,
    "start_time": "2022-02-20T13:46:07.692Z"
   },
   {
    "duration": 12,
    "start_time": "2022-02-20T13:48:18.490Z"
   },
   {
    "duration": 12,
    "start_time": "2022-02-20T13:51:13.215Z"
   },
   {
    "duration": 310,
    "start_time": "2022-02-20T16:50:15.184Z"
   },
   {
    "duration": 701,
    "start_time": "2022-02-20T16:50:22.124Z"
   },
   {
    "duration": 35,
    "start_time": "2022-02-20T16:50:22.827Z"
   },
   {
    "duration": 8,
    "start_time": "2022-02-20T16:50:22.865Z"
   },
   {
    "duration": 21,
    "start_time": "2022-02-20T16:50:22.875Z"
   },
   {
    "duration": 8,
    "start_time": "2022-02-20T16:50:22.897Z"
   },
   {
    "duration": 7,
    "start_time": "2022-02-20T16:50:22.906Z"
   },
   {
    "duration": 703,
    "start_time": "2022-02-20T16:50:22.915Z"
   },
   {
    "duration": 5,
    "start_time": "2022-02-20T16:50:23.621Z"
   },
   {
    "duration": 18,
    "start_time": "2022-02-20T16:50:23.629Z"
   },
   {
    "duration": 23,
    "start_time": "2022-02-20T16:50:23.649Z"
   },
   {
    "duration": 4,
    "start_time": "2022-02-20T16:50:23.674Z"
   },
   {
    "duration": 706,
    "start_time": "2022-02-20T16:50:23.680Z"
   },
   {
    "duration": 6,
    "start_time": "2022-02-20T16:50:24.388Z"
   },
   {
    "duration": 36,
    "start_time": "2022-02-20T16:50:24.396Z"
   },
   {
    "duration": 6,
    "start_time": "2022-02-20T16:50:24.434Z"
   },
   {
    "duration": 29,
    "start_time": "2022-02-20T16:50:24.442Z"
   },
   {
    "duration": 4,
    "start_time": "2022-02-20T16:50:24.473Z"
   },
   {
    "duration": 10,
    "start_time": "2022-02-20T16:50:24.478Z"
   },
   {
    "duration": 5,
    "start_time": "2022-02-20T16:50:24.490Z"
   },
   {
    "duration": 41,
    "start_time": "2022-02-20T16:50:24.496Z"
   },
   {
    "duration": 30,
    "start_time": "2022-02-20T16:50:24.539Z"
   },
   {
    "duration": 6,
    "start_time": "2022-02-20T16:50:24.571Z"
   },
   {
    "duration": 4,
    "start_time": "2022-02-20T16:50:24.581Z"
   },
   {
    "duration": 58,
    "start_time": "2022-02-20T16:50:24.587Z"
   },
   {
    "duration": 25,
    "start_time": "2022-02-20T16:50:24.647Z"
   },
   {
    "duration": 14,
    "start_time": "2022-02-20T16:50:24.674Z"
   },
   {
    "duration": 14,
    "start_time": "2022-02-20T16:50:24.690Z"
   },
   {
    "duration": 15,
    "start_time": "2022-02-20T16:50:24.706Z"
   },
   {
    "duration": 5,
    "start_time": "2022-02-20T16:50:24.722Z"
   },
   {
    "duration": 50,
    "start_time": "2022-02-20T16:50:24.728Z"
   },
   {
    "duration": 7,
    "start_time": "2022-02-20T16:50:24.780Z"
   },
   {
    "duration": 19,
    "start_time": "2022-02-20T16:50:24.789Z"
   },
   {
    "duration": 5,
    "start_time": "2022-02-20T16:50:24.810Z"
   },
   {
    "duration": 6,
    "start_time": "2022-02-20T16:50:24.817Z"
   },
   {
    "duration": 51,
    "start_time": "2022-02-20T16:50:24.825Z"
   },
   {
    "duration": 20,
    "start_time": "2022-02-20T16:50:24.877Z"
   },
   {
    "duration": 19,
    "start_time": "2022-02-20T16:50:24.899Z"
   },
   {
    "duration": 9,
    "start_time": "2022-02-20T16:50:24.919Z"
   },
   {
    "duration": 11,
    "start_time": "2022-02-20T16:50:24.929Z"
   },
   {
    "duration": 33,
    "start_time": "2022-02-20T16:50:24.941Z"
   },
   {
    "duration": 17,
    "start_time": "2022-02-20T16:50:24.976Z"
   },
   {
    "duration": 7,
    "start_time": "2022-02-20T16:50:24.994Z"
   },
   {
    "duration": 10,
    "start_time": "2022-02-20T16:50:25.003Z"
   },
   {
    "duration": 4,
    "start_time": "2022-02-20T16:50:25.016Z"
   },
   {
    "duration": 20,
    "start_time": "2022-02-20T16:50:25.021Z"
   },
   {
    "duration": 33,
    "start_time": "2022-02-20T16:50:25.043Z"
   },
   {
    "duration": 9,
    "start_time": "2022-02-20T16:50:25.078Z"
   },
   {
    "duration": 6,
    "start_time": "2022-02-20T16:50:25.089Z"
   },
   {
    "duration": 4,
    "start_time": "2022-02-20T16:50:25.097Z"
   },
   {
    "duration": 12,
    "start_time": "2022-02-20T16:50:25.103Z"
   },
   {
    "duration": 9,
    "start_time": "2022-02-20T16:50:25.117Z"
   },
   {
    "duration": 12,
    "start_time": "2022-02-20T16:50:25.128Z"
   },
   {
    "duration": 36,
    "start_time": "2022-02-20T16:50:25.142Z"
   },
   {
    "duration": 412,
    "start_time": "2022-02-20T16:50:25.180Z"
   },
   {
    "duration": 14,
    "start_time": "2022-02-20T16:50:25.594Z"
   },
   {
    "duration": 15,
    "start_time": "2022-02-20T16:50:25.610Z"
   },
   {
    "duration": 705,
    "start_time": "2022-02-20T17:02:36.373Z"
   },
   {
    "duration": 36,
    "start_time": "2022-02-20T17:02:37.080Z"
   },
   {
    "duration": 6,
    "start_time": "2022-02-20T17:02:37.118Z"
   },
   {
    "duration": 43,
    "start_time": "2022-02-20T17:02:37.126Z"
   },
   {
    "duration": 18,
    "start_time": "2022-02-20T17:02:37.171Z"
   },
   {
    "duration": 15,
    "start_time": "2022-02-20T17:02:37.191Z"
   },
   {
    "duration": 702,
    "start_time": "2022-02-20T17:02:37.208Z"
   },
   {
    "duration": 5,
    "start_time": "2022-02-20T17:02:37.912Z"
   },
   {
    "duration": 24,
    "start_time": "2022-02-20T17:02:37.919Z"
   },
   {
    "duration": 29,
    "start_time": "2022-02-20T17:02:37.944Z"
   },
   {
    "duration": 12,
    "start_time": "2022-02-20T17:02:37.975Z"
   },
   {
    "duration": 673,
    "start_time": "2022-02-20T17:02:37.989Z"
   },
   {
    "duration": 5,
    "start_time": "2022-02-20T17:02:38.664Z"
   },
   {
    "duration": 41,
    "start_time": "2022-02-20T17:02:38.670Z"
   },
   {
    "duration": 5,
    "start_time": "2022-02-20T17:02:38.713Z"
   },
   {
    "duration": 7,
    "start_time": "2022-02-20T17:02:38.720Z"
   },
   {
    "duration": 6,
    "start_time": "2022-02-20T17:02:38.729Z"
   },
   {
    "duration": 6,
    "start_time": "2022-02-20T17:02:38.737Z"
   },
   {
    "duration": 25,
    "start_time": "2022-02-20T17:02:38.744Z"
   },
   {
    "duration": 36,
    "start_time": "2022-02-20T17:02:38.771Z"
   },
   {
    "duration": 5,
    "start_time": "2022-02-20T17:02:38.808Z"
   },
   {
    "duration": 7,
    "start_time": "2022-02-20T17:02:38.815Z"
   },
   {
    "duration": 5,
    "start_time": "2022-02-20T17:02:38.826Z"
   },
   {
    "duration": 85,
    "start_time": "2022-02-20T17:02:38.833Z"
   },
   {
    "duration": 4,
    "start_time": "2022-02-20T17:02:38.920Z"
   },
   {
    "duration": 18,
    "start_time": "2022-02-20T17:02:38.925Z"
   },
   {
    "duration": 29,
    "start_time": "2022-02-20T17:02:38.945Z"
   },
   {
    "duration": 16,
    "start_time": "2022-02-20T17:02:38.976Z"
   },
   {
    "duration": 5,
    "start_time": "2022-02-20T17:02:38.994Z"
   },
   {
    "duration": 20,
    "start_time": "2022-02-20T17:02:39.000Z"
   },
   {
    "duration": 6,
    "start_time": "2022-02-20T17:02:39.022Z"
   },
   {
    "duration": 49,
    "start_time": "2022-02-20T17:02:39.030Z"
   },
   {
    "duration": 5,
    "start_time": "2022-02-20T17:02:39.081Z"
   },
   {
    "duration": 6,
    "start_time": "2022-02-20T17:02:39.088Z"
   },
   {
    "duration": 19,
    "start_time": "2022-02-20T17:02:39.096Z"
   },
   {
    "duration": 56,
    "start_time": "2022-02-20T17:02:39.116Z"
   },
   {
    "duration": 18,
    "start_time": "2022-02-20T17:02:39.174Z"
   },
   {
    "duration": 9,
    "start_time": "2022-02-20T17:02:39.194Z"
   },
   {
    "duration": 11,
    "start_time": "2022-02-20T17:02:39.205Z"
   },
   {
    "duration": 7,
    "start_time": "2022-02-20T17:02:39.218Z"
   },
   {
    "duration": 15,
    "start_time": "2022-02-20T17:02:39.227Z"
   },
   {
    "duration": 27,
    "start_time": "2022-02-20T17:02:39.243Z"
   },
   {
    "duration": 15,
    "start_time": "2022-02-20T17:02:39.272Z"
   },
   {
    "duration": 7,
    "start_time": "2022-02-20T17:02:39.289Z"
   },
   {
    "duration": 20,
    "start_time": "2022-02-20T17:02:39.297Z"
   },
   {
    "duration": 16,
    "start_time": "2022-02-20T17:02:39.319Z"
   },
   {
    "duration": 8,
    "start_time": "2022-02-20T17:02:39.338Z"
   },
   {
    "duration": 23,
    "start_time": "2022-02-20T17:02:39.348Z"
   },
   {
    "duration": 8,
    "start_time": "2022-02-20T17:02:39.373Z"
   },
   {
    "duration": 14,
    "start_time": "2022-02-20T17:02:39.383Z"
   },
   {
    "duration": 11,
    "start_time": "2022-02-20T17:02:39.399Z"
   },
   {
    "duration": 15,
    "start_time": "2022-02-20T17:02:39.412Z"
   },
   {
    "duration": 15,
    "start_time": "2022-02-20T17:02:39.429Z"
   },
   {
    "duration": 427,
    "start_time": "2022-02-20T17:02:39.445Z"
   },
   {
    "duration": 13,
    "start_time": "2022-02-20T17:02:39.875Z"
   },
   {
    "duration": 13,
    "start_time": "2022-02-20T17:02:39.890Z"
   },
   {
    "duration": 10,
    "start_time": "2022-02-20T17:02:39.905Z"
   },
   {
    "duration": 11,
    "start_time": "2022-02-20T17:02:39.917Z"
   },
   {
    "duration": 727,
    "start_time": "2022-02-20T17:06:31.740Z"
   },
   {
    "duration": 35,
    "start_time": "2022-02-20T17:06:32.469Z"
   },
   {
    "duration": 6,
    "start_time": "2022-02-20T17:06:32.506Z"
   },
   {
    "duration": 21,
    "start_time": "2022-02-20T17:06:32.514Z"
   },
   {
    "duration": 17,
    "start_time": "2022-02-20T17:06:32.537Z"
   },
   {
    "duration": 4,
    "start_time": "2022-02-20T17:06:32.569Z"
   },
   {
    "duration": 703,
    "start_time": "2022-02-20T17:06:32.575Z"
   },
   {
    "duration": 5,
    "start_time": "2022-02-20T17:06:33.281Z"
   },
   {
    "duration": 43,
    "start_time": "2022-02-20T17:06:33.289Z"
   },
   {
    "duration": 17,
    "start_time": "2022-02-20T17:06:33.333Z"
   },
   {
    "duration": 14,
    "start_time": "2022-02-20T17:06:33.352Z"
   },
   {
    "duration": 691,
    "start_time": "2022-02-20T17:06:33.368Z"
   },
   {
    "duration": 9,
    "start_time": "2022-02-20T17:06:34.060Z"
   },
   {
    "duration": 38,
    "start_time": "2022-02-20T17:06:34.071Z"
   },
   {
    "duration": 6,
    "start_time": "2022-02-20T17:06:34.111Z"
   },
   {
    "duration": 10,
    "start_time": "2022-02-20T17:06:34.118Z"
   },
   {
    "duration": 6,
    "start_time": "2022-02-20T17:06:34.129Z"
   },
   {
    "duration": 32,
    "start_time": "2022-02-20T17:06:34.137Z"
   },
   {
    "duration": 4,
    "start_time": "2022-02-20T17:06:34.171Z"
   },
   {
    "duration": 37,
    "start_time": "2022-02-20T17:06:34.177Z"
   },
   {
    "duration": 6,
    "start_time": "2022-02-20T17:06:34.216Z"
   },
   {
    "duration": 12,
    "start_time": "2022-02-20T17:06:34.223Z"
   },
   {
    "duration": 4,
    "start_time": "2022-02-20T17:06:34.239Z"
   },
   {
    "duration": 81,
    "start_time": "2022-02-20T17:06:34.245Z"
   },
   {
    "duration": 5,
    "start_time": "2022-02-20T17:06:34.328Z"
   },
   {
    "duration": 15,
    "start_time": "2022-02-20T17:06:34.335Z"
   },
   {
    "duration": 14,
    "start_time": "2022-02-20T17:06:34.370Z"
   },
   {
    "duration": 16,
    "start_time": "2022-02-20T17:06:34.386Z"
   },
   {
    "duration": 5,
    "start_time": "2022-02-20T17:06:34.404Z"
   },
   {
    "duration": 18,
    "start_time": "2022-02-20T17:06:34.411Z"
   },
   {
    "duration": 39,
    "start_time": "2022-02-20T17:06:34.431Z"
   },
   {
    "duration": 20,
    "start_time": "2022-02-20T17:06:34.472Z"
   },
   {
    "duration": 16,
    "start_time": "2022-02-20T17:06:34.494Z"
   },
   {
    "duration": 6,
    "start_time": "2022-02-20T17:06:34.512Z"
   },
   {
    "duration": 18,
    "start_time": "2022-02-20T17:06:34.520Z"
   },
   {
    "duration": 47,
    "start_time": "2022-02-20T17:06:34.540Z"
   },
   {
    "duration": 18,
    "start_time": "2022-02-20T17:06:34.589Z"
   },
   {
    "duration": 8,
    "start_time": "2022-02-20T17:06:34.609Z"
   },
   {
    "duration": 9,
    "start_time": "2022-02-20T17:06:34.619Z"
   },
   {
    "duration": 9,
    "start_time": "2022-02-20T17:06:34.630Z"
   },
   {
    "duration": 34,
    "start_time": "2022-02-20T17:06:34.641Z"
   },
   {
    "duration": 6,
    "start_time": "2022-02-20T17:06:34.677Z"
   },
   {
    "duration": 10,
    "start_time": "2022-02-20T17:06:34.684Z"
   },
   {
    "duration": 7,
    "start_time": "2022-02-20T17:06:34.696Z"
   },
   {
    "duration": 16,
    "start_time": "2022-02-20T17:06:34.705Z"
   },
   {
    "duration": 16,
    "start_time": "2022-02-20T17:06:34.723Z"
   },
   {
    "duration": 29,
    "start_time": "2022-02-20T17:06:34.741Z"
   },
   {
    "duration": 4,
    "start_time": "2022-02-20T17:06:34.772Z"
   },
   {
    "duration": 6,
    "start_time": "2022-02-20T17:06:34.778Z"
   },
   {
    "duration": 9,
    "start_time": "2022-02-20T17:06:34.785Z"
   },
   {
    "duration": 5,
    "start_time": "2022-02-20T17:06:34.796Z"
   },
   {
    "duration": 10,
    "start_time": "2022-02-20T17:06:34.803Z"
   },
   {
    "duration": 15,
    "start_time": "2022-02-20T17:06:34.815Z"
   },
   {
    "duration": 500,
    "start_time": "2022-02-20T17:06:34.831Z"
   },
   {
    "duration": 12,
    "start_time": "2022-02-20T17:06:35.333Z"
   },
   {
    "duration": 28,
    "start_time": "2022-02-20T17:06:35.347Z"
   },
   {
    "duration": 11,
    "start_time": "2022-02-20T17:06:35.377Z"
   },
   {
    "duration": 12,
    "start_time": "2022-02-20T17:06:35.390Z"
   }
  ],
  "kernelspec": {
   "display_name": "Python 3 (ipykernel)",
   "language": "python",
   "name": "python3"
  },
  "language_info": {
   "codemirror_mode": {
    "name": "ipython",
    "version": 3
   },
   "file_extension": ".py",
   "mimetype": "text/x-python",
   "name": "python",
   "nbconvert_exporter": "python",
   "pygments_lexer": "ipython3",
   "version": "3.9.7"
  },
  "toc": {
   "base_numbering": "1",
   "nav_menu": {},
   "number_sections": true,
   "sideBar": true,
   "skip_h1_title": true,
   "title_cell": "Contents",
   "title_sidebar": "Contents",
   "toc_cell": true,
   "toc_position": {
    "height": "calc(100% - 180px)",
    "left": "10px",
    "top": "150px",
    "width": "289.6px"
   },
   "toc_section_display": true,
   "toc_window_display": true
  }
 },
 "nbformat": 4,
 "nbformat_minor": 5
}
