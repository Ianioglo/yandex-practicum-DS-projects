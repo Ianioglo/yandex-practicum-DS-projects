{
 "cells": [
  {
   "cell_type": "markdown",
   "metadata": {
    "id": "E0vqbgi9ay0H"
   },
   "source": [
    "# Yandex.Music"
   ]
  },
  {
   "cell_type": "markdown",
   "metadata": {},
   "source": [
    "The comparison between Moscow and St Petersburg is surrounded by myths. For example:\n",
    "\n",
    "- Moscow is a metropolis subject to the rigours of the working week;\n",
    "- St. Petersburg is a cultural capital, with its own tastes.\n",
    "\n",
    "Using Yandex.Music data, you will compare the behaviour of users of the two capitals.\n",
    "\n",
    "**The purpose of the study** is to test three hypotheses:\n",
    "\n",
    "1. User activity depends on the day of the week. And it manifests itself differently in Moscow and St. Petersburg.\n",
    "2. On Monday morning some genres dominate in Moscow and others in St. Petersburg. Friday evenings are also dominated by different genres depending on the city.\n",
    "3. Moscow and St. Petersburg prefer different genres of music. In Moscow people listen to pop music more often, in St. Petersburg - Russian rap.\n",
    "\n",
    "**Survey progress**\n",
    "\n",
    "You will get data on user behaviour from the file yandex_music_project.csv. Nothing is known about the quality of the data. Therefore you will need to review the data before testing hypotheses.\n",
    "\n",
    "You will check the data for errors and assess their impact on the study. Then, in the preprocessing phase, you will look for opportunities to correct the most critical data errors.\n",
    "\n",
    "The study will therefore take place in three phases:\n",
    "\n",
    "1. Data review.\n",
    "2. Data preprocessing.\n",
    "4. Hypothesis testing.\n"
   ]
  },
  {
   "cell_type": "markdown",
   "metadata": {
    "id": "Ml1hmfXC_Zcs"
   },
   "source": [
    "## Data review\n",
    "\n",
    "First impression of the Yandex.Music data."
   ]
  },
  {
   "cell_type": "code",
   "execution_count": 124,
   "metadata": {
    "id": "AXN7PHPN_Zcs"
   },
   "outputs": [],
   "source": [
    "import pandas as pd # import pandas library"
   ]
  },
  {
   "cell_type": "markdown",
   "metadata": {
    "id": "SG23P8tt_Zcs"
   },
   "source": [
    "Read the file `yandex_music_project.csv` from `/datasets` directory into `df` variable:"
   ]
  },
  {
   "cell_type": "code",
   "execution_count": null,
   "metadata": {
    "id": "fFVu7vqh_Zct"
   },
   "outputs": [],
   "source": [
    "df = pd.read_csv('/datasets/yandex_music_project.csv') # reading and saving file into df"
   ]
  },
  {
   "cell_type": "code",
   "execution_count": 126,
   "metadata": {
    "id": "oWTVX3gW_Zct",
    "scrolled": true
   },
   "outputs": [
    {
     "data": {
      "text/html": [
       "<div>\n",
       "<style scoped>\n",
       "    .dataframe tbody tr th:only-of-type {\n",
       "        vertical-align: middle;\n",
       "    }\n",
       "\n",
       "    .dataframe tbody tr th {\n",
       "        vertical-align: top;\n",
       "    }\n",
       "\n",
       "    .dataframe thead th {\n",
       "        text-align: right;\n",
       "    }\n",
       "</style>\n",
       "<table border=\"1\" class=\"dataframe\">\n",
       "  <thead>\n",
       "    <tr style=\"text-align: right;\">\n",
       "      <th></th>\n",
       "      <th>userID</th>\n",
       "      <th>Track</th>\n",
       "      <th>artist</th>\n",
       "      <th>genre</th>\n",
       "      <th>City</th>\n",
       "      <th>time</th>\n",
       "      <th>Day</th>\n",
       "    </tr>\n",
       "  </thead>\n",
       "  <tbody>\n",
       "    <tr>\n",
       "      <td>0</td>\n",
       "      <td>FFB692EC</td>\n",
       "      <td>Kamigata To Boots</td>\n",
       "      <td>The Mass Missile</td>\n",
       "      <td>rock</td>\n",
       "      <td>Saint-Petersburg</td>\n",
       "      <td>20:28:33</td>\n",
       "      <td>Wednesday</td>\n",
       "    </tr>\n",
       "    <tr>\n",
       "      <td>1</td>\n",
       "      <td>55204538</td>\n",
       "      <td>Delayed Because of Accident</td>\n",
       "      <td>Andreas Rönnberg</td>\n",
       "      <td>rock</td>\n",
       "      <td>Moscow</td>\n",
       "      <td>14:07:09</td>\n",
       "      <td>Friday</td>\n",
       "    </tr>\n",
       "    <tr>\n",
       "      <td>2</td>\n",
       "      <td>20EC38</td>\n",
       "      <td>Funiculì funiculà</td>\n",
       "      <td>Mario Lanza</td>\n",
       "      <td>pop</td>\n",
       "      <td>Saint-Petersburg</td>\n",
       "      <td>20:58:07</td>\n",
       "      <td>Wednesday</td>\n",
       "    </tr>\n",
       "    <tr>\n",
       "      <td>3</td>\n",
       "      <td>A3DD03C9</td>\n",
       "      <td>Dragons in the Sunset</td>\n",
       "      <td>Fire + Ice</td>\n",
       "      <td>folk</td>\n",
       "      <td>Saint-Petersburg</td>\n",
       "      <td>08:37:09</td>\n",
       "      <td>Monday</td>\n",
       "    </tr>\n",
       "    <tr>\n",
       "      <td>4</td>\n",
       "      <td>E2DC1FAE</td>\n",
       "      <td>Soul People</td>\n",
       "      <td>Space Echo</td>\n",
       "      <td>dance</td>\n",
       "      <td>Moscow</td>\n",
       "      <td>08:34:34</td>\n",
       "      <td>Monday</td>\n",
       "    </tr>\n",
       "    <tr>\n",
       "      <td>5</td>\n",
       "      <td>842029A1</td>\n",
       "      <td>Преданная</td>\n",
       "      <td>IMPERVTOR</td>\n",
       "      <td>rusrap</td>\n",
       "      <td>Saint-Petersburg</td>\n",
       "      <td>13:09:41</td>\n",
       "      <td>Friday</td>\n",
       "    </tr>\n",
       "    <tr>\n",
       "      <td>6</td>\n",
       "      <td>4CB90AA5</td>\n",
       "      <td>True</td>\n",
       "      <td>Roman Messer</td>\n",
       "      <td>dance</td>\n",
       "      <td>Moscow</td>\n",
       "      <td>13:00:07</td>\n",
       "      <td>Wednesday</td>\n",
       "    </tr>\n",
       "    <tr>\n",
       "      <td>7</td>\n",
       "      <td>F03E1C1F</td>\n",
       "      <td>Feeling This Way</td>\n",
       "      <td>Polina Griffith</td>\n",
       "      <td>dance</td>\n",
       "      <td>Moscow</td>\n",
       "      <td>20:47:49</td>\n",
       "      <td>Wednesday</td>\n",
       "    </tr>\n",
       "    <tr>\n",
       "      <td>8</td>\n",
       "      <td>8FA1D3BE</td>\n",
       "      <td>И вновь продолжается бой</td>\n",
       "      <td>NaN</td>\n",
       "      <td>ruspop</td>\n",
       "      <td>Moscow</td>\n",
       "      <td>09:17:40</td>\n",
       "      <td>Friday</td>\n",
       "    </tr>\n",
       "    <tr>\n",
       "      <td>9</td>\n",
       "      <td>E772D5C0</td>\n",
       "      <td>Pessimist</td>\n",
       "      <td>NaN</td>\n",
       "      <td>dance</td>\n",
       "      <td>Saint-Petersburg</td>\n",
       "      <td>21:20:49</td>\n",
       "      <td>Wednesday</td>\n",
       "    </tr>\n",
       "  </tbody>\n",
       "</table>\n",
       "</div>"
      ],
      "text/plain": [
       "     userID                        Track            artist   genre  \\\n",
       "0  FFB692EC            Kamigata To Boots  The Mass Missile    rock   \n",
       "1  55204538  Delayed Because of Accident  Andreas Rönnberg    rock   \n",
       "2    20EC38            Funiculì funiculà       Mario Lanza     pop   \n",
       "3  A3DD03C9        Dragons in the Sunset        Fire + Ice    folk   \n",
       "4  E2DC1FAE                  Soul People        Space Echo   dance   \n",
       "5  842029A1                    Преданная         IMPERVTOR  rusrap   \n",
       "6  4CB90AA5                         True      Roman Messer   dance   \n",
       "7  F03E1C1F             Feeling This Way   Polina Griffith   dance   \n",
       "8  8FA1D3BE     И вновь продолжается бой               NaN  ruspop   \n",
       "9  E772D5C0                    Pessimist               NaN   dance   \n",
       "\n",
       "             City        time        Day  \n",
       "0  Saint-Petersburg  20:28:33  Wednesday  \n",
       "1            Moscow  14:07:09     Friday  \n",
       "2  Saint-Petersburg  20:58:07  Wednesday  \n",
       "3  Saint-Petersburg  08:37:09     Monday  \n",
       "4            Moscow  08:34:34     Monday  \n",
       "5  Saint-Petersburg  13:09:41     Friday  \n",
       "6            Moscow  13:00:07  Wednesday  \n",
       "7            Moscow  20:47:49  Wednesday  \n",
       "8            Moscow  09:17:40     Friday  \n",
       "9  Saint-Petersburg  21:20:49  Wednesday  "
      ]
     },
     "execution_count": 126,
     "metadata": {},
     "output_type": "execute_result"
    }
   ],
   "source": [
    "df.head(10) # obtain the first 10 rows of table"
   ]
  },
  {
   "cell_type": "code",
   "execution_count": 127,
   "metadata": {
    "id": "DSf2kIb-_Zct"
   },
   "outputs": [
    {
     "name": "stdout",
     "output_type": "stream",
     "text": [
      "<class 'pandas.core.frame.DataFrame'>\n",
      "RangeIndex: 65079 entries, 0 to 65078\n",
      "Data columns (total 7 columns):\n",
      "  userID    65079 non-null object\n",
      "Track       63848 non-null object\n",
      "artist      57876 non-null object\n",
      "genre       63881 non-null object\n",
      "  City      65079 non-null object\n",
      "time        65079 non-null object\n",
      "Day         65079 non-null object\n",
      "dtypes: object(7)\n",
      "memory usage: 3.5+ MB\n"
     ]
    }
   ],
   "source": [
    "df.info() # getting general information about the data in table "
   ]
  },
  {
   "cell_type": "markdown",
   "metadata": {},
   "source": [
    "So there are seven columns in the table. The data type in all columns is `object`.\n",
    "\n",
    "According to the data documentation:\n",
    "\n",
    "- `userID` - user ID;\n",
    "- `Track` - track name;\n",
    "- `artist` - artist's name;\n",
    "- `Genre` - name of the genre;\n",
    "- `City` - user's city;\n",
    "- `time` - time the listening start;\n",
    "- `Day` - day of the week.\n",
    "\n",
    "There are three style violations visible in the column names:\n",
    "\n",
    "1. Small letters are combined with capital letters.\n",
    "2. There are some spaces.\n",
    "3. 'Snake_register' is not applied in the `userID` column. If we convert the name of this column to lowercase letters, the name 'userid' is unreadable. We should use 'snake_register' and replace it with 'user_id'.\n",
    "The number of values in the columns is different. So there are missing values in the data."
   ]
  },
  {
   "cell_type": "markdown",
   "metadata": {},
   "source": [
    "**Conclusions**\n",
    "\n",
    "Each row in the table contains data about the track listened to. Part of the columns describes the song itself: the title, the artist, and the genre. The rest of the data tells about the user: what city the user is from, when the user listened to the music.\n",
    "\n",
    "Preliminarily it can be stated that there is enough data to test hypotheses. But there are omissions in the data, and there are discrepancies with good style in the names of the columns.\n",
    "\n",
    "In order to move forward, the problems in the data need to be eliminated."
   ]
  },
  {
   "cell_type": "markdown",
   "metadata": {
    "id": "SjYF6Ub9_Zct"
   },
   "source": [
    "## Data preprocessing"
   ]
  },
  {
   "cell_type": "markdown",
   "metadata": {
    "id": "dIaKXr29_Zct"
   },
   "source": [
    "### Heading style"
   ]
  },
  {
   "cell_type": "code",
   "execution_count": 128,
   "metadata": {
    "id": "oKOTdF_Q_Zct"
   },
   "outputs": [
    {
     "data": {
      "text/plain": [
       "Index(['  userID', 'Track', 'artist', 'genre', '  City  ', 'time', 'Day'], dtype='object')"
      ]
     },
     "execution_count": 128,
     "metadata": {},
     "output_type": "execute_result"
    }
   ],
   "source": [
    "df.columns # the list of columns in df table"
   ]
  },
  {
   "cell_type": "markdown",
   "metadata": {
    "id": "zj5534cv_Zct"
   },
   "source": [
    "Bring the titles in line with good style:\n",
    "\n",
    "- write words in the columns title in \"snake_register\",\n",
    "- make all characters lowercase,\n",
    "- remove the spaces.\n",
    "\n",
    "To do this, rename the columns as follows:\n",
    "* `'  userID'` → `'user_id'`;\n",
    "* `'Track'` → `'track'`;\n",
    "* `'  City  '` → `'city'`;\n",
    "* `'Day'` → `'day'`."
   ]
  },
  {
   "cell_type": "code",
   "execution_count": 129,
   "metadata": {
    "id": "ISlFqs5y_Zct"
   },
   "outputs": [],
   "source": [
    "df = df.rename(columns={'  userID':'user_id', 'Track':'track', '  City  ':'city', 'Day':'day'}) "
   ]
  },
  {
   "cell_type": "code",
   "execution_count": 130,
   "metadata": {
    "id": "d4NOAmTW_Zct"
   },
   "outputs": [
    {
     "data": {
      "text/plain": [
       "Index(['user_id', 'track', 'artist', 'genre', 'city', 'time', 'day'], dtype='object')"
      ]
     },
     "execution_count": 130,
     "metadata": {},
     "output_type": "execute_result"
    }
   ],
   "source": [
    "df.columns # result check - list of columns name"
   ]
  },
  {
   "cell_type": "markdown",
   "metadata": {
    "id": "5ISfbcfY_Zct"
   },
   "source": [
    "### Missing values"
   ]
  },
  {
   "cell_type": "code",
   "execution_count": 131,
   "metadata": {
    "id": "RskX29qr_Zct"
   },
   "outputs": [
    {
     "data": {
      "text/plain": [
       "user_id       0\n",
       "track      1231\n",
       "artist     7203\n",
       "genre      1198\n",
       "city          0\n",
       "time          0\n",
       "day           0\n",
       "dtype: int64"
      ]
     },
     "execution_count": 131,
     "metadata": {},
     "output_type": "execute_result"
    }
   ],
   "source": [
    "df.isna().sum() # counting missing values"
   ]
  },
  {
   "cell_type": "markdown",
   "metadata": {},
   "source": [
    "Not all missing values affect the study. So in `track` and `artist` the omissions are not important for our work. It is enough to replace them with explicit denotations.\n",
    "\n",
    "But missing values in `genre` can interfere with the comparison of musical tastes in Moscow and St. Petersburg. In practice, it would be correct to establish the reason for the missing data and restore the data. There is no such possibility in the study project. We will have to:\n",
    "\n",
    "- fill in these gaps with explicit notations,\n",
    "- assess to what extent they will affect the calculations."
   ]
  },
  {
   "cell_type": "markdown",
   "metadata": {},
   "source": [
    "Replace the missing values in the `track`, `artist` and `genre` columns with the string `'unknown'`."
   ]
  },
  {
   "cell_type": "code",
   "execution_count": 132,
   "metadata": {
    "id": "KplB5qWs_Zct"
   },
   "outputs": [],
   "source": [
    "columns_to_replace = ['track', 'artist', 'genre'] # creating a list of column names in which to replace the missing values\n",
    "\n",
    "for column in columns_to_replace:\n",
    "    df[column] = df[column].fillna('unknown')\n",
    "        "
   ]
  },
  {
   "cell_type": "code",
   "execution_count": 133,
   "metadata": {
    "id": "Tq4nYRX4_Zct"
   },
   "outputs": [
    {
     "data": {
      "text/plain": [
       "user_id    0\n",
       "track      0\n",
       "artist     0\n",
       "genre      0\n",
       "city       0\n",
       "time       0\n",
       "day        0\n",
       "dtype: int64"
      ]
     },
     "execution_count": 133,
     "metadata": {},
     "output_type": "execute_result"
    }
   ],
   "source": [
    "df.isna().sum() # missing values count"
   ]
  },
  {
   "cell_type": "markdown",
   "metadata": {
    "id": "BWKRtBJ3_Zct"
   },
   "source": [
    "### Duplicates"
   ]
  },
  {
   "cell_type": "code",
   "execution_count": 134,
   "metadata": {
    "id": "36eES_S0_Zct"
   },
   "outputs": [
    {
     "data": {
      "text/plain": [
       "3826"
      ]
     },
     "execution_count": 134,
     "metadata": {},
     "output_type": "execute_result"
    }
   ],
   "source": [
    "df.duplicated().sum() # duplicates count"
   ]
  },
  {
   "cell_type": "markdown",
   "metadata": {
    "id": "Ot25h6XR_Zct"
   },
   "source": [
    "Removal of explicit duplicates."
   ]
  },
  {
   "cell_type": "code",
   "execution_count": 135,
   "metadata": {
    "id": "exFHq6tt_Zct"
   },
   "outputs": [],
   "source": [
    "df = df.drop_duplicates().reset_index(drop=True) # removal of explicit duplicates (with old indexes removed and new indexes generated)"
   ]
  },
  {
   "cell_type": "code",
   "execution_count": 136,
   "metadata": {
    "id": "-8PuNWQ0_Zct"
   },
   "outputs": [
    {
     "data": {
      "text/plain": [
       "0"
      ]
     },
     "execution_count": 136,
     "metadata": {},
     "output_type": "execute_result"
    }
   ],
   "source": [
    "df.duplicated().sum() # проверка на отсутствие дубликатов"
   ]
  },
  {
   "cell_type": "markdown",
   "metadata": {
    "id": "QlFBsxAr_Zct"
   },
   "source": [
    "Now get rid of the implicit duplicates in the `genre` column. For example, the name of the same genre may be written slightly differently. Such mistakes will also affect the result of the study.\n"
   ]
  },
  {
   "cell_type": "code",
   "execution_count": 137,
   "metadata": {
    "id": "JIUcqzZN_Zct"
   },
   "outputs": [
    {
     "data": {
      "text/plain": [
       "array(['acid', 'acoustic', 'action', 'adult', 'africa', 'afrikaans',\n",
       "       'alternative', 'alternativepunk', 'ambient', 'americana',\n",
       "       'animated', 'anime', 'arabesk', 'arabic', 'arena',\n",
       "       'argentinetango', 'art', 'audiobook', 'author', 'avantgarde',\n",
       "       'axé', 'baile', 'balkan', 'beats', 'bigroom', 'black', 'bluegrass',\n",
       "       'blues', 'bollywood', 'bossa', 'brazilian', 'breakbeat', 'breaks',\n",
       "       'broadway', 'cantautori', 'cantopop', 'canzone', 'caribbean',\n",
       "       'caucasian', 'celtic', 'chamber', 'chanson', 'children', 'chill',\n",
       "       'chinese', 'choral', 'christian', 'christmas', 'classical',\n",
       "       'classicmetal', 'club', 'colombian', 'comedy', 'conjazz',\n",
       "       'contemporary', 'country', 'cuban', 'dance', 'dancehall',\n",
       "       'dancepop', 'dark', 'death', 'deep', 'deutschrock', 'deutschspr',\n",
       "       'dirty', 'disco', 'dnb', 'documentary', 'downbeat', 'downtempo',\n",
       "       'drum', 'dub', 'dubstep', 'eastern', 'easy', 'electronic',\n",
       "       'electropop', 'emo', 'entehno', 'epicmetal', 'estrada', 'ethnic',\n",
       "       'eurofolk', 'european', 'experimental', 'extrememetal', 'fado',\n",
       "       'fairytail', 'film', 'fitness', 'flamenco', 'folk', 'folklore',\n",
       "       'folkmetal', 'folkrock', 'folktronica', 'forró', 'frankreich',\n",
       "       'französisch', 'french', 'funk', 'future', 'gangsta', 'garage',\n",
       "       'german', 'ghazal', 'gitarre', 'glitch', 'gospel', 'gothic',\n",
       "       'grime', 'grunge', 'gypsy', 'handsup', \"hard'n'heavy\", 'hardcore',\n",
       "       'hardstyle', 'hardtechno', 'hip', 'hip-hop', 'hiphop',\n",
       "       'historisch', 'holiday', 'hop', 'horror', 'house', 'hymn', 'idm',\n",
       "       'independent', 'indian', 'indie', 'indipop', 'industrial',\n",
       "       'inspirational', 'instrumental', 'international', 'irish', 'jam',\n",
       "       'japanese', 'jazz', 'jewish', 'jpop', 'jungle', 'k-pop',\n",
       "       'karadeniz', 'karaoke', 'kayokyoku', 'korean', 'laiko', 'latin',\n",
       "       'latino', 'leftfield', 'local', 'lounge', 'loungeelectronic',\n",
       "       'lovers', 'malaysian', 'mandopop', 'marschmusik', 'meditative',\n",
       "       'mediterranean', 'melodic', 'metal', 'metalcore', 'mexican',\n",
       "       'middle', 'minimal', 'miscellaneous', 'modern', 'mood', 'mpb',\n",
       "       'muslim', 'native', 'neoklassik', 'neue', 'new', 'newage',\n",
       "       'newwave', 'nu', 'nujazz', 'numetal', 'oceania', 'old', 'opera',\n",
       "       'orchestral', 'other', 'piano', 'podcasts', 'pop', 'popdance',\n",
       "       'popelectronic', 'popeurodance', 'poprussian', 'post',\n",
       "       'posthardcore', 'postrock', 'power', 'progmetal', 'progressive',\n",
       "       'psychedelic', 'punjabi', 'punk', 'quebecois', 'ragga', 'ram',\n",
       "       'rancheras', 'rap', 'rave', 'reggae', 'reggaeton', 'regional',\n",
       "       'relax', 'religious', 'retro', 'rhythm', 'rnb', 'rnr', 'rock',\n",
       "       'rockabilly', 'rockalternative', 'rockindie', 'rockother',\n",
       "       'romance', 'roots', 'ruspop', 'rusrap', 'rusrock', 'russian',\n",
       "       'salsa', 'samba', 'scenic', 'schlager', 'self', 'sertanejo',\n",
       "       'shanson', 'shoegazing', 'showtunes', 'singer', 'ska', 'skarock',\n",
       "       'slow', 'smooth', 'soft', 'soul', 'soulful', 'sound', 'soundtrack',\n",
       "       'southern', 'specialty', 'speech', 'spiritual', 'sport',\n",
       "       'stonerrock', 'surf', 'swing', 'synthpop', 'synthrock',\n",
       "       'sängerportrait', 'tango', 'tanzorchester', 'taraftar', 'tatar',\n",
       "       'tech', 'techno', 'teen', 'thrash', 'top', 'traditional',\n",
       "       'tradjazz', 'trance', 'tribal', 'trip', 'triphop', 'tropical',\n",
       "       'türk', 'türkçe', 'ukrrock', 'unknown', 'urban', 'uzbek',\n",
       "       'variété', 'vi', 'videogame', 'vocal', 'western', 'world',\n",
       "       'worldbeat', 'ïîï', 'электроника'], dtype=object)"
      ]
     },
     "execution_count": 137,
     "metadata": {},
     "output_type": "execute_result"
    }
   ],
   "source": [
    "# Viewing unique genre titles\n",
    "\n",
    "df['genre'].sort_values().unique() "
   ]
  },
  {
   "cell_type": "markdown",
   "metadata": {},
   "source": [
    "We go through the list and look for implicit duplicates of hiphop titles. These can be misspelled titles or alternative titles of the same genre.\n",
    "\n",
    "We see the following implicit duplicates:\n",
    "\n",
    "- hip,\n",
    "- hop,\n",
    "- hip-hop.\n",
    "\n",
    "To clear them from the table, we will write `replace_wrong_genres()` function with two parameters:\n",
    "\n",
    "- `wrong_genres` - list of duplicates,\n",
    "- `correct_genre` - the row with the correct value.\n",
    "\n",
    "The function should correct the `genre` column in table `df`: replace each value from `wrong_genres` list with a value from `correct_genre`."
   ]
  },
  {
   "cell_type": "code",
   "execution_count": 138,
   "metadata": {
    "id": "ErNDkmns_Zct"
   },
   "outputs": [],
   "source": [
    "def replace_wrong_genres(wrong_genres, correct_genre):  \n",
    "    for wrong_genre in wrong_genres: \n",
    "        df['genre'] = df['genre'].replace(wrong_genre, correct_genre) \n"
   ]
  },
  {
   "cell_type": "code",
   "execution_count": 139,
   "metadata": {
    "id": "YN5i2hpmSo09"
   },
   "outputs": [],
   "source": [
    "# replacement of implicit duplicates\n",
    "\n",
    "wrong_genres = ['hip', 'hop', 'hip-hop']  \n",
    "correct_genre = 'hiphop' \n",
    "\n",
    "replace_wrong_genres(wrong_genres, correct_genre) "
   ]
  },
  {
   "cell_type": "markdown",
   "metadata": {
    "id": "zQKF16_RG15m"
   },
   "source": [
    "Check that we've replaced the wrong names:\n",
    "\n",
    "- hip\n",
    "- hop\n",
    "- hip-hop\n",
    "\n",
    "Output a sorted list of unique values of the `genre` column:"
   ]
  },
  {
   "cell_type": "code",
   "execution_count": 140,
   "metadata": {
    "id": "wvixALnFG15m"
   },
   "outputs": [
    {
     "data": {
      "text/plain": [
       "array(['acid', 'acoustic', 'action', 'adult', 'africa', 'afrikaans',\n",
       "       'alternative', 'alternativepunk', 'ambient', 'americana',\n",
       "       'animated', 'anime', 'arabesk', 'arabic', 'arena',\n",
       "       'argentinetango', 'art', 'audiobook', 'author', 'avantgarde',\n",
       "       'axé', 'baile', 'balkan', 'beats', 'bigroom', 'black', 'bluegrass',\n",
       "       'blues', 'bollywood', 'bossa', 'brazilian', 'breakbeat', 'breaks',\n",
       "       'broadway', 'cantautori', 'cantopop', 'canzone', 'caribbean',\n",
       "       'caucasian', 'celtic', 'chamber', 'chanson', 'children', 'chill',\n",
       "       'chinese', 'choral', 'christian', 'christmas', 'classical',\n",
       "       'classicmetal', 'club', 'colombian', 'comedy', 'conjazz',\n",
       "       'contemporary', 'country', 'cuban', 'dance', 'dancehall',\n",
       "       'dancepop', 'dark', 'death', 'deep', 'deutschrock', 'deutschspr',\n",
       "       'dirty', 'disco', 'dnb', 'documentary', 'downbeat', 'downtempo',\n",
       "       'drum', 'dub', 'dubstep', 'eastern', 'easy', 'electronic',\n",
       "       'electropop', 'emo', 'entehno', 'epicmetal', 'estrada', 'ethnic',\n",
       "       'eurofolk', 'european', 'experimental', 'extrememetal', 'fado',\n",
       "       'fairytail', 'film', 'fitness', 'flamenco', 'folk', 'folklore',\n",
       "       'folkmetal', 'folkrock', 'folktronica', 'forró', 'frankreich',\n",
       "       'französisch', 'french', 'funk', 'future', 'gangsta', 'garage',\n",
       "       'german', 'ghazal', 'gitarre', 'glitch', 'gospel', 'gothic',\n",
       "       'grime', 'grunge', 'gypsy', 'handsup', \"hard'n'heavy\", 'hardcore',\n",
       "       'hardstyle', 'hardtechno', 'hiphop', 'historisch', 'holiday',\n",
       "       'horror', 'house', 'hymn', 'idm', 'independent', 'indian', 'indie',\n",
       "       'indipop', 'industrial', 'inspirational', 'instrumental',\n",
       "       'international', 'irish', 'jam', 'japanese', 'jazz', 'jewish',\n",
       "       'jpop', 'jungle', 'k-pop', 'karadeniz', 'karaoke', 'kayokyoku',\n",
       "       'korean', 'laiko', 'latin', 'latino', 'leftfield', 'local',\n",
       "       'lounge', 'loungeelectronic', 'lovers', 'malaysian', 'mandopop',\n",
       "       'marschmusik', 'meditative', 'mediterranean', 'melodic', 'metal',\n",
       "       'metalcore', 'mexican', 'middle', 'minimal', 'miscellaneous',\n",
       "       'modern', 'mood', 'mpb', 'muslim', 'native', 'neoklassik', 'neue',\n",
       "       'new', 'newage', 'newwave', 'nu', 'nujazz', 'numetal', 'oceania',\n",
       "       'old', 'opera', 'orchestral', 'other', 'piano', 'podcasts', 'pop',\n",
       "       'popdance', 'popelectronic', 'popeurodance', 'poprussian', 'post',\n",
       "       'posthardcore', 'postrock', 'power', 'progmetal', 'progressive',\n",
       "       'psychedelic', 'punjabi', 'punk', 'quebecois', 'ragga', 'ram',\n",
       "       'rancheras', 'rap', 'rave', 'reggae', 'reggaeton', 'regional',\n",
       "       'relax', 'religious', 'retro', 'rhythm', 'rnb', 'rnr', 'rock',\n",
       "       'rockabilly', 'rockalternative', 'rockindie', 'rockother',\n",
       "       'romance', 'roots', 'ruspop', 'rusrap', 'rusrock', 'russian',\n",
       "       'salsa', 'samba', 'scenic', 'schlager', 'self', 'sertanejo',\n",
       "       'shanson', 'shoegazing', 'showtunes', 'singer', 'ska', 'skarock',\n",
       "       'slow', 'smooth', 'soft', 'soul', 'soulful', 'sound', 'soundtrack',\n",
       "       'southern', 'specialty', 'speech', 'spiritual', 'sport',\n",
       "       'stonerrock', 'surf', 'swing', 'synthpop', 'synthrock',\n",
       "       'sängerportrait', 'tango', 'tanzorchester', 'taraftar', 'tatar',\n",
       "       'tech', 'techno', 'teen', 'thrash', 'top', 'traditional',\n",
       "       'tradjazz', 'trance', 'tribal', 'trip', 'triphop', 'tropical',\n",
       "       'türk', 'türkçe', 'ukrrock', 'unknown', 'urban', 'uzbek',\n",
       "       'variété', 'vi', 'videogame', 'vocal', 'western', 'world',\n",
       "       'worldbeat', 'ïîï', 'электроника'], dtype=object)"
      ]
     },
     "execution_count": 140,
     "metadata": {},
     "output_type": "execute_result"
    }
   ],
   "source": [
    "df['genre'].sort_values().unique() "
   ]
  },
  {
   "cell_type": "markdown",
   "metadata": {},
   "source": [
    "**Conclusions**\n",
    "\n",
    "Preprocessing revealed three problems in the data:\n",
    "\n",
    "- header style irregularities,\n",
    "- missing values,\n",
    "- duplicates - explicit and implicit.\n",
    "\n",
    "We have corrected the headings to make the table easier to work with. Without duplicates, the study will be more accurate.\n",
    "\n",
    "We have replaced the missing values with `unknown`. It remains to be seen if the omissions in the `genre` column will harm the study.\n",
    "\n",
    "We can now move on to hypothesis testing."
   ]
  },
  {
   "cell_type": "markdown",
   "metadata": {
    "id": "WttZHXH0SqKk"
   },
   "source": [
    "## Hypothesis testing"
   ]
  },
  {
   "cell_type": "markdown",
   "metadata": {
    "id": "Im936VVi_Zcu"
   },
   "source": [
    "### Comparison of user behaviour in the two capitals"
   ]
  },
  {
   "cell_type": "markdown",
   "metadata": {},
   "source": [
    "The first hypothesis states that users listen to music differently in Moscow and St. Petersburg. Test this hypothesis with data from three days of the week - Monday, Wednesday and Friday. To do this we:\n",
    "\n",
    "- divide the users in Moscow and St. Petersburg\n",
    "- compare how many tracks each group of users listened to on Monday, Wednesday and Friday."
   ]
  },
  {
   "cell_type": "code",
   "execution_count": 141,
   "metadata": {
    "id": "0_Qs96oh_Zcu"
   },
   "outputs": [
    {
     "data": {
      "text/plain": [
       "city\n",
       "Moscow              42741\n",
       "Saint-Petersburg    18512\n",
       "Name: user_id, dtype: int64"
      ]
     },
     "execution_count": 141,
     "metadata": {},
     "output_type": "execute_result"
    }
   ],
   "source": [
    "df.groupby('city')['user_id'].count()"
   ]
  },
  {
   "cell_type": "markdown",
   "metadata": {
    "id": "dzli3w8o_Zcu"
   },
   "source": [
    "There are more listening sessions in Moscow than in St. Petersburg. It doesn't mean that Moscow users listen to music more often. It's just that there are more users in Moscow.\n",
    "\n",
    "Now group the data by day of the week and count listening on Monday, Wednesday and Friday. Note that the data have information only about the listening on those days."
   ]
  },
  {
   "cell_type": "code",
   "execution_count": 142,
   "metadata": {
    "id": "uZMKjiJz_Zcu"
   },
   "outputs": [
    {
     "data": {
      "text/plain": [
       "day\n",
       "Friday       21840\n",
       "Monday       21354\n",
       "Wednesday    18059\n",
       "Name: user_id, dtype: int64"
      ]
     },
     "execution_count": 142,
     "metadata": {},
     "output_type": "execute_result"
    }
   ],
   "source": [
    "df.groupby('day')['user_id'].count()"
   ]
  },
  {
   "cell_type": "markdown",
   "metadata": {
    "id": "cC2tNrlL_Zcu"
   },
   "source": [
    "On average, users from the two cities are less active on Wednesdays. But the picture can change if you look at each city separately."
   ]
  },
  {
   "cell_type": "markdown",
   "metadata": {},
   "source": [
    "You have seen how grouping by city and by day of the week works. Now write a function that combines these two calculations.\n",
    "\n",
    "Create a function, `number_tracks()`, which calculates the auditions for a given day and city. It will need two parameters:\n",
    "\n",
    "- day of the week,\n",
    "- city name.\n",
    "\n",
    "In the function, save to a variable the rows of the source table that have the value:\n",
    "\n",
    "- in the `day` column is equal to the `day` parameter,\n",
    "- in the `city` column is equal to the `city` parameter.\n",
    "\n",
    "To do this, apply sequential filtering with logical indexing.\n",
    "\n",
    "Then count the values in the `user_id` column of the resulting table. Save the result to a new variable. Return this variable from the function."
   ]
  },
  {
   "cell_type": "code",
   "execution_count": 143,
   "metadata": {
    "id": "Nz3GdQB1_Zcu"
   },
   "outputs": [],
   "source": [
    "def number_tracks(day, city): \n",
    "    track_list = df[df['day'] == day] \n",
    "    track_list = track_list[track_list['city'] == city]  \n",
    "    track_list_count = track_list['user_id'].count() \n",
    "    return track_list_count \n"
   ]
  },
  {
   "cell_type": "code",
   "execution_count": 144,
   "metadata": {
    "id": "rJcRATNQ_Zcu"
   },
   "outputs": [
    {
     "data": {
      "text/plain": [
       "15740"
      ]
     },
     "execution_count": 144,
     "metadata": {},
     "output_type": "execute_result"
    }
   ],
   "source": [
    "# number of auditions in Moscow on Mondays\n",
    "\n",
    "number_tracks('Monday', 'Moscow')"
   ]
  },
  {
   "cell_type": "code",
   "execution_count": 145,
   "metadata": {
    "id": "hq_ncZ5T_Zcu"
   },
   "outputs": [
    {
     "data": {
      "text/plain": [
       "5614"
      ]
     },
     "execution_count": 145,
     "metadata": {},
     "output_type": "execute_result"
    }
   ],
   "source": [
    "# Number of auditions in St Petersburg on Mondays\n",
    "\n",
    "number_tracks('Monday', 'Saint-Petersburg')"
   ]
  },
  {
   "cell_type": "code",
   "execution_count": 146,
   "metadata": {
    "id": "_NTy2VPU_Zcu"
   },
   "outputs": [
    {
     "data": {
      "text/plain": [
       "11056"
      ]
     },
     "execution_count": 146,
     "metadata": {},
     "output_type": "execute_result"
    }
   ],
   "source": [
    "number_tracks('Wednesday', 'Moscow')"
   ]
  },
  {
   "cell_type": "code",
   "execution_count": 147,
   "metadata": {
    "id": "j2y3TAwo_Zcu"
   },
   "outputs": [
    {
     "data": {
      "text/plain": [
       "7003"
      ]
     },
     "execution_count": 147,
     "metadata": {},
     "output_type": "execute_result"
    }
   ],
   "source": [
    "number_tracks('Wednesday', 'Saint-Petersburg')"
   ]
  },
  {
   "cell_type": "code",
   "execution_count": 148,
   "metadata": {
    "id": "vYDw5u_K_Zcu"
   },
   "outputs": [
    {
     "data": {
      "text/plain": [
       "15945"
      ]
     },
     "execution_count": 148,
     "metadata": {},
     "output_type": "execute_result"
    }
   ],
   "source": [
    "number_tracks('Friday', 'Moscow')"
   ]
  },
  {
   "cell_type": "code",
   "execution_count": 149,
   "metadata": {
    "id": "8_yzFtW3_Zcu",
    "scrolled": true
   },
   "outputs": [
    {
     "data": {
      "text/plain": [
       "5895"
      ]
     },
     "execution_count": 149,
     "metadata": {},
     "output_type": "execute_result"
    }
   ],
   "source": [
    "number_tracks('Friday', 'Saint-Petersburg')"
   ]
  },
  {
   "cell_type": "markdown",
   "metadata": {},
   "source": [
    "We use the `pd.DataFrame` constructor to create a table where\n",
    "\n",
    "- column names are `['city', 'monday', 'wednesday', 'friday']`;\n",
    "- the data are the results we got with `number_tracks`."
   ]
  },
  {
   "cell_type": "code",
   "execution_count": 150,
   "metadata": {
    "id": "APAcLpOr_Zcu"
   },
   "outputs": [
    {
     "data": {
      "text/html": [
       "<div>\n",
       "<style scoped>\n",
       "    .dataframe tbody tr th:only-of-type {\n",
       "        vertical-align: middle;\n",
       "    }\n",
       "\n",
       "    .dataframe tbody tr th {\n",
       "        vertical-align: top;\n",
       "    }\n",
       "\n",
       "    .dataframe thead th {\n",
       "        text-align: right;\n",
       "    }\n",
       "</style>\n",
       "<table border=\"1\" class=\"dataframe\">\n",
       "  <thead>\n",
       "    <tr style=\"text-align: right;\">\n",
       "      <th></th>\n",
       "      <th>city</th>\n",
       "      <th>monday</th>\n",
       "      <th>wednesday</th>\n",
       "      <th>friday</th>\n",
       "    </tr>\n",
       "  </thead>\n",
       "  <tbody>\n",
       "    <tr>\n",
       "      <td>0</td>\n",
       "      <td>Moscow</td>\n",
       "      <td>15740</td>\n",
       "      <td>11056</td>\n",
       "      <td>15945</td>\n",
       "    </tr>\n",
       "    <tr>\n",
       "      <td>1</td>\n",
       "      <td>Saint-Petersburg</td>\n",
       "      <td>5614</td>\n",
       "      <td>7003</td>\n",
       "      <td>5895</td>\n",
       "    </tr>\n",
       "  </tbody>\n",
       "</table>\n",
       "</div>"
      ],
      "text/plain": [
       "               city  monday  wednesday  friday\n",
       "0            Moscow   15740      11056   15945\n",
       "1  Saint-Petersburg    5614       7003    5895"
      ]
     },
     "metadata": {},
     "output_type": "display_data"
    }
   ],
   "source": [
    "columns = ['city', 'monday', 'wednesday', 'friday']\n",
    "data = [\n",
    "    ['Moscow', number_tracks('Monday', 'Moscow'), number_tracks('Wednesday', 'Moscow'), number_tracks('Friday', 'Moscow')],\n",
    "    ['Saint-Petersburg', number_tracks('Monday', 'Saint-Petersburg'), number_tracks('Wednesday', 'Saint-Petersburg'), number_tracks('Friday', 'Saint-Petersburg')],\n",
    "]\n",
    "\n",
    "user_behaviour = pd.DataFrame(data = data, columns = columns)\n",
    "display(user_behaviour)"
   ]
  },
  {
   "cell_type": "markdown",
   "metadata": {
    "id": "-EgPIHYu_Zcu"
   },
   "source": [
    "**Conclusions**\n",
    "\n",
    "The data show a difference in user behaviour:\n",
    "\n",
    "- In Moscow, listening peaks on Mondays and Fridays, with a noticeable decline on Wednesdays.\n",
    "- In St. Petersburg, on the contrary, more music is listened to on Wednesdays. The activity on Monday and Friday here is almost equally inferior to that on Wednesdays.\n",
    "\n",
    "So the data are in favour of the first hypothesis."
   ]
  },
  {
   "cell_type": "markdown",
   "metadata": {
    "id": "atZAxtq4_Zcu"
   },
   "source": [
    "### Music at the beginning and at the end of the week"
   ]
  },
  {
   "cell_type": "markdown",
   "metadata": {
    "id": "eXrQqXFH_Zcu"
   },
   "source": [
    "According to the second hypothesis, on a Monday morning some genres dominate in Moscow and others in St. Petersburg. Likewise, Friday evenings are dominated by different genres - depending on the city."
   ]
  },
  {
   "cell_type": "markdown",
   "metadata": {
    "id": "S8UcW6Hw_Zcu"
   },
   "source": [
    "Save the table data into two variables:\n",
    "\n",
    "- for Moscow - in `moscow_general`;\n",
    "- for St. Petersburg - in `spb_general`."
   ]
  },
  {
   "cell_type": "code",
   "execution_count": 151,
   "metadata": {
    "id": "qeaFfM_P_Zcu"
   },
   "outputs": [],
   "source": [
    "moscow_general = df[df['city'] == 'Moscow'] # create a table with data for Moscow only"
   ]
  },
  {
   "cell_type": "code",
   "execution_count": 152,
   "metadata": {
    "id": "ORaVRKto_Zcu"
   },
   "outputs": [],
   "source": [
    "spb_general = df[df['city'] == 'Saint-Petersburg'] # create a table with data for St Petersburg only"
   ]
  },
  {
   "cell_type": "markdown",
   "metadata": {},
   "source": [
    "Create a `genre_weekday()` function with four parameters:\n",
    "\n",
    "- a dataframe with data,\n",
    "- weekday,\n",
    "- start time stamp in 'hh:mm' format,\n",
    "- last time stamp in 'hh:mm' format.\n",
    "\n",
    "The function should return information about the top 10 genres of those tracks listened to on the specified day, between the two time stamps."
   ]
  },
  {
   "cell_type": "code",
   "execution_count": 153,
   "metadata": {
    "id": "laJT9BYl_Zcu"
   },
   "outputs": [],
   "source": [
    "def genre_weekday(df, day, time1, time2):\n",
    "    genre_df = df[df['day'] == day] \n",
    "    genre_df = genre_df[genre_df['time'] > time1] \n",
    "    genre_df = genre_df[genre_df['time'] < time2] \n",
    "    \n",
    "    genre_df_count = genre_df.groupby('genre')['user_id'].count() \n",
    "    genre_df_sorted = genre_df_count.sort_values(ascending=False) \n",
    "    \n",
    "    return genre_df_sorted.head(10)"
   ]
  },
  {
   "cell_type": "markdown",
   "metadata": {
    "id": "la2s2_PF_Zcu"
   },
   "source": [
    "Compare the results of `genre_weekday()` for Moscow and St. Petersburg on Monday morning (7:00-11:00) and Friday evening (17:00-23:00):"
   ]
  },
  {
   "cell_type": "code",
   "execution_count": 154,
   "metadata": {
    "id": "yz7itPUQ_Zcu"
   },
   "outputs": [
    {
     "data": {
      "text/plain": [
       "genre\n",
       "pop            781\n",
       "dance          549\n",
       "electronic     480\n",
       "rock           474\n",
       "hiphop         286\n",
       "ruspop         186\n",
       "world          181\n",
       "rusrap         175\n",
       "alternative    164\n",
       "unknown        161\n",
       "Name: user_id, dtype: int64"
      ]
     },
     "execution_count": 154,
     "metadata": {},
     "output_type": "execute_result"
    }
   ],
   "source": [
    "genre_weekday(moscow_general, 'Monday', '07:00', '11:00')"
   ]
  },
  {
   "cell_type": "code",
   "execution_count": 155,
   "metadata": {
    "id": "kwUcHPdy_Zcu"
   },
   "outputs": [
    {
     "data": {
      "text/plain": [
       "genre\n",
       "pop            218\n",
       "dance          182\n",
       "rock           162\n",
       "electronic     147\n",
       "hiphop          80\n",
       "ruspop          64\n",
       "alternative     58\n",
       "rusrap          55\n",
       "jazz            44\n",
       "classical       40\n",
       "Name: user_id, dtype: int64"
      ]
     },
     "execution_count": 155,
     "metadata": {},
     "output_type": "execute_result"
    }
   ],
   "source": [
    "genre_weekday(spb_general, 'Monday', '07:00', '11:00')"
   ]
  },
  {
   "cell_type": "code",
   "execution_count": 156,
   "metadata": {
    "id": "EzXVRE1o_Zcu",
    "scrolled": true
   },
   "outputs": [
    {
     "data": {
      "text/plain": [
       "genre\n",
       "pop            713\n",
       "rock           517\n",
       "dance          495\n",
       "electronic     482\n",
       "hiphop         273\n",
       "world          208\n",
       "ruspop         170\n",
       "alternative    163\n",
       "classical      163\n",
       "rusrap         142\n",
       "Name: user_id, dtype: int64"
      ]
     },
     "execution_count": 156,
     "metadata": {},
     "output_type": "execute_result"
    }
   ],
   "source": [
    "genre_weekday(moscow_general, 'Friday', '17:00', '23:00')"
   ]
  },
  {
   "cell_type": "code",
   "execution_count": 157,
   "metadata": {
    "id": "JZaEKu5v_Zcu",
    "scrolled": true
   },
   "outputs": [
    {
     "data": {
      "text/plain": [
       "genre\n",
       "pop            256\n",
       "rock           216\n",
       "electronic     216\n",
       "dance          210\n",
       "hiphop          97\n",
       "alternative     63\n",
       "jazz            61\n",
       "classical       60\n",
       "rusrap          59\n",
       "world           54\n",
       "Name: user_id, dtype: int64"
      ]
     },
     "execution_count": 157,
     "metadata": {},
     "output_type": "execute_result"
    }
   ],
   "source": [
    "genre_weekday(spb_general, 'Friday', '17:00', '23:00')"
   ]
  },
  {
   "cell_type": "markdown",
   "metadata": {},
   "source": [
    "**Conclusions**\n",
    "\n",
    "If we compare the top 10 genres on Monday mornings we can draw the following conclusions:\n",
    "\n",
    "1. In Moscow and St. Petersburg people listen to similar music. The only difference is that Moscow's ranking included the 'world' genre, while St Petersburg's was jazz and classical.\n",
    "\n",
    "2. In Moscow there were so many missing values that `'unknown'` took tenth place among the most popular genres. So the missing values take up a significant proportion of the data and threaten the credibility of the study.\n",
    "\n",
    "Friday night doesn't change that picture. Some genres go slightly higher, others go down, but overall the top 10 remains the same.\n",
    "\n",
    "Thus, the second hypothesis is only partially confirmed:\n",
    "\n",
    "- Users listen to similar music at the beginning of the week and at the end of the week.\n",
    "- The difference between Moscow and St. Petersburg is not very pronounced. In Moscow they listen to Russian popular music more often, in St. Petersburg - jazz.\n",
    "\n",
    "However, omissions in the data cast doubt on this result. There are so many in Moscow that the top-10 ranking could look different if not for the missing data on genres."
   ]
  },
  {
   "cell_type": "markdown",
   "metadata": {
    "id": "JolODAqr_Zcu"
   },
   "source": [
    "### Genre preferences in Moscow and St Petersburg\n",
    "\n",
    "Hypothesis: St. Petersburg is the rap capital, music of this genre is listened to there more often than in Moscow.  And Moscow is a city of contrasts, which, however, is dominated by pop music."
   ]
  },
  {
   "cell_type": "markdown",
   "metadata": {},
   "source": [
    "Group the `moscow_general` table by genre and count the number of listenings of tracks by genre by using `count()`. Then sort the result in descending order and store it in the `moscow_genres` table."
   ]
  },
  {
   "cell_type": "code",
   "execution_count": 158,
   "metadata": {
    "id": "r19lIPke_Zcu"
   },
   "outputs": [],
   "source": [
    "moscow_genres = moscow_general.groupby('genre')['track'].count().sort_values(ascending=False)"
   ]
  },
  {
   "cell_type": "code",
   "execution_count": 159,
   "metadata": {
    "id": "WhCSooF8_Zcv"
   },
   "outputs": [
    {
     "data": {
      "text/plain": [
       "genre\n",
       "pop            5892\n",
       "dance          4435\n",
       "rock           3965\n",
       "electronic     3786\n",
       "hiphop         2096\n",
       "classical      1616\n",
       "world          1432\n",
       "alternative    1379\n",
       "ruspop         1372\n",
       "rusrap         1161\n",
       "Name: track, dtype: int64"
      ]
     },
     "execution_count": 159,
     "metadata": {},
     "output_type": "execute_result"
    }
   ],
   "source": [
    "# view first 10 lines of moscow_genres\n",
    "\n",
    "moscow_genres.head(10)"
   ]
  },
  {
   "cell_type": "markdown",
   "metadata": {
    "id": "cnPG2vnN_Zcv"
   },
   "source": [
    "Now repeat the same for St Petersburg."
   ]
  },
  {
   "cell_type": "code",
   "execution_count": 160,
   "metadata": {
    "id": "gluLIpE7_Zcv"
   },
   "outputs": [],
   "source": [
    "spb_genres = spb_general.groupby('genre')['track'].count().sort_values(ascending=False)"
   ]
  },
  {
   "cell_type": "code",
   "execution_count": 161,
   "metadata": {
    "id": "uaGJHjVU_Zcv",
    "scrolled": true
   },
   "outputs": [
    {
     "data": {
      "text/plain": [
       "genre\n",
       "pop            2431\n",
       "dance          1932\n",
       "rock           1879\n",
       "electronic     1736\n",
       "hiphop          960\n",
       "alternative     649\n",
       "classical       646\n",
       "rusrap          564\n",
       "ruspop          538\n",
       "world           515\n",
       "Name: track, dtype: int64"
      ]
     },
     "execution_count": 161,
     "metadata": {},
     "output_type": "execute_result"
    }
   ],
   "source": [
    "# view first 10 lines of spb_genres\n",
    "\n",
    "spb_genres.head(10)"
   ]
  },
  {
   "cell_type": "markdown",
   "metadata": {
    "id": "RY51YJYu_Zcv"
   },
   "source": [
    "**Conclusions**"
   ]
  },
  {
   "cell_type": "markdown",
   "metadata": {
    "id": "nVhnJEm__Zcv"
   },
   "source": [
    "The hypothesis was partly confirmed:\n",
    "\n",
    "- Pop music is the most popular genre in Moscow, as the hypothesis suggested. Moreover, there is a close genre in the top 10 genres - Russian popular music.\n",
    "- Contrary to expectations, rap is equally popular in Moscow and St Petersburg."
   ]
  },
  {
   "cell_type": "markdown",
   "metadata": {
    "id": "ykKQ0N65_Zcv"
   },
   "source": [
    "## Study results"
   ]
  },
  {
   "cell_type": "markdown",
   "metadata": {},
   "source": [
    "We have tested three hypotheses and established:\n",
    "\n",
    "1. The day of the week has a different effect on user activity in Moscow and St. Petersburg.\n",
    "\n",
    "The first hypothesis is fully confirmed.\n",
    "\n",
    "2. Musical preferences do not change much during the week - be it in Moscow or St. Petersburg. Slight differences are noticeable at the beginning of the week, on Mondays:\n",
    "- in Moscow they listen to \"world\" music,\n",
    "- in St. Petersburg they listen to jazz and classical music.\n",
    "\n",
    "Thus, the second hypothesis was only partly confirmed. This result could have been different had it not been for the missing data.\n",
    "\n",
    "3. The tastes of Moscow and St. Petersburg users have more in common than in difference. Contrary to expectations, genre preferences in St. Petersburg resemble those in Moscow.\n",
    "\n",
    "The third hypothesis was not confirmed. If differences in preferences exist, they are not noticeable on the bulk of users.\n"
   ]
  }
 ],
 "metadata": {
  "ExecuteTimeLog": [
   {
    "duration": 853,
    "start_time": "2022-02-04T17:12:28.934Z"
   },
   {
    "duration": 4,
    "start_time": "2022-02-04T17:12:37.392Z"
   },
   {
    "duration": 4,
    "start_time": "2022-02-04T17:12:41.425Z"
   },
   {
    "duration": 199,
    "start_time": "2022-02-04T17:15:24.922Z"
   },
   {
    "duration": 27,
    "start_time": "2022-02-04T17:16:24.023Z"
   },
   {
    "duration": 32,
    "start_time": "2022-02-04T17:17:55.477Z"
   },
   {
    "duration": 7,
    "start_time": "2022-02-04T17:33:47.643Z"
   },
   {
    "duration": 5,
    "start_time": "2022-02-04T17:34:17.627Z"
   },
   {
    "duration": 29,
    "start_time": "2022-02-04T17:40:44.823Z"
   },
   {
    "duration": 6,
    "start_time": "2022-02-04T17:41:05.861Z"
   },
   {
    "duration": 32,
    "start_time": "2022-02-04T17:45:49.170Z"
   },
   {
    "duration": 33,
    "start_time": "2022-02-04T17:46:00.281Z"
   },
   {
    "duration": 24,
    "start_time": "2022-02-04T18:04:42.304Z"
   },
   {
    "duration": 86,
    "start_time": "2022-02-04T18:05:13.378Z"
   },
   {
    "duration": 30,
    "start_time": "2022-02-04T18:05:24.326Z"
   },
   {
    "duration": 24,
    "start_time": "2022-02-04T18:17:29.067Z"
   },
   {
    "duration": 32,
    "start_time": "2022-02-04T18:17:33.152Z"
   },
   {
    "duration": 18,
    "start_time": "2022-02-04T18:18:37.604Z"
   },
   {
    "duration": 87,
    "start_time": "2022-02-04T18:23:03.472Z"
   },
   {
    "duration": 107,
    "start_time": "2022-02-04T18:30:14.162Z"
   },
   {
    "duration": 76,
    "start_time": "2022-02-04T18:30:52.362Z"
   },
   {
    "duration": 7,
    "start_time": "2022-02-04T18:44:14.733Z"
   },
   {
    "duration": 362,
    "start_time": "2022-02-04T18:45:41.117Z"
   },
   {
    "duration": 275,
    "start_time": "2022-02-04T18:46:52.149Z"
   },
   {
    "duration": 53,
    "start_time": "2022-02-04T18:47:42.378Z"
   },
   {
    "duration": 292,
    "start_time": "2022-02-04T18:49:14.567Z"
   },
   {
    "duration": 4035,
    "start_time": "2022-02-04T18:51:44.967Z"
   },
   {
    "duration": 273,
    "start_time": "2022-02-04T18:56:57.593Z"
   },
   {
    "duration": 88,
    "start_time": "2022-02-04T18:58:27.411Z"
   },
   {
    "duration": 10,
    "start_time": "2022-02-04T18:58:40.050Z"
   },
   {
    "duration": 349,
    "start_time": "2022-02-04T18:59:51.730Z"
   },
   {
    "duration": 86,
    "start_time": "2022-02-04T19:02:24.690Z"
   },
   {
    "duration": 14,
    "start_time": "2022-02-04T19:02:51.169Z"
   },
   {
    "duration": 4,
    "start_time": "2022-02-04T19:07:21.160Z"
   },
   {
    "duration": 6,
    "start_time": "2022-02-04T19:07:39.440Z"
   },
   {
    "duration": 7,
    "start_time": "2022-02-04T19:07:54.183Z"
   },
   {
    "duration": 3641,
    "start_time": "2022-02-04T19:09:31.729Z"
   },
   {
    "duration": 3805,
    "start_time": "2022-02-04T19:09:35.602Z"
   },
   {
    "duration": 3637,
    "start_time": "2022-02-04T19:10:37.973Z"
   },
   {
    "duration": 14,
    "start_time": "2022-02-04T19:15:03.271Z"
   },
   {
    "duration": 289,
    "start_time": "2022-02-04T19:24:04.338Z"
   },
   {
    "duration": 343,
    "start_time": "2022-02-04T19:24:41.590Z"
   },
   {
    "duration": 118,
    "start_time": "2022-02-04T19:25:14.194Z"
   },
   {
    "duration": 16,
    "start_time": "2022-02-04T19:25:30.216Z"
   },
   {
    "duration": 6,
    "start_time": "2022-02-04T19:47:15.137Z"
   },
   {
    "duration": 13,
    "start_time": "2022-02-04T19:48:45.792Z"
   },
   {
    "duration": 13,
    "start_time": "2022-02-04T19:50:16.447Z"
   },
   {
    "duration": 16,
    "start_time": "2022-02-04T19:50:49.041Z"
   },
   {
    "duration": 5,
    "start_time": "2022-02-04T19:52:43.312Z"
   },
   {
    "duration": 13,
    "start_time": "2022-02-04T19:52:48.478Z"
   },
   {
    "duration": 14,
    "start_time": "2022-02-04T19:52:53.515Z"
   },
   {
    "duration": 4,
    "start_time": "2022-02-04T19:54:03.455Z"
   },
   {
    "duration": 13,
    "start_time": "2022-02-04T19:54:16.329Z"
   },
   {
    "duration": 13,
    "start_time": "2022-02-04T19:54:24.843Z"
   },
   {
    "duration": 4,
    "start_time": "2022-02-04T19:58:32.926Z"
   },
   {
    "duration": 13,
    "start_time": "2022-02-04T19:58:46.668Z"
   },
   {
    "duration": 15,
    "start_time": "2022-02-04T19:58:51.663Z"
   },
   {
    "duration": 349,
    "start_time": "2022-02-05T08:26:15.753Z"
   },
   {
    "duration": 318,
    "start_time": "2022-02-05T08:26:46.423Z"
   },
   {
    "duration": 570,
    "start_time": "2022-02-05T08:26:58.071Z"
   },
   {
    "duration": 119,
    "start_time": "2022-02-05T08:26:58.643Z"
   },
   {
    "duration": 19,
    "start_time": "2022-02-05T08:26:58.764Z"
   },
   {
    "duration": 22,
    "start_time": "2022-02-05T08:26:58.784Z"
   },
   {
    "duration": 4,
    "start_time": "2022-02-05T08:26:58.808Z"
   },
   {
    "duration": 19,
    "start_time": "2022-02-05T08:26:58.813Z"
   },
   {
    "duration": 4,
    "start_time": "2022-02-05T08:26:58.833Z"
   },
   {
    "duration": 19,
    "start_time": "2022-02-05T08:26:58.839Z"
   },
   {
    "duration": 22,
    "start_time": "2022-02-05T08:26:58.860Z"
   },
   {
    "duration": 19,
    "start_time": "2022-02-05T08:26:58.884Z"
   },
   {
    "duration": 50,
    "start_time": "2022-02-05T08:26:58.905Z"
   },
   {
    "duration": 60,
    "start_time": "2022-02-05T08:26:58.957Z"
   },
   {
    "duration": 44,
    "start_time": "2022-02-05T08:26:59.019Z"
   },
   {
    "duration": 8,
    "start_time": "2022-02-05T08:26:59.072Z"
   },
   {
    "duration": 2,
    "start_time": "2022-02-05T08:26:59.082Z"
   },
   {
    "duration": 9,
    "start_time": "2022-02-05T08:26:59.085Z"
   },
   {
    "duration": 8,
    "start_time": "2022-02-05T08:26:59.096Z"
   },
   {
    "duration": 28,
    "start_time": "2022-02-05T08:26:59.105Z"
   },
   {
    "duration": 2,
    "start_time": "2022-02-05T08:26:59.134Z"
   },
   {
    "duration": 4,
    "start_time": "2022-02-05T08:26:59.138Z"
   },
   {
    "duration": 12,
    "start_time": "2022-02-05T08:26:59.143Z"
   },
   {
    "duration": 10,
    "start_time": "2022-02-05T08:26:59.156Z"
   },
   {
    "duration": 5,
    "start_time": "2022-02-05T08:26:59.169Z"
   },
   {
    "duration": 9,
    "start_time": "2022-02-05T08:26:59.176Z"
   },
   {
    "duration": 9,
    "start_time": "2022-02-05T08:26:59.186Z"
   },
   {
    "duration": 11,
    "start_time": "2022-02-05T08:26:59.196Z"
   },
   {
    "duration": 9,
    "start_time": "2022-02-05T08:26:59.208Z"
   },
   {
    "duration": 8,
    "start_time": "2022-02-05T08:26:59.218Z"
   },
   {
    "duration": 10,
    "start_time": "2022-02-05T08:26:59.227Z"
   },
   {
    "duration": 10,
    "start_time": "2022-02-05T08:26:59.239Z"
   },
   {
    "duration": 12,
    "start_time": "2022-02-05T08:26:59.250Z"
   },
   {
    "duration": 8,
    "start_time": "2022-02-05T08:26:59.264Z"
   },
   {
    "duration": 10,
    "start_time": "2022-02-05T08:26:59.273Z"
   },
   {
    "duration": 8,
    "start_time": "2022-02-05T08:26:59.285Z"
   },
   {
    "duration": 11,
    "start_time": "2022-02-05T08:26:59.294Z"
   },
   {
    "duration": 9,
    "start_time": "2022-02-05T08:26:59.307Z"
   },
   {
    "duration": 8,
    "start_time": "2022-02-05T08:26:59.317Z"
   },
   {
    "duration": 9,
    "start_time": "2022-02-05T08:26:59.326Z"
   },
   {
    "duration": 29,
    "start_time": "2022-02-05T08:30:32.372Z"
   },
   {
    "duration": 3,
    "start_time": "2022-02-05T08:47:35.321Z"
   },
   {
    "duration": 15,
    "start_time": "2022-02-05T08:50:17.596Z"
   },
   {
    "duration": 14,
    "start_time": "2022-02-05T08:51:02.037Z"
   },
   {
    "duration": 14,
    "start_time": "2022-02-05T08:52:12.700Z"
   },
   {
    "duration": 16,
    "start_time": "2022-02-05T08:52:30.621Z"
   },
   {
    "duration": 14,
    "start_time": "2022-02-05T08:52:56.440Z"
   },
   {
    "duration": 14,
    "start_time": "2022-02-05T08:53:25.932Z"
   },
   {
    "duration": 3,
    "start_time": "2022-02-05T09:03:36.087Z"
   },
   {
    "duration": 60,
    "start_time": "2022-02-05T09:36:05.344Z"
   },
   {
    "duration": 58,
    "start_time": "2022-02-05T09:36:20.584Z"
   },
   {
    "duration": 10,
    "start_time": "2022-02-05T10:07:46.116Z"
   },
   {
    "duration": 18,
    "start_time": "2022-02-05T10:08:15.430Z"
   },
   {
    "duration": 17,
    "start_time": "2022-02-05T10:10:05.169Z"
   },
   {
    "duration": 11,
    "start_time": "2022-02-05T10:11:31.269Z"
   },
   {
    "duration": 16,
    "start_time": "2022-02-05T10:13:01.987Z"
   },
   {
    "duration": 3,
    "start_time": "2022-02-05T10:40:37.940Z"
   },
   {
    "duration": 302,
    "start_time": "2022-02-05T13:04:12.392Z"
   },
   {
    "duration": 250,
    "start_time": "2022-02-05T13:04:26.034Z"
   },
   {
    "duration": 684,
    "start_time": "2022-02-05T13:04:35.081Z"
   },
   {
    "duration": 188,
    "start_time": "2022-02-05T13:04:35.768Z"
   },
   {
    "duration": 26,
    "start_time": "2022-02-05T13:04:35.959Z"
   },
   {
    "duration": 51,
    "start_time": "2022-02-05T13:04:35.988Z"
   },
   {
    "duration": 7,
    "start_time": "2022-02-05T13:04:36.042Z"
   },
   {
    "duration": 33,
    "start_time": "2022-02-05T13:04:36.051Z"
   },
   {
    "duration": 5,
    "start_time": "2022-02-05T13:04:36.086Z"
   },
   {
    "duration": 61,
    "start_time": "2022-02-05T13:04:36.094Z"
   },
   {
    "duration": 23,
    "start_time": "2022-02-05T13:04:36.158Z"
   },
   {
    "duration": 62,
    "start_time": "2022-02-05T13:04:36.183Z"
   },
   {
    "duration": 107,
    "start_time": "2022-02-05T13:04:36.248Z"
   },
   {
    "duration": 109,
    "start_time": "2022-02-05T13:04:36.357Z"
   },
   {
    "duration": 89,
    "start_time": "2022-02-05T13:04:36.468Z"
   },
   {
    "duration": 14,
    "start_time": "2022-02-05T13:04:36.560Z"
   },
   {
    "duration": 4,
    "start_time": "2022-02-05T13:04:36.576Z"
   },
   {
    "duration": 49,
    "start_time": "2022-02-05T13:04:36.583Z"
   },
   {
    "duration": 16,
    "start_time": "2022-02-05T13:04:36.634Z"
   },
   {
    "duration": 43,
    "start_time": "2022-02-05T13:04:36.652Z"
   },
   {
    "duration": 70,
    "start_time": "2022-02-05T13:04:36.697Z"
   },
   {
    "duration": 6,
    "start_time": "2022-02-05T13:04:36.769Z"
   },
   {
    "duration": 26,
    "start_time": "2022-02-05T13:04:36.777Z"
   },
   {
    "duration": 38,
    "start_time": "2022-02-05T13:04:36.805Z"
   },
   {
    "duration": 18,
    "start_time": "2022-02-05T13:04:36.848Z"
   },
   {
    "duration": 18,
    "start_time": "2022-02-05T13:04:36.869Z"
   },
   {
    "duration": 53,
    "start_time": "2022-02-05T13:04:36.889Z"
   },
   {
    "duration": 18,
    "start_time": "2022-02-05T13:04:36.944Z"
   },
   {
    "duration": 108,
    "start_time": "2022-02-05T13:04:36.964Z"
   },
   {
    "duration": 15,
    "start_time": "2022-02-05T13:04:37.075Z"
   },
   {
    "duration": 14,
    "start_time": "2022-02-05T13:04:37.093Z"
   },
   {
    "duration": 26,
    "start_time": "2022-02-05T13:04:37.109Z"
   },
   {
    "duration": 341,
    "start_time": "2022-02-05T13:04:37.137Z"
   },
   {
    "duration": 319,
    "start_time": "2022-02-05T13:04:37.161Z"
   },
   {
    "duration": 314,
    "start_time": "2022-02-05T13:04:37.167Z"
   },
   {
    "duration": 313,
    "start_time": "2022-02-05T13:04:37.170Z"
   },
   {
    "duration": 311,
    "start_time": "2022-02-05T13:04:37.173Z"
   },
   {
    "duration": 309,
    "start_time": "2022-02-05T13:04:37.176Z"
   },
   {
    "duration": 305,
    "start_time": "2022-02-05T13:04:37.182Z"
   },
   {
    "duration": 302,
    "start_time": "2022-02-05T13:04:37.186Z"
   },
   {
    "duration": 28,
    "start_time": "2022-02-05T13:05:50.318Z"
   },
   {
    "duration": 16,
    "start_time": "2022-02-05T13:07:40.793Z"
   },
   {
    "duration": 31,
    "start_time": "2022-02-05T13:08:38.015Z"
   },
   {
    "duration": 28,
    "start_time": "2022-02-05T13:10:18.641Z"
   },
   {
    "duration": 23,
    "start_time": "2022-02-05T13:10:45.719Z"
   },
   {
    "duration": 17,
    "start_time": "2022-02-05T13:11:04.647Z"
   },
   {
    "duration": 12,
    "start_time": "2022-02-05T13:11:11.412Z"
   },
   {
    "duration": 28,
    "start_time": "2022-02-05T13:12:59.369Z"
   },
   {
    "duration": 26,
    "start_time": "2022-02-05T13:17:12.464Z"
   },
   {
    "duration": 25,
    "start_time": "2022-02-05T13:18:18.723Z"
   },
   {
    "duration": 27,
    "start_time": "2022-02-05T13:18:59.526Z"
   },
   {
    "duration": 27,
    "start_time": "2022-02-05T13:19:25.081Z"
   },
   {
    "duration": 15,
    "start_time": "2022-02-05T13:20:09.781Z"
   },
   {
    "duration": 12,
    "start_time": "2022-02-05T13:20:10.646Z"
   },
   {
    "duration": 6,
    "start_time": "2022-02-05T13:20:17.089Z"
   },
   {
    "duration": 30,
    "start_time": "2022-02-05T13:20:20.606Z"
   },
   {
    "duration": 29,
    "start_time": "2022-02-05T13:20:27.983Z"
   },
   {
    "duration": 732,
    "start_time": "2022-02-05T13:26:40.142Z"
   },
   {
    "duration": 189,
    "start_time": "2022-02-05T13:26:40.877Z"
   },
   {
    "duration": 24,
    "start_time": "2022-02-05T13:26:41.069Z"
   },
   {
    "duration": 46,
    "start_time": "2022-02-05T13:26:41.096Z"
   },
   {
    "duration": 5,
    "start_time": "2022-02-05T13:26:41.145Z"
   },
   {
    "duration": 34,
    "start_time": "2022-02-05T13:26:41.152Z"
   },
   {
    "duration": 6,
    "start_time": "2022-02-05T13:26:41.189Z"
   },
   {
    "duration": 60,
    "start_time": "2022-02-05T13:26:41.197Z"
   },
   {
    "duration": 23,
    "start_time": "2022-02-05T13:26:41.261Z"
   },
   {
    "duration": 49,
    "start_time": "2022-02-05T13:26:41.287Z"
   },
   {
    "duration": 96,
    "start_time": "2022-02-05T13:26:41.338Z"
   },
   {
    "duration": 111,
    "start_time": "2022-02-05T13:26:41.436Z"
   },
   {
    "duration": 85,
    "start_time": "2022-02-05T13:26:41.549Z"
   },
   {
    "duration": 16,
    "start_time": "2022-02-05T13:26:41.637Z"
   },
   {
    "duration": 3,
    "start_time": "2022-02-05T13:26:41.656Z"
   },
   {
    "duration": 20,
    "start_time": "2022-02-05T13:26:41.661Z"
   },
   {
    "duration": 13,
    "start_time": "2022-02-05T13:26:41.683Z"
   },
   {
    "duration": 43,
    "start_time": "2022-02-05T13:26:41.732Z"
   },
   {
    "duration": 60,
    "start_time": "2022-02-05T13:26:41.777Z"
   },
   {
    "duration": 5,
    "start_time": "2022-02-05T13:26:41.839Z"
   },
   {
    "duration": 27,
    "start_time": "2022-02-05T13:26:41.847Z"
   },
   {
    "duration": 20,
    "start_time": "2022-02-05T13:26:41.877Z"
   },
   {
    "duration": 48,
    "start_time": "2022-02-05T13:26:41.899Z"
   },
   {
    "duration": 19,
    "start_time": "2022-02-05T13:26:41.950Z"
   },
   {
    "duration": 22,
    "start_time": "2022-02-05T13:26:41.972Z"
   },
   {
    "duration": 56,
    "start_time": "2022-02-05T13:26:41.997Z"
   },
   {
    "duration": 120,
    "start_time": "2022-02-05T13:26:42.058Z"
   },
   {
    "duration": 17,
    "start_time": "2022-02-05T13:26:42.182Z"
   },
   {
    "duration": 30,
    "start_time": "2022-02-05T13:26:42.202Z"
   },
   {
    "duration": 5,
    "start_time": "2022-02-05T13:26:42.235Z"
   },
   {
    "duration": 34,
    "start_time": "2022-02-05T13:26:42.242Z"
   },
   {
    "duration": 27,
    "start_time": "2022-02-05T13:26:42.278Z"
   },
   {
    "duration": 46,
    "start_time": "2022-02-05T13:26:42.307Z"
   },
   {
    "duration": 24,
    "start_time": "2022-02-05T13:26:42.355Z"
   },
   {
    "duration": 3,
    "start_time": "2022-02-05T13:26:42.382Z"
   },
   {
    "duration": 6,
    "start_time": "2022-02-05T13:26:42.387Z"
   },
   {
    "duration": 38,
    "start_time": "2022-02-05T13:26:42.396Z"
   },
   {
    "duration": 6,
    "start_time": "2022-02-05T13:26:42.437Z"
   },
   {
    "duration": 29,
    "start_time": "2022-02-05T13:52:21.248Z"
   },
   {
    "duration": 34,
    "start_time": "2022-02-05T13:52:52.945Z"
   },
   {
    "duration": 30,
    "start_time": "2022-02-05T13:54:14.882Z"
   },
   {
    "duration": 354,
    "start_time": "2022-02-05T13:55:35.474Z"
   },
   {
    "duration": 40,
    "start_time": "2022-02-05T13:55:44.306Z"
   },
   {
    "duration": 18,
    "start_time": "2022-02-05T13:56:24.658Z"
   },
   {
    "duration": 37,
    "start_time": "2022-02-05T13:56:41.023Z"
   },
   {
    "duration": 14,
    "start_time": "2022-02-05T13:57:29.930Z"
   },
   {
    "duration": 24,
    "start_time": "2022-02-05T14:11:08.841Z"
   },
   {
    "duration": 14,
    "start_time": "2022-02-05T14:11:44.212Z"
   },
   {
    "duration": 6,
    "start_time": "2022-02-05T14:12:45.618Z"
   },
   {
    "duration": 29,
    "start_time": "2022-02-05T14:12:50.516Z"
   },
   {
    "duration": 39,
    "start_time": "2022-02-05T14:12:59.074Z"
   },
   {
    "duration": 32,
    "start_time": "2022-02-05T14:13:07.144Z"
   },
   {
    "duration": 28,
    "start_time": "2022-02-05T14:13:11.413Z"
   },
   {
    "duration": 30,
    "start_time": "2022-02-05T14:13:16.431Z"
   },
   {
    "duration": 38,
    "start_time": "2022-02-05T14:13:23.734Z"
   },
   {
    "duration": 37,
    "start_time": "2022-02-05T14:13:29.571Z"
   },
   {
    "duration": 6,
    "start_time": "2022-02-05T14:13:51.045Z"
   },
   {
    "duration": 27,
    "start_time": "2022-02-05T14:13:55.749Z"
   },
   {
    "duration": 5,
    "start_time": "2022-02-05T21:27:28.413Z"
   },
   {
    "duration": 337,
    "start_time": "2022-02-05T21:27:35.447Z"
   },
   {
    "duration": 298,
    "start_time": "2022-02-05T21:27:51.829Z"
   },
   {
    "duration": 246,
    "start_time": "2022-02-05T21:30:25.957Z"
   },
   {
    "duration": 257,
    "start_time": "2022-02-05T21:30:43.457Z"
   },
   {
    "duration": 641,
    "start_time": "2022-02-05T21:30:56.012Z"
   },
   {
    "duration": 151,
    "start_time": "2022-02-05T21:30:56.655Z"
   },
   {
    "duration": 17,
    "start_time": "2022-02-05T21:30:56.808Z"
   },
   {
    "duration": 30,
    "start_time": "2022-02-05T21:30:56.827Z"
   },
   {
    "duration": 7,
    "start_time": "2022-02-05T21:30:56.859Z"
   },
   {
    "duration": 29,
    "start_time": "2022-02-05T21:30:56.867Z"
   },
   {
    "duration": 21,
    "start_time": "2022-02-05T21:30:56.899Z"
   },
   {
    "duration": 35,
    "start_time": "2022-02-05T21:30:56.923Z"
   },
   {
    "duration": 27,
    "start_time": "2022-02-05T21:30:56.960Z"
   },
   {
    "duration": 30,
    "start_time": "2022-02-05T21:30:56.989Z"
   },
   {
    "duration": 70,
    "start_time": "2022-02-05T21:30:57.021Z"
   },
   {
    "duration": 83,
    "start_time": "2022-02-05T21:30:57.092Z"
   },
   {
    "duration": 64,
    "start_time": "2022-02-05T21:30:57.176Z"
   },
   {
    "duration": 10,
    "start_time": "2022-02-05T21:30:57.241Z"
   },
   {
    "duration": 3,
    "start_time": "2022-02-05T21:30:57.253Z"
   },
   {
    "duration": 22,
    "start_time": "2022-02-05T21:30:57.257Z"
   },
   {
    "duration": 13,
    "start_time": "2022-02-05T21:30:57.280Z"
   },
   {
    "duration": 44,
    "start_time": "2022-02-05T21:30:57.295Z"
   },
   {
    "duration": 34,
    "start_time": "2022-02-05T21:30:57.340Z"
   },
   {
    "duration": 4,
    "start_time": "2022-02-05T21:30:57.375Z"
   },
   {
    "duration": 39,
    "start_time": "2022-02-05T21:30:57.380Z"
   },
   {
    "duration": 17,
    "start_time": "2022-02-05T21:30:57.421Z"
   },
   {
    "duration": 16,
    "start_time": "2022-02-05T21:30:57.442Z"
   },
   {
    "duration": 15,
    "start_time": "2022-02-05T21:30:57.460Z"
   },
   {
    "duration": 49,
    "start_time": "2022-02-05T21:30:57.477Z"
   },
   {
    "duration": 17,
    "start_time": "2022-02-05T21:30:57.527Z"
   },
   {
    "duration": 95,
    "start_time": "2022-02-05T21:30:57.546Z"
   },
   {
    "duration": 12,
    "start_time": "2022-02-05T21:30:57.643Z"
   },
   {
    "duration": 13,
    "start_time": "2022-02-05T21:30:57.657Z"
   },
   {
    "duration": 5,
    "start_time": "2022-02-05T21:30:57.671Z"
   },
   {
    "duration": 42,
    "start_time": "2022-02-05T21:30:57.677Z"
   },
   {
    "duration": 14,
    "start_time": "2022-02-05T21:30:57.721Z"
   },
   {
    "duration": 18,
    "start_time": "2022-02-05T21:30:57.737Z"
   },
   {
    "duration": 12,
    "start_time": "2022-02-05T21:30:57.757Z"
   },
   {
    "duration": 2,
    "start_time": "2022-02-05T21:30:57.771Z"
   },
   {
    "duration": 9,
    "start_time": "2022-02-05T21:30:57.775Z"
   },
   {
    "duration": 5,
    "start_time": "2022-02-05T21:30:57.786Z"
   },
   {
    "duration": 14,
    "start_time": "2022-02-05T21:30:57.819Z"
   },
   {
    "duration": 11,
    "start_time": "2022-02-05T21:31:22.902Z"
   },
   {
    "duration": 24,
    "start_time": "2022-02-05T21:31:29.886Z"
   },
   {
    "duration": 4,
    "start_time": "2022-02-05T21:31:36.715Z"
   },
   {
    "duration": 23,
    "start_time": "2022-02-05T21:31:43.214Z"
   },
   {
    "duration": 5,
    "start_time": "2022-02-05T21:31:51.667Z"
   },
   {
    "duration": 21,
    "start_time": "2022-02-05T21:31:57.224Z"
   },
   {
    "duration": 22,
    "start_time": "2022-02-05T21:32:06.924Z"
   },
   {
    "duration": 2,
    "start_time": "2022-02-05T21:32:25.887Z"
   },
   {
    "duration": 160,
    "start_time": "2022-02-05T21:32:30.961Z"
   },
   {
    "duration": 10,
    "start_time": "2022-02-05T21:32:40.370Z"
   },
   {
    "duration": 25,
    "start_time": "2022-02-05T21:32:46.253Z"
   },
   {
    "duration": 4,
    "start_time": "2022-02-05T21:32:53.365Z"
   },
   {
    "duration": 21,
    "start_time": "2022-02-05T21:33:00.967Z"
   },
   {
    "duration": 4,
    "start_time": "2022-02-05T21:33:04.575Z"
   },
   {
    "duration": 26,
    "start_time": "2022-02-05T21:33:11.511Z"
   },
   {
    "duration": 20,
    "start_time": "2022-02-05T21:33:20.059Z"
   },
   {
    "duration": 23,
    "start_time": "2022-02-05T21:33:23.649Z"
   },
   {
    "duration": 61,
    "start_time": "2022-02-05T21:33:31.704Z"
   },
   {
    "duration": 65,
    "start_time": "2022-02-05T21:33:38.926Z"
   },
   {
    "duration": 52,
    "start_time": "2022-02-05T21:33:42.072Z"
   },
   {
    "duration": 9,
    "start_time": "2022-02-05T21:33:47.403Z"
   },
   {
    "duration": 3,
    "start_time": "2022-02-05T21:33:55.696Z"
   },
   {
    "duration": 10,
    "start_time": "2022-02-05T21:33:59.920Z"
   },
   {
    "duration": 11,
    "start_time": "2022-02-05T21:34:05.455Z"
   },
   {
    "duration": 35,
    "start_time": "2022-02-05T21:34:25.718Z"
   },
   {
    "duration": 32,
    "start_time": "2022-02-05T21:34:42.821Z"
   },
   {
    "duration": 4,
    "start_time": "2022-02-05T21:34:54.666Z"
   },
   {
    "duration": 18,
    "start_time": "2022-02-05T21:35:01.079Z"
   },
   {
    "duration": 16,
    "start_time": "2022-02-05T21:35:06.154Z"
   },
   {
    "duration": 16,
    "start_time": "2022-02-05T21:35:08.175Z"
   },
   {
    "duration": 17,
    "start_time": "2022-02-05T21:35:13.889Z"
   },
   {
    "duration": 16,
    "start_time": "2022-02-05T21:35:18.619Z"
   },
   {
    "duration": 20,
    "start_time": "2022-02-05T21:35:22.474Z"
   },
   {
    "duration": 17,
    "start_time": "2022-02-05T21:35:28.093Z"
   },
   {
    "duration": 78,
    "start_time": "2022-02-05T21:35:33.984Z"
   },
   {
    "duration": 16,
    "start_time": "2022-02-05T21:35:42.906Z"
   },
   {
    "duration": 15,
    "start_time": "2022-02-05T21:35:46.581Z"
   },
   {
    "duration": 4,
    "start_time": "2022-02-05T21:35:57.330Z"
   },
   {
    "duration": 21,
    "start_time": "2022-02-05T21:36:11.644Z"
   },
   {
    "duration": 15,
    "start_time": "2022-02-05T21:36:18.873Z"
   },
   {
    "duration": 18,
    "start_time": "2022-02-05T21:36:28.577Z"
   },
   {
    "duration": 14,
    "start_time": "2022-02-05T21:36:32.885Z"
   },
   {
    "duration": 78,
    "start_time": "2022-02-05T22:10:53.399Z"
   },
   {
    "duration": 71,
    "start_time": "2022-02-05T22:11:42.067Z"
   },
   {
    "duration": 623,
    "start_time": "2022-02-06T08:48:27.020Z"
   },
   {
    "duration": 146,
    "start_time": "2022-02-06T08:48:27.645Z"
   },
   {
    "duration": 19,
    "start_time": "2022-02-06T08:48:27.793Z"
   },
   {
    "duration": 26,
    "start_time": "2022-02-06T08:48:27.814Z"
   },
   {
    "duration": 4,
    "start_time": "2022-02-06T08:48:27.842Z"
   },
   {
    "duration": 26,
    "start_time": "2022-02-06T08:48:27.847Z"
   },
   {
    "duration": 4,
    "start_time": "2022-02-06T08:48:27.898Z"
   },
   {
    "duration": 26,
    "start_time": "2022-02-06T08:48:27.905Z"
   },
   {
    "duration": 17,
    "start_time": "2022-02-06T08:48:27.934Z"
   },
   {
    "duration": 46,
    "start_time": "2022-02-06T08:48:27.953Z"
   },
   {
    "duration": 62,
    "start_time": "2022-02-06T08:48:28.001Z"
   },
   {
    "duration": 94,
    "start_time": "2022-02-06T08:48:28.064Z"
   },
   {
    "duration": 66,
    "start_time": "2022-02-06T08:48:28.160Z"
   },
   {
    "duration": 10,
    "start_time": "2022-02-06T08:48:28.229Z"
   },
   {
    "duration": 11,
    "start_time": "2022-02-06T08:48:28.241Z"
   },
   {
    "duration": 32,
    "start_time": "2022-02-06T08:48:28.254Z"
   },
   {
    "duration": 28,
    "start_time": "2022-02-06T08:48:28.288Z"
   },
   {
    "duration": 33,
    "start_time": "2022-02-06T08:48:28.318Z"
   },
   {
    "duration": 48,
    "start_time": "2022-02-06T08:48:28.352Z"
   },
   {
    "duration": 4,
    "start_time": "2022-02-06T08:48:28.402Z"
   },
   {
    "duration": 36,
    "start_time": "2022-02-06T08:48:28.407Z"
   },
   {
    "duration": 15,
    "start_time": "2022-02-06T08:48:28.445Z"
   },
   {
    "duration": 15,
    "start_time": "2022-02-06T08:48:28.463Z"
   },
   {
    "duration": 25,
    "start_time": "2022-02-06T08:48:28.480Z"
   },
   {
    "duration": 18,
    "start_time": "2022-02-06T08:48:28.506Z"
   },
   {
    "duration": 15,
    "start_time": "2022-02-06T08:48:28.526Z"
   },
   {
    "duration": 97,
    "start_time": "2022-02-06T08:48:28.542Z"
   },
   {
    "duration": 10,
    "start_time": "2022-02-06T08:48:28.641Z"
   },
   {
    "duration": 8,
    "start_time": "2022-02-06T08:48:28.653Z"
   },
   {
    "duration": 4,
    "start_time": "2022-02-06T08:48:28.663Z"
   },
   {
    "duration": 43,
    "start_time": "2022-02-06T08:48:28.668Z"
   },
   {
    "duration": 13,
    "start_time": "2022-02-06T08:48:28.712Z"
   },
   {
    "duration": 17,
    "start_time": "2022-02-06T08:48:28.727Z"
   },
   {
    "duration": 12,
    "start_time": "2022-02-06T08:48:28.746Z"
   },
   {
    "duration": 2,
    "start_time": "2022-02-06T08:48:28.760Z"
   },
   {
    "duration": 36,
    "start_time": "2022-02-06T08:48:28.763Z"
   },
   {
    "duration": 6,
    "start_time": "2022-02-06T08:48:28.801Z"
   },
   {
    "duration": 5,
    "start_time": "2022-02-06T08:48:28.808Z"
   },
   {
    "duration": 322,
    "start_time": "2022-02-06T08:49:44.622Z"
   },
   {
    "duration": 637,
    "start_time": "2022-02-06T08:50:01.422Z"
   },
   {
    "duration": 158,
    "start_time": "2022-02-06T08:50:02.061Z"
   },
   {
    "duration": 19,
    "start_time": "2022-02-06T08:50:02.221Z"
   },
   {
    "duration": 35,
    "start_time": "2022-02-06T08:50:02.242Z"
   },
   {
    "duration": 21,
    "start_time": "2022-02-06T08:50:02.279Z"
   },
   {
    "duration": 33,
    "start_time": "2022-02-06T08:50:02.302Z"
   },
   {
    "duration": 9,
    "start_time": "2022-02-06T08:50:02.336Z"
   },
   {
    "duration": 44,
    "start_time": "2022-02-06T08:50:02.347Z"
   },
   {
    "duration": 20,
    "start_time": "2022-02-06T08:50:02.393Z"
   },
   {
    "duration": 24,
    "start_time": "2022-02-06T08:50:02.415Z"
   },
   {
    "duration": 80,
    "start_time": "2022-02-06T08:50:02.441Z"
   },
   {
    "duration": 83,
    "start_time": "2022-02-06T08:50:02.522Z"
   },
   {
    "duration": 57,
    "start_time": "2022-02-06T08:50:02.607Z"
   },
   {
    "duration": 10,
    "start_time": "2022-02-06T08:50:02.665Z"
   },
   {
    "duration": 23,
    "start_time": "2022-02-06T08:50:02.677Z"
   },
   {
    "duration": 28,
    "start_time": "2022-02-06T08:50:02.702Z"
   },
   {
    "duration": 45,
    "start_time": "2022-02-06T08:50:02.732Z"
   },
   {
    "duration": 46,
    "start_time": "2022-02-06T08:50:02.779Z"
   },
   {
    "duration": 33,
    "start_time": "2022-02-06T08:50:02.827Z"
   },
   {
    "duration": 4,
    "start_time": "2022-02-06T08:50:02.861Z"
   },
   {
    "duration": 48,
    "start_time": "2022-02-06T08:50:02.867Z"
   },
   {
    "duration": 15,
    "start_time": "2022-02-06T08:50:02.917Z"
   },
   {
    "duration": 16,
    "start_time": "2022-02-06T08:50:02.935Z"
   },
   {
    "duration": 20,
    "start_time": "2022-02-06T08:50:02.953Z"
   },
   {
    "duration": 37,
    "start_time": "2022-02-06T08:50:02.975Z"
   },
   {
    "duration": 17,
    "start_time": "2022-02-06T08:50:03.013Z"
   },
   {
    "duration": 99,
    "start_time": "2022-02-06T08:50:03.032Z"
   },
   {
    "duration": 10,
    "start_time": "2022-02-06T08:50:03.133Z"
   },
   {
    "duration": 21,
    "start_time": "2022-02-06T08:50:03.145Z"
   },
   {
    "duration": 9,
    "start_time": "2022-02-06T08:50:03.168Z"
   },
   {
    "duration": 37,
    "start_time": "2022-02-06T08:50:03.179Z"
   },
   {
    "duration": 14,
    "start_time": "2022-02-06T08:50:03.218Z"
   },
   {
    "duration": 20,
    "start_time": "2022-02-06T08:50:03.233Z"
   },
   {
    "duration": 14,
    "start_time": "2022-02-06T08:50:03.254Z"
   },
   {
    "duration": 29,
    "start_time": "2022-02-06T08:50:03.270Z"
   },
   {
    "duration": 11,
    "start_time": "2022-02-06T08:50:03.301Z"
   },
   {
    "duration": 36,
    "start_time": "2022-02-06T08:50:03.314Z"
   },
   {
    "duration": 10,
    "start_time": "2022-02-06T08:50:03.353Z"
   },
   {
    "duration": 29,
    "start_time": "2022-02-06T08:51:14.031Z"
   },
   {
    "duration": 318,
    "start_time": "2022-02-06T08:52:06.293Z"
   },
   {
    "duration": 11,
    "start_time": "2022-02-06T08:52:20.175Z"
   },
   {
    "duration": 29,
    "start_time": "2022-02-06T08:52:57.884Z"
   },
   {
    "duration": 11,
    "start_time": "2022-02-06T08:56:24.518Z"
   },
   {
    "duration": 9,
    "start_time": "2022-02-06T08:56:57.094Z"
   },
   {
    "duration": 5,
    "start_time": "2022-02-06T08:58:00.145Z"
   },
   {
    "duration": 7,
    "start_time": "2022-02-06T08:59:41.142Z"
   },
   {
    "duration": 4,
    "start_time": "2022-02-06T09:00:23.333Z"
   },
   {
    "duration": 5,
    "start_time": "2022-02-06T09:00:46.711Z"
   },
   {
    "duration": 5,
    "start_time": "2022-02-06T09:00:55.514Z"
   },
   {
    "duration": 5,
    "start_time": "2022-02-06T09:01:00.874Z"
   },
   {
    "duration": 10,
    "start_time": "2022-02-06T09:45:03.427Z"
   },
   {
    "duration": 10,
    "start_time": "2022-02-06T09:52:27.077Z"
   },
   {
    "duration": 11,
    "start_time": "2022-02-06T09:53:10.853Z"
   },
   {
    "duration": 10,
    "start_time": "2022-02-06T09:53:46.820Z"
   },
   {
    "duration": 32,
    "start_time": "2022-02-06T09:57:22.689Z"
   },
   {
    "duration": 32,
    "start_time": "2022-02-06T09:58:35.079Z"
   },
   {
    "duration": 5,
    "start_time": "2022-02-06T10:05:40.608Z"
   },
   {
    "duration": 79,
    "start_time": "2022-02-06T10:12:03.381Z"
   },
   {
    "duration": 4,
    "start_time": "2022-02-06T10:26:10.682Z"
   },
   {
    "duration": 671,
    "start_time": "2022-02-06T10:29:18.771Z"
   },
   {
    "duration": 150,
    "start_time": "2022-02-06T10:29:19.444Z"
   },
   {
    "duration": 19,
    "start_time": "2022-02-06T10:29:19.596Z"
   },
   {
    "duration": 54,
    "start_time": "2022-02-06T10:29:19.617Z"
   },
   {
    "duration": 37,
    "start_time": "2022-02-06T10:29:19.673Z"
   },
   {
    "duration": 57,
    "start_time": "2022-02-06T10:29:19.712Z"
   },
   {
    "duration": 21,
    "start_time": "2022-02-06T10:29:19.771Z"
   },
   {
    "duration": 39,
    "start_time": "2022-02-06T10:29:19.794Z"
   },
   {
    "duration": 40,
    "start_time": "2022-02-06T10:29:19.835Z"
   },
   {
    "duration": 48,
    "start_time": "2022-02-06T10:29:19.877Z"
   },
   {
    "duration": 83,
    "start_time": "2022-02-06T10:29:19.926Z"
   },
   {
    "duration": 77,
    "start_time": "2022-02-06T10:29:20.010Z"
   },
   {
    "duration": 57,
    "start_time": "2022-02-06T10:29:20.098Z"
   },
   {
    "duration": 9,
    "start_time": "2022-02-06T10:29:20.157Z"
   },
   {
    "duration": 25,
    "start_time": "2022-02-06T10:29:20.168Z"
   },
   {
    "duration": 43,
    "start_time": "2022-02-06T10:29:20.195Z"
   },
   {
    "duration": 22,
    "start_time": "2022-02-06T10:29:20.239Z"
   },
   {
    "duration": 51,
    "start_time": "2022-02-06T10:29:20.263Z"
   },
   {
    "duration": 34,
    "start_time": "2022-02-06T10:29:20.315Z"
   },
   {
    "duration": 4,
    "start_time": "2022-02-06T10:29:20.350Z"
   },
   {
    "duration": 63,
    "start_time": "2022-02-06T10:29:20.356Z"
   },
   {
    "duration": 28,
    "start_time": "2022-02-06T10:29:20.421Z"
   },
   {
    "duration": 40,
    "start_time": "2022-02-06T10:29:20.453Z"
   },
   {
    "duration": 34,
    "start_time": "2022-02-06T10:29:20.495Z"
   },
   {
    "duration": 46,
    "start_time": "2022-02-06T10:29:20.531Z"
   },
   {
    "duration": 43,
    "start_time": "2022-02-06T10:29:20.578Z"
   },
   {
    "duration": 90,
    "start_time": "2022-02-06T10:29:20.622Z"
   },
   {
    "duration": 11,
    "start_time": "2022-02-06T10:29:20.714Z"
   },
   {
    "duration": 28,
    "start_time": "2022-02-06T10:29:20.727Z"
   },
   {
    "duration": 25,
    "start_time": "2022-02-06T10:29:20.757Z"
   },
   {
    "duration": 56,
    "start_time": "2022-02-06T10:29:20.784Z"
   },
   {
    "duration": 30,
    "start_time": "2022-02-06T10:29:20.842Z"
   },
   {
    "duration": 42,
    "start_time": "2022-02-06T10:29:20.874Z"
   },
   {
    "duration": 25,
    "start_time": "2022-02-06T10:29:20.918Z"
   },
   {
    "duration": 25,
    "start_time": "2022-02-06T10:29:20.945Z"
   },
   {
    "duration": 38,
    "start_time": "2022-02-06T10:29:20.971Z"
   },
   {
    "duration": 28,
    "start_time": "2022-02-06T10:29:21.011Z"
   },
   {
    "duration": 14,
    "start_time": "2022-02-06T10:29:21.041Z"
   },
   {
    "duration": 306,
    "start_time": "2022-02-13T08:12:47.058Z"
   },
   {
    "duration": 959,
    "start_time": "2022-02-13T08:12:58.815Z"
   },
   {
    "duration": 186,
    "start_time": "2022-02-13T08:12:59.777Z"
   },
   {
    "duration": 31,
    "start_time": "2022-02-13T08:12:59.966Z"
   },
   {
    "duration": 39,
    "start_time": "2022-02-13T08:13:00.001Z"
   },
   {
    "duration": 8,
    "start_time": "2022-02-13T08:13:00.071Z"
   },
   {
    "duration": 29,
    "start_time": "2022-02-13T08:13:00.082Z"
   },
   {
    "duration": 9,
    "start_time": "2022-02-13T08:13:00.114Z"
   },
   {
    "duration": 64,
    "start_time": "2022-02-13T08:13:00.129Z"
   },
   {
    "duration": 24,
    "start_time": "2022-02-13T08:13:00.196Z"
   },
   {
    "duration": 55,
    "start_time": "2022-02-13T08:13:00.223Z"
   },
   {
    "duration": 110,
    "start_time": "2022-02-13T08:13:00.281Z"
   },
   {
    "duration": 114,
    "start_time": "2022-02-13T08:13:00.394Z"
   },
   {
    "duration": 90,
    "start_time": "2022-02-13T08:13:00.511Z"
   },
   {
    "duration": 14,
    "start_time": "2022-02-13T08:13:00.603Z"
   },
   {
    "duration": 38,
    "start_time": "2022-02-13T08:13:00.620Z"
   },
   {
    "duration": 46,
    "start_time": "2022-02-13T08:13:00.661Z"
   },
   {
    "duration": 48,
    "start_time": "2022-02-13T08:13:00.710Z"
   },
   {
    "duration": 70,
    "start_time": "2022-02-13T08:13:00.760Z"
   },
   {
    "duration": 46,
    "start_time": "2022-02-13T08:13:00.832Z"
   },
   {
    "duration": 5,
    "start_time": "2022-02-13T08:13:00.881Z"
   },
   {
    "duration": 38,
    "start_time": "2022-02-13T08:13:00.888Z"
   },
   {
    "duration": 47,
    "start_time": "2022-02-13T08:13:00.930Z"
   },
   {
    "duration": 28,
    "start_time": "2022-02-13T08:13:00.984Z"
   },
   {
    "duration": 25,
    "start_time": "2022-02-13T08:13:01.015Z"
   },
   {
    "duration": 55,
    "start_time": "2022-02-13T08:13:01.043Z"
   },
   {
    "duration": 27,
    "start_time": "2022-02-13T08:13:01.101Z"
   },
   {
    "duration": 150,
    "start_time": "2022-02-13T08:13:01.132Z"
   },
   {
    "duration": 20,
    "start_time": "2022-02-13T08:13:01.285Z"
   },
   {
    "duration": 16,
    "start_time": "2022-02-13T08:13:01.308Z"
   },
   {
    "duration": 20,
    "start_time": "2022-02-13T08:13:01.328Z"
   },
   {
    "duration": 64,
    "start_time": "2022-02-13T08:13:01.351Z"
   },
   {
    "duration": 20,
    "start_time": "2022-02-13T08:13:01.418Z"
   },
   {
    "duration": 77,
    "start_time": "2022-02-13T08:13:01.440Z"
   },
   {
    "duration": 22,
    "start_time": "2022-02-13T08:13:01.520Z"
   },
   {
    "duration": 13,
    "start_time": "2022-02-13T08:13:01.544Z"
   },
   {
    "duration": 30,
    "start_time": "2022-02-13T08:13:01.560Z"
   },
   {
    "duration": 18,
    "start_time": "2022-02-13T08:13:01.593Z"
   },
   {
    "duration": 13,
    "start_time": "2022-02-13T08:13:01.613Z"
   },
   {
    "duration": 5,
    "start_time": "2022-02-13T08:17:04.441Z"
   },
   {
    "duration": 5,
    "start_time": "2022-02-13T08:19:12.154Z"
   },
   {
    "duration": 30,
    "start_time": "2022-02-13T08:19:45.221Z"
   },
   {
    "duration": 32,
    "start_time": "2022-02-13T08:21:29.126Z"
   },
   {
    "duration": 84,
    "start_time": "2022-02-13T08:22:05.644Z"
   },
   {
    "duration": 79,
    "start_time": "2022-02-13T08:23:12.928Z"
   },
   {
    "duration": 4,
    "start_time": "2022-02-13T08:24:42.294Z"
   },
   {
    "duration": 191,
    "start_time": "2022-02-13T08:24:42.301Z"
   },
   {
    "duration": 17,
    "start_time": "2022-02-13T08:24:42.495Z"
   },
   {
    "duration": 57,
    "start_time": "2022-02-13T08:24:42.516Z"
   },
   {
    "duration": 8,
    "start_time": "2022-02-13T08:24:42.576Z"
   },
   {
    "duration": 26,
    "start_time": "2022-02-13T08:24:42.587Z"
   },
   {
    "duration": 5,
    "start_time": "2022-02-13T08:24:42.616Z"
   },
   {
    "duration": 61,
    "start_time": "2022-02-13T08:24:42.624Z"
   },
   {
    "duration": 23,
    "start_time": "2022-02-13T08:24:42.687Z"
   },
   {
    "duration": 33,
    "start_time": "2022-02-13T08:24:42.713Z"
   },
   {
    "duration": 83,
    "start_time": "2022-02-13T08:24:53.281Z"
   },
   {
    "duration": 93,
    "start_time": "2022-02-13T08:25:13.193Z"
   },
   {
    "duration": 77,
    "start_time": "2022-02-13T08:25:17.554Z"
   },
   {
    "duration": 14,
    "start_time": "2022-02-13T08:27:03.575Z"
   },
   {
    "duration": 97,
    "start_time": "2022-02-13T08:29:35.031Z"
   },
   {
    "duration": 57,
    "start_time": "2022-02-13T08:29:46.827Z"
   },
   {
    "duration": 59,
    "start_time": "2022-02-13T08:30:31.201Z"
   },
   {
    "duration": 60,
    "start_time": "2022-02-13T08:34:24.393Z"
   },
   {
    "duration": 4,
    "start_time": "2022-02-13T08:34:47.422Z"
   },
   {
    "duration": 191,
    "start_time": "2022-02-13T08:34:47.429Z"
   },
   {
    "duration": 17,
    "start_time": "2022-02-13T08:34:47.624Z"
   },
   {
    "duration": 56,
    "start_time": "2022-02-13T08:34:47.645Z"
   },
   {
    "duration": 6,
    "start_time": "2022-02-13T08:34:47.704Z"
   },
   {
    "duration": 24,
    "start_time": "2022-02-13T08:34:47.712Z"
   },
   {
    "duration": 31,
    "start_time": "2022-02-13T08:34:47.740Z"
   },
   {
    "duration": 31,
    "start_time": "2022-02-13T08:34:47.773Z"
   },
   {
    "duration": 22,
    "start_time": "2022-02-13T08:34:47.806Z"
   },
   {
    "duration": 58,
    "start_time": "2022-02-13T08:34:47.831Z"
   },
   {
    "duration": 104,
    "start_time": "2022-02-13T08:34:47.892Z"
   },
   {
    "duration": 100,
    "start_time": "2022-02-13T08:34:47.999Z"
   },
   {
    "duration": 83,
    "start_time": "2022-02-13T08:34:48.101Z"
   },
   {
    "duration": 59,
    "start_time": "2022-02-13T08:34:48.186Z"
   },
   {
    "duration": 22,
    "start_time": "2022-02-13T08:34:48.247Z"
   },
   {
    "duration": 16,
    "start_time": "2022-02-13T08:34:48.272Z"
   },
   {
    "duration": 56,
    "start_time": "2022-02-13T08:34:54.002Z"
   },
   {
    "duration": 333,
    "start_time": "2022-02-13T08:39:19.826Z"
   },
   {
    "duration": 16,
    "start_time": "2022-02-13T08:39:35.929Z"
   },
   {
    "duration": 15,
    "start_time": "2022-02-13T08:40:12.546Z"
   },
   {
    "duration": 15,
    "start_time": "2022-02-13T08:40:22.018Z"
   },
   {
    "duration": 92,
    "start_time": "2022-02-13T08:43:30.026Z"
   },
   {
    "duration": 15,
    "start_time": "2022-02-13T08:43:41.632Z"
   },
   {
    "duration": 4,
    "start_time": "2022-02-13T08:56:04.665Z"
   },
   {
    "duration": 225,
    "start_time": "2022-02-13T08:56:04.672Z"
   },
   {
    "duration": 16,
    "start_time": "2022-02-13T08:56:04.900Z"
   },
   {
    "duration": 50,
    "start_time": "2022-02-13T08:56:04.919Z"
   },
   {
    "duration": 5,
    "start_time": "2022-02-13T08:56:04.972Z"
   },
   {
    "duration": 33,
    "start_time": "2022-02-13T08:56:04.979Z"
   },
   {
    "duration": 6,
    "start_time": "2022-02-13T08:56:05.016Z"
   },
   {
    "duration": 58,
    "start_time": "2022-02-13T08:56:05.024Z"
   },
   {
    "duration": 24,
    "start_time": "2022-02-13T08:56:05.084Z"
   },
   {
    "duration": 30,
    "start_time": "2022-02-13T08:56:05.110Z"
   },
   {
    "duration": 84,
    "start_time": "2022-02-13T08:56:05.170Z"
   },
   {
    "duration": 113,
    "start_time": "2022-02-13T08:56:05.256Z"
   },
   {
    "duration": 77,
    "start_time": "2022-02-13T08:56:05.372Z"
   },
   {
    "duration": 77,
    "start_time": "2022-02-13T08:56:05.452Z"
   },
   {
    "duration": 4,
    "start_time": "2022-02-13T08:56:05.532Z"
   },
   {
    "duration": 41,
    "start_time": "2022-02-13T08:56:05.539Z"
   },
   {
    "duration": 61,
    "start_time": "2022-02-13T08:56:05.583Z"
   },
   {
    "duration": 32,
    "start_time": "2022-02-13T08:56:05.647Z"
   },
   {
    "duration": 15,
    "start_time": "2022-02-13T08:56:05.683Z"
   },
   {
    "duration": 5,
    "start_time": "2022-02-13T08:56:05.701Z"
   },
   {
    "duration": 32,
    "start_time": "2022-02-13T08:56:05.709Z"
   },
   {
    "duration": 22,
    "start_time": "2022-02-13T08:56:05.771Z"
   },
   {
    "duration": 21,
    "start_time": "2022-02-13T08:56:05.796Z"
   },
   {
    "duration": 51,
    "start_time": "2022-02-13T08:56:05.820Z"
   },
   {
    "duration": 23,
    "start_time": "2022-02-13T08:56:05.874Z"
   },
   {
    "duration": 21,
    "start_time": "2022-02-13T08:56:05.900Z"
   },
   {
    "duration": 184,
    "start_time": "2022-02-13T08:56:05.923Z"
   },
   {
    "duration": 17,
    "start_time": "2022-02-13T08:56:06.109Z"
   },
   {
    "duration": 13,
    "start_time": "2022-02-13T08:56:06.128Z"
   },
   {
    "duration": 27,
    "start_time": "2022-02-13T08:56:06.144Z"
   },
   {
    "duration": 27,
    "start_time": "2022-02-13T08:56:36.648Z"
   },
   {
    "duration": 17,
    "start_time": "2022-02-13T08:56:49.576Z"
   },
   {
    "duration": 25,
    "start_time": "2022-02-13T08:57:00.210Z"
   },
   {
    "duration": 18,
    "start_time": "2022-02-13T08:57:15.726Z"
   },
   {
    "duration": 13,
    "start_time": "2022-02-13T08:58:11.514Z"
   },
   {
    "duration": 7,
    "start_time": "2022-02-13T08:58:18.083Z"
   },
   {
    "duration": 7,
    "start_time": "2022-02-13T08:58:55.685Z"
   },
   {
    "duration": 7,
    "start_time": "2022-02-13T08:59:38.205Z"
   },
   {
    "duration": 3,
    "start_time": "2022-02-13T09:09:18.870Z"
   },
   {
    "duration": 224,
    "start_time": "2022-02-13T09:09:18.876Z"
   },
   {
    "duration": 18,
    "start_time": "2022-02-13T09:09:19.104Z"
   },
   {
    "duration": 52,
    "start_time": "2022-02-13T09:09:19.125Z"
   },
   {
    "duration": 7,
    "start_time": "2022-02-13T09:09:19.181Z"
   },
   {
    "duration": 33,
    "start_time": "2022-02-13T09:09:19.191Z"
   },
   {
    "duration": 7,
    "start_time": "2022-02-13T09:09:19.229Z"
   },
   {
    "duration": 33,
    "start_time": "2022-02-13T09:09:19.269Z"
   },
   {
    "duration": 27,
    "start_time": "2022-02-13T09:09:19.305Z"
   },
   {
    "duration": 58,
    "start_time": "2022-02-13T09:09:19.334Z"
   },
   {
    "duration": 113,
    "start_time": "2022-02-13T09:09:19.394Z"
   },
   {
    "duration": 109,
    "start_time": "2022-02-13T09:09:19.509Z"
   },
   {
    "duration": 87,
    "start_time": "2022-02-13T09:09:19.620Z"
   },
   {
    "duration": 68,
    "start_time": "2022-02-13T09:09:19.709Z"
   },
   {
    "duration": 3,
    "start_time": "2022-02-13T09:09:19.780Z"
   },
   {
    "duration": 16,
    "start_time": "2022-02-13T09:09:19.786Z"
   },
   {
    "duration": 78,
    "start_time": "2022-02-13T09:09:19.805Z"
   },
   {
    "duration": 15,
    "start_time": "2022-02-13T09:09:19.886Z"
   },
   {
    "duration": 14,
    "start_time": "2022-02-13T09:09:19.906Z"
   },
   {
    "duration": 6,
    "start_time": "2022-02-13T09:09:19.923Z"
   },
   {
    "duration": 23,
    "start_time": "2022-02-13T09:09:19.970Z"
   },
   {
    "duration": 21,
    "start_time": "2022-02-13T09:09:19.995Z"
   },
   {
    "duration": 19,
    "start_time": "2022-02-13T09:09:20.018Z"
   },
   {
    "duration": 19,
    "start_time": "2022-02-13T09:09:20.070Z"
   },
   {
    "duration": 22,
    "start_time": "2022-02-13T09:09:20.092Z"
   },
   {
    "duration": 54,
    "start_time": "2022-02-13T09:09:20.116Z"
   },
   {
    "duration": 140,
    "start_time": "2022-02-13T09:09:20.173Z"
   },
   {
    "duration": 16,
    "start_time": "2022-02-13T09:09:20.316Z"
   },
   {
    "duration": 20,
    "start_time": "2022-02-13T09:09:20.334Z"
   },
   {
    "duration": 14,
    "start_time": "2022-02-13T09:09:20.357Z"
   },
   {
    "duration": 31,
    "start_time": "2022-02-13T09:09:20.374Z"
   },
   {
    "duration": 16,
    "start_time": "2022-02-13T09:09:20.407Z"
   },
   {
    "duration": 52,
    "start_time": "2022-02-13T09:09:20.425Z"
   },
   {
    "duration": 15,
    "start_time": "2022-02-13T09:09:20.480Z"
   },
   {
    "duration": 13,
    "start_time": "2022-02-13T09:09:20.498Z"
   },
   {
    "duration": 7,
    "start_time": "2022-02-13T09:09:20.513Z"
   },
   {
    "duration": 51,
    "start_time": "2022-02-13T09:09:20.522Z"
   },
   {
    "duration": 6,
    "start_time": "2022-02-13T09:09:20.575Z"
   }
  ],
  "colab": {
   "collapsed_sections": [
    "E0vqbgi9ay0H",
    "VUC88oWjTJw2"
   ],
   "name": "yandex_music_project_2021.2.ipynb",
   "provenance": []
  },
  "kernelspec": {
   "display_name": "Python 3 (ipykernel)",
   "language": "python",
   "name": "python3"
  },
  "language_info": {
   "codemirror_mode": {
    "name": "ipython",
    "version": 3
   },
   "file_extension": ".py",
   "mimetype": "text/x-python",
   "name": "python",
   "nbconvert_exporter": "python",
   "pygments_lexer": "ipython3",
   "version": "3.9.7"
  },
  "toc": {
   "base_numbering": 1,
   "nav_menu": {},
   "number_sections": true,
   "sideBar": true,
   "skip_h1_title": true,
   "title_cell": "Table of Contents",
   "title_sidebar": "Contents",
   "toc_cell": false,
   "toc_position": {
    "height": "calc(100% - 180px)",
    "left": "10px",
    "top": "150px",
    "width": "165px"
   },
   "toc_section_display": true,
   "toc_window_display": true
  }
 },
 "nbformat": 4,
 "nbformat_minor": 1
}
